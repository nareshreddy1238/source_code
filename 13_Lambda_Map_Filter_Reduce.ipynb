{
 "cells": [
  {
   "cell_type": "markdown",
   "id": "3172dbdd",
   "metadata": {},
   "source": [
    "# map, filter, lambda, reduce\n",
    "\n",
    "•\tmap applies a function to every item in an iterable.\n",
    "     -> map(function, iterable, ...)  => optional: one or more iterables -> returns map object -> map objects by using list, tuple \n",
    "\n",
    "•\tfilter selects items from an iterable based on a condition.\n",
    "     -> filter(function, iterable(s))\n",
    "     \n",
    "•\tlambda creates anonymous (unnamed) functions for simple operations.\n",
    "     -> lambda arguments : expression\n",
    "     \n",
    "•\treduce cumulatively applies a function to reduce an iterable to a single value.\n",
    "     -> reduce(function, sequence[, initial])\n",
    "     \n",
    "A generator object is an instance of a generator, which is an iterator.\n",
    "generator_expression = (x for x in iterable if condition)\n",
    "generator_object     = filter(function, iterable)-> calling with next()\n",
    "Ex: yield(), iter(), map(), filter(), zip()"
   ]
  },
  {
   "cell_type": "markdown",
   "id": "f8708d56",
   "metadata": {},
   "source": [
    "# 01. lambda, map, filter, reduce example"
   ]
  },
  {
   "cell_type": "code",
   "execution_count": 46,
   "id": "e536aaeb",
   "metadata": {},
   "outputs": [
    {
     "name": "stdout",
     "output_type": "stream",
     "text": [
      "lambda: 10\n",
      "map: [2, 4, 6, 8, 10, 12, 14, 16, 18, 20]\n",
      "filter: [2, 4, 6, 8, 10]\n",
      "reduce: 55\n"
     ]
    }
   ],
   "source": [
    "num = [1,2,3,4,5,6,7,8,9,10]\n",
    "\n",
    "# lambda \n",
    "l = lambda x: x+x\n",
    "print(\"lambda:\",l(5))\n",
    "\n",
    "# map\n",
    "m = list(map(lambda x: x+x, num))\n",
    "print(\"map:\",m)\n",
    "\n",
    "# filter\n",
    "f = list(filter(lambda x: x%2==0, num))\n",
    "print(\"filter:\",f)\n",
    "\n",
    "# reduce\n",
    "from functools import reduce\n",
    "\n",
    "r = reduce(lambda x, y: x + y, num)\n",
    "print(\"reduce:\",r)"
   ]
  },
  {
   "cell_type": "markdown",
   "id": "9cedaa2c",
   "metadata": {},
   "source": [
    "# 02. maps:  function"
   ]
  },
  {
   "cell_type": "code",
   "execution_count": 3,
   "id": "17667c0d",
   "metadata": {},
   "outputs": [
    {
     "name": "stdout",
     "output_type": "stream",
     "text": [
      "[1, 4, 9, 16, 25]\n"
     ]
    }
   ],
   "source": [
    "def square(x):\n",
    "    return x * x\n",
    "\n",
    "numbers = [1, 2, 3, 4, 5]\n",
    "num = map(square, numbers)\n",
    "res = list(num)\n",
    "print(res)"
   ]
  },
  {
   "cell_type": "code",
   "execution_count": 4,
   "id": "ba3f5291",
   "metadata": {},
   "outputs": [
    {
     "data": {
      "text/plain": [
       "[1, 4, 9, 16, 25]"
      ]
     },
     "execution_count": 4,
     "metadata": {},
     "output_type": "execute_result"
    }
   ],
   "source": [
    "# You can also use lambda functions with map() for simple operations without explicitly defining a separate function:\n",
    "numbers = [1, 2, 3, 4, 5]\n",
    "\n",
    "num = list(map(lambda x: x * x, numbers)) \n",
    "num"
   ]
  },
  {
   "cell_type": "markdown",
   "id": "25810217",
   "metadata": {},
   "source": [
    "# 03. adds numbers"
   ]
  },
  {
   "cell_type": "code",
   "execution_count": 6,
   "id": "a1104614",
   "metadata": {},
   "outputs": [
    {
     "name": "stdout",
     "output_type": "stream",
     "text": [
      "[2, 4, 6, 8, 10]\n",
      "[2, 4, 6, 8, 10]\n"
     ]
    }
   ],
   "source": [
    "def adds(x):\n",
    "    return x+x\n",
    "\n",
    "numbers = [1, 2, 3, 4, 5]\n",
    "num = map(adds, numbers)\n",
    "res = list(num)\n",
    "print(res)\n",
    "\n",
    "print(list(map(lambda x: x+x, numbers)))"
   ]
  },
  {
   "cell_type": "markdown",
   "id": "db8ddbbe",
   "metadata": {},
   "source": [
    "# 04. sort list of result"
   ]
  },
  {
   "cell_type": "code",
   "execution_count": 13,
   "id": "86344ebf",
   "metadata": {},
   "outputs": [
    {
     "data": {
      "text/plain": [
       "[('Social', 82), ('English', 88), ('Science', 90), ('Maths', 97)]"
      ]
     },
     "execution_count": 13,
     "metadata": {},
     "output_type": "execute_result"
    }
   ],
   "source": [
    "l = [('English', 88), ('Science', 90), ('Maths', 97), ('Social', 82)]\n",
    "\n",
    "l.sort(key = lambda x: x[1])\n",
    "l"
   ]
  },
  {
   "cell_type": "code",
   "execution_count": 23,
   "id": "d693c3cf",
   "metadata": {},
   "outputs": [
    {
     "data": {
      "text/plain": [
       "[{'make': 'Nokia', 'model': 216, 'color': 'Black'},\n",
       " {'make': 'Samsung', 'model': 7, 'color': 'Blue'},\n",
       " {'make': 'Mi Max', 'model': '2', 'color': 'Gold'}]"
      ]
     },
     "execution_count": 23,
     "metadata": {},
     "output_type": "execute_result"
    }
   ],
   "source": [
    "ls = [{'make':'Nokia', 'model':216, 'color':'Black'}, {'make':'Mi Max', 'model':'2', 'color':'Gold'}, {'make':'Samsung', 'model': 7, 'color':'Blue'}]\n",
    "\n",
    "sorted(ls, key = lambda x: x['color'])   "
   ]
  },
  {
   "cell_type": "markdown",
   "id": "b737ba63",
   "metadata": {},
   "source": [
    "# 05. list of intergers even or odd values"
   ]
  },
  {
   "cell_type": "code",
   "execution_count": 47,
   "id": "dc79b4cd",
   "metadata": {},
   "outputs": [
    {
     "name": "stdout",
     "output_type": "stream",
     "text": [
      "[2, 4, 6, 8, 10]\n",
      "[1, 3, 5, 7, 9]\n"
     ]
    }
   ],
   "source": [
    "l = [1, 2, 3, 4, 5, 6, 7, 8, 9, 10]\n",
    "\n",
    "print(list(filter(lambda x: x%2==0,l)))\n",
    "print(list(filter(lambda x: x%2!=0,l)))"
   ]
  },
  {
   "cell_type": "markdown",
   "id": "3f16503b",
   "metadata": {},
   "source": [
    "# 06. square, cube of each value"
   ]
  },
  {
   "cell_type": "code",
   "execution_count": 48,
   "id": "3e45d5e5",
   "metadata": {},
   "outputs": [
    {
     "name": "stdout",
     "output_type": "stream",
     "text": [
      "Square: [1, 4, 9, 16, 25, 36, 49, 64, 81, 100]\n",
      "Qube: [1, 8, 27, 64, 125, 216, 343, 512, 729, 1000]\n"
     ]
    }
   ],
   "source": [
    "l = [1, 2, 3, 4, 5, 6, 7, 8, 9, 10]\n",
    "\n",
    "s = list(map(lambda x:x*x,l))\n",
    "print(\"Square:\",s)\n",
    "\n",
    "Q = list(map(lambda x:x*x*x,l))\n",
    "print(\"Qube:\",Q)"
   ]
  },
  {
   "cell_type": "markdown",
   "id": "91519364",
   "metadata": {},
   "source": [
    "# 07. given string starts with a given character using Lambda"
   ]
  },
  {
   "cell_type": "code",
   "execution_count": 51,
   "id": "3aba6fc1",
   "metadata": {},
   "outputs": [
    {
     "name": "stdout",
     "output_type": "stream",
     "text": [
      "True\n",
      "False\n"
     ]
    }
   ],
   "source": [
    "starts_with = lambda x: True if x.startswith('P') else False # ternary operation\n",
    "print(starts_with('Python'))\n",
    "starts_with = lambda x: True if x.endswith('p') else False\n",
    "print(starts_with('Java'))"
   ]
  },
  {
   "cell_type": "markdown",
   "id": "098bdb0a",
   "metadata": {},
   "source": [
    "# 08. intersection of two given arrays using Lambda"
   ]
  },
  {
   "cell_type": "code",
   "execution_count": 54,
   "id": "cdcee60e",
   "metadata": {},
   "outputs": [
    {
     "name": "stdout",
     "output_type": "stream",
     "text": [
      "[1, 2, 8, 9]\n"
     ]
    }
   ],
   "source": [
    "l1 = [1, 2, 3, 5, 7, 8, 9, 10]\n",
    "l2 = [1, 2, 4, 8, 9]\n",
    "\n",
    "result = list(filter(lambda x: x in l1, l2)) \n",
    "print (result)"
   ]
  },
  {
   "cell_type": "markdown",
   "id": "85af6b5f",
   "metadata": {},
   "source": [
    "# 09. Positive and negetive values in list  "
   ]
  },
  {
   "cell_type": "code",
   "execution_count": 59,
   "id": "126bb022",
   "metadata": {},
   "outputs": [
    {
     "name": "stdout",
     "output_type": "stream",
     "text": [
      "[-10, -3, -1, 2, 5, 7, 8, 9]\n"
     ]
    }
   ],
   "source": [
    "array_nums = [-1, 2, -3, 5, 7, 8, 9, -10]\n",
    "\n",
    "result = sorted(array_nums, key=lambda x: (x >= 0, x))\n",
    "print(result)"
   ]
  },
  {
   "cell_type": "code",
   "execution_count": 61,
   "id": "807239e0",
   "metadata": {},
   "outputs": [
    {
     "name": "stdout",
     "output_type": "stream",
     "text": [
      "[2, 5, 7, 8, 9, -10, -3, -1]\n"
     ]
    }
   ],
   "source": [
    "array_nums = [-1, 2, -3, 5, 7, 8, 9, -10]\n",
    "\n",
    "rearranged_nums = sorted(array_nums, key=lambda x: (x < 0, x))\n",
    "print(rearranged_nums)"
   ]
  },
  {
   "cell_type": "code",
   "execution_count": 112,
   "id": "1f0e6c3c",
   "metadata": {},
   "outputs": [
    {
     "name": "stdout",
     "output_type": "stream",
     "text": [
      "Sum of the positive numbers:  -32\n",
      "Sum of the negative numbers:  48\n"
     ]
    }
   ],
   "source": [
    "# sum of positive values or negative values\n",
    "nums = [2, 4, -6, -9, 11, -12, 14, -5, 17]\n",
    "\n",
    "neg_nums = list(filter(lambda x:x<0,nums))\n",
    "pos_nums = list(filter(lambda x:x>0,nums))\n",
    "\n",
    "print(\"Sum of the positive numbers: \",sum(neg_nums))\n",
    "print(\"Sum of the negative numbers: \",sum(pos_nums))"
   ]
  },
  {
   "cell_type": "markdown",
   "id": "fcca9c99",
   "metadata": {},
   "source": [
    "## 10. count the even and odd number using Lambda"
   ]
  },
  {
   "cell_type": "code",
   "execution_count": 69,
   "id": "71e0868c",
   "metadata": {},
   "outputs": [
    {
     "name": "stdout",
     "output_type": "stream",
     "text": [
      "Even count: 3\n",
      "Odd count: 5\n"
     ]
    }
   ],
   "source": [
    "array_nums = [1, 2, 3, 5, 7, 8, 9, 10]\n",
    "\n",
    "even_count = len(list(filter(lambda x: x % 2 == 0, array_nums)))\n",
    "odd_count = len(list(filter(lambda x: x % 2 != 0, array_nums)))\n",
    "\n",
    "print(\"Even count:\", even_count)\n",
    "print(\"Odd count:\", odd_count)"
   ]
  },
  {
   "cell_type": "markdown",
   "id": "15e70dce",
   "metadata": {},
   "source": [
    "# 11. length of list is equal to 6"
   ]
  },
  {
   "cell_type": "code",
   "execution_count": 72,
   "id": "fd92f3e1",
   "metadata": {},
   "outputs": [
    {
     "name": "stdout",
     "output_type": "stream",
     "text": [
      "['Monday', 'Friday', 'Sunday']\n"
     ]
    }
   ],
   "source": [
    "weekdays = ['Monday', 'Tuesday', 'Wednesday', 'Thursday', 'Friday', 'Saturday', 'Sunday']\n",
    "\n",
    "filtered_weekdays = list(filter(lambda day: len(day) == 6, weekdays))\n",
    "print(filtered_weekdays)"
   ]
  },
  {
   "cell_type": "code",
   "execution_count": 71,
   "id": "6d8603dd",
   "metadata": {},
   "outputs": [
    {
     "name": "stdout",
     "output_type": "stream",
     "text": [
      "Monday\n",
      "Friday\n",
      "Sunday\n"
     ]
    }
   ],
   "source": [
    "weekdays = ['Monday', 'Tuesday', 'Wednesday', 'Thursday', 'Friday', 'Saturday', 'Sunday']\n",
    "days = filter(lambda day: day if len(day)==6 else '', weekdays)\n",
    "for d in days:\n",
    "    print(d)"
   ]
  },
  {
   "cell_type": "markdown",
   "id": "de7fbdd8",
   "metadata": {},
   "source": [
    "# 12. adding two lists of values "
   ]
  },
  {
   "cell_type": "code",
   "execution_count": 73,
   "id": "f7a3577a",
   "metadata": {},
   "outputs": [
    {
     "name": "stdout",
     "output_type": "stream",
     "text": [
      "[5, 7, 9]\n"
     ]
    }
   ],
   "source": [
    "nums1 = [1, 2, 3]\n",
    "nums2 = [4, 5, 6]\n",
    "\n",
    "result = list(map(lambda x, y: x + y, nums1, nums2))\n",
    "print(result)"
   ]
  },
  {
   "cell_type": "markdown",
   "id": "c3569790",
   "metadata": {},
   "source": [
    "# 13. Division by particular value in list"
   ]
  },
  {
   "cell_type": "code",
   "execution_count": 75,
   "id": "79005ddc",
   "metadata": {},
   "outputs": [
    {
     "name": "stdout",
     "output_type": "stream",
     "text": [
      "[19, 65, 57, 39, 152, 190]\n"
     ]
    }
   ],
   "source": [
    "nums = [19, 65, 57, 39, 152, 639, 121, 44, 90, 190]\n",
    "\n",
    "n = list(filter(lambda x: x%19==0 or x%13==0,nums))\n",
    "print(n)"
   ]
  },
  {
   "cell_type": "markdown",
   "id": "8da8d756",
   "metadata": {},
   "source": [
    "# 14. list of palindrome or string reverse"
   ]
  },
  {
   "cell_type": "code",
   "execution_count": 77,
   "id": "e76855f5",
   "metadata": {},
   "outputs": [
    {
     "name": "stdout",
     "output_type": "stream",
     "text": [
      "['php', 'aaa']\n"
     ]
    }
   ],
   "source": [
    "texts = [\"php\", \"w3r\", \"Python\", \"abcd\", \"Java\", \"aaa\"]\n",
    "\n",
    "print(list(filter(lambda x:x==x[::-1], texts)))"
   ]
  },
  {
   "cell_type": "code",
   "execution_count": 78,
   "id": "1c39f896",
   "metadata": {},
   "outputs": [
    {
     "name": "stdout",
     "output_type": "stream",
     "text": [
      "['php', 'aaa']\n"
     ]
    }
   ],
   "source": [
    "texts = [\"php\", \"w3r\", \"Python\", \"abcd\", \"Java\", \"aaa\"]\n",
    "\n",
    "print(list(filter(lambda x:x==\"\".join(reversed(x)), texts)))"
   ]
  },
  {
   "cell_type": "code",
   "execution_count": 165,
   "id": "204808c0",
   "metadata": {},
   "outputs": [
    {
     "name": "stdout",
     "output_type": "stream",
     "text": [
      "['deR', 'neerG', 'eulB', 'etihW', 'kcalB']\n"
     ]
    },
    {
     "data": {
      "text/plain": [
       "['deR', 'neerG', 'eulB', 'etihW', 'kcalB']"
      ]
     },
     "execution_count": 165,
     "metadata": {},
     "output_type": "execute_result"
    }
   ],
   "source": [
    "s = [\"Red\", \"Green\", \"Blue\", \"White\", \"Black\"]\n",
    "\n",
    "print(list(map(lambda x:x[::-1],s)))\n",
    "list(map(lambda x:\"\".join(reversed(x)),s))"
   ]
  },
  {
   "cell_type": "markdown",
   "id": "b82bf726",
   "metadata": {},
   "source": [
    "# 15. find anagrams"
   ]
  },
  {
   "cell_type": "code",
   "execution_count": 84,
   "id": "741f3a8f",
   "metadata": {},
   "outputs": [
    {
     "name": "stdout",
     "output_type": "stream",
     "text": [
      "['bcda', 'cbda', 'adcb']\n"
     ]
    }
   ],
   "source": [
    "from collections import Counter  \n",
    "\n",
    "texts = [\"bcda\", \"abce\", \"cbda\", \"cbea\", \"adcb\"]\n",
    "\n",
    "Str = \"abcd\"\n",
    "result = list(filter(lambda x: (Counter(Str) == Counter(x)), texts)) \n",
    "print(result)"
   ]
  },
  {
   "cell_type": "markdown",
   "id": "124d5204",
   "metadata": {},
   "source": [
    "# 16. Find numbers in string"
   ]
  },
  {
   "cell_type": "code",
   "execution_count": 85,
   "id": "f1176467",
   "metadata": {},
   "outputs": [
    {
     "name": "stdout",
     "output_type": "stream",
     "text": [
      "[23, 8, 5, 8, 56, 21, 20, 5]\n"
     ]
    }
   ],
   "source": [
    "import re\n",
    "\n",
    "str1 = \"sdf 23 safs8 5 sdfsd8 sdfs 56 21sfs 20 5\"\n",
    "\n",
    "extracted_numbers = list(map(lambda x: int(x), re.findall(r'\\d+', str1)))\n",
    "print(extracted_numbers)"
   ]
  },
  {
   "cell_type": "code",
   "execution_count": 90,
   "id": "0587fe86",
   "metadata": {},
   "outputs": [
    {
     "name": "stdout",
     "output_type": "stream",
     "text": [
      "['2', '3', '8', '5', '8', '5', '6', '2', '1', '2', '0', '5']\n"
     ]
    }
   ],
   "source": [
    "str1 = \"sdf 23 safs8 5 sdfsd8 sdfs 56 21sfs 20 5\"\n",
    "\n",
    "num = list(filter(lambda x: x.isdigit(), str1))\n",
    "print(num)"
   ]
  },
  {
   "cell_type": "markdown",
   "id": "c291f6c2",
   "metadata": {},
   "source": [
    "# 17. multiply or add list each element by given number"
   ]
  },
  {
   "cell_type": "code",
   "execution_count": 94,
   "id": "67ffd1d1",
   "metadata": {},
   "outputs": [
    {
     "name": "stdout",
     "output_type": "stream",
     "text": [
      "Enter Number:4\n",
      "8 16 24 36 44\n"
     ]
    }
   ],
   "source": [
    "nums = [2, 4, 6, 9 , 11]\n",
    "n = int(input(\"Enter Number:\"))\n",
    "\n",
    "num = list(map(lambda number:number*n,nums))\n",
    "print(' '.join(map(str,num)))"
   ]
  },
  {
   "cell_type": "code",
   "execution_count": 93,
   "id": "5ac2d250",
   "metadata": {},
   "outputs": [
    {
     "name": "stdout",
     "output_type": "stream",
     "text": [
      "Enter Number:4\n",
      "6 8 10 13 15\n"
     ]
    }
   ],
   "source": [
    "nums = [2, 4, 6, 9 , 11]\n",
    "n = int(input(\"Enter Number:\"))\n",
    "\n",
    "num = list(map(lambda number:number+n,nums))\n",
    "print(' '.join(map(str,num)))"
   ]
  },
  {
   "cell_type": "markdown",
   "id": "d6e935fd",
   "metadata": {},
   "source": [
    "# 18. display the uppercase"
   ]
  },
  {
   "cell_type": "code",
   "execution_count": 105,
   "id": "c9751cff",
   "metadata": {},
   "outputs": [
    {
     "name": "stdout",
     "output_type": "stream",
     "text": [
      "['Dylan', 'Diana', 'Joanne']\n"
     ]
    }
   ],
   "source": [
    "# first uppercase char\n",
    "l = ['sAlly', 'Dylan', 'rEbecca', 'Diana', 'Joanne', 'keith']\n",
    "\n",
    "n = list(filter(lambda x:x==x.capitalize(),l))\n",
    "print(n)"
   ]
  },
  {
   "cell_type": "code",
   "execution_count": 106,
   "id": "2b721bf8",
   "metadata": {},
   "outputs": [
    {
     "name": "stdout",
     "output_type": "stream",
     "text": [
      "['sAlly', 'rEbecca']\n"
     ]
    }
   ],
   "source": [
    "# second uppercase char\n",
    "l = ['sAlly', 'Dylan', 'rEbecca', 'Diana', 'Joanne', 'keith']\n",
    "\n",
    "n = list(filter(lambda x: x[1]==x[1].upper(), l))\n",
    "print(n)"
   ]
  },
  {
   "cell_type": "code",
   "execution_count": 109,
   "id": "0614d587",
   "metadata": {},
   "outputs": [
    {
     "name": "stdout",
     "output_type": "stream",
     "text": [
      "['SALLY', 'REBBECA']\n"
     ]
    }
   ],
   "source": [
    "# complete uppercase words\n",
    "l = ['SALLY', 'Dylan', 'REBBECA', 'Diana', 'Joanne', 'keith']\n",
    "\n",
    "n = list(filter(lambda x: x.isupper(), l))\n",
    "print(n)"
   ]
  },
  {
   "cell_type": "code",
   "execution_count": 110,
   "id": "cb97ef61",
   "metadata": {},
   "outputs": [
    {
     "name": "stdout",
     "output_type": "stream",
     "text": [
      "['keith']\n"
     ]
    }
   ],
   "source": [
    "# complete lowercase words\n",
    "l = ['SALLY', 'Dylan', 'REBBECA', 'Diana', 'Joanne', 'keith']\n",
    "\n",
    "n = list(filter(lambda x: x.islower(), l))\n",
    "print(n)"
   ]
  },
  {
   "cell_type": "markdown",
   "id": "0933b997",
   "metadata": {},
   "source": [
    "# 19. sort each sub list "
   ]
  },
  {
   "cell_type": "code",
   "execution_count": 115,
   "id": "6edac19c",
   "metadata": {},
   "outputs": [
    {
     "name": "stdout",
     "output_type": "stream",
     "text": [
      "[['black', 'orange'], ['black', 'white'], ['black', 'orange', 'white']]\n"
     ]
    }
   ],
   "source": [
    "l = [['orange', 'black'], ['white','black'], ['white', 'black', 'orange']]\n",
    "\n",
    "n = [sorted(x, key = lambda x:x[0]) for x in l]\n",
    "print(n)"
   ]
  },
  {
   "cell_type": "markdown",
   "id": "42fb45e2",
   "metadata": {},
   "source": [
    "# 20. sort a given matrix in ascending order"
   ]
  },
  {
   "cell_type": "code",
   "execution_count": 116,
   "id": "0bdec893",
   "metadata": {},
   "outputs": [
    {
     "name": "stdout",
     "output_type": "stream",
     "text": [
      "[[1, 1, 1], [1, 2, 3], [2, 4, 5]]\n"
     ]
    }
   ],
   "source": [
    "m1 = [[1, 2, 3], [2, 4, 5], [1, 1, 1]]\n",
    "\n",
    "n = sorted(m1, key=lambda row: sum(row)) \n",
    "print(n)"
   ]
  },
  {
   "cell_type": "markdown",
   "id": "b240d166",
   "metadata": {},
   "source": [
    "# 21. sorted in dictionary using lambda"
   ]
  },
  {
   "cell_type": "code",
   "execution_count": 118,
   "id": "414d8b8b",
   "metadata": {},
   "outputs": [
    {
     "data": {
      "text/plain": [
       "{'Cierra Vega': (6.2, 70)}"
      ]
     },
     "execution_count": 118,
     "metadata": {},
     "output_type": "execute_result"
    }
   ],
   "source": [
    "students = {'Cierra Vega': (6.2, 70), 'Alden Cantrell': (5.9, 65), 'Kierra Gentry': (6.0, 68), 'Pierre Cox': (5.8, 66)}\n",
    "\n",
    "dict(filter(lambda x: (x[1][0], x[1][1]) > (6.0, 70), students.items()))"
   ]
  },
  {
   "cell_type": "markdown",
   "id": "41a7bc1d",
   "metadata": {},
   "source": [
    "# 22. remove None values from a given list "
   ]
  },
  {
   "cell_type": "code",
   "execution_count": 121,
   "id": "7165ad14",
   "metadata": {},
   "outputs": [
    {
     "name": "stdout",
     "output_type": "stream",
     "text": [
      "[12, 0, 23, -55, 234, 89, 0, 6, -12]\n"
     ]
    }
   ],
   "source": [
    "l = [12, 0, None, 23, None, -55, 234, 89, None, 0, 6, -12]\n",
    "\n",
    "print(list(filter(lambda v: v is not None, l)))"
   ]
  },
  {
   "cell_type": "markdown",
   "id": "2e716d75",
   "metadata": {},
   "source": [
    "# 23. maximum and minimum values in a given list of tuples "
   ]
  },
  {
   "cell_type": "code",
   "execution_count": 124,
   "id": "c9b50368",
   "metadata": {},
   "outputs": [
    {
     "name": "stdout",
     "output_type": "stream",
     "text": [
      "74\n",
      "62\n"
     ]
    }
   ],
   "source": [
    "l = [('V', 62), ('VI', 68), ('VII', 72), ('VIII', 70), ('IX', 74), ('X', 65)]\n",
    "\n",
    "max1 = max(l,key=lambda x:x[1])[1]\n",
    "min1 = min(l,key=lambda x:x[1])[1]\n",
    "print(max1)\n",
    "print(min1)"
   ]
  },
  {
   "cell_type": "markdown",
   "id": "774aa8ab",
   "metadata": {},
   "source": [
    "# 24. numbers & strings sort in list"
   ]
  },
  {
   "cell_type": "code",
   "execution_count": 129,
   "id": "0c31f33c",
   "metadata": {},
   "outputs": [
    {
     "name": "stdout",
     "output_type": "stream",
     "text": [
      "[1, 10, 12, 19, 'blue', 'green', 'green', 'red', 'white']\n"
     ]
    }
   ],
   "source": [
    "l = [19, 'red', 12, 'green', 'blue', 10, 'white', 'green', 1]\n",
    "\n",
    "l.sort(key=lambda x: (isinstance(x, str), x))\n",
    "print(l)"
   ]
  },
  {
   "cell_type": "markdown",
   "id": "06811768",
   "metadata": {},
   "source": [
    "# 25.find the index position and value of the max and min "
   ]
  },
  {
   "cell_type": "code",
   "execution_count": 131,
   "id": "a8fc6d5f",
   "metadata": {},
   "outputs": [
    {
     "name": "stdout",
     "output_type": "stream",
     "text": [
      "(5, 89)\n",
      "(3, 10.11)\n"
     ]
    }
   ],
   "source": [
    "nums = [12,33,23,10.11,67,89,45,66.7,23,12,11,10.25,54]\n",
    "\n",
    "max1 = max(enumerate(nums), key=(lambda x: x[1]))\n",
    "min1 = min(enumerate(nums), key=(lambda x: x[1]))\n",
    "print(max1)\n",
    "print(min1)"
   ]
  },
  {
   "cell_type": "markdown",
   "id": "b62f94cf",
   "metadata": {},
   "source": [
    "# 26. list of tuples values sorted "
   ]
  },
  {
   "cell_type": "code",
   "execution_count": 150,
   "id": "ef9c01a0",
   "metadata": {},
   "outputs": [
    {
     "name": "stdout",
     "output_type": "stream",
     "text": [
      "Each Tuple First Value:---------> ['Greyson Fulton', 'Brady Kent', 'Wyatt Knott', 'Beau Turnbull']\n",
      "Second Tuple:----------> ('Greyson Fulton', 98, 99)\n",
      "Sort tuple 1st values:-> [('Beau Turnbull', 94, 98), ('Brady Kent', 97, 96), ('Greyson Fulton', 98, 99), ('Wyatt Knott', 91, 94)]\n",
      "Sort tuple 2st values:-> [('Wyatt Knott', 91, 94), ('Beau Turnbull', 94, 98), ('Brady Kent', 97, 96), ('Greyson Fulton', 98, 99)]\n",
      "Sort tuple 3st values:-> [('Wyatt Knott', 91, 94), ('Brady Kent', 97, 96), ('Beau Turnbull', 94, 98), ('Greyson Fulton', 98, 99)]\n"
     ]
    }
   ],
   "source": [
    "l = [('Greyson Fulton', 98, 99), ('Brady Kent', 97, 96), ('Wyatt Knott', 91, 94), ('Beau Turnbull', 94, 98)] \n",
    "\n",
    "print(\"Each Tuple First Value:--------->\",           list(map(lambda x:(x[0]), l)))\n",
    "print(\"Second Tuple:---------->\",                    max(l,key=lambda x:x[1]))\n",
    "print(\"Sort tuple 1st values:->\",        sorted(l, key=lambda x: x[0]))\n",
    "print(\"Sort tuple 2st values:->\",        sorted(l, key=lambda x: x[1]))\n",
    "print(\"Sort tuple 3st values:->\",        sorted(l, key=lambda x: x[2]))"
   ]
  },
  {
   "cell_type": "markdown",
   "id": "22efff7d",
   "metadata": {},
   "source": [
    "# 27. remove values from list to another list"
   ]
  },
  {
   "cell_type": "code",
   "execution_count": 154,
   "id": "066a657c",
   "metadata": {},
   "outputs": [
    {
     "name": "stdout",
     "output_type": "stream",
     "text": [
      "[1, 3, 5, 7, 9, 10]\n"
     ]
    }
   ],
   "source": [
    "l1 = [1,2,3,4,5,6,7,8,9,10]\n",
    "l2 = [2,4,6,8]\n",
    "\n",
    "print(list(filter(lambda x: x not in l2,l1)))"
   ]
  },
  {
   "cell_type": "code",
   "execution_count": 161,
   "id": "53e9e06e",
   "metadata": {},
   "outputs": [
    {
     "data": {
      "text/plain": [
       "[[12], [7, 11], [1, 5, 8]]"
      ]
     },
     "execution_count": 161,
     "metadata": {},
     "output_type": "execute_result"
    }
   ],
   "source": [
    "nums1 = [1, 2, 3, 4, 5, 6, 7, 8, 9, 10, 11, 12, 13, 14]\n",
    "nums2 = [[12, 18, 23, 25, 45], [7, 11, 19, 24, 28], [1, 5, 8, 18, 15, 16]]\n",
    "\n",
    "[list(filter(lambda x: x in nums1, l)) for l in nums2]"
   ]
  },
  {
   "cell_type": "markdown",
   "id": "f12deb5f",
   "metadata": {},
   "source": [
    "# 28. substring present in string"
   ]
  },
  {
   "cell_type": "code",
   "execution_count": 159,
   "id": "62b83fad",
   "metadata": {},
   "outputs": [
    {
     "name": "stdout",
     "output_type": "stream",
     "text": [
      "Enter Sub String:g\n"
     ]
    },
    {
     "data": {
      "text/plain": [
       "['green', 'orange']"
      ]
     },
     "execution_count": 159,
     "metadata": {},
     "output_type": "execute_result"
    }
   ],
   "source": [
    "str1 = [\"red\", \"black\", \"white\", \"green\", \"orange\"]\n",
    "\n",
    "s = input(\"Enter Sub String:\")\n",
    "list(filter(lambda x: s in x, str1))"
   ]
  },
  {
   "cell_type": "markdown",
   "id": "99ee4d7e",
   "metadata": {},
   "source": [
    "# 29. sum or product of one list"
   ]
  },
  {
   "cell_type": "code",
   "execution_count": 167,
   "id": "0e69d13e",
   "metadata": {},
   "outputs": [
    {
     "name": "stdout",
     "output_type": "stream",
     "text": [
      "3628800\n",
      "55\n"
     ]
    }
   ],
   "source": [
    "from functools import reduce \n",
    "l = [1,2,3,4,5,6,7,8,9,10]\n",
    "\n",
    "print(reduce(lambda x,y:x*y,l))\n",
    "print(reduce(lambda x,y:x+y,l))"
   ]
  },
  {
   "cell_type": "markdown",
   "id": "f5ac65b8",
   "metadata": {},
   "source": [
    "# 30. sum or product of two lists"
   ]
  },
  {
   "cell_type": "code",
   "execution_count": 181,
   "id": "1c741c49",
   "metadata": {},
   "outputs": [
    {
     "name": "stdout",
     "output_type": "stream",
     "text": [
      "42\n",
      "409600\n"
     ]
    }
   ],
   "source": [
    "l1 = [2, 8, 2, 4, 5]\n",
    "l2 = [2, 8, 2, 4, 5]\n",
    "\n",
    "add = lambda x, y: x + y\n",
    "adding = reduce(add,l1) + reduce(add,l2)\n",
    "print(adding)\n",
    "\n",
    "mul = lambda x, y: x * y\n",
    "multifly = reduce(mul,l1) * reduce(mul,l2)\n",
    "print(multifly)"
   ]
  },
  {
   "cell_type": "markdown",
   "id": "616d8bec",
   "metadata": {},
   "source": [
    "# 31. cal avg of tuple's of tuple"
   ]
  },
  {
   "cell_type": "code",
   "execution_count": 186,
   "id": "35a9f6da",
   "metadata": {},
   "outputs": [
    {
     "data": {
      "text/plain": [
       "(10.0, 43.666666666666664, 66.66666666666667, 2.0)"
      ]
     },
     "execution_count": 186,
     "metadata": {},
     "output_type": "execute_result"
    }
   ],
   "source": [
    "l = ((10, 10, 10), (30, 45, 56), (81, 80, 39), (1, 2, 3))\n",
    "\n",
    "tuple(map(lambda x: sum(x)/float(len(x)), l))"
   ]
  },
  {
   "cell_type": "code",
   "execution_count": 188,
   "id": "974144c7",
   "metadata": {},
   "outputs": [
    {
     "name": "stdout",
     "output_type": "stream",
     "text": [
      "[10, 44, 67, 2]\n"
     ]
    }
   ],
   "source": [
    "l = ((10, 10, 10), (30, 45, 56), (81, 80, 39), (1, 2, 3))\n",
    "\n",
    "averages = [round(sum(t) / len(t)) for t in l]\n",
    "print(averages)"
   ]
  },
  {
   "cell_type": "code",
   "execution_count": 191,
   "id": "d4dbe2a2",
   "metadata": {},
   "outputs": [
    {
     "name": "stdout",
     "output_type": "stream",
     "text": [
      "(10, 44, 67, 2)\n"
     ]
    }
   ],
   "source": [
    "l = ((10, 10, 10), (30, 45, 56), (81, 80, 39), (1, 2, 3))\n",
    "\n",
    "avg = tuple(map(lambda t: round(sum(t)/len(t)), l))\n",
    "print(avg)"
   ]
  },
  {
   "cell_type": "code",
   "execution_count": null,
   "id": "5a9696da",
   "metadata": {},
   "outputs": [],
   "source": [
    "l = ((10, 10, 10), (30, 45, 56), (81, 80, 39), (1, 2, 3))\n",
    "\n",
    "avg = tuple(map(lambda t: round(sum(t)/len(t), 2), l))\n",
    "print(avg)"
   ]
  },
  {
   "cell_type": "markdown",
   "id": "4d8834c1",
   "metadata": {},
   "source": [
    "# 32. Display only Digits and alphabets "
   ]
  },
  {
   "cell_type": "code",
   "execution_count": 205,
   "id": "e13d6480",
   "metadata": {},
   "outputs": [
    {
     "data": {
      "text/plain": [
       "[('233', '33'), ('1416', '55'), ('2345', '34')]"
      ]
     },
     "execution_count": 205,
     "metadata": {},
     "output_type": "execute_result"
    }
   ],
   "source": [
    "l = (('233', 'ABCD', '33'), ('1416', 'EFGH', '55'), ('2345', 'WERT', '34','AB12'))\n",
    "\n",
    "[tuple(filter(lambda x:x.isdigit(),i)) for i in l]"
   ]
  },
  {
   "cell_type": "code",
   "execution_count": 206,
   "id": "aa07b532",
   "metadata": {},
   "outputs": [
    {
     "data": {
      "text/plain": [
       "[('ABCD',), ('EFGH',), ('WERT',)]"
      ]
     },
     "execution_count": 206,
     "metadata": {},
     "output_type": "execute_result"
    }
   ],
   "source": [
    "l = (('233', 'ABCD', '33'), ('1416', 'EFGH', '55'), ('2345', 'WERT', '34','AB12'))\n",
    "\n",
    "[tuple(filter(lambda x:x.isalpha(),i)) for i in l]"
   ]
  },
  {
   "cell_type": "code",
   "execution_count": 209,
   "id": "c8d52559",
   "metadata": {},
   "outputs": [
    {
     "data": {
      "text/plain": [
       "[('233', 'ABCD'), ('1416', '55'), ('2345', 'WERT', 'AB12')]"
      ]
     },
     "execution_count": 209,
     "metadata": {},
     "output_type": "execute_result"
    }
   ],
   "source": [
    "l = (('233', 'ABCD', '@#'), ('1416', '#E%*>', '55'), ('2345', 'WERT', 'ABC@123','AB12'))\n",
    "\n",
    "[tuple(filter(lambda x:x.isalnum(),i)) for i in l]"
   ]
  },
  {
   "cell_type": "markdown",
   "id": "87e9a99a",
   "metadata": {},
   "source": [
    "# 33. convert list of tuples, list of list "
   ]
  },
  {
   "cell_type": "code",
   "execution_count": 213,
   "id": "75045470",
   "metadata": {},
   "outputs": [
    {
     "data": {
      "text/plain": [
       "['red pink', 'white black', 'orange green']"
      ]
     },
     "execution_count": 213,
     "metadata": {},
     "output_type": "execute_result"
    }
   ],
   "source": [
    "l = [('red', 'pink'), ('white', 'black'), ('orange', 'green')]\n",
    "\n",
    "list(map(lambda x:\" \".join(x),l))"
   ]
  },
  {
   "cell_type": "code",
   "execution_count": 214,
   "id": "5316a174",
   "metadata": {},
   "outputs": [
    {
     "data": {
      "text/plain": [
       "[['R', 'e', 'd'],\n",
       " ['G', 'r', 'e', 'e', 'n'],\n",
       " ['B', 'l', 'a', 'c', 'k'],\n",
       " ['O', 'r', 'a', 'n', 'g', 'e']]"
      ]
     },
     "execution_count": 214,
     "metadata": {},
     "output_type": "execute_result"
    }
   ],
   "source": [
    "l = [\"Red\", \"Green\", \"Black\", \"Orange\"]\n",
    "\n",
    "list(map(list,l))"
   ]
  },
  {
   "cell_type": "code",
   "execution_count": 215,
   "id": "e605b48b",
   "metadata": {},
   "outputs": [
    {
     "data": {
      "text/plain": [
       "[('R', 'e', 'd'),\n",
       " ('G', 'r', 'e', 'e', 'n'),\n",
       " ('B', 'l', 'a', 'c', 'k'),\n",
       " ('O', 'r', 'a', 'n', 'g', 'e')]"
      ]
     },
     "execution_count": 215,
     "metadata": {},
     "output_type": "execute_result"
    }
   ],
   "source": [
    "l = [\"Red\", \"Green\", \"Black\", \"Orange\"]\n",
    "\n",
    "list(map(tuple,l))"
   ]
  },
  {
   "cell_type": "code",
   "execution_count": 225,
   "id": "7be2e685",
   "metadata": {},
   "outputs": [
    {
     "data": {
      "text/plain": [
       "[{'R', 'd', 'e'},\n",
       " {'G', 'e', 'n', 'r'},\n",
       " {'B', 'a', 'c', 'k', 'l'},\n",
       " {'O', 'a', 'e', 'g', 'n', 'r'}]"
      ]
     },
     "execution_count": 225,
     "metadata": {},
     "output_type": "execute_result"
    }
   ],
   "source": [
    "l = [\"Red\", \"Green\", \"Black\", \"Orange\"]\n",
    "\n",
    "list(map(set,l))"
   ]
  },
  {
   "cell_type": "code",
   "execution_count": 223,
   "id": "029a1dcd",
   "metadata": {},
   "outputs": [
    {
     "data": {
      "text/plain": [
       "{'Red': 1, 'Green': 2, 'Black': 3, 'Orange': 4}"
      ]
     },
     "execution_count": 223,
     "metadata": {},
     "output_type": "execute_result"
    }
   ],
   "source": [
    "l1 = [\"Red\", \"Green\", \"Black\", \"Orange\"]\n",
    "l2 = [1, 2, 3, 4]\n",
    "\n",
    "dict(map(lambda x, y: (x, y), l1, l2))"
   ]
  },
  {
   "cell_type": "code",
   "execution_count": 227,
   "id": "bc37837c",
   "metadata": {},
   "outputs": [
    {
     "data": {
      "text/plain": [
       "[12, 15, 18]"
      ]
     },
     "execution_count": 227,
     "metadata": {},
     "output_type": "execute_result"
    }
   ],
   "source": [
    "nums1 = [1, 2, 3] \n",
    "nums2 = [4, 5, 6] \n",
    "nums3 = [7, 8, 9]\n",
    "\n",
    "list(map(lambda x, y, z: x + y + z, nums1, nums2, nums3)) "
   ]
  },
  {
   "cell_type": "markdown",
   "id": "d7e7ebdc",
   "metadata": {},
   "source": [
    "# 34. power of list values\n",
    "power = n**n = 3**3= 3x3x3 = 27, 4**4-> 4x4x4x4 = 256 "
   ]
  },
  {
   "cell_type": "code",
   "execution_count": 231,
   "id": "956867e9",
   "metadata": {},
   "outputs": [
    {
     "data": {
      "text/plain": [
       "[1, 4, 27, 256, 3125, 46656, 823543, 16777216, 387420489, 10000000000]"
      ]
     },
     "execution_count": 231,
     "metadata": {},
     "output_type": "execute_result"
    }
   ],
   "source": [
    "bases_num = [1, 2, 3, 4, 5, 6, 7, 8, 9, 10]\n",
    "index = [1, 2, 3, 4, 5,6,7,8,9,10]\n",
    "\n",
    "list(map(pow, bases_num, index))"
   ]
  },
  {
   "cell_type": "markdown",
   "id": "cdb07052",
   "metadata": {},
   "source": [
    "# 35. add & sub of two lists"
   ]
  },
  {
   "cell_type": "code",
   "execution_count": 241,
   "id": "36d4200b",
   "metadata": {},
   "outputs": [
    {
     "data": {
      "text/plain": [
       "[(6, 6), (6, 4), (10, -4), (16, 2)]"
      ]
     },
     "execution_count": 241,
     "metadata": {},
     "output_type": "execute_result"
    }
   ],
   "source": [
    "l1 = [6, 5, 3, 9]\n",
    "l2 = [0, 1, 7, 7]\n",
    "\n",
    "list(map(lambda x,y:(x + y,x - y), l1, l2))"
   ]
  },
  {
   "cell_type": "markdown",
   "id": "02139925",
   "metadata": {},
   "source": [
    "# 36. upper and lower sets"
   ]
  },
  {
   "cell_type": "code",
   "execution_count": 248,
   "id": "ab63328a",
   "metadata": {},
   "outputs": [
    {
     "data": {
      "text/plain": [
       "[('E', 'e'),\n",
       " ('I', 'i'),\n",
       " ('U', 'u'),\n",
       " ('F', 'f'),\n",
       " ('A', 'a'),\n",
       " ('O', 'o'),\n",
       " ('B', 'b')]"
      ]
     },
     "execution_count": 248,
     "metadata": {},
     "output_type": "execute_result"
    }
   ],
   "source": [
    "l = {'a', 'b', 'E', 'f', 'a', 'i', 'o', 'U', 'a'}\n",
    "\n",
    "list(map(lambda x: (str(x).upper(),str(x).lower()),l))"
   ]
  },
  {
   "cell_type": "markdown",
   "id": "52b3fbfc",
   "metadata": {},
   "source": [
    "# 37. Dict: convert key of list values into dict"
   ]
  },
  {
   "cell_type": "code",
   "execution_count": 257,
   "id": "bf3a10a1",
   "metadata": {},
   "outputs": [
    {
     "data": {
      "text/plain": [
       "[{'Science': 88, 'Language': 77},\n",
       " {'Science': 89, 'Language': 78},\n",
       " {'Science': 62, 'Language': 84},\n",
       " {'Science': 95, 'Language': 80}]"
      ]
     },
     "execution_count": 257,
     "metadata": {},
     "output_type": "execute_result"
    }
   ],
   "source": [
    "d = {'Science': [88, 89, 62, 95], 'Language': [77, 78, 84, 80]}\n",
    "\n",
    "list(map(dict, zip(*[[(k,v) for v in value] for k, value in d.items()])))"
   ]
  },
  {
   "cell_type": "markdown",
   "id": "ef21e63f",
   "metadata": {},
   "source": [
    "# 38. Filter: "
   ]
  },
  {
   "cell_type": "code",
   "execution_count": 259,
   "id": "edbaa93a",
   "metadata": {},
   "outputs": [
    {
     "name": "stdout",
     "output_type": "stream",
     "text": [
      "[1, 3, 5, 7, 9]\n"
     ]
    }
   ],
   "source": [
    "# Define the filtering function\n",
    "def is_odd(num):\n",
    "    return num % 2 != 0\n",
    "\n",
    "nums = [1, 2, 3, 4, 5, 6, 7, 8, 9, 10]\n",
    "\n",
    "odd = list(filter(is_odd, nums))\n",
    "print(odd)"
   ]
  },
  {
   "cell_type": "code",
   "execution_count": 1,
   "id": "a26e8507",
   "metadata": {},
   "outputs": [
    {
     "data": {
      "text/plain": [
       "['H', 'P', 'F', 'L']"
      ]
     },
     "execution_count": 1,
     "metadata": {},
     "output_type": "execute_result"
    }
   ],
   "source": [
    "l = [\"Hello\", \"w3resource\", \"Python\", \"Filter\", \"Learning\"]\n",
    "\n",
    "list(filter(lambda x:x.isupper(),\"\".join(l)))"
   ]
  },
  {
   "cell_type": "code",
   "execution_count": 2,
   "id": "df0ee575",
   "metadata": {},
   "outputs": [
    {
     "data": {
      "text/plain": [
       "['Hello', 'Python', 'Filter', 'Learning']"
      ]
     },
     "execution_count": 2,
     "metadata": {},
     "output_type": "execute_result"
    }
   ],
   "source": [
    "l = [\"Hello\", \"w3resource\", \"Python\", \"Filter\", \"Learning\"]\n",
    "\n",
    "list(filter(lambda x:x[0].isupper(),l))"
   ]
  },
  {
   "cell_type": "code",
   "execution_count": 3,
   "id": "b1832123",
   "metadata": {},
   "outputs": [
    {
     "data": {
      "text/plain": [
       "['w3resource', 'Filter', 'Python']"
      ]
     },
     "execution_count": 3,
     "metadata": {},
     "output_type": "execute_result"
    }
   ],
   "source": [
    "# find non empty strings \n",
    "l = [\"\", \"w3resource\", \"Filter\", \"\", \"Python\", \"\"]\n",
    "\n",
    "list(filter(lambda x:x!=\"\",l))"
   ]
  },
  {
   "cell_type": "code",
   "execution_count": 4,
   "id": "a93b4301",
   "metadata": {},
   "outputs": [
    {
     "name": "stdin",
     "output_type": "stream",
     "text": [
      "Enter sub string:  reen\n"
     ]
    },
    {
     "data": {
      "text/plain": [
       "['Green']"
      ]
     },
     "execution_count": 4,
     "metadata": {},
     "output_type": "execute_result"
    }
   ],
   "source": [
    "# sub string in string\n",
    "l = [\"Red\", \"Green\", \"Orange\", \"White\", \"Black\", \"Pink\", \"Yellow\"]\n",
    "\n",
    "sub = input(\"Enter sub string: \")\n",
    "list(filter(lambda x: sub in x,l))"
   ]
  },
  {
   "cell_type": "code",
   "execution_count": null,
   "id": "caf71fe2",
   "metadata": {},
   "outputs": [],
   "source": []
  },
  {
   "cell_type": "code",
   "execution_count": null,
   "id": "6239b554",
   "metadata": {},
   "outputs": [],
   "source": []
  }
 ],
 "metadata": {
  "kernelspec": {
   "display_name": "Python 3 (ipykernel)",
   "language": "python",
   "name": "python3"
  },
  "language_info": {
   "codemirror_mode": {
    "name": "ipython",
    "version": 3
   },
   "file_extension": ".py",
   "mimetype": "text/x-python",
   "name": "python",
   "nbconvert_exporter": "python",
   "pygments_lexer": "ipython3",
   "version": "3.11.5"
  }
 },
 "nbformat": 4,
 "nbformat_minor": 5
}
