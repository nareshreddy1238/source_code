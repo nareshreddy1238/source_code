{
 "cells": [
  {
   "cell_type": "markdown",
   "id": "de2ad3db",
   "metadata": {},
   "source": [
    "# RegExp:\n",
    "\n",
    "Symbols:\n",
    "     .    ->  Any Char                                \\w  -> word \n",
    "     ^    ->  start                                   \\d  -> digit\n",
    "     $    ->  end                                     \\s  -> space\n",
    "     *    ->  0 or more                                  \n",
    "     ?    ->  0 or 1                                  \\A -> start match \n",
    "     +    ->  1 or more                               \\b -> \n",
    "    {2}   ->  exact 2                                 \\z -> end\n",
    "    {1,3} ->  1 to 3                                  \\W -> without word \n",
    "    [ ]   ->  char                                    \\S -> without space\n",
    "    |     ->  or  (A|B)                               \n",
    "    ...   ->  all\n"
   ]
  },
  {
   "cell_type": "markdown",
   "id": "7e6ae66b",
   "metadata": {},
   "source": [
    "# 1 String contains Special char"
   ]
  },
  {
   "cell_type": "code",
   "execution_count": 10,
   "id": "5fc76d08",
   "metadata": {},
   "outputs": [
    {
     "name": "stdout",
     "output_type": "stream",
     "text": [
      "The string contains alpha numeric values\n"
     ]
    }
   ],
   "source": [
    "import re\n",
    "\n",
    "pattern = r'^[a-zA-Z0-9]+$'\n",
    "string = \"Hello123\"\n",
    "\n",
    "if re.match(pattern, string):\n",
    "    print(\"The string contains alpha numeric values\")\n",
    "else:\n",
    "    print(\"String contains special char\")"
   ]
  },
  {
   "cell_type": "code",
   "execution_count": 49,
   "id": "81f9692e",
   "metadata": {},
   "outputs": [
    {
     "name": "stdout",
     "output_type": "stream",
     "text": [
      "PythonExercises12\n"
     ]
    }
   ],
   "source": [
    "text1 = '**//Python Exercises// - 12. '\n",
    "pattern = re.compile('[\\W_]+')\n",
    "print(pattern.sub('', text1))"
   ]
  },
  {
   "cell_type": "code",
   "execution_count": 53,
   "id": "f5c05a6a",
   "metadata": {},
   "outputs": [
    {
     "name": "stdout",
     "output_type": "stream",
     "text": [
      "Python Exercises 12\n"
     ]
    }
   ],
   "source": [
    "text1 = '**//Python Exercises// - 12. '\n",
    "pattern = re.findall(r'[a-zA-Z0-9]+',text1)\n",
    "print(\" \".join(pattern))"
   ]
  },
  {
   "cell_type": "markdown",
   "id": "ef50d855",
   "metadata": {},
   "source": [
    "# 2 check the String char is there or not "
   ]
  },
  {
   "cell_type": "code",
   "execution_count": 16,
   "id": "4386c575",
   "metadata": {},
   "outputs": [
    {
     "name": "stdout",
     "output_type": "stream",
     "text": [
      "Not matched!\n",
      "Not matched!\n",
      "Found a match!\n",
      "Found a match!\n",
      "Found a match!\n"
     ]
    }
   ],
   "source": [
    "# check zero or more b's   \n",
    "def text_match(text):\n",
    "        patterns = '^a(b*)$'\n",
    "        if re.search(patterns,  text):\n",
    "                return 'Found a match!'\n",
    "        else:\n",
    "                return('Not matched!')\n",
    "print(text_match(\"ac\"))\n",
    "print(text_match(\"abc\"))\n",
    "print(text_match(\"a\"))\n",
    "print(text_match(\"ab\"))\n",
    "print(text_match(\"abb\"))"
   ]
  },
  {
   "cell_type": "code",
   "execution_count": 20,
   "id": "9bbfbc48",
   "metadata": {},
   "outputs": [
    {
     "name": "stdout",
     "output_type": "stream",
     "text": [
      "Not matched!\n",
      "Not matched!\n",
      "Found a match!\n",
      "Found a match!\n",
      "Not matched!\n"
     ]
    }
   ],
   "source": [
    "# check zero or one b's   \n",
    "def text_match(text):\n",
    "        patterns = '^a(b?)$'\n",
    "        if re.search(patterns,  text):\n",
    "                return 'Found a match!'\n",
    "        else:\n",
    "                return('Not matched!')\n",
    "print(text_match(\"ac\"))\n",
    "print(text_match(\"abc\"))\n",
    "print(text_match(\"a\"))\n",
    "print(text_match(\"ab\"))\n",
    "print(text_match(\"abb\"))"
   ]
  },
  {
   "cell_type": "code",
   "execution_count": 24,
   "id": "8d656cd7",
   "metadata": {},
   "outputs": [
    {
     "name": "stdout",
     "output_type": "stream",
     "text": [
      "Not matched!\n",
      "Found a match!\n",
      "Not matched!\n",
      "Found a match!\n",
      "Found a match!\n"
     ]
    }
   ],
   "source": [
    "# check one or more b's\n",
    "def text_match(text):\n",
    "        patterns = '^a(b+)'\n",
    "        if re.search(patterns,  text):\n",
    "                return 'Found a match!'\n",
    "        else:\n",
    "                return('Not matched!')\n",
    "\n",
    "print(text_match(\"ac\"))\n",
    "print(text_match(\"abc\"))\n",
    "print(text_match(\"a\"))\n",
    "print(text_match(\"ab\"))\n",
    "print(text_match(\"abb\"))"
   ]
  },
  {
   "cell_type": "code",
   "execution_count": 28,
   "id": "cb43782b",
   "metadata": {},
   "outputs": [
    {
     "name": "stdout",
     "output_type": "stream",
     "text": [
      "Not matched!\n",
      "Found a match!\n",
      "Not matched!\n",
      "Not matched!\n",
      "Found a match!\n"
     ]
    }
   ],
   "source": [
    "# check three b's\n",
    "def text_match(text):\n",
    "        patterns = '^ab{3}'\n",
    "        if re.search(patterns,  text):\n",
    "                return 'Found a match!'\n",
    "        else:\n",
    "                return('Not matched!')\n",
    "\n",
    "print(text_match(\"ac\"))\n",
    "print(text_match(\"abbbc\"))\n",
    "print(text_match(\"a\"))\n",
    "print(text_match(\"ab\"))\n",
    "print(text_match(\"abbb\"))"
   ]
  },
  {
   "cell_type": "code",
   "execution_count": 29,
   "id": "45e6693d",
   "metadata": {},
   "outputs": [
    {
     "name": "stdout",
     "output_type": "stream",
     "text": [
      "Not matched!\n",
      "Found a match!\n",
      "Not matched!\n",
      "Not matched!\n",
      "Found a match!\n"
     ]
    }
   ],
   "source": [
    "# check two to three b's \n",
    "def text_match(text):\n",
    "        patterns = '^ab{2,3}'\n",
    "        if re.search(patterns,  text):\n",
    "                return 'Found a match!'\n",
    "        else:\n",
    "                return('Not matched!')\n",
    "\n",
    "print(text_match(\"ac\"))\n",
    "print(text_match(\"abbc\"))\n",
    "print(text_match(\"a\"))\n",
    "print(text_match(\"ab\"))\n",
    "print(text_match(\"abbb\"))"
   ]
  },
  {
   "cell_type": "markdown",
   "id": "fecfc6d4",
   "metadata": {},
   "source": [
    "# 3. find upper & lower case char "
   ]
  },
  {
   "cell_type": "code",
   "execution_count": 34,
   "id": "d241b681",
   "metadata": {},
   "outputs": [
    {
     "name": "stdout",
     "output_type": "stream",
     "text": [
      "Not matched!\n",
      "Not matched!\n",
      "Found a match!\n"
     ]
    }
   ],
   "source": [
    "# find lowercase char by _\n",
    "import re\n",
    "\n",
    "def text_match(text):\n",
    "        patterns = '^[a-z]+_[a-z]+$'\n",
    "        if re.search(patterns,  text):\n",
    "                return 'Found a match!'\n",
    "        else:\n",
    "                return('Not matched!')\n",
    "\n",
    "print(text_match(\"aabcbbbc\"))\n",
    "print(text_match(\"aab_Abbbc\"))\n",
    "print(text_match(\"aab_cbbbc\"))\n"
   ]
  },
  {
   "cell_type": "code",
   "execution_count": 36,
   "id": "cc840ca2",
   "metadata": {},
   "outputs": [
    {
     "name": "stdout",
     "output_type": "stream",
     "text": [
      "Found a match!\n",
      "Found a match!\n",
      "Not matched!\n",
      "Not matched!\n",
      "Not matched!\n",
      "Found a match!\n"
     ]
    }
   ],
   "source": [
    "# upper case char and find \n",
    "import re\n",
    "\n",
    "def text_match(text):\n",
    "        patterns = '[A-Z]+[a-z]+$'\n",
    "        if re.search(patterns, text):\n",
    "                return 'Found a match!'\n",
    "        else:\n",
    "                return('Not matched!')\n",
    "print(text_match(\"AaBbGg\"))\n",
    "print(text_match(\"Python\"))\n",
    "print(text_match(\"python\"))\n",
    "print(text_match(\"PYTHON\"))\n",
    "print(text_match(\"aA\"))\n",
    "print(text_match(\"Aa\"))"
   ]
  },
  {
   "cell_type": "markdown",
   "id": "f8825cf5",
   "metadata": {},
   "source": [
    "# 4. check starts with 'a' ending in 'b'."
   ]
  },
  {
   "cell_type": "code",
   "execution_count": 37,
   "id": "010e06e4",
   "metadata": {},
   "outputs": [
    {
     "name": "stdout",
     "output_type": "stream",
     "text": [
      "Not matched!\n",
      "Not matched!\n",
      "Found a match!\n"
     ]
    }
   ],
   "source": [
    "import re\n",
    "def text_match(text):\n",
    "        patterns = 'a.*?b$'\n",
    "        if re.search(patterns,  text):\n",
    "                return 'Found a match!'\n",
    "        else:\n",
    "                return('Not matched!')\n",
    "\n",
    "print(text_match(\"aabbbbd\"))\n",
    "print(text_match(\"aabAbbbc\"))\n",
    "print(text_match(\"accddbbjjjb\"))"
   ]
  },
  {
   "cell_type": "code",
   "execution_count": 51,
   "id": "218e6791",
   "metadata": {},
   "outputs": [
    {
     "name": "stdout",
     "output_type": "stream",
     "text": [
      "False\n",
      "True\n"
     ]
    }
   ],
   "source": [
    "# check for a number at the end of a string.\n",
    "import re\n",
    "def end_num(string):\n",
    "    text = re.compile(r\".*[0-9]$\")\n",
    "    if text.match(string):\n",
    "        return True\n",
    "    else:\n",
    "        return False\n",
    "\n",
    "print(end_num('abcdef'))\n",
    "print(end_num('abcdef6'))"
   ]
  },
  {
   "cell_type": "markdown",
   "id": "67a041b3",
   "metadata": {},
   "source": [
    "# 5. check specific char  or number"
   ]
  },
  {
   "cell_type": "code",
   "execution_count": 38,
   "id": "10d8c0fd",
   "metadata": {},
   "outputs": [
    {
     "name": "stdout",
     "output_type": "stream",
     "text": [
      "Found a match!\n",
      "Not matched!\n"
     ]
    }
   ],
   "source": [
    "# z char conatins in word\n",
    "import re\n",
    "def text_match(text):\n",
    "        patterns = '\\w*z.\\w*'\n",
    "        if re.search(patterns,  text):\n",
    "                return 'Found a match!'\n",
    "        else:\n",
    "                return('Not matched!')\n",
    "\n",
    "print(text_match(\"The quick brown fox jumps over the lazy dog.\"))\n",
    "print(text_match(\"Python Exercises.\"))\n"
   ]
  },
  {
   "cell_type": "code",
   "execution_count": 39,
   "id": "173e7187",
   "metadata": {},
   "outputs": [
    {
     "name": "stdout",
     "output_type": "stream",
     "text": [
      "Found a match!\n",
      "Not matched!\n"
     ]
    }
   ],
   "source": [
    "# 'z' not the start or end of the word\n",
    "import re\n",
    "def text_match(text):\n",
    "        patterns = '\\Bz\\B'\n",
    "        if re.search(patterns,  text):\n",
    "                return 'Found a match!'\n",
    "        else:\n",
    "                return('Not matched!')\n",
    "\n",
    "print(text_match(\"The quick brown fox jumps over the lazy dog.\"))\n",
    "print(text_match(\"Python Exercises.\"))"
   ]
  },
  {
   "cell_type": "code",
   "execution_count": 42,
   "id": "6ec0dae6",
   "metadata": {},
   "outputs": [
    {
     "name": "stdout",
     "output_type": "stream",
     "text": [
      "True\n",
      "False\n"
     ]
    }
   ],
   "source": [
    "# 5 specific number\n",
    "import re\n",
    "def match_num(string):\n",
    "    text = re.compile(r\"^5\")\n",
    "    if text.match(string):\n",
    "        return True\n",
    "    else:\n",
    "        return False\n",
    "print(match_num('5-2345861'))\n",
    "print(match_num('6-2345861'))"
   ]
  },
  {
   "cell_type": "code",
   "execution_count": 92,
   "id": "0355b70c",
   "metadata": {},
   "outputs": [
    {
     "name": "stdout",
     "output_type": "stream",
     "text": [
      "['example', 'eates', 'an', 'ayList', 'apacity', 'elements', 'elements', 'are', 'en', 'added', 'ayList', 'and', 'ayList', 'ed', 'accordingly']\n"
     ]
    }
   ],
   "source": [
    "# #find all the words starting with 'a' or 'e'\n",
    "text = \"The following example creates an ArrayList with a capacity of 50 elements. Four elements are then added to the ArrayList and the ArrayList is trimmed accordingly.\"\n",
    "\n",
    "list = re.findall(\"[ae]\\w+\", text)\n",
    "print(list)"
   ]
  },
  {
   "cell_type": "markdown",
   "id": "826c9da3",
   "metadata": {},
   "source": [
    "## 6. string contains only upper and lowercase letters, numbers, and _"
   ]
  },
  {
   "cell_type": "code",
   "execution_count": 41,
   "id": "c8388e38",
   "metadata": {},
   "outputs": [
    {
     "name": "stdout",
     "output_type": "stream",
     "text": [
      "Not matched!\n",
      "Found a match!\n"
     ]
    }
   ],
   "source": [
    "import re\n",
    "def text_match(text):\n",
    "        patterns = '^[a-zA-Z0-9_]*$'\n",
    "        if re.search(patterns,  text):\n",
    "                return 'Found a match!'\n",
    "        else:\n",
    "                return('Not matched!')\n",
    "\n",
    "print(text_match(\"The quick brown fox jumps over the lazy dog.\"))\n",
    "print(text_match(\"Python_Exercises_1\"))"
   ]
  },
  {
   "cell_type": "markdown",
   "id": "6795d733",
   "metadata": {},
   "source": [
    "# 7. remove leading zero's in ip addr"
   ]
  },
  {
   "cell_type": "code",
   "execution_count": 43,
   "id": "2d149b26",
   "metadata": {},
   "outputs": [
    {
     "name": "stdout",
     "output_type": "stream",
     "text": [
      "216.8.94.196\n"
     ]
    }
   ],
   "source": [
    "import re\n",
    "ip = \"216.08.094.196\"\n",
    "string = re.sub('\\.[0]*', '.', ip)\n",
    "print(string)"
   ]
  },
  {
   "cell_type": "markdown",
   "id": "6a595a9f",
   "metadata": {},
   "source": [
    "# 8. search nums in a string"
   ]
  },
  {
   "cell_type": "code",
   "execution_count": 54,
   "id": "51786cbc",
   "metadata": {},
   "outputs": [
    {
     "name": "stdout",
     "output_type": "stream",
     "text": [
      "1\n",
      "12\n",
      "13\n",
      "345\n"
     ]
    }
   ],
   "source": [
    "import re\n",
    "\n",
    "Str = \"Exercises number 1, 12, 13, and 345 are important\"\n",
    "results = re.finditer(r\"([0-9]{1,3})\", Str)\n",
    "for n in results:\n",
    "     print(n.group(0))"
   ]
  },
  {
   "cell_type": "code",
   "execution_count": 88,
   "id": "443285da",
   "metadata": {},
   "outputs": [
    {
     "name": "stdout",
     "output_type": "stream",
     "text": [
      "10\n",
      "20\n",
      "30\n"
     ]
    }
   ],
   "source": [
    "text = \"Ten 10, Twenty 20, Thirty 30\"\n",
    "\n",
    "res = re.finditer(r'\\b\\d+\\b', text)\n",
    "for m in res:\n",
    "    print(m.group(0))"
   ]
  },
  {
   "cell_type": "code",
   "execution_count": 93,
   "id": "8da982c3",
   "metadata": {},
   "outputs": [
    {
     "name": "stdout",
     "output_type": "stream",
     "text": [
      "50\n",
      "Index position: 62\n"
     ]
    }
   ],
   "source": [
    "text = \"The following example creates an ArrayList with a capacity of 50 elements. Four elements are then added to the ArrayList and the ArrayList is trimmed accordingly.\"\n",
    "\n",
    "text = \"The following example creates an ArrayList with a capacity of 50 elements. Four elements are then added to the ArrayList and the ArrayList is trimmed accordingly.\"\n",
    "\n",
    "for m in re.finditer(\"\\d+\", text):\n",
    "    print(m.group(0))\n",
    "    print(\"Index position:\", m.start())"
   ]
  },
  {
   "cell_type": "code",
   "execution_count": 91,
   "id": "19ea42b3",
   "metadata": {},
   "outputs": [
    {
     "name": "stdout",
     "output_type": "stream",
     "text": [
      "\n",
      "10\n",
      "20\n",
      "30\n"
     ]
    }
   ],
   "source": [
    "import re\n",
    "\n",
    "text = \"Ten 10, Twenty 20, Thirty 30\"\n",
    "result = re.split(\"\\D+\", text)\n",
    "\n",
    "for element in result:\n",
    "    print(element)"
   ]
  },
  {
   "cell_type": "markdown",
   "id": "8108c173",
   "metadata": {},
   "source": [
    "# 9. literal strings: List of words search in string \n",
    "List of words search in string "
   ]
  },
  {
   "cell_type": "code",
   "execution_count": 57,
   "id": "46c2dcef",
   "metadata": {},
   "outputs": [
    {
     "name": "stdout",
     "output_type": "stream",
     "text": [
      "search \"fox\" in \"The quick brown fox jumps over the lazy dog.\" ->\n",
      "Matched!\n",
      "search \"dog\" in \"The quick brown fox jumps over the lazy dog.\" ->\n",
      "Matched!\n",
      "search \"horse\" in \"The quick brown fox jumps over the lazy dog.\" ->\n",
      "Not Matched!\n"
     ]
    }
   ],
   "source": [
    "import re\n",
    "\n",
    "words = [ 'fox', 'dog', 'horse' ]\n",
    "text = 'The quick brown fox jumps over the lazy dog.'\n",
    "for pattern in words:\n",
    "    print('search \"%s\" in \"%s\" ->' % (pattern, text),)\n",
    "    if re.search(pattern,  text):\n",
    "        print('Matched!')\n",
    "    else:\n",
    "        print('Not Matched!')"
   ]
  },
  {
   "cell_type": "markdown",
   "id": "581a0077",
   "metadata": {},
   "source": [
    "# 10. literal strings: List of word position/ location / Index"
   ]
  },
  {
   "cell_type": "code",
   "execution_count": 58,
   "id": "74363dff",
   "metadata": {},
   "outputs": [
    {
     "name": "stdout",
     "output_type": "stream",
     "text": [
      "Found \"fox\" in \"The quick brown fox jumps over the lazy dog.\" from 16 to 19 \n"
     ]
    }
   ],
   "source": [
    "import re\n",
    "pattern = 'fox'\n",
    "text = 'The quick brown fox jumps over the lazy dog.'\n",
    "match = re.search(pattern, text)\n",
    "s = match.start()\n",
    "e = match.end()\n",
    "print('Found \"%s\" in \"%s\" from %d to %d ' % \\\n",
    "    (match.re.pattern, match.string, s, e))"
   ]
  },
  {
   "cell_type": "markdown",
   "id": "ad2a8397",
   "metadata": {},
   "source": [
    "# 11. Find substring within string"
   ]
  },
  {
   "cell_type": "code",
   "execution_count": 59,
   "id": "e44fcb54",
   "metadata": {},
   "outputs": [
    {
     "name": "stdout",
     "output_type": "stream",
     "text": [
      "Found \"exercises\"\n",
      "Found \"exercises\"\n",
      "Found \"exercises\"\n"
     ]
    }
   ],
   "source": [
    "import re\n",
    "text = 'Python exercises, PHP exercises, C# exercises'\n",
    "\n",
    "pattern = 'exercises'\n",
    "for match in re.findall(pattern, text):\n",
    "    print('Found \"%s\"' % match)"
   ]
  },
  {
   "cell_type": "markdown",
   "id": "db684ae4",
   "metadata": {},
   "source": [
    "# 12. Find match char within Array"
   ]
  },
  {
   "cell_type": "code",
   "execution_count": 79,
   "id": "a76ccbdb",
   "metadata": {},
   "outputs": [
    {
     "name": "stdout",
     "output_type": "stream",
     "text": [
      "('Python', 'PHP')\n"
     ]
    }
   ],
   "source": [
    "words = [\"Python PHP\", \"Java JavaScript\", \"c c++\"]\n",
    "\n",
    "for w in words:\n",
    "        m = re.match(\"(P\\w+)\\s+(P\\w+)\", w)\n",
    "        if m:\n",
    "            print(m.groups())"
   ]
  },
  {
   "cell_type": "markdown",
   "id": "37076763",
   "metadata": {},
   "source": [
    "# 13. List of string literals position/ location / Index"
   ]
  },
  {
   "cell_type": "code",
   "execution_count": 60,
   "id": "cdf3537a",
   "metadata": {},
   "outputs": [
    {
     "name": "stdout",
     "output_type": "stream",
     "text": [
      "Found \"exercises\" at 7:16\n",
      "Found \"exercises\" at 22:31\n",
      "Found \"exercises\" at 36:45\n"
     ]
    }
   ],
   "source": [
    "import re\n",
    "\n",
    "text = 'Python exercises, PHP exercises, C# exercises'\n",
    "pattern = 'exercises'\n",
    "for match in re.finditer(pattern, text):\n",
    "    s = match.start()\n",
    "    e = match.end()\n",
    "    print('Found \"%s\" at %d:%d' % (text[s:e], s, e))"
   ]
  },
  {
   "cell_type": "code",
   "execution_count": 92,
   "id": "61b17617",
   "metadata": {},
   "outputs": [
    {
     "name": "stdout",
     "output_type": "stream",
     "text": [
      "0-7: Clearly\n"
     ]
    }
   ],
   "source": [
    "#all adverbs and their positions\n",
    "\n",
    "text = \"Clearly, he has no excuse for such behavior.\"\n",
    "for m in re.finditer(r\"\\w+ly\", text):\n",
    "    print('%d-%d: %s' % (m.start(), m.end(), m.group(0)))"
   ]
  },
  {
   "cell_type": "markdown",
   "id": "c2a154c2",
   "metadata": {},
   "source": [
    "# 14. replace ' ' with an '_'"
   ]
  },
  {
   "cell_type": "code",
   "execution_count": 70,
   "id": "771bd2a3",
   "metadata": {},
   "outputs": [
    {
     "name": "stdout",
     "output_type": "stream",
     "text": [
      "Python_Exercises\n",
      "Python Exercises\n"
     ]
    }
   ],
   "source": [
    "text = 'Python Exercises'\n",
    "text =text.replace(\" \", \"_\")\n",
    "print(text)\n",
    "text =text.replace(\"_\", \" \")\n",
    "print(text)"
   ]
  },
  {
   "cell_type": "code",
   "execution_count": 89,
   "id": "231c2cec",
   "metadata": {},
   "outputs": [
    {
     "name": "stdout",
     "output_type": "stream",
     "text": [
      "php Exercises\n"
     ]
    }
   ],
   "source": [
    "text = \"PHP Exercises\"\n",
    "new_text = text.replace('PHP', 'php')\n",
    "print(new_text)"
   ]
  },
  {
   "cell_type": "code",
   "execution_count": 90,
   "id": "11512b40",
   "metadata": {},
   "outputs": [
    {
     "name": "stdout",
     "output_type": "stream",
     "text": [
      "php Exercises\n"
     ]
    }
   ],
   "source": [
    "import re\n",
    "\n",
    "text = \"PHP Exercises\"\n",
    "new_text = re.sub(r'PHP', 'php', text)\n",
    "print(new_text)"
   ]
  },
  {
   "cell_type": "code",
   "execution_count": 96,
   "id": "82b742b4",
   "metadata": {},
   "outputs": [
    {
     "name": "stdout",
     "output_type": "stream",
     "text": [
      "21 Ramkrishna Rd.\n"
     ]
    }
   ],
   "source": [
    "# abbreviate 'Road' as 'Rd.' \n",
    "import re\n",
    "\n",
    "street = '21 Ramkrishna Road'\n",
    "print(re.sub('Road', 'Rd.', street))"
   ]
  },
  {
   "cell_type": "code",
   "execution_count": 97,
   "id": "2be911ca",
   "metadata": {},
   "outputs": [
    {
     "name": "stdout",
     "output_type": "stream",
     "text": [
      "Python:Exercises::PHP:exercises:\n"
     ]
    }
   ],
   "source": [
    "# replace all occurrences of a space, comma, or dot with a colon\n",
    "import re\n",
    "\n",
    "text = 'Python Exercises, PHP exercises.'\n",
    "print(re.sub(\"[ ,.]\", \":\", text))"
   ]
  },
  {
   "cell_type": "markdown",
   "id": "e09059a4",
   "metadata": {},
   "source": [
    "# 15. URL's"
   ]
  },
  {
   "cell_type": "code",
   "execution_count": 72,
   "id": "31768ffa",
   "metadata": {},
   "outputs": [
    {
     "data": {
      "text/plain": [
       "[('2016', '09', '02')]"
      ]
     },
     "execution_count": 72,
     "metadata": {},
     "output_type": "execute_result"
    }
   ],
   "source": [
    "url= \"https://www.washingtonpost.com/news/football-insider/wp/2016/09/02/odell-beckhams-fame-rests-on-one-stupid-little-ball-josh-norman-tells-author/\"\n",
    "\n",
    "re.findall(r'/(\\d{4})/(\\d{1,2})/(\\d{1,2})/', url)"
   ]
  },
  {
   "cell_type": "code",
   "execution_count": 78,
   "id": "89b95504",
   "metadata": {},
   "outputs": [
    {
     "name": "stdout",
     "output_type": "stream",
     "text": [
      "['https://w3resource.com', 'http://github.com']\n"
     ]
    }
   ],
   "source": [
    "import re\n",
    "text = '<p>Contents :</p><a href=\"https://w3resource.com\">Python Examples</a><a href=\"http://github.com\">Even More Examples</a>'\n",
    "urls = re.findall(r'https?://\\S+\\.com\\b', text)\n",
    "print(urls)"
   ]
  },
  {
   "cell_type": "code",
   "execution_count": 58,
   "id": "d412d9c2",
   "metadata": {},
   "outputs": [
    {
     "name": "stdout",
     "output_type": "stream",
     "text": [
      "['https://w3resource.com', 'http://github.com']\n"
     ]
    }
   ],
   "source": [
    "import re\n",
    "\n",
    "text = '<p>Contents :</p><a href=\"https://w3resource.com\">Python Examples</a><a href=\"http://github.com\">Even More Examples</a>'\n",
    "s1 = re.findall('http[s]?://(?:[a-zA-Z]|[0-9]|[$-_@.&+]|[!*\\(\\),]|(?:%[0-9a-fA-F][0-9a-fA-F]))+',text)\n",
    "print(s1)"
   ]
  },
  {
   "cell_type": "markdown",
   "id": "64f8d2ef",
   "metadata": {},
   "source": [
    "# 16. Find 5 Char Word"
   ]
  },
  {
   "cell_type": "code",
   "execution_count": 98,
   "id": "644b3801",
   "metadata": {},
   "outputs": [
    {
     "name": "stdout",
     "output_type": "stream",
     "text": [
      "['quick', 'brown', 'jumps']\n"
     ]
    }
   ],
   "source": [
    "import re\n",
    "\n",
    "text = 'The quick brown fox jumps over the lazy dog.'\n",
    "print(re.findall(r\"\\b\\w{5}\\b\", text))"
   ]
  },
  {
   "cell_type": "code",
   "execution_count": 99,
   "id": "4f64b9d2",
   "metadata": {},
   "outputs": [
    {
     "name": "stdout",
     "output_type": "stream",
     "text": [
      "['The', 'quick', 'brown', 'fox', 'jumps', 'over', 'the', 'lazy', 'dog']\n"
     ]
    }
   ],
   "source": [
    "# find all three, four, and five character words\n",
    "import re\n",
    "\n",
    "text = 'The quick brown fox jumps over the lazy dog.'\n",
    "print(re.findall(r\"\\b\\w{3,5}\\b\", text))"
   ]
  },
  {
   "cell_type": "code",
   "execution_count": 100,
   "id": "1f69f371",
   "metadata": {},
   "outputs": [
    {
     "name": "stdout",
     "output_type": "stream",
     "text": [
      "['quick', 'brown', 'jumps', 'over', 'lazy']\n"
     ]
    }
   ],
   "source": [
    "# all words that are at least 4 characters long\n",
    "\n",
    "import re\n",
    "text = 'The quick brown fox jumps over the lazy dog.'\n",
    "print(re.findall(r\"\\b\\w{4,}\\b\", text))"
   ]
  },
  {
   "cell_type": "markdown",
   "id": "9536ff48",
   "metadata": {},
   "source": [
    "# 17. Camel-case to snake-case string vice versa"
   ]
  },
  {
   "cell_type": "code",
   "execution_count": 111,
   "id": "814fd833",
   "metadata": {},
   "outputs": [
    {
     "name": "stdout",
     "output_type": "stream",
     "text": [
      "python_exercises\n"
     ]
    }
   ],
   "source": [
    "# PythonExercises -> python_exercises \n",
    "str1 = re.sub('([a-z0-9])([A-Z])', r'\\1_\\2', 'PythonExercises').lower()\n",
    "print(str1)"
   ]
  },
  {
   "cell_type": "code",
   "execution_count": 127,
   "id": "748e5643",
   "metadata": {},
   "outputs": [
    {
     "name": "stdout",
     "output_type": "stream",
     "text": [
      "PythonExercises\n"
     ]
    }
   ],
   "source": [
    "input_text = \"python_exercises\"\n",
    "\n",
    "output_text = re.sub(r'_(\\w)', lambda x: x.group(1).upper(), input_text)\n",
    "output_text = output_text[0].upper() + output_text[1:]\n",
    "\n",
    "print(output_text)"
   ]
  },
  {
   "cell_type": "code",
   "execution_count": 129,
   "id": "186d495b",
   "metadata": {},
   "outputs": [
    {
     "data": {
      "text/plain": [
       "'PythonExercises'"
      ]
     },
     "execution_count": 129,
     "metadata": {},
     "output_type": "execute_result"
    }
   ],
   "source": [
    "word = 'python_exercises'\n",
    "\n",
    "''.join(x.capitalize() or '_' for x in word.split('_'))"
   ]
  },
  {
   "cell_type": "markdown",
   "id": "2dbaf6e1",
   "metadata": {},
   "source": [
    "# 18. Remove quatations in string"
   ]
  },
  {
   "cell_type": "code",
   "execution_count": 130,
   "id": "3b932076",
   "metadata": {},
   "outputs": [
    {
     "name": "stdout",
     "output_type": "stream",
     "text": [
      "['Python', 'PHP', 'Java']\n"
     ]
    }
   ],
   "source": [
    "import re\n",
    "\n",
    "text1 = '\"Python\", \"PHP\", \"Java\"'\n",
    "print(re.findall(r'\"(.*?)\"', text1))"
   ]
  },
  {
   "cell_type": "code",
   "execution_count": 2,
   "id": "d37801ca",
   "metadata": {},
   "outputs": [
    {
     "name": "stdout",
     "output_type": "stream",
     "text": [
      " hi hello how are you \n"
     ]
    }
   ],
   "source": [
    "# remove all starting or ending double quatations\n",
    "input_str = '\"\"\" hi hello how are you \"\"\"'\n",
    "\n",
    "out = re.sub(r'^\"{3}|\"{3}$', '', input_str)\n",
    "print(out)"
   ]
  },
  {
   "cell_type": "code",
   "execution_count": 3,
   "id": "5c682fa1",
   "metadata": {},
   "outputs": [
    {
     "name": "stdout",
     "output_type": "stream",
     "text": [
      "hi hello Naresh how are you\n"
     ]
    }
   ],
   "source": [
    "# remove all double quatations\n",
    "\n",
    "input_str = 'hi hello \"\"\"Naresh\"\"\" how \"\"are\"\" you'\n",
    "Str = re.sub(r'\"\"|\"([^\"]*)\"|', r'\\1', input_str)\n",
    "\n",
    "print(Str)"
   ]
  },
  {
   "cell_type": "code",
   "execution_count": 37,
   "id": "0d897b67",
   "metadata": {},
   "outputs": [
    {
     "name": "stdout",
     "output_type": "stream",
     "text": [
      "hi hello Naresh how are you my friend where are you\n"
     ]
    }
   ],
   "source": [
    "# remove 1 or more double quatations (all)\n",
    "\n",
    "Str = 'hi hello \"\"Naresh\"\" how are you my friend \"\"\"where\"\"\" are you'\n",
    "\n",
    "out = re.sub(r'\"{1,}', '', Str)\n",
    "print(out)"
   ]
  },
  {
   "cell_type": "code",
   "execution_count": 38,
   "id": "209d6a7c",
   "metadata": {},
   "outputs": [
    {
     "name": "stdout",
     "output_type": "stream",
     "text": [
      "hi hello Naresh how \"are\" you my friend where are you\n"
     ]
    }
   ],
   "source": [
    "# remove 2 or more double quatations\n",
    "\n",
    "Str = 'hi hello \"\"Naresh\"\" how \"are\" you my friend \"\"\"where\"\"\" are you'\n",
    "\n",
    "out = re.sub(r'\"{2,}', '', Str)\n",
    "print(out)"
   ]
  },
  {
   "cell_type": "code",
   "execution_count": 39,
   "id": "0116e948",
   "metadata": {},
   "outputs": [
    {
     "name": "stdout",
     "output_type": "stream",
     "text": [
      "hi hello \"Naresh\" how \"are\" you my friend \"where\" are you\n"
     ]
    }
   ],
   "source": [
    "# remove 2 or more double quatations & replace 1 double quatation\n",
    "\n",
    "Str = 'hi hello \"\"Naresh\"\" how \"are\" you my friend \"\"\"where\"\"\" are you'\n",
    "\n",
    "out = re.sub(r'\"{2,}', '\"', Str)\n",
    "print(out)"
   ]
  },
  {
   "cell_type": "markdown",
   "id": "5ef4e818",
   "metadata": {},
   "source": [
    "# 19. Remove all white space in string"
   ]
  },
  {
   "cell_type": "code",
   "execution_count": 46,
   "id": "ee9478a9",
   "metadata": {},
   "outputs": [
    {
     "name": "stdout",
     "output_type": "stream",
     "text": [
      "PythonExercises\n",
      "Python Exercises \n"
     ]
    }
   ],
   "source": [
    "text1 = 'Python                 Exercises '\n",
    "print(re.sub(r'\\s+', '',text1))\n",
    "print(re.sub(r'\\s+',' ',text1))"
   ]
  },
  {
   "cell_type": "markdown",
   "id": "7c165da1",
   "metadata": {},
   "source": [
    "# 20. Split the string into upper case letter"
   ]
  },
  {
   "cell_type": "code",
   "execution_count": 80,
   "id": "ca5a3150",
   "metadata": {},
   "outputs": [
    {
     "name": "stdout",
     "output_type": "stream",
     "text": [
      "['P', 'T', 'A', 'E']\n"
     ]
    }
   ],
   "source": [
    "Str = \"PythonTutorialAndExercises\"\n",
    "\n",
    "letters = re.findall('[A-Z]',Str)\n",
    "print(letters)"
   ]
  },
  {
   "cell_type": "code",
   "execution_count": 88,
   "id": "13a65849",
   "metadata": {},
   "outputs": [
    {
     "name": "stdout",
     "output_type": "stream",
     "text": [
      "['Python', 'Tutorial', 'And', 'Exercises']\n"
     ]
    }
   ],
   "source": [
    "Str = \"PythonTutorialAndExercises\"\n",
    "\n",
    "letters = re.findall('[A-Z][^A-Z]*',Str)\n",
    "print(letters)"
   ]
  },
  {
   "cell_type": "markdown",
   "id": "46ede005",
   "metadata": {},
   "source": [
    "# 21. split a string with multiple delimiters"
   ]
  },
  {
   "cell_type": "code",
   "execution_count": 94,
   "id": "bf138c44",
   "metadata": {},
   "outputs": [
    {
     "name": "stdout",
     "output_type": "stream",
     "text": [
      "['The quick', 'brown', 'fox jumps', 'over the', 'lazy dog.']\n"
     ]
    }
   ],
   "source": [
    "import re\n",
    "text = 'The quick, brown\\nfox jumps*over the; lazy dog.'\n",
    "print(re.split('; |, |\\*|\\n',text))"
   ]
  },
  {
   "cell_type": "markdown",
   "id": "c754ee7b",
   "metadata": {},
   "source": [
    "# 22. longest word in string"
   ]
  },
  {
   "cell_type": "code",
   "execution_count": 119,
   "id": "42e0f352",
   "metadata": {},
   "outputs": [
    {
     "name": "stdout",
     "output_type": "stream",
     "text": [
      "Orange\n",
      "[1, 2, 3, 4, 5]\n",
      "Java\n",
      "Python\n"
     ]
    }
   ],
   "source": [
    "def longest_item(*args):\n",
    "    return max(args, key = len)\n",
    " \n",
    "print(longest_item('Red', 'Green', 'Black', 'Orange'))\n",
    "print(longest_item([1, 2, 3], [1, 2, 3, 4], [1, 2, 3, 4, 5]))\n",
    "print(longest_item([1, 2, 3], 'Java'))\n",
    "print(longest_item({10, 100}, 'Python'))"
   ]
  },
  {
   "cell_type": "markdown",
   "id": "6e8b1ea1",
   "metadata": {},
   "source": [
    "# 23. Check word start or end with Vowel"
   ]
  },
  {
   "cell_type": "code",
   "execution_count": 124,
   "id": "8a70877c",
   "metadata": {},
   "outputs": [
    {
     "name": "stdout",
     "output_type": "stream",
     "text": [
      "True\n",
      "False\n",
      "True\n"
     ]
    }
   ],
   "source": [
    "def test(text):\n",
    "    return bool(re.findall('[/^[aeiou]$|^([aeiou]).*\\1$/', text))\n",
    "print(test(\"Red Orange White\"))\n",
    "print(test(\"Red White Black\"))\n",
    "print(test(\"abcd dkise eosksu\"))"
   ]
  },
  {
   "cell_type": "code",
   "execution_count": 133,
   "id": "f81dda31",
   "metadata": {},
   "outputs": [
    {
     "name": "stdout",
     "output_type": "stream",
     "text": [
      "True\n",
      "False\n",
      "True\n"
     ]
    }
   ],
   "source": [
    "def test(text):\n",
    "    return bool(re.findall('[AEIOUaeiou] [AEIOUaeiou]', text))\n",
    "print(test(\"apple Orange White\"))\n",
    "print(test(\"Red White Black\"))\n",
    "print(test(\"abcd dkise eosksu\"))"
   ]
  },
  {
   "cell_type": "markdown",
   "id": "51a5948c",
   "metadata": {},
   "source": [
    "# Other regular exp programs"
   ]
  },
  {
   "cell_type": "code",
   "execution_count": 91,
   "id": "b2e5fb18",
   "metadata": {},
   "outputs": [
    {
     "name": "stdout",
     "output_type": "stream",
     "text": [
      "\tgoogle.com 216.58.218.206\n"
     ]
    }
   ],
   "source": [
    "import re\n",
    "\n",
    "input_string = \"\\t\\u001b[0;35mgoogle.com\\u001b[0m \\u001b[0;36m216.58.218.206\\u001b[0m\"\n",
    "\n",
    "ansi_escape = re.compile(r'\\x1B\\[[0-?]*[ -/]*[@-~]')\n",
    "cleaned_string = ansi_escape.sub('', input_string)\n",
    "print(cleaned_string)"
   ]
  },
  {
   "cell_type": "code",
   "execution_count": 97,
   "id": "9597c4c3",
   "metadata": {},
   "outputs": [
    {
     "name": "stdout",
     "output_type": "stream",
     "text": [
      "True\n",
      "True\n",
      "True\n",
      "False\n",
      "False\n"
     ]
    }
   ],
   "source": [
    "# check a decimal with a precision of 2\n",
    "def is_decimal(num):\n",
    "    result = re.findall(r\"^[0-9]+(\\.[0-9]{1,2})?$\",num)\n",
    "    return bool(result)\n",
    "\n",
    "print(is_decimal('123.11'))\n",
    "print(is_decimal('123.1'))\n",
    "print(is_decimal('123'))\n",
    "print(is_decimal('123.1214'))\n",
    "print(is_decimal('3.124587'))"
   ]
  },
  {
   "cell_type": "code",
   "execution_count": 99,
   "id": "7e1f96ee",
   "metadata": {},
   "outputs": [
    {
     "name": "stdout",
     "output_type": "stream",
     "text": [
      " quick brown jumps over lazy\n"
     ]
    }
   ],
   "source": [
    "#remove words from a string of length between 1 to 3\n",
    "\n",
    "text = \"The quick brown fox jumps over the lazy dog\"\n",
    "shortword = re.compile(r'\\W*\\b\\w{1,3}\\b')\n",
    "print(shortword.sub('', text))"
   ]
  },
  {
   "cell_type": "code",
   "execution_count": 100,
   "id": "882fb7d7",
   "metadata": {},
   "outputs": [
    {
     "name": "stdout",
     "output_type": "stream",
     "text": [
      "['example ', 'w3resource', 'github ', 'stackoverflow ']\n"
     ]
    }
   ],
   "source": [
    "# remove paranthesis \n",
    "strings = [\"example (.com)\", \"w3resource\", \"github (.com)\", \"stackoverflow (.com)\"]\n",
    "cleaned_strings = [re.sub(r'\\([^)]*\\)', '', s) for s in strings]\n",
    "print(cleaned_strings)"
   ]
  },
  {
   "cell_type": "code",
   "execution_count": 109,
   "id": "d416b4b2",
   "metadata": {},
   "outputs": [
    {
     "name": "stdout",
     "output_type": "stream",
     "text": [
      "['example ', 'w3resource', 'github ', 'stackoverflow ']\n"
     ]
    }
   ],
   "source": [
    "strings = [\"example (.com)\", \"w3resource\", \"github (.com)\", \"stackoverflow (.com)\"]\n",
    "cleaned_strings = [re.sub(r'\\(\\.\\w+\\)','', s) for s in strings]\n",
    "print(cleaned_strings)"
   ]
  },
  {
   "cell_type": "code",
   "execution_count": 115,
   "id": "b4bb4bf1",
   "metadata": {},
   "outputs": [
    {
     "name": "stdout",
     "output_type": "stream",
     "text": [
      "Python\n",
      "Python Exercises\n",
      "Python Exercises Practice Solution\n"
     ]
    }
   ],
   "source": [
    "# insert spaces between the words starting with capital letters\n",
    "import re\n",
    "def capital_words_spaces(str1):\n",
    "    return re.sub(r\"(\\w)([A-Z])\", r\"\\1 \\2\", str1)\n",
    "\n",
    "print(capital_words_spaces(\"Python\"))\n",
    "print(capital_words_spaces(\"PythonExercises\"))\n",
    "print(capital_words_spaces(\"PythonExercisesPracticeSolution\"))"
   ]
  },
  {
   "cell_type": "code",
   "execution_count": 116,
   "id": "a72b3ad4",
   "metadata": {},
   "outputs": [
    {
     "name": "stdout",
     "output_type": "stream",
     "text": [
      "Python\n",
      "Python_Exercises\n",
      "Python_Exercises_Practice_Solution\n"
     ]
    }
   ],
   "source": [
    "# insert _ between the words starting with capital letters\n",
    "import re\n",
    "def capital_words_spaces(str1):\n",
    "    return re.sub(r\"(\\w)([A-Z])\", r\"\\1_\\2\", str1)\n",
    "\n",
    "print(capital_words_spaces(\"Python\"))\n",
    "print(capital_words_spaces(\"PythonExercises\"))\n",
    "print(capital_words_spaces(\"PythonExercisesPracticeSolution\"))"
   ]
  },
  {
   "cell_type": "code",
   "execution_count": 118,
   "id": "22f6d6a4",
   "metadata": {},
   "outputs": [
    {
     "name": "stdout",
     "output_type": "stream",
     "text": [
      "Enter at 120 Kearny Street. The security desk can direct you to floor 16\n"
     ]
    }
   ],
   "source": [
    "#concatenate the consecutive numbers in a given string.\n",
    "txt = \"Enter at 1 20 Kearny Street. The security desk can direct you to floor 1 6\"\n",
    "demo = re.sub(r'(\\d+)\\s+(\\d+)',r'\\1\\2',txt)\n",
    "print(demo)"
   ]
  },
  {
   "cell_type": "code",
   "execution_count": null,
   "id": "220c6342",
   "metadata": {},
   "outputs": [],
   "source": []
  }
 ],
 "metadata": {
  "kernelspec": {
   "display_name": "Python 3 (ipykernel)",
   "language": "python",
   "name": "python3"
  },
  "language_info": {
   "codemirror_mode": {
    "name": "ipython",
    "version": 3
   },
   "file_extension": ".py",
   "mimetype": "text/x-python",
   "name": "python",
   "nbconvert_exporter": "python",
   "pygments_lexer": "ipython3",
   "version": "3.11.5"
  }
 },
 "nbformat": 4,
 "nbformat_minor": 5
}
