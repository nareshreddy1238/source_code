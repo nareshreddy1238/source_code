{
 "cells": [
  {
   "cell_type": "markdown",
   "id": "803c6157",
   "metadata": {},
   "source": [
    "# Functions:\n"
   ]
  },
  {
   "cell_type": "markdown",
   "id": "33604ecc",
   "metadata": {},
   "source": [
    "# 1. Function without arguments"
   ]
  },
  {
   "cell_type": "code",
   "execution_count": 1,
   "id": "98ffe434",
   "metadata": {},
   "outputs": [
    {
     "name": "stdout",
     "output_type": "stream",
     "text": [
      "Hello World\n"
     ]
    }
   ],
   "source": [
    "def fun():\n",
    "    print(\"Hello World\")\n",
    "fun()"
   ]
  },
  {
   "cell_type": "markdown",
   "id": "f000e81c",
   "metadata": {},
   "source": [
    "# 2. Passing parameters"
   ]
  },
  {
   "cell_type": "code",
   "execution_count": 2,
   "id": "a14ee9a8",
   "metadata": {},
   "outputs": [
    {
     "name": "stdout",
     "output_type": "stream",
     "text": [
      "hi nani\n"
     ]
    }
   ],
   "source": [
    "def fun(name):\n",
    "    print(\"hi\",name)\n",
    "fun(\"nani\")"
   ]
  },
  {
   "cell_type": "markdown",
   "id": "b94c98fb",
   "metadata": {},
   "source": [
    "# 3. Required Arguments / Number of Arguments / Exact Match Requirements "
   ]
  },
  {
   "cell_type": "code",
   "execution_count": 3,
   "id": "ceb4b5d7",
   "metadata": {},
   "outputs": [
    {
     "name": "stdout",
     "output_type": "stream",
     "text": [
      "nani 27\n"
     ]
    }
   ],
   "source": [
    "def fun(name,age):\n",
    "    print(name,age)\n",
    "fun(\"nani\",27)  "
   ]
  },
  {
   "cell_type": "markdown",
   "id": "365c72da",
   "metadata": {},
   "source": [
    "# 4. Keyword Arguments: "
   ]
  },
  {
   "cell_type": "code",
   "execution_count": 4,
   "id": "674bde11",
   "metadata": {},
   "outputs": [
    {
     "name": "stdout",
     "output_type": "stream",
     "text": [
      "nani 28\n"
     ]
    }
   ],
   "source": [
    "def fun(name,age):\n",
    "    print(name,age)\n",
    "fun(name=\"nani\",age=28)"
   ]
  },
  {
   "cell_type": "markdown",
   "id": "ec13b35b",
   "metadata": {},
   "source": [
    "# 5. Default parameter value"
   ]
  },
  {
   "cell_type": "code",
   "execution_count": 6,
   "id": "4eced1b8",
   "metadata": {},
   "outputs": [
    {
     "name": "stdout",
     "output_type": "stream",
     "text": [
      "I am from Norway\n",
      "I am from Sweden\n",
      "I am from India\n",
      "I am from Brazil\n"
     ]
    }
   ],
   "source": [
    "def my_function(country = \"Norway\"):\n",
    "    print(\"I am from \" + country)\n",
    "\n",
    "my_function()\n",
    "my_function(\"Sweden\")\n",
    "my_function(\"India\")\n",
    "my_function(\"Brazil\")"
   ]
  },
  {
   "cell_type": "markdown",
   "id": "8dc96c3d",
   "metadata": {},
   "source": [
    "# 6. passing Data types as an Arguments:"
   ]
  },
  {
   "cell_type": "code",
   "execution_count": 8,
   "id": "9b93b2f4",
   "metadata": {},
   "outputs": [
    {
     "name": "stdout",
     "output_type": "stream",
     "text": [
      "apple\n",
      "banana\n",
      "cherry\n"
     ]
    }
   ],
   "source": [
    "def my_function(food):\n",
    "    for x in food:\n",
    "        print(x)\n",
    "fruits = [\"apple\", \"banana\", \"cherry\"]\n",
    "my_function(fruits)"
   ]
  },
  {
   "cell_type": "markdown",
   "id": "a907f337",
   "metadata": {},
   "source": [
    "# 7. Arbitory Arguments (or) Variable-length Arguments (or) *args: multiple args"
   ]
  },
  {
   "cell_type": "code",
   "execution_count": 9,
   "id": "184d320e",
   "metadata": {},
   "outputs": [
    {
     "name": "stdout",
     "output_type": "stream",
     "text": [
      "100\n"
     ]
    }
   ],
   "source": [
    "def fun(*a):\n",
    "    sum = 0\n",
    "    for v in a:\n",
    "        sum = sum+v\n",
    "    return sum\n",
    "s= fun(10,20,30,40)\n",
    "print(s)"
   ]
  },
  {
   "cell_type": "markdown",
   "id": "32343c76",
   "metadata": {},
   "source": [
    "# 8. Arbitory keyword Arguments (**args): multiple key:value pairs "
   ]
  },
  {
   "cell_type": "code",
   "execution_count": 17,
   "id": "c141b696",
   "metadata": {},
   "outputs": [
    {
     "name": "stdout",
     "output_type": "stream",
     "text": [
      "my name is Naresh Reddy Palugulla\n"
     ]
    }
   ],
   "source": [
    "def my_func(**kid):\n",
    "    print(\"my name is \" + kid[\"fname\"] + kid[\"mname\"] + kid[\"lname\"])\n",
    "my_func(fname = \"Naresh\", mname= \" Reddy\" , lname = \" Palugulla\")"
   ]
  },
  {
   "cell_type": "markdown",
   "id": "d6a1eb60",
   "metadata": {},
   "source": [
    "# 9. Return: \n",
    "Normal function has return: after return nothing to be executed"
   ]
  },
  {
   "cell_type": "code",
   "execution_count": 18,
   "id": "e4d59392",
   "metadata": {},
   "outputs": [
    {
     "name": "stdout",
     "output_type": "stream",
     "text": [
      "15\n",
      "25\n",
      "45\n"
     ]
    }
   ],
   "source": [
    "def my_function(x):\n",
    "  return 5 * x\n",
    "\n",
    "print(my_function(3))\n",
    "print(my_function(5))\n",
    "print(my_function(9))"
   ]
  },
  {
   "cell_type": "markdown",
   "id": "e65c766c",
   "metadata": {},
   "source": [
    "# 10. Call by Value:\n",
    "In Call by value the value(copy) of the parameters passed as formal argument   in a function instead of the variable itself, so in this case if any modification applied to the function parameters it will not be reflected on the actual variable.\n",
    "In python, call-by-object -> immutable objects -> String,Number,Tuples"
   ]
  },
  {
   "cell_type": "code",
   "execution_count": 28,
   "id": "f2355e3e",
   "metadata": {},
   "outputs": [
    {
     "name": "stdout",
     "output_type": "stream",
     "text": [
      "inside: Hi Nani how are you\n",
      "outside: Hi Nani\n"
     ]
    }
   ],
   "source": [
    "def fun(Str):\n",
    "    Str = Str + \" how are you\"\n",
    "    print(\"inside:\",Str)\n",
    "s = \"Hi Nani\"\n",
    "fun(s)\n",
    "print(\"outside:\",s)"
   ]
  },
  {
   "cell_type": "markdown",
   "id": "81a06089",
   "metadata": {},
   "source": [
    "# 11. Call by reference: \n",
    "The address of the variable is passed into the function call as the actual parameter.\n",
    "In python,call by object reference-> mutable objects -> List, Set, Dict"
   ]
  },
  {
   "cell_type": "code",
   "execution_count": 29,
   "id": "fd459c23",
   "metadata": {},
   "outputs": [
    {
     "name": "stdout",
     "output_type": "stream",
     "text": [
      "list inside function= [10, 40, 50, 20, 30]\n",
      "list outside functions= [10, 40, 50, 20, 30]\n"
     ]
    }
   ],
   "source": [
    "def fun(lists):\n",
    "    lists.append(20)\n",
    "    lists.append(30)\n",
    "    print(\"list inside function=\",lists)\n",
    "lst = [10,40,50]\n",
    "fun(lst)\n",
    "print(\"list outside functions=\",lst)"
   ]
  },
  {
   "cell_type": "code",
   "execution_count": null,
   "id": "b314e94f",
   "metadata": {},
   "outputs": [],
   "source": []
  },
  {
   "cell_type": "code",
   "execution_count": null,
   "id": "38ee78a4",
   "metadata": {},
   "outputs": [],
   "source": []
  }
 ],
 "metadata": {
  "kernelspec": {
   "display_name": "Python 3 (ipykernel)",
   "language": "python",
   "name": "python3"
  },
  "language_info": {
   "codemirror_mode": {
    "name": "ipython",
    "version": 3
   },
   "file_extension": ".py",
   "mimetype": "text/x-python",
   "name": "python",
   "nbconvert_exporter": "python",
   "pygments_lexer": "ipython3",
   "version": "3.11.5"
  }
 },
 "nbformat": 4,
 "nbformat_minor": 5
}
