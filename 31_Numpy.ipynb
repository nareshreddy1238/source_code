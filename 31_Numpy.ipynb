{
 "cells": [
  {
   "cell_type": "code",
   "execution_count": 1,
   "id": "04ca8fd3-926e-4224-bd25-9d9f793a2ca3",
   "metadata": {
    "tags": []
   },
   "outputs": [
    {
     "name": "stdout",
     "output_type": "stream",
     "text": [
      "Requirement already satisfied: numpy in c:\\users\\nares\\anaconda3\\lib\\site-packages (1.23.5)\n"
     ]
    }
   ],
   "source": [
    "!pip install numpy"
   ]
  },
  {
   "cell_type": "code",
   "execution_count": 2,
   "id": "80407b27-8bb9-424d-9980-1cb229327b29",
   "metadata": {
    "tags": []
   },
   "outputs": [],
   "source": [
    "import numpy as np"
   ]
  },
  {
   "cell_type": "code",
   "execution_count": 3,
   "id": "f2753be7-e79f-4f8c-b130-8a69a85e03d4",
   "metadata": {
    "tags": []
   },
   "outputs": [],
   "source": [
    "arr = np.array([1,2,3,4])"
   ]
  },
  {
   "cell_type": "code",
   "execution_count": 4,
   "id": "97cd1354-87b2-4bd8-a53e-a7ac33f78cb1",
   "metadata": {},
   "outputs": [
    {
     "data": {
      "text/plain": [
       "array([1, 2, 3, 4])"
      ]
     },
     "execution_count": 4,
     "metadata": {},
     "output_type": "execute_result"
    }
   ],
   "source": [
    "arr"
   ]
  },
  {
   "cell_type": "code",
   "execution_count": 5,
   "id": "a224118d-162c-4b8a-a601-b08b31e8e3f5",
   "metadata": {},
   "outputs": [
    {
     "data": {
      "text/plain": [
       "array([[1, 2, 3, 4, 5],\n",
       "       [1, 2, 3, 4, 5]])"
      ]
     },
     "execution_count": 5,
     "metadata": {},
     "output_type": "execute_result"
    }
   ],
   "source": [
    "arr2 = np.array([[1,2,3,4,5],[1,2,3,4,5]])\n",
    "arr2"
   ]
  },
  {
   "cell_type": "code",
   "execution_count": 5,
   "id": "c9f1d7ae-44e5-4809-9ec2-1714931a8b13",
   "metadata": {},
   "outputs": [
    {
     "data": {
      "text/plain": [
       "array([[1, 2, 3, 4, 5],\n",
       "       [1, 2, 3, 4, 5]])"
      ]
     },
     "execution_count": 5,
     "metadata": {},
     "output_type": "execute_result"
    }
   ],
   "source": [
    "arr2 = np.array([[1,2,3,4,5],[1,2,3,4,5]])\n",
    "arr2"
   ]
  },
  {
   "cell_type": "code",
   "execution_count": 6,
   "id": "8fcdbe6c-f6db-4f87-b3ad-ac30fca456a5",
   "metadata": {},
   "outputs": [
    {
     "data": {
      "text/plain": [
       "2"
      ]
     },
     "execution_count": 6,
     "metadata": {},
     "output_type": "execute_result"
    }
   ],
   "source": [
    "arr2.ndim  ## no of dimensions "
   ]
  },
  {
   "cell_type": "code",
   "execution_count": 7,
   "id": "b0a3c2ea-1729-4d76-a250-aa0b1aae5957",
   "metadata": {},
   "outputs": [
    {
     "data": {
      "text/plain": [
       "1"
      ]
     },
     "execution_count": 7,
     "metadata": {},
     "output_type": "execute_result"
    }
   ],
   "source": [
    "arr.ndim"
   ]
  },
  {
   "cell_type": "code",
   "execution_count": 8,
   "id": "cd1de5dd-9ec4-4d8c-a004-c2cbc9825a91",
   "metadata": {},
   "outputs": [
    {
     "data": {
      "text/plain": [
       "(2, 5)"
      ]
     },
     "execution_count": 8,
     "metadata": {},
     "output_type": "execute_result"
    }
   ],
   "source": [
    "arr2.shape ## rows & columns"
   ]
  },
  {
   "cell_type": "code",
   "execution_count": 10,
   "id": "83c03827-785e-4fbb-968a-708b4ea23838",
   "metadata": {},
   "outputs": [
    {
     "data": {
      "text/plain": [
       "dtype('int32')"
      ]
     },
     "execution_count": 10,
     "metadata": {},
     "output_type": "execute_result"
    }
   ],
   "source": [
    "arr2.dtype ## data type"
   ]
  },
  {
   "cell_type": "code",
   "execution_count": 11,
   "id": "d5fe8913-9684-4216-9172-3449621bb42c",
   "metadata": {},
   "outputs": [
    {
     "data": {
      "text/plain": [
       "dtype('int32')"
      ]
     },
     "execution_count": 11,
     "metadata": {},
     "output_type": "execute_result"
    }
   ],
   "source": [
    "arr.dtype   "
   ]
  },
  {
   "cell_type": "code",
   "execution_count": 12,
   "id": "c34a801e-5fe3-44f2-aca5-3cf44dc55738",
   "metadata": {},
   "outputs": [
    {
     "data": {
      "text/plain": [
       "4"
      ]
     },
     "execution_count": 12,
     "metadata": {},
     "output_type": "execute_result"
    }
   ],
   "source": [
    "arr2.itemsize  ## only one item size "
   ]
  },
  {
   "cell_type": "code",
   "execution_count": 13,
   "id": "dc07abea-fa62-4eef-815a-244cd920a540",
   "metadata": {},
   "outputs": [
    {
     "data": {
      "text/plain": [
       "40"
      ]
     },
     "execution_count": 13,
     "metadata": {},
     "output_type": "execute_result"
    }
   ],
   "source": [
    "arr2.nbytes    ## each item (4x10=20) 4 is item size"
   ]
  },
  {
   "cell_type": "code",
   "execution_count": 14,
   "id": "18dffc6a-40a6-449e-82b2-bf01c78c472f",
   "metadata": {},
   "outputs": [
    {
     "data": {
      "text/plain": [
       "array([[1, 2, 3, 4, 5],\n",
       "       [1, 2, 3, 4, 5]])"
      ]
     },
     "execution_count": 14,
     "metadata": {},
     "output_type": "execute_result"
    }
   ],
   "source": [
    "arr2"
   ]
  },
  {
   "cell_type": "code",
   "execution_count": 16,
   "id": "67cdf009-6b26-4dfb-9e25-5a255fcb58f7",
   "metadata": {},
   "outputs": [
    {
     "data": {
      "text/plain": [
       "4"
      ]
     },
     "execution_count": 16,
     "metadata": {},
     "output_type": "execute_result"
    }
   ],
   "source": [
    "arr2[1,3]  ## (r,c)"
   ]
  },
  {
   "cell_type": "code",
   "execution_count": 19,
   "id": "ff8c4c9b-9605-4c14-aaf9-fab9ecfa6719",
   "metadata": {},
   "outputs": [
    {
     "data": {
      "text/plain": [
       "array([1, 2, 3, 4, 5])"
      ]
     },
     "execution_count": 19,
     "metadata": {},
     "output_type": "execute_result"
    }
   ],
   "source": [
    "arr2[0,:]   ## total row"
   ]
  },
  {
   "cell_type": "code",
   "execution_count": 22,
   "id": "962512b4-3ff3-4d8f-994e-a3efe19b6532",
   "metadata": {},
   "outputs": [
    {
     "data": {
      "text/plain": [
       "array([4, 4])"
      ]
     },
     "execution_count": 22,
     "metadata": {},
     "output_type": "execute_result"
    }
   ],
   "source": [
    "arr2[:,3]  ## total column"
   ]
  },
  {
   "cell_type": "code",
   "execution_count": 23,
   "id": "e1a218b8-4ede-46e5-ac8d-eee5e5fc54c7",
   "metadata": {},
   "outputs": [
    {
     "data": {
      "text/plain": [
       "array([[1, 2, 3],\n",
       "       [4, 5, 6]])"
      ]
     },
     "execution_count": 23,
     "metadata": {},
     "output_type": "execute_result"
    }
   ],
   "source": [
    "# Create a two-dimensional array\n",
    "arr_2d = np.array([[1, 2, 3],[4, 5, 6]])\n",
    "arr_2d"
   ]
  },
  {
   "cell_type": "code",
   "execution_count": 24,
   "id": "05a706be-cad9-472c-a728-314d3d3eec8f",
   "metadata": {},
   "outputs": [
    {
     "data": {
      "text/plain": [
       "2"
      ]
     },
     "execution_count": 24,
     "metadata": {},
     "output_type": "execute_result"
    }
   ],
   "source": [
    "arr_2d.ndim"
   ]
  },
  {
   "cell_type": "code",
   "execution_count": 25,
   "id": "7a2239d6-0814-4fed-b9dd-dfaf564f9cb6",
   "metadata": {},
   "outputs": [
    {
     "data": {
      "text/plain": [
       "3"
      ]
     },
     "execution_count": 25,
     "metadata": {},
     "output_type": "execute_result"
    }
   ],
   "source": [
    "# Create a three-dimensional array\n",
    "arr_3d = np.array([[[1, 2, 3],[4, 5, 6]],\n",
    "                   [[7, 8, 9],[10, 11, 12]]])\n",
    "arr_3d\n",
    "arr_3d.ndim"
   ]
  },
  {
   "cell_type": "code",
   "execution_count": 27,
   "id": "f22194ec-87a7-4d6a-91ac-3b87d4a4e00a",
   "metadata": {},
   "outputs": [
    {
     "data": {
      "text/plain": [
       "4"
      ]
     },
     "execution_count": 27,
     "metadata": {},
     "output_type": "execute_result"
    }
   ],
   "source": [
    "# Create a four-dimensional array\n",
    "arr_4d = np.array([[[[1, 2, 3],[4, 5, 6]],\n",
    "                    [[7, 8, 9],[10, 11, 12]]],\n",
    "                   [[[13, 14, 15],[16, 17, 18]],\n",
    "                    [[19, 20, 21],[22, 23, 24]]]])\n",
    "arr_4d.ndim"
   ]
  },
  {
   "cell_type": "code",
   "execution_count": 28,
   "id": "5e60a107-9b9e-41ff-aadf-cff3ec8d0c33",
   "metadata": {},
   "outputs": [
    {
     "data": {
      "text/plain": [
       "array([[0., 0., 0.],\n",
       "       [0., 0., 0.]])"
      ]
     },
     "execution_count": 28,
     "metadata": {},
     "output_type": "execute_result"
    }
   ],
   "source": [
    "s=np.zeros((2,3))\n",
    "s"
   ]
  },
  {
   "cell_type": "code",
   "execution_count": 29,
   "id": "8833baad-bc10-43eb-9107-dfee22b2097f",
   "metadata": {},
   "outputs": [
    {
     "data": {
      "text/plain": [
       "array([[1., 1., 1.],\n",
       "       [1., 1., 1.]])"
      ]
     },
     "execution_count": 29,
     "metadata": {},
     "output_type": "execute_result"
    }
   ],
   "source": [
    "s1=np.ones((2,3))\n",
    "s1"
   ]
  },
  {
   "cell_type": "code",
   "execution_count": 30,
   "id": "f30edc1b-735c-4ed8-8d5a-877626081711",
   "metadata": {},
   "outputs": [
    {
     "data": {
      "text/plain": [
       "array([[[1., 1., 1., 1.],\n",
       "        [1., 1., 1., 1.],\n",
       "        [1., 1., 1., 1.]],\n",
       "\n",
       "       [[1., 1., 1., 1.],\n",
       "        [1., 1., 1., 1.],\n",
       "        [1., 1., 1., 1.]]])"
      ]
     },
     "execution_count": 30,
     "metadata": {},
     "output_type": "execute_result"
    }
   ],
   "source": [
    "s2=np.ones((2,3,4))\n",
    "s2"
   ]
  },
  {
   "cell_type": "code",
   "execution_count": 32,
   "id": "bf4ff7b8-e1d8-4ef3-901d-67fcf9b4cb04",
   "metadata": {},
   "outputs": [
    {
     "data": {
      "text/plain": [
       "array([[98, 98, 98],\n",
       "       [98, 98, 98]])"
      ]
     },
     "execution_count": 32,
     "metadata": {},
     "output_type": "execute_result"
    }
   ],
   "source": [
    "s3=np.full((2,3),98)\n",
    "s3"
   ]
  },
  {
   "cell_type": "code",
   "execution_count": 35,
   "id": "fd837ba5-4266-4572-973e-1aece6337950",
   "metadata": {},
   "outputs": [
    {
     "data": {
      "text/plain": [
       "array([[0.50112999, 0.07542857],\n",
       "       [0.62892471, 0.72021387],\n",
       "       [0.84454838, 0.45648727],\n",
       "       [0.41539462, 0.74121965]])"
      ]
     },
     "execution_count": 35,
     "metadata": {},
     "output_type": "execute_result"
    }
   ],
   "source": [
    "s4 = np.random.rand(4,2)\n",
    "s4"
   ]
  },
  {
   "cell_type": "code",
   "execution_count": 35,
   "id": "d3e50fb9-155e-41d5-8b9d-36e368e96258",
   "metadata": {},
   "outputs": [
    {
     "data": {
      "text/plain": [
       "array([[0.50112999, 0.07542857],\n",
       "       [0.62892471, 0.72021387],\n",
       "       [0.84454838, 0.45648727],\n",
       "       [0.41539462, 0.74121965]])"
      ]
     },
     "execution_count": 35,
     "metadata": {},
     "output_type": "execute_result"
    }
   ],
   "source": [
    "s4 = np.random.rand(4,2)\n",
    "s4"
   ]
  },
  {
   "cell_type": "code",
   "execution_count": 36,
   "id": "24086e73-4759-4561-9aad-8c16de8dbc4f",
   "metadata": {},
   "outputs": [
    {
     "data": {
      "text/plain": [
       "array([[1., 0., 0., 0., 0.],\n",
       "       [0., 1., 0., 0., 0.],\n",
       "       [0., 0., 1., 0., 0.],\n",
       "       [0., 0., 0., 1., 0.],\n",
       "       [0., 0., 0., 0., 1.]])"
      ]
     },
     "execution_count": 36,
     "metadata": {},
     "output_type": "execute_result"
    }
   ],
   "source": [
    "s5 = np.identity(5)  ## identity matrix diagnosis same value\n",
    "s5"
   ]
  },
  {
   "cell_type": "code",
   "execution_count": 40,
   "id": "c587434b-236a-4807-9270-6d7611cce70d",
   "metadata": {},
   "outputs": [
    {
     "data": {
      "text/plain": [
       "array([12,  2,  3,  4])"
      ]
     },
     "execution_count": 40,
     "metadata": {},
     "output_type": "execute_result"
    }
   ],
   "source": [
    "#### without copy method it's working like softcopy\n",
    "a = np.array([1,2,3,4])\n",
    "b = a\n",
    "b[0]=12\n",
    "a"
   ]
  },
  {
   "cell_type": "code",
   "execution_count": 41,
   "id": "1dbf7cab-e823-4faf-a681-2fb3bce69968",
   "metadata": {},
   "outputs": [
    {
     "data": {
      "text/plain": [
       "array([1, 2, 3, 4])"
      ]
     },
     "execution_count": 41,
     "metadata": {},
     "output_type": "execute_result"
    }
   ],
   "source": [
    "## if your using copy method it's like hardcopy\n",
    "a = np.array([1,2,3,4])\n",
    "b = a.copy()\n",
    "b[0]=12\n",
    "a"
   ]
  },
  {
   "cell_type": "code",
   "execution_count": 42,
   "id": "df8be526-0601-4010-9e3a-6ff5719177da",
   "metadata": {},
   "outputs": [
    {
     "data": {
      "text/plain": [
       "array([3, 4, 5, 6])"
      ]
     },
     "execution_count": 42,
     "metadata": {},
     "output_type": "execute_result"
    }
   ],
   "source": [
    "a+2"
   ]
  },
  {
   "cell_type": "code",
   "execution_count": 43,
   "id": "df4d66e0-7f4f-4177-bc2b-32a7aaaa5778",
   "metadata": {},
   "outputs": [
    {
     "data": {
      "text/plain": [
       "array([-1,  0,  1,  2])"
      ]
     },
     "execution_count": 43,
     "metadata": {},
     "output_type": "execute_result"
    }
   ],
   "source": [
    "a-2"
   ]
  },
  {
   "cell_type": "code",
   "execution_count": 45,
   "id": "9ba3371e-0e11-4325-85c6-18abd8e27a98",
   "metadata": {},
   "outputs": [
    {
     "data": {
      "text/plain": [
       "array([ 3,  6,  9, 12])"
      ]
     },
     "execution_count": 45,
     "metadata": {},
     "output_type": "execute_result"
    }
   ],
   "source": [
    "a*3"
   ]
  },
  {
   "cell_type": "code",
   "execution_count": 46,
   "id": "e89ea3b3-dc88-4ed0-9a1e-82c11b20851d",
   "metadata": {},
   "outputs": [
    {
     "data": {
      "text/plain": [
       "array([ 1,  4,  9, 16])"
      ]
     },
     "execution_count": 46,
     "metadata": {},
     "output_type": "execute_result"
    }
   ],
   "source": [
    "a**2"
   ]
  },
  {
   "cell_type": "code",
   "execution_count": null,
   "id": "f88c998a-8da2-4e6e-97db-6dcac97d6e6b",
   "metadata": {},
   "outputs": [],
   "source": []
  }
 ],
 "metadata": {
  "kernelspec": {
   "display_name": "Python 3 (ipykernel)",
   "language": "python",
   "name": "python3"
  },
  "language_info": {
   "codemirror_mode": {
    "name": "ipython",
    "version": 3
   },
   "file_extension": ".py",
   "mimetype": "text/x-python",
   "name": "python",
   "nbconvert_exporter": "python",
   "pygments_lexer": "ipython3",
   "version": "3.11.5"
  }
 },
 "nbformat": 4,
 "nbformat_minor": 5
}
