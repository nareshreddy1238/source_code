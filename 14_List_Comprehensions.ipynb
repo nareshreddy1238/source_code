{
 "cells": [
  {
   "cell_type": "code",
   "execution_count": 48,
   "id": "8e1bd27c-a78a-48aa-95f5-7982302c54b3",
   "metadata": {},
   "outputs": [
    {
     "data": {
      "text/plain": [
       "[15, 6, 24, 3, 27, 9, 21]"
      ]
     },
     "execution_count": 48,
     "metadata": {},
     "output_type": "execute_result"
    }
   ],
   "source": [
    "####################   LIST COMPREHENSIONS  ################\n",
    "# 1.Numbers\n",
    "l=[5, 2, 8, 1, 9, 3, 7] \n",
    "[i*3 for i in l]"
   ]
  },
  {
   "cell_type": "code",
   "execution_count": 47,
   "id": "e784c217-62df-49e1-9e1b-467ba0427412",
   "metadata": {},
   "outputs": [
    {
     "name": "stdout",
     "output_type": "stream",
     "text": [
      "upper case: ['HI', 'HELLO', 'HOW']\n",
      "upper case + hey ['HI hey', 'HELLO hey', 'HOW hey']\n"
     ]
    }
   ],
   "source": [
    "# 2.Strings\n",
    "sl= [\"hi\",\"hello\",\"how\"]\n",
    "d2=[i.upper() for i in sl]\n",
    "print(\"upper case:\",d2)\n",
    "d3=[i.upper()+\" hey\" for i in sl]\n",
    "print(\"upper case + hey\", d3)"
   ]
  },
  {
   "cell_type": "code",
   "execution_count": 51,
   "id": "27530faf-2845-4eca-8048-f35d4ac148a7",
   "metadata": {},
   "outputs": [
    {
     "name": "stdout",
     "output_type": "stream",
     "text": [
      "functions: [5, 10, 15, 20, 25]\n",
      "functions with if: [25]\n"
     ]
    }
   ],
   "source": [
    "# 3.functions\n",
    "def fivetimes(n):\n",
    "    return n*5\n",
    "d4=[fivetimes(i) for i in l]\n",
    "print(\"functions:\",d4)\n",
    "def fivetimes(n):\n",
    "    return n*5\n",
    "d4=[fivetimes(i) for i in l if i>4]\n",
    "print(\"functions with if:\",d4)"
   ]
  },
  {
   "cell_type": "code",
   "execution_count": 50,
   "id": "eebb85a1-0b24-40d8-8d6f-9b7881c51a24",
   "metadata": {},
   "outputs": [
    {
     "name": "stdout",
     "output_type": "stream",
     "text": [
      "Dict: ['Nani', 'Janu', 'Nikky']\n",
      "Dict + hello: ['Nani hello', 'Janu hello', 'Nikky hello']\n"
     ]
    }
   ],
   "source": [
    "# 4.List of Dict\n",
    "d=[{\"name\":\"Nani\"},{\"name\":\"Janu\"},{\"name\":\"Nikky\"}]\n",
    "print(\"Dict:\",[i[\"name\"] for i in d])\n",
    "print(\"Dict + hello:\",[i[\"name\"]+\" hello\" for i in d])"
   ]
  },
  {
   "cell_type": "code",
   "execution_count": 56,
   "id": "47c81fc9-c852-453c-8aa0-c239cff8d9b2",
   "metadata": {},
   "outputs": [
    {
     "data": {
      "text/plain": [
       "[12, 15]"
      ]
     },
     "execution_count": 56,
     "metadata": {},
     "output_type": "execute_result"
    }
   ],
   "source": [
    "# 5.if --> filter (should be right side of for loop)\n",
    "l=[1,2,3,4,5]\n",
    "[i*3 for i in l if i>3]"
   ]
  },
  {
   "cell_type": "code",
   "execution_count": 57,
   "id": "17c097c8-4e23-45af-9380-da542caac8ef",
   "metadata": {},
   "outputs": [
    {
     "data": {
      "text/plain": [
       "[1, 2, 9, 4, 5]"
      ]
     },
     "execution_count": 57,
     "metadata": {},
     "output_type": "execute_result"
    }
   ],
   "source": [
    "# 6. if-else (should be left side of for loop)\n",
    "l=[1,2,3,4,5]\n",
    "[i*3 if i==3 else i for i in l]"
   ]
  },
  {
   "cell_type": "code",
   "execution_count": 58,
   "id": "79780724-e2a0-4902-a0a2-d270034d3c24",
   "metadata": {},
   "outputs": [
    {
     "data": {
      "text/plain": [
       "[9, 4, 5]"
      ]
     },
     "execution_count": 58,
     "metadata": {},
     "output_type": "execute_result"
    }
   ],
   "source": [
    "# 7. if-else & if --> filter\n",
    "[i*3 if i==3 else i for i in l if i>2]"
   ]
  },
  {
   "cell_type": "code",
   "execution_count": 131,
   "id": "c43d365d-1b4f-46f5-ac3d-7c6417f7c48e",
   "metadata": {},
   "outputs": [
    {
     "name": "stdout",
     "output_type": "stream",
     "text": [
      "lambda: [5, 10, 15, 20, 25]\n",
      "lambda if-else: [1, 2, 15, 4, 5]\n",
      "list   if-else: [1, 2, 15, 4, 5]\n",
      "lambda if-else filter: [15, 4, 5]\n",
      "list if-else filter  : [15, 4, 5]\n"
     ]
    }
   ],
   "source": [
    "# 8. Lambda with filter\n",
    "l=[1,2,3,4,5]\n",
    "print(\"lambda:\",list(map(lambda i:i*5,l)))\n",
    "print(\"lambda if-else:\",list(map(lambda i:i*5 if i==3 else i,l)))\n",
    "print(\"list   if-else:\",[i*5 if i==3 else i for i in l]) ## same like above\n",
    "print(\"lambda if-else filter:\",list(map(lambda i:i*5 if i==3 else i,filter(lambda i:i>2,l))))\n",
    "print(\"list if-else filter  :\",[i*5 if i==3 else i for i in l if i>2])  ## same like above\n"
   ]
  },
  {
   "cell_type": "code",
   "execution_count": 130,
   "id": "906c35f0-c101-42f5-afce-709d11cd1aae",
   "metadata": {},
   "outputs": [
    {
     "name": "stdout",
     "output_type": "stream",
     "text": [
      "[(2, 'a'), (2, 'b'), (2, 'c'), (3, 'a'), (3, 'b'), (3, 'c')]\n",
      "[(2, 'a'), (2, 'b'), (2, 'c')]\n",
      "[(2, 'a'), (2, 'c')]\n",
      "[(2, 'c')]\n"
     ]
    }
   ],
   "source": [
    "# 9. Multiple If's \n",
    "l1=[1,2,3]\n",
    "l2=[\"a\",\"b\",\"c\"]\n",
    "print(                    [(i,j) for i in l1 if i>1 for j in l2])\n",
    "print(                    [(i,j) for i in l1 if i>1 if i!=3 for j in l2])\n",
    "print(                    [(i,j) for i in l1 if i>1 if i!=3 for j in l2 if j!=\"b\"])\n",
    "print(                    [(i,j) for i in l1 if i>1 if i!=3 for j in l2 if j!=\"b\" and j!=\"a\"])"
   ]
  },
  {
   "cell_type": "code",
   "execution_count": 128,
   "id": "9d3fb96a-e170-454b-9976-25d342ea2e37",
   "metadata": {},
   "outputs": [
    {
     "name": "stdout",
     "output_type": "stream",
     "text": [
      "map fun num to str  : ['1', '2', '3', '4', '5']\n",
      "list comp num to str: ['1', '2', '3', '4', '5']\n",
      "list comp filter: ['4', '5']\n",
      "lambda with filter: [2, 3, 4, 5]\n",
      "list comp functions: [5, 10, 15, 20, 25]\n",
      "map with functions : [5, 10, 15, 20, 25]\n"
     ]
    }
   ],
   "source": [
    "# 10. List comp vs map\n",
    "\n",
    "print(\"map fun num to str  :\",           list(map(str,[1,2,3,4,5])))\n",
    "print(\"list comp num to str:\",           [str(i) for i in [1,2,3,4,5]])\n",
    "print(\"list comp filter:\",               [str(i) for i in [1,2,3,4,5] if i>3])\n",
    "print(\"lambda with filter:\",             list(filter(lambda x:x>1,map(int,[1,2,3,4,5]))))\n",
    "l=[1,2,3,4,5]\n",
    "def fivetimes(n):\n",
    "    return n*5\n",
    "print(\"list comp functions:\",             [fivetimes(i) for i in l])\n",
    "print(\"map with functions :\",             list(map(fivetimes,l)))"
   ]
  },
  {
   "cell_type": "code",
   "execution_count": 127,
   "id": "79891129-ae8d-4384-990c-eb31bdde4fe4",
   "metadata": {},
   "outputs": [
    {
     "name": "stdout",
     "output_type": "stream",
     "text": [
      "list filter: [3, 4, 5]\n",
      "lambda filter: [3, 4, 5]\n",
      "filter true values: [1, 2, True]\n"
     ]
    }
   ],
   "source": [
    "# 11.Filter\n",
    "l=[1,2,3,4,5]\n",
    "print(\"list filter:\",           [i for i in l if i>2])\n",
    "print(\"lambda filter:\",         list(filter(lambda i:i>2,l)))\n",
    "print(\"filter true values:\",    list(filter(None,[0,1,2,None,False,True])))"
   ]
  },
  {
   "cell_type": "code",
   "execution_count": 139,
   "id": "da9b8ad3-d7af-4f57-8073-4e83ba2bb753",
   "metadata": {},
   "outputs": [
    {
     "name": "stdout",
     "output_type": "stream",
     "text": [
      "reduce: 15\n",
      "list sum: 15\n",
      "mul list: [1, 2, 2, 4, 5, 6, 7, 8]\n",
      "mul reduce: [1, 2, 2, 4, 5, 6, 7, 8]\n",
      "list max: 5\n",
      "reduce max: 5\n",
      "reduce functions: 3\n",
      "reduce functions: 15\n"
     ]
    }
   ],
   "source": [
    "#12. Reduce\n",
    "from functools import reduce\n",
    "\n",
    "print(\"reduce:\",        reduce(lambda x,y:x+y,l))    \n",
    "print(\"list sum:\",      sum([i for i in l]))\n",
    "\n",
    "ls = [[1,2],[2,4],[5,6],[7,8]]\n",
    "print(\"mul list:\",      [i for sublis in ls for i in sublis])\n",
    "print(\"mul reduce:\",    reduce(lambda x,y:x+y, ls))\n",
    "print(\"list max:\",      max([i for i in [1,2,3,4,5]]))\n",
    "print(\"reduce max:\",    reduce(lambda x,y: x if x>y else y,[1,2,3,4,5]))\n",
    "\n",
    "def addtwo(a,b):\n",
    "      return a+b\n",
    "print(\"reduce functions:\", reduce(addtwo,[1,2])) \n",
    "print(\"reduce functions:\", reduce(addtwo,[1,2,3,4,5]))"
   ]
  },
  {
   "cell_type": "code",
   "execution_count": 12,
   "id": "0c1c21ee-b2e2-4a87-86b6-d7945ef2afed",
   "metadata": {},
   "outputs": [
    {
     "data": {
      "text/plain": [
       "[2, 4, 6, 8, 10]"
      ]
     },
     "execution_count": 12,
     "metadata": {},
     "output_type": "execute_result"
    }
   ],
   "source": [
    "#2.even numbers in list\n",
    "l=[1, 2, 3, 4, 5,6,7,8,9,10]\n",
    "[i for i in l if i%2==0]"
   ]
  },
  {
   "cell_type": "code",
   "execution_count": 19,
   "id": "60da7612-ee60-4836-8b84-db21a35aa22e",
   "metadata": {},
   "outputs": [
    {
     "data": {
      "text/plain": [
       "[(0, 'even'),\n",
       " (1, 'odd'),\n",
       " (2, 'even'),\n",
       " (3, 'odd'),\n",
       " (4, 'even'),\n",
       " (5, 'odd'),\n",
       " (6, 'even'),\n",
       " (7, 'odd'),\n",
       " (8, 'even'),\n",
       " (9, 'odd')]"
      ]
     },
     "execution_count": 19,
     "metadata": {},
     "output_type": "execute_result"
    }
   ],
   "source": [
    "#3. even and odd numbers in 1 to 100\n",
    "[(i,\"even\") if i%2==0 else (i,\"odd\") for i in range(10)]\n",
    "#[\"even\" if i%2==0 else \"odd\" for i in range(10)]"
   ]
  },
  {
   "cell_type": "code",
   "execution_count": 21,
   "id": "57e6c558-0116-4052-bc00-9f02c60fc8df",
   "metadata": {},
   "outputs": [
    {
     "data": {
      "text/plain": [
       "[10, 20, 30, 40, 50, 60, 70, 80, 90, 100]"
      ]
     },
     "execution_count": 21,
     "metadata": {},
     "output_type": "execute_result"
    }
   ],
   "source": [
    "#3. add/multiple each each element with 10 in list\n",
    "l=[1, 2, 3, 4, 5,6,7,8,9,10]\n",
    "[i+10 for i in l]\n",
    "[i*10 for i in l]"
   ]
  },
  {
   "cell_type": "code",
   "execution_count": 22,
   "id": "8148b946-bcf6-4a6c-8681-9c18017774e6",
   "metadata": {},
   "outputs": [
    {
     "data": {
      "text/plain": [
       "[5, 6, 6]"
      ]
     },
     "execution_count": 22,
     "metadata": {},
     "output_type": "execute_result"
    }
   ],
   "source": [
    "#4. length of each word in list\n",
    "words = [\"apple\", \"banana\", \"cherry\"]\n",
    "[len(word) for word in words]\n"
   ]
  },
  {
   "cell_type": "code",
   "execution_count": 23,
   "id": "d9789f97-d914-4b29-9983-1bd5ba79b7f9",
   "metadata": {},
   "outputs": [
    {
     "data": {
      "text/plain": [
       "[1, 2, 3, 4, 5, 6]"
      ]
     },
     "execution_count": 23,
     "metadata": {},
     "output_type": "execute_result"
    }
   ],
   "source": [
    "#5. multi dimension list access the values\n",
    "l = [[1, 2], [3, 4], [5, 6]]\n",
    "[i for sublist in l for i in sublist]"
   ]
  },
  {
   "cell_type": "code",
   "execution_count": 25,
   "id": "6f6346fc-9715-4cb3-b2a0-d102af032f39",
   "metadata": {},
   "outputs": [
    {
     "data": {
      "text/plain": [
       "[5, 4, 3, 2, 1]"
      ]
     },
     "execution_count": 25,
     "metadata": {},
     "output_type": "execute_result"
    }
   ],
   "source": [
    "#6. reverse list\n",
    "l = [1, 2, 3, 4, 5]\n",
    "[l[i] for i in range(len(l)-1,-1,-1)]  ## 4 to 0"
   ]
  },
  {
   "cell_type": "code",
   "execution_count": 32,
   "id": "d9a81a66-e949-46e6-9ace-7aaa323d3f6f",
   "metadata": {},
   "outputs": [
    {
     "data": {
      "text/plain": [
       "15"
      ]
     },
     "execution_count": 32,
     "metadata": {},
     "output_type": "execute_result"
    }
   ],
   "source": [
    "#7. total count of the list\n",
    "l = [1, 2, 3, 4, 5]\n",
    "sum([i for i in l])\n"
   ]
  },
  {
   "cell_type": "code",
   "execution_count": 2,
   "id": "a63bb947-1788-447c-9f79-1753dc57e27a",
   "metadata": {},
   "outputs": [
    {
     "data": {
      "text/plain": [
       "[{}, {}, {}, {}, {}]"
      ]
     },
     "execution_count": 2,
     "metadata": {},
     "output_type": "execute_result"
    }
   ],
   "source": [
    "#8. create empty dict in list\n",
    "[{} for _ in range(5)]\n"
   ]
  },
  {
   "cell_type": "code",
   "execution_count": 5,
   "id": "c8518c7f-ff51-4519-84a5-cab1ce2559de",
   "metadata": {},
   "outputs": [
    {
     "name": "stdout",
     "output_type": "stream",
     "text": [
      "[5]\n",
      "[4, 5]\n",
      "[5]\n"
     ]
    }
   ],
   "source": [
    "#9. common values \n",
    "l1 = [1, 2, 3, 4, 5]\n",
    "l2 = [4, 5, 6, 7]\n",
    "l3 = [5, 6, 7, 8, 9]\n",
    "d = list(set(l1) & set(l2) & set(l3))\n",
    "print(d)\n",
    "d1= [v for v in l1 if v in l2]\n",
    "print(d1)\n",
    "d1= [v for v in l1 if v in l2 and v in l3]\n",
    "print(d1)"
   ]
  },
  {
   "cell_type": "code",
   "execution_count": 11,
   "id": "b6a3e1f1-4e3d-412b-8706-e9cdd63024c4",
   "metadata": {},
   "outputs": [
    {
     "name": "stdin",
     "output_type": "stream",
     "text": [
      "Enter Index value: 0\n"
     ]
    },
    {
     "name": "stdout",
     "output_type": "stream",
     "text": [
      "[1, 2, 3, 4, 5, 6, 7, 8, 9, 10, 11]\n"
     ]
    }
   ],
   "source": [
    "#10. remove ith element \n",
    "n=int(input(\"Enter Index value:\"))\n",
    "l=[1,1,2,34,4,5,6,33,5,5,3,4]\n",
    "n1=[i for i in range(len(l)) if n!=i]\n",
    "print(n1)"
   ]
  },
  {
   "cell_type": "code",
   "execution_count": 19,
   "id": "e1feb790-366c-4732-9b41-c3c7a7228a8b",
   "metadata": {},
   "outputs": [
    {
     "data": {
      "text/plain": [
       "[1, 2, 3, 4, 5, 4, 5, 6, 7]"
      ]
     },
     "execution_count": 19,
     "metadata": {},
     "output_type": "execute_result"
    }
   ],
   "source": [
    "#11. Two list combined\n",
    "l1 = [1, 2, 3, 4, 5]\n",
    "l2 = [4, 5, 6, 7]\n",
    "[x for x in l1+l2]\n"
   ]
  },
  {
   "cell_type": "code",
   "execution_count": 27,
   "id": "8a314a28-e520-456f-8352-2c29a49471f5",
   "metadata": {},
   "outputs": [
    {
     "name": "stdout",
     "output_type": "stream",
     "text": [
      "even & odd values: [[2, 34, 4, 6, 4], [1, 1, 5, 33, 5, 5, 3]]\n"
     ]
    },
    {
     "name": "stdin",
     "output_type": "stream",
     "text": [
      "number of sublists: 3\n"
     ]
    },
    {
     "name": "stdout",
     "output_type": "stream",
     "text": [
      "[[1, 2, 3], [4, 5, 6], [7, 8, 9], [10, 11, 12]]\n"
     ]
    }
   ],
   "source": [
    "#12. lists into sub lists\n",
    "l = [1, 1, 2, 34, 4, 5, 6, 33, 5, 5, 3, 4]\n",
    "\n",
    "#spilt sub lists even & odds lists\n",
    "d = [[x for x in l if x % 2 == 0], [x for x in l if x % 2 != 0]]\n",
    "print(\"even & odd values:\",d)\n",
    "\n",
    "#split many sub lists\n",
    "n=int(input(\"number of sublists:\"))\n",
    "d1 = [1, 2, 3, 4, 5, 6, 7, 8, 9, 10,11,12]\n",
    "d2 = [d1[i:i+n] for i in range(0,len(d1),n)]\n",
    "print(d2)"
   ]
  },
  {
   "cell_type": "code",
   "execution_count": 25,
   "id": "46789f22-87b9-4e14-a6af-c2b92453ed2c",
   "metadata": {},
   "outputs": [
    {
     "name": "stdout",
     "output_type": "stream",
     "text": [
      "3\n"
     ]
    }
   ],
   "source": [
    "#13. min value in list\n",
    "l = [5, 2, 8, 1, 9, 3, 7]\n",
    "\n",
    "# Find the maximum value using list comprehensions\n",
    "m = l[0]  # Assume the first element is the maximum\n",
    "m = [x for x in l if x < m][-1]\n",
    "print(m)  # Output: 9\n"
   ]
  },
  {
   "cell_type": "code",
   "execution_count": 33,
   "id": "65162acc-c814-4359-a73d-dbb743588a8c",
   "metadata": {},
   "outputs": [
    {
     "data": {
      "text/plain": [
       "[1, 4, 9, 16, 25]"
      ]
     },
     "execution_count": 33,
     "metadata": {},
     "output_type": "execute_result"
    }
   ],
   "source": [
    "#14. Square each element\n",
    "l=[1, 2, 3, 4, 5]\n",
    "[i ** 2 for i in l]"
   ]
  },
  {
   "cell_type": "code",
   "execution_count": null,
   "id": "281905fb-0245-4d35-aca6-899eb54f2a8b",
   "metadata": {},
   "outputs": [],
   "source": []
  }
 ],
 "metadata": {
  "kernelspec": {
   "display_name": "Python 3 (ipykernel)",
   "language": "python",
   "name": "python3"
  },
  "language_info": {
   "codemirror_mode": {
    "name": "ipython",
    "version": 3
   },
   "file_extension": ".py",
   "mimetype": "text/x-python",
   "name": "python",
   "nbconvert_exporter": "python",
   "pygments_lexer": "ipython3",
   "version": "3.11.5"
  }
 },
 "nbformat": 4,
 "nbformat_minor": 5
}
