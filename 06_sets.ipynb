{
 "cells": [
  {
   "cell_type": "markdown",
   "id": "333c19fc",
   "metadata": {},
   "source": [
    "# 01. Set \n",
    "\n",
    "set: unordered collection of unique values -> mutable"
   ]
  },
  {
   "cell_type": "code",
   "execution_count": 84,
   "id": "8b9089d6",
   "metadata": {},
   "outputs": [
    {
     "name": "stdout",
     "output_type": "stream",
     "text": [
      "set()\n",
      "<class 'set'>\n",
      "{1, 2, 3, 4, 5}\n",
      "{1, 2, 3, 4, 5, 6}\n",
      "{1, 2, 3, 4, 5}\n",
      "{1, 2, 4, 5}\n",
      "{1, 2, 4, 5}\n",
      "set()\n",
      "5\n",
      "1\n",
      "{'banana', 'google', 'cherry', 'microsoft', 'apple'}\n",
      "google\n",
      "1\n"
     ]
    }
   ],
   "source": [
    "# empty set\n",
    "s = {}\n",
    "s = set()\n",
    "print(s)\n",
    "print(type(s))\n",
    "\n",
    "# create set\n",
    "s = {1,2,3,4,5}\n",
    "print(s)\n",
    "\n",
    "# add element (lastly added like list append)\n",
    "s.add(6)\n",
    "print(s)\n",
    "\n",
    "# remove element (if ele not found getting error)\n",
    "s.remove(6)\n",
    "print(s)\n",
    "\n",
    "# remove element (if ele not found , not getting error)\n",
    "s.discard(3)\n",
    "print(s)\n",
    "\n",
    "# copy\n",
    "set1 = s.copy()\n",
    "print(set1)\n",
    "\n",
    "# delete the all items inside set\n",
    "set1.clear()\n",
    "print(set1)\n",
    "\n",
    "# max & min \n",
    "print(max(s))\n",
    "print(min(s))\n",
    "\n",
    "# update(): group of items adding at a time (list extend)\n",
    "x = {\"apple\", \"banana\", \"cherry\"}\n",
    "y = {\"google\", \"microsoft\", \"apple\"}\n",
    "x.update(y) \n",
    "print(x)\n",
    "\n",
    "# pop(): remove the random item\n",
    "s = {\"google\", \"microsoft\",\"mango\", \"demo\", \"jamun\"}\n",
    "print(s.pop())\n",
    "\n",
    "s1 = {6,7,3,4,5,1,2}\n",
    "print(s1.pop())"
   ]
  },
  {
   "cell_type": "markdown",
   "id": "aa9f8330",
   "metadata": {},
   "source": [
    "# Frozenset\n",
    "\n",
    "immutable: Frozensets can be created using the function frozenset(). This datatype supports methods like copy(), difference(), intersection(), isdisjoint(), issubset(), issuperset(), symmetric_difference() and union(). Being immutable it does not have method that add or remove elements. "
   ]
  },
  {
   "cell_type": "code",
   "execution_count": 119,
   "id": "626f4291",
   "metadata": {},
   "outputs": [
    {
     "name": "stdout",
     "output_type": "stream",
     "text": [
      "frozenset()\n",
      "frozenset({1, 2, 3, 4})\n",
      "frozenset({1})\n",
      "frozenset({1, 4})\n",
      "True\n",
      "True\n",
      "True\n"
     ]
    }
   ],
   "source": [
    "f = frozenset()\n",
    "print(f)\n",
    "\n",
    "fs1 = frozenset([1, 2, 3])\n",
    "fs2 = frozenset([2, 3, 4])\n",
    "\n",
    "# union\n",
    "union_fs = fs1 | fs2  \n",
    "print(union_fs)\n",
    "\n",
    "# difference\n",
    "difference_fs = fs1 - fs2  # or fs1.difference(fs2)\n",
    "print(difference_fs)\n",
    "\n",
    "# symmetric difference\n",
    "symmetric_difference_fs = fs1 ^ fs2\n",
    "print(symmetric_difference_fs)\n",
    "\n",
    "f1 = frozenset([1,2,3])\n",
    "f2 = frozenset([1,2])\n",
    "f3 = frozenset([4,5,6])\n",
    "\n",
    "# disjoint: checking common elements in another set\n",
    "is_disjoint = f1.isdisjoint(f3)\n",
    "print(is_disjoint)\n",
    "\n",
    "# issubset\n",
    "is_subset = f2.issubset(f1)\n",
    "print(is_subset)\n",
    "\n",
    "# issuperset\n",
    "is_superset = f1.issuperset(f2)\n",
    "print(is_superset)"
   ]
  },
  {
   "cell_type": "markdown",
   "id": "c043dbce",
   "metadata": {},
   "source": [
    "# 2. set operations\n",
    "1. union         -> |  = combined all items\n",
    "2. intersection  -> &  = common items\n",
    "3. difference    -> -  = contain x, not in y | contain y, not in x (vice-versa)\n",
    "4. symetric diff -> ^  = not common elements"
   ]
  },
  {
   "cell_type": "code",
   "execution_count": 34,
   "id": "e568e620",
   "metadata": {},
   "outputs": [
    {
     "name": "stdout",
     "output_type": "stream",
     "text": [
      "{1, 2, 3, 4, 5}\n",
      "{3, 4, 5, 6, 7, 8}\n",
      "{'hello', 'friend', 'my', 'hi'}\n",
      "{'hello', 'Naresh', 'Darsi', 'hi'}\n",
      "\n",
      "Union\n",
      "{1, 2, 3, 4, 5, 6, 7, 8}\n",
      "{'hello', 'Darsi', 'friend', 'hi', 'Naresh', 'my'}\n",
      "\n",
      "Intersection\n",
      "{3, 4, 5}\n",
      "{'hello', 'hi'}\n",
      "\n",
      "Difference\n",
      "{1, 2}\n",
      "{'my', 'friend'}\n",
      "{8, 6, 7}\n",
      "{'Darsi', 'Naresh'}\n",
      "\n",
      "Symetric Diff\n",
      "{1, 2, 6, 7, 8}\n",
      "{'Darsi', 'friend', 'Naresh', 'my'}\n",
      "{1, 2, 6, 7, 8}\n",
      "{'Darsi', 'friend', 'Naresh', 'my'}\n"
     ]
    }
   ],
   "source": [
    "X = {1,2,3,4,5}\n",
    "Y = {3,4,5,6,7,8}\n",
    "A = {\"hi\",\"hello\",\"my\",\"friend\"}\n",
    "B = {\"hi\",\"hello\",\"Naresh\",\"Darsi\"}\n",
    "\n",
    "print(X)\n",
    "print(Y)\n",
    "print(A)\n",
    "print(B)\n",
    "\n",
    "print()\n",
    "\n",
    "\"\"\" Union \"\"\"\n",
    "print(\"Union\")\n",
    "print( X | Y )\n",
    "print(A.union(B))\n",
    "\n",
    "print()\n",
    "\n",
    "\"\"\" Intersection \"\"\"\n",
    "print(\"Intersection\")\n",
    "print( X & Y )\n",
    "print( A.intersection(B))\n",
    "\n",
    "print()\n",
    "\n",
    "\"\"\" Difference \"\"\"\n",
    "print(\"Difference\")\n",
    "print( X - Y )\n",
    "print( A.difference(B))\n",
    "print( Y - X )\n",
    "print( B.difference(A))\n",
    "\n",
    "print()\n",
    "\n",
    "\"\"\" Symetric Difference\"\"\"\n",
    "print(\"Symetric Diff\")\n",
    "print( X ^ Y )\n",
    "print( A.symmetric_difference(B))\n",
    "print( Y ^ X )\n",
    "print( B.symmetric_difference(A))"
   ]
  },
  {
   "cell_type": "markdown",
   "id": "6aa39e7a",
   "metadata": {},
   "source": [
    "# 3. iterate over sets."
   ]
  },
  {
   "cell_type": "code",
   "execution_count": 47,
   "id": "fb7128e6",
   "metadata": {},
   "outputs": [
    {
     "name": "stdout",
     "output_type": "stream",
     "text": [
      "0 1 2 3 4 5 \n",
      "r c o u e s "
     ]
    }
   ],
   "source": [
    "# create set using list numbers\n",
    "s = set([0, 1, 2, 3, 4, 5])    \n",
    "for i in s:\n",
    "    print(i,end=\" \")\n",
    "print()\n",
    "# create set using strings\n",
    "char_set = set(\"resource\")  \n",
    "for val in char_set:\n",
    "    print(val, end=' ')"
   ]
  },
  {
   "cell_type": "markdown",
   "id": "1039a871",
   "metadata": {},
   "source": [
    "# 4. check issubset or not ?"
   ]
  },
  {
   "cell_type": "code",
   "execution_count": 95,
   "id": "a15a5761",
   "metadata": {},
   "outputs": [
    {
     "name": "stdout",
     "output_type": "stream",
     "text": [
      "True\n"
     ]
    }
   ],
   "source": [
    "sety = {\"mango\", \"orange\"}\n",
    "setz = set([\"mango\"])\n",
    "\n",
    "if setz.issubset(sety):\n",
    "    print(True)"
   ]
  },
  {
   "cell_type": "markdown",
   "id": "ba7e8a50",
   "metadata": {},
   "source": [
    "# 5. check issuperset or not ?"
   ]
  },
  {
   "cell_type": "code",
   "execution_count": 96,
   "id": "0eaffec3",
   "metadata": {},
   "outputs": [
    {
     "name": "stdout",
     "output_type": "stream",
     "text": [
      "True\n"
     ]
    }
   ],
   "source": [
    "sety = {\"mango\", \"orange\"}\n",
    "setz = set([\"mango\"])\n",
    "\n",
    "if sety.issuperset(setz):\n",
    "    print(True)"
   ]
  },
  {
   "cell_type": "markdown",
   "id": "340cef2a",
   "metadata": {},
   "source": [
    "# 6. check if two given sets have no common elements (isdisjoint) "
   ]
  },
  {
   "cell_type": "code",
   "execution_count": 101,
   "id": "93a7c818",
   "metadata": {},
   "outputs": [
    {
     "name": "stdout",
     "output_type": "stream",
     "text": [
      "False\n",
      "True\n"
     ]
    }
   ],
   "source": [
    "x = {1,2,3,4}\n",
    "y = {4,5,6,7}\n",
    "z = {8}\n",
    "\n",
    "# x&y compare\n",
    "if x.isdisjoint(y):\n",
    "    print(True)\n",
    "else:\n",
    "    print(False)\n",
    "\n",
    "# x&z compare\n",
    "if x.isdisjoint(z):\n",
    "    print(True)"
   ]
  },
  {
   "cell_type": "markdown",
   "id": "e1970ca2",
   "metadata": {},
   "source": [
    "# 7. sets copy"
   ]
  },
  {
   "cell_type": "code",
   "execution_count": 70,
   "id": "4c252b58",
   "metadata": {},
   "outputs": [
    {
     "name": "stdout",
     "output_type": "stream",
     "text": [
      "{1, 2, 3, 4, 5}\n",
      "{1, 2, 3, 4, 5}\n",
      "{1, 2, 3, 4, 5}\n",
      "{1, 2, 3, 4, 5}\n"
     ]
    }
   ],
   "source": [
    "s = {1, 2, 3, 4, 5}\n",
    "\n",
    "set1 = s.copy()\n",
    "print(set1)\n",
    "\n",
    "set2 = set(s)\n",
    "print(set2)\n",
    "\n",
    "import copy\n",
    "set3 = copy.copy(s)\n",
    "set4 = copy.deepcopy(s)\n",
    "print(set3)\n",
    "print(set4)"
   ]
  },
  {
   "cell_type": "markdown",
   "id": "22c4c0e3",
   "metadata": {},
   "source": [
    "# 8. present value is present or not in set"
   ]
  },
  {
   "cell_type": "code",
   "execution_count": 90,
   "id": "daa8ad3f",
   "metadata": {},
   "outputs": [
    {
     "name": "stdout",
     "output_type": "stream",
     "text": [
      "True\n"
     ]
    }
   ],
   "source": [
    "s = {5, 10, 3, 15, 2, 20}\n",
    "\n",
    "if 5 in s:\n",
    "    print(True)\n",
    "else: \n",
    "    print(False)"
   ]
  },
  {
   "cell_type": "code",
   "execution_count": 102,
   "id": "80f3b3a2",
   "metadata": {},
   "outputs": [
    {
     "name": "stdout",
     "output_type": "stream",
     "text": [
      "['__and__', '__class__', '__class_getitem__', '__contains__', '__delattr__', '__dir__', '__doc__', '__eq__', '__format__', '__ge__', '__getattribute__', '__getstate__', '__gt__', '__hash__', '__iand__', '__init__', '__init_subclass__', '__ior__', '__isub__', '__iter__', '__ixor__', '__le__', '__len__', '__lt__', '__ne__', '__new__', '__or__', '__rand__', '__reduce__', '__reduce_ex__', '__repr__', '__ror__', '__rsub__', '__rxor__', '__setattr__', '__sizeof__', '__str__', '__sub__', '__subclasshook__', '__xor__', 'add', 'clear', 'copy', 'difference', 'difference_update', 'discard', 'intersection', 'intersection_update', 'isdisjoint', 'issubset', 'issuperset', 'pop', 'remove', 'symmetric_difference', 'symmetric_difference_update', 'union', 'update']"
     ]
    }
   ],
   "source": [
    "print(dir(set()),end=\"\")"
   ]
  },
  {
   "cell_type": "markdown",
   "id": "c6e80500",
   "metadata": {},
   "source": [
    "# 9. find anagrams (any position char are equal)"
   ]
  },
  {
   "cell_type": "code",
   "execution_count": 111,
   "id": "41535238",
   "metadata": {},
   "outputs": [
    {
     "name": "stdout",
     "output_type": "stream",
     "text": [
      "[('aet', ['eat', 'tae']), ('abc', ['cba', 'abc']), ('xyz', ['xyz'])]\n",
      "[('eflrstu', ['restful', 'fluster']), (' effiortvy', ['forty five', 'over fifty']), ('eilv', ['evil', 'vile'])]\n"
     ]
    }
   ],
   "source": [
    "def group_anagrams(strs):\n",
    "    d = {}\n",
    "    for s in strs:\n",
    "        st = ''.join(sorted(s))\n",
    "        if st in d:\n",
    "            d[st].append(s)\n",
    "        else:\n",
    "            d[st] = [s]\n",
    "    return list(d.items())\n",
    "\n",
    "strs = ['eat', 'cba', 'tae', 'abc', 'xyz']\n",
    "print(group_anagrams(strs))\n",
    "strs = ['restful','forty five','evil','over fifty','vile','fluster']\n",
    "print(group_anagrams(strs))"
   ]
  },
  {
   "cell_type": "markdown",
   "id": "236bcf8c",
   "metadata": {},
   "source": [
    "# 10. remove list of duplicate elements"
   ]
  },
  {
   "cell_type": "code",
   "execution_count": 112,
   "id": "2efaddf5",
   "metadata": {},
   "outputs": [
    {
     "name": "stdout",
     "output_type": "stream",
     "text": [
      "['foo', 'qux', 'abc', 'baz', 'bar']\n",
      "['Exercises', 'Practice', 'Solution', 'Python']\n"
     ]
    }
   ],
   "source": [
    "def remove_duplicates(strings):\n",
    "    return list(set(strings))\n",
    "\n",
    "\n",
    "strs = ['foo', 'bar', 'abc', 'foo', 'qux', 'bar', 'baz']\n",
    "print(remove_duplicates(strs))\n",
    "strs = [\"Python\",\"Exercises\",\"Practice\",\"Solution\",\"Exercises\"] \n",
    "print(remove_duplicates(strs))"
   ]
  },
  {
   "cell_type": "code",
   "execution_count": null,
   "id": "a35ccf8a",
   "metadata": {},
   "outputs": [],
   "source": [
    " "
   ]
  },
  {
   "cell_type": "code",
   "execution_count": null,
   "id": "eb88af63",
   "metadata": {},
   "outputs": [],
   "source": []
  }
 ],
 "metadata": {
  "kernelspec": {
   "display_name": "Python 3 (ipykernel)",
   "language": "python",
   "name": "python3"
  },
  "language_info": {
   "codemirror_mode": {
    "name": "ipython",
    "version": 3
   },
   "file_extension": ".py",
   "mimetype": "text/x-python",
   "name": "python",
   "nbconvert_exporter": "python",
   "pygments_lexer": "ipython3",
   "version": "3.11.5"
  }
 },
 "nbformat": 4,
 "nbformat_minor": 5
}
