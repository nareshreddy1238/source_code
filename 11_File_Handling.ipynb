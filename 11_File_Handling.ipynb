{
 "cells": [
  {
   "cell_type": "markdown",
   "id": "7a32e3c6",
   "metadata": {},
   "source": [
    "# File Handling:\n",
    "•\tAccess Mode      Information\n",
    "          r       ->    Read\n",
    "          r+      ->    Read & Write\n",
    "          w       ->    Write \n",
    "          w+      ->    Write & Read\n",
    "          a       ->    Append \n",
    "          a+      ->    Append & Read \n",
    "          b+      ->    Binary Format\n",
    "          x       ->    file create extensively\n",
    "         'U'      ->    Reading a file with 'U' (universal newline) mode: Deprecated python 3.3 instead of use\n",
    "          \n",
    "•\tread()         ->   complete file read\n",
    "    readline()     ->   read one or particular line \n",
    "    readlines()    ->   read lines\n",
    "•\twrite()       \n",
    "    writeline() \n",
    "    writelines()\n",
    "    open()\n",
    "    close()\n",
    "file.seek(0,2) -> Offset, Whence(reference point)\n",
    "    Offset: \n",
    "        Default 0 -> file Starting point \n",
    "        Positive(+) values -> Forward\n",
    "        Negative(+) values -> backword\n",
    "    Whence (reference point): \n",
    "        0: Seek from the beginning of the file.\n",
    "        1: Seek from the current file position.\n",
    "        2: Seek from the end of the file.\n",
    "    Example: \n",
    "        file.seek(10, 0) move the pointer 10 bytes forward from the begining of file.\n",
    "        file.seek(-5, 1) move the pointer 5 bytes backward from the current position.\n",
    "        file.seek(-10, 2) move the pointer 10 bytes backward from the end of file.\n",
    "file.tell() -> tell the current position of pointer\n",
    "detach()\t-> Separates the underlying binary buffer from the TextIOBase and returns it.\n",
    "fileno()\t-> Returns an integer number (file descriptor) of the file.\n",
    "flush()\t    -> Flushes the write buffer of the file stream.\n",
    "isatty()\t-> Returns True if the file stream is interactive.\n",
    "0 indicates the file is unbuffered, 1 indicates that line by line buffering. Any other positive number is the actual buffer size to be allocated."
   ]
  },
  {
   "cell_type": "markdown",
   "id": "91dc6280",
   "metadata": {},
   "source": [
    "# 01. Read Entire File"
   ]
  },
  {
   "cell_type": "code",
   "execution_count": 1,
   "id": "18e685c9",
   "metadata": {},
   "outputs": [
    {
     "data": {
      "text/plain": [
       "'What is Python language?                                                \\nPython is a widely used high-level, general-purpose, interpreted, dynamic programming language.Its design philosophy emphasizes code readability, and its syntax allows programmers to express concepts in fewer lines of code than possible in \\nlanguages such as C++ or Java. \\nPython supports multiple programming paradigms, including object-oriented, imperative and functional programming or procedural styles. It features a dynamic type system and automatic memory management and has a large and comprehensive standard library.The best way we learn anything is by practice and exercise questions. We  have started this section for those (beginner to intermediate) who are familiar with Python.'"
      ]
     },
     "execution_count": 1,
     "metadata": {},
     "output_type": "execute_result"
    }
   ],
   "source": [
    "f = open(\"file.txt\",\"r\")\n",
    "f.read()"
   ]
  },
  {
   "cell_type": "markdown",
   "id": "989e335b",
   "metadata": {},
   "source": [
    "# 02. Read first 5 char's"
   ]
  },
  {
   "cell_type": "code",
   "execution_count": 2,
   "id": "0b363794",
   "metadata": {},
   "outputs": [
    {
     "data": {
      "text/plain": [
       "'What '"
      ]
     },
     "execution_count": 2,
     "metadata": {},
     "output_type": "execute_result"
    }
   ],
   "source": [
    "f = open(\"file.txt\",\"r\")\n",
    "f.read(5)"
   ]
  },
  {
   "cell_type": "markdown",
   "id": "0966638a",
   "metadata": {},
   "source": [
    "# 02. Read first line"
   ]
  },
  {
   "cell_type": "code",
   "execution_count": 8,
   "id": "f650d3dc",
   "metadata": {},
   "outputs": [
    {
     "name": "stdout",
     "output_type": "stream",
     "text": [
      "What is Python language?                                                \n"
     ]
    }
   ],
   "source": [
    "f = open(\"file.txt\",\"r\")\n",
    "\n",
    "for i in f.readline():\n",
    "    print(i,end=\"\")"
   ]
  },
  {
   "cell_type": "code",
   "execution_count": null,
   "id": "8e5442ae",
   "metadata": {},
   "outputs": [],
   "source": [
    "# 03. Read number of char in first line"
   ]
  },
  {
   "cell_type": "code",
   "execution_count": 12,
   "id": "a3e408f7",
   "metadata": {},
   "outputs": [
    {
     "name": "stdout",
     "output_type": "stream",
     "text": [
      "What is"
     ]
    }
   ],
   "source": [
    "f = open(\"file.txt\",\"r\")\n",
    "\n",
    "for i in f.readline(7):\n",
    "    print(i,end=\"\")"
   ]
  },
  {
   "cell_type": "markdown",
   "id": "cefa954e",
   "metadata": {},
   "source": [
    "# 03. Read lines"
   ]
  },
  {
   "cell_type": "code",
   "execution_count": 16,
   "id": "b80a8091",
   "metadata": {},
   "outputs": [
    {
     "name": "stdout",
     "output_type": "stream",
     "text": [
      "What is Python language?                                                \n",
      "Python is a widely used high-level, general-purpose, interpreted, dynamic programming language.Its design philosophy emphasizes code readability, and its syntax allows programmers to express concepts in fewer lines of code than possible in \n",
      "languages such as C++ or Java. \n",
      "Python supports multiple programming paradigms, including object-oriented, imperative and functional programming or procedural styles. It features a dynamic type system and automatic memory management and has a large and comprehensive standard library.The best way we learn anything is by practice and exercise questions. We  have started this section for those (beginner to intermediate) who are familiar with Python."
     ]
    }
   ],
   "source": [
    "f = open(\"file.txt\",\"r\")\n",
    "\n",
    "for i in f.readlines():\n",
    "    print(i,end=\"\")"
   ]
  },
  {
   "cell_type": "markdown",
   "id": "ec4229d9",
   "metadata": {},
   "source": [
    "# 04. Read particular num of line in a file"
   ]
  },
  {
   "cell_type": "code",
   "execution_count": 20,
   "id": "5c858c64",
   "metadata": {},
   "outputs": [
    {
     "name": "stdout",
     "output_type": "stream",
     "text": [
      "['What is Python language?', 'Python is a widely used high-level, general-purpose, interpreted, dynamic programming language.Its design philosophy emphasizes code readability, and its syntax allows programmers to express concepts in fewer lines of code than possible in']\n"
     ]
    }
   ],
   "source": [
    "n = int(input(\"Enter number of lines:\"))\n",
    "with open(\"file.txt\", 'r') as file:\n",
    "    lines = []\n",
    "    for i in range(n):\n",
    "        line = file.readline()\n",
    "        if not line:\n",
    "            break  # Stop if we've reached the end of the file\n",
    "        lines.append(line.strip())\n",
    "print(lines)"
   ]
  },
  {
   "cell_type": "markdown",
   "id": "6bfb9263",
   "metadata": {},
   "source": [
    "# 5. Read a file line by line store into list"
   ]
  },
  {
   "cell_type": "code",
   "execution_count": 27,
   "id": "2abc6d61",
   "metadata": {},
   "outputs": [
    {
     "name": "stdout",
     "output_type": "stream",
     "text": [
      "['What is Python language?                                                \\n', 'Python is a widely used high-level, general-purpose, interpreted, dynamic programming language.Its design philosophy emphasizes code readability, and its syntax allows programmers to express concepts in fewer lines of code than possible in \\n', 'languages such as C++ or Java. \\n', 'Python supports multiple programming paradigms, including object-oriented, imperative and functional programming or procedural styles. It features a dynamic type system and automatic memory management and has a large and comprehensive standard library.The best way we learn anything is by practice and exercise questions. We  have started this section for those (beginner to intermediate) who are familiar with Python.']\n"
     ]
    }
   ],
   "source": [
    "with open(\"file.txt\",\"r\") as f:\n",
    "    print(f.readlines())"
   ]
  },
  {
   "cell_type": "markdown",
   "id": "41727430",
   "metadata": {},
   "source": [
    "# 6. Read file line by line store it into a variable"
   ]
  },
  {
   "cell_type": "code",
   "execution_count": 29,
   "id": "4da23878",
   "metadata": {},
   "outputs": [
    {
     "name": "stdout",
     "output_type": "stream",
     "text": [
      "['What is Python language?                                                \\n', 'Python is a widely used high-level, general-purpose, interpreted, dynamic programming language.Its design philosophy emphasizes code readability, and its syntax allows programmers to express concepts in fewer lines of code than possible in \\n', 'languages such as C++ or Java. \\n', 'Python supports multiple programming paradigms, including object-oriented, imperative and functional programming or procedural styles. It features a dynamic type system and automatic memory management and has a large and comprehensive standard library.The best way we learn anything is by practice and exercise questions. We  have started this section for those (beginner to intermediate) who are familiar with Python.']\n"
     ]
    }
   ],
   "source": [
    "with open(\"file.txt\",\"r\") as f:\n",
    "    data = f.readlines()\n",
    "    print(data)"
   ]
  },
  {
   "cell_type": "markdown",
   "id": "5aeff536",
   "metadata": {},
   "source": [
    "# 7. Find the largest word in a file"
   ]
  },
  {
   "cell_type": "code",
   "execution_count": 36,
   "id": "105aac34",
   "metadata": {},
   "outputs": [
    {
     "name": "stdout",
     "output_type": "stream",
     "text": [
      "general-purpose\n"
     ]
    }
   ],
   "source": [
    "with open(\"file.txt\",\"r\") as f:\n",
    "    w = \"\"\n",
    "    for l in f:\n",
    "        words = l.split()\n",
    "        for word in words:\n",
    "            word = word.strip(\".,!?()[]{}<>:;\\\"'\")  # Modify as needed\n",
    "            if len(word) > len(w):\n",
    "                w = word\n",
    "print(w)"
   ]
  },
  {
   "cell_type": "markdown",
   "id": "49f2f19f",
   "metadata": {},
   "source": [
    "# 8. Num of lines in the file"
   ]
  },
  {
   "cell_type": "code",
   "execution_count": 3,
   "id": "cfe3c3b3",
   "metadata": {},
   "outputs": [
    {
     "name": "stdout",
     "output_type": "stream",
     "text": [
      "7\n"
     ]
    }
   ],
   "source": [
    "f = open(\"file.txt\",\"r\")\n",
    "l = f.readlines()\n",
    "print(len(l))"
   ]
  },
  {
   "cell_type": "code",
   "execution_count": 4,
   "id": "6e31b0cf",
   "metadata": {},
   "outputs": [
    {
     "name": "stdout",
     "output_type": "stream",
     "text": [
      "7\n"
     ]
    }
   ],
   "source": [
    "with open(\"file.txt\", \"r\") as file:\n",
    "    count = 0\n",
    "    for line in file:\n",
    "        count += 1\n",
    "print(count)"
   ]
  },
  {
   "cell_type": "markdown",
   "id": "eea29e28",
   "metadata": {},
   "source": [
    "# 9. Num of chars in file"
   ]
  },
  {
   "cell_type": "code",
   "execution_count": 11,
   "id": "013276c4",
   "metadata": {},
   "outputs": [
    {
     "name": "stdout",
     "output_type": "stream",
     "text": [
      "765\n"
     ]
    }
   ],
   "source": [
    "f = open(\"file.txt\",\"r\")\n",
    "l = f.read()\n",
    "print(len(l))"
   ]
  },
  {
   "cell_type": "markdown",
   "id": "3d2233f1",
   "metadata": {},
   "source": [
    "# 10. Using readlines() display first line"
   ]
  },
  {
   "cell_type": "code",
   "execution_count": 7,
   "id": "836d3e21",
   "metadata": {},
   "outputs": [
    {
     "name": "stdout",
     "output_type": "stream",
     "text": [
      "What is Python language?                                                \n",
      "\n",
      "Its design philosophy emphasizes code readability, and its syntax allows programmers to express concepts in fewer lines of code than possible in \n",
      "\n"
     ]
    }
   ],
   "source": [
    "f = open(\"file.txt\",\"r\")\n",
    "l = f.readlines()\n",
    "print(l[0])\n",
    "print(l[2])"
   ]
  },
  {
   "cell_type": "markdown",
   "id": "c9d231ac",
   "metadata": {},
   "source": [
    "# 11. First char uppercase "
   ]
  },
  {
   "cell_type": "code",
   "execution_count": 10,
   "id": "275433f0",
   "metadata": {},
   "outputs": [
    {
     "name": "stdout",
     "output_type": "stream",
     "text": [
      "What is Python language?                                                \n",
      "Python is a widely used high-level, general-purpose, interpreted, dynamic programming language.\n",
      "Its design philosophy emphasizes code readability, and its syntax allows programmers to express concepts in fewer lines of code than possible in \n",
      "Languages such as C++ or Java. \n",
      "Python supports multiple programming paradigms, including object-oriented, imperative and functional programming or procedural styles.\n",
      "It features a dynamic type system and automatic memory management and has a large and comprehensive standard library.The best way we learn anything is by practice and exercise questions.\n",
      "We  have started this section for those (beginner to intermediate) who are familiar with Python\n"
     ]
    }
   ],
   "source": [
    "f = open(\"file.txt\",\"r\")\n",
    "l = f.readlines()\n",
    "for i in l:\n",
    "    print((i[0].upper()+i[1:-1] ))"
   ]
  },
  {
   "cell_type": "markdown",
   "id": "55fff893",
   "metadata": {},
   "source": [
    "# 9. Count the frequency of word in a file"
   ]
  },
  {
   "cell_type": "code",
   "execution_count": 48,
   "id": "3d4350c6",
   "metadata": {},
   "outputs": [
    {
     "name": "stdout",
     "output_type": "stream",
     "text": [
      "{'What': 1, 'is': 3, 'Python': 3, 'language?': 1, 'a': 3, 'widely': 1, 'used': 1, 'high-level,': 1, 'general-purpose,': 1, 'interpreted,': 1, 'dynamic': 2, 'programming': 3, 'language.': 1, 'Its': 1, 'design': 1, 'philosophy': 1, 'emphasizes': 1, 'code': 2, 'readability,': 1, 'and': 6, 'its': 1, 'syntax': 1, 'allows': 1, 'programmers': 1, 'to': 2, 'express': 1, 'concepts': 1, 'in': 2, 'fewer': 1, 'lines': 1, 'of': 1, 'than': 1, 'possible': 1, 'languages': 1, 'such': 1, 'as': 1, 'C++': 1, 'or': 2, 'Java.': 1, 'supports': 1, 'multiple': 1, 'paradigms,': 1, 'including': 1, 'object-oriented,': 1, 'imperative': 1, 'functional': 1, 'procedural': 1, 'styles.': 1, 'It': 1, 'features': 1, 'type': 1, 'system': 1, 'automatic': 1, 'memory': 1, 'management': 1, 'has': 1, 'large': 1, 'comprehensive': 1, 'standard': 1, 'library.The': 1, 'best': 1, 'way': 1, 'we': 1, 'learn': 1, 'anything': 1, 'by': 1, 'practice': 1, 'exercise': 1, 'questions.': 1, 'We': 1, 'have': 1, 'started': 1, 'this': 1, 'section': 1, 'for': 1, 'those': 1, '(beginner': 1, 'intermediate)': 1, 'who': 1, 'are': 1, 'familiar': 1, 'with': 1, 'Python.': 1}\n"
     ]
    }
   ],
   "source": [
    "with open(\"file.txt\", \"r\") as file:\n",
    "    d = {}\n",
    "    for i in file:\n",
    "        for k in i.split():\n",
    "            d[k] = d.get(k,0)+1\n",
    "print(d)"
   ]
  },
  {
   "cell_type": "code",
   "execution_count": 44,
   "id": "56a07007",
   "metadata": {},
   "outputs": [
    {
     "name": "stdout",
     "output_type": "stream",
     "text": [
      "{'What': 1, 'is': 3, 'Python': 3, 'language?': 1, 'a': 3, 'widely': 1, 'used': 1, 'high-level,': 1, 'general-purpose,': 1, 'interpreted,': 1, 'dynamic': 2, 'programming': 3, 'language.': 1, 'Its': 1, 'design': 1, 'philosophy': 1, 'emphasizes': 1, 'code': 2, 'readability,': 1, 'and': 6, 'its': 1, 'syntax': 1, 'allows': 1, 'programmers': 1, 'to': 2, 'express': 1, 'concepts': 1, 'in': 2, 'fewer': 1, 'lines': 1, 'of': 1, 'than': 1, 'possible': 1, 'languages': 1, 'such': 1, 'as': 1, 'C++': 1, 'or': 2, 'Java.': 1, 'supports': 1, 'multiple': 1, 'paradigms,': 1, 'including': 1, 'object-oriented,': 1, 'imperative': 1, 'functional': 1, 'procedural': 1, 'styles.': 1, 'It': 1, 'features': 1, 'type': 1, 'system': 1, 'automatic': 1, 'memory': 1, 'management': 1, 'has': 1, 'large': 1, 'comprehensive': 1, 'standard': 1, 'library.The': 1, 'best': 1, 'way': 1, 'we': 1, 'learn': 1, 'anything': 1, 'by': 1, 'practice': 1, 'exercise': 1, 'questions.': 1, 'We': 1, 'have': 1, 'started': 1, 'this': 1, 'section': 1, 'for': 1, 'those': 1, '(beginner': 1, 'intermediate)': 1, 'who': 1, 'are': 1, 'familiar': 1, 'with': 1, 'Python.': 1}\n"
     ]
    }
   ],
   "source": [
    "with open(\"file.txt\", \"r\") as file:\n",
    "    d = {}\n",
    "    for i in file.readlines():\n",
    "        for k in i.split():\n",
    "            d[k] = d.get(k,0)+1\n",
    "print(d)"
   ]
  },
  {
   "cell_type": "code",
   "execution_count": 46,
   "id": "1e417d75",
   "metadata": {},
   "outputs": [
    {
     "name": "stdout",
     "output_type": "stream",
     "text": [
      "enter word:Python\n",
      "4\n"
     ]
    }
   ],
   "source": [
    "f = open(\"file.txt\", \"r\")\n",
    "l = f.read()\n",
    "word = input(\"enter word:\")\n",
    "print(l.count(word))"
   ]
  },
  {
   "cell_type": "markdown",
   "id": "d9199fd4",
   "metadata": {},
   "source": [
    "# 10. file size "
   ]
  },
  {
   "cell_type": "code",
   "execution_count": 62,
   "id": "01f17692",
   "metadata": {},
   "outputs": [
    {
     "name": "stdout",
     "output_type": "stream",
     "text": [
      "765 Bytes\n"
     ]
    }
   ],
   "source": [
    "import os\n",
    "\n",
    "print(os.path.getsize(\"file.txt\"),\"Bytes\")"
   ]
  },
  {
   "cell_type": "code",
   "execution_count": 64,
   "id": "f2c0d270",
   "metadata": {},
   "outputs": [
    {
     "name": "stdout",
     "output_type": "stream",
     "text": [
      "765 Bytes\n"
     ]
    }
   ],
   "source": [
    "with open(\"file.txt\", 'rb') as file:\n",
    "    file.seek(0, 2)  # Go to the end of the file\n",
    "    file_size = file.tell()  # Get the current position (file size)\n",
    "print(file_size,\"Bytes\")"
   ]
  },
  {
   "cell_type": "markdown",
   "id": "8f517ffa",
   "metadata": {},
   "source": [
    "# 11. write a list content to a file"
   ]
  },
  {
   "cell_type": "code",
   "execution_count": 68,
   "id": "5faf853e",
   "metadata": {},
   "outputs": [
    {
     "name": "stdout",
     "output_type": "stream",
     "text": [
      "Red\n",
      "Green\n",
      "White\n",
      "Black\n",
      "Pink\n",
      "Yellow\n",
      "\n"
     ]
    }
   ],
   "source": [
    "color = ['Red', 'Green', 'White', 'Black', 'Pink', 'Yellow']\n",
    "with open('abc.txt', \"w\") as myfile:\n",
    "    for c in color:\n",
    "        c.split()\n",
    "        myfile.write(c+\"\\n\")\n",
    "content = open('abc.txt')\n",
    "print(content.read())"
   ]
  },
  {
   "cell_type": "markdown",
   "id": "60543fb3",
   "metadata": {},
   "source": [
    "# 12. file content copy from one file to another file"
   ]
  },
  {
   "cell_type": "code",
   "execution_count": 69,
   "id": "e3a73d7c",
   "metadata": {},
   "outputs": [
    {
     "name": "stdout",
     "output_type": "stream",
     "text": [
      "Red\n",
      "Green\n",
      "White\n",
      "Black\n",
      "Pink\n",
      "Yellow\n",
      "\n"
     ]
    }
   ],
   "source": [
    "with open(\"abc.txt\", 'r') as sfile, open(\"demo.txt\", 'w') as dfile:\n",
    "    for line in sfile:\n",
    "        dfile.write(line)\n",
    "content = open('demo.txt')\n",
    "print(content.read())"
   ]
  },
  {
   "cell_type": "markdown",
   "id": "e5f1cdb3",
   "metadata": {},
   "source": [
    "# 13. combine two files line by line "
   ]
  },
  {
   "cell_type": "code",
   "execution_count": 76,
   "id": "29609808",
   "metadata": {},
   "outputs": [
    {
     "name": "stdout",
     "output_type": "stream",
     "text": [
      "Red What is Python language?Green Python is a widely used high-level, general-purpose, interpreted, dynamic programming language.White Its design philosophy emphasizes code readability, and its syntax allows programmers to express concepts in fewer lines of code than possible inBlack languages such as C++ or Java.Pink Python supports multiple programming paradigms, including object-oriented, imperative and functional programming or procedural styles.Yellow It features a dynamic type system and automatic memory management and has a large and comprehensive standard library.The best way we learn anything is by practice and exercise questions.\n"
     ]
    }
   ],
   "source": [
    "with open('abc.txt') as fh1, open('file.txt') as fh2, open('file_abc.txt',\"w\") as fh:\n",
    "    for l1, l2 in zip(fh1, fh2):\n",
    "        line = l1+l2\n",
    "        l =\" \".join(line.split())\n",
    "        fh.write(l)\n",
    "content = open('file_abc.txt')\n",
    "print(content.read())    "
   ]
  },
  {
   "cell_type": "markdown",
   "id": "959df9ba",
   "metadata": {},
   "source": [
    "# 14. Read random line from file"
   ]
  },
  {
   "cell_type": "code",
   "execution_count": 79,
   "id": "d1f5c739",
   "metadata": {},
   "outputs": [
    {
     "name": "stdout",
     "output_type": "stream",
     "text": [
      "languages such as C++ or Java. \n"
     ]
    }
   ],
   "source": [
    "import random\n",
    "lines = open(\"file.txt\",\"r\").read().splitlines()\n",
    "print(random.choice(lines))"
   ]
  },
  {
   "cell_type": "code",
   "execution_count": 83,
   "id": "da4a9663",
   "metadata": {},
   "outputs": [
    {
     "name": "stdout",
     "output_type": "stream",
     "text": [
      "Python is a widely used high-level, general-purpose, interpreted, dynamic programming language.\n"
     ]
    }
   ],
   "source": [
    "with open(\"file.txt\", 'r') as file:\n",
    "    lines = file.readlines()\n",
    "    if lines:\n",
    "        random_line= random.choice(lines)\n",
    "        print(random_line.strip())"
   ]
  },
  {
   "cell_type": "markdown",
   "id": "e355d3b6",
   "metadata": {},
   "source": [
    "# 15. Access File closed or not "
   ]
  },
  {
   "cell_type": "code",
   "execution_count": 84,
   "id": "17f1bdbe",
   "metadata": {},
   "outputs": [
    {
     "name": "stdout",
     "output_type": "stream",
     "text": [
      "False\n",
      "True\n"
     ]
    }
   ],
   "source": [
    "f = open('abc.txt','r')\n",
    "print(f.closed)\n",
    "f.close()\n",
    "print(f.closed)"
   ]
  },
  {
   "cell_type": "code",
   "execution_count": 85,
   "id": "1986a5cc",
   "metadata": {},
   "outputs": [
    {
     "name": "stdout",
     "output_type": "stream",
     "text": [
      "File Not Closed\n",
      "File Closed\n"
     ]
    }
   ],
   "source": [
    "f = open('abc.txt','r')\n",
    "\n",
    "if f.closed:\n",
    "    print(\"File Closed\")\n",
    "else:\n",
    "    print(\"File Not Closed\")\n",
    "\n",
    "f.close()\n",
    "\n",
    "if f.closed:\n",
    "    print(\"File Closed\")\n",
    "else:\n",
    "    print(\"File Not Closed\")"
   ]
  },
  {
   "cell_type": "markdown",
   "id": "e02e4bff",
   "metadata": {},
   "source": [
    "# 16. Remove new line char in file"
   ]
  },
  {
   "cell_type": "code",
   "execution_count": 88,
   "id": "0279c3e1",
   "metadata": {},
   "outputs": [
    {
     "name": "stdout",
     "output_type": "stream",
     "text": [
      "What is Python language?                                                \n",
      "\n",
      "Python is a widely used high-level, general-purpose, interpreted, dynamic programming language.\n",
      "\n",
      "Its design philosophy emphasizes code readability, and its syntax allows programmers to express concepts in fewer lines of code than possible in \n",
      "\n",
      "languages such as C++ or Java. \n",
      "\n",
      "Python supports multiple programming paradigms, including object-oriented, imperative and functional programming or procedural styles.\n",
      "\n",
      "It features a dynamic type system and automatic memory management and has a large and comprehensive standard library.The best way we learn anything is by practice and exercise questions.\n",
      "\n",
      "We  have started this section for those (beginner to intermediate) who are familiar with Python.\n"
     ]
    }
   ],
   "source": [
    "f = open(\"file.txt\",\"r\").readlines()\n",
    "for s in f:\n",
    "    s.strip('\\n')\n",
    "    print(s)"
   ]
  },
  {
   "cell_type": "markdown",
   "id": "5e306daf",
   "metadata": {},
   "source": [
    "# 17. Find num of words in file"
   ]
  },
  {
   "cell_type": "code",
   "execution_count": 92,
   "id": "6bcd46ff",
   "metadata": {},
   "outputs": [
    {
     "name": "stdout",
     "output_type": "stream",
     "text": [
      "101\n"
     ]
    }
   ],
   "source": [
    "with open(\"file.txt\", 'r') as file:\n",
    "    content = file.read()\n",
    "    words = content.split()  # Split the content into words based on spaces\n",
    "    word_count = len(words)\n",
    "    print(word_count)"
   ]
  },
  {
   "cell_type": "code",
   "execution_count": 91,
   "id": "4cc61a85",
   "metadata": {},
   "outputs": [
    {
     "name": "stdout",
     "output_type": "stream",
     "text": [
      "146\n"
     ]
    }
   ],
   "source": [
    "# some words end with , replace with ' '\n",
    "with open(\"file.txt\") as f:\n",
    "    data = f.read()\n",
    "    data.replace(\",\", \" \")\n",
    "    print(len(data.split(\" \")))"
   ]
  },
  {
   "cell_type": "markdown",
   "id": "d0db56c0",
   "metadata": {},
   "source": [
    "# 18. Text file content puts them into a list"
   ]
  },
  {
   "cell_type": "code",
   "execution_count": 96,
   "id": "2d89f8ce",
   "metadata": {},
   "outputs": [
    {
     "name": "stdout",
     "output_type": "stream",
     "text": [
      "['Red', 'Green', 'White', 'Black', 'Pink', 'Yellow']\n"
     ]
    }
   ],
   "source": [
    "with open(\"abc.txt\", 'r') as file:\n",
    "    content = file.read()\n",
    "    words = content.split()\n",
    "print(words)"
   ]
  },
  {
   "cell_type": "code",
   "execution_count": 100,
   "id": "103763df",
   "metadata": {},
   "outputs": [
    {
     "name": "stdout",
     "output_type": "stream",
     "text": [
      "['Red', 'Green', 'White', 'Black', 'Pink', 'Yellow']\n"
     ]
    }
   ],
   "source": [
    "with open(\"abc.txt\", 'r') as file:\n",
    "    content = file.readlines()\n",
    "    w = [l.strip() for l in content]\n",
    "print(w)"
   ]
  },
  {
   "cell_type": "markdown",
   "id": "f5f7d525",
   "metadata": {},
   "source": [
    "### 19. create a file where all letters of English alphabet are listed by specified number of letters on each line"
   ]
  },
  {
   "cell_type": "code",
   "execution_count": 111,
   "id": "d2e2b0d6",
   "metadata": {},
   "outputs": [
    {
     "name": "stdout",
     "output_type": "stream",
     "text": [
      "Enter number of lines:4\n",
      "ABCD\n",
      "EFGH\n",
      "IJKL\n",
      "MNOP\n",
      "QRST\n",
      "UVWX\n",
      "YZ\n",
      "\n"
     ]
    }
   ],
   "source": [
    "import string\n",
    "\n",
    "n = int(input(\"Enter number of lines:\")) \n",
    "with open(\"words1.txt\", \"w\") as f:\n",
    "    alphabet = string.ascii_uppercase\n",
    "    letters = [alphabet[i:i + n] + \"\\n\" for i in range(0, len(alphabet), n)]    \n",
    "    f.writelines(letters)\n",
    "    \n",
    "with open(\"words1.txt\",\"r\") as f1:\n",
    "    print(f1.read())\n",
    "\n",
    "#  i:i+n = > \n",
    "#  i=0, n=4 => [0:0+4] = [0:4]\n",
    "#  i=4, n=4 => [4:4+4] = [4:8]\n",
    "#  i=8, n=4 => [8:8+4] = [8:12]\n",
    "#  i=12,n=4 => [12:12+4] => [12:16],[16:20],[20:24],[24:28]"
   ]
  },
  {
   "cell_type": "markdown",
   "id": "11794e77",
   "metadata": {},
   "source": [
    "# 20. Data append to file"
   ]
  },
  {
   "cell_type": "code",
   "execution_count": 112,
   "id": "f42d3a91",
   "metadata": {},
   "outputs": [],
   "source": [
    "# Python code to illustrate append() mode\n",
    "file = open('geek.txt', 'a')\n",
    "file.write(\"This will add this line\")\n",
    "file.close()"
   ]
  },
  {
   "cell_type": "markdown",
   "id": "06aca9af",
   "metadata": {},
   "source": [
    "# 21. Particular line number print"
   ]
  },
  {
   "cell_type": "code",
   "execution_count": 114,
   "id": "859a5cc6",
   "metadata": {},
   "outputs": [
    {
     "name": "stdout",
     "output_type": "stream",
     "text": [
      "enter line number:3\n",
      "White\n",
      "\n"
     ]
    }
   ],
   "source": [
    "line_num = int(input(\"enter line number:\"))\n",
    "with open(\"abc.txt\", 'r') as file:\n",
    "    for i, line in enumerate(file, start=1):\n",
    "        if i == line_num:\n",
    "            print(line)"
   ]
  },
  {
   "cell_type": "markdown",
   "id": "6ca3c6bb",
   "metadata": {},
   "source": [
    "# 22. File create extensily "
   ]
  },
  {
   "cell_type": "code",
   "execution_count": 115,
   "id": "36825188",
   "metadata": {},
   "outputs": [
    {
     "name": "stdout",
     "output_type": "stream",
     "text": [
      "File 'new_file.txt' has been created.\n"
     ]
    }
   ],
   "source": [
    "try:\n",
    "    with open(\"new_file.txt\", \"x\") as file:\n",
    "        file.write(\"This is a new file created using 'x' mode.\")\n",
    "        print(\"File 'new_file.txt' has been created.\")\n",
    "except FileExistsError:\n",
    "    print(\"File 'new_file.txt' already exists. Cannot create a new file with 'x' mode.\")"
   ]
  },
  {
   "cell_type": "markdown",
   "id": "e3770b13",
   "metadata": {},
   "source": [
    "# 23 File create universal new line"
   ]
  },
  {
   "cell_type": "code",
   "execution_count": 1,
   "id": "ee725460",
   "metadata": {},
   "outputs": [
    {
     "name": "stdout",
     "output_type": "stream",
     "text": [
      "What is Python language?                                                \n",
      "Python is a widely used high-level, general-purpose, interpreted, dynamic programming language.\n",
      "Its design philosophy emphasizes code readability, and its syntax allows programmers to express concepts in fewer lines of code than possible in \n",
      "languages such as C++ or Java. \n",
      "Python supports multiple programming paradigms, including object-oriented, imperative and functional programming or procedural styles.\n",
      "It features a dynamic type system and automatic memory management and has a large and comprehensive standard library.The best way we learn anything is by practice and exercise questions.\n",
      "We  have started this section for those (beginner to intermediate) who are familiar with Python.\n"
     ]
    }
   ],
   "source": [
    "# Reading a file with 'U' (universal newline) mode (deprecated python 3.3, instead r, w modes)\n",
    "with open(\"file.txt\", \"rU\") as file:\n",
    "    content = file.read()\n",
    "    print(content)"
   ]
  },
  {
   "cell_type": "markdown",
   "id": "95e9059d",
   "metadata": {},
   "source": [
    "# 24. for each line last 5 char in file"
   ]
  },
  {
   "cell_type": "code",
   "execution_count": null,
   "id": "30596998",
   "metadata": {},
   "outputs": [],
   "source": [
    "f = open(\"file.txt\",\"r\")\n",
    "l = f.readlines()\n",
    "for i in l:\n",
    "    print(i[-5:],end=\"\")"
   ]
  },
  {
   "cell_type": "markdown",
   "id": "77222d76",
   "metadata": {},
   "source": [
    "# 25. read all file to upper case"
   ]
  },
  {
   "cell_type": "code",
   "execution_count": 22,
   "id": "f652cce6",
   "metadata": {},
   "outputs": [
    {
     "name": "stdout",
     "output_type": "stream",
     "text": [
      "WHAT IS PYTHON LANGUAGE?                                                \n",
      "PYTHON IS A WIDELY USED HIGH-LEVEL, GENERAL-PURPOSE, INTERPRETED, DYNAMIC PROGRAMMING LANGUAGE.\n",
      "ITS DESIGN PHILOSOPHY EMPHASIZES CODE READABILITY, AND ITS SYNTAX ALLOWS PROGRAMMERS TO EXPRESS CONCEPTS IN FEWER LINES OF CODE THAN POSSIBLE IN \n",
      "LANGUAGES SUCH AS C++ OR JAVA. \n",
      "PYTHON SUPPORTS MULTIPLE PROGRAMMING PARADIGMS, INCLUDING OBJECT-ORIENTED, IMPERATIVE AND FUNCTIONAL PROGRAMMING OR PROCEDURAL STYLES.\n",
      "IT FEATURES A DYNAMIC TYPE SYSTEM AND AUTOMATIC MEMORY MANAGEMENT AND HAS A LARGE AND COMPREHENSIVE STANDARD LIBRARY.THE BEST WAY WE LEARN ANYTHING IS BY PRACTICE AND EXERCISE QUESTIONS.\n",
      "WE  HAVE STARTED THIS SECTION FOR THOSE (BEGINNER TO INTERMEDIATE) WHO ARE FAMILIAR WITH PYTHON.\n"
     ]
    }
   ],
   "source": [
    "f = open(\"file.txt\",\"r\")\n",
    "l = f.read()\n",
    "print(l.upper())"
   ]
  },
  {
   "cell_type": "markdown",
   "id": "9edf550d",
   "metadata": {},
   "source": [
    "# 25 count uppercase letters"
   ]
  },
  {
   "cell_type": "code",
   "execution_count": 23,
   "id": "96804c7c",
   "metadata": {},
   "outputs": [
    {
     "name": "stdout",
     "output_type": "stream",
     "text": [
      "11\n"
     ]
    }
   ],
   "source": [
    "f = open(\"file.txt\",\"r\")\n",
    "l = f.read()\n",
    "c = 0\n",
    "for i in l:\n",
    "    if (i.isupper()):\n",
    "        c=c+1\n",
    "print(c)"
   ]
  },
  {
   "cell_type": "code",
   "execution_count": 25,
   "id": "2b43a407",
   "metadata": {},
   "outputs": [
    {
     "name": "stdout",
     "output_type": "stream",
     "text": [
      "W P P I C J P I T W P "
     ]
    }
   ],
   "source": [
    "f = open(\"file.txt\",\"r\")\n",
    "l = f.read()\n",
    "for i in l:\n",
    "    if (i.isupper()):\n",
    "        print(i,end=\" \")"
   ]
  },
  {
   "cell_type": "markdown",
   "id": "3b75763b",
   "metadata": {},
   "source": [
    "# 26 count space letters"
   ]
  },
  {
   "cell_type": "code",
   "execution_count": 27,
   "id": "0c1d8909",
   "metadata": {},
   "outputs": [
    {
     "name": "stdout",
     "output_type": "stream",
     "text": [
      "145\n"
     ]
    }
   ],
   "source": [
    "f = open(\"file.txt\",\"r\")\n",
    "l = f.read()\n",
    "c = 0 \n",
    "for i in l:\n",
    "    if (i.isspace() and i!='\\n'):\n",
    "        c=c+1\n",
    "print(c)"
   ]
  },
  {
   "cell_type": "markdown",
   "id": "207f537e",
   "metadata": {},
   "source": [
    "# 27. count num of vowels"
   ]
  },
  {
   "cell_type": "code",
   "execution_count": 28,
   "id": "d67645e7",
   "metadata": {},
   "outputs": [
    {
     "name": "stdout",
     "output_type": "stream",
     "text": [
      "217\n"
     ]
    }
   ],
   "source": [
    "f = open(\"file.txt\",\"r\")\n",
    "l = f.read()\n",
    "c = 0 \n",
    "vowels = \"aeiouAEIOU\"\n",
    "for i in l:\n",
    "    if i in vowels:\n",
    "        c=c+1\n",
    "print(c)"
   ]
  },
  {
   "cell_type": "markdown",
   "id": "f44a151d",
   "metadata": {},
   "source": [
    "# 28. write file from existing file skips alternative line"
   ]
  },
  {
   "cell_type": "code",
   "execution_count": 30,
   "id": "dcf53043",
   "metadata": {},
   "outputs": [],
   "source": [
    "f = open(\"file.txt\",\"r\")\n",
    "f1 = open(\"dest.txt\",\"w\")\n",
    "l = f.readlines()\n",
    "for i in range(len(l)):\n",
    "    if i%2==0:\n",
    "        f1.write(l[i])\n",
    "f1.close()\n",
    "f.close()"
   ]
  },
  {
   "cell_type": "markdown",
   "id": "371592ed",
   "metadata": {},
   "source": [
    "# 29. read entire file with readline "
   ]
  },
  {
   "cell_type": "code",
   "execution_count": 51,
   "id": "489a07fd",
   "metadata": {},
   "outputs": [
    {
     "name": "stdout",
     "output_type": "stream",
     "text": [
      "What is Python language?                                                \n",
      "Python is a widely used high-level, general-purpose, interpreted, dynamic programming language.\n",
      "Its design philosophy emphasizes code readability, and its syntax allows programmers to express concepts in fewer lines of code than possible in \n",
      "languages such as C++ or Java. \n",
      "Python supports multiple programming paradigms, including object-oriented, imperative and functional programming or procedural styles.\n",
      "It features a dynamic type system and automatic memory management and has a large and comprehensive standard library.The best way we learn anything is by practice and exercise questions.\n",
      "We  have started this section for those (beginner to intermediate) who are familiar with Python\n"
     ]
    }
   ],
   "source": [
    "f = open(\"file.txt\",\"r\")\n",
    "while True:\n",
    "    l = f.readline()\n",
    "    if not l:\n",
    "        break\n",
    "    print(l[:-1]) # without space "
   ]
  },
  {
   "cell_type": "markdown",
   "id": "69437221",
   "metadata": {},
   "source": [
    "# 30. replace word in a another file"
   ]
  },
  {
   "cell_type": "code",
   "execution_count": 54,
   "id": "3df84a31",
   "metadata": {},
   "outputs": [
    {
     "name": "stdout",
     "output_type": "stream",
     "text": [
      "What is Java language?                                                \n",
      "Java is a widely used high-level, general-purpose, interpreted, dynamic programming language.\n",
      "Its design philosophy emphasizes code readability, and its syntax allows programmers to express concepts in fewer lines of code than possible in \n",
      "languages such as C++ or Java. \n",
      "Java supports multiple programming paradigms, including object-oriented, imperative and functional programming or procedural styles.\n",
      "It features a dynamic type system and automatic memory management and has a large and comprehensive standard library.The best way we learn anything is by practice and exercise questions.\n",
      "We  have started this section for those (beginner to intermediate) who are familiar with Java.\n"
     ]
    }
   ],
   "source": [
    "f = open(\"file.txt\",\"r\")\n",
    "d = open('dest1.txt','w')\n",
    "for i in f.readlines():\n",
    "    d.write(i.replace(\"Python\",\"Java\"))\n",
    "\n",
    "with open(\"dest1.txt\",\"r\") as dest:\n",
    "    f1 = dest.read()\n",
    "    print(f1)"
   ]
  },
  {
   "cell_type": "markdown",
   "id": "633fe511",
   "metadata": {},
   "source": [
    "# 30. replace word with in a file (same file)"
   ]
  },
  {
   "cell_type": "code",
   "execution_count": 66,
   "id": "1dbfe887",
   "metadata": {},
   "outputs": [
    {
     "name": "stdout",
     "output_type": "stream",
     "text": [
      "What is pyth language?                                                \n",
      "pyth is a widely used high-level, general-purpose, interpreted, dynamic programming language.\n",
      "Its design philosophy emphasizes code readability, and its syntax allows programmers to express concepts in fewer lines of code than possible in \n",
      "languages such as C++ or pyth. \n",
      "pyth supports multiple programming paradigms, including object-oriented, imperative and functional programming or procedural styles.\n",
      "It features a dynamic type system and automatic memory management and has a large and comprehensive standard library.The best way we learn anything is by practice and exercise questions.\n",
      "We  have started this section for those (beginner to intermediate) who are familiar with pyth.\n"
     ]
    }
   ],
   "source": [
    "with open(\"dest1.txt\", \"r\") as file:\n",
    "    content = file.read()\n",
    "modified_content = content.replace(\"Java\", \"pyth\")\n",
    "with open(\"dest1.txt\", \"w\") as file:\n",
    "    file.write(modified_content)\n",
    "file.close()\n",
    "with open(\"dest1.txt\",\"r\") as dest:\n",
    "    f1 = dest.read()\n",
    "    print(f1)"
   ]
  },
  {
   "cell_type": "markdown",
   "id": "949abfb0",
   "metadata": {},
   "source": [
    "# 31. replace word with occurance"
   ]
  },
  {
   "cell_type": "code",
   "execution_count": 69,
   "id": "b3c8cc56",
   "metadata": {},
   "outputs": [
    {
     "name": "stdout",
     "output_type": "stream",
     "text": [
      "What is Nikky language?                                                \n",
      "Nikky is a widely used high-level, general-purpose, interpreted, dynamic programming language.\n",
      "Its design philosophy emphasizes code readability, and its syntax allows programmers to express concepts in fewer lines of code than possible in \n",
      "languages such as C++ or Nikky. \n",
      "pyth supports multiple programming paradigms, including object-oriented, imperative and functional programming or procedural styles.\n",
      "It features a dynamic type system and automatic memory management and has a large and comprehensive standard library.The best way we learn anything is by practice and exercise questions.\n",
      "We  have started this section for those (beginner to intermediate) who are familiar with pyth.\n"
     ]
    }
   ],
   "source": [
    "with open(\"dest1.txt\", \"r\") as file:\n",
    "    content = file.read()\n",
    "modified_content = content.replace(\"pyth\",\"Nikky\",2)\n",
    "with open(\"dest1.txt\", \"w\") as file:\n",
    "    file.write(modified_content)\n",
    "file.close()\n",
    "with open(\"dest1.txt\",\"r\") as dest:\n",
    "    f1 = dest.read()\n",
    "    print(f1)"
   ]
  },
  {
   "cell_type": "markdown",
   "id": "fb84f9d2",
   "metadata": {},
   "source": [
    "# 32. Two files merge in one file"
   ]
  },
  {
   "cell_type": "code",
   "execution_count": 72,
   "id": "870aeeef",
   "metadata": {},
   "outputs": [
    {
     "name": "stdout",
     "output_type": "stream",
     "text": [
      "hi hello how are you\n",
      "my name is another name\n",
      "this is naresh\n",
      "hello\n",
      "my \n",
      "friend1. python\n",
      "2. DevOps\n",
      "3. Bigdata\n",
      "4. WebServer\n",
      "5. AWS\n",
      "6. Linux\n",
      "7. PySpark\n",
      "\n"
     ]
    }
   ],
   "source": [
    "file1_name = \"file1.txt\"\n",
    "file2_name = \"file2.txt\"\n",
    "output_file_name = \"combined_file.txt\"\n",
    "\n",
    "with open(file1_name, \"r\") as file1:\n",
    "    data_from_file1 = file1.read()\n",
    "with open(file2_name, \"r\") as file2:\n",
    "    data_from_file2 = file2.read()\n",
    "combined_data = data_from_file1 + data_from_file2\n",
    "\n",
    "with open(output_file_name, \"w\") as output_file:\n",
    "    output_file.write(combined_data)\n",
    "\n",
    "with open(\"combined_file.txt\",\"r\") as dest:\n",
    "    f1 = dest.read()\n",
    "    print(f1)"
   ]
  },
  {
   "cell_type": "markdown",
   "id": "c48c0f4a",
   "metadata": {},
   "source": [
    "# 33. Two files merge in one file line by line"
   ]
  },
  {
   "cell_type": "code",
   "execution_count": 75,
   "id": "47aa85ba",
   "metadata": {},
   "outputs": [
    {
     "name": "stdout",
     "output_type": "stream",
     "text": [
      "hi hello how are you\n",
      "1. python\n",
      "my name is another name\n",
      "2. DevOps\n",
      "this is naresh\n",
      "3. Bigdata\n",
      "hello\n",
      "4. WebServer\n",
      "my\n",
      "5. AWS\n",
      "friend\n",
      "6. Linux\n",
      "\n"
     ]
    }
   ],
   "source": [
    "file1_name = \"file1.txt\"\n",
    "file2_name = \"file2.txt\"\n",
    "output_file_name = \"combined_lines.txt\"\n",
    "\n",
    "with open(file1_name, \"r\") as file1, open(file2_name, \"r\") as file2, open(output_file_name, \"w\") as output_file:\n",
    "    for line1, line2 in zip(file1, file2):\n",
    "        combined_line = line1.strip() + \"\\n\" + line2.strip() + \"\\n\"\n",
    "        output_file.write(combined_line)\n",
    "        \n",
    "with open(\"combined_lines.txt\",\"r\") as dest:\n",
    "    f1 = dest.read()\n",
    "    print(f1)"
   ]
  },
  {
   "cell_type": "markdown",
   "id": "d53085ef",
   "metadata": {},
   "source": [
    "# 31. delete file "
   ]
  },
  {
   "cell_type": "code",
   "execution_count": 67,
   "id": "8031b041",
   "metadata": {},
   "outputs": [],
   "source": [
    "import os \n",
    "\n",
    "os.remove(\"abc.txt\")\n",
    "os.unlink(\"abc.txt\")"
   ]
  },
  {
   "cell_type": "code",
   "execution_count": null,
   "id": "38d105ad",
   "metadata": {},
   "outputs": [],
   "source": []
  },
  {
   "cell_type": "code",
   "execution_count": null,
   "id": "8c25faf0",
   "metadata": {},
   "outputs": [],
   "source": []
  },
  {
   "cell_type": "code",
   "execution_count": null,
   "id": "92940004",
   "metadata": {},
   "outputs": [],
   "source": []
  },
  {
   "cell_type": "code",
   "execution_count": null,
   "id": "b7010d99",
   "metadata": {},
   "outputs": [],
   "source": []
  },
  {
   "cell_type": "code",
   "execution_count": null,
   "id": "cadca6a4",
   "metadata": {},
   "outputs": [],
   "source": []
  },
  {
   "cell_type": "code",
   "execution_count": null,
   "id": "6390e5c5",
   "metadata": {},
   "outputs": [],
   "source": []
  },
  {
   "cell_type": "code",
   "execution_count": null,
   "id": "7c1be3ad",
   "metadata": {},
   "outputs": [],
   "source": []
  },
  {
   "cell_type": "markdown",
   "id": "e3e62461",
   "metadata": {},
   "source": [
    "# 21. Create & extract tar files"
   ]
  },
  {
   "cell_type": "code",
   "execution_count": null,
   "id": "cfa02a11",
   "metadata": {},
   "outputs": [],
   "source": [
    "import tarfile\n",
    "\n",
    "tar_filename = \"example.tar\"\n",
    "with tarfile.open(tar_filename, \"w\") as tar:\n",
    "    tar.add(\"file1.txt\")  # Add a single file\n",
    "    tar.add(\"directory\")  # Add a directory and its contents\n",
    "print(f\"Tarfile '{tar_filename}' created successfully.\")"
   ]
  },
  {
   "cell_type": "code",
   "execution_count": null,
   "id": "ce1ffa02",
   "metadata": {},
   "outputs": [],
   "source": [
    "import tarfile\n",
    "\n",
    "tar_filename = \"example.tar\"\n",
    "with tarfile.open(tar_filename, \"r\") as tar:\n",
    "    tar.extractall(path=\"target_directory\")\n",
    "print(f\"Tarfile '{tar_filename}' extracted to 'target_directory' successfully.\")"
   ]
  },
  {
   "cell_type": "markdown",
   "id": "4ab10aee",
   "metadata": {},
   "source": [
    "# 22. create & extract zip files"
   ]
  },
  {
   "cell_type": "code",
   "execution_count": null,
   "id": "fd9f2088",
   "metadata": {},
   "outputs": [],
   "source": [
    "import zipfile\n",
    "\n",
    "zip_filename = \"example.zip\"\n",
    "with zipfile.ZipFile(zip_filename, \"w\") as zipf:\n",
    "    zipf.write(\"file1.txt\")  # Add a single file\n",
    "    zipf.write(\"directory/file2.txt\")  # Add another file in a directory\n",
    "print(f\"Zip file '{zip_filename}' created successfully.\")"
   ]
  },
  {
   "cell_type": "code",
   "execution_count": null,
   "id": "8e13af57",
   "metadata": {},
   "outputs": [],
   "source": [
    "import zipfile\n",
    "\n",
    "zip_filename = \"example.zip\"\n",
    "with zipfile.ZipFile(zip_filename, \"r\") as zip_ref:\n",
    "    zip_ref.extractall(\"target_directory\")\n",
    "print(f\"Zip folder '{zip_filename}' extracted to 'target_directory' successfully.\")"
   ]
  },
  {
   "cell_type": "code",
   "execution_count": null,
   "id": "f071975e",
   "metadata": {},
   "outputs": [],
   "source": [
    "# others"
   ]
  },
  {
   "cell_type": "code",
   "execution_count": null,
   "id": "190ff863",
   "metadata": {},
   "outputs": [],
   "source": [
    "# generate 26 text files named A.txt, B.txt, and so on up to Z.txt\n",
    "import string, os\n",
    "if not os.path.exists(\"letters\"):\n",
    "    os.makedirs(\"letters\")\n",
    "for letter in string.ascii_uppercase:\n",
    "    with open(letter + \".txt\", \"w\") as f:\n",
    "        f.writelines(letter)"
   ]
  },
  {
   "cell_type": "code",
   "execution_count": null,
   "id": "c256f91d",
   "metadata": {},
   "outputs": [],
   "source": []
  },
  {
   "cell_type": "code",
   "execution_count": null,
   "id": "f2c293b9",
   "metadata": {},
   "outputs": [],
   "source": []
  },
  {
   "cell_type": "code",
   "execution_count": null,
   "id": "ba2dfb36",
   "metadata": {},
   "outputs": [],
   "source": []
  }
 ],
 "metadata": {
  "kernelspec": {
   "display_name": "Python 3 (ipykernel)",
   "language": "python",
   "name": "python3"
  },
  "language_info": {
   "codemirror_mode": {
    "name": "ipython",
    "version": 3
   },
   "file_extension": ".py",
   "mimetype": "text/x-python",
   "name": "python",
   "nbconvert_exporter": "python",
   "pygments_lexer": "ipython3",
   "version": "3.11.5"
  }
 },
 "nbformat": 4,
 "nbformat_minor": 5
}
