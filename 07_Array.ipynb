{
 "cells": [
  {
   "cell_type": "markdown",
   "id": "0d7a2bbd",
   "metadata": {},
   "source": [
    "# 1. Array: "
   ]
  },
  {
   "cell_type": "code",
   "execution_count": 78,
   "id": "f96c38e5",
   "metadata": {},
   "outputs": [
    {
     "name": "stdout",
     "output_type": "stream",
     "text": [
      "array('i', [1, 2, 3])\n",
      "array('i', [1, 2, 3, 6])\n",
      "4\n",
      "6\n",
      "1\n",
      "array('i', [1, 2, 3, 6, 1, 2, 3])\n",
      "array('i', [1, 2, 11, 3, 6, 1, 2, 3])\n",
      "array('i', [1, 11, 3, 6, 1, 2, 3])\n",
      "array('i', [1, 3, 6, 1, 2, 3])\n",
      "2\n",
      "2\n",
      "4\n",
      "array('i', [3, 2, 1, 6, 3, 1])\n",
      "(2420664000784, 5)\n",
      "Array address: 2420664000784\n",
      "Array size in bytes: 5\n",
      "from bytes: array('I', [1, 2, 3])\n",
      "from list: array('f', [1.0, 2.5, 3.700000047683716, 4.199999809265137, 5.300000190734863])\n",
      "b'\\x01\\x00\\x00\\x00\\x02\\x00\\x00\\x00\\x03\\x00\\x00\\x00\\x04\\x00\\x00\\x00\\x05\\x00\\x00\\x00'\n",
      "[1, 2, 3, 4, 5]\n",
      "I\n",
      "Original array: array('h', [1, 2, 3, 4, 5])\n",
      "Array after byte swapping: array('h', [256, 512, 768, 1024, 1280])\n",
      "Array after reading from file: array('i', [42, 101, -3])\n"
     ]
    }
   ],
   "source": [
    "import array\n",
    "\n",
    "arr = array.array('i', [1, 2, 3])  \n",
    "print(arr)\n",
    "\n",
    "# append\n",
    "arr.append(6)\n",
    "print(arr)\n",
    "\n",
    "# len, min, max\n",
    "print(len(arr))\n",
    "print(max(arr))\n",
    "print(min(arr))\n",
    "\n",
    "# extend\n",
    "arr.extend([1,2,3])\n",
    "print(arr)\n",
    "\n",
    "# insert: insert element into specific position (index)\n",
    "arr.insert(2,11)\n",
    "print(arr)\n",
    "\n",
    "# pop -> remove index item\n",
    "arr.pop(1)\n",
    "print(arr) \n",
    "\n",
    "# remove -> specific item\n",
    "arr.remove(11)\n",
    "print(arr)\n",
    "\n",
    "# index\n",
    "print(arr.index(6))\n",
    "\n",
    "# count\n",
    "print(arr.count(3))\n",
    "\n",
    "# itemsize: size in bytes of one array item\n",
    "print(arr.itemsize)\n",
    "\n",
    "# reverse\n",
    "arr.reverse()\n",
    "print(arr)\n",
    "\n",
    "# buffer_info(): information about the array's memory buffer\n",
    "arr = array.array('I', [1, 2, 3, 4, 5])\n",
    "buffer_info = arr.buffer_info()\n",
    "print(buffer_info)\n",
    "print(\"Array address:\", buffer_info[0])\n",
    "print(\"Array size in bytes:\", buffer_info[1])\n",
    "\n",
    "# frombytes: Initialize the array from a bytes object\n",
    "arr1 = array.array('I') # # Create an empty array of unsigned integers ('I' type code)\n",
    "data_bytes = b'\\x01\\x00\\x00\\x00\\x02\\x00\\x00\\x00\\x03\\x00\\x00\\x00'\n",
    "arr1.frombytes(data_bytes)\n",
    "print(\"from bytes:\",arr1)\n",
    "\n",
    "# fromlist: Initialize the array from a list\n",
    "arr2 = array.array('f')\n",
    "data_list = [1.0, 2.5, 3.7, 4.2, 5.3]\n",
    "arr2.fromlist(data_list)\n",
    "print(\"from list:\",arr2)\n",
    "\n",
    "# tobytes: Convert the array to a bytes object\n",
    "bytes_obj = arr.tobytes()\n",
    "print(bytes_obj)\n",
    "\n",
    "# tolist: Convert the array to a list\n",
    "arr_list = arr.tolist()\n",
    "print(arr_list)\n",
    "\n",
    "# typecode: Return the type code of the array\n",
    "type_code = arr.typecode\n",
    "print(type_code)\n",
    "\n",
    "# byteswap: swap the byte order\n",
    "arr = array.array('h', [1, 2, 3, 4, 5])\n",
    "print(\"Original array:\", arr)\n",
    "arr.byteswap()\n",
    "print(\"Array after byte swapping:\", arr)\n",
    "\n",
    "# fromfile \n",
    "arr = array.array('i')\n",
    "with open('demo.bin', 'rb') as file:\n",
    "    arr.fromfile(file, 3)  # Read 3 integers from the file\n",
    "print(\"Array after reading from file:\", arr)\n",
    "\n",
    "#tofile\n",
    "arr = array.array('h', [1, 2, 3, 4, 5])\n",
    "with open('output.bin', 'wb') as file:\n",
    "    arr.tofile(file)"
   ]
  },
  {
   "cell_type": "code",
   "execution_count": 3,
   "id": "b6a328d4",
   "metadata": {},
   "outputs": [
    {
     "name": "stdout",
     "output_type": "stream",
     "text": [
      "['__add__', '__class__', '__contains__', '__copy__', '__deepcopy__', '__delattr__', '__delitem__', '__dir__', '__doc__', '__eq__', '__format__', '__ge__', '__getattribute__', '__getitem__', '__getstate__', '__gt__', '__hash__', '__iadd__', '__imul__', '__init__', '__init_subclass__', '__iter__', '__le__', '__len__', '__lt__', '__module__', '__mul__', '__ne__', '__new__', '__reduce__', '__reduce_ex__', '__repr__', '__rmul__', '__setattr__', '__setitem__', '__sizeof__', '__str__', '__subclasshook__', 'append', 'buffer_info', 'byteswap', 'count', 'extend', 'frombytes', 'fromfile', 'fromlist', 'fromunicode', 'index', 'insert', 'itemsize', 'pop', 'remove', 'reverse', 'tobytes', 'tofile', 'tolist', 'tounicode', 'typecode']\n"
     ]
    }
   ],
   "source": [
    "print(dir(arr))"
   ]
  },
  {
   "cell_type": "markdown",
   "id": "872d49ee",
   "metadata": {},
   "source": [
    "# 2. Array slicing "
   ]
  },
  {
   "cell_type": "code",
   "execution_count": 41,
   "id": "990f0426",
   "metadata": {},
   "outputs": [
    {
     "name": "stdout",
     "output_type": "stream",
     "text": [
      "0\n",
      "1\n",
      "2\n",
      "array('i', [2, 3, 4, 5, 6])\n",
      "array('i', [1, 3, 5, 7, 9])\n",
      "array('i', [0, 1, 2, 3, 4])\n"
     ]
    }
   ],
   "source": [
    "import array\n",
    "\n",
    "arr = array.array('i', [0, 1, 2, 3, 4, 5, 6, 7, 8, 9])\n",
    "print(arr[0])\n",
    "print(arr[1])\n",
    "print(arr[2])\n",
    "\n",
    "\n",
    "sliced_arr = arr[2:7]\n",
    "print(sliced_arr)  \n",
    "\n",
    "sliced_arr = arr[1::2]\n",
    "print(sliced_arr)  \n",
    "\n",
    "sliced_arr = arr[:5]\n",
    "print(sliced_arr)  "
   ]
  },
  {
   "cell_type": "markdown",
   "id": "dd0be104",
   "metadata": {},
   "source": [
    "# 3. find the size of the memory buffer in bytes"
   ]
  },
  {
   "cell_type": "code",
   "execution_count": 42,
   "id": "53ab7ba5",
   "metadata": {},
   "outputs": [
    {
     "name": "stdout",
     "output_type": "stream",
     "text": [
      "Original array: array('i', [1, 3, 5, 7, 9])\n",
      "Current memory address and the length in elements of the buffer: (2420663996208, 5)\n",
      "The size of the memory buffer in bytes: 20\n"
     ]
    }
   ],
   "source": [
    "from array import *\n",
    "array_num = array('i', [1, 3, 5, 7, 9])\n",
    "print(\"Original array: \"+str(array_num))\n",
    "print(\"Current memory address and the length in elements of the buffer: \"+str(array_num.buffer_info()))\n",
    "print(\"The size of the memory buffer in bytes: \"+str(array_num.buffer_info()[1] * array_num.itemsize))\n",
    "# memory buffer size (bytes) = Array size (bytes) * one array item size (bytes)"
   ]
  },
  {
   "cell_type": "markdown",
   "id": "b9741062",
   "metadata": {},
   "source": [
    "# 4. convert bytes to string"
   ]
  },
  {
   "cell_type": "code",
   "execution_count": 63,
   "id": "3440e686",
   "metadata": {},
   "outputs": [
    {
     "name": "stdout",
     "output_type": "stream",
     "text": [
      "Bytes to String: \n",
      "b'naresh'\n"
     ]
    }
   ],
   "source": [
    "from array import *\n",
    "print(\"Bytes to String: \")\n",
    "x = array('b', [110, 97, 114, 101, 115, 104])\n",
    "s = x.tobytes()\n",
    "print(s)"
   ]
  },
  {
   "cell_type": "code",
   "execution_count": 67,
   "id": "0564e3fa",
   "metadata": {},
   "outputs": [
    {
     "name": "stdout",
     "output_type": "stream",
     "text": [
      "a = 97 b = 98 c = 99 d = 100 e = 101 f = 102 g = 103 h = 104 i = 105 j = 106 k = 107 l = 108 m = 109 n = 110 o = 111 p = 112 q = 113 r = 114 s = 115 t = 116 u = 117 v = 118 w = 119 x = 120 y = 121 z = 122 \n",
      "a --> 97 b --> 98 c --> 99 d --> 100 e --> 101 f --> 102 g --> 103 h --> 104 i --> 105 j --> 106 k --> 107 l --> 108 m --> 109 n --> 110 o --> 111 p --> 112 q --> 113 r --> 114 s --> 115 t --> 116 u --> 117 v --> 118 w --> 119 x --> 120 y --> 121 z --> 122 "
     ]
    }
   ],
   "source": [
    "import string \n",
    "\n",
    "for i in string.ascii_lowercase:\n",
    "    print(i,\"=\",ord(i),end=\" \")\n",
    "print()\n",
    "import array\n",
    "char_values = array.array('b', [97, 98, 99, 100, 101, 102, 103, 104, 105, 106, 107, 108, 109, 110, 111, 112, 113, 114, 115, 116, 117, 118, 119, 120, 121, 122])\n",
    "for i in char_values:\n",
    "    print(chr(i),\"-->\",i,end=\" \")"
   ]
  },
  {
   "cell_type": "markdown",
   "id": "35238f81",
   "metadata": {},
   "source": [
    "# 5. Array to append List"
   ]
  },
  {
   "cell_type": "code",
   "execution_count": 69,
   "id": "5024d8bd",
   "metadata": {},
   "outputs": [
    {
     "name": "stdout",
     "output_type": "stream",
     "text": [
      "Items in the array:  array('i', [7, 4, 3, 1, 2, 6, -8])\n"
     ]
    }
   ],
   "source": [
    "from array import *\n",
    "list1 = [1, 2, 6, -8]\n",
    "array_num = array('i', [7,4,3])\n",
    "array_num.fromlist(list1)\n",
    "print(\"Items in the array: \",array_num)"
   ]
  },
  {
   "cell_type": "markdown",
   "id": "ac246dba",
   "metadata": {},
   "source": [
    "# 6. check the array elements contains any duplicate elements"
   ]
  },
  {
   "cell_type": "code",
   "execution_count": 71,
   "id": "6fef8759",
   "metadata": {},
   "outputs": [
    {
     "name": "stdout",
     "output_type": "stream",
     "text": [
      "False\n",
      "True\n",
      "True\n"
     ]
    }
   ],
   "source": [
    "def test_duplicate(array_nums):\n",
    "    nums_set = set(array_nums)    \n",
    "    return len(array_nums) != len(nums_set) \n",
    "\n",
    "print(test_duplicate([1,2,3,4,5]))\n",
    "print(test_duplicate([1,2,3,4, 4]))\n",
    "print(test_duplicate([1,1,2,2,3,3,4,4,5]))"
   ]
  },
  {
   "cell_type": "markdown",
   "id": "006a733e",
   "metadata": {},
   "source": [
    "# 7. find the first duplicate element in a given array of integers."
   ]
  },
  {
   "cell_type": "code",
   "execution_count": 73,
   "id": "05a5c003",
   "metadata": {},
   "outputs": [
    {
     "name": "stdout",
     "output_type": "stream",
     "text": [
      "4\n",
      "No Duplicate Elements\n",
      "1\n"
     ]
    }
   ],
   "source": [
    "def find_first_duplicate(nums):\n",
    "    num_set = set()\n",
    "    for i in range(len(nums)):\n",
    "        if nums[i] in num_set:\n",
    "            return nums[i]\n",
    "        else:\n",
    "            num_set.add(nums[i])\n",
    "    return \"No Duplicate Elements\"\n",
    "\n",
    "print(find_first_duplicate([1, 2, 3, 4, 4, 5]))\n",
    "print(find_first_duplicate([1, 2, 3, 4]))\n",
    "print(find_first_duplicate([1, 1, 2, 3, 3, 2, 2]))"
   ]
  },
  {
   "cell_type": "markdown",
   "id": "ca409d86",
   "metadata": {},
   "source": [
    "# 8. find all duplicate elements"
   ]
  },
  {
   "cell_type": "code",
   "execution_count": 75,
   "id": "5c454e38",
   "metadata": {},
   "outputs": [
    {
     "name": "stdout",
     "output_type": "stream",
     "text": [
      "[4]\n",
      "No Duplicate Elements\n",
      "[1, 2, 3]\n"
     ]
    }
   ],
   "source": [
    "def find_all_duplicates(nums):\n",
    "    d = {}  \n",
    "    duplicates = []\n",
    "    \n",
    "    for n in nums:\n",
    "        if n in d:\n",
    "            d[n] += 1\n",
    "        else:\n",
    "            d[n] = 1\n",
    "\n",
    "    for n, count in d.items():\n",
    "        if count > 1:\n",
    "            duplicates.append(n)\n",
    "\n",
    "    if duplicates:\n",
    "        return duplicates\n",
    "    else:\n",
    "        return \"No Duplicate Elements\"\n",
    "\n",
    "print(find_all_duplicates([1, 2, 3, 4, 4, 5]))\n",
    "print(find_all_duplicates([1, 2, 3, 4]))\n",
    "print(find_all_duplicates([1, 1, 2, 3, 3, 2, 2]))"
   ]
  },
  {
   "cell_type": "code",
   "execution_count": 76,
   "id": "d7322cfe",
   "metadata": {},
   "outputs": [
    {
     "name": "stdout",
     "output_type": "stream",
     "text": [
      "[4]\n",
      "No Duplicate Elements\n",
      "[1, 2, 3]\n"
     ]
    }
   ],
   "source": [
    "def find_all_duplicates(nums):\n",
    "    d = {}  \n",
    "    duplicates = []\n",
    "    \n",
    "    for n in nums:\n",
    "        d[n] = d.get(n,0)+1\n",
    "\n",
    "    for n, count in d.items():\n",
    "        if count > 1:\n",
    "            duplicates.append(n)\n",
    "\n",
    "    if duplicates:\n",
    "        return duplicates\n",
    "    else:\n",
    "        return \"No Duplicate Elements\"\n",
    "\n",
    "print(find_all_duplicates([1, 2, 3, 4, 4, 5]))\n",
    "print(find_all_duplicates([1, 2, 3, 4]))\n",
    "print(find_all_duplicates([1, 1, 2, 3, 3, 2, 2]))"
   ]
  },
  {
   "cell_type": "markdown",
   "id": "8213286e",
   "metadata": {},
   "source": [
    "# 9. find the missing numbers"
   ]
  },
  {
   "cell_type": "code",
   "execution_count": 81,
   "id": "99ae91ff",
   "metadata": {},
   "outputs": [
    {
     "name": "stdout",
     "output_type": "stream",
     "text": [
      "Missing number in the said array (10-20):  15\n",
      "Missing number in the said array (10-20):  20\n"
     ]
    }
   ],
   "source": [
    "import array as arr\n",
    "def test(nums):\n",
    "    return sum(range(10, 21)) - sum(list(nums))\n",
    "\n",
    "array_num = arr.array('i', [10, 11, 12, 13, 14, 16, 17, 18, 19, 20])\n",
    "print(\"Missing number in the said array (10-20): \",test(array_num))\n",
    "array_num = arr.array('i', [10, 11, 12, 13, 14, 15, 16, 17, 18, 19])\n",
    "print(\"Missing number in the said array (10-20): \",test(array_num))"
   ]
  },
  {
   "cell_type": "code",
   "execution_count": null,
   "id": "0b272cda",
   "metadata": {},
   "outputs": [],
   "source": []
  },
  {
   "cell_type": "code",
   "execution_count": null,
   "id": "82b6cc97",
   "metadata": {},
   "outputs": [],
   "source": []
  },
  {
   "cell_type": "code",
   "execution_count": null,
   "id": "27b948bb",
   "metadata": {},
   "outputs": [],
   "source": []
  }
 ],
 "metadata": {
  "kernelspec": {
   "display_name": "Python 3 (ipykernel)",
   "language": "python",
   "name": "python3"
  },
  "language_info": {
   "codemirror_mode": {
    "name": "ipython",
    "version": 3
   },
   "file_extension": ".py",
   "mimetype": "text/x-python",
   "name": "python",
   "nbconvert_exporter": "python",
   "pygments_lexer": "ipython3",
   "version": "3.11.5"
  }
 },
 "nbformat": 4,
 "nbformat_minor": 5
}
