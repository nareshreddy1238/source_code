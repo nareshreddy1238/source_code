{
 "cells": [
  {
   "cell_type": "markdown",
   "id": "713dbe19",
   "metadata": {},
   "source": [
    "# 1. I want print string this format\n",
    "Twinkle, twinkle, little star,\n",
    "    How I wonder what you are! \n",
    "        Up above the world so high,   \t\t\n",
    "\t\tLike a diamond in the sky. \n",
    "Twinkle, twinkle, little star, \n",
    "\tHow I wonder what you are"
   ]
  },
  {
   "cell_type": "code",
   "execution_count": 7,
   "id": "3ef4ae4c",
   "metadata": {},
   "outputs": [
    {
     "name": "stdout",
     "output_type": "stream",
     "text": [
      "Twinkle, twinkle, little star, \n",
      "\tHow I wonder what you are! \n",
      "\t\tUp above the world so high, \n",
      "\t\tLike a diamond in the sky.\n",
      "Twinkle, twinkle, little star, \n",
      "\tHow I wonder what you are\n"
     ]
    }
   ],
   "source": [
    "print(\"Twinkle, twinkle, little star,\",\"\\n\\tHow I wonder what you are!\",\"\\n\\t\\tUp above the world so high,\",\"\\n\\t\\tLike a diamond in the sky.\" \n",
    "\"\\nTwinkle, twinkle, little star,\", \"\\n\\tHow I wonder what you are\")"
   ]
  },
  {
   "cell_type": "markdown",
   "id": "ed7eb880",
   "metadata": {},
   "source": [
    "# 2. find the python version & copyright"
   ]
  },
  {
   "cell_type": "code",
   "execution_count": 99,
   "id": "8a14a66a",
   "metadata": {},
   "outputs": [
    {
     "name": "stdout",
     "output_type": "stream",
     "text": [
      "3.11.5 | packaged by Anaconda, Inc. | (main, Sep 11 2023, 13:26:23) [MSC v.1916 64 bit (AMD64)]\n",
      "sys.version_info(major=3, minor=11, micro=5, releaselevel='final', serial=0)\n",
      "Copyright (c) 2001-2023 Python Software Foundation.\n",
      "All Rights Reserved.\n",
      "\n",
      "Copyright (c) 2000 BeOpen.com.\n",
      "All Rights Reserved.\n",
      "\n",
      "Copyright (c) 1995-2001 Corporation for National Research Initiatives.\n",
      "All Rights Reserved.\n",
      "\n",
      "Copyright (c) 1991-1995 Stichting Mathematisch Centrum, Amsterdam.\n",
      "All Rights Reserved.\n",
      "['__breakpointhook__', '__displayhook__', '__doc__', '__excepthook__', '__interactivehook__', '__loader__', '__name__', '__package__', '__spec__', '__stderr__', '__stdin__', '__stdout__', '__unraisablehook__', '_base_executable', '_clear_type_cache', '_current_exceptions', '_current_frames', '_debugmallocstats', '_enablelegacywindowsfsencoding', '_framework', '_getframe', '_getquickenedcount', '_git', '_home', '_stdlib_dir', '_vpath', '_xoptions', 'addaudithook', 'api_version', 'argv', 'audit', 'base_exec_prefix', 'base_prefix', 'breakpointhook', 'builtin_module_names', 'byteorder', 'call_tracing', 'copyright', 'displayhook', 'dllhandle', 'dont_write_bytecode', 'exc_info', 'excepthook', 'exception', 'exec_prefix', 'executable', 'exit', 'flags', 'float_info', 'float_repr_style', 'get_asyncgen_hooks', 'get_coroutine_origin_tracking_depth', 'get_int_max_str_digits', 'getallocatedblocks', 'getdefaultencoding', 'getfilesystemencodeerrors', 'getfilesystemencoding', 'getprofile', 'getrecursionlimit', 'getrefcount', 'getsizeof', 'getswitchinterval', 'gettrace', 'getwindowsversion', 'hash_info', 'hexversion', 'implementation', 'int_info', 'intern', 'is_finalizing', 'last_traceback', 'last_type', 'last_value', 'maxsize', 'maxunicode', 'meta_path', 'modules', 'orig_argv', 'path', 'path_hooks', 'path_importer_cache', 'platform', 'platlibdir', 'prefix', 'ps1', 'ps2', 'ps3', 'pycache_prefix', 'set_asyncgen_hooks', 'set_coroutine_origin_tracking_depth', 'set_int_max_str_digits', 'setprofile', 'setrecursionlimit', 'setswitchinterval', 'settrace', 'stderr', 'stdin', 'stdlib_module_names', 'stdout', 'thread_info', 'unraisablehook', 'version', 'version_info', 'warnoptions', 'winver']\n"
     ]
    }
   ],
   "source": [
    "import sys\n",
    "\n",
    "print(sys.version)\n",
    "print(sys.version_info)\n",
    "print(sys.copyright)"
   ]
  },
  {
   "cell_type": "markdown",
   "id": "48a47200",
   "metadata": {},
   "source": [
    "# 3. display the current date, time and calender "
   ]
  },
  {
   "cell_type": "code",
   "execution_count": 126,
   "id": "8d3dcf06",
   "metadata": {},
   "outputs": [
    {
     "name": "stdout",
     "output_type": "stream",
     "text": [
      "current time: Thu Oct 26 14:11:00 2023\n",
      "2023-10-26 14:11:00.615378\n",
      "system time: Thu Oct 26 14:11:00 2023\n"
     ]
    }
   ],
   "source": [
    "import time,datetime\n",
    "\n",
    "\n",
    "print(\"current time:\",time.asctime())\n",
    "print(datetime.datetime.now())\n",
    "print(\"system time:\",time.ctime())"
   ]
  },
  {
   "cell_type": "code",
   "execution_count": 91,
   "id": "6db4c270",
   "metadata": {},
   "outputs": [
    {
     "name": "stdout",
     "output_type": "stream",
     "text": [
      "     April 2018\n",
      "Mo Tu We Th Fr Sa Su\n",
      "                   1\n",
      " 2  3  4  5  6  7  8\n",
      " 9 10 11 12 13 14 15\n",
      "16 17 18 19 20 21 22\n",
      "23 24 25 26 27 28 29\n",
      "30\n",
      "\n"
     ]
    }
   ],
   "source": [
    "import calendar\n",
    "\n",
    "print(calendar.month(2018, 4))"
   ]
  },
  {
   "cell_type": "markdown",
   "id": "b6d968d0",
   "metadata": {},
   "source": [
    "# 4. user input give , separated values\n",
    "Sample data : 3, 5, 7, 23\n",
    "Output :\n",
    "List : ['3', ' 5', ' 7', ' 23']\n",
    "Tuple : ('3', ' 5', ' 7', ' 23')"
   ]
  },
  {
   "cell_type": "code",
   "execution_count": 28,
   "id": "f9c74aae",
   "metadata": {},
   "outputs": [
    {
     "name": "stdout",
     "output_type": "stream",
     "text": [
      "Enter , separate Values:3,5,7,23\n",
      "['3', '5', '7', '23']\n",
      "('3', '5', '7', '23')\n"
     ]
    }
   ],
   "source": [
    "n = input(\"Enter , separate Values:\")\n",
    "print(list(n.split(\",\")))\n",
    "print(tuple(n.split(\",\")))"
   ]
  },
  {
   "cell_type": "markdown",
   "id": "2cbaa0f2",
   "metadata": {},
   "source": [
    "# 5. accepts a filename from the user and prints the extension of the file.\n",
    "Sample filename : abc.java\n",
    "Output : java"
   ]
  },
  {
   "cell_type": "code",
   "execution_count": 37,
   "id": "1a06812c",
   "metadata": {},
   "outputs": [
    {
     "name": "stdout",
     "output_type": "stream",
     "text": [
      "Enter Filename:demo.java\n",
      "java\n"
     ]
    }
   ],
   "source": [
    "n = input(\"Enter Filename:\")\n",
    "\n",
    "ls = []\n",
    "for i in n.split(\".\"):\n",
    "    ls.append(i)\n",
    "print(\"\".join(ls[-1]))"
   ]
  },
  {
   "cell_type": "markdown",
   "id": "c0b2f6e6",
   "metadata": {},
   "source": [
    "# 6. display the examination schedule. (extract the date from exam_st_date).\n",
    "exam_st_date = (11, 12, 2014)\n",
    "output: 11 / 12 / 2014"
   ]
  },
  {
   "cell_type": "code",
   "execution_count": 58,
   "id": "e0b0018a",
   "metadata": {},
   "outputs": [
    {
     "name": "stdout",
     "output_type": "stream",
     "text": [
      "date: 11/12/2014\n"
     ]
    }
   ],
   "source": [
    "exam_st_date = (11, 12, 2014)\n",
    "\n",
    "day, month, year = exam_st_date\n",
    "formatted_date = f\"date: {day}/{month}/{year}\"\n",
    "print(formatted_date)"
   ]
  },
  {
   "cell_type": "code",
   "execution_count": 64,
   "id": "3679de6a",
   "metadata": {},
   "outputs": [
    {
     "name": "stdout",
     "output_type": "stream",
     "text": [
      "11/12/2014\n"
     ]
    }
   ],
   "source": [
    "date = (11, 12, 2014)\n",
    "\n",
    "print(\"/\".join(list(str(i) for i in date)))"
   ]
  },
  {
   "cell_type": "markdown",
   "id": "c279ba59",
   "metadata": {},
   "source": [
    "# 7. integer (n) and computes the value of n+nn+nnn.\n",
    "Sample value of n is 5\n",
    "n    5\n",
    "nn   55\n",
    "nnn  555\n",
    "Expected Result : 615"
   ]
  },
  {
   "cell_type": "code",
   "execution_count": 86,
   "id": "4c076893",
   "metadata": {},
   "outputs": [
    {
     "name": "stdout",
     "output_type": "stream",
     "text": [
      "5\n",
      "55\n",
      "555\n",
      "Result= 615\n"
     ]
    }
   ],
   "source": [
    "n = 5\n",
    "\n",
    "result = list(map(lambda x: int(str(n) * x), [1, 2, 3]))\n",
    "for i in result:\n",
    "    print(i)\n",
    "print(\"Result=\",sum(result))"
   ]
  },
  {
   "cell_type": "code",
   "execution_count": 90,
   "id": "46ebada0",
   "metadata": {},
   "outputs": [
    {
     "name": "stdout",
     "output_type": "stream",
     "text": [
      "Input an integer : 5\n",
      "615\n"
     ]
    }
   ],
   "source": [
    "a = int(input(\"Input an integer : \"))\n",
    "n1 = int( \"%s\" % a )\n",
    "n2 = int( \"%s%s\" % (a,a) )\n",
    "n3 = int( \"%s%s%s\" % (a,a,a) )\n",
    "print (n1+n2+n3)"
   ]
  },
  {
   "cell_type": "markdown",
   "id": "b41801a4",
   "metadata": {},
   "source": [
    "# 8. calculate the number of days between two dates.\n",
    "Sample dates : (2014, 7, 2), (2014, 7, 11)"
   ]
  },
  {
   "cell_type": "code",
   "execution_count": 94,
   "id": "1994f1a8",
   "metadata": {},
   "outputs": [
    {
     "name": "stdout",
     "output_type": "stream",
     "text": [
      "9 days, 0:00:00\n",
      "9\n"
     ]
    }
   ],
   "source": [
    "from datetime import date\n",
    "\n",
    "f_date = date(2014, 7, 2)\n",
    "l_date = date(2014, 7, 11)\n",
    "\n",
    "delta = l_date - f_date\n",
    "print(delta)\n",
    "print(delta.days)"
   ]
  },
  {
   "cell_type": "markdown",
   "id": "ec19c864",
   "metadata": {},
   "source": [
    "# 9. add Is before string if not present, if Is present print as it is "
   ]
  },
  {
   "cell_type": "code",
   "execution_count": 97,
   "id": "2b81999a",
   "metadata": {},
   "outputs": [
    {
     "name": "stdout",
     "output_type": "stream",
     "text": [
      "ISArray\n",
      "ISdemo\n",
      "IsEmpty\n"
     ]
    }
   ],
   "source": [
    "def fun(s):\n",
    "    if len(s)>=2 and s[:2]==\"Is\":\n",
    "        return s\n",
    "    return \"IS\"+s\n",
    "\n",
    "print(fun(\"Array\"))\n",
    "print(fun(\"demo\"))\n",
    "print(fun(\"IsEmpty\"))"
   ]
  },
  {
   "cell_type": "markdown",
   "id": "0b774c4f",
   "metadata": {},
   "source": [
    "# 10. copy string n number times dynamically"
   ]
  },
  {
   "cell_type": "code",
   "execution_count": 101,
   "id": "fa87195c",
   "metadata": {},
   "outputs": [
    {
     "name": "stdout",
     "output_type": "stream",
     "text": [
      "abcabc\n",
      ".py.py.py\n"
     ]
    }
   ],
   "source": [
    "def fun(str1,n):\n",
    "    w =\"\"\n",
    "    for i in range(n):\n",
    "        w=w+str1\n",
    "    return w\n",
    "print(fun(\"abc\",2))\n",
    "print(fun(\".py\",3))"
   ]
  },
  {
   "cell_type": "markdown",
   "id": "de14aa7a",
   "metadata": {},
   "source": [
    "# 11. create a histogram from a given list of integers"
   ]
  },
  {
   "cell_type": "code",
   "execution_count": 110,
   "id": "0a120a36",
   "metadata": {},
   "outputs": [
    {
     "name": "stdout",
     "output_type": "stream",
     "text": [
      "**\n",
      "***\n",
      "******\n",
      "*****\n"
     ]
    }
   ],
   "source": [
    "l = [2, 3, 6, 5]\n",
    "\n",
    "for i in l:\n",
    "    w = \"\"\n",
    "    while i>0:\n",
    "        w=w+\"*\"\n",
    "        i=i-1\n",
    "    print(w)"
   ]
  },
  {
   "cell_type": "markdown",
   "id": "9f6e86bf",
   "metadata": {},
   "source": [
    "# 12. concatenates all elements in a list into a string"
   ]
  },
  {
   "cell_type": "code",
   "execution_count": 113,
   "id": "9f4b4ff0",
   "metadata": {},
   "outputs": [
    {
     "data": {
      "text/plain": [
       "12345"
      ]
     },
     "execution_count": 113,
     "metadata": {},
     "output_type": "execute_result"
    }
   ],
   "source": [
    "l = [1,2,3,4,5]\n",
    "\n",
    "int(\"\".join(str(i) for i in l))"
   ]
  },
  {
   "cell_type": "code",
   "execution_count": 1,
   "id": "0480b4fb",
   "metadata": {},
   "outputs": [
    {
     "name": "stdout",
     "output_type": "stream",
     "text": [
      "12345\n"
     ]
    }
   ],
   "source": [
    "l = [1,2,3,4,5]\n",
    "\n",
    "w = \"\"\n",
    "for i in l:\n",
    "    w=w+str(i)\n",
    "print(w)"
   ]
  },
  {
   "cell_type": "markdown",
   "id": "128c9eb4",
   "metadata": {},
   "source": [
    "# 13. print until 237 number in list"
   ]
  },
  {
   "cell_type": "code",
   "execution_count": 6,
   "id": "bf1ae09f",
   "metadata": {},
   "outputs": [
    {
     "name": "stdout",
     "output_type": "stream",
     "text": [
      "386 462 47 418 907 344 236 375 823 566 597 978 328 615 953 345 399 162 758 219 918 237 "
     ]
    }
   ],
   "source": [
    "numbers = [    \n",
    "    386, 462, 47, 418, 907, 344, 236, 375, 823, 566, 597, 978, 328, 615, 953, 345, \n",
    "    399, 162, 758, 219, 918, 237, 412, 566, 826, 248, 866, 950, 626, 949, 687, 217, \n",
    "    815, 67, 104, 58, 512, 24, 892, 894, 767, 553, 81, 379, 843, 831, 445, 742, 717, \n",
    "    958,743, 527\n",
    "    ]\n",
    "\n",
    "for i in numbers:\n",
    "    print(i,end=\" \")\n",
    "    if i==237:\n",
    "        break"
   ]
  },
  {
   "cell_type": "markdown",
   "id": "bbccde6c",
   "metadata": {},
   "source": [
    "# 14. greatest common divisor (GCD) \n",
    "\n",
    "336 = 2x7 x2x2x2x3 \n",
    "360 = 3x5 x2x2x2x3\n",
    "common GCD -> 2x2x2x3"
   ]
  },
  {
   "cell_type": "code",
   "execution_count": 7,
   "id": "a2f68593",
   "metadata": {},
   "outputs": [
    {
     "name": "stdout",
     "output_type": "stream",
     "text": [
      "The GCD of 360 and 336 is 24\n"
     ]
    }
   ],
   "source": [
    "import math\n",
    "\n",
    "a = 360\n",
    "b = 336\n",
    "gcd = math.gcd(a, b)\n",
    "print(\"The GCD of\", a, \"and\", b, \"is\", gcd)"
   ]
  },
  {
   "cell_type": "code",
   "execution_count": 8,
   "id": "364fd6b9",
   "metadata": {},
   "outputs": [
    {
     "name": "stdout",
     "output_type": "stream",
     "text": [
      "The GCD of 360 and 336 is 24\n"
     ]
    }
   ],
   "source": [
    "def gcd(a, b):\n",
    "    while b:\n",
    "        a, b = b, a % b\n",
    "    return a\n",
    "a = 360\n",
    "b = 336\n",
    "result = gcd(a, b)\n",
    "print(\"The GCD of\", a, \"and\", b, \"is\", result)"
   ]
  },
  {
   "cell_type": "markdown",
   "id": "3d21cbcc",
   "metadata": {},
   "source": [
    "# 15.least common multiple (LCM) \n",
    "\n",
    "ex1: 15,17\n",
    "    15 = 3*5\n",
    "    17 = 17\n",
    "    gcd: no common elements-> 1\n",
    "    lcm: 3 * 5 * 17 = 255\n",
    "ex2: 12,18 \n",
    "    12: 1, 2, 3, 4, 6, 12\n",
    "    18: 1, 2, 3, 6, 9, 18\n",
    "    Common factors of 12 and 18: 1, 2, 3, 6\n",
    "    GCD(12, 18) = 6\n",
    "    LCM(12, 18) = (12 * 18) / GCD(12, 18) = (216) / 6 = 36\n",
    "    (or)  LCM: 1*2*3*6 = 36"
   ]
  },
  {
   "cell_type": "code",
   "execution_count": 12,
   "id": "bb3165f9",
   "metadata": {},
   "outputs": [
    {
     "name": "stdout",
     "output_type": "stream",
     "text": [
      "The GCD of 360 and 336 is 5040\n"
     ]
    }
   ],
   "source": [
    "import math\n",
    "\n",
    "a = 360\n",
    "b = 336\n",
    "lcm = math.lcm(a, b)\n",
    "print(\"The GCD of\", a, \"and\", b, \"is\", lcm)"
   ]
  },
  {
   "cell_type": "code",
   "execution_count": 16,
   "id": "a4621540",
   "metadata": {},
   "outputs": [
    {
     "name": "stdout",
     "output_type": "stream",
     "text": [
      "The GCD of 12 and 16 is 2\n",
      "The GCD of 12 and 16 is 1\n",
      "The GCD of 12 and 16 is 1\n",
      "The LCM of 12 and 16 is 12\n",
      "The LCM of 12 and 16 is 255\n",
      "The LCM of 12 and 16 is 364\n"
     ]
    }
   ],
   "source": [
    "def gcd(a, b):\n",
    "    while b:\n",
    "        a, b = b, a % b\n",
    "    return a\n",
    "\n",
    "def lcm(a, b):\n",
    "    return (a * b) // gcd(a, b)\n",
    "\n",
    "print(\"The GCD of\", a, \"and\", b, \"is\", gcd(4,6))\n",
    "print(\"The GCD of\", a, \"and\", b, \"is\", gcd(15,17))\n",
    "print(\"The GCD of\", a, \"and\", b, \"is\", gcd(28,13))\n",
    "print(\"The LCM of\", a, \"and\", b, \"is\", lcm(4,6))\n",
    "print(\"The LCM of\", a, \"and\", b, \"is\", lcm(15,17))\n",
    "print(\"The LCM of\", a, \"and\", b, \"is\", lcm(28,13))"
   ]
  },
  {
   "cell_type": "markdown",
   "id": "7ba77c31",
   "metadata": {},
   "source": [
    "# 16. sum is between 15 and 20 it will return 20."
   ]
  },
  {
   "cell_type": "code",
   "execution_count": 19,
   "id": "a08f341a",
   "metadata": {},
   "outputs": [
    {
     "name": "stdout",
     "output_type": "stream",
     "text": [
      "20\n",
      "14\n",
      "12\n"
     ]
    }
   ],
   "source": [
    "def fun(x,y):\n",
    "    s = x+y\n",
    "    if s in range(15,20):\n",
    "        return 20\n",
    "    else:\n",
    "        return s\n",
    "print(fun(15,2))\n",
    "print(fun(12,2))\n",
    "print(fun(10,2))"
   ]
  },
  {
   "cell_type": "markdown",
   "id": "adbb8208",
   "metadata": {},
   "source": [
    "# 17. In list [1,3,6,5] these are range of values\n",
    "extend -> flat list\n",
    "append -> nested list"
   ]
  },
  {
   "cell_type": "code",
   "execution_count": 24,
   "id": "dec6d2f0",
   "metadata": {},
   "outputs": [
    {
     "name": "stdout",
     "output_type": "stream",
     "text": [
      "[1, 1, 2, 3, 1, 2, 3, 4, 5, 6, 1, 2, 3, 4, 5]\n"
     ]
    }
   ],
   "source": [
    "l = [1, 3, 6, 5]\n",
    "\n",
    "ls = []\n",
    "for i in l:\n",
    "    sublist = list(range(1, i + 1))\n",
    "    ls.extend(sublist)\n",
    "print(ls)"
   ]
  },
  {
   "cell_type": "code",
   "execution_count": 25,
   "id": "20c7b057",
   "metadata": {},
   "outputs": [
    {
     "name": "stdout",
     "output_type": "stream",
     "text": [
      "[[1, 2], [1, 2, 3, 4, 5], [1, 2, 3, 4, 5, 6, 7], [1, 2, 3]]\n"
     ]
    }
   ],
   "source": [
    "l = [2, 5, 7, 3]\n",
    "\n",
    "ls = []\n",
    "for i in l:\n",
    "    sublist = list(range(1, i + 1))\n",
    "    ls.append(sublist)\n",
    "print(ls)"
   ]
  },
  {
   "cell_type": "markdown",
   "id": "30de26f1",
   "metadata": {},
   "source": [
    "# 18. add two objects if both objects are integers"
   ]
  },
  {
   "cell_type": "code",
   "execution_count": 28,
   "id": "9c27594a",
   "metadata": {},
   "outputs": [
    {
     "name": "stdout",
     "output_type": "stream",
     "text": [
      "30\n",
      "Inputs must be integers!\n",
      "Inputs must be integers!\n",
      "Inputs must be integers!\n"
     ]
    }
   ],
   "source": [
    "def add_numbers(a, b):\n",
    "    if isinstance(a, int) and isinstance(b, int):\n",
    "        return a + b\n",
    "    return \"Inputs must be integers!\"\n",
    "print(add_numbers(10, 20))\n",
    "print(add_numbers(10, 20.23))\n",
    "print(add_numbers('5', 6))\n",
    "print(add_numbers('5', '6'))"
   ]
  },
  {
   "cell_type": "markdown",
   "id": "81b098b9",
   "metadata": {},
   "source": [
    "# 19. check file is exist or not , platform"
   ]
  },
  {
   "cell_type": "code",
   "execution_count": 32,
   "id": "8aa94882",
   "metadata": {},
   "outputs": [
    {
     "name": "stdout",
     "output_type": "stream",
     "text": [
      "True\n",
      "False\n",
      "operating system: nt\n",
      "OS system: Windows\n",
      "OS Version: 10\n"
     ]
    }
   ],
   "source": [
    "import os.path\n",
    "import platform\n",
    "import os\n",
    "\n",
    "print(os.path.isfile('demo.txt'))\n",
    "print(os.path.isfile('demo.py'))\n",
    "print(\"operating system:\",os.name)\n",
    "print(\"OS system:\",platform.system())\n",
    "print(\"OS Version:\",platform.release())"
   ]
  },
  {
   "cell_type": "code",
   "execution_count": 45,
   "id": "97b20094",
   "metadata": {},
   "outputs": [
    {
     "name": "stdout",
     "output_type": "stream",
     "text": [
      "[]\n"
     ]
    }
   ],
   "source": [
    "# list all files in a directory\n",
    "from os import listdir\n",
    "from os.path import isfile, join\n",
    "\n",
    "files_list = [f for f in listdir('/home/') if isfile(join('/home/', f))]\n",
    "print(files_list);"
   ]
  },
  {
   "cell_type": "code",
   "execution_count": 63,
   "id": "dabcdedc",
   "metadata": {},
   "outputs": [
    {
     "name": "stdout",
     "output_type": "stream",
     "text": [
      "Last modified: Thu Jun 22 10:35:09 2023\n",
      "Created: Thu Jun 22 10:34:21 2023\n",
      "abs path C:\\Users\\nares\\Python_Programs\\test.txt\n"
     ]
    }
   ],
   "source": [
    "# date and time of file creation and modification.\n",
    "import os.path, time\n",
    "print(\"Last modified: %s\" % time.ctime(os.path.getmtime(\"test.txt\")))\n",
    "print(\"Created: %s\" % time.ctime(os.path.getctime(\"test.txt\")))\n",
    "print(\"abs path\", os.path.abspath(\"test.txt\"))"
   ]
  },
  {
   "cell_type": "markdown",
   "id": "9eea1100",
   "metadata": {},
   "source": [
    "# 20.  locate Python site packages.\n",
    "\n",
    "site.getsitepackages(): Return a list containing all global site-packages directories"
   ]
  },
  {
   "cell_type": "code",
   "execution_count": 33,
   "id": "aee15fa4",
   "metadata": {},
   "outputs": [
    {
     "name": "stdout",
     "output_type": "stream",
     "text": [
      "['C:\\\\Users\\\\nares\\\\anaconda-new', 'C:\\\\Users\\\\nares\\\\anaconda-new\\\\Lib\\\\site-packages']\n"
     ]
    }
   ],
   "source": [
    "import site; \n",
    "\n",
    "print(site.getsitepackages())"
   ]
  },
  {
   "cell_type": "markdown",
   "id": "b98fb171",
   "metadata": {},
   "source": [
    "# 21. to run linux commands or external commands in python"
   ]
  },
  {
   "cell_type": "code",
   "execution_count": 38,
   "id": "50704d11",
   "metadata": {},
   "outputs": [
    {
     "data": {
      "text/plain": [
       "1"
      ]
     },
     "execution_count": 38,
     "metadata": {},
     "output_type": "execute_result"
    }
   ],
   "source": [
    "import os\n",
    "\n",
    "command = 'ls'\n",
    "os.system(command)"
   ]
  },
  {
   "cell_type": "code",
   "execution_count": 36,
   "id": "e028cd27",
   "metadata": {},
   "outputs": [],
   "source": [
    "from subprocess import call\n",
    "\n",
    "call([\"ls\", \"-l\"])"
   ]
  },
  {
   "cell_type": "code",
   "execution_count": 37,
   "id": "50d9b96c",
   "metadata": {},
   "outputs": [
    {
     "name": "stdout",
     "output_type": "stream",
     "text": [
      "Standard Output: \n",
      "Standard Error: 'ls' is not recognized as an internal or external command,\n",
      "operable program or batch file.\n",
      "\n",
      "Return Code: 1\n"
     ]
    }
   ],
   "source": [
    "import subprocess\n",
    "\n",
    "command = 'ls'\n",
    "result = subprocess.run(command, shell=True, stdout=subprocess.PIPE, stderr=subprocess.PIPE, text=True)\n",
    "\n",
    "print(\"Standard Output:\",result.stdout)\n",
    "print(\"Standard Error:\",result.stderr)\n",
    "print(\"Return Code:\", result.returncode)"
   ]
  },
  {
   "cell_type": "markdown",
   "id": "a20e63b5",
   "metadata": {},
   "source": [
    "# 22.  find out the number of CPUs used"
   ]
  },
  {
   "cell_type": "code",
   "execution_count": 39,
   "id": "b439d9b4",
   "metadata": {},
   "outputs": [
    {
     "name": "stdout",
     "output_type": "stream",
     "text": [
      "4\n"
     ]
    }
   ],
   "source": [
    "import multiprocessing\n",
    "\n",
    "print(multiprocessing.cpu_count())"
   ]
  },
  {
   "cell_type": "markdown",
   "id": "1783c050",
   "metadata": {},
   "source": [
    "# 23. parse a string to float or integer."
   ]
  },
  {
   "cell_type": "code",
   "execution_count": 41,
   "id": "25c029c3",
   "metadata": {},
   "outputs": [
    {
     "name": "stdout",
     "output_type": "stream",
     "text": [
      "246.2458\n",
      "246\n"
     ]
    }
   ],
   "source": [
    "n = \"246.2458\"\n",
    "print(float(n))\n",
    "print(int(float(n)))"
   ]
  },
  {
   "cell_type": "markdown",
   "id": "8eab0ace",
   "metadata": {},
   "source": [
    "# 24. profiling of Python programs\n",
    "cProfile is a built-in Python module used for profiling Python programs. Profiling is the process of measuring the performance of a program to identify bottlenecks and areas that can be optimized. cProfile is particularly useful for analyzing the execution time of various functions and methods in your code."
   ]
  },
  {
   "cell_type": "code",
   "execution_count": 46,
   "id": "129a1aa4",
   "metadata": {},
   "outputs": [
    {
     "name": "stdout",
     "output_type": "stream",
     "text": [
      "3\n",
      "         29 function calls in 0.000 seconds\n",
      "\n",
      "   Ordered by: standard name\n",
      "\n",
      "   ncalls  tottime  percall  cumtime  percall filename:lineno(function)\n",
      "        1    0.000    0.000    0.000    0.000 3867616217.py:2(sum)\n",
      "        1    0.000    0.000    0.000    0.000 <string>:1(<module>)\n",
      "        1    0.000    0.000    0.000    0.000 iostream.py:127(_event_pipe)\n",
      "        1    0.000    0.000    0.000    0.000 iostream.py:243(schedule)\n",
      "        2    0.000    0.000    0.000    0.000 iostream.py:505(_is_master_process)\n",
      "        2    0.000    0.000    0.000    0.000 iostream.py:532(_schedule_flush)\n",
      "        2    0.000    0.000    0.000    0.000 iostream.py:610(write)\n",
      "        1    0.000    0.000    0.000    0.000 socket.py:543(send)\n",
      "        1    0.000    0.000    0.000    0.000 threading.py:1118(_wait_for_tstate_lock)\n",
      "        1    0.000    0.000    0.000    0.000 threading.py:1185(is_alive)\n",
      "        1    0.000    0.000    0.000    0.000 threading.py:568(is_set)\n",
      "        1    0.000    0.000    0.000    0.000 {built-in method builtins.exec}\n",
      "        2    0.000    0.000    0.000    0.000 {built-in method builtins.isinstance}\n",
      "        2    0.000    0.000    0.000    0.000 {built-in method builtins.len}\n",
      "        1    0.000    0.000    0.000    0.000 {built-in method builtins.print}\n",
      "        2    0.000    0.000    0.000    0.000 {built-in method nt.getpid}\n",
      "        2    0.000    0.000    0.000    0.000 {method '__exit__' of '_thread.RLock' objects}\n",
      "        1    0.000    0.000    0.000    0.000 {method 'acquire' of '_thread.lock' objects}\n",
      "        1    0.000    0.000    0.000    0.000 {method 'append' of 'collections.deque' objects}\n",
      "        1    0.000    0.000    0.000    0.000 {method 'disable' of '_lsprof.Profiler' objects}\n",
      "        2    0.000    0.000    0.000    0.000 {method 'write' of '_io.StringIO' objects}\n",
      "\n",
      "\n"
     ]
    }
   ],
   "source": [
    "import cProfile\n",
    "def sum():\n",
    "    print(1+2)\n",
    "cProfile.run('sum()')"
   ]
  },
  {
   "cell_type": "markdown",
   "id": "65930e36",
   "metadata": {},
   "source": [
    "# 25.  print to STDERR"
   ]
  },
  {
   "cell_type": "code",
   "execution_count": 51,
   "id": "e4e05932",
   "metadata": {},
   "outputs": [
    {
     "name": "stderr",
     "output_type": "stream",
     "text": [
      "An error occurred: division by zero\n"
     ]
    }
   ],
   "source": [
    "import sys\n",
    "\n",
    "try:\n",
    "    result = 10 / 0\n",
    "except Exception as e:\n",
    "    print(\"An error occurred:\", str(e), file=sys.stderr)"
   ]
  },
  {
   "cell_type": "markdown",
   "id": "ce53695a",
   "metadata": {},
   "source": [
    "# 26. get current username in python"
   ]
  },
  {
   "cell_type": "code",
   "execution_count": 53,
   "id": "cd0e9772",
   "metadata": {},
   "outputs": [
    {
     "name": "stdout",
     "output_type": "stream",
     "text": [
      "nares\n"
     ]
    }
   ],
   "source": [
    "import getpass\n",
    "\n",
    "print(getpass.getuser())"
   ]
  },
  {
   "cell_type": "markdown",
   "id": "599643d5",
   "metadata": {},
   "source": [
    "# 27. get local ip address in python"
   ]
  },
  {
   "cell_type": "code",
   "execution_count": 57,
   "id": "e368f519",
   "metadata": {},
   "outputs": [
    {
     "name": "stdout",
     "output_type": "stream",
     "text": [
      "Local IP addresses for host Nikky\n",
      "192.168.1.6\n"
     ]
    }
   ],
   "source": [
    "import socket\n",
    "\n",
    "# Get the hostname of the local machine\n",
    "hostname = socket.gethostname()\n",
    "\n",
    "# Get a list of IP addresses associated with the hostname\n",
    "ip_addresses = socket.gethostbyname_ex(hostname)\n",
    "\n",
    "print(\"Local IP addresses for host\", hostname)\n",
    "for ip in ip_addresses[2]:\n",
    "    print(ip)"
   ]
  },
  {
   "cell_type": "markdown",
   "id": "c507a4d0",
   "metadata": {},
   "source": [
    "# 28. get the execution time of a Python method\n",
    "\n",
    "time.time(): 1698298361.1560776 (time epoch)\n",
    "The current_time variable will contain a floating-point number, representing the number of seconds that have passed since January 1, 1970, up to the current time. You can use this function to measure time durations, calculate time differences, or timestamp events."
   ]
  },
  {
   "cell_type": "code",
   "execution_count": 60,
   "id": "d0c07575",
   "metadata": {},
   "outputs": [
    {
     "name": "stdout",
     "output_type": "stream",
     "text": [
      "1698298361.1560776\n",
      "1698298361.1560776\n",
      "\n",
      "Time to sum of 1 to  5  and required time to calculate is : (15, 0.0)\n"
     ]
    }
   ],
   "source": [
    "import time\n",
    "\n",
    "def sum_of_n_numbers(n):\n",
    "    start_time = time.time()\n",
    "    s = 0\n",
    "    for i in range(1,n+1):\n",
    "        s = s + i\n",
    "    end_time = time.time()\n",
    "    return s,end_time-start_time\n",
    "\n",
    "n = 5\n",
    "print(\"\\nTime to sum of 1 to \",n,\" and required time to calculate is :\",sum_of_n_numbers(n))"
   ]
  },
  {
   "cell_type": "markdown",
   "id": "5d60f621",
   "metadata": {},
   "source": [
    "# 29.  sum the first n positive integers."
   ]
  },
  {
   "cell_type": "code",
   "execution_count": 61,
   "id": "0079f615",
   "metadata": {},
   "outputs": [
    {
     "name": "stdout",
     "output_type": "stream",
     "text": [
      "Input a number: 2\n",
      "Sum of the first 2 positive integers: 3.0\n"
     ]
    }
   ],
   "source": [
    "n = int(input(\"Input a number: \"))\n",
    "\n",
    "sum_num = (n * (n + 1)) / 2\n",
    "print(\"Sum of the first\", n ,\"positive integers:\", sum_num)"
   ]
  },
  {
   "cell_type": "markdown",
   "id": "dfb94d02",
   "metadata": {},
   "source": [
    "# 30. converts seconds into days, hours, minutes, and seconds."
   ]
  },
  {
   "cell_type": "code",
   "execution_count": 72,
   "id": "d45bb0df",
   "metadata": {},
   "outputs": [
    {
     "name": "stdout",
     "output_type": "stream",
     "text": [
      "Input time in seconds: 1234567\n",
      "14.0\n",
      "24967.0\n",
      "6.0\n",
      "3367.0\n",
      "56.0\n",
      "7.0\n",
      "7.0\n",
      "d:h:m:s-> 14:6:56:7\n"
     ]
    }
   ],
   "source": [
    "time = float(input(\"Input time in seconds: \"))\n",
    "\n",
    "day = time // 86400    # (24 hours * 60 mins * 60 sec )= 86400 sec/day\n",
    "\n",
    "time = time % 86400  # removes the seconds that were counted as days, leaving only the remaining seconds.\n",
    "hour = time // 3600 # (60 mins * 60 sec)\n",
    "\n",
    "time = time % 3600  # This removes the seconds counted as hours, leaving only the remaining seconds.\n",
    "minutes = time // 60 # (60 sec)\n",
    "\n",
    "time = time % 60  # which removes the seconds counted as minutes, leaving only the remaining seconds.\n",
    "seconds = time\n",
    "print(seconds)\n",
    "print(\"d:h:m:s-> %d:%d:%d:%d\" % (day, hour, minutes, seconds))"
   ]
  },
  {
   "cell_type": "code",
   "execution_count": 81,
   "id": "847fe445",
   "metadata": {},
   "outputs": [
    {
     "data": {
      "text/plain": [
       "24967"
      ]
     },
     "execution_count": 81,
     "metadata": {},
     "output_type": "execute_result"
    }
   ],
   "source": [
    "t= 1234567\n",
    "\n",
    "t = t%86400\n",
    "t"
   ]
  },
  {
   "cell_type": "code",
   "execution_count": 80,
   "id": "1478ef93",
   "metadata": {},
   "outputs": [
    {
     "data": {
      "text/plain": [
       "86400"
      ]
     },
     "execution_count": 80,
     "metadata": {},
     "output_type": "execute_result"
    }
   ],
   "source": [
    "24*3600"
   ]
  },
  {
   "cell_type": "markdown",
   "id": "f3083fb7",
   "metadata": {},
   "source": [
    "# 31. cal sum of digits of beside numbers\n",
    "\n",
    "n = 5432\n",
    "5+4+3+2+1 = 15"
   ]
  },
  {
   "cell_type": "code",
   "execution_count": 95,
   "id": "265e8dc0",
   "metadata": {},
   "outputs": [
    {
     "name": "stdout",
     "output_type": "stream",
     "text": [
      "Sum of the digits of 123456789 is: 45\n"
     ]
    }
   ],
   "source": [
    "n = 123456789\n",
    "\n",
    "c = 0\n",
    "n_str = str(n)\n",
    "for x in n_str:\n",
    "    c += int(x)\n",
    "print(\"Sum of the digits of\", n, \"is:\", c)"
   ]
  },
  {
   "cell_type": "code",
   "execution_count": 93,
   "id": "0a849149",
   "metadata": {},
   "outputs": [
    {
     "name": "stdout",
     "output_type": "stream",
     "text": [
      "15\n"
     ]
    }
   ],
   "source": [
    "n = 54321\n",
    "\n",
    "n = str(n)\n",
    "c = 0\n",
    "for i in range(len(n)):\n",
    "    c=c+int(n[i])\n",
    "print(c)"
   ]
  },
  {
   "cell_type": "markdown",
   "id": "6a0f511f",
   "metadata": {},
   "source": [
    "# 32. cal sort three integers without using conditional statements and loops"
   ]
  },
  {
   "cell_type": "code",
   "execution_count": 96,
   "id": "f06a372d",
   "metadata": {},
   "outputs": [
    {
     "name": "stdout",
     "output_type": "stream",
     "text": [
      "Numbers in sorted order:  11 12 13\n"
     ]
    }
   ],
   "source": [
    "x,y,z = 13,11,12\n",
    "\n",
    "a1 = min(x, y, z)\n",
    "a3 = max(x, y, z)\n",
    "a2 = (x + y + z) - a1 - a3\n",
    "print(\"Numbers in sorted order: \", a1, a2, a3)"
   ]
  },
  {
   "cell_type": "markdown",
   "id": "e4720a2b",
   "metadata": {},
   "source": [
    "# 33. sort the files by date"
   ]
  },
  {
   "cell_type": "code",
   "execution_count": 97,
   "id": "18a7d511",
   "metadata": {},
   "outputs": [
    {
     "name": "stdout",
     "output_type": "stream",
     "text": [
      "test.txt\n",
      "file_abc.txt\n",
      "words1.txt\n",
      "geek.txt\n",
      "new_file.txt\n",
      "dest.txt\n",
      "file.txt\n",
      "dest1.txt\n",
      "file1.txt\n",
      "file2.txt\n",
      "combined_file.txt\n",
      "combined_lines.txt\n",
      "output.txt\n",
      "demo.txt\n"
     ]
    }
   ],
   "source": [
    "import glob\n",
    "import os\n",
    "\n",
    "files = glob.glob(\"*.txt\")\n",
    "files.sort(key=os.path.getmtime)\n",
    "print(\"\\n\".join(files))"
   ]
  },
  {
   "cell_type": "markdown",
   "id": "368498eb",
   "metadata": {},
   "source": [
    "# 34. command-line arguments (name of the script, the number of arguments, arguments) passed to a script"
   ]
  },
  {
   "cell_type": "code",
   "execution_count": 100,
   "id": "cc6b00e7",
   "metadata": {},
   "outputs": [
    {
     "name": "stdout",
     "output_type": "stream",
     "text": [
      "This is the name/path of the script:\n",
      "Number of arguments: 3\n",
      "Argument List: ['C:\\\\Users\\\\nares\\\\anaconda-new\\\\Lib\\\\site-packages\\\\ipykernel_launcher.py', '-f', 'C:\\\\Users\\\\nares\\\\AppData\\\\Roaming\\\\jupyter\\\\runtime\\\\kernel-bf05226c-75aa-4ed7-aed2-87b2d2adcbe6.json']\n"
     ]
    }
   ],
   "source": [
    "import sys\n",
    "\n",
    "print(\"This is the name/path of the script:\"),sys.argv[0]\n",
    "print(\"Number of arguments:\",len(sys.argv))\n",
    "print(\"Argument List:\",str(sys.argv))"
   ]
  },
  {
   "cell_type": "markdown",
   "id": "ced6a4fb",
   "metadata": {},
   "source": [
    "# 35. find built-in module names"
   ]
  },
  {
   "cell_type": "code",
   "execution_count": 109,
   "id": "0934e287",
   "metadata": {
    "scrolled": true
   },
   "outputs": [
    {
     "name": "stdout",
     "output_type": "stream",
     "text": [
      "('_abc', '_ast', '_bisect', '_blake2', '_codecs', '_codecs_cn', '_codecs_hk', '_codecs_iso2022', '_codecs_jp', '_codecs_kr', '_codecs_tw', '_collections', '_contextvars', '_csv', '_datetime', '_functools', '_heapq', '_imp', '_io', '_json', '_locale', '_lsprof', '_md5', '_multibytecodec', '_opcode', '_operator', '_pickle', '_random', '_sha1', '_sha256', '_sha3', '_sha512', '_signal', '_sre', '_stat', '_statistics', '_string', '_struct', '_symtable', '_thread', '_tokenize', '_tracemalloc', '_typing', '_warnings', '_weakref', '_winapi', '_xxsubinterpreters', 'array', 'atexit', 'audioop', 'binascii', 'builtins', 'cmath', 'errno', 'faulthandler', 'gc', 'itertools', 'marshal', 'math', 'mmap', 'msvcrt', 'nt', 'sys', 'time', 'winreg', 'xxsubtype', 'zlib')\n",
      "\n",
      "Please wait a moment while I gather a list of all available modules...\n",
      "\n",
      "IPython             compileall          mdit_py_plugins     smtplib\n",
      "OpenSSL             concurrent          mdurl               snappy\n",
      "PIL                 conda               menuinst            sndhdr\n",
      "PyQt5               conda_build         mimetypes           sniffio\n",
      "TBB                 conda_content_trust mistune             snowballstemmer\n",
      "Tree                conda_env           mkl                 socket\n",
      "__future__          conda_index         mkl_fft             socketserver\n",
      "__hello__           conda_libmamba_solver mmap                socks\n",
      "__phello__          conda_pack          mmapfile            sockshandler\n",
      "_abc                conda_package_handling mmsystem            sortedcontainers\n",
      "_aix_support        conda_package_streaming modulefinder        soupsieve\n",
      "_argon2_cffi_bindings conda_token         more_itertools      sphinx\n",
      "_ast                conda_verify        mpmath              sphinxify\n",
      "_asyncio            conf                msgpack             sphinxthread\n",
      "_bisect             configparser        msilib              spyder\n",
      "_black_version      constantly          msvcrt              spyder_kernels\n",
      "_blake2             contextlib          multidict           sqlalchemy\n",
      "_bootsubprocess     contextvars         multipledispatch    sqlite3\n",
      "_bz2                contourpy           multiprocess        sre_compile\n",
      "_cffi_backend       cookiecutter        multiprocessing     sre_constants\n",
      "_codecs             copy                munkres             sre_parse\n",
      "_codecs_cn          copyreg             mypy_extensions     ssl\n",
      "_codecs_hk          cpuinfo             nacl                sspi\n",
      "_codecs_iso2022     crypt               navigator_updater   sspicon\n",
      "_codecs_jp          cryptography        nbclassic           stack_data\n",
      "_codecs_kr          cssselect           nbclient            stat\n",
      "_codecs_tw          csv                 nbconvert           statistics\n",
      "_collections        ctypes              nbformat            statsmodels\n",
      "_collections_abc    curl                nest_asyncio        string\n",
      "_compat_pickle      curses              netbios             stringprep\n",
      "_compression        cwp                 netrc               struct\n",
      "_contextvars        cycler              networkx            subprocess\n",
      "_csv                cytoolz             nltk                sunau\n",
      "_ctypes             daal4py             nntplib             svgwrite\n",
      "_ctypes_test        dask                notebook            sympy\n",
      "_datetime           dataclasses         notebook_shim       symtable\n",
      "_decimal            datasets            nt                  sys\n",
      "_distutils_hack     datashader          ntpath              sysconfig\n",
      "_elementtree        datashape           ntsecuritycon       tables\n",
      "_functools          datetime            nturl2path          tabnanny\n",
      "_hashlib            dateutil            numba               tabulate\n",
      "_heapq              dbi                 numbergen           tarfile\n",
      "_imp                dbm                 numbers             tbb\n",
      "_io                 dde                 numexpr             tblib\n",
      "_json               debugpy             numpy               telnetlib\n",
      "_locale             decimal             numpydoc            tempfile\n",
      "_lsprof             decorator           odbc                tenacity\n",
      "_lzma               defusedxml          onedal              terminado\n",
      "_markupbase         diff_match_patch    opcode              test\n",
      "_md5                difflib             openpyxl            test_pycosat\n",
      "_msi                dill                operator            text_unidecode\n",
      "_multibytecodec     dis                 optparse            textdistance\n",
      "_multiprocess       distributed         os                  textwrap\n",
      "_multiprocessing    distutils           packaging           this\n",
      "_nsis               docstring_to_markdown pandas              threading\n",
      "_opcode             doctest             pandocfilters       threadpoolctl\n",
      "_operator           docutils            panel               three_merge\n",
      "_osx_support        dotenv              param               tifffile\n",
      "_overlapped         email               paramiko            time\n",
      "_pickle             encodings           parsel              timeit\n",
      "_plotly_future_     ensurepip           parso               timer\n",
      "_plotly_utils       entrypoints         partd               tinycss2\n",
      "_py_abc             enum                past                tkinter\n",
      "_pydecimal          erfa                pathlib             tldextract\n",
      "_pyio               errno               pathspec            tlz\n",
      "_pyrsistent_version et_xmlfile          patsy               token\n",
      "_pytest             executing           pdb                 tokenize\n",
      "_queue              fastjsonschema      pep8                tokenizers\n",
      "_random             faulthandler        perfmon             toml\n",
      "_sha1               filecmp             pexpect             tomlkit\n",
      "_sha256             fileinput           pickle              tomllib\n",
      "_sha3               filelock            pickleshare         toolz\n",
      "_sha512             flake8              pickletools         tornado\n",
      "_signal             flask               pip                 tqdm\n",
      "_sitebuiltins       fnmatch             pipes               trace\n",
      "_socket             fontTools           pkce                traceback\n",
      "_sqlite3            fractions           pkg_resources       tracemalloc\n",
      "_sre                frozenlist          pkginfo             traitlets\n",
      "_ssl                fsspec              pkgutil             transformers\n",
      "_stat               ftplib              platform            tty\n",
      "_statistics         functools           platformdirs        turtle\n",
      "_string             future              plistlib            turtledemo\n",
      "_strptime           gc                  plotly              twisted\n",
      "_struct             genericpath         pluggy              types\n",
      "_symtable           gensim              ply                 typing\n",
      "_system_path        getopt              poplib              typing_extensions\n",
      "_testbuffer         getpass             posixpath           tzdata\n",
      "_testcapi           gettext             poyo                uc_micro\n",
      "_testconsole        glob                pprint              ujson\n",
      "_testimportmultiple glob2               profile             unicodedata\n",
      "_testinternalcapi   graphlib            prometheus_client   unidecode\n",
      "_testmultiphase     greenlet            prompt_toolkit      unittest\n",
      "_thread             gzip                protego             urllib\n",
      "_threading_local    h5py                pstats              urllib3\n",
      "_tkinter            hashlib             psutil              uu\n",
      "_tokenize           heapdict            pty                 uuid\n",
      "_tracemalloc        heapq               ptyprocess          venv\n",
      "_typing             hmac                pure_eval           w3lib\n",
      "_uuid               holoviews           pvectorc            warnings\n",
      "_warnings           html                py                  watchdog\n",
      "_weakref            http                py_compile          wave\n",
      "_weakrefset         huggingface_hub     pyarrow             wcwidth\n",
      "_win32sysloader     hvplot              pyasn1              weakref\n",
      "_winapi             hyperlink           pyasn1_modules      webbrowser\n",
      "_winxptheme         idlelib             pyclbr              webencodings\n",
      "_xxsubinterpreters  idna                pycodestyle         websocket\n",
      "_yaml               imagecodecs         pycosat             werkzeug\n",
      "_zoneinfo           imageio             pycparser           whatthepatch\n",
      "abc                 imagesize           pyct                wheel\n",
      "adodbapi            imaplib             pycurl              widgetsnbextension\n",
      "afxres              imblearn            pydantic            win2kras\n",
      "aifc                imghdr              pydispatch          win32api\n",
      "aiobotocore         imp                 pydoc               win32clipboard\n",
      "aiofiles            importlib           pydoc_data          win32com\n",
      "aiohttp             importlib_metadata  pydocstyle          win32con\n",
      "aioitertools        incremental         pyexpat             win32console\n",
      "aiosignal           inflection          pyflakes            win32cred\n",
      "aiosqlite           iniconfig           pygments            win32crypt\n",
      "alabaster           inspect             pylab               win32cryptcon\n",
      "anaconda_anon_usage intake              pylint              win32ctypes\n",
      "anaconda_catalogs   intervaltree        pylint_venv         win32event\n",
      "anaconda_cloud_auth io                  pyls_spyder         win32evtlog\n",
      "anaconda_navigator  ipaddress           pylsp               win32evtlogutil\n",
      "anaconda_project    ipykernel           pylsp_black         win32file\n",
      "antigravity         ipykernel_launcher  pylsp_jsonrpc       win32gui\n",
      "anyio               ipython_genutils    pyodbc              win32gui_struct\n",
      "appdirs             ipywidgets          pyparsing           win32help\n",
      "argon2              isapi               pyrsistent          win32inet\n",
      "argparse            isort               pytest              win32inetcon\n",
      "array               isympy              pythoncom           win32job\n",
      "arrow               itemadapter         pythonjsonlogger    win32lz\n",
      "ast                 itemloaders         pytoolconfig        win32net\n",
      "astroid             itertools           pytz                win32netcon\n",
      "astropy             itsdangerous        pyviz_comms         win32pdh\n",
      "asttokens           jedi                pywin               win32pdhquery\n",
      "async_timeout       jellyfish           pywin32_bootstrap   win32pdhutil\n",
      "asynchat            jinja2              pywin32_testutil    win32pipe\n",
      "asyncio             jinja2_time         pywintypes          win32print\n",
      "asyncore            jmespath            pywt                win32process\n",
      "atexit              joblib              qdarkstyle          win32profile\n",
      "atomicwrites        json                qstylizer           win32ras\n",
      "attr                json5               qtawesome           win32rcparser\n",
      "attrs               jsonpatch           qtconsole           win32security\n",
      "audioop             jsonpointer         qtpy                win32service\n",
      "automat             jsonschema          queue               win32serviceutil\n",
      "autopep8            jupyter             queuelib            win32timezone\n",
      "babel               jupyter_client      quopri              win32trace\n",
      "backcall            jupyter_console     random              win32traceutil\n",
      "backports           jupyter_core        rasutil             win32transaction\n",
      "base64              jupyter_events      re                  win32ts\n",
      "bcrypt              jupyter_server      regcheck            win32ui\n",
      "bdb                 jupyter_server_fileid regex               win32uiole\n",
      "binaryornot         jupyter_server_ydoc regutil             win32verstamp\n",
      "binascii            jupyter_ydoc        repo_cli            win32wnet\n",
      "binstar_client      jupyterlab          reprlib             win_inet_pton\n",
      "bisect              jupyterlab_plotly   requests            winerror\n",
      "black               jupyterlab_pygments requests_file       winioctlcon\n",
      "blackd              jupyterlab_server   requests_toolbelt   winnt\n",
      "bleach              jupyterlab_widgets  responses           winperf\n",
      "blib2to3            jwt                 rfc3339_validator   winpty\n",
      "bokeh               kaleido             rfc3986_validator   winreg\n",
      "boltons             keyring             rlcompleter         winsound\n",
      "botocore            keyword             rope                winxpgui\n",
      "bottleneck          kiwisolver          rtree               winxptheme\n",
      "brotli              lazy_loader         ruamel_yaml         wrapt\n",
      "bs4                 lazy_object_proxy   runpy               wsgiref\n",
      "builtins            lib2to3             s3fs                xarray\n",
      "bz2                 libarchive          safetensors         xdrlib\n",
      "cProfile            libfuturize         sched               xlwings\n",
      "calc                libmambapy          scipy               xml\n",
      "calendar            libpasteurize       scrapy              xmlrpc\n",
      "certifi             lief                seaborn             xxhash\n",
      "cffi                linecache           secrets             xxlimited\n",
      "cgi                 linkify_it          select              xxlimited_35\n",
      "cgitb               llvmlite            selectors           xxsubtype\n",
      "chardet             lmdb                send2trash          xyzservices\n",
      "charset_normalizer  locale              service_identity    y_py\n",
      "chunk               locket              servicemanager      yaml\n",
      "click               logging             setuptools          yapf\n",
      "cloudpickle         lxml                shelve              yapftests\n",
      "clyent              lz4                 shlex               yarl\n",
      "cmath               lzma                shutil              ypy_websocket\n",
      "cmd                 mailbox             signal              zict\n",
      "code                mailcap             sipbuild            zipapp\n",
      "codecs              markdown            site                zipfile\n",
      "codeop              markdown_it         six                 zipimport\n",
      "collections         markupsafe          skimage             zipp\n",
      "colorama            marshal             sklearn             zlib\n",
      "colorcet            math                sklearnex           zmq\n",
      "colorsys            matplotlib          slugify             zoneinfo\n",
      "comm                matplotlib_inline   smart_open          zope\n",
      "commctrl            mccabe              smtpd               zstandard\n",
      "\n",
      "Enter any module name to get more help.  Or, type \"modules spam\" to search\n",
      "for modules whose name or summary contain the string \"spam\".\n",
      "\n"
     ]
    }
   ],
   "source": [
    "import sys\n",
    "\n",
    "print(sys.builtin_module_names)\n",
    "help(\"modules\")"
   ]
  },
  {
   "cell_type": "markdown",
   "id": "55cbded4",
   "metadata": {},
   "source": [
    "# 36.  char/variable/object size in bytes &  file size in bytes"
   ]
  },
  {
   "cell_type": "code",
   "execution_count": 122,
   "id": "eb30e591",
   "metadata": {},
   "outputs": [
    {
     "name": "stdout",
     "output_type": "stream",
     "text": [
      "28\n",
      "104\n",
      "88\n",
      "58\n",
      "file size 31\n"
     ]
    }
   ],
   "source": [
    "import sys\n",
    "\n",
    "a = 10\n",
    "l = [1,2,3,4,5]\n",
    "t = (1,2,3,4,5,6)\n",
    "s = \"hello how\"\n",
    "\n",
    "print(sys.getsizeof(a))\n",
    "print(sys.getsizeof(l))\n",
    "print(sys.getsizeof(t))\n",
    "print(sys.getsizeof(s))\n",
    "\n",
    "# get file size\n",
    "import os\n",
    "\n",
    "file_size = os.path.getsize(\"test.txt\")\n",
    "print(\"file size\", file_size)"
   ]
  },
  {
   "cell_type": "markdown",
   "id": "414b1297",
   "metadata": {},
   "source": [
    "# 37. current value of recursion limit"
   ]
  },
  {
   "cell_type": "code",
   "execution_count": 113,
   "id": "7e9db4d5",
   "metadata": {},
   "outputs": [
    {
     "name": "stdout",
     "output_type": "stream",
     "text": [
      "Current value of the recursion limit: 3000\n",
      "5000\n"
     ]
    }
   ],
   "source": [
    "import sys\n",
    "\n",
    "print(\"Current value of the recursion limit:\",sys.getrecursionlimit())\n",
    "sys.setrecursionlimit(5000)\n",
    "new_recursion_limit = sys.getrecursionlimit()\n",
    "print(new_recursion_limit)"
   ]
  },
  {
   "cell_type": "markdown",
   "id": "2181e485",
   "metadata": {},
   "source": [
    "# 38.  test whether all numbers in a list are greater than a certain number."
   ]
  },
  {
   "cell_type": "code",
   "execution_count": 114,
   "id": "569c69b7",
   "metadata": {},
   "outputs": [
    {
     "name": "stdout",
     "output_type": "stream",
     "text": [
      "True\n",
      "False\n",
      "\n"
     ]
    }
   ],
   "source": [
    "num = [2, 3, 4, 5]\n",
    "\n",
    "print(all(x > 1 for x in num))\n",
    "print(all(x > 4 for x in num))\n",
    "print()"
   ]
  },
  {
   "cell_type": "markdown",
   "id": "5cc0bd72",
   "metadata": {},
   "source": [
    "# 39. check whether a file path is a file or a directory."
   ]
  },
  {
   "cell_type": "code",
   "execution_count": 118,
   "id": "fc4adb3d",
   "metadata": {},
   "outputs": [
    {
     "name": "stdout",
     "output_type": "stream",
     "text": [
      "\n",
      "It is a normal file\n"
     ]
    }
   ],
   "source": [
    "import os  \n",
    "\n",
    "path=\"test.txt\"  \n",
    "if os.path.isdir(path):  \n",
    "    print(\"\\nIt is a directory\")  \n",
    "elif os.path.isfile(path):  \n",
    "    print(\"\\nIt is a normal file\")  \n",
    "else:  \n",
    "    print(\"file or directory not found\" )"
   ]
  },
  {
   "cell_type": "markdown",
   "id": "dd175440",
   "metadata": {},
   "source": [
    "# 40. convert the bytes in a given string to a list of integers."
   ]
  },
  {
   "cell_type": "code",
   "execution_count": 123,
   "id": "14a52105",
   "metadata": {},
   "outputs": [
    {
     "name": "stdout",
     "output_type": "stream",
     "text": [
      "[65, 98, 99]\n"
     ]
    }
   ],
   "source": [
    "x = b'Abc'\n",
    "\n",
    "print(list(x))"
   ]
  },
  {
   "cell_type": "markdown",
   "id": "4e1a4e2f",
   "metadata": {},
   "source": [
    "# 41. clear the screen or terminal"
   ]
  },
  {
   "cell_type": "code",
   "execution_count": 127,
   "id": "d9de7a45",
   "metadata": {},
   "outputs": [
    {
     "data": {
      "text/plain": [
       "1"
      ]
     },
     "execution_count": 127,
     "metadata": {},
     "output_type": "execute_result"
    }
   ],
   "source": [
    "import os\n",
    "import time\n",
    "\n",
    "# for windows\n",
    "# os.system('cls')\n",
    "os.system(\"ls\")\n",
    "time.sleep(2)\n",
    "# Ubuntu version \n",
    "os.system('clear')"
   ]
  },
  {
   "cell_type": "markdown",
   "id": "4ffd71b8",
   "metadata": {},
   "source": [
    "# 42. access and print a URL's content to the console"
   ]
  },
  {
   "cell_type": "code",
   "execution_count": 128,
   "id": "ef968adc",
   "metadata": {},
   "outputs": [
    {
     "name": "stdout",
     "output_type": "stream",
     "text": [
      "b'<HTML><HEAD><meta http-equiv=\"content-type\" content=\"text/html;charset=utf-8\">\\n<TITLE>301 Moved</TITLE></HEAD><BODY>\\n<H1>301 Moved</H1>\\nThe document has moved\\n<A HREF=\"http://www.google.com/\">here</A>.\\r\\n</BODY></HTML>\\r\\n'\n"
     ]
    }
   ],
   "source": [
    "from http.client import HTTPConnection\n",
    "\n",
    "conn = HTTPConnection(\"google.com\")\n",
    "conn.request(\"GET\", \"/\")  \n",
    "result = conn.getresponse()\n",
    "# retrieves the entire contents.  \n",
    "contents = result.read() \n",
    "print(contents)"
   ]
  },
  {
   "cell_type": "markdown",
   "id": "77b533b6",
   "metadata": {},
   "source": [
    "# 43. access the env variables in python (windows os)"
   ]
  },
  {
   "cell_type": "code",
   "execution_count": 52,
   "id": "4c773f73",
   "metadata": {},
   "outputs": [
    {
     "name": "stdout",
     "output_type": "stream",
     "text": [
      "*----------------------------------*\n",
      "environ({'ALLUSERSPROFILE': 'C:\\\\ProgramData', 'APPDATA': 'C:\\\\Users\\\\nares\\\\AppData\\\\Roaming', 'COMMONPROGRAMFILES': 'C:\\\\Program Files\\\\Common Files', 'COMMONPROGRAMFILES(X86)': 'C:\\\\Program Files (x86)\\\\Common Files', 'COMMONPROGRAMW6432': 'C:\\\\Program Files\\\\Common Files', 'COMPUTERNAME': 'NIKKY', 'COMSPEC': 'C:\\\\WINDOWS\\\\system32\\\\cmd.exe', 'CONDA_DEFAULT_ENV': 'base', 'CONDA_EXE': 'C:\\\\Users\\\\nares\\\\anaconda-new\\\\Scripts\\\\conda.exe', 'CONDA_PROMPT_MODIFIER': '(base) ', 'CONDA_PYTHON_EXE': 'C:\\\\Users\\\\nares\\\\anaconda-new\\\\python.exe', 'CONDA_SHLVL': '1', 'DRIVERDATA': 'C:\\\\Windows\\\\System32\\\\Drivers\\\\DriverData', 'EFC_17568': '1', 'FPS_BROWSER_APP_PROFILE_STRING': 'Internet Explorer', 'FPS_BROWSER_USER_PROFILE_STRING': 'Default', 'HADOOP_HOME': 'C:\\\\winutils', 'HOMEDRIVE': 'C:', 'HOMEPATH': '\\\\Users\\\\nares', 'JAVA_HOME': 'C:\\\\jdk', 'LOCALAPPDATA': 'C:\\\\Users\\\\nares\\\\AppData\\\\Local', 'LOGONSERVER': '\\\\\\\\NIKKY', 'NUMBER_OF_PROCESSORS': '4', 'ONEDRIVE': 'C:\\\\Users\\\\nares\\\\OneDrive', 'ONLINESERVICES': 'Online Services', 'OS': 'Windows_NT', 'PATH': 'C:\\\\Users\\\\nares\\\\anaconda-new;C:\\\\Users\\\\nares\\\\anaconda-new\\\\Library\\\\mingw-w64\\\\bin;C:\\\\Users\\\\nares\\\\anaconda-new\\\\Library\\\\usr\\\\bin;C:\\\\Users\\\\nares\\\\anaconda-new\\\\Library\\\\bin;C:\\\\Users\\\\nares\\\\anaconda-new\\\\Scripts;C:\\\\Users\\\\nares\\\\anaconda-new\\\\bin;C:\\\\Users\\\\nares\\\\anaconda-new\\\\condabin;C:\\\\Users\\\\nares\\\\anaconda-new;C:\\\\Users\\\\nares\\\\anaconda-new\\\\Library\\\\mingw-w64\\\\bin;C:\\\\Users\\\\nares\\\\anaconda-new\\\\Library\\\\usr\\\\bin;C:\\\\Users\\\\nares\\\\anaconda-new\\\\Library\\\\bin;C:\\\\Users\\\\nares\\\\anaconda-new\\\\Scripts;C:\\\\Program Files\\\\Common Files\\\\Oracle\\\\Java\\\\javapath;C:\\\\WINDOWS\\\\system32;C:\\\\WINDOWS;C:\\\\WINDOWS\\\\System32\\\\Wbem;C:\\\\WINDOWS\\\\System32\\\\WindowsPowerShell\\\\v1.0;C:\\\\WINDOWS\\\\System32\\\\OpenSSH;C:\\\\Program Files\\\\Amazon\\\\AWSCLIV2;C:Windows\\\\system32;C:\\\\spark\\\\bin;C:\\\\jdk\\\\bin;C:\\\\Users\\\\nares\\\\AppData\\\\Local\\\\Programs\\\\Python\\\\Python311\\\\Scripts;C:\\\\Users\\\\nares\\\\AppData\\\\Local\\\\Programs\\\\Python\\\\Python311;C:\\\\Users\\\\nares\\\\AppData\\\\Local\\\\Programs\\\\Microsoft VS Code\\\\bin', 'PATHEXT': '.COM;.EXE;.BAT;.CMD;.VBS;.VBE;.JS;.JSE;.WSF;.WSH;.MSC', 'PLATFORMCODE': 'KV', 'PROCESSOR_ARCHITECTURE': 'AMD64', 'PROCESSOR_IDENTIFIER': 'AMD64 Family 23 Model 24 Stepping 1, AuthenticAMD', 'PROCESSOR_LEVEL': '23', 'PROCESSOR_REVISION': '1801', 'PROGRAMDATA': 'C:\\\\ProgramData', 'PROGRAMFILES': 'C:\\\\Program Files', 'PROGRAMFILES(X86)': 'C:\\\\Program Files (x86)', 'PROGRAMW6432': 'C:\\\\Program Files', 'PROMPT': '(base) $P$G', 'PSMODULEPATH': 'C:\\\\Program Files\\\\WindowsPowerShell\\\\Modules;C:\\\\WINDOWS\\\\system32\\\\WindowsPowerShell\\\\v1.0\\\\Modules', 'PUBLIC': 'C:\\\\Users\\\\Public', 'PYSPARK_PYTHON': 'python', 'REGIONCODE': 'APJ', 'SESSIONNAME': 'Console', 'SPARK_HOME': 'C:\\\\spark', 'SSL_CERT_FILE': 'C:\\\\Users\\\\nares\\\\anaconda-new\\\\Library\\\\ssl\\\\cacert.pem', 'SYSTEMDRIVE': 'C:', 'SYSTEMROOT': 'C:\\\\WINDOWS', 'TEMP': 'C:\\\\WINDOWS\\\\TEMP', 'TMP': 'C:\\\\Users\\\\nares\\\\AppData\\\\Local\\\\Temp', 'USERDOMAIN': 'NIKKY', 'USERDOMAIN_ROAMINGPROFILE': 'NIKKY', 'USERNAME': 'nares', 'USERPROFILE': 'C:\\\\Users\\\\nares', 'WINDIR': 'C:\\\\WINDOWS', 'CONDA_PREFIX': 'C:\\\\Users\\\\nares\\\\anaconda-new', 'CONDA_ROOT': 'C:\\\\Users\\\\nares\\\\anaconda-new', '__CONDA_OPENSLL_CERT_FILE_SET': '\"1\"', 'PYDEVD_USE_FRAME_EVAL': 'NO', 'JPY_INTERRUPT_EVENT': '3428', 'IPY_INTERRUPT_EVENT': '3428', 'JPY_PARENT_PID': '2660', 'TERM': 'xterm-color', 'CLICOLOR': '1', 'FORCE_COLOR': '1', 'CLICOLOR_FORCE': '1', 'PAGER': 'cat', 'GIT_PAGER': 'cat', 'MPLBACKEND': 'module://matplotlib_inline.backend_inline'})\n",
      "*----------------------------------*\n"
     ]
    },
    {
     "ename": "KeyError",
     "evalue": "'HOME'",
     "output_type": "error",
     "traceback": [
      "\u001b[1;31m---------------------------------------------------------------------------\u001b[0m",
      "\u001b[1;31mKeyError\u001b[0m                                  Traceback (most recent call last)",
      "Cell \u001b[1;32mIn[52], line 7\u001b[0m\n\u001b[0;32m      5\u001b[0m \u001b[38;5;28mprint\u001b[39m(\u001b[38;5;124m'\u001b[39m\u001b[38;5;124m*----------------------------------*\u001b[39m\u001b[38;5;124m'\u001b[39m)\n\u001b[0;32m      6\u001b[0m \u001b[38;5;66;03m# Access a particular environment variable \u001b[39;00m\n\u001b[1;32m----> 7\u001b[0m \u001b[38;5;28mprint\u001b[39m(os\u001b[38;5;241m.\u001b[39menviron[\u001b[38;5;124m'\u001b[39m\u001b[38;5;124mHOME\u001b[39m\u001b[38;5;124m'\u001b[39m])\n\u001b[0;32m      8\u001b[0m \u001b[38;5;28mprint\u001b[39m(\u001b[38;5;124m'\u001b[39m\u001b[38;5;124m*----------------------------------*\u001b[39m\u001b[38;5;124m'\u001b[39m)\n\u001b[0;32m      9\u001b[0m \u001b[38;5;28mprint\u001b[39m(os\u001b[38;5;241m.\u001b[39menviron[\u001b[38;5;124m'\u001b[39m\u001b[38;5;124mPATH\u001b[39m\u001b[38;5;124m'\u001b[39m])\n",
      "File \u001b[1;32m<frozen os>:679\u001b[0m, in \u001b[0;36m__getitem__\u001b[1;34m(self, key)\u001b[0m\n",
      "\u001b[1;31mKeyError\u001b[0m: 'HOME'"
     ]
    }
   ],
   "source": [
    "import os\n",
    "# Access all environment variables \n",
    "print('*----------------------------------*')\n",
    "print(os.environ)\n",
    "print('*----------------------------------*')\n",
    "# Access a particular environment variable \n",
    "print(os.environ['HOME'])\n",
    "print('*----------------------------------*')\n",
    "print(os.environ['PATH'])\n",
    "print('*----------------------------------*')"
   ]
  },
  {
   "cell_type": "markdown",
   "id": "a4b2d162",
   "metadata": {},
   "source": [
    "# 44. extract file name from given path"
   ]
  },
  {
   "cell_type": "code",
   "execution_count": 129,
   "id": "f9cb0adc",
   "metadata": {},
   "outputs": [
    {
     "name": "stdout",
     "output_type": "stream",
     "text": [
      "homework-1.py\n"
     ]
    }
   ],
   "source": [
    "import os \n",
    "\n",
    "print(os.path.basename('/users/system1/student1/homework-1.py'))"
   ]
  },
  {
   "cell_type": "markdown",
   "id": "70048bc9",
   "metadata": {},
   "source": [
    "# 45. compute the product of a list of integers (without using loops)"
   ]
  },
  {
   "cell_type": "code",
   "execution_count": 134,
   "id": "0ebb7196",
   "metadata": {},
   "outputs": [
    {
     "name": "stdout",
     "output_type": "stream",
     "text": [
      "6000\n"
     ]
    }
   ],
   "source": [
    "from functools import reduce\n",
    "\n",
    "nums = [10, 20, 30,]\n",
    "nums_product = reduce((lambda x, y: x * y), nums)\n",
    "print(nums_product)"
   ]
  },
  {
   "cell_type": "markdown",
   "id": "a8eda555",
   "metadata": {},
   "source": [
    "# 46.  prove that two string/number variables to store the same memory location\n",
    "\n",
    "1. strings are immutable and hashable. so store same memory location\n",
    "2. The two strings have the same content and share the same hash value.\n",
    "3. As a result, they are stored at the same memory location -> \"hash collisions\"\n",
    "4. some immutable objects like numbers range between(-5 to 256) and small tuples (not sure)  "
   ]
  },
  {
   "cell_type": "code",
   "execution_count": 150,
   "id": "ff836515",
   "metadata": {},
   "outputs": [
    {
     "name": "stdout",
     "output_type": "stream",
     "text": [
      "2201997862960\n",
      "2201997862960\n",
      "0x200b14ce830\n",
      "0x200b14ce830\n",
      "True\n",
      "True\n",
      "False\n",
      "False\n",
      "False\n",
      "False\n",
      "False\n",
      "\n",
      "True\n",
      "True\n",
      "True\n",
      "True\n",
      "True\n",
      "True\n"
     ]
    }
   ],
   "source": [
    "# immutable datatypes \n",
    "str1 = \"hello\"\n",
    "str2 = \"hello\"\n",
    "n1 = 10\n",
    "n2 = 10\n",
    "t1 = (1,)\n",
    "t2 = (1,)\n",
    "\n",
    "\n",
    "# mutable data types\n",
    "l1 = [1]\n",
    "l2 = [1]\n",
    "s1 = {1}\n",
    "s2 = {1}\n",
    "d1 = {1:\"a\"}\n",
    "d2 = {1:\"a\"}\n",
    "\n",
    "# memory management -> reference identity both id and hex(id()) -> id convert to hex(id())\n",
    "print(id(str1))\n",
    "print(id(str2))\n",
    "print(hex(id(str1)))\n",
    "print(hex(id(str2)))\n",
    "\n",
    "# is ->  checks two variables reference the same object in memory or not\n",
    "print( str1 is str2 )\n",
    "print( n1 is n2 )\n",
    "print( t1 is t2 )\n",
    "print( tu1 is tu2 )\n",
    "print( l1 is l2 )\n",
    "print( s1 is s2 )\n",
    "print( d1 is d2 )\n",
    "print()\n",
    "\n",
    "# == comparison between two variables content is equal or not\n",
    "print( str1 == str2 )\n",
    "print( n1 == n2 )\n",
    "print( t1 == t2 )\n",
    "print( l1 == l2 )\n",
    "print( s1 == s2 )\n",
    "print( d1 == d2 )"
   ]
  },
  {
   "cell_type": "code",
   "execution_count": 156,
   "id": "8ab4dd5e",
   "metadata": {},
   "outputs": [
    {
     "name": "stdout",
     "output_type": "stream",
     "text": [
      "small numbers: True\n",
      "small numbers: True\n",
      "large members: False\n",
      "large members: False\n",
      "Tuples: False\n",
      "Tuples: False\n"
     ]
    }
   ],
   "source": [
    "# some immutable objects like numbers range between(-5 to 256), small tuples  \n",
    "\n",
    "# 1. small numbers (-5 to 256)\n",
    "n1 = -5\n",
    "n2 = -5\n",
    "print(\"small numbers:\", n1 is n2)\n",
    "n3 = 256\n",
    "n4 = 256\n",
    "print(\"small numbers:\", n3 is n4)\n",
    "\n",
    "# 2. large members (from -5 above & 256 above)\n",
    "n5 = 257\n",
    "n6 = 257 \n",
    "print(\"large members:\",n5 is n6)\n",
    "\n",
    "# 3. negative numbers (from -5 above)\n",
    "n7 = -6\n",
    "n8 = -6 \n",
    "print(\"large members:\",n7 is n8)\n",
    "\n",
    "# 4. small tuple some times store same reference\n",
    "t1 = (1,)\n",
    "t2 = (1,)\n",
    "tu1 = (1,2)\n",
    "tu2 = (1,2)\n",
    "print(\"Tuples:\",t1 is t2)\n",
    "print(\"Tuples:\",tu1 is tu2)"
   ]
  },
  {
   "cell_type": "markdown",
   "id": "86aab31f",
   "metadata": {},
   "source": [
    "# 47. check whether a distinct pair of numbers whose product is odd is present in a sequence of integer values."
   ]
  },
  {
   "cell_type": "code",
   "execution_count": 157,
   "id": "dd82b010",
   "metadata": {},
   "outputs": [
    {
     "name": "stdout",
     "output_type": "stream",
     "text": [
      "Distinct pair with odd product in dt1: False\n",
      "Distinct pair with odd product in dt2: True\n",
      "Distinct pair with odd product in dt3: False\n"
     ]
    }
   ],
   "source": [
    "def has_odd_product_pair(sequence):\n",
    "    has_even = False\n",
    "    has_odd = False\n",
    "\n",
    "    for num in sequence:\n",
    "        if num % 2 == 0:\n",
    "            has_even = True\n",
    "        else:\n",
    "            has_odd = True\n",
    "    return has_even and has_odd\n",
    "\n",
    "dt1 = [2, 4, 6, 8]\n",
    "dt2 = [1, 6, 4, 7, 8]\n",
    "dt3 = [1, 3, 5, 7, 9]\n",
    "\n",
    "print(\"Distinct pair with odd product in dt1:\", has_odd_product_pair(dt1))\n",
    "print(\"Distinct pair with odd product in dt2:\", has_odd_product_pair(dt2))\n",
    "print(\"Distinct pair with odd product in dt3:\", has_odd_product_pair(dt3))"
   ]
  },
  {
   "cell_type": "markdown",
   "id": "b1ad9319",
   "metadata": {},
   "source": [
    "# 48. maximum and minimum numbers from a sequence of numbers."
   ]
  },
  {
   "cell_type": "code",
   "execution_count": 162,
   "id": "86b4aa8d",
   "metadata": {},
   "outputs": [
    {
     "name": "stdout",
     "output_type": "stream",
     "text": [
      "max:75,min:-5\n"
     ]
    }
   ],
   "source": [
    "def max_min(data):\n",
    "    max_val = data[0]\n",
    "    min_val = data[0]\n",
    "    for num in data:\n",
    "        if num > max_val:\n",
    "            max_val = num\n",
    "        elif num < min_val:\n",
    "            min_val = num\n",
    "    return f\"max:{max_val},min:{min_val}\"\n",
    "print(max_min([0, 10, 15, 40, -5, 42, 17, 28, 75]))"
   ]
  },
  {
   "cell_type": "markdown",
   "id": "164e3a66",
   "metadata": {},
   "source": [
    "# 49. check a number is divisible by another number.  two integer values."
   ]
  },
  {
   "cell_type": "code",
   "execution_count": 163,
   "id": "ad16fabf",
   "metadata": {},
   "outputs": [
    {
     "name": "stdout",
     "output_type": "stream",
     "text": [
      "True\n",
      "False\n"
     ]
    }
   ],
   "source": [
    "def multiple(m, n):\n",
    "    return True if m % n == 0 else False\n",
    "\n",
    "print(multiple(20, 5))\n",
    "print(multiple(7, 2))"
   ]
  },
  {
   "cell_type": "markdown",
   "id": "b64eaaaa",
   "metadata": {},
   "source": [
    "# 50.  find the location of Python module sources"
   ]
  },
  {
   "cell_type": "code",
   "execution_count": 164,
   "id": "b2a99360",
   "metadata": {},
   "outputs": [
    {
     "name": "stdout",
     "output_type": "stream",
     "text": [
      "Location of Python os module sources:\n",
      "(None, None, ('', '', 7))\n",
      "\n",
      "Location of Python sys module sources:\n",
      "(<_io.TextIOWrapper name='C:\\\\Users\\\\nares\\\\anaconda-new\\\\Lib\\\\datetime.py' mode='r' encoding='utf-8'>, 'C:\\\\Users\\\\nares\\\\anaconda-new\\\\Lib\\\\datetime.py', ('.py', 'r', 1))\n"
     ]
    }
   ],
   "source": [
    "import imp\n",
    "\n",
    "print(\"Location of Python os module sources:\")\n",
    "print(imp.find_module('os'))\n",
    "print(\"\\nLocation of Python sys module sources:\")\n",
    "print(imp.find_module('datetime'))"
   ]
  },
  {
   "cell_type": "markdown",
   "id": "da729392",
   "metadata": {},
   "source": [
    "# 51.  test if a variable is a list, tuple, or set."
   ]
  },
  {
   "cell_type": "code",
   "execution_count": 167,
   "id": "d5127432",
   "metadata": {},
   "outputs": [
    {
     "name": "stdout",
     "output_type": "stream",
     "text": [
      "List\n",
      "Tuple\n",
      "Set\n",
      "Integer\n",
      "String\n",
      "None\n",
      "Dict\n"
     ]
    }
   ],
   "source": [
    "def fun(var):\n",
    "    if isinstance(var,int):\n",
    "        print(\"Integer\")\n",
    "    elif isinstance(var,list):\n",
    "        print(\"List\")\n",
    "    elif isinstance(var,set):\n",
    "        print(\"Set\")\n",
    "    elif isinstance(var,tuple):\n",
    "        print(\"Tuple\")\n",
    "    elif isinstance(var,dict):\n",
    "        print(\"Dict\")\n",
    "    elif isinstance(var,str):\n",
    "        print(\"String\")\n",
    "    else:\n",
    "        print(None)\n",
    "\n",
    "fun([1,2,3,4])\n",
    "fun((1,2,3,4))\n",
    "fun({1,2,3,4})\n",
    "fun(1)\n",
    "fun(\"hi\")\n",
    "fun(2.10)\n",
    "fun({1:\"a\",2:\"b\"})"
   ]
  },
  {
   "cell_type": "code",
   "execution_count": 168,
   "id": "d103b4e8",
   "metadata": {},
   "outputs": [
    {
     "name": "stdout",
     "output_type": "stream",
     "text": [
      "x is a tuple\n"
     ]
    }
   ],
   "source": [
    "x = ['a', 'b', 'c', 'd']\n",
    "#x = {'a', 'b', 'c', 'd'}\n",
    "x = ('tuple', False, 3.2, 1)\n",
    "if type(x) is list:\n",
    "    print('x is a list')\n",
    "elif type(x) is set:\n",
    "    print('x is a set')\n",
    "elif type(x) is tuple:\n",
    "    print('x is a tuple')    \n",
    "else:\n",
    "    print('Neither a list or a set or a tuple.')"
   ]
  },
  {
   "cell_type": "markdown",
   "id": "fd93ff4d",
   "metadata": {},
   "source": [
    "# 52. Python shell is executing in 32-bit or 64-bit mode on the operating system"
   ]
  },
  {
   "cell_type": "code",
   "execution_count": 169,
   "id": "f81e36e3",
   "metadata": {},
   "outputs": [
    {
     "name": "stdout",
     "output_type": "stream",
     "text": [
      "64\n"
     ]
    }
   ],
   "source": [
    "import struct\n",
    "\n",
    "print(struct.calcsize(\"P\") * 8)"
   ]
  },
  {
   "cell_type": "markdown",
   "id": "9d54c16e",
   "metadata": {},
   "source": [
    "# 53. extract a single key-value pair from a dictionary into variables."
   ]
  },
  {
   "cell_type": "code",
   "execution_count": 172,
   "id": "d6e6605e",
   "metadata": {},
   "outputs": [
    {
     "name": "stdout",
     "output_type": "stream",
     "text": [
      "Red\n",
      "Green\n"
     ]
    }
   ],
   "source": [
    "d = {'Red': 'Green'}\n",
    "(c1, c2), = d.items()\n",
    "print(c1)\n",
    "print(c2)"
   ]
  },
  {
   "cell_type": "code",
   "execution_count": 173,
   "id": "3503c13d",
   "metadata": {},
   "outputs": [
    {
     "name": "stdout",
     "output_type": "stream",
     "text": [
      "Key: city\n",
      "Value: Wonderland\n"
     ]
    }
   ],
   "source": [
    "# Sample dictionary\n",
    "sample_dict = {'name': 'Alice', 'age': 30, 'city': 'Wonderland'}\n",
    "\n",
    "# Extract a single key-value pair into variables\n",
    "key, value = sample_dict.popitem()\n",
    "\n",
    "# Print the extracted key and value\n",
    "print(\"Key:\", key)\n",
    "print(\"Value:\", value)"
   ]
  },
  {
   "cell_type": "markdown",
   "id": "eef53c6d",
   "metadata": {},
   "source": [
    "# 54. input() method single line "
   ]
  },
  {
   "cell_type": "code",
   "execution_count": 61,
   "id": "e8ef7236",
   "metadata": {},
   "outputs": [
    {
     "name": "stdout",
     "output_type": "stream",
     "text": [
      "1 2\n",
      "Integers: 1 2\n",
      "1 2\n",
      "Strings: 1 2\n"
     ]
    }
   ],
   "source": [
    "x, y = map(int, input().split())\n",
    "print(\"Integers:\",x,y)\n",
    "\n",
    "x, y = map(str, input().split())\n",
    "print(\"Strings:\",x,y)"
   ]
  },
  {
   "cell_type": "code",
   "execution_count": 62,
   "id": "9f998312",
   "metadata": {},
   "outputs": [
    {
     "name": "stdout",
     "output_type": "stream",
     "text": [
      "list integers:\n",
      "1 2 3 4 5 6\n",
      "[1, 2, 3, 4, 5, 6]\n"
     ]
    }
   ],
   "source": [
    "print(\"List integers:\")\n",
    "nums = list(map(int, input().split()))\n",
    "ls = []\n",
    "ls.extend(nums)\n",
    "print(ls)"
   ]
  },
  {
   "cell_type": "code",
   "execution_count": 63,
   "id": "4fd87f7a",
   "metadata": {},
   "outputs": [
    {
     "name": "stdout",
     "output_type": "stream",
     "text": [
      "set integers:\n",
      "1 2 3 4 5\n",
      "{1, 2, 3, 4, 5}\n"
     ]
    }
   ],
   "source": [
    "print(\"Set integers:\")\n",
    "nums = set(map(int, input().split()))\n",
    "s = set()\n",
    "s.update(nums)\n",
    "print(s)"
   ]
  },
  {
   "cell_type": "code",
   "execution_count": 71,
   "id": "a718b497",
   "metadata": {},
   "outputs": [
    {
     "name": "stdout",
     "output_type": "stream",
     "text": [
      "Tuple integers:\n",
      "hi hello how are you\n",
      "('hi', 'hello', 'how', 'are', 'you')\n"
     ]
    }
   ],
   "source": [
    "print(\"Tuple integers:\")\n",
    "nums = tuple(map(str, input().split()))\n",
    "l = []\n",
    "l.extend(nums)\n",
    "print(tuple(l))"
   ]
  },
  {
   "cell_type": "code",
   "execution_count": 70,
   "id": "d35b81b6",
   "metadata": {},
   "outputs": [
    {
     "name": "stdout",
     "output_type": "stream",
     "text": [
      "\"a\":1 \"b\":2\n",
      "{'\"a\"': '1', '\"b\"': '2'}\n"
     ]
    }
   ],
   "source": [
    "print(\"Dict Values:\")\n",
    "val = dict(i.split(\":\") for i in input().split())\n",
    "d = {}  \n",
    "d.update(val)\n",
    "print(d)"
   ]
  },
  {
   "cell_type": "markdown",
   "id": "00691c16",
   "metadata": {},
   "source": [
    "# 55.  add leading zeroes to a string."
   ]
  },
  {
   "cell_type": "code",
   "execution_count": 178,
   "id": "c129c806",
   "metadata": {},
   "outputs": [
    {
     "name": "stdout",
     "output_type": "stream",
     "text": [
      "Added trailing zeros:\n",
      "122.2200\n",
      "122.220000\n",
      "\n",
      "Added leading zeros:\n",
      "00122.22\n",
      "0000122.22\n"
     ]
    }
   ],
   "source": [
    "str1='122.22'\n",
    "print(\"Added trailing zeros:\")\n",
    "str1 = str1.ljust(8, '0')\n",
    "print(str1)\n",
    "str1 = str1.ljust(10, '0')\n",
    "print(str1)\n",
    "\n",
    "print(\"\\nAdded leading zeros:\")\n",
    "str1='122.22'\n",
    "str1 = str1.rjust(8, '0')\n",
    "print(str1)\n",
    "str1 = str1.rjust(10, '0')\n",
    "print(str1)"
   ]
  },
  {
   "cell_type": "markdown",
   "id": "617b734a",
   "metadata": {},
   "source": [
    "# 56. largest and smallest integers, longs, and floats."
   ]
  },
  {
   "cell_type": "code",
   "execution_count": 181,
   "id": "400fd429",
   "metadata": {},
   "outputs": [
    {
     "name": "stdout",
     "output_type": "stream",
     "text": [
      "Float value information:  sys.float_info(max=1.7976931348623157e+308, max_exp=1024, max_10_exp=308, min=2.2250738585072014e-308, min_exp=-1021, min_10_exp=-307, dig=15, mant_dig=53, epsilon=2.220446049250313e-16, radix=2, rounds=1)\n",
      "\n",
      "Integer value information:  sys.int_info(bits_per_digit=30, sizeof_digit=4, default_max_str_digits=4300, str_digits_check_threshold=640)\n",
      "\n",
      "Maximum size of an integer:  9223372036854775807\n"
     ]
    }
   ],
   "source": [
    "import sys\n",
    "print(\"Float value information: \",sys.float_info)\n",
    "print(\"\\nInteger value information: \",sys.int_info)\n",
    "print(\"\\nMaximum size of an integer: \",sys.maxsize)"
   ]
  },
  {
   "cell_type": "markdown",
   "id": "ddf60a5a",
   "metadata": {},
   "source": [
    "# 57.  empty a variable without destroying it."
   ]
  },
  {
   "cell_type": "code",
   "execution_count": 182,
   "id": "9b5e11db",
   "metadata": {},
   "outputs": [
    {
     "name": "stdout",
     "output_type": "stream",
     "text": [
      "0\n",
      "{}\n",
      "[]\n",
      "()\n"
     ]
    }
   ],
   "source": [
    "n = 20\n",
    "d = {\"x\":200}\n",
    "l = [1,3,5]\n",
    "t= (5,7,8)\n",
    "print(type(n)())\n",
    "print(type(d)())\n",
    "print(type(l)())\n",
    "print(type(t)())"
   ]
  },
  {
   "cell_type": "markdown",
   "id": "7e990ae7",
   "metadata": {},
   "source": [
    "# 58. specified string and limit the length of a string."
   ]
  },
  {
   "cell_type": "code",
   "execution_count": 183,
   "id": "68efc0a0",
   "metadata": {},
   "outputs": [
    {
     "name": "stdout",
     "output_type": "stream",
     "text": [
      "Original string: 1234567890\n",
      "123456\n",
      "123456789\n",
      "1234567890\n"
     ]
    }
   ],
   "source": [
    "str_num = \"1234567890\"\n",
    "print(\"Original string:\",str_num)\n",
    "print('%.6s' % str_num)\n",
    "print('%.9s' % str_num)\n",
    "print('%.10s' % str_num)"
   ]
  },
  {
   "cell_type": "markdown",
   "id": "74f88096",
   "metadata": {},
   "source": [
    "# 59. list contain duplicates or not?"
   ]
  },
  {
   "cell_type": "code",
   "execution_count": 185,
   "id": "3e22fefd",
   "metadata": {},
   "outputs": [
    {
     "name": "stdout",
     "output_type": "stream",
     "text": [
      "True\n",
      "False\n"
     ]
    }
   ],
   "source": [
    "def test_distinct(data):\n",
    "    if len(data) == len(set(data)):\n",
    "        return True\n",
    "    else:\n",
    "        return False;\n",
    "print(test_distinct([1,5,7,9]))\n",
    "print(test_distinct([2,4,5,5,7,9]))"
   ]
  },
  {
   "cell_type": "markdown",
   "id": "f3407516",
   "metadata": {},
   "source": [
    "# 60. removes and prints every third number from a list of numbers until the list is empty."
   ]
  },
  {
   "cell_type": "code",
   "execution_count": 193,
   "id": "f5629c62",
   "metadata": {},
   "outputs": [
    {
     "name": "stdout",
     "output_type": "stream",
     "text": [
      "30\n",
      "60\n",
      "90\n",
      "40\n",
      "80\n",
      "50\n",
      "20\n",
      "70\n",
      "10\n"
     ]
    }
   ],
   "source": [
    "def fun(l):\n",
    "    for i in range(len(l)):\n",
    "        pos = 3-1\n",
    "        idx = 0\n",
    "        length = len(l)\n",
    "        while length > 0:\n",
    "            idx = (pos+idx)%length\n",
    "            print(l.pop(idx))\n",
    "            length -= 1\n",
    "\n",
    "lst = [10,20,30,40,50,60,70,80,90]\n",
    "fun(lst)"
   ]
  },
  {
   "cell_type": "code",
   "execution_count": 195,
   "id": "e12d79d2",
   "metadata": {},
   "outputs": [
    {
     "name": "stdout",
     "output_type": "stream",
     "text": [
      "30\n",
      "40\n",
      "50\n",
      "60\n",
      "70\n",
      "80\n",
      "90\n",
      "20\n",
      "10\n",
      "The list is empty.\n"
     ]
    }
   ],
   "source": [
    "lst = [10, 20, 30, 40, 50, 60, 70, 80, 90]\n",
    "\n",
    "while len(lst) > 0:\n",
    "    index = 2  # Index for the third number (0-based)\n",
    "    if len(lst) <= index:\n",
    "        index = len(lst) - 1  # Adjust the index if it's out of range\n",
    "    number = lst.pop(index)  # Remove and get the third number\n",
    "    print(number)\n",
    "print(\"The list is empty.\")"
   ]
  },
  {
   "cell_type": "markdown",
   "id": "95ad3cbc",
   "metadata": {},
   "source": [
    "# 61. sum of three elements (each from an array) from three arrays is equal to a target value"
   ]
  },
  {
   "cell_type": "code",
   "execution_count": 5,
   "id": "25430503",
   "metadata": {},
   "outputs": [
    {
     "name": "stdout",
     "output_type": "stream",
     "text": [
      "True\n",
      "False\n",
      "False\n"
     ]
    }
   ],
   "source": [
    "X = [10, 20, 20, 20]\n",
    "Y = [10, 20, 30, 40]\n",
    "Z = [10, 30, 40, 20]\n",
    "target = 70\n",
    "\n",
    "def fun(lst,total):\n",
    "    if sum(i for i in lst)==total:\n",
    "        return True\n",
    "    else:\n",
    "        return False\n",
    "print(fun(X,target))\n",
    "print(fun(Y,target))\n",
    "print(fun(Z,target))"
   ]
  },
  {
   "cell_type": "code",
   "execution_count": 7,
   "id": "80034306",
   "metadata": {},
   "outputs": [
    {
     "name": "stdout",
     "output_type": "stream",
     "text": [
      "True\n",
      "False\n",
      "False\n"
     ]
    }
   ],
   "source": [
    "X = [10, 20, 20, 20]\n",
    "Y = [10, 20, 30, 40]\n",
    "Z = [10, 30, 40, 20]\n",
    "target = 70\n",
    "\n",
    "def fun(lst,total):\n",
    "    c = 0\n",
    "    for i in lst:\n",
    "        c=c+i\n",
    "    if c==total:\n",
    "        return True\n",
    "    return False\n",
    "print(fun(X,target))\n",
    "print(fun(Y,target))\n",
    "print(fun(Z,target))"
   ]
  },
  {
   "cell_type": "markdown",
   "id": "70655f89",
   "metadata": {},
   "source": [
    "# 62.  add two positive integers without using the '+' operator & sum. \n",
    "\n",
    "1. a= 2 , b =10\n",
    "First Iteration (a=2,b=10) \n",
    "2. b!=0: \n",
    "   10!=0\n",
    "3. data=a&b (AND Table)\n",
    "          8421\n",
    "          0010   (a) = 2\n",
    "        & 1010   (b) = 10\n",
    "        -------\n",
    "   data= 0010  = 2\n",
    "4. a = a^b  (XOR Table)\n",
    "          0010   (a) = 2\n",
    "        ^ 1010   (b) = 10\n",
    "        -------\n",
    "        a= 1000 = 8\n",
    "5. b = data <<1 (one position left) \n",
    "     data =2\n",
    "     0010   << 1\n",
    "     ----\n",
    "    b= 0100 = 4\n",
    "Second Iteration (a=8,b=4)\n",
    "6. b!=0:\n",
    "   4!=0\n",
    "7. data = a&b (And table)\n",
    "          1000 (a) = 8\n",
    "        & 0100 (b) = 4\n",
    "        ----------\n",
    "   data=  0000  = 0\n",
    "8. a = a^b (XOR table)\n",
    "          1000   (a) = 8\n",
    "        ^ 0100   (b) = 4\n",
    "        -------\n",
    "        a=1100   = 12\n",
    "9. b = data <<1 (one position left) \n",
    "     data = 0\n",
    "     0000  << 1\n",
    "     ----\n",
    "    b= 0000 = 0\n",
    "Third Iteration\n",
    "10. b!=0 (b=0 failed-> exit the loop and print a=12)  "
   ]
  },
  {
   "cell_type": "code",
   "execution_count": 11,
   "id": "1d571ae8",
   "metadata": {},
   "outputs": [
    {
     "name": "stdout",
     "output_type": "stream",
     "text": [
      "4\n",
      "0\n",
      "12\n"
     ]
    }
   ],
   "source": [
    "def add_without_plus_operator(a, b):\n",
    "    while b != 0:\n",
    "        data = a & b\n",
    "        a = a ^ b\n",
    "        b = data << 1\n",
    "    return a\n",
    "print(add_without_plus_operator(2, 10))\n",
    "print(add_without_plus_operator(-20, 10))\n",
    "print(add_without_plus_operator(-10, -20))"
   ]
  },
  {
   "cell_type": "markdown",
   "id": "42cc5da8",
   "metadata": {},
   "source": [
    "# 63. check the priority of the four operators (+, -, *, /).\n",
    "\n",
    "1. 3*4 = 12\n",
    "2. 12/2 = 6.0\n",
    "3. 2+6.0 = 8.0 "
   ]
  },
  {
   "cell_type": "code",
   "execution_count": 16,
   "id": "af8ba731",
   "metadata": {},
   "outputs": [
    {
     "name": "stdout",
     "output_type": "stream",
     "text": [
      "8.0\n"
     ]
    }
   ],
   "source": [
    "result = 2 + 3 * 4 / 2\n",
    "print(result)"
   ]
  },
  {
   "cell_type": "markdown",
   "id": "89bcee2f",
   "metadata": {},
   "source": [
    "# 64.find the median of values\n",
    "\n",
    "1. odd length of list (easy to take middle value) = 3 (15,10,20) = 15\n",
    "2. but even length of list (hard to take so ) = 4 = (10,20,30,40) = 25\n",
    "\n",
    "avg = total sum of values / length of values\n",
    "median = \n",
    "1. Sort the data.\n",
    "2. If the dataset has an odd number of values, the median is the middle value.\n",
    "3. If the dataset has an even number of values, the median is the average of the two middle values."
   ]
  },
  {
   "cell_type": "code",
   "execution_count": 17,
   "id": "c45445b6",
   "metadata": {},
   "outputs": [
    {
     "name": "stdout",
     "output_type": "stream",
     "text": [
      "Median: 25\n"
     ]
    }
   ],
   "source": [
    "#odd length example\n",
    "num1 = 25\n",
    "num2 = 15\n",
    "num3 = 35\n",
    "\n",
    "numbers = [num1, num2, num3]\n",
    "numbers.sort()\n",
    "\n",
    "# Check if the list has an odd or even number of elements\n",
    "if len(numbers) % 2 == 1:  # Odd number of elements\n",
    "    median = numbers[len(numbers) // 2]\n",
    "else:  # Even number of elements\n",
    "    mid1 = numbers[(len(numbers) // 2) - 1]\n",
    "    mid2 = numbers[len(numbers) // 2]\n",
    "    median = (mid1 + mid2) / 2\n",
    "\n",
    "print(\"Median:\", median)"
   ]
  },
  {
   "cell_type": "code",
   "execution_count": 19,
   "id": "b275c78d",
   "metadata": {},
   "outputs": [
    {
     "name": "stdout",
     "output_type": "stream",
     "text": [
      "33\n",
      "43\n",
      "Median: 38.0\n"
     ]
    }
   ],
   "source": [
    "# even length example\n",
    "num1 = 11\n",
    "num2 = 22\n",
    "num3 = 33\n",
    "num4 = 43\n",
    "num5 = 55\n",
    "num6 = 99\n",
    "\n",
    "ls = [num1, num2, num3, num4, num5, num6]\n",
    "ls.sort()\n",
    "n = len(ls)\n",
    "if n % 2 == 1:  # Odd number of elements (odd length of elements)\n",
    "    median = ls[n // 2]\n",
    "else:  # Even number of elements (even length of lements)\n",
    "    mid1 = ls[(n // 2) - 1]\n",
    "    mid2 = ls[n // 2]\n",
    "    median = (mid1 + mid2) / 2\n",
    "\n",
    "print(\"Median:\", median)"
   ]
  },
  {
   "cell_type": "markdown",
   "id": "a15b5e1e",
   "metadata": {},
   "source": [
    "# 65.  find the number of notes (Samples of notes: 10, 20, 50, 100, 200, 500, 2000) against an amount.\n",
    "1.1000rs 2. 880rs 3. 1250rs 4, 2500rs 5. 2750rs 6. 4320rs "
   ]
  },
  {
   "cell_type": "code",
   "execution_count": 29,
   "id": "3f247f3a",
   "metadata": {},
   "outputs": [
    {
     "name": "stdout",
     "output_type": "stream",
     "text": [
      "Amount: 880\n",
      "  500 notes: 1\n",
      "  200 notes: 1\n",
      "  100 notes: 1\n",
      "  50 notes: 1\n",
      "  20 notes: 1\n",
      "  10 notes: 1\n",
      "Amount: 880\n",
      "  500 notes: 1\n",
      "  200 notes: 1\n",
      "  100 notes: 1\n",
      "  50 notes: 1\n",
      "  20 notes: 1\n",
      "  10 notes: 1\n",
      "Amount: 1250\n",
      "  500 notes: 2\n",
      "  200 notes: 1\n",
      "  50 notes: 1\n",
      "Amount: 2500\n",
      "  2000 notes: 1\n",
      "  500 notes: 1\n"
     ]
    }
   ],
   "source": [
    "def count_notes(amount):\n",
    "    notes = [2000, 500, 200, 100, 50, 20, 10]\n",
    "    note_count = {}\n",
    "    for note in notes:\n",
    "        if amount >= note:\n",
    "            count = amount // note  # Calculate the number of notes\n",
    "            note_count[note] = count  # Store the count in the dictionary\n",
    "            amount = amount-count*note   # Update the remaining amount\n",
    "    return note_count\n",
    "\n",
    "def num_notes(cash):\n",
    "    note_count = count_notes(cash)\n",
    "    print(\"Amount:\", cash)\n",
    "    for note, count in note_count.items():\n",
    "        print(\"  {} notes: {}\".format(note, count))\n",
    "num_notes(880)\n",
    "num_notes(880)\n",
    "num_notes(1250)\n",
    "num_notes(2500)"
   ]
  },
  {
   "cell_type": "markdown",
   "id": "ba4ff320",
   "metadata": {},
   "source": [
    "# 66. digits are missing in two lists"
   ]
  },
  {
   "cell_type": "code",
   "execution_count": 35,
   "id": "12ccd3e7",
   "metadata": {},
   "outputs": [
    {
     "name": "stdout",
     "output_type": "stream",
     "text": [
      "[0, 3, 5, 7, 9]\n"
     ]
    }
   ],
   "source": [
    "def fun(l1,l2):\n",
    "    ls1 = set(i for i in l1)\n",
    "    ls2 = set(j for j in l2)\n",
    "    return list(ls1^ls2)\n",
    "lst1 = [1,2,3,4,5,6,7,8,9]\n",
    "lst2 = [1,2,4,6,8,0]\n",
    "print(fun(lst1,lst2))"
   ]
  },
  {
   "cell_type": "code",
   "execution_count": 44,
   "id": "c0d6cd22",
   "metadata": {},
   "outputs": [
    {
     "name": "stdout",
     "output_type": "stream",
     "text": [
      "[3, 5, 7, 9]\n"
     ]
    }
   ],
   "source": [
    "def fun(l1,l2):\n",
    "    ls = []\n",
    "    for i in l1:\n",
    "        if i not in l2:\n",
    "            ls.append(i)\n",
    "    return ls\n",
    "lst1 = [1,2,3,4,5,6,7,8,9]\n",
    "lst2 = [1,2,4,6,8,0]\n",
    "print(fun(lst1,lst2))"
   ]
  },
  {
   "cell_type": "code",
   "execution_count": 43,
   "id": "c1df4011",
   "metadata": {},
   "outputs": [
    {
     "name": "stdout",
     "output_type": "stream",
     "text": [
      "Output: [3, 5, 7, 9, 0]\n"
     ]
    }
   ],
   "source": [
    "lst1 = [1, 2, 3, 4, 5, 6, 7, 8, 9]\n",
    "lst2 = [1, 2, 4, 6, 8, 0]\n",
    "\n",
    "l1 = []\n",
    "l2 = []\n",
    "\n",
    "for item in lst1:\n",
    "    if item not in lst2:\n",
    "        l1.append(item)\n",
    "\n",
    "for item in lst2:\n",
    "    if item not in lst1:\n",
    "        l2.append(item)\n",
    "output = l1 + l2\n",
    "print(\"Output:\", output)"
   ]
  },
  {
   "cell_type": "markdown",
   "id": "d3444b10",
   "metadata": {},
   "source": [
    "# 67. bucket have 10 balls , i want know heighest weight of ball?"
   ]
  },
  {
   "cell_type": "code",
   "execution_count": 45,
   "id": "5633effd",
   "metadata": {},
   "outputs": [
    {
     "name": "stdout",
     "output_type": "stream",
     "text": [
      "The heaviest ball weighs: 151\n"
     ]
    }
   ],
   "source": [
    "max_weight = 0\n",
    "\n",
    "balls = [56, 72, 89, 58, 151, 133, 136, 137, 139, 138]\n",
    "\n",
    "for w in balls:\n",
    "    if w > max_weight:\n",
    "        max_weight = w\n",
    "print(\"The heaviest ball weighs:\", max_weight)"
   ]
  },
  {
   "cell_type": "code",
   "execution_count": 47,
   "id": "0063ed41",
   "metadata": {},
   "outputs": [
    {
     "name": "stdout",
     "output_type": "stream",
     "text": [
      "second heviest ball: 139\n"
     ]
    }
   ],
   "source": [
    "# find second highest weight ball\n",
    "f_max = 0\n",
    "s_max = 0\n",
    "\n",
    "balls = [56, 72, 89, 58, 151, 133, 136, 137, 139, 138]\n",
    "\n",
    "for w in balls:\n",
    "    if w > f_max:\n",
    "        s_max = f_max\n",
    "        f_max = w\n",
    "    elif w > s_max and w!=f_max:\n",
    "        s_max = w\n",
    "print(\"second heviest ball:\",s_max)"
   ]
  },
  {
   "cell_type": "markdown",
   "id": "bcb618f9",
   "metadata": {},
   "source": [
    "# 68. longest_Common_Prefix "
   ]
  },
  {
   "cell_type": "code",
   "execution_count": 75,
   "id": "e31b405f",
   "metadata": {},
   "outputs": [
    {
     "name": "stdout",
     "output_type": "stream",
     "text": [
      "abc\n",
      "w3r\n",
      "P\n",
      "\n"
     ]
    }
   ],
   "source": [
    "def longest_Common_Prefix(strs):\n",
    "    \n",
    "    shortest_str = min(strs, key=len)\n",
    "    \n",
    "    for ind, char in enumerate(shortest_str):\n",
    "        for string in strs:\n",
    "            if string[ind] !=char:\n",
    "                return shortest_str[:ind]\n",
    "    return shortest_str\n",
    "\n",
    "print(longest_Common_Prefix([\"abcdefgh\",\"abcefgh\"]))\n",
    "print(longest_Common_Prefix([\"w3r\",\"w3resource\"]))\n",
    "print(longest_Common_Prefix([\"Python\",\"PHP\", \"Perl\"]))\n",
    "print(longest_Common_Prefix([\"Python\",\"PHP\", \"Java\"]))"
   ]
  },
  {
   "cell_type": "markdown",
   "id": "5fecba23",
   "metadata": {},
   "source": [
    "# 69. positive integer and creates an N x N square filled with the integer N. Display the N x N square."
   ]
  },
  {
   "cell_type": "code",
   "execution_count": 79,
   "id": "16373eda",
   "metadata": {},
   "outputs": [
    {
     "name": "stdout",
     "output_type": "stream",
     "text": [
      "[[5, 5, 5, 5, 5], [5, 5, 5, 5, 5], [5, 5, 5, 5, 5], [5, 5, 5, 5, 5], [5, 5, 5, 5, 5]]\n",
      "[[4, 4, 4, 4], [4, 4, 4, 4], [4, 4, 4, 4], [4, 4, 4, 4]]\n",
      "[[3, 3, 3], [3, 3, 3], [3, 3, 3]]\n",
      "[[2, 2], [2, 2]]\n",
      "[[1]]\n"
     ]
    }
   ],
   "source": [
    "def fun(n):\n",
    "    ls = []\n",
    "    for i in range(n):\n",
    "        ls.append([n]*n)\n",
    "    return ls\n",
    "print(fun(5))\n",
    "print(fun(4))\n",
    "print(fun(3))\n",
    "print(fun(2))\n",
    "print(fun(1))"
   ]
  },
  {
   "cell_type": "code",
   "execution_count": null,
   "id": "db353fe4",
   "metadata": {},
   "outputs": [],
   "source": []
  },
  {
   "cell_type": "code",
   "execution_count": null,
   "id": "8ff67a99",
   "metadata": {},
   "outputs": [],
   "source": []
  },
  {
   "cell_type": "code",
   "execution_count": null,
   "id": "738b63d5",
   "metadata": {},
   "outputs": [],
   "source": []
  },
  {
   "cell_type": "code",
   "execution_count": null,
   "id": "1ed12e60",
   "metadata": {},
   "outputs": [],
   "source": []
  },
  {
   "cell_type": "code",
   "execution_count": null,
   "id": "2cc3d650",
   "metadata": {},
   "outputs": [],
   "source": []
  },
  {
   "cell_type": "code",
   "execution_count": null,
   "id": "b5ed7cc0",
   "metadata": {},
   "outputs": [],
   "source": []
  },
  {
   "cell_type": "code",
   "execution_count": null,
   "id": "4421e0ea",
   "metadata": {},
   "outputs": [],
   "source": []
  },
  {
   "cell_type": "code",
   "execution_count": null,
   "id": "83f4bbb7",
   "metadata": {},
   "outputs": [],
   "source": []
  },
  {
   "cell_type": "code",
   "execution_count": null,
   "id": "96966ee6",
   "metadata": {},
   "outputs": [],
   "source": []
  },
  {
   "cell_type": "code",
   "execution_count": null,
   "id": "a0e6f7a9",
   "metadata": {},
   "outputs": [],
   "source": []
  },
  {
   "cell_type": "code",
   "execution_count": null,
   "id": "644720c7",
   "metadata": {},
   "outputs": [],
   "source": []
  },
  {
   "cell_type": "code",
   "execution_count": null,
   "id": "36465d5f",
   "metadata": {},
   "outputs": [],
   "source": []
  },
  {
   "cell_type": "code",
   "execution_count": null,
   "id": "355b4dae",
   "metadata": {},
   "outputs": [],
   "source": []
  },
  {
   "cell_type": "code",
   "execution_count": null,
   "id": "eb439233",
   "metadata": {},
   "outputs": [],
   "source": []
  },
  {
   "cell_type": "code",
   "execution_count": null,
   "id": "7b8f0f4d",
   "metadata": {},
   "outputs": [],
   "source": []
  },
  {
   "cell_type": "code",
   "execution_count": null,
   "id": "daef1d27",
   "metadata": {},
   "outputs": [],
   "source": []
  },
  {
   "cell_type": "code",
   "execution_count": null,
   "id": "c8943438",
   "metadata": {},
   "outputs": [],
   "source": []
  },
  {
   "cell_type": "code",
   "execution_count": null,
   "id": "7e7764ef",
   "metadata": {},
   "outputs": [],
   "source": []
  },
  {
   "cell_type": "code",
   "execution_count": null,
   "id": "561a7b22",
   "metadata": {},
   "outputs": [],
   "source": []
  },
  {
   "cell_type": "code",
   "execution_count": null,
   "id": "af34ff8f",
   "metadata": {},
   "outputs": [],
   "source": []
  },
  {
   "cell_type": "code",
   "execution_count": null,
   "id": "f0200766",
   "metadata": {},
   "outputs": [],
   "source": []
  },
  {
   "cell_type": "code",
   "execution_count": null,
   "id": "4cbcd5fc",
   "metadata": {},
   "outputs": [],
   "source": []
  },
  {
   "cell_type": "code",
   "execution_count": null,
   "id": "934349e7",
   "metadata": {},
   "outputs": [],
   "source": []
  },
  {
   "cell_type": "code",
   "execution_count": null,
   "id": "22a3f95d",
   "metadata": {},
   "outputs": [],
   "source": []
  },
  {
   "cell_type": "code",
   "execution_count": null,
   "id": "9cce639f",
   "metadata": {},
   "outputs": [],
   "source": []
  },
  {
   "cell_type": "code",
   "execution_count": null,
   "id": "cc97dec4",
   "metadata": {},
   "outputs": [],
   "source": []
  },
  {
   "cell_type": "code",
   "execution_count": null,
   "id": "8005d40d",
   "metadata": {},
   "outputs": [],
   "source": []
  },
  {
   "cell_type": "code",
   "execution_count": null,
   "id": "0a065293",
   "metadata": {},
   "outputs": [],
   "source": []
  },
  {
   "cell_type": "code",
   "execution_count": null,
   "id": "70c2f08b",
   "metadata": {},
   "outputs": [],
   "source": []
  },
  {
   "cell_type": "code",
   "execution_count": null,
   "id": "7a34d758",
   "metadata": {},
   "outputs": [],
   "source": []
  },
  {
   "cell_type": "code",
   "execution_count": null,
   "id": "9dd87a44",
   "metadata": {},
   "outputs": [],
   "source": []
  },
  {
   "cell_type": "code",
   "execution_count": null,
   "id": "c7c84b20",
   "metadata": {},
   "outputs": [],
   "source": []
  },
  {
   "cell_type": "code",
   "execution_count": null,
   "id": "046a9b51",
   "metadata": {},
   "outputs": [],
   "source": []
  },
  {
   "cell_type": "code",
   "execution_count": null,
   "id": "e8f26cd6",
   "metadata": {},
   "outputs": [],
   "source": []
  }
 ],
 "metadata": {
  "kernelspec": {
   "display_name": "Python 3 (ipykernel)",
   "language": "python",
   "name": "python3"
  },
  "language_info": {
   "codemirror_mode": {
    "name": "ipython",
    "version": 3
   },
   "file_extension": ".py",
   "mimetype": "text/x-python",
   "name": "python",
   "nbconvert_exporter": "python",
   "pygments_lexer": "ipython3",
   "version": "3.11.5"
  }
 },
 "nbformat": 4,
 "nbformat_minor": 5
}
