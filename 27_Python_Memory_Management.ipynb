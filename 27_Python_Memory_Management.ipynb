{
 "cells": [
  {
   "cell_type": "markdown",
   "id": "61992415",
   "metadata": {},
   "source": [
    "# 1. Python Heap Space\n",
    "\n",
    "private heap space\" refers to the area of memory that is allocated and managed by Python's memory manager for storing Python objects. It is separate from the memory managed by the operating system and is used to hold objects like integers, strings, lists, dictionaries, and custom classes. Here are some key points and examples related to Python's private heap space:\n",
    "\n",
    "1. Object Storage: \n",
    "   In Python, all objects, such as variables, data structures, and custom objects, are stored in the private heap space. \n",
    "   When you create a Python object, it is allocated memory in the private heap.\n",
    "\n",
    "2. Dynamic Memory Allocation: \n",
    "   Python manages memory dynamically, allocating and deallocating memory as needed. This means that the size and memory\n",
    "   requirements of Python objects can change during the execution of a program.\n",
    "\n",
    "3. Reference Counting: \n",
    "   Each object in the private heap space has a reference count associated with it. \n",
    "   This reference count keeps track of how many references there are to the object. \n",
    "   When the reference count drops to zero, it means the object is no longer accessible, and Python's memory manager can   safely deallocate the memory."
   ]
  },
  {
   "cell_type": "code",
   "execution_count": 1,
   "id": "02609399",
   "metadata": {},
   "outputs": [],
   "source": [
    "# Example 1: Creating variables and objects\n",
    "x = 42  # Allocates memory for an integer object with the value 42\n",
    "name = \"Alice\"  # Allocates memory for a string object with the value \"Alice\"\n",
    "my_list = [1, 2, 3]  # Allocates memory for a list object\n",
    "\n",
    "# Example 2: Dynamic memory allocation\n",
    "my_list.append(4)  # Dynamically allocates memory for a new element (4) in the list\n",
    "\n",
    "# Example 3: Reference counting\n",
    "a = [1, 2, 3]  # Allocates memory for a list object\n",
    "b = a  # Both a and b reference the same list in memory\n",
    "del a  # Decrements the reference count, but the list is still in memory\n",
    "del b  # Now the reference count drops to zero, and the list is deallocated"
   ]
  },
  {
   "cell_type": "markdown",
   "id": "cd1474ea",
   "metadata": {},
   "source": [
    "# 2. Cyclic Garbage Collection \n",
    "\n",
    "Cyclic garbage collection in Python is a mechanism to automatically detect and collect objects involved in circular references (cycles) that are no longer reachable by the program. Circular references can occur when two or more objects reference each other, causing their reference counts to never drop to zero, making them candidates for automatic garbage collection. Here's an example to illustrate cyclic garbage collection:"
   ]
  },
  {
   "cell_type": "code",
   "execution_count": 2,
   "id": "10d78115",
   "metadata": {},
   "outputs": [
    {
     "name": "stdout",
     "output_type": "stream",
     "text": [
      "Garbage collected: 3\n"
     ]
    }
   ],
   "source": [
    "import gc\n",
    "\n",
    "class Node:\n",
    "    def __init__(self, data):\n",
    "        self.data = data\n",
    "        self.next = None\n",
    "\n",
    "    def __del__(self):\n",
    "        print(f\"Deleting Node with data: {self.data}\")\n",
    "\n",
    "# Create a circular reference between two Node objects\n",
    "node1 = Node(1)\n",
    "node2 = Node(2)\n",
    "node1.next = node2\n",
    "node2.next = node1\n",
    "\n",
    "# Enable the garbage collector (it's usually enabled by default)\n",
    "gc.enable()\n",
    "\n",
    "# Collect cyclic garbage\n",
    "collected = gc.collect()\n",
    "\n",
    "print(\"Garbage collected:\", collected)\n",
    "# The two nodes should be deleted by the cyclic garbage collector"
   ]
  },
  {
   "cell_type": "markdown",
   "id": "3198b123",
   "metadata": {},
   "source": [
    "# 3. Memory Pools: \n",
    "   CPython uses memory pools to manage memory allocation more efficiently. Instead of requesting memory from the system for every object, CPython allocates memory in blocks, which it divides into smaller pieces as needed. This reduces fragmentation and improves memory allocation performance."
   ]
  },
  {
   "cell_type": "code",
   "execution_count": 3,
   "id": "5f96ed74",
   "metadata": {},
   "outputs": [
    {
     "name": "stdout",
     "output_type": "stream",
     "text": [
      "Memory block size: 28\n",
      "Total memory allocated: 8560\n"
     ]
    }
   ],
   "source": [
    "import sys\n",
    "\n",
    "# Check the memory allocation granularity (size of a memory block)\n",
    "block_size = sys.getsizeof(1)\n",
    "print(\"Memory block size:\", block_size)\n",
    "\n",
    "# Allocate and deallocate small objects\n",
    "objects = []\n",
    "\n",
    "for _ in range(10):\n",
    "    obj = [0] * 100  # Allocate a list with 100 integers\n",
    "    objects.append(obj)\n",
    "\n",
    "# Calculate the total memory allocated for the objects\n",
    "total_memory_allocated = len(objects) * sys.getsizeof(objects[0])\n",
    "print(\"Total memory allocated:\", total_memory_allocated)"
   ]
  },
  {
   "cell_type": "markdown",
   "id": "ec7a98a0",
   "metadata": {},
   "source": [
    "# 4. Memory Optimization: \n",
    "CPython optimizes memory usage for certain objects. For example, small integers and immutable strings are often cached and reused to save memory.\n",
    "Memory optimization in Python refers to techniques and practices that help reduce memory usage in your Python programs. This can be important when working with large datasets or resource-constrained environments\n",
    "1. use Generators\n",
    "2."
   ]
  },
  {
   "cell_type": "code",
   "execution_count": 7,
   "id": "ff7b1df4",
   "metadata": {},
   "outputs": [
    {
     "name": "stdout",
     "output_type": "stream",
     "text": [
      "1\n",
      "4\n",
      "9\n",
      "16\n",
      "25\n",
      "1\n",
      "4\n",
      "9\n"
     ]
    }
   ],
   "source": [
    "# 1. use Generators: Generators are memory-efficient because they yield items one at a time instead of storing them all in memory\n",
    "def generate_squares(n):\n",
    "    for i in range(1, n + 1):\n",
    "        yield i ** 2\n",
    "\n",
    "squares_generator = generate_squares(10000)\n",
    "print(next(squares_generator))  # 1\n",
    "print(next(squares_generator))  # 4\n",
    "print(next(squares_generator))  # 9\n",
    "print(next(squares_generator))  # 16\n",
    "print(next(squares_generator))  # 25\n",
    "\n",
    "for square in generate_squares(3):\n",
    "    print(square)"
   ]
  },
  {
   "cell_type": "code",
   "execution_count": 9,
   "id": "cfcf9d99",
   "metadata": {},
   "outputs": [
    {
     "name": "stdout",
     "output_type": "stream",
     "text": [
      "[2, 3]\n"
     ]
    }
   ],
   "source": [
    "# 2. Avoid Redundant Copies: Be mindful of creating unnecessary copies of objects. For instance, when slicing a list, creating a copy can consume extra memory. Instead, use slices that reference the same data:\n",
    "original_list = [1, 2, 3, 4, 5]\n",
    "sli = original_list[1:3]  # Uses a reference, not a copy\n",
    "print(sli)"
   ]
  },
  {
   "cell_type": "markdown",
   "id": "3edbd5c3",
   "metadata": {},
   "source": [
    "# 5. Dynamic Typing and Object Overhead\n",
    "\n",
    "Dynamic Typing: Reassign the variables\n",
    "Object Overhead: sys.getsizeof() -> "
   ]
  },
  {
   "cell_type": "code",
   "execution_count": 10,
   "id": "56f14caa",
   "metadata": {},
   "outputs": [
    {
     "name": "stdout",
     "output_type": "stream",
     "text": [
      "Memory overhead for an integer: 0\n",
      "Memory overhead for a string: 13\n",
      "Memory overhead for a float: 0\n",
      "Memory overhead for a list: 32\n"
     ]
    }
   ],
   "source": [
    "# Dynamic Typing Example\n",
    "x = 42\n",
    "y = \"Hello, world!\"\n",
    "\n",
    "# The type of x and y can change\n",
    "x = \"Now I'm a string\"\n",
    "y = 3.14\n",
    "\n",
    "# Object Overhead Example\n",
    "import sys\n",
    "\n",
    "int_obj = 42\n",
    "str_obj = \"Hello, world!\"\n",
    "float_obj = 3.14\n",
    "list_obj = [1, 2, 3]\n",
    "\n",
    "# Memory overhead of objects\n",
    "print(\"Memory overhead for an integer:\", sys.getsizeof(int_obj) - sys.getsizeof(0))\n",
    "print(\"Memory overhead for a string:\", sys.getsizeof(str_obj) - sys.getsizeof(\"\"))\n",
    "print(\"Memory overhead for a float:\", sys.getsizeof(float_obj) - sys.getsizeof(0.0))\n",
    "print(\"Memory overhead for a list:\", sys.getsizeof(list_obj) - sys.getsizeof([]))"
   ]
  },
  {
   "cell_type": "markdown",
   "id": "85263b65",
   "metadata": {},
   "source": [
    "# 6. gc Module: \n",
    "Python provides a gc module that allows manual control over the garbage collection process. You can enable or disable the garbage collector, set collection thresholds, and perform manual garbage collection."
   ]
  },
  {
   "cell_type": "code",
   "execution_count": 15,
   "id": "71737500",
   "metadata": {},
   "outputs": [
    {
     "name": "stdout",
     "output_type": "stream",
     "text": [
      "Garbage collector enabled: True\n",
      "Garbage collector enabled: False\n",
      "Garbage collector enabled: True\n",
      "Garbage collector stats: [{'collections': 303, 'collected': 1026, 'uncollectable': 0}, {'collections': 27, 'collected': 986, 'uncollectable': 0}, {'collections': 6, 'collected': 1438, 'uncollectable': 0}]\n"
     ]
    }
   ],
   "source": [
    "import gc\n",
    "\n",
    "# Check if the garbage collector is enabled (it's typically enabled by default)\n",
    "print(\"Garbage collector enabled:\", gc.isenabled())\n",
    "\n",
    "# Disable the garbage collector\n",
    "gc.disable()\n",
    "print(\"Garbage collector enabled:\", gc.isenabled())\n",
    "\n",
    "# Enable the garbage collector again\n",
    "gc.enable()\n",
    "print(\"Garbage collector enabled:\", gc.isenabled())\n",
    "\n",
    "# Create objects and delete references to them\n",
    "data = [1, 2, 3]\n",
    "del data  # Remove the reference to the list\n",
    "\n",
    "# Collect any unreachable objects manually\n",
    "gc.collect()\n",
    "\n",
    "# You can also print statistics about the garbage collector\n",
    "print(\"Garbage collector stats:\", gc.get_stats())"
   ]
  },
  {
   "cell_type": "markdown",
   "id": "3c4b743d",
   "metadata": {},
   "source": [
    "# 7.Memory Profiling: \n",
    "Tools like memory_profiler and objgraph can be used to profile and analyze memory usage in Python applications, helping you identify memory leaks and optimize your code.\n",
    "\n",
    "install memory -profiler: pip install memory-profiler"
   ]
  },
  {
   "cell_type": "code",
   "execution_count": 19,
   "id": "6cd10181",
   "metadata": {},
   "outputs": [
    {
     "name": "stdout",
     "output_type": "stream",
     "text": [
      "ERROR: Could not find file C:\\Windows\\Temp\\ipykernel_19412\\2839102919.py\n"
     ]
    }
   ],
   "source": [
    "# fib.py\n",
    "\n",
    "from memory_profiler import profile\n",
    "\n",
    "@profile\n",
    "def generate_fibonacci(n):\n",
    "    fib = [0, 1]\n",
    "    for i in range(2, n):\n",
    "        fib.append(fib[i - 1] + fib[i - 2])\n",
    "    return fib\n",
    "\n",
    "if __name__ == \"__main__\":\n",
    "    generate_fibonacci(10000)"
   ]
  },
  {
   "cell_type": "markdown",
   "id": "bad07503",
   "metadata": {},
   "source": [
    "# 8. python memory leakage example and how to control the memory leakage\n",
    "\n",
    "Memory leaks in Python occur when objects are not properly deallocated, leading to the gradual consumption of memory, which can result in performance issues and eventual program crashes. While Python's garbage collector takes care of most memory management, memory leaks can still occur when references to objects are unintentionally retained."
   ]
  },
  {
   "cell_type": "code",
   "execution_count": 20,
   "id": "17a3c7d6",
   "metadata": {},
   "outputs": [
    {
     "name": "stdout",
     "output_type": "stream",
     "text": [
      "Memory usage before garbage collection: 78.66796875 MB\n",
      "Memory usage after garbage collection: 78.671875 MB\n"
     ]
    }
   ],
   "source": [
    "import gc\n",
    "\n",
    "class MemoryLeak:\n",
    "    def __init__(self, data):\n",
    "        self.data = data\n",
    "\n",
    "    def __del__(self):\n",
    "        pass  # Do nothing, the reference to data is not deleted\n",
    "\n",
    "# Create a list to store instances of MemoryLeak\n",
    "leak_list = []\n",
    "\n",
    "for i in range(10000):\n",
    "    data = [0] * 1000\n",
    "    leak_obj = MemoryLeak(data)\n",
    "    leak_list.append(leak_obj)\n",
    "\n",
    "# Clear the list and force a manual garbage collection\n",
    "del leak_list\n",
    "gc.collect()\n",
    "\n",
    "# Simulate some work that may free memory\n",
    "import time\n",
    "time.sleep(5)\n",
    "\n",
    "# Check memory usage before and after garbage collection\n",
    "import psutil\n",
    "\n",
    "process = psutil.Process()\n",
    "print(\"Memory usage before garbage collection:\", process.memory_info().rss / (1024 * 1024), \"MB\")\n",
    "\n",
    "# Force another manual garbage collection\n",
    "gc.collect()\n",
    "\n",
    "print(\"Memory usage after garbage collection:\", process.memory_info().rss / (1024 * 1024), \"MB\")"
   ]
  },
  {
   "cell_type": "markdown",
   "id": "804a76f7",
   "metadata": {},
   "source": [
    "# 9. prove that two string/number variables to store the same memory location\n",
    "\n",
    "1. strings are immutable and hashable. so store same memory location\n",
    "2. The two strings have the same content and share the same hash value.\n",
    "3. As a result, they are stored at the same memory location -> \"hash collisions\"\n",
    "4. some immutable objects like numbers range between(-5 to 256) and small tuples (not sure)  "
   ]
  },
  {
   "cell_type": "code",
   "execution_count": null,
   "id": "ec64804a",
   "metadata": {},
   "outputs": [],
   "source": [
    "# immutable datatypes \n",
    "str1 = \"hello\"\n",
    "str2 = \"hello\"\n",
    "n1 = 10\n",
    "n2 = 10\n",
    "t1 = (1,)\n",
    "t2 = (1,)\n",
    "\n",
    "\n",
    "# mutable data types\n",
    "l1 = [1]\n",
    "l2 = [1]\n",
    "s1 = {1}\n",
    "s2 = {1}\n",
    "d1 = {1:\"a\"}\n",
    "d2 = {1:\"a\"}\n",
    "\n",
    "# memory management -> reference identity both id and hex(id()) -> id convert to hex(id())\n",
    "print(id(str1))\n",
    "print(id(str2))\n",
    "print(hex(id(str1)))\n",
    "print(hex(id(str2)))\n",
    "\n",
    "# is ->  checks two variables reference the same object in memory or not\n",
    "print( str1 is str2 )\n",
    "print( n1 is n2 )\n",
    "print( t1 is t2 )\n",
    "print( tu1 is tu2 )\n",
    "print( l1 is l2 )\n",
    "print( s1 is s2 )\n",
    "print( d1 is d2 )\n",
    "print()\n",
    "\n",
    "# == comparison between two variables content is equal or not\n",
    "print( str1 == str2 )\n",
    "print( n1 == n2 )\n",
    "print( t1 == t2 )\n",
    "print( l1 == l2 )\n",
    "print( s1 == s2 )\n",
    "print( d1 == d2 )"
   ]
  },
  {
   "cell_type": "markdown",
   "id": "3d57dd8d",
   "metadata": {},
   "source": [
    "# 10. immutable datatypes memory allocation"
   ]
  },
  {
   "cell_type": "code",
   "execution_count": 21,
   "id": "92e6aa10",
   "metadata": {},
   "outputs": [
    {
     "name": "stdout",
     "output_type": "stream",
     "text": [
      "small numbers: True\n",
      "small numbers: True\n",
      "large members: False\n",
      "large members: False\n",
      "Tuples: False\n",
      "Tuples: False\n"
     ]
    }
   ],
   "source": [
    "# some immutable objects like numbers range between(-5 to 256), small tuples  \n",
    "\n",
    "# 1. small numbers (-5 to 256)\n",
    "n1 = -5\n",
    "n2 = -5\n",
    "print(\"small numbers:\", n1 is n2)\n",
    "n3 = 256\n",
    "n4 = 256\n",
    "print(\"small numbers:\", n3 is n4)\n",
    "\n",
    "# 2. large members (from -5 above & 256 above)\n",
    "n5 = 257\n",
    "n6 = 257 \n",
    "print(\"large members:\",n5 is n6)\n",
    "\n",
    "# 3. negative numbers (from -5 above)\n",
    "n7 = -6\n",
    "n8 = -6 \n",
    "print(\"large members:\",n7 is n8)\n",
    "\n",
    "# 4. small tuple some times store same reference\n",
    "t1 = (1,)\n",
    "t2 = (1,)\n",
    "tu1 = (1,2)\n",
    "tu2 = (1,2)\n",
    "print(\"Tuples:\",t1 is t2)\n",
    "print(\"Tuples:\",tu1 is tu2)"
   ]
  },
  {
   "cell_type": "code",
   "execution_count": null,
   "id": "42cdf3e6",
   "metadata": {},
   "outputs": [],
   "source": []
  }
 ],
 "metadata": {
  "kernelspec": {
   "display_name": "Python 3 (ipykernel)",
   "language": "python",
   "name": "python3"
  },
  "language_info": {
   "codemirror_mode": {
    "name": "ipython",
    "version": 3
   },
   "file_extension": ".py",
   "mimetype": "text/x-python",
   "name": "python",
   "nbconvert_exporter": "python",
   "pygments_lexer": "ipython3",
   "version": "3.11.5"
  }
 },
 "nbformat": 4,
 "nbformat_minor": 5
}
