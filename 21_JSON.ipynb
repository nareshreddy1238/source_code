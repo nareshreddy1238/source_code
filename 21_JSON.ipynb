{
 "cells": [
  {
   "cell_type": "markdown",
   "id": "87584599",
   "metadata": {},
   "source": [
    "# 1. JSON Basics"
   ]
  },
  {
   "cell_type": "code",
   "execution_count": 2,
   "id": "51c449a4",
   "metadata": {},
   "outputs": [
    {
     "name": "stdout",
     "output_type": "stream",
     "text": [
      "['JSONDecodeError', 'JSONDecoder', 'JSONEncoder', '__all__', '__author__', '__builtins__', '__cached__', '__doc__', '__file__', '__loader__', '__name__', '__package__', '__path__', '__spec__', '__version__', '_default_decoder', '_default_encoder', 'codecs', 'decoder', 'detect_encoding', 'dump', 'dumps', 'encoder', 'load', 'loads', 'scanner']\n"
     ]
    }
   ],
   "source": [
    "import json\n",
    "\n",
    "print(dir(json))"
   ]
  },
  {
   "cell_type": "markdown",
   "id": "f84a6094",
   "metadata": {},
   "source": [
    "# 2. dumps & loads"
   ]
  },
  {
   "cell_type": "code",
   "execution_count": 4,
   "id": "929bb7c9",
   "metadata": {},
   "outputs": [
    {
     "name": "stdout",
     "output_type": "stream",
     "text": [
      "{\"name\": \"John Doe\", \"age\": 30, \"city\": \"New York\"}\n",
      "{'name': 'John Doe', 'age': 30, 'city': 'New York'}\n"
     ]
    }
   ],
   "source": [
    "import json\n",
    "\n",
    "# Python dictionary\n",
    "data = {\n",
    "    \"name\": \"John Doe\",\n",
    "    \"age\": 30,\n",
    "    \"city\": \"New York\"\n",
    "}\n",
    "\n",
    "# Convert Python dictionary to JSON string\n",
    "json_string = json.dumps(data)\n",
    "\n",
    "# Convert JSON string back to Python dictionary\n",
    "decoded_data = json.loads(json_string)\n",
    "\n",
    "print(json_string)\n",
    "print(decoded_data)"
   ]
  },
  {
   "cell_type": "markdown",
   "id": "1611fb9b",
   "metadata": {},
   "source": [
    "# 3. dump & load: \n",
    "work with JSON data in files or file-like objects."
   ]
  },
  {
   "cell_type": "code",
   "execution_count": null,
   "id": "08e31f3a",
   "metadata": {},
   "outputs": [],
   "source": [
    "import json\n",
    "\n",
    "# Reading JSON data from a file\n",
    "with open('data.json', 'r') as file:\n",
    "    data = json.load(file)\n",
    "\n",
    "# Writing Python data to a file as JSON\n",
    "with open('output.json', 'w') as file:\n",
    "    json.dump(data, file)"
   ]
  },
  {
   "cell_type": "markdown",
   "id": "1ab9c91a",
   "metadata": {},
   "source": [
    "# 4. JSONDecodeError:\n",
    "parsing(decoding) time handle the not valid json data "
   ]
  },
  {
   "cell_type": "code",
   "execution_count": 5,
   "id": "47c4b4be",
   "metadata": {},
   "outputs": [
    {
     "name": "stdout",
     "output_type": "stream",
     "text": [
      "JSONDecodeError: Expecting property name enclosed in double quotes: line 1 column 2 (char 1)\n",
      "Error occurred at position 1: Expecting property name enclosed in double quotes\n"
     ]
    }
   ],
   "source": [
    "import json\n",
    "\n",
    "invalid_json = \"{'name': 'John', 'age': 30}\"\n",
    "try:\n",
    "    # Attempt to decode the invalid JSON string\n",
    "    data = json.loads(invalid_json)\n",
    "except json.JSONDecodeError as e:\n",
    "    print(f\"JSONDecodeError: {e}\")\n",
    "    print(f\"Error occurred at position {e.pos}: {e.msg}\")"
   ]
  },
  {
   "cell_type": "markdown",
   "id": "02e42986",
   "metadata": {},
   "source": [
    "# 5. JSONDecoder & JSONEncoder\n",
    "Customized of encoding(serialize) & decoding(deserialize) process "
   ]
  },
  {
   "cell_type": "code",
   "execution_count": 6,
   "id": "ac24be4c",
   "metadata": {},
   "outputs": [
    {
     "name": "stdout",
     "output_type": "stream",
     "text": [
      "{'name': 'Alice', 'age': 25}\n"
     ]
    }
   ],
   "source": [
    "import json\n",
    "\n",
    "class CustomDecoder(json.JSONDecoder):\n",
    "    def decode_custom(self, s):\n",
    "        # Perform custom decoding here\n",
    "        obj = super().decode(s)\n",
    "        # Modify or process the parsed object\n",
    "        return obj\n",
    "\n",
    "decoder = CustomDecoder()\n",
    "json_str = '{\"name\": \"Alice\", \"age\": 25}'\n",
    "data = decoder.decode_custom(json_str)\n",
    "print(data)"
   ]
  },
  {
   "cell_type": "code",
   "execution_count": 7,
   "id": "49d559e0",
   "metadata": {},
   "outputs": [
    {
     "name": "stdout",
     "output_type": "stream",
     "text": [
      "{\"name\": \"Bob\", \"age\": 35}\n"
     ]
    }
   ],
   "source": [
    "import json\n",
    "\n",
    "class CustomEncoder(json.JSONEncoder):\n",
    "    def encode_custom(self, obj):\n",
    "        # Perform custom encoding here\n",
    "        json_str = super().encode(obj)\n",
    "        # Modify or process the JSON string\n",
    "        return json_str\n",
    "\n",
    "encoder = CustomEncoder()\n",
    "data = {'name': 'Bob', 'age': 35}\n",
    "json_str = encoder.encode_custom(data)\n",
    "print(json_str)"
   ]
  },
  {
   "cell_type": "markdown",
   "id": "1a45e952",
   "metadata": {},
   "source": [
    "# 6. detect_encoding\n",
    "check and detect encoding data"
   ]
  },
  {
   "cell_type": "code",
   "execution_count": 8,
   "id": "0fc379d2",
   "metadata": {},
   "outputs": [
    {
     "name": "stdout",
     "output_type": "stream",
     "text": [
      "Requirement already satisfied: chardet in c:\\users\\nares\\anaconda-new\\lib\\site-packages (4.0.0)\n",
      "Note: you may need to restart the kernel to use updated packages.\n"
     ]
    }
   ],
   "source": [
    "pip install chardet"
   ]
  },
  {
   "cell_type": "code",
   "execution_count": 9,
   "id": "e841c689",
   "metadata": {},
   "outputs": [
    {
     "name": "stdout",
     "output_type": "stream",
     "text": [
      "Detected encoding: ascii\n"
     ]
    }
   ],
   "source": [
    "import chardet\n",
    "\n",
    "json_data = b'{\"name\": \"Alice\", \"age\": 25}'  # Note the 'b' prefix indicating bytes\n",
    "\n",
    "# Detect the encoding of the JSON data\n",
    "result = chardet.detect(json_data)\n",
    "encoding = result['encoding']\n",
    "\n",
    "print(f\"Detected encoding: {encoding}\")"
   ]
  },
  {
   "cell_type": "markdown",
   "id": "1e92220a",
   "metadata": {},
   "source": [
    "# 7. codecs\n",
    "specific format encode & decode like UTF-16, UTF-32 etc."
   ]
  },
  {
   "cell_type": "code",
   "execution_count": 10,
   "id": "0026c827",
   "metadata": {},
   "outputs": [
    {
     "name": "stdout",
     "output_type": "stream",
     "text": [
      "{'name': 'Alice', 'age': 25}\n"
     ]
    }
   ],
   "source": [
    "import json\n",
    "import codecs\n",
    "\n",
    "# Encoding data to JSON with a specific character encoding\n",
    "data = {'name': 'Alice', 'age': 25}\n",
    "\n",
    "# Define the encoding\n",
    "encoding = 'utf-16'\n",
    "\n",
    "# Use the codecs module to open a file with the desired encoding\n",
    "with codecs.open('data.json', 'w', encoding=encoding) as json_file:\n",
    "    json.dump(data, json_file, ensure_ascii=False)\n",
    "\n",
    "# Decoding JSON data with a specific character encoding\n",
    "with codecs.open('data.json', 'r', encoding=encoding) as json_file:\n",
    "    loaded_data = json.load(json_file)\n",
    "\n",
    "print(loaded_data)"
   ]
  },
  {
   "cell_type": "markdown",
   "id": "bd6ec216",
   "metadata": {},
   "source": [
    "# 8. Example:  \n",
    "convert Python dictionary object (sort by key) to JSON data. Print the object members with indent level 4."
   ]
  },
  {
   "cell_type": "code",
   "execution_count": 15,
   "id": "8eaba803",
   "metadata": {},
   "outputs": [
    {
     "name": "stdout",
     "output_type": "stream",
     "text": [
      "{\n",
      "    \"1\": 3,\n",
      "    \"2\": 4,\n",
      "    \"4\": 5,\n",
      "    \"6\": 7\n",
      "}\n"
     ]
    }
   ],
   "source": [
    "import json\n",
    "\n",
    "j_str = {'4': 5, '6': 7, '1': 3, '2': 4}\n",
    "\n",
    "print(json.dumps(j_str, sort_keys=True, indent=4))"
   ]
  },
  {
   "cell_type": "markdown",
   "id": "c07256c7",
   "metadata": {},
   "source": [
    "# 9.Example\n",
    "create a new JSON file from an existing JSON file."
   ]
  },
  {
   "cell_type": "code",
   "execution_count": 23,
   "id": "90058b95",
   "metadata": {},
   "outputs": [],
   "source": [
    "import json\n",
    "\n",
    "# Load JSON data from the original file\n",
    "with open('json_example.json') as f:\n",
    "    data = json.load(f)\n",
    "\n",
    "# Remove \"age\" and \"city\" fields\n",
    "if 'age' in data:\n",
    "    del data['age']\n",
    "if 'city' in data:\n",
    "    del data['city']\n",
    "\n",
    "# Add a new \"country\" field\n",
    "data['country'] = 'USA'\n",
    "\n",
    "# Save the modified data to a new JSON file\n",
    "with open('new_states.json', 'w') as f:\n",
    "    json.dump(data, f, indent=2)"
   ]
  },
  {
   "cell_type": "markdown",
   "id": "c99e5549",
   "metadata": {},
   "source": [
    "# 10. Example\n",
    "check whether an instance is complex or not."
   ]
  },
  {
   "cell_type": "code",
   "execution_count": 24,
   "id": "af369431",
   "metadata": {},
   "outputs": [
    {
     "name": "stdout",
     "output_type": "stream",
     "text": [
      "[2.0, 3.0]\n"
     ]
    }
   ],
   "source": [
    "import json\n",
    "\n",
    "def encode_complex(object):\n",
    "    if isinstance(object, complex):\n",
    "        return [object.real, object.imag]\n",
    "    raise TypeError(repr(object) + \" is not JSON serialized\")\n",
    "\n",
    "complex_obj = json.dumps(2 + 3j, default=encode_complex)\n",
    "print(complex_obj) "
   ]
  },
  {
   "cell_type": "markdown",
   "id": "e5e0234c",
   "metadata": {},
   "source": [
    "# 11.Example\n",
    " check whether a JSON string contains complex object or not."
   ]
  },
  {
   "cell_type": "code",
   "execution_count": 25,
   "id": "34a0cdb6",
   "metadata": {},
   "outputs": [
    {
     "name": "stdout",
     "output_type": "stream",
     "text": [
      "Complex_object:  (4+5j)\n",
      "Without complex object:  {'real': 4, 'img': 3}\n"
     ]
    }
   ],
   "source": [
    "import json\n",
    "def is_complex_num(objct):\n",
    "    if '__complex__' in objct:\n",
    "        return complex(objct['real'], objct['img'])\n",
    "    return objct\n",
    "\n",
    "complex_object =json.loads('{\"__complex__\": true, \"real\": 4, \"img\": 5}', object_hook = is_complex_num)\n",
    "simple_object =json.loads('{\"real\": 4, \"img\": 3}', object_hook = is_complex_num)\n",
    "print(\"Complex_object: \",complex_object)\n",
    "print(\"Without complex object: \",simple_object)"
   ]
  },
  {
   "cell_type": "markdown",
   "id": "9ad30c2b",
   "metadata": {},
   "source": [
    "# 12. Example\n",
    " access only unique key value of a Python object.\n",
    " note: must be unique and last occurance value to be shown "
   ]
  },
  {
   "cell_type": "code",
   "execution_count": 26,
   "id": "3b4ac17d",
   "metadata": {},
   "outputs": [
    {
     "name": "stdout",
     "output_type": "stream",
     "text": [
      "{\"a\":  1, \"a\":  2, \"a\":  3, \"a\": 4, \"b\": 1, \"b\": 2}\n",
      "{'a': 4, 'b': 2}\n"
     ]
    }
   ],
   "source": [
    "import json\n",
    "python_obj = '{\"a\":  1, \"a\":  2, \"a\":  3, \"a\": 4, \"b\": 1, \"b\": 2}'\n",
    "\n",
    "print(python_obj)\n",
    "json_obj = json.loads(python_obj)\n",
    "print(json_obj) "
   ]
  },
  {
   "cell_type": "code",
   "execution_count": 27,
   "id": "2e7fd8c6",
   "metadata": {},
   "outputs": [
    {
     "name": "stdout",
     "output_type": "stream",
     "text": [
      "{\"a\": [1, 2, 3, 4], \"b\": [1, 2]}\n",
      "{'a': [1, 2, 3, 4], 'b': [1, 2]}\n"
     ]
    }
   ],
   "source": [
    "# if you want handle duplicate values \n",
    "import json\n",
    "python_obj = '{\"a\": [1, 2, 3, 4], \"b\": [1, 2]}'\n",
    "\n",
    "print(python_obj)\n",
    "json_obj = json.loads(python_obj)\n",
    "print(json_obj) "
   ]
  },
  {
   "cell_type": "code",
   "execution_count": null,
   "id": "cb5c0984",
   "metadata": {},
   "outputs": [],
   "source": []
  }
 ],
 "metadata": {
  "kernelspec": {
   "display_name": "Python 3 (ipykernel)",
   "language": "python",
   "name": "python3"
  },
  "language_info": {
   "codemirror_mode": {
    "name": "ipython",
    "version": 3
   },
   "file_extension": ".py",
   "mimetype": "text/x-python",
   "name": "python",
   "nbconvert_exporter": "python",
   "pygments_lexer": "ipython3",
   "version": "3.11.5"
  }
 },
 "nbformat": 4,
 "nbformat_minor": 5
}
