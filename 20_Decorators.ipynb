{
 "cells": [
  {
   "cell_type": "code",
   "execution_count": null,
   "id": "564cb1e9-07f7-413c-a371-c1f5cfb2addf",
   "metadata": {},
   "outputs": [],
   "source": [
    "# 1. Decorator using login method for web page"
   ]
  },
  {
   "cell_type": "code",
   "execution_count": 9,
   "id": "5d9df4ee-16c3-4a32-9612-c58586e704a5",
   "metadata": {},
   "outputs": [
    {
     "name": "stdout",
     "output_type": "stream",
     "text": [
      "Welcome to our page\n",
      "Kindly Login!\n",
      "about  our website\n"
     ]
    }
   ],
   "source": [
    "def  login_required(fun):\n",
    "    def inner(name,is_login):\n",
    "        if is_login == False:\n",
    "            print('Kindly Login!')\n",
    "            return \n",
    "        return fun(name,is_login)    # f1=home,orders  \n",
    "    return inner\n",
    "\n",
    "@login_required\n",
    "def home(name,is_login):\n",
    "    print(\"Welcome to our page\")\n",
    "                                                                                 \n",
    "@login_required\n",
    "def orders(name,is_login):\n",
    "    print(\"Check your orders\")\n",
    "\n",
    "def about():\n",
    "    print(\"about  our website\")\n",
    "                                                                                \n",
    "######## calling the functions #####\n",
    "home('user',True)\n",
    "orders('user',False)\n",
    "about()                                  "
   ]
  },
  {
   "cell_type": "code",
   "execution_count": null,
   "id": "4e01dc76-d3b8-4ab7-8050-9ac090a823b2",
   "metadata": {},
   "outputs": [],
   "source": [
    "# 2. Decorators: add and mul"
   ]
  },
  {
   "cell_type": "code",
   "execution_count": 16,
   "id": "87383d7d-0e13-4fe4-8a2a-77880b7f39c4",
   "metadata": {},
   "outputs": [
    {
     "name": "stdout",
     "output_type": "stream",
     "text": [
      "result: 20\n",
      "result: 12\n"
     ]
    }
   ],
   "source": [
    "def  add(func):\n",
    "    def inner(a,b):\n",
    "        print(\"result:\",a+b)\n",
    "        return func(a,b)\n",
    "    return inner\n",
    "\n",
    "def  mul(func):\n",
    "    def inner(c,d):\n",
    "        print(\"result:\",c*d)\n",
    "        return func(c,d)\n",
    "    return inner\n",
    "        \n",
    "@mul\n",
    "@add\n",
    "def printer(a,b):\n",
    "    pass\n",
    "printer(10,2)"
   ]
  },
  {
   "cell_type": "code",
   "execution_count": null,
   "id": "47b524a0-840d-47ff-a760-ebcc71f1ffe3",
   "metadata": {},
   "outputs": [],
   "source": [
    "# 3. Decorator args "
   ]
  },
  {
   "cell_type": "code",
   "execution_count": 2,
   "id": "ed701f2f-a271-4bf9-bae1-b6f44ef1fbbb",
   "metadata": {},
   "outputs": [
    {
     "name": "stdout",
     "output_type": "stream",
     "text": [
      "Calling multiply_numbers with args: (10, 20), kwargs: {}\n",
      "multiply_numbers returned: 200\n",
      "Result: 200\n"
     ]
    }
   ],
   "source": [
    "def decorator(func):\n",
    "    def wrap(*args, **kwargs):\n",
    "        print(f\"Calling {func.__name__} with args: {args}, kwargs: {kwargs}\")\n",
    "        \n",
    "        result = func(*args, **kwargs)\n",
    "        print(f\"{func.__name__} returned: {result}\")\n",
    "        return result\n",
    "    return wrap\n",
    "\n",
    "@decorator\n",
    "def multiply_numbers(x, y):\n",
    "    return x * y\n",
    "result = multiply_numbers(10, 20)\n",
    "print(\"Result:\", result)"
   ]
  },
  {
   "cell_type": "code",
   "execution_count": null,
   "id": "3572e154-eb7f-4f3b-9e75-a0cc134e31c1",
   "metadata": {},
   "outputs": [],
   "source": [
    "# 4. execution time decorator"
   ]
  },
  {
   "cell_type": "code",
   "execution_count": 3,
   "id": "75a64c24-6307-422a-ade7-3090b4ad52d4",
   "metadata": {},
   "outputs": [
    {
     "name": "stdout",
     "output_type": "stream",
     "text": [
      "Function calculate_multiply took 0.0000 seconds to execute\n",
      "Result: 120\n"
     ]
    }
   ],
   "source": [
    "import time\n",
    "\n",
    "def measure_execution_time(func):\n",
    "    def wrapper(*args, **kwargs):\n",
    "        start_time = time.time()\n",
    "        result = func(*args, **kwargs)\n",
    "        end_time = time.time()\n",
    "        execution_time = end_time - start_time\n",
    "        print(f\"Function {func.__name__} took {execution_time:.4f} seconds to execute\")\n",
    "        return result\n",
    "    return wrapper\n",
    "\n",
    "@measure_execution_time\n",
    "def calculate_multiply(numbers):\n",
    "    tot = 1\n",
    "    for x in numbers:\n",
    "        tot *= x\n",
    "    return tot\n",
    "\n",
    "result = calculate_multiply([1, 2, 3, 4, 5])\n",
    "print(\"Result:\", result)"
   ]
  },
  {
   "cell_type": "code",
   "execution_count": null,
   "id": "e1da7f3f-d076-4822-9738-7b1c88befd91",
   "metadata": {},
   "outputs": [],
   "source": [
    "# 5. data type"
   ]
  },
  {
   "cell_type": "code",
   "execution_count": 4,
   "id": "cff99556-2016-44ba-a79c-2977a8e52e1d",
   "metadata": {},
   "outputs": [
    {
     "name": "stdout",
     "output_type": "stream",
     "text": [
      "Result: 30 <class 'int'>\n",
      "Result: Python Decorator <class 'str'>\n"
     ]
    }
   ],
   "source": [
    "def convert_to_data_type(data_type):\n",
    "    def decorator(func):\n",
    "        def wrapper(*args, **kwargs):\n",
    "            result = func(*args, **kwargs)\n",
    "            return data_type(result)\n",
    "        return wrapper\n",
    "    return decorator\n",
    "\n",
    "@convert_to_data_type(int)\n",
    "def add_numbers(x, y):\n",
    "    return x + y\n",
    "result = add_numbers(10, 20)\n",
    "print(\"Result:\", result, type(result))\n",
    "\n",
    "@convert_to_data_type(str)\n",
    "def concatenate_strings(x, y):\n",
    "    return x + y\n",
    "result = concatenate_strings(\"Python\", \" Decorator\")\n",
    "print(\"Result:\", result, type(result))"
   ]
  },
  {
   "cell_type": "code",
   "execution_count": null,
   "id": "97ad0fba-c544-4e7a-a08d-42bee319ecef",
   "metadata": {},
   "outputs": [],
   "source": [
    "# 6. cache "
   ]
  },
  {
   "cell_type": "code",
   "execution_count": 5,
   "id": "014cae74-7593-463a-9ccb-9838dc7823c4",
   "metadata": {},
   "outputs": [
    {
     "name": "stdout",
     "output_type": "stream",
     "text": [
      "Calculating the product of two numbers...\n",
      "20\n",
      "Retrieving result from cache...\n",
      "20\n",
      "Calculating the product of two numbers...\n",
      "35\n",
      "Retrieving result from cache...\n",
      "35\n",
      "Calculating the product of two numbers...\n",
      "-21\n",
      "Retrieving result from cache...\n",
      "-21\n"
     ]
    }
   ],
   "source": [
    "def cache_result(func):\n",
    "    cache = {}\n",
    "    def wrapper(*args, **kwargs):\n",
    "        key = (*args, *kwargs.items())\n",
    "        if key in cache:\n",
    "            print(\"Retrieving result from cache...\")\n",
    "            return cache[key]\n",
    "        result = func(*args, **kwargs)\n",
    "        cache[key] = result\n",
    "        return result\n",
    "    return wrapper\n",
    "\n",
    "\n",
    "@cache_result\n",
    "def calculate_multiply(x, y):\n",
    "    print(\"Calculating the product of two numbers...\")\n",
    "    return x * y\n",
    "print(calculate_multiply(4, 5))  # Calculation is performed\n",
    "print(calculate_multiply(4, 5))  # Result is retrieved from cache\n",
    "print(calculate_multiply(5, 7))  # Calculation is performed\n",
    "print(calculate_multiply(5, 7))  # Result is retrieved from cache\n",
    "print(calculate_multiply(-3, 7))  # Calculation is performed\n",
    "print(calculate_multiply(-3, 7))  # Result is retrieved from cache"
   ]
  },
  {
   "cell_type": "code",
   "execution_count": 17,
   "id": "eca49785-e2da-4998-910a-975689ec6291",
   "metadata": {},
   "outputs": [],
   "source": [
    "# 7. validate arguments"
   ]
  },
  {
   "cell_type": "code",
   "execution_count": 7,
   "id": "5254a301-5739-4ad0-b588-487bbcfd85d8",
   "metadata": {},
   "outputs": [
    {
     "name": "stdout",
     "output_type": "stream",
     "text": [
      "125\n",
      "64\n"
     ]
    }
   ],
   "source": [
    "def validate_arguments(condition):\n",
    "    def decorator(func):\n",
    "        def wrapper(*args, **kwargs):\n",
    "            if condition(*args, **kwargs):\n",
    "                return func(*args, **kwargs)\n",
    "            else:\n",
    "                raise ValueError(\"Invalid arguments passed to the function\")\n",
    "        return wrapper\n",
    "    return decorator\n",
    "\n",
    "@validate_arguments(lambda x: x > 0)\n",
    "def calculate_cube(x):\n",
    "    return x ** 3\n",
    "print(calculate_cube(5))  # Output: 125\n",
    "print(calculate_cube(4))  # Raises ValueError: Invalid arguments passed to the function"
   ]
  },
  {
   "cell_type": "code",
   "execution_count": null,
   "id": "b3b8cb1e-7749-46de-8942-728860484948",
   "metadata": {},
   "outputs": [],
   "source": [
    "# 8. limits "
   ]
  },
  {
   "cell_type": "code",
   "execution_count": 8,
   "id": "3e293fbb-b8ce-47d2-961d-d4c046c8f6c3",
   "metadata": {},
   "outputs": [
    {
     "name": "stdout",
     "output_type": "stream",
     "text": [
      "API call executed successfully...\n",
      "API call executed successfully...\n",
      "API call executed successfully...\n",
      "API call executed successfully...\n",
      "API call executed successfully...\n",
      "API call executed successfully...\n",
      "Error occurred: Rate limit exceeded. Please try again later.\n",
      "Error occurred: Rate limit exceeded. Please try again later.\n"
     ]
    }
   ],
   "source": [
    "import time\n",
    "\n",
    "def rate_limits(max_calls, period):\n",
    "    def decorator(func):\n",
    "        calls = 0\n",
    "        last_reset = time.time()\n",
    "        def wrapper(*args, **kwargs):\n",
    "            nonlocal calls, last_reset\n",
    "            # Calculate time elapsed since last reset\n",
    "            elapsed = time.time() - last_reset\n",
    "            # If elapsed time is greater than the period, reset the call count\n",
    "            if elapsed > period:\n",
    "                calls = 0\n",
    "                last_reset = time.time()\n",
    "            # Check if the call count has reached the maximum limit\n",
    "            if calls >= max_calls:\n",
    "                raise Exception(\"Rate limit exceeded. Please try again later.\")\n",
    "            # Increment the call count\n",
    "            calls += 1\n",
    "            # Call the original function\n",
    "            return func(*args, **kwargs)\n",
    "        return wrapper\n",
    "    return decorator\n",
    "\n",
    "# Maximum 6 API calls are permitted.\n",
    "@rate_limits(max_calls=6, period=10)\n",
    "def api_call():\n",
    "    print(\"API call executed successfully...\")\n",
    "\n",
    "# Make API calls\n",
    "for _ in range(8):\n",
    "    try:\n",
    "        api_call()\n",
    "    except Exception as e:\n",
    "        print(f\"Error occurred: {e}\")"
   ]
  },
  {
   "cell_type": "code",
   "execution_count": null,
   "id": "fa6124a2-9ca0-4191-ae0b-8d08c7ca13d8",
   "metadata": {},
   "outputs": [],
   "source": []
  }
 ],
 "metadata": {
  "kernelspec": {
   "display_name": "Python 3 (ipykernel)",
   "language": "python",
   "name": "python3"
  },
  "language_info": {
   "codemirror_mode": {
    "name": "ipython",
    "version": 3
   },
   "file_extension": ".py",
   "mimetype": "text/x-python",
   "name": "python",
   "nbconvert_exporter": "python",
   "pygments_lexer": "ipython3",
   "version": "3.11.5"
  }
 },
 "nbformat": 4,
 "nbformat_minor": 5
}
