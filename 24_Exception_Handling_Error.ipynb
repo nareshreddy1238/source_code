{
 "cells": [
  {
   "cell_type": "markdown",
   "id": "5bf8bc31",
   "metadata": {},
   "source": [
    "# 1. Execption Handling Error"
   ]
  },
  {
   "cell_type": "code",
   "execution_count": 6,
   "id": "65bfbe4b",
   "metadata": {},
   "outputs": [
    {
     "name": "stdout",
     "output_type": "stream",
     "text": [
      "\n"
     ]
    }
   ],
   "source": [
    "try:\n",
    "    <condition>\n",
    "except Exception as e:\n",
    "    print(e)\n",
    "finally:\n",
    "    print(\"always executed\")\n",
    "\n",
    "# you don't know which type of error -> use type(e) or e.__class__.__name__"
   ]
  },
  {
   "cell_type": "markdown",
   "id": "1fb2a07c",
   "metadata": {},
   "source": [
    "# 2. Zero division error"
   ]
  },
  {
   "cell_type": "code",
   "execution_count": 8,
   "id": "c674242d",
   "metadata": {},
   "outputs": [
    {
     "name": "stdout",
     "output_type": "stream",
     "text": [
      "division by zero\n"
     ]
    }
   ],
   "source": [
    "try:\n",
    "    result = 10 / 0  \n",
    "except Exception as e:\n",
    "    print(e)"
   ]
  },
  {
   "cell_type": "markdown",
   "id": "493de931",
   "metadata": {},
   "source": [
    "# 3. value error"
   ]
  },
  {
   "cell_type": "code",
   "execution_count": 22,
   "id": "7bcfa21b",
   "metadata": {},
   "outputs": [
    {
     "name": "stdout",
     "output_type": "stream",
     "text": [
      "Enter a number: hi\n",
      "<class 'ValueError'>\n"
     ]
    }
   ],
   "source": [
    "try:\n",
    "    user_input = int(input(\"Enter a number: \"))\n",
    "except Exception as e:\n",
    "    print(type(e))"
   ]
  },
  {
   "cell_type": "code",
   "execution_count": 11,
   "id": "84235c4e",
   "metadata": {},
   "outputs": [
    {
     "name": "stdout",
     "output_type": "stream",
     "text": [
      "Enter a number: 1.23\n",
      "Invalid input. Please enter a valid number.\n"
     ]
    }
   ],
   "source": [
    "try:\n",
    "    user_input = input(\"Enter a number: \")\n",
    "    number = int(user_input)\n",
    "    print(f\"Your number is {number}\")\n",
    "except ValueError:\n",
    "    print(\"Invalid input. Please enter a valid number.\")"
   ]
  },
  {
   "cell_type": "markdown",
   "id": "bb85fb57",
   "metadata": {},
   "source": [
    "# 4. Type Error"
   ]
  },
  {
   "cell_type": "code",
   "execution_count": 17,
   "id": "e1d53909",
   "metadata": {},
   "outputs": [
    {
     "name": "stdout",
     "output_type": "stream",
     "text": [
      "A TypeError occurred. Check your data types.\n"
     ]
    }
   ],
   "source": [
    "try:\n",
    "    x = \"5\"\n",
    "    y = 2\n",
    "    result = x + y  # This line will raise a TypeError\n",
    "except TypeError:\n",
    "    print(\"A TypeError occurred. Check your data types.\")"
   ]
  },
  {
   "cell_type": "code",
   "execution_count": 45,
   "id": "fa5a18aa",
   "metadata": {},
   "outputs": [
    {
     "name": "stdout",
     "output_type": "stream",
     "text": [
      "can only concatenate str (not \"int\") to str\n",
      "('can only concatenate str (not \"int\") to str',)\n",
      "<class 'TypeError'>\n",
      "<class 'TypeError'>\n",
      "TypeError\n"
     ]
    }
   ],
   "source": [
    "try:\n",
    "    x = \"5\"\n",
    "    y = 2\n",
    "    result = x + y  # This line will raise a TypeError\n",
    "except Exception as e:\n",
    "    print(e)\n",
    "    print(e.args)\n",
    "    print(type(e))\n",
    "    print(e.__class__)\n",
    "    print(e.__class__.__name__)"
   ]
  },
  {
   "cell_type": "markdown",
   "id": "0a2ad4aa",
   "metadata": {},
   "source": [
    "# 5. FileNotFoundError"
   ]
  },
  {
   "cell_type": "code",
   "execution_count": 50,
   "id": "b1fa9000",
   "metadata": {},
   "outputs": [
    {
     "name": "stdout",
     "output_type": "stream",
     "text": [
      "Input a file name: demo\n",
      "Error: File not found.\n"
     ]
    }
   ],
   "source": [
    "def open_file(filename):\n",
    "    try:\n",
    "        file = open(filename, 'r')\n",
    "        contents = file.read()\n",
    "        print(\"File contents:\")\n",
    "        print(contents)\n",
    "        file.close()\n",
    "    except FileNotFoundError:\n",
    "        print(\"Error: File not found.\")\n",
    "\n",
    "file_name = input(\"Input a file name: \")\n",
    "open_file(file_name)"
   ]
  },
  {
   "cell_type": "code",
   "execution_count": 51,
   "id": "5ff9467f",
   "metadata": {},
   "outputs": [
    {
     "name": "stdout",
     "output_type": "stream",
     "text": [
      "Input a file name: demo\n",
      "<class 'FileNotFoundError'>\n",
      "FileNotFoundError\n"
     ]
    }
   ],
   "source": [
    "def open_file(filename):\n",
    "    try:\n",
    "        file = open(filename, 'r')\n",
    "        contents = file.read()\n",
    "        print(\"File contents:\")\n",
    "        print(contents)\n",
    "        file.close()\n",
    "    except Exception as e:\n",
    "        print(type(e))\n",
    "        print(e.__class__.__name__)\n",
    "\n",
    "file_name = input(\"Input a file name: \")\n",
    "open_file(file_name)"
   ]
  },
  {
   "cell_type": "markdown",
   "id": "d5e29241",
   "metadata": {},
   "source": [
    "# 6. IOError"
   ]
  },
  {
   "cell_type": "code",
   "execution_count": 54,
   "id": "0b4059ac",
   "metadata": {},
   "outputs": [
    {
     "name": "stdout",
     "output_type": "stream",
     "text": [
      "[Errno 2] No such file or directory: 'non_existent_file.txt'\n"
     ]
    }
   ],
   "source": [
    "try:\n",
    "    # Attempt to open a file that does not exist\n",
    "    with open(\"non_existent_file.txt\", \"r\") as file:\n",
    "        content = file.read()\n",
    "except IOError as e:\n",
    "    print(e)"
   ]
  },
  {
   "cell_type": "code",
   "execution_count": 55,
   "id": "59f002ad",
   "metadata": {},
   "outputs": [
    {
     "name": "stdout",
     "output_type": "stream",
     "text": [
      "FileNotFoundError\n"
     ]
    }
   ],
   "source": [
    "try:\n",
    "    # Attempt to open a file that does not exist\n",
    "    with open(\"non_existent_file.txt\", \"r\") as file:\n",
    "        content = file.read()\n",
    "except Exception as e:\n",
    "    print(e.__class__.__name__)"
   ]
  },
  {
   "cell_type": "markdown",
   "id": "81426357",
   "metadata": {},
   "source": [
    "# 7. AttributeError"
   ]
  },
  {
   "cell_type": "code",
   "execution_count": 56,
   "id": "924fd739",
   "metadata": {},
   "outputs": [
    {
     "name": "stdout",
     "output_type": "stream",
     "text": [
      "Error: The list does not have a 'length' attribute.\n"
     ]
    }
   ],
   "source": [
    "def test_list_operation(nums):\n",
    "    try:\n",
    "        r1 = nums.lengtha  # Trying to access the 'length' attribute r1 = len(r1)\n",
    "        print(\"Length of the list:\", r1)\n",
    "    except AttributeError:\n",
    "        print(\"Error: The list does not have a 'length' attribute.\")\n",
    "nums = [1, 2, 3, 4, 5]\n",
    "test_list_operation(nums)"
   ]
  },
  {
   "cell_type": "code",
   "execution_count": 57,
   "id": "5443e487",
   "metadata": {},
   "outputs": [
    {
     "name": "stdout",
     "output_type": "stream",
     "text": [
      "AttributeError\n"
     ]
    }
   ],
   "source": [
    "def test_list_operation(nums):\n",
    "    try:\n",
    "        r1 = nums.lengtha  # Trying to access the 'length' attribute r1 = len(r1)\n",
    "        print(\"Length of the list:\", r1)\n",
    "    except Exception as e:\n",
    "        print(e.__class__.__name__)\n",
    "nums = [1, 2, 3, 4, 5]\n",
    "test_list_operation(nums)"
   ]
  },
  {
   "cell_type": "markdown",
   "id": "f81a7e1b",
   "metadata": {},
   "source": [
    "# 8. ArithmeticError"
   ]
  },
  {
   "cell_type": "code",
   "execution_count": 58,
   "id": "b4326d66",
   "metadata": {},
   "outputs": [
    {
     "name": "stdout",
     "output_type": "stream",
     "text": [
      "Input the dividend: 12\n",
      "Input the divisor: 0\n",
      "Error: Arithmetic error occurred!\n"
     ]
    }
   ],
   "source": [
    "def division(dividend, divisor):\n",
    "    try:\n",
    "        result = dividend / divisor\n",
    "        print(\"Result:\", result)\n",
    "    except ArithmeticError:\n",
    "        print(\"Error: Arithmetic error occurred!\")\n",
    "#Usage\n",
    "dividend = float(input(\"Input the dividend: \"))\n",
    "divisor = float(input(\"Input the divisor: \"))\n",
    "division(dividend, divisor)"
   ]
  },
  {
   "cell_type": "code",
   "execution_count": 65,
   "id": "cb7ab0c1",
   "metadata": {},
   "outputs": [
    {
     "name": "stdout",
     "output_type": "stream",
     "text": [
      "Input the dividend: 12\n",
      "Input the divisor: 0\n",
      "ZeroDivisionError\n"
     ]
    }
   ],
   "source": [
    "def division(dividend, divisor):\n",
    "    try:\n",
    "        result = dividend / divisor\n",
    "        print(\"Result:\", result)\n",
    "    except Exception as e:\n",
    "        print(e.__class__.__name__)\n",
    "\n",
    "dividend = float(input(\"Input the dividend: \"))\n",
    "divisor = float(input(\"Input the divisor: \"))\n",
    "division(dividend, divisor)"
   ]
  },
  {
   "cell_type": "markdown",
   "id": "eee77f8a",
   "metadata": {},
   "source": [
    "# 9. IndexError"
   ]
  },
  {
   "cell_type": "code",
   "execution_count": 66,
   "id": "dd9543a7",
   "metadata": {},
   "outputs": [
    {
     "name": "stdout",
     "output_type": "stream",
     "text": [
      "Input the index: 9\n",
      "Error: Index out of range.\n"
     ]
    }
   ],
   "source": [
    "def test_index(data, index):\n",
    "    try:\n",
    "        result = data[index]\n",
    "        print(\"Result:\", result)\n",
    "    except IndexError:\n",
    "        print(\"Error: Index out of range.\")\n",
    "\n",
    "nums = [1, 2, 3, 4, 5, 6, 7]\n",
    "index = int(input(\"Input the index: \"))\n",
    "test_index(nums, index)"
   ]
  },
  {
   "cell_type": "code",
   "execution_count": 67,
   "id": "63a2cacd",
   "metadata": {},
   "outputs": [
    {
     "name": "stdout",
     "output_type": "stream",
     "text": [
      "Input the index: 9\n",
      "IndexError\n"
     ]
    }
   ],
   "source": [
    "def test_index(data, index):\n",
    "    try:\n",
    "        result = data[index]\n",
    "        print(\"Result:\", result)\n",
    "    except Exception as e:\n",
    "        print(e.__class__.__name__)\n",
    "\n",
    "nums = [1, 2, 3, 4, 5, 6, 7]\n",
    "index = int(input(\"Input the index: \"))\n",
    "test_index(nums, index)"
   ]
  },
  {
   "cell_type": "markdown",
   "id": "f185448a",
   "metadata": {},
   "source": [
    "# 10. PermissionError"
   ]
  },
  {
   "cell_type": "code",
   "execution_count": null,
   "id": "4bac6142",
   "metadata": {},
   "outputs": [],
   "source": [
    "def open_file(filename):\n",
    "    try:\n",
    "        with open(filename, 'w') as file:\n",
    "            contents = file.read()\n",
    "            print(\"File contents:\")\n",
    "            print(contents)\n",
    "    except PermissionError:\n",
    "        print(\"Error: Permission denied to open the file.\")\n",
    "\n",
    "file_name = input(\"Input a file name: \")\n",
    "open_file(file_name)"
   ]
  },
  {
   "cell_type": "markdown",
   "id": "23995b78",
   "metadata": {},
   "source": [
    "# 11. KeyboardInterrupt\n",
    "Raised when the user hits the interrupt key (normally Control-C or Delete)"
   ]
  },
  {
   "cell_type": "code",
   "execution_count": 70,
   "id": "724e691e",
   "metadata": {},
   "outputs": [
    {
     "name": "stdout",
     "output_type": "stream",
     "text": [
      "Input a number: 12\n",
      "You entered: 12\n"
     ]
    }
   ],
   "source": [
    "try:\n",
    "    n = int(input(\"Input a number: \"))\n",
    "    print(\"You entered:\", n)\n",
    "except KeyboardInterrupt as e:\n",
    "    print(e.__class__.__name__)"
   ]
  },
  {
   "cell_type": "code",
   "execution_count": null,
   "id": "5b9eaedf",
   "metadata": {},
   "outputs": [],
   "source": []
  }
 ],
 "metadata": {
  "kernelspec": {
   "display_name": "Python 3 (ipykernel)",
   "language": "python",
   "name": "python3"
  },
  "language_info": {
   "codemirror_mode": {
    "name": "ipython",
    "version": 3
   },
   "file_extension": ".py",
   "mimetype": "text/x-python",
   "name": "python",
   "nbconvert_exporter": "python",
   "pygments_lexer": "ipython3",
   "version": "3.11.5"
  }
 },
 "nbformat": 4,
 "nbformat_minor": 5
}
