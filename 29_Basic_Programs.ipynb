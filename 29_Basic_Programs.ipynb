{
 "cells": [
  {
   "cell_type": "markdown",
   "id": "392c00c5",
   "metadata": {},
   "source": [
    "# 1 Prime or not\n",
    "natural number > 1\n",
    "prime number -> divided by 1 and itself (Ex: 1, 19) -> If only 2 factors, its prime or not "
   ]
  },
  {
   "cell_type": "code",
   "execution_count": 1,
   "id": "7cf3a742",
   "metadata": {},
   "outputs": [
    {
     "name": "stdout",
     "output_type": "stream",
     "text": [
      "Enter Number:19\n",
      "prime\n"
     ]
    }
   ],
   "source": [
    "n = int(input(\"Enter Number:\"))\n",
    "factor = 0\n",
    "if n > 1:\n",
    "    for i in range(1,n+1):\n",
    "        if n%i == 0:\n",
    "            factor+=1\n",
    "    if factor == 2:\n",
    "        print(\"prime\")\n",
    "    else:\n",
    "        print(\"not prime\")"
   ]
  },
  {
   "cell_type": "markdown",
   "id": "9587ba92",
   "metadata": {},
   "source": [
    "# 2 Swap numbers"
   ]
  },
  {
   "cell_type": "code",
   "execution_count": 2,
   "id": "67e89377",
   "metadata": {},
   "outputs": [
    {
     "name": "stdout",
     "output_type": "stream",
     "text": [
      "20 30 10\n"
     ]
    }
   ],
   "source": [
    "n1 = 10\n",
    "n2 = 20\n",
    "n3 = 30\n",
    "temp = n1\n",
    "n1 = n2\n",
    "n2 = n3\n",
    "n3 = temp\n",
    "print(n1,n2,n3)"
   ]
  },
  {
   "cell_type": "markdown",
   "id": "d45aae9a",
   "metadata": {},
   "source": [
    "# 3 Factorial Number\n",
    "Ex: factorial of 5 or 5! = 1*2*3*4*5 =120"
   ]
  },
  {
   "cell_type": "code",
   "execution_count": 9,
   "id": "fbf8ec30",
   "metadata": {},
   "outputs": [
    {
     "name": "stdout",
     "output_type": "stream",
     "text": [
      "Enter Number:6\n",
      "720\n"
     ]
    }
   ],
   "source": [
    "fact = 1\n",
    "num = int(input(\"Enter Number:\"))\n",
    "if num < 0:\n",
    "    print(\"factorial doesn't exist negative numbers\")\n",
    "elif num == 0:\n",
    "    print(\"factorial of 0 is 1\")\n",
    "else:\n",
    "    for i in range(1,num+1):\n",
    "        fact = fact * i\n",
    "    print(fact)"
   ]
  },
  {
   "cell_type": "code",
   "execution_count": 10,
   "id": "249320f7",
   "metadata": {},
   "outputs": [
    {
     "name": "stdout",
     "output_type": "stream",
     "text": [
      "Enter Number:5\n"
     ]
    },
    {
     "data": {
      "text/plain": [
       "120"
      ]
     },
     "execution_count": 10,
     "metadata": {},
     "output_type": "execute_result"
    }
   ],
   "source": [
    "## By using recursive method \n",
    "\n",
    "n1 = int(input(\"Enter Number:\"))\n",
    "def fun(n):\n",
    "    if (n==0 or n==1):\n",
    "        return 1\n",
    "    else:\n",
    "        return n * fun(n-1)  \n",
    "                  # 5 * 4 * 3 * 2 * 1\n",
    "fun(n1)"
   ]
  },
  {
   "cell_type": "code",
   "execution_count": 312,
   "id": "8945372a",
   "metadata": {},
   "outputs": [
    {
     "name": "stdout",
     "output_type": "stream",
     "text": [
      "enter the number:5\n",
      "120\n"
     ]
    }
   ],
   "source": [
    "## By using in built method\n",
    "import math\n",
    "n = int(input(\"enter the number:\"))\n",
    "result = math.factorial(n)\n",
    "print(result)"
   ]
  },
  {
   "cell_type": "markdown",
   "id": "e2c5ab30",
   "metadata": {},
   "source": [
    "# 04 Fibonacci series\n",
    "sum of two preceding numbers: 0 1 1 2 3 5 8 13...(0+1 =1, 1+2 =3, 2+3=5, 3+5 =8, 5+8=13)"
   ]
  },
  {
   "cell_type": "code",
   "execution_count": 15,
   "id": "bde1c109",
   "metadata": {},
   "outputs": [
    {
     "name": "stdout",
     "output_type": "stream",
     "text": [
      "Enter Value:10\n",
      "0 1 1 2 3 5 8 13 21 34 55 "
     ]
    }
   ],
   "source": [
    "n = int(input(\"Enter Value:\"))\n",
    "n1 = 0\n",
    "n2 = 1\n",
    "print(n1,n2, end=\" \")\n",
    "for i in range(2,n+1):\n",
    "    res = n1 + n2\n",
    "    print(res,end=\" \")\n",
    "    n1 = n2\n",
    "    n2 = res"
   ]
  },
  {
   "cell_type": "markdown",
   "id": "32f0c707",
   "metadata": {},
   "source": [
    "# 05 LIST: Sum of Array Elements"
   ]
  },
  {
   "cell_type": "code",
   "execution_count": 16,
   "id": "8670e281",
   "metadata": {},
   "outputs": [
    {
     "name": "stdout",
     "output_type": "stream",
     "text": [
      "15\n"
     ]
    }
   ],
   "source": [
    "l = [1,2,3,4,5]\n",
    "print(sum(l))"
   ]
  },
  {
   "cell_type": "code",
   "execution_count": 17,
   "id": "fdcfca41",
   "metadata": {},
   "outputs": [
    {
     "name": "stdout",
     "output_type": "stream",
     "text": [
      "15\n"
     ]
    }
   ],
   "source": [
    "l = [1,2,3,4,5]\n",
    "c = 0\n",
    "for i in l:\n",
    "    c = c+i\n",
    "print(c)"
   ]
  },
  {
   "cell_type": "code",
   "execution_count": 65,
   "id": "62d73924",
   "metadata": {},
   "outputs": [
    {
     "name": "stdout",
     "output_type": "stream",
     "text": [
      "15\n"
     ]
    }
   ],
   "source": [
    "l = [1,2,3,4,5]\n",
    "c = 0\n",
    "for i in range(0,len(l)):\n",
    "    c = c + l[i]\n",
    "print(c)"
   ]
  },
  {
   "cell_type": "markdown",
   "id": "5c4a736e",
   "metadata": {},
   "source": [
    "# 05 LIST: Mul of Array Elements"
   ]
  },
  {
   "cell_type": "code",
   "execution_count": 28,
   "id": "82207525",
   "metadata": {},
   "outputs": [
    {
     "name": "stdout",
     "output_type": "stream",
     "text": [
      "120\n"
     ]
    }
   ],
   "source": [
    "# Traversalmethod\n",
    "l = [1,2,3,4,5]\n",
    "c=1\n",
    "for i in l:\n",
    "    c = c*i\n",
    "print(c)"
   ]
  },
  {
   "cell_type": "code",
   "execution_count": 68,
   "id": "d591cd2d",
   "metadata": {},
   "outputs": [
    {
     "name": "stdout",
     "output_type": "stream",
     "text": [
      "120\n",
      "15\n"
     ]
    }
   ],
   "source": [
    "import numpy\n",
    "l = [1,2,3,4,5]\n",
    "print(numpy.prod(l))\n",
    "print(numpy.sum(l))"
   ]
  },
  {
   "cell_type": "markdown",
   "id": "e607f7c8",
   "metadata": {},
   "source": [
    "# 06 LIST: Max Value in Array "
   ]
  },
  {
   "cell_type": "code",
   "execution_count": 30,
   "id": "3bbc86cd",
   "metadata": {},
   "outputs": [
    {
     "name": "stdout",
     "output_type": "stream",
     "text": [
      "25\n"
     ]
    }
   ],
   "source": [
    "l = [10,22,9,13,14,25,7,23]\n",
    "m = l[0]\n",
    "n = len(l)\n",
    "for i in range(1,n):\n",
    "    if l[i] > m:\n",
    "        m = l[i]\n",
    "print(m)"
   ]
  },
  {
   "cell_type": "markdown",
   "id": "87c9f009",
   "metadata": {},
   "source": [
    "# 07 LIST: Min Value in Array "
   ]
  },
  {
   "cell_type": "code",
   "execution_count": 31,
   "id": "d0a5b2b5",
   "metadata": {},
   "outputs": [
    {
     "name": "stdout",
     "output_type": "stream",
     "text": [
      "7\n"
     ]
    }
   ],
   "source": [
    "l = [10,22,9,13,14,25,7,23]\n",
    "m = l[0]\n",
    "n = len(l)\n",
    "for i in range(1,n):\n",
    "    if l[i] < m:\n",
    "        m = l[i]\n",
    "print(m)"
   ]
  },
  {
   "cell_type": "markdown",
   "id": "06aeb863",
   "metadata": {},
   "source": [
    "# 08 LIST: Length of Array"
   ]
  },
  {
   "cell_type": "code",
   "execution_count": 34,
   "id": "93b65817",
   "metadata": {},
   "outputs": [
    {
     "name": "stdout",
     "output_type": "stream",
     "text": [
      "8\n",
      "8\n"
     ]
    }
   ],
   "source": [
    "l = [10,22,9,13,14,25,7,23]\n",
    "print(len(l))\n",
    "\n",
    "val=0\n",
    "for i in l:\n",
    "    val=val+1\n",
    "print(val)"
   ]
  },
  {
   "cell_type": "markdown",
   "id": "296a3253",
   "metadata": {},
   "source": [
    "## 09 LIST: Swap first element & last element in list\n",
    "input: [1,2,3,4,5]\n",
    "output: [5,2,3,4,1]"
   ]
  },
  {
   "cell_type": "code",
   "execution_count": 36,
   "id": "f6ada738",
   "metadata": {},
   "outputs": [
    {
     "name": "stdout",
     "output_type": "stream",
     "text": [
      "[5, 2, 3, 4, 1]\n"
     ]
    }
   ],
   "source": [
    "l = [1,2,3,4,5]\n",
    "size = len(l)\n",
    "\n",
    "temp = l[0]\n",
    "l[0] = l[size-1]\n",
    "l[size-1] = temp\n",
    "\n",
    "print(l)"
   ]
  },
  {
   "cell_type": "code",
   "execution_count": 1,
   "id": "6d3b5f44",
   "metadata": {},
   "outputs": [
    {
     "name": "stdout",
     "output_type": "stream",
     "text": [
      "[5, 2, 3, 4, 1]\n"
     ]
    }
   ],
   "source": [
    "l = [1,2,3,4,5]\n",
    "\n",
    "l[0],l[-1]=l[-1],l[0]\n",
    "print(l)"
   ]
  },
  {
   "cell_type": "code",
   "execution_count": 3,
   "id": "77115d8d",
   "metadata": {},
   "outputs": [
    {
     "name": "stdout",
     "output_type": "stream",
     "text": [
      "[5, 2, 3, 4, 1]\n"
     ]
    }
   ],
   "source": [
    "## tuple Packing & unpacking using\n",
    "l = [1,2,3,4,5]\n",
    "pack = (l[-1],l[0])\n",
    "l[0],l[-1] = pack\n",
    "print(l)"
   ]
  },
  {
   "cell_type": "code",
   "execution_count": 5,
   "id": "32428f05",
   "metadata": {},
   "outputs": [
    {
     "name": "stdout",
     "output_type": "stream",
     "text": [
      "1\n",
      "[2, 3, 4]\n",
      "5\n",
      "[5, 2, 3, 4, 1]\n"
     ]
    }
   ],
   "source": [
    "## * operand\n",
    "l = [1,2,3,4,5]\n",
    "start,*middle,end = l\n",
    "#print(start)\n",
    "#print(middle)\n",
    "#print(end)\n",
    "l1 = [end,*middle,start]\n",
    "print(l1)"
   ]
  },
  {
   "cell_type": "code",
   "execution_count": 6,
   "id": "3b197921",
   "metadata": {},
   "outputs": [
    {
     "name": "stdout",
     "output_type": "stream",
     "text": [
      "[5, 2, 3, 4, 1]\n"
     ]
    }
   ],
   "source": [
    "## using pop\n",
    "l = [1,2,3,4,5]\n",
    "first = l.pop(0)\n",
    "last = l.pop(-1)\n",
    "l.insert(0,last)\n",
    "l.append(first)\n",
    "print(l)"
   ]
  },
  {
   "cell_type": "markdown",
   "id": "9e864918",
   "metadata": {},
   "source": [
    "# 10 LIST: Swap Any elements in list\n",
    "\n",
    "input: [23,65,45,32,11] -> pos1=1 & pos2=3 \n",
    "output: [23,32,45,65,11]"
   ]
  },
  {
   "cell_type": "code",
   "execution_count": 8,
   "id": "7fa6175c",
   "metadata": {},
   "outputs": [
    {
     "name": "stdout",
     "output_type": "stream",
     "text": [
      "[23, 32, 45, 65, 11]\n"
     ]
    }
   ],
   "source": [
    "l = [23,65,45,32,11]\n",
    "\n",
    "pos1, pos2 = 1,3\n",
    "l[pos1],l[pos2]=l[pos2],l[pos1]\n",
    "print(l)"
   ]
  },
  {
   "cell_type": "code",
   "execution_count": 9,
   "id": "95d7872b",
   "metadata": {},
   "outputs": [
    {
     "name": "stdout",
     "output_type": "stream",
     "text": [
      "[23, 11, 45, 65, 32]\n"
     ]
    }
   ],
   "source": [
    "## using pop & insert\n",
    "l = [23,65,45,32,11]\n",
    "pos1, pos2 = 1,3\n",
    "\n",
    "first = l.pop(pos1)\n",
    "last = l.pop(pos2)\n",
    "l.insert(pos1,last)\n",
    "l.insert(pos2,first)\n",
    "print(l)"
   ]
  },
  {
   "cell_type": "code",
   "execution_count": 10,
   "id": "170dcc3a",
   "metadata": {},
   "outputs": [
    {
     "name": "stdout",
     "output_type": "stream",
     "text": [
      "[23, 32, 45, 65, 11]\n"
     ]
    }
   ],
   "source": [
    "## using tuple (pack & unpack)\n",
    "l = [23,65,45,32,11]\n",
    "pos1, pos2 = 1,3\n",
    "\n",
    "get = (l[pos1],l[pos2])\n",
    "l[pos2],l[pos1] = get\n",
    "print(l)"
   ]
  },
  {
   "cell_type": "markdown",
   "id": "cf6e1025",
   "metadata": {},
   "source": [
    "# 11. LIST: Remove nth Occurance of Variable"
   ]
  },
  {
   "cell_type": "code",
   "execution_count": 22,
   "id": "1998918b",
   "metadata": {},
   "outputs": [
    {
     "name": "stdout",
     "output_type": "stream",
     "text": [
      "Enter Word:Hello\n",
      "['Hi', 'Hello', 'Naresh', 'AND', 'Hi', 'Nikky']\n"
     ]
    }
   ],
   "source": [
    "my_words = [\"Hi\",\"Hello\",\"Naresh\",\"AND\",\"Hi\",\"Hello\",\"Nikky\"]\n",
    "w = input(\"Enter Word:\")\n",
    "c = 0\n",
    "\n",
    "for key in range(0,len(my_words)-1):\n",
    "    if(my_words[key] == w):\n",
    "        c= c+1\n",
    "    if(c == 2):\n",
    "        del my_words[key]\n",
    "print(my_words)"
   ]
  },
  {
   "cell_type": "markdown",
   "id": "b3936d65",
   "metadata": {},
   "source": [
    "# 12 LIST: Search Element in list"
   ]
  },
  {
   "cell_type": "code",
   "execution_count": 34,
   "id": "067337c5",
   "metadata": {},
   "outputs": [
    {
     "name": "stdout",
     "output_type": "stream",
     "text": [
      "Enter Element:100\n",
      "Not Found\n"
     ]
    }
   ],
   "source": [
    "l = [1,2,3,4,5,6]\n",
    "n =int(input(\"Enter Element:\"))\n",
    "flag = 0\n",
    "for i in l:\n",
    "    if n==i:\n",
    "        print(\"Found\")\n",
    "        flag = 1\n",
    "if flag==0:\n",
    "    print(\"Not Found\")"
   ]
  },
  {
   "cell_type": "code",
   "execution_count": 30,
   "id": "67bc1973",
   "metadata": {},
   "outputs": [
    {
     "name": "stdout",
     "output_type": "stream",
     "text": [
      "Enter Element:10\n",
      "Not Found\n"
     ]
    }
   ],
   "source": [
    "## using in \n",
    "l = [1,2,3,4,5,6]\n",
    "n =int(input(\"Enter Element:\"))\n",
    "if n in l:\n",
    "    print(\"Found\")\n",
    "else:\n",
    "    print(\"Not Found\")"
   ]
  },
  {
   "cell_type": "markdown",
   "id": "4948dc6c",
   "metadata": {},
   "source": [
    "# 13 LIST: Clear List:\n",
    "Approaches:\n",
    "1. clear()\n",
    "2. Init the list with no value\n",
    "3. * = 0\n",
    "4. del()"
   ]
  },
  {
   "cell_type": "code",
   "execution_count": 37,
   "id": "de41698d",
   "metadata": {},
   "outputs": [
    {
     "data": {
      "text/plain": [
       "[]"
      ]
     },
     "execution_count": 37,
     "metadata": {},
     "output_type": "execute_result"
    }
   ],
   "source": [
    "lis = [1,2,3,4,5]\n",
    "\n",
    "lis.clear()\n",
    "lis"
   ]
  },
  {
   "cell_type": "code",
   "execution_count": 39,
   "id": "4d3ca0b0",
   "metadata": {},
   "outputs": [
    {
     "data": {
      "text/plain": [
       "[]"
      ]
     },
     "execution_count": 39,
     "metadata": {},
     "output_type": "execute_result"
    }
   ],
   "source": [
    "lis = [1,2,3,4,5]\n",
    "\n",
    "lis = []\n",
    "lis"
   ]
  },
  {
   "cell_type": "code",
   "execution_count": 41,
   "id": "b7f5bed1",
   "metadata": {},
   "outputs": [
    {
     "data": {
      "text/plain": [
       "[]"
      ]
     },
     "execution_count": 41,
     "metadata": {},
     "output_type": "execute_result"
    }
   ],
   "source": [
    "lis = [1,2,3,4,5]\n",
    "\n",
    "lis *=0\n",
    "lis"
   ]
  },
  {
   "cell_type": "code",
   "execution_count": 44,
   "id": "6399ce23",
   "metadata": {},
   "outputs": [
    {
     "data": {
      "text/plain": [
       "[]"
      ]
     },
     "execution_count": 44,
     "metadata": {},
     "output_type": "execute_result"
    }
   ],
   "source": [
    "lis = [1,2,3,4,5]\n",
    "\n",
    "del lis[:]\n",
    "lis"
   ]
  },
  {
   "cell_type": "markdown",
   "id": "35facbec",
   "metadata": {},
   "source": [
    "# 13 LIST: Reverse a List"
   ]
  },
  {
   "cell_type": "code",
   "execution_count": 46,
   "id": "8ed60ffa",
   "metadata": {},
   "outputs": [
    {
     "data": {
      "text/plain": [
       "[5, 4, 3, 2, 1]"
      ]
     },
     "execution_count": 46,
     "metadata": {},
     "output_type": "execute_result"
    }
   ],
   "source": [
    "lis = [1,2,3,4,5]\n",
    "\n",
    "lis.reverse()\n",
    "lis"
   ]
  },
  {
   "cell_type": "code",
   "execution_count": 47,
   "id": "7719c7a3",
   "metadata": {},
   "outputs": [
    {
     "data": {
      "text/plain": [
       "[5, 4, 3, 2, 1]"
      ]
     },
     "execution_count": 47,
     "metadata": {},
     "output_type": "execute_result"
    }
   ],
   "source": [
    "lis[::-1]  ## [start:end:step] -> [ : from starting to ending -1 start from reverse ]\n",
    "lis"
   ]
  },
  {
   "cell_type": "code",
   "execution_count": 48,
   "id": "eb1c5434",
   "metadata": {},
   "outputs": [
    {
     "name": "stdout",
     "output_type": "stream",
     "text": [
      "[5, 4, 3, 2, 1]\n"
     ]
    }
   ],
   "source": [
    "lis = [1,2,3,4,5]\n",
    "ind = len(lis)-1\n",
    "l = []\n",
    "while ind!=-1:\n",
    "    l.append(lis[ind])\n",
    "    ind=ind-1\n",
    "print(l)"
   ]
  },
  {
   "cell_type": "code",
   "execution_count": 52,
   "id": "8c81e1d0",
   "metadata": {},
   "outputs": [
    {
     "name": "stdout",
     "output_type": "stream",
     "text": [
      "[5, 4, 3, 2, 1]\n"
     ]
    }
   ],
   "source": [
    "lis = [1,2,3,4,5]\n",
    "l = []\n",
    "for i in range(len(lis)-1,-1,-1):\n",
    "    l.append(lis[i])\n",
    "print(l)"
   ]
  },
  {
   "cell_type": "markdown",
   "id": "926b03b5",
   "metadata": {},
   "source": [
    "# 14 LIST: Clone or Copy a list\n",
    "1. Slicing\n",
    "2. extend()\n",
    "3. list()\n",
    "4. copy()\n",
    "5. list comprehension"
   ]
  },
  {
   "cell_type": "code",
   "execution_count": 53,
   "id": "211d7887",
   "metadata": {},
   "outputs": [
    {
     "data": {
      "text/plain": [
       "[1, 2, 3, 4, 5]"
      ]
     },
     "execution_count": 53,
     "metadata": {},
     "output_type": "execute_result"
    }
   ],
   "source": [
    "lis = [1,2,3,4,5]\n",
    "\n",
    "lis_copy = lis[:]\n",
    "lis_copy"
   ]
  },
  {
   "cell_type": "code",
   "execution_count": 54,
   "id": "8781beb2",
   "metadata": {},
   "outputs": [
    {
     "data": {
      "text/plain": [
       "[1, 2, 3, 4, 5]"
      ]
     },
     "execution_count": 54,
     "metadata": {},
     "output_type": "execute_result"
    }
   ],
   "source": [
    "lis = [1,2,3,4,5]\n",
    "\n",
    "lis_copy = []\n",
    "lis_copy.extend(lis)\n",
    "lis_copy"
   ]
  },
  {
   "cell_type": "code",
   "execution_count": 55,
   "id": "dc9696ce",
   "metadata": {},
   "outputs": [
    {
     "data": {
      "text/plain": [
       "[1, 2, 3, 4, 5]"
      ]
     },
     "execution_count": 55,
     "metadata": {},
     "output_type": "execute_result"
    }
   ],
   "source": [
    "lis = [1,2,3,4,5]\n",
    "\n",
    "lis_c = list(lis)\n",
    "lis_c"
   ]
  },
  {
   "cell_type": "code",
   "execution_count": 56,
   "id": "d6dbf75a",
   "metadata": {},
   "outputs": [
    {
     "data": {
      "text/plain": [
       "[1, 2, 3, 4, 5]"
      ]
     },
     "execution_count": 56,
     "metadata": {},
     "output_type": "execute_result"
    }
   ],
   "source": [
    "lis = [1,2,3,4,5]\n",
    "\n",
    "lis_c = lis.copy()\n",
    "lis_c"
   ]
  },
  {
   "cell_type": "code",
   "execution_count": 57,
   "id": "3148038f",
   "metadata": {},
   "outputs": [
    {
     "data": {
      "text/plain": [
       "[1, 2, 3, 4, 5]"
      ]
     },
     "execution_count": 57,
     "metadata": {},
     "output_type": "execute_result"
    }
   ],
   "source": [
    "lis = [1,2,3,4,5]\n",
    "\n",
    "lis_copy = [i for i in lis]\n",
    "lis_copy"
   ]
  },
  {
   "cell_type": "markdown",
   "id": "9118af65",
   "metadata": {},
   "source": [
    "# 15. LIST: Count Occurance of element"
   ]
  },
  {
   "cell_type": "code",
   "execution_count": 59,
   "id": "25359188",
   "metadata": {},
   "outputs": [
    {
     "name": "stdout",
     "output_type": "stream",
     "text": [
      "Enter Num:10\n",
      "4\n"
     ]
    }
   ],
   "source": [
    "lis = [10, 15, 16, 17, 18, 19, 10, 20, 10, 30, 10]\n",
    "n = int(input(\"Enter Num:\"))\n",
    "c = 0\n",
    "for i in lis:\n",
    "    if n==i:\n",
    "        c=c+1\n",
    "print(c)"
   ]
  },
  {
   "cell_type": "code",
   "execution_count": 61,
   "id": "8e2d91e1",
   "metadata": {},
   "outputs": [
    {
     "data": {
      "text/plain": [
       "4"
      ]
     },
     "execution_count": 61,
     "metadata": {},
     "output_type": "execute_result"
    }
   ],
   "source": [
    "lis = [10, 15, 16, 17, 18, 19, 10, 20, 10, 30, 10]\n",
    "lis.count(10)"
   ]
  },
  {
   "cell_type": "code",
   "execution_count": 64,
   "id": "fc087340",
   "metadata": {},
   "outputs": [
    {
     "name": "stdout",
     "output_type": "stream",
     "text": [
      "Counter({10: 4, 15: 1, 16: 1, 17: 1, 18: 1, 19: 1, 20: 1, 30: 1})\n",
      "10 4\n"
     ]
    }
   ],
   "source": [
    "from collections import Counter\n",
    "\n",
    "lis = [10, 15, 16, 17, 18, 19, 10, 20, 10, 30, 10]\n",
    "x = 10\n",
    "dic = Counter(lis)\n",
    "print(dic)\n",
    "print(x,dic[x])"
   ]
  },
  {
   "cell_type": "markdown",
   "id": "4a40b441",
   "metadata": {},
   "source": [
    "# 16. LIST: Find Smallest & largest number in list"
   ]
  },
  {
   "cell_type": "code",
   "execution_count": 71,
   "id": "5cc22aa1",
   "metadata": {},
   "outputs": [
    {
     "name": "stdout",
     "output_type": "stream",
     "text": [
      "10\n",
      "30\n"
     ]
    }
   ],
   "source": [
    "lis = [10, 15, 16, 17, 18, 19, 10, 20, 10, 30, 10]\n",
    "\n",
    "lis.sort()\n",
    "lis\n",
    "print(lis[0])\n",
    "print(lis[-1])"
   ]
  },
  {
   "cell_type": "code",
   "execution_count": 74,
   "id": "262d1562",
   "metadata": {},
   "outputs": [
    {
     "name": "stdout",
     "output_type": "stream",
     "text": [
      "30\n",
      "10\n"
     ]
    }
   ],
   "source": [
    "## min max\n",
    "lis = [10, 15, 16, 17, 18, 19, 10, 20, 10, 30, 10]\n",
    "\n",
    "print(max(lis))\n",
    "print(min(lis))"
   ]
  },
  {
   "cell_type": "code",
   "execution_count": 75,
   "id": "550f3830",
   "metadata": {},
   "outputs": [
    {
     "name": "stdout",
     "output_type": "stream",
     "text": [
      "25\n"
     ]
    }
   ],
   "source": [
    "l = [10,22,9,13,14,25,7,23]\n",
    "m = l[0]\n",
    "n = len(l)\n",
    "for i in range(1,n):\n",
    "    if l[i] < m:\n",
    "        m = l[i]\n",
    "print(m)"
   ]
  },
  {
   "cell_type": "code",
   "execution_count": 76,
   "id": "07445db7",
   "metadata": {},
   "outputs": [
    {
     "name": "stdout",
     "output_type": "stream",
     "text": [
      "25\n"
     ]
    }
   ],
   "source": [
    "l = [10,22,9,13,14,25,7,23]\n",
    "m = l[0]\n",
    "n = len(l)\n",
    "for i in range(1,n):\n",
    "    if l[i] > m:\n",
    "        m = l[i]\n",
    "print(m)"
   ]
  },
  {
   "cell_type": "markdown",
   "id": "31305af3",
   "metadata": {},
   "source": [
    "# 17. LIST: second largest number"
   ]
  },
  {
   "cell_type": "code",
   "execution_count": 79,
   "id": "a0fa0019",
   "metadata": {},
   "outputs": [
    {
     "name": "stdout",
     "output_type": "stream",
     "text": [
      "[7, 9, 10, 13, 14, 22, 23, 25]\n",
      "23\n"
     ]
    }
   ],
   "source": [
    "# sort & sclicing \n",
    "l = [10,22,9,13,14,25,7,23]\n",
    "\n",
    "l.sort()\n",
    "print(l)\n",
    "print(l[-2])"
   ]
  },
  {
   "cell_type": "code",
   "execution_count": 81,
   "id": "d24b3c4b",
   "metadata": {},
   "outputs": [
    {
     "data": {
      "text/plain": [
       "23"
      ]
     },
     "execution_count": 81,
     "metadata": {},
     "output_type": "execute_result"
    }
   ],
   "source": [
    "# set & remove & max\n",
    "l = [10,22,9,13,14,25,7,23]\n",
    "lis = set(l)\n",
    "lis.remove(max(lis))\n",
    "max(lis)"
   ]
  },
  {
   "cell_type": "code",
   "execution_count": 92,
   "id": "25f2126a",
   "metadata": {},
   "outputs": [
    {
     "name": "stdout",
     "output_type": "stream",
     "text": [
      "[10, 22, 9, 13, 14, 7, 23]\n",
      "[23]\n"
     ]
    }
   ],
   "source": [
    "l = [10,22,9,13,14,25,7,23]\n",
    "l1 = [x for x in l if x!=max(l)]\n",
    "print(l1)\n",
    "l2 = [x for x in l1 if x==max(l1)]\n",
    "print(l2)"
   ]
  },
  {
   "cell_type": "code",
   "execution_count": 137,
   "id": "2d0e4329",
   "metadata": {},
   "outputs": [
    {
     "name": "stdout",
     "output_type": "stream",
     "text": [
      "25\n"
     ]
    },
    {
     "data": {
      "text/plain": [
       "'\\n10 > -1:\\ns = -1\\nf = 10\\n\\n24 > 10:\\ns = 10\\nf = 24\\n\\n23 > 24: false\\n23 > 10: elif\\ns = 23\\n\\n25 > 24:\\ns = 24\\nf = 25\\n\\n26 > 25:\\ns = 25\\nf = 26\\n\\ns =25 \\n'"
      ]
     },
     "execution_count": 137,
     "metadata": {},
     "output_type": "execute_result"
    }
   ],
   "source": [
    "lis = [10,24,23,25,26]\n",
    "first_max = second_max = int(-1) or float('-inf')\n",
    "for num in lis:\n",
    "    if num > first_max:\n",
    "        second_max = first_max\n",
    "        first_max = num\n",
    "    elif num > second_max and num != first_max:\n",
    "        second_max = num\n",
    "print(second_max)\n",
    "\n",
    "\"\"\"\n",
    "10 > -1:\n",
    "s = -1\n",
    "f = 10\n",
    "\n",
    "24 > 10:\n",
    "s = 10\n",
    "f = 24\n",
    "\n",
    "23 > 24: false\n",
    "23 > 10: elif\n",
    "s = 23\n",
    "\n",
    "25 > 24:\n",
    "s = 24\n",
    "f = 25\n",
    "\n",
    "26 > 25:\n",
    "s = 25\n",
    "f = 26\n",
    "\n",
    "s =25 \n",
    "\"\"\""
   ]
  },
  {
   "cell_type": "markdown",
   "id": "33c1aced",
   "metadata": {},
   "source": [
    "# 18. Str: Count Char or lengh of string"
   ]
  },
  {
   "cell_type": "code",
   "execution_count": 9,
   "id": "87db3054",
   "metadata": {},
   "outputs": [
    {
     "name": "stdout",
     "output_type": "stream",
     "text": [
      "Enter String:hi hello\n",
      "8\n",
      "8\n"
     ]
    }
   ],
   "source": [
    "n = input(\"Enter String:\")\n",
    "c = 0\n",
    "for i in n:\n",
    "    c = c+1\n",
    "print(c)\n",
    "print(len(n))"
   ]
  },
  {
   "cell_type": "markdown",
   "id": "d4e5d1b5",
   "metadata": {},
   "source": [
    "# 19. Str: Count Words in string"
   ]
  },
  {
   "cell_type": "code",
   "execution_count": 11,
   "id": "a66a7935",
   "metadata": {},
   "outputs": [
    {
     "name": "stdout",
     "output_type": "stream",
     "text": [
      "7\n"
     ]
    }
   ],
   "source": [
    "s = \"hi hello how are you my friend\"\n",
    "c = 1\n",
    "for i in s:\n",
    "    if i == ' ':\n",
    "        c = c+1\n",
    "print(c)"
   ]
  },
  {
   "cell_type": "code",
   "execution_count": 12,
   "id": "dd009506",
   "metadata": {},
   "outputs": [
    {
     "name": "stdout",
     "output_type": "stream",
     "text": [
      "7\n"
     ]
    }
   ],
   "source": [
    "s = \"hi hello how are you my friend\"\n",
    "c = 0\n",
    "for i in s.split():\n",
    "    c = c + 1\n",
    "print(c) "
   ]
  },
  {
   "cell_type": "markdown",
   "id": "f5eeb680",
   "metadata": {},
   "source": [
    "# 20: Str: Count Upper case Letters & display"
   ]
  },
  {
   "cell_type": "code",
   "execution_count": 20,
   "id": "a045e187",
   "metadata": {},
   "outputs": [
    {
     "name": "stdout",
     "output_type": "stream",
     "text": [
      "4\n"
     ]
    }
   ],
   "source": [
    "s = \"HI hello HOW are YOU MY friend\"\n",
    "c = 0\n",
    "for i in s.split():\n",
    "    if i.isupper():\n",
    "        c=c+1\n",
    "print(c)"
   ]
  },
  {
   "cell_type": "code",
   "execution_count": 21,
   "id": "fe9f584c",
   "metadata": {},
   "outputs": [
    {
     "name": "stdout",
     "output_type": "stream",
     "text": [
      " HI HOW YOU MY\n"
     ]
    }
   ],
   "source": [
    "s = \"HI hello HOW are YOU MY friend\"\n",
    "w =\"\"\n",
    "for i in s.split():\n",
    "    if i.isupper():\n",
    "        w=w+\" \"+i\n",
    "print(w)"
   ]
  },
  {
   "cell_type": "markdown",
   "id": "9f60889b",
   "metadata": {},
   "source": [
    "# 21: Str: Count Vowels "
   ]
  },
  {
   "cell_type": "code",
   "execution_count": 22,
   "id": "7127f3f5",
   "metadata": {},
   "outputs": [
    {
     "name": "stdout",
     "output_type": "stream",
     "text": [
      "10\n"
     ]
    }
   ],
   "source": [
    "s = \"HI hello HOW are YOU MY friend\"\n",
    "c = 0\n",
    "v = \"AEIOUaeiou\"\n",
    "for i in s:\n",
    "    if i in v:\n",
    "        c=c+1\n",
    "print(c)"
   ]
  },
  {
   "cell_type": "markdown",
   "id": "627d8068",
   "metadata": {},
   "source": [
    "# 22: Str: String method"
   ]
  },
  {
   "cell_type": "code",
   "execution_count": 32,
   "id": "ee0350cb",
   "metadata": {},
   "outputs": [
    {
     "name": "stdout",
     "output_type": "stream",
     "text": [
      "abcdefghijklmnopqrstuvwxyzABCDEFGHIJKLMNOPQRSTUVWXYZ\n",
      "ABCDEFGHIJKLMNOPQRSTUVWXYZ\n",
      "abcdefghijklmnopqrstuvwxyz\n",
      "0123456789\n",
      "!\"#$%&'()*+,-./:;<=>?@[\\]^_`{|}~\n",
      " \t\n",
      "\r",
      "\u000b",
      "\f",
      "\n",
      "<function capwords at 0x000001C084EED090>\n",
      "0123456789abcdefghijklmnopqrstuvwxyzABCDEFGHIJKLMNOPQRSTUVWXYZ!\"#$%&'()*+,-./:;<=>?@[\\]^_`{|}~ \t\n",
      "\r",
      "\u000b",
      "\f",
      "\n"
     ]
    }
   ],
   "source": [
    "import string\n",
    "print(string.ascii_letters)\n",
    "print(string.ascii_uppercase)\n",
    "print(string.ascii_lowercase)\n",
    "print(string.digits)\n",
    "print(string.punctuation)\n",
    "print(string.whitespace)\n",
    "print(string.capwords)\n",
    "print(string.printable)"
   ]
  },
  {
   "cell_type": "code",
   "execution_count": 36,
   "id": "f4cd10a8",
   "metadata": {},
   "outputs": [
    {
     "name": "stdout",
     "output_type": "stream",
     "text": [
      "4\n"
     ]
    }
   ],
   "source": [
    "s = \"Hi@Hello#$%MYfriend\"\n",
    "c = 0\n",
    "for i in s:\n",
    "    if i in string.punctuation:\n",
    "        c=c+1\n",
    "print(c)"
   ]
  },
  {
   "cell_type": "markdown",
   "id": "ae222405",
   "metadata": {},
   "source": [
    "# 24. Str: Fetching the word starts and ends with consonants"
   ]
  },
  {
   "cell_type": "code",
   "execution_count": 42,
   "id": "673632e3",
   "metadata": {},
   "outputs": [
    {
     "name": "stdout",
     "output_type": "stream",
     "text": [
      " Python good\n"
     ]
    }
   ],
   "source": [
    "s = \"Python is good and Easy Langauage\"\n",
    "v = \"AEIOUaeiou\" \n",
    "w = \"\"\n",
    "for i in s.split():\n",
    "    if i[0] not in v and i[-1] not in v:\n",
    "        w = w+\" \"+i\n",
    "print(w)"
   ]
  },
  {
   "cell_type": "markdown",
   "id": "b50bb172",
   "metadata": {},
   "source": [
    "# 25. Str: Fetching first char of each word"
   ]
  },
  {
   "cell_type": "code",
   "execution_count": 49,
   "id": "d3978dfd",
   "metadata": {},
   "outputs": [
    {
     "name": "stdout",
     "output_type": "stream",
     "text": [
      "P i g a E L ['P', 'i', 'g', 'a', 'E', 'L']\n"
     ]
    }
   ],
   "source": [
    "s = \"Python is good and Easy Langauage\"\n",
    "\n",
    "for i in s.split():\n",
    "    print(i[0],end=\" \")\n",
    "\n",
    "n = [i[0] for i in s.split()]\n",
    "print(n)"
   ]
  },
  {
   "cell_type": "markdown",
   "id": "c6e8e0c8",
   "metadata": {},
   "source": [
    "# 26. Str: Asc or Desc Order"
   ]
  },
  {
   "cell_type": "code",
   "execution_count": 55,
   "id": "b82521b6",
   "metadata": {},
   "outputs": [
    {
     "name": "stdout",
     "output_type": "stream",
     "text": [
      "4Phnoty\n",
      "ytonhP4\n"
     ]
    }
   ],
   "source": [
    "s = \"Python4\"\n",
    "\n",
    "print(\"\".join(sorted(s)))\n",
    "print(\"\".join(sorted(s,reverse=True)))"
   ]
  },
  {
   "cell_type": "markdown",
   "id": "ebe61a3f",
   "metadata": {},
   "source": [
    "# 27. Str: Palindrome or not"
   ]
  },
  {
   "cell_type": "code",
   "execution_count": 138,
   "id": "9975ffce",
   "metadata": {},
   "outputs": [
    {
     "name": "stdout",
     "output_type": "stream",
     "text": [
      "Enter String:madam\n",
      "palindrom\n"
     ]
    }
   ],
   "source": [
    "s = input(\"Enter String:\")\n",
    "\n",
    "rev = s[::-1]\n",
    "\n",
    "if s==rev:\n",
    "    print(\"palindrom\")\n",
    "else:\n",
    "    print(\"not palindorm\")"
   ]
  },
  {
   "cell_type": "code",
   "execution_count": 147,
   "id": "c32fa4d9",
   "metadata": {},
   "outputs": [
    {
     "name": "stdout",
     "output_type": "stream",
     "text": [
      "Enter String:madam\n",
      "palindrom\n"
     ]
    }
   ],
   "source": [
    "s = input(\"Enter String:\")\n",
    "ind = len(s)-1\n",
    "ls = []\n",
    "while ind!=-1:\n",
    "    ls.append(s[ind])\n",
    "    ind = ind-1\n",
    "l = \"\".join(ls)\n",
    "\n",
    "if s==l:\n",
    "    print(\"palindrom\")\n",
    "else:\n",
    "    print(\"not palindorm\")"
   ]
  },
  {
   "cell_type": "code",
   "execution_count": 151,
   "id": "f4e90726",
   "metadata": {},
   "outputs": [
    {
     "name": "stdout",
     "output_type": "stream",
     "text": [
      "Enter String:demo\n",
      "not palindorm\n"
     ]
    }
   ],
   "source": [
    "s = input(\"Enter String:\")\n",
    "w=\"\"\n",
    "for i in s:\n",
    "    w=i+w\n",
    "if s==w:\n",
    "    print(\"palindrom\")\n",
    "else:\n",
    "    print(\"not palindorm\")"
   ]
  },
  {
   "cell_type": "code",
   "execution_count": 155,
   "id": "4b8eb569",
   "metadata": {},
   "outputs": [
    {
     "name": "stdout",
     "output_type": "stream",
     "text": [
      "Enter String:121\n",
      "Given word Pandilome\n"
     ]
    }
   ],
   "source": [
    "s = input(\"Enter String:\")\n",
    "w=\"\"\n",
    "for i in s:\n",
    "    w=i+w\n",
    "\n",
    "if len(s)==1:\n",
    "    print(f\"'{input_value}' is a single character and {'is' if is_palindrome(input_value) else 'is not'} a palindrome.\")\n",
    "elif s.isdigit==int(w):\n",
    "    print(\"Given Number palindrome\")\n",
    "elif s==w:\n",
    "    print(\"Given word Pandilome\")\n",
    "else:\n",
    "    print(\"Not Palindrome\")"
   ]
  },
  {
   "cell_type": "code",
   "execution_count": 179,
   "id": "7820f14c",
   "metadata": {},
   "outputs": [
    {
     "name": "stdout",
     "output_type": "stream",
     "text": [
      "Enter a character, number, or word: w\n",
      "'w' char or digit is a palindrome.\n"
     ]
    }
   ],
   "source": [
    "s = input(\"Enter a character, number, or word: \")\n",
    "ind = len(s)-1\n",
    "ls = []\n",
    "while ind!=-1:\n",
    "    ls.append(s[ind])\n",
    "    ind = ind-1\n",
    "l = \"\".join(ls)\n",
    "\n",
    "if len(s) == 1:\n",
    "    if s is not None:\n",
    "        print(f\"'{s}' char or digit is a palindrome.\")\n",
    "    else:\n",
    "        print(f\"'{s}' char or digit is not a palindrome.\")\n",
    "elif s.isdigit():\n",
    "    if s==l:\n",
    "        print(f\"'{s}' number is a palindrome.\")\n",
    "    else:\n",
    "        print(f\"'{s}' number is not a palindrome.\")\n",
    "else:\n",
    "    if s==l:\n",
    "        print(f\"'{s}' word is a palindrome.\")\n",
    "    else:\n",
    "        print(f\"'{s}' word is not a palindrome.\")"
   ]
  },
  {
   "cell_type": "markdown",
   "id": "8a42638d",
   "metadata": {},
   "source": [
    "# 28 Str: In a string reverse Words \n",
    "str = \"Hi Hello Naresh GoodMorning\"\n",
    "rev_str = \"GoodMorning Naresh Hello Hi\""
   ]
  },
  {
   "cell_type": "code",
   "execution_count": 188,
   "id": "6b02a5a4",
   "metadata": {},
   "outputs": [
    {
     "name": "stdout",
     "output_type": "stream",
     "text": [
      "['Hi', 'Hello', 'Naresh', 'GoodMorning']\n",
      "['GoodMorning', 'Naresh', 'Hello', 'Hi']\n",
      "GoodMorning Naresh Hello Hi\n",
      "iH olleH hseraN gninroMdooG\n"
     ]
    }
   ],
   "source": [
    "s = \"Hi Hello Naresh GoodMorning\"\n",
    "s = s.split(\" \")\n",
    "print(s)\n",
    "s = s[-1::-1]\n",
    "print(s)\n",
    "s = \" \".join(s)\n",
    "print(s)\n",
    "print(s[::-1])"
   ]
  },
  {
   "cell_type": "code",
   "execution_count": 57,
   "id": "a9e7d6bd",
   "metadata": {},
   "outputs": [
    {
     "data": {
      "text/plain": [
       "'GoodMorning Naresh Hello Hi'"
      ]
     },
     "execution_count": 57,
     "metadata": {},
     "output_type": "execute_result"
    }
   ],
   "source": [
    "s = \"Hi Hello Naresh GoodMorning\"\n",
    "\" \".join(reversed(s.split()))"
   ]
  },
  {
   "cell_type": "code",
   "execution_count": 197,
   "id": "3404cb8d",
   "metadata": {},
   "outputs": [
    {
     "name": "stdout",
     "output_type": "stream",
     "text": [
      "GoodMorning Naresh Hello Hi \n"
     ]
    }
   ],
   "source": [
    "s = \"Hi Hello Naresh GoodMorning\"\n",
    "w=\"\"\n",
    "for i in s.split():\n",
    "    w=i+\" \"+w\n",
    "print(w)"
   ]
  },
  {
   "cell_type": "markdown",
   "id": "668d894a",
   "metadata": {},
   "source": [
    "# 29 Str: Sub String Presence in String"
   ]
  },
  {
   "cell_type": "code",
   "execution_count": 200,
   "id": "cf38b087",
   "metadata": {},
   "outputs": [
    {
     "name": "stdout",
     "output_type": "stream",
     "text": [
      "Sub string Present at position of  3\n",
      "sub string not present: -1\n",
      "Present\n"
     ]
    }
   ],
   "source": [
    "str = \"Hi hello how are you\"\n",
    "sub_str = \"hello\"\n",
    "print(\"Sub string Present at position of \",str.find(sub_str))\n",
    "print(\"sub string not present:\",str.find(\"demo\"))\n",
    "\n",
    "#check the string present or not:\n",
    "if str.find(sub_str)==-1:\n",
    "    print(\"Not Present\")\n",
    "else:\n",
    "    print(\"Present\")"
   ]
  },
  {
   "cell_type": "code",
   "execution_count": 201,
   "id": "696a2343",
   "metadata": {},
   "outputs": [
    {
     "name": "stdout",
     "output_type": "stream",
     "text": [
      "yes\n"
     ]
    }
   ],
   "source": [
    "str = \"Hi hello how are you\"\n",
    "sub_str = \"hello\"\n",
    "\n",
    "if sub_str in str:\n",
    "    print(\"Not Present\")\n",
    "else:\n",
    "    print(\"Present\")"
   ]
  },
  {
   "cell_type": "markdown",
   "id": "abded2d0",
   "metadata": {},
   "source": [
    "# 30 Str: Find the length of string\n",
    "1. using for loop\n",
    "2. using while and slicing\n",
    "3. built-in len()\n",
    "4. join and count"
   ]
  },
  {
   "cell_type": "code",
   "execution_count": 203,
   "id": "40dc3621",
   "metadata": {},
   "outputs": [
    {
     "name": "stdout",
     "output_type": "stream",
     "text": [
      "7\n"
     ]
    }
   ],
   "source": [
    "# 1. using for loop\n",
    "s= \"Welcome\"\n",
    "c = 0\n",
    "for i in s:\n",
    "    c=c+1\n",
    "print(c)"
   ]
  },
  {
   "cell_type": "code",
   "execution_count": 205,
   "id": "8b6832ce",
   "metadata": {},
   "outputs": [
    {
     "name": "stdout",
     "output_type": "stream",
     "text": [
      "7\n"
     ]
    }
   ],
   "source": [
    "# 2. using while and slicing\n",
    "s= \"Welcome\"\n",
    "c = 0\n",
    "while s[c:]:  # 0 to 6\n",
    "    c=c+1\n",
    "print(c)"
   ]
  },
  {
   "cell_type": "code",
   "execution_count": 207,
   "id": "6937bce2",
   "metadata": {},
   "outputs": [
    {
     "name": "stdout",
     "output_type": "stream",
     "text": [
      "7\n",
      "6\n"
     ]
    }
   ],
   "source": [
    "#3. built-in len()\n",
    "#4. join and count\n",
    "s= \"Welcome\"\n",
    "print(len(s))\n",
    "s1 = \"x\".join(s)\n",
    "print(s1.count(\"x\"))   # index\n",
    "print(s1.count(\"x\")+1) # len"
   ]
  },
  {
   "cell_type": "markdown",
   "id": "e79718a9",
   "metadata": {},
   "source": [
    "# 31 Str: Find if string contains special chars"
   ]
  },
  {
   "cell_type": "code",
   "execution_count": 213,
   "id": "c4be426c",
   "metadata": {},
   "outputs": [
    {
     "name": "stdout",
     "output_type": "stream",
     "text": [
      "Special Char\n"
     ]
    }
   ],
   "source": [
    "import re\n",
    "\n",
    "s = \"Hi@#Hello*(|show&&@-+=the<>?demo!~jvm#$%)\"\n",
    "\n",
    "regex= re.compile('[~!@#$%^&*()_+=<>/\\|]')\n",
    "\n",
    "if (regex.search(s)==None):\n",
    "    print(\"No Special Char\")\n",
    "else:\n",
    "    print(\"Special Char\")\n",
    "    "
   ]
  },
  {
   "cell_type": "markdown",
   "id": "40d7e5a3",
   "metadata": {},
   "source": [
    "# 32 Str: remove special chars in string"
   ]
  },
  {
   "cell_type": "code",
   "execution_count": 224,
   "id": "f7d0a3cd",
   "metadata": {},
   "outputs": [
    {
     "name": "stdout",
     "output_type": "stream",
     "text": [
      "Hi  Hello   show      the   demo  jvm    \n",
      "Hi Hello show the demo jvm\n"
     ]
    }
   ],
   "source": [
    "# Method1: By using Special regular expressions\n",
    "import re\n",
    "\n",
    "s = \"Hi@#Hello*(|show&&@-+=the<>?demo!~jvm#$%)\"\n",
    "\n",
    "pattern = r'[^A-Za-z0-9\\s]'\n",
    "reg_s = re.sub(pattern,' ',s)\n",
    "print(reg_s)\n",
    "print(' '.join(reg_s.split()))  ## remove the extra spaces"
   ]
  },
  {
   "cell_type": "code",
   "execution_count": 249,
   "id": "40284626",
   "metadata": {},
   "outputs": [
    {
     "name": "stdout",
     "output_type": "stream",
     "text": [
      "Hi Hello show the demo jvm\n"
     ]
    }
   ],
   "source": [
    "# Method 2: char filling\n",
    "\n",
    "s = \"Hi@#Hello*(|show&&@-+=the<>?demo!~jvm#$%)\"\n",
    "w =\"\"\n",
    "for i in s:\n",
    "    if i.isalnum() or i.isspace():\n",
    "        w = w+i\n",
    "    elif w: \n",
    "        w += ' '\n",
    "print(\" \".join(w.split()))"
   ]
  },
  {
   "cell_type": "markdown",
   "id": "94318105",
   "metadata": {},
   "source": [
    "# 33 Str: remove extra space in string"
   ]
  },
  {
   "cell_type": "code",
   "execution_count": 228,
   "id": "fd521a1f",
   "metadata": {},
   "outputs": [
    {
     "data": {
      "text/plain": [
       "'Hi Hello show the demo jvm'"
      ]
     },
     "execution_count": 228,
     "metadata": {},
     "output_type": "execute_result"
    }
   ],
   "source": [
    "s = \"Hi  Hello   show      the   demo  jvm\"    \n",
    "s = s.split()\n",
    "\" \".join(s)"
   ]
  },
  {
   "cell_type": "markdown",
   "id": "95bbdeec",
   "metadata": {},
   "source": [
    "# 34 Str: check URL's\n",
    "http://urlregex.com/"
   ]
  },
  {
   "cell_type": "code",
   "execution_count": 252,
   "id": "7f65962d",
   "metadata": {},
   "outputs": [
    {
     "name": "stdout",
     "output_type": "stream",
     "text": [
      "['https://mytestingtools.com/']\n"
     ]
    }
   ],
   "source": [
    "import re\n",
    "\n",
    "s = \"Please check my blog https://mytestingtools.com/\" \n",
    "s1 = re.findall('http[s]?://(?:[a-zA-Z]|[0-9]|[$-_@.&+]|[!*\\(\\),]|(?:%[0-9a-fA-F][0-9a-fA-F]))+',s)\n",
    "print(s1)"
   ]
  },
  {
   "cell_type": "code",
   "execution_count": 262,
   "id": "68e2fac1",
   "metadata": {},
   "outputs": [
    {
     "name": "stdout",
     "output_type": "stream",
     "text": [
      "['https://mytestingtools.com/']\n"
     ]
    }
   ],
   "source": [
    "s = \"Please check my blog https://mytestingtools.com/\" \n",
    "\n",
    "s2 = re.findall(r'https?://\\S+',s)\n",
    "print(s2)"
   ]
  },
  {
   "cell_type": "markdown",
   "id": "d8ab395e",
   "metadata": {},
   "source": [
    "## 35 Str: findout common letters between Two Strings"
   ]
  },
  {
   "cell_type": "code",
   "execution_count": 264,
   "id": "dd8e9d24",
   "metadata": {},
   "outputs": [
    {
     "name": "stdout",
     "output_type": "stream",
     "text": [
      "{'N', 'A'}\n"
     ]
    }
   ],
   "source": [
    "s1 = \"REENA\"\n",
    "s2 = \"NAINA\"\n",
    "cm = set(s1)&set(s2)\n",
    "print(cm)"
   ]
  },
  {
   "cell_type": "code",
   "execution_count": 265,
   "id": "d0dd635b",
   "metadata": {},
   "outputs": [
    {
     "name": "stdout",
     "output_type": "stream",
     "text": [
      "NA\n"
     ]
    }
   ],
   "source": [
    "# without built-in methods\n",
    "s1 = \"REENA\"\n",
    "s2 = \"NAINA\"\n",
    "w = \"\"\n",
    "for i in s1:\n",
    "    for j in s2:\n",
    "        if i==j and i not in w:\n",
    "            w = w + i\n",
    "print(w)"
   ]
  },
  {
   "cell_type": "markdown",
   "id": "a210702a",
   "metadata": {},
   "source": [
    "# 36 Str: word frequency in string"
   ]
  },
  {
   "cell_type": "code",
   "execution_count": 281,
   "id": "e9a3b03e",
   "metadata": {},
   "outputs": [
    {
     "name": "stdout",
     "output_type": "stream",
     "text": [
      "{'hi': 2, 'hello': 2, 'how': 1, 'are': 2, 'you': 2, 'my': 2, 'friend': 2, 'where': 2, 'is': 1, 'the': 1, 'bike': 1}\n"
     ]
    }
   ],
   "source": [
    "s = \"hi hello how are you my friend where are you hi hello my friend where is the bike\"\n",
    "d = {}\n",
    "for i in s.split():\n",
    "    if i not in d.keys():\n",
    "        d[i] = 1\n",
    "    else:\n",
    "        d[i] =d[i]+1 # d[i]=+1\n",
    "print(d)"
   ]
  },
  {
   "cell_type": "code",
   "execution_count": 287,
   "id": "21aa620a",
   "metadata": {},
   "outputs": [
    {
     "name": "stdout",
     "output_type": "stream",
     "text": [
      "{'hi': 2, 'hello': 2, 'how': 1, 'are': 2, 'you': 2, 'my': 2, 'friend': 2, 'where': 2, 'is': 1, 'the': 1, 'bike': 1}\n"
     ]
    }
   ],
   "source": [
    "s = \"hi hello how are you my friend where are you hi hello my friend where is the bike\"\n",
    "d = {}\n",
    "for i in s.split():\n",
    "    d[i] = d.get(i,0)+1\n",
    "print(d)"
   ]
  },
  {
   "cell_type": "markdown",
   "id": "bc5cb65f",
   "metadata": {},
   "source": [
    "# 37 convert two lists into dict"
   ]
  },
  {
   "cell_type": "code",
   "execution_count": 288,
   "id": "bc888d8a",
   "metadata": {},
   "outputs": [
    {
     "name": "stdout",
     "output_type": "stream",
     "text": [
      "{1: 'One', 2: 'Two', 3: 'Three'}\n"
     ]
    }
   ],
   "source": [
    "# using zip\n",
    "k = [1,2,3]\n",
    "v = [\"One\",\"Two\",\"Three\"]\n",
    "result = dict(zip(k,v))\n",
    "print(result)"
   ]
  },
  {
   "cell_type": "code",
   "execution_count": 289,
   "id": "91d88b14",
   "metadata": {},
   "outputs": [
    {
     "name": "stdout",
     "output_type": "stream",
     "text": [
      "{1: 'One', 2: 'Two', 3: 'Three'}\n"
     ]
    }
   ],
   "source": [
    "# without zip\n",
    "k = [1,2,3]\n",
    "v = [\"One\",\"Two\",\"Three\"]\n",
    "d = {k[i]: v[i] for i in range(len(k))}\n",
    "print(d)"
   ]
  },
  {
   "cell_type": "markdown",
   "id": "bd58d40b",
   "metadata": {},
   "source": [
    "# 38 Dict convert to tuple"
   ]
  },
  {
   "cell_type": "code",
   "execution_count": 290,
   "id": "e0d9ea6f",
   "metadata": {},
   "outputs": [
    {
     "name": "stdout",
     "output_type": "stream",
     "text": [
      "(1, 'One')\n",
      "(2, 'Two')\n",
      "(3, 'Three')\n"
     ]
    }
   ],
   "source": [
    "d = {1: 'One', 2: 'Two', 3: 'Three'}\n",
    "\n",
    "for i in d.items():\n",
    "    print(i)"
   ]
  },
  {
   "cell_type": "code",
   "execution_count": 291,
   "id": "03a355ca",
   "metadata": {},
   "outputs": [
    {
     "data": {
      "text/plain": [
       "((1, 'One'), (2, 'Two'), (3, 'Three'))"
      ]
     },
     "execution_count": 291,
     "metadata": {},
     "output_type": "execute_result"
    }
   ],
   "source": [
    "tuple(d.items())"
   ]
  },
  {
   "cell_type": "markdown",
   "id": "4d6efcbb",
   "metadata": {},
   "source": [
    "# 39 Find second high num in multi list  "
   ]
  },
  {
   "cell_type": "code",
   "execution_count": 292,
   "id": "6e1f06ed",
   "metadata": {},
   "outputs": [
    {
     "name": "stdout",
     "output_type": "stream",
     "text": [
      "{'Harry': 37.21, 'Berry': 37.21, 'Tina': 37.2, 'Akriti': 41, 'Harsh': 39}\n",
      "{'Harry': 37.21, 'Berry': 37.21, 'Akriti': 41, 'Harsh': 39}\n",
      "{'Harry': 37.21, 'Berry': 37.21}\n"
     ]
    }
   ],
   "source": [
    "lis = [['Harry', 37.21], ['Berry', 37.21], ['Tina', 37.2], ['Akriti', 41], ['Harsh', 39]]\n",
    "\n",
    "d ={}\n",
    "for name,value in lis:\n",
    "    d[name] = value\n",
    "print(d) \n",
    "d = {k: v for k, v in d.items() if v != min(d.values())}\n",
    "print(d)\n",
    "d = {k: v for k, v in d.items() if v == min(d.values())}\n",
    "print(d)"
   ]
  },
  {
   "cell_type": "code",
   "execution_count": 293,
   "id": "545f80a4",
   "metadata": {},
   "outputs": [
    {
     "name": "stdout",
     "output_type": "stream",
     "text": [
      "{'Harry': 37.21, 'Berry': 37.21, 'Tina': 37.2, 'Akriti': 41, 'Harsh': 39}\n",
      "{'Harry': 37.21, 'Berry': 37.21, 'Tina': 37.2, 'Harsh': 39}\n",
      "{'Harsh': 39}\n"
     ]
    }
   ],
   "source": [
    "lis = [['Harry', 37.21], ['Berry', 37.21], ['Tina', 37.2], ['Akriti', 41], ['Harsh', 39]]\n",
    "\n",
    "d ={}\n",
    "for name,value in lis:\n",
    "    d[name] = value\n",
    "print(d) \n",
    "d = {k: v for k, v in d.items() if v != max(d.values())}\n",
    "print(d)\n",
    "d = {k: v for k, v in d.items() if v == max(d.values())}\n",
    "print(d)"
   ]
  },
  {
   "cell_type": "code",
   "execution_count": 294,
   "id": "9f7dd882",
   "metadata": {},
   "outputs": [
    {
     "name": "stdout",
     "output_type": "stream",
     "text": [
      "Berry\n",
      "Harry\n"
     ]
    }
   ],
   "source": [
    "lis = [['Harry', 37.21], ['Berry', 37.21], ['Tina', 37.2], ['Akriti', 41], ['Harsh', 39]]\n",
    "\n",
    "sec_high_value = sorted(set([x[1] for x in lis]))[1]\n",
    "sec_high_names = [x[0] for x in lis if x[1] == sec_high_value]\n",
    "for names in sorted(sec_high_names):\n",
    "    print(names)"
   ]
  },
  {
   "cell_type": "code",
   "execution_count": null,
   "id": "d048534c",
   "metadata": {},
   "outputs": [],
   "source": []
  },
  {
   "cell_type": "code",
   "execution_count": null,
   "id": "a00e0644",
   "metadata": {},
   "outputs": [],
   "source": []
  },
  {
   "cell_type": "code",
   "execution_count": null,
   "id": "46843366",
   "metadata": {},
   "outputs": [],
   "source": []
  },
  {
   "cell_type": "code",
   "execution_count": null,
   "id": "28d3bae3",
   "metadata": {},
   "outputs": [],
   "source": []
  },
  {
   "cell_type": "code",
   "execution_count": null,
   "id": "5f795298",
   "metadata": {},
   "outputs": [],
   "source": []
  },
  {
   "cell_type": "code",
   "execution_count": null,
   "id": "f13eff03",
   "metadata": {},
   "outputs": [],
   "source": []
  },
  {
   "cell_type": "code",
   "execution_count": null,
   "id": "ea72e571",
   "metadata": {},
   "outputs": [],
   "source": []
  },
  {
   "cell_type": "code",
   "execution_count": null,
   "id": "c418425e",
   "metadata": {},
   "outputs": [],
   "source": []
  },
  {
   "cell_type": "code",
   "execution_count": null,
   "id": "d1a6b88d",
   "metadata": {},
   "outputs": [],
   "source": []
  },
  {
   "cell_type": "code",
   "execution_count": null,
   "id": "cb789f5e",
   "metadata": {},
   "outputs": [],
   "source": []
  },
  {
   "cell_type": "code",
   "execution_count": null,
   "id": "5b66b990",
   "metadata": {},
   "outputs": [],
   "source": []
  },
  {
   "cell_type": "code",
   "execution_count": null,
   "id": "ec2dc643",
   "metadata": {},
   "outputs": [],
   "source": []
  },
  {
   "cell_type": "markdown",
   "id": "3022b8ad",
   "metadata": {},
   "source": [
    "# 50 Print Numbers in Triangle & *"
   ]
  },
  {
   "cell_type": "code",
   "execution_count": 297,
   "id": "409d7000",
   "metadata": {},
   "outputs": [
    {
     "name": "stdout",
     "output_type": "stream",
     "text": [
      "enter no of rows:5\n",
      "1 \n",
      "1 2 \n",
      "1 2 3 \n",
      "1 2 3 4 \n",
      "1 2 3 4 5 \n"
     ]
    }
   ],
   "source": [
    "n = int(input(\"enter no of rows:\"))\n",
    "for i in range(1,n+1):          # rows\n",
    "    for j in range(1,i+1):  # columns\n",
    "        print(j,end=\" \")\n",
    "    print()"
   ]
  },
  {
   "cell_type": "code",
   "execution_count": 304,
   "id": "f1887aa8",
   "metadata": {},
   "outputs": [
    {
     "name": "stdout",
     "output_type": "stream",
     "text": [
      "enter no of rows:5\n",
      "1\n",
      "22\n",
      "333\n",
      "4444\n",
      "55555\n"
     ]
    }
   ],
   "source": [
    "n = int(input(\"enter no of rows:\"))\n",
    "for i in range(1,n+1):          # rows\n",
    "    for j in range(1,i+1):  # columns\n",
    "        print(i,end=\"\")\n",
    "    print()"
   ]
  },
  {
   "cell_type": "code",
   "execution_count": 311,
   "id": "15917c19",
   "metadata": {},
   "outputs": [
    {
     "name": "stdout",
     "output_type": "stream",
     "text": [
      "enter no of rows:7\n",
      "*      \n",
      "**     \n",
      "* *    \n",
      "*  *   \n",
      "*   *  \n",
      "*    * \n",
      "*******\n"
     ]
    }
   ],
   "source": [
    "# Hollow right triangle shape\n",
    "\n",
    "n = int(input(\"enter no of rows:\"))\n",
    "for row in range(n):          # rows\n",
    "    for col in range(n):   # columns\n",
    "        if col==0 or row==(n-1) or row==col:\n",
    "            print(\"*\",end=\"\")\n",
    "        else:\n",
    "            print(\" \",end=\"\")\n",
    "    print()"
   ]
  },
  {
   "cell_type": "code",
   "execution_count": 315,
   "id": "97a45c5c",
   "metadata": {},
   "outputs": [
    {
     "name": "stdout",
     "output_type": "stream",
     "text": [
      "enter no of rows:4\n",
      "1\n",
      "23\n",
      "456\n",
      "78910\n"
     ]
    }
   ],
   "source": [
    "# floyd triangle: 1 to n num triangle\n",
    "n = int(input(\"enter no of rows:\"))\n",
    "num = 1\n",
    "for row in range(1,n+1):          # rows\n",
    "    for col in range(1,row+1):   # columns\n",
    "        print(num,end=\"\")\n",
    "        num=num+1\n",
    "    print()"
   ]
  },
  {
   "cell_type": "code",
   "execution_count": 318,
   "id": "ae91acd4",
   "metadata": {},
   "outputs": [
    {
     "name": "stdout",
     "output_type": "stream",
     "text": [
      "enter no of rows:5\n",
      "p\n",
      "py\n",
      "pyt\n",
      "pyth\n",
      "pytho\n",
      "python\n"
     ]
    }
   ],
   "source": [
    "# triagnle with word series \n",
    "n = int(input(\"enter no of rows:\"))\n",
    "s = \"python\"\n",
    "for row in range(len(s)):          # rows\n",
    "    for col in range(row+1):   # columns\n",
    "        print(s[col],end=\"\")\n",
    "    print()"
   ]
  },
  {
   "cell_type": "code",
   "execution_count": 329,
   "id": "97d81264",
   "metadata": {},
   "outputs": [
    {
     "name": "stdout",
     "output_type": "stream",
     "text": [
      "enter no of rows:5\n",
      "12345\n",
      "1234\n",
      "123\n",
      "12\n",
      "1\n"
     ]
    }
   ],
   "source": [
    "# triganle in reverse order\n",
    "n = int(input(\"enter no of rows:\"))\n",
    "for row in range(n,0,-1):          # rows\n",
    "    for col in range(1,row+1):   # columns\n",
    "        print(col,end=\"\")\n",
    "    print()"
   ]
  },
  {
   "cell_type": "code",
   "execution_count": 330,
   "id": "2ebadd87",
   "metadata": {},
   "outputs": [
    {
     "name": "stdout",
     "output_type": "stream",
     "text": [
      "enter no of rows:5\n",
      "55555\n",
      "4444\n",
      "333\n",
      "22\n",
      "1\n"
     ]
    }
   ],
   "source": [
    "# triagnle same number series\n",
    "n = int(input(\"enter no of rows:\"))\n",
    "for row in range(n,0,-1):          # rows\n",
    "    for col in range(1,row+1):   # columns\n",
    "        print(row,end=\"\")\n",
    "    print()"
   ]
  },
  {
   "cell_type": "code",
   "execution_count": 4,
   "id": "3f6cc423",
   "metadata": {},
   "outputs": [
    {
     "name": "stdout",
     "output_type": "stream",
     "text": [
      "enter no of rows:7\n",
      "      *      \n",
      "     * *     \n",
      "    *   *    \n",
      "   *     *   \n",
      "  *       *  \n",
      " *         * \n",
      "*************\n"
     ]
    }
   ],
   "source": [
    "# Pyramid\n",
    "n = int(input(\"enter no of rows:\"))\n",
    "for row in range(1,n+1):          # rows (1,5)\n",
    "    for col in range(1,2*n):      # columns (1,8)\n",
    "        #if row==4 or row+col==5 or row-col==3:\n",
    "        if row==n or row+col==n+1 or col-row==n-1:\n",
    "            print(\"*\",end=\"\")\n",
    "        else:\n",
    "            print(end=\" \")\n",
    "    print()"
   ]
  },
  {
   "cell_type": "code",
   "execution_count": 6,
   "id": "10c09566",
   "metadata": {},
   "outputs": [
    {
     "name": "stdout",
     "output_type": "stream",
     "text": [
      "enter no of rows:5\n",
      "    *    \n",
      "   * *   \n",
      "  *   *  \n",
      " *     * \n",
      "* * * * *\n"
     ]
    }
   ],
   "source": [
    "# Pyramid\n",
    "n = int(input(\"enter no of rows:\"))\n",
    "k=2\n",
    "for row in range(1,n+1):         \n",
    "    for col in range(1,2*n):      \n",
    "        if row+col==n+1 or col-row==n-1:\n",
    "            print(\"*\",end=\"\")\n",
    "        elif row==n and col!=k:\n",
    "            print(\"*\",end=\"\")\n",
    "            k=k+2\n",
    "        else:\n",
    "            print(end=\" \")\n",
    "    print()"
   ]
  },
  {
   "cell_type": "code",
   "execution_count": null,
   "id": "114910e1",
   "metadata": {},
   "outputs": [],
   "source": []
  }
 ],
 "metadata": {
  "kernelspec": {
   "display_name": "Python 3 (ipykernel)",
   "language": "python",
   "name": "python3"
  },
  "language_info": {
   "codemirror_mode": {
    "name": "ipython",
    "version": 3
   },
   "file_extension": ".py",
   "mimetype": "text/x-python",
   "name": "python",
   "nbconvert_exporter": "python",
   "pygments_lexer": "ipython3",
   "version": "3.11.5"
  }
 },
 "nbformat": 4,
 "nbformat_minor": 5
}
