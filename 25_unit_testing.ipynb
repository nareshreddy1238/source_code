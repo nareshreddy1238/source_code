{
 "cells": [
  {
   "cell_type": "markdown",
   "id": "f3b226bf",
   "metadata": {},
   "source": [
    "# 1. unit testing "
   ]
  },
  {
   "cell_type": "code",
   "execution_count": 4,
   "id": "4c2593a4",
   "metadata": {},
   "outputs": [
    {
     "name": "stdout",
     "output_type": "stream",
     "text": [
      "['BaseTestSuite', 'FunctionTestCase', 'IsolatedAsyncioTestCase', 'SkipTest', 'TestCase', 'TestLoader', 'TestProgram', 'TestResult', 'TestSuite', 'TextTestResult', 'TextTestRunner', '_TextTestResult', '__all__', '__builtins__', '__cached__', '__dir__', '__doc__', '__file__', '__getattr__', '__loader__', '__name__', '__package__', '__path__', '__spec__', '__unittest', 'addModuleCleanup', 'case', 'defaultTestLoader', 'doModuleCleanups', 'enterModuleContext', 'expectedFailure', 'findTestCases', 'getTestCaseNames', 'installHandler', 'load_tests', 'loader', 'main', 'makeSuite', 'registerResult', 'removeHandler', 'removeResult', 'result', 'runner', 'signals', 'skip', 'skipIf', 'skipUnless', 'suite', 'util']\n"
     ]
    }
   ],
   "source": [
    "import unittest\n",
    "\n",
    "\n",
    "print(dir(unittest))"
   ]
  },
  {
   "cell_type": "markdown",
   "id": "8394ec09",
   "metadata": {},
   "source": [
    "# 2. TestSuite"
   ]
  },
  {
   "cell_type": "code",
   "execution_count": 5,
   "id": "8ef8be52",
   "metadata": {},
   "outputs": [
    {
     "name": "stderr",
     "output_type": "stream",
     "text": [
      ".\n",
      "----------------------------------------------------------------------\n",
      "Ran 1 test in 0.003s\n",
      "\n",
      "OK\n"
     ]
    }
   ],
   "source": [
    "import unittest\n",
    "\n",
    "class MyTestCase(unittest.TestCase):\n",
    "    def test_example(self):\n",
    "        self.assertEqual(1 + 1, 2)\n",
    "\n",
    "if __name__ == '__main__':\n",
    "    suite = unittest.TestSuite()\n",
    "    suite.addTest(MyTestCase('test_example'))\n",
    "\n",
    "    runner = unittest.TextTestRunner()\n",
    "    runner.run(suite)"
   ]
  },
  {
   "cell_type": "markdown",
   "id": "376ec406",
   "metadata": {},
   "source": [
    "# 3. FunctionTestCase"
   ]
  },
  {
   "cell_type": "code",
   "execution_count": 6,
   "id": "47bed3f8",
   "metadata": {},
   "outputs": [
    {
     "name": "stderr",
     "output_type": "stream",
     "text": [
      ".\n",
      "----------------------------------------------------------------------\n",
      "Ran 1 test in 0.005s\n",
      "\n",
      "OK\n"
     ]
    }
   ],
   "source": [
    "import unittest\n",
    "\n",
    "def add(a, b):\n",
    "    return a + b\n",
    "\n",
    "def test_add():\n",
    "    result = add(2, 3)\n",
    "    assert result == 5\n",
    "\n",
    "if __name__ == '__main__':\n",
    "    test = unittest.FunctionTestCase(test_add)\n",
    "    \n",
    "    runner = unittest.TextTestRunner()\n",
    "    runner.run(test)"
   ]
  },
  {
   "cell_type": "markdown",
   "id": "7cac26e6",
   "metadata": {},
   "source": [
    "# 4. TestCase"
   ]
  },
  {
   "cell_type": "code",
   "execution_count": 8,
   "id": "c2b4f74d",
   "metadata": {},
   "outputs": [
    {
     "name": "stderr",
     "output_type": "stream",
     "text": [
      "E\n",
      "======================================================================\n",
      "ERROR: C:\\Users\\nares\\AppData\\Roaming\\jupyter\\runtime\\kernel-93e3be37-ec04-44d0-acf3-0c9b9276eadd (unittest.loader._FailedTest.C:\\Users\\nares\\AppData\\Roaming\\jupyter\\runtime\\kernel-93e3be37-ec04-44d0-acf3-0c9b9276eadd)\n",
      "----------------------------------------------------------------------\n",
      "AttributeError: module '__main__' has no attribute 'C:\\Users\\nares\\AppData\\Roaming\\jupyter\\runtime\\kernel-93e3be37-ec04-44d0-acf3-0c9b9276eadd'\n",
      "\n",
      "----------------------------------------------------------------------\n",
      "Ran 1 test in 0.003s\n",
      "\n",
      "FAILED (errors=1)\n"
     ]
    },
    {
     "ename": "SystemExit",
     "evalue": "True",
     "output_type": "error",
     "traceback": [
      "An exception has occurred, use %tb to see the full traceback.\n",
      "\u001b[1;31mSystemExit\u001b[0m\u001b[1;31m:\u001b[0m True\n"
     ]
    },
    {
     "name": "stderr",
     "output_type": "stream",
     "text": [
      "C:\\Users\\nares\\anaconda-new\\Lib\\site-packages\\IPython\\core\\interactiveshell.py:3534: UserWarning: To exit: use 'exit', 'quit', or Ctrl-D.\n",
      "  warn(\"To exit: use 'exit', 'quit', or Ctrl-D.\", stacklevel=1)\n"
     ]
    }
   ],
   "source": [
    "import unittest\n",
    "\n",
    "class MyTestCase(unittest.TestCase):\n",
    "    def test_example(self):\n",
    "        self.assertEqual(1 + 1, 2)\n",
    "\n",
    "if __name__ == '__main__':\n",
    "    unittest.main()"
   ]
  },
  {
   "cell_type": "markdown",
   "id": "0b5985b9",
   "metadata": {},
   "source": [
    "# 5. Test Loader"
   ]
  },
  {
   "cell_type": "code",
   "execution_count": 9,
   "id": "59f1c6f3",
   "metadata": {},
   "outputs": [
    {
     "name": "stderr",
     "output_type": "stream",
     "text": [
      ".\n",
      "----------------------------------------------------------------------\n",
      "Ran 1 test in 0.002s\n",
      "\n",
      "OK\n"
     ]
    }
   ],
   "source": [
    "import unittest\n",
    "\n",
    "class MyTestCase(unittest.TestCase):\n",
    "    def test_example(self):\n",
    "        self.assertEqual(1 + 1, 2)\n",
    "\n",
    "if __name__ == '__main__':\n",
    "    loader = unittest.TestLoader()\n",
    "    suite = loader.loadTestsFromTestCase(MyTestCase)\n",
    "\n",
    "    runner = unittest.TextTestRunner()\n",
    "    runner.run(suite)"
   ]
  },
  {
   "cell_type": "markdown",
   "id": "01e44cbe",
   "metadata": {},
   "source": [
    "# 6. TextTestRunner"
   ]
  },
  {
   "cell_type": "code",
   "execution_count": 10,
   "id": "9cfc43fc",
   "metadata": {},
   "outputs": [
    {
     "name": "stderr",
     "output_type": "stream",
     "text": [
      ".\n",
      "----------------------------------------------------------------------\n",
      "Ran 1 test in 0.003s\n",
      "\n",
      "OK\n"
     ]
    }
   ],
   "source": [
    "import unittest\n",
    "\n",
    "class MyTestCase(unittest.TestCase):\n",
    "    def test_example(self):\n",
    "        self.assertEqual(1 + 1, 2)\n",
    "\n",
    "if __name__ == '__main__':\n",
    "    suite = unittest.TestLoader().loadTestsFromTestCase(MyTestCase)\n",
    "    runner = unittest.TextTestRunner()\n",
    "    runner.run(suite)"
   ]
  },
  {
   "cell_type": "markdown",
   "id": "858ae84c",
   "metadata": {},
   "source": [
    "# Examples"
   ]
  },
  {
   "cell_type": "markdown",
   "id": "f9bd2eda",
   "metadata": {},
   "source": [
    "# 7. Unittest -> Basic calculations"
   ]
  },
  {
   "cell_type": "code",
   "execution_count": 37,
   "id": "ece73ea4",
   "metadata": {},
   "outputs": [
    {
     "name": "stderr",
     "output_type": "stream",
     "text": [
      ".\n",
      "----------------------------------------------------------------------\n",
      "Ran 1 test in 0.003s\n",
      "\n",
      "OK\n"
     ]
    }
   ],
   "source": [
    "import unittest\n",
    "import calc\n",
    "\n",
    "class TestCalc(unittest.TestCase):\n",
    "    def test_add(self):\n",
    "        result = calc.add(10,5)\n",
    "        self.assertEqual(result,15)\n",
    "        self.assertRaises(calc.division(10,0))\n",
    "    \n",
    "        \n",
    "if __name__ == '__main__':\n",
    "    test = unittest.FunctionTestCase(test_add)\n",
    "    \n",
    "    runner = unittest.TextTestRunner()\n",
    "    runner.run(test)"
   ]
  },
  {
   "cell_type": "markdown",
   "id": "c5139a4e",
   "metadata": {},
   "source": [
    "# 8. unit test program to check if a given number is prime or not"
   ]
  },
  {
   "cell_type": "code",
   "execution_count": 43,
   "id": "d3d99624",
   "metadata": {},
   "outputs": [
    {
     "name": "stderr",
     "output_type": "stream",
     "text": [
      "..\n",
      "----------------------------------------------------------------------\n",
      "Ran 2 tests in 0.006s\n",
      "\n",
      "OK\n"
     ]
    },
    {
     "name": "stdout",
     "output_type": "stream",
     "text": [
      "Non prime numbers: [4, 6, 8, 10, 12, 14, 16, 18, 20]\n",
      "Prime numbers: [2, 3, 5, 7, 11, 13, 17, 19, 23, 29, 31]\n"
     ]
    }
   ],
   "source": [
    "import unittest\n",
    "\n",
    "def is_prime(number):\n",
    "    if number < 2:\n",
    "        return False\n",
    "    for i in range(2, int(number**0.5) + 1):\n",
    "        if number % i == 0:\n",
    "            return False\n",
    "    return True\n",
    "\n",
    "class PrimeNumberTestCase(unittest.TestCase):       \n",
    "    def test_prime_numbers(self):\n",
    "        prime_numbers = [2, 3, 5, 7, 11, 13, 17, 19, 23, 29, 31]\n",
    "        #prime_numbers = [2, 3, 4, 8, 11, 13, 17, 19, 23, 30, 31]\n",
    "        print(\"Prime numbers:\",prime_numbers)\n",
    "        for number in prime_numbers:\n",
    "            self.assertTrue(is_prime(number), f\"{number} is not recognized as a prime number\")\n",
    "\n",
    "    def test_non_prime_numbers(self):\n",
    "        non_prime_numbers = [4, 6, 8, 10, 12, 14, 16, 18, 20]\n",
    "        #non_prime_numbers = [4, 6, 8, 9, 11, 12, 14, 17, 16, 18, 20]\n",
    "        print(\"Non prime numbers:\",non_prime_numbers)\n",
    "\n",
    "        for number in non_prime_numbers:\n",
    "            self.assertFalse(is_prime(number), f\"{number} is incorrectly recognized as a prime number\")\n",
    "\n",
    "if __name__ == '__main__':\n",
    "    suite = unittest.TestLoader().loadTestsFromTestCase(PrimeNumberTestCase)\n",
    "    runner = unittest.TextTestRunner()\n",
    "    runner.run(suite)"
   ]
  },
  {
   "cell_type": "markdown",
   "id": "39d66b0b",
   "metadata": {},
   "source": [
    "# 9. check sorting list"
   ]
  },
  {
   "cell_type": "code",
   "execution_count": 48,
   "id": "c874eb82",
   "metadata": {},
   "outputs": [
    {
     "name": "stderr",
     "output_type": "stream",
     "text": [
      ".\n",
      "----------------------------------------------------------------------\n",
      "Ran 1 test in 0.004s\n",
      "\n",
      "OK\n"
     ]
    },
    {
     "name": "stdout",
     "output_type": "stream",
     "text": [
      "Sorted list:  [1, 2, 3, 4, 5, 6, 7]\n"
     ]
    }
   ],
   "source": [
    "import unittest\n",
    "def is_sorted_ascending(lst):\n",
    "    return all(lst[i] <= lst[i+1] for i in range(len(lst)-1))\n",
    "class TestSortedAscending(unittest.TestCase):\n",
    "    def test_sorted_list(self):\n",
    "        lst = [1, 2, 3, 4, 5, 6, 7]\n",
    "        print(\"Sorted list: \",lst)\n",
    "        self.assertTrue(is_sorted_ascending(lst), sorted(lst))\n",
    "\n",
    "if __name__ == '__main__':\n",
    "    suite = unittest.TestLoader().loadTestsFromTestCase(TestSortedAscending)\n",
    "    runner = unittest.TextTestRunner()\n",
    "    runner.run(suite)"
   ]
  },
  {
   "cell_type": "markdown",
   "id": "41e00edb",
   "metadata": {},
   "source": [
    "# 10. check string is palindrom or not "
   ]
  },
  {
   "cell_type": "code",
   "execution_count": 51,
   "id": "8f5657d9",
   "metadata": {},
   "outputs": [
    {
     "name": "stderr",
     "output_type": "stream",
     "text": [
      "..\n",
      "----------------------------------------------------------------------\n",
      "Ran 2 tests in 0.007s\n",
      "\n",
      "OK\n"
     ]
    },
    {
     "name": "stdout",
     "output_type": "stream",
     "text": [
      "Test non palindrome: hello\n",
      "Test palindrome: madam\n"
     ]
    }
   ],
   "source": [
    "import unittest\n",
    "def is_palindrome(string):\n",
    "    return string == string[::-1]\n",
    "class TestPalindrome(unittest.TestCase):\n",
    "    def test_palindrome_string(self):\n",
    "        palindrome = \"madam\"\n",
    "        #palindrome = \"hello\"\n",
    "        print(\"Test palindrome:\",palindrome)\n",
    "        self.assertTrue(is_palindrome(palindrome), \"The string is not a palindrome\")\n",
    "    def test_non_palindrome_string(self):\n",
    "        non_palindrome = \"hello\"\n",
    "        #non_palindrome = \"\"\n",
    "        print(\"Test non palindrome:\",non_palindrome)\n",
    "        self.assertFalse(is_palindrome(non_palindrome), \"The string is a palindrome\")\n",
    "if __name__ == '__main__':\n",
    "    suite = unittest.TestLoader().loadTestsFromTestCase(TestPalindrome)\n",
    "    runner = unittest.TextTestRunner()\n",
    "    runner.run(suite)"
   ]
  },
  {
   "cell_type": "code",
   "execution_count": null,
   "id": "4d88815b",
   "metadata": {},
   "outputs": [],
   "source": []
  }
 ],
 "metadata": {
  "kernelspec": {
   "display_name": "Python 3 (ipykernel)",
   "language": "python",
   "name": "python3"
  },
  "language_info": {
   "codemirror_mode": {
    "name": "ipython",
    "version": 3
   },
   "file_extension": ".py",
   "mimetype": "text/x-python",
   "name": "python",
   "nbconvert_exporter": "python",
   "pygments_lexer": "ipython3",
   "version": "3.11.5"
  }
 },
 "nbformat": 4,
 "nbformat_minor": 5
}
