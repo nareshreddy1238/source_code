{
 "cells": [
  {
   "cell_type": "markdown",
   "id": "77f5e2ef",
   "metadata": {},
   "source": [
    "# 1. List Methods"
   ]
  },
  {
   "cell_type": "code",
   "execution_count": 10,
   "id": "a49276ff-f81a-427f-b700-02810a8547c5",
   "metadata": {},
   "outputs": [
    {
     "name": "stdout",
     "output_type": "stream",
     "text": [
      "[21, 2, 3, 4, 5]\n",
      "append: [21, 2, 3, 4, 5, 6]\n",
      "extend: [21, 2, 3, 4, 5, 6, 7, 8, 9]\n",
      "remove: [21, 2, 3, 5, 6, 7, 8, 9]\n",
      "pop: [21, 2, 3, 5, 6, 7, 8]\n",
      "reverse: [8, 7, 6, 5, 3, 2, 21]\n",
      "sort [2, 3, 5, 6, 7, 8, 21]\n",
      "index: 2\n",
      "count: 1\n",
      "insert: [2, 3, 5, 'hi', 6, 7, 8, 21]\n"
     ]
    }
   ],
   "source": [
    "l = [1,2,3,4,5]\n",
    "l[0]= 21\n",
    "print(l)\n",
    "\n",
    "# append(): add single char or number\n",
    "l.append(6) \n",
    "print(\"append:\",l)\n",
    "\n",
    "# Extend(): add another entire list\n",
    "l2=[7,8,9]\n",
    "l.extend(l2)\n",
    "print(\"extend:\",l)\n",
    "       \n",
    "# Remove(): remove the value\n",
    "l.remove(4)\n",
    "print(\"remove:\",l)\n",
    "\n",
    "# Pop(): remove last value\n",
    "l.pop()\n",
    "print(\"pop:\",l)\n",
    "\n",
    "#Reverse: Reverse the order of values\n",
    "l.reverse()\n",
    "print(\"reverse:\",l)\n",
    "\n",
    "# Sort(): sorting values\n",
    "l.sort()\n",
    "print(\"sort\",l)\n",
    "\n",
    "#Index(): Display index of value\n",
    "print(\"index:\",l.index(5))\n",
    "\n",
    "# Count(): count the value\n",
    "print(\"count:\",l.count(3))\n",
    "\n",
    "# Insert(): insert 3 index (len-1), index starts with 0\n",
    "l.insert(3,'hi') \n",
    "print(\"insert:\",l)\n"
   ]
  },
  {
   "cell_type": "markdown",
   "id": "465e6bd2",
   "metadata": {},
   "source": [
    "# 2. Reverse List"
   ]
  },
  {
   "cell_type": "code",
   "execution_count": 15,
   "id": "98ad74f8-1d9a-404b-8fd6-f6154df15502",
   "metadata": {},
   "outputs": [
    {
     "name": "stdout",
     "output_type": "stream",
     "text": [
      "[5, 4, 3, 2, 1]\n"
     ]
    }
   ],
   "source": [
    "l=[1,2,3,4,5]\n",
    "l2=[]\n",
    "length= len(l)\n",
    "ind = length-1\n",
    "while ind!=-1:\n",
    "    l2.append(l[ind])\n",
    "    ind=ind-1\n",
    "print(l2)"
   ]
  },
  {
   "cell_type": "code",
   "execution_count": 20,
   "id": "a83b1159",
   "metadata": {},
   "outputs": [
    {
     "data": {
      "text/plain": [
       "[5, 4, 3, 2, 1]"
      ]
     },
     "execution_count": 20,
     "metadata": {},
     "output_type": "execute_result"
    }
   ],
   "source": [
    "lis = [1,2,3,4,5]\n",
    "\n",
    "lis.reverse()\n",
    "lis"
   ]
  },
  {
   "cell_type": "code",
   "execution_count": 21,
   "id": "c54c9325",
   "metadata": {},
   "outputs": [
    {
     "data": {
      "text/plain": [
       "[5, 4, 3, 2, 1]"
      ]
     },
     "execution_count": 21,
     "metadata": {},
     "output_type": "execute_result"
    }
   ],
   "source": [
    "lis[::-1]  ## [start:end:step] -> [ : from starting to ending -1 start from reverse ]\n",
    "lis"
   ]
  },
  {
   "cell_type": "code",
   "execution_count": 22,
   "id": "ec52bd17",
   "metadata": {},
   "outputs": [
    {
     "name": "stdout",
     "output_type": "stream",
     "text": [
      "[5, 4, 3, 2, 1]\n"
     ]
    }
   ],
   "source": [
    "lis = [1,2,3,4,5]\n",
    "l = []\n",
    "for i in range(len(lis)-1,-1,-1):\n",
    "    l.append(lis[i])\n",
    "print(l)"
   ]
  },
  {
   "cell_type": "code",
   "execution_count": 188,
   "id": "04b86af4",
   "metadata": {},
   "outputs": [
    {
     "name": "stdout",
     "output_type": "stream",
     "text": [
      "['deR', 'neerG', 'eulB', 'etihW', 'kcalB']\n"
     ]
    }
   ],
   "source": [
    "# list of values reverse\n",
    "l = ['Red', 'Green', 'Blue', 'White', 'Black']\n",
    "ls = []\n",
    "for i in l:\n",
    "    ls.append(i[::-1])\n",
    "print(ls)"
   ]
  },
  {
   "cell_type": "code",
   "execution_count": 198,
   "id": "590b91c3",
   "metadata": {},
   "outputs": [
    {
     "name": "stdout",
     "output_type": "stream",
     "text": [
      "['deR', 'neerG', 'eulB', 'etihW', 'kcalB']\n"
     ]
    }
   ],
   "source": [
    "l = ['Red', 'Green', 'Blue', 'White', 'Black']\n",
    "lst = []\n",
    "for i in l:\n",
    "    w=\"\"\n",
    "    for j in i:\n",
    "        w=j+w\n",
    "    lst.append(w)\n",
    "print(lst)"
   ]
  },
  {
   "cell_type": "code",
   "execution_count": 274,
   "id": "015fa9bb",
   "metadata": {},
   "outputs": [
    {
     "name": "stdout",
     "output_type": "stream",
     "text": [
      "[[4, 3, 2, 1], [8, 7, 6, 5], [12, 11, 10, 9], [16, 15, 14, 13]]\n",
      "[[4, 3, 2, 1], [8, 7, 6, 5], [12, 11, 10, 9], [16, 15, 14, 13]]\n"
     ]
    }
   ],
   "source": [
    "# reverse list of lists\n",
    "l = [[1, 2, 3, 4], [5, 6, 7, 8], [9, 10, 11, 12], [13, 14, 15, 16]]\n",
    "\n",
    "ls=[]\n",
    "for i in l:\n",
    "    ls.append(i[::-1])\n",
    "print(ls)\n",
    "\n",
    "lst = []\n",
    "for i in l:\n",
    "    sub = []\n",
    "    ind = len(i)-1\n",
    "    while ind!=-1:\n",
    "        sub.append(i[ind])\n",
    "        ind = ind-1\n",
    "    lst.append(sub)\n",
    "print(lst)"
   ]
  },
  {
   "cell_type": "markdown",
   "id": "c308bbc6",
   "metadata": {},
   "source": [
    "# 3. Sum of list values / Total count of the list"
   ]
  },
  {
   "cell_type": "code",
   "execution_count": 16,
   "id": "1ed0b29c-81da-40a6-bba9-eaf741cef59c",
   "metadata": {},
   "outputs": [
    {
     "name": "stdout",
     "output_type": "stream",
     "text": [
      "15\n"
     ]
    }
   ],
   "source": [
    "l=[1,2,3,4,5]\n",
    "c=0\n",
    "for i in l:\n",
    "    c=c+i\n",
    "print(c)"
   ]
  },
  {
   "cell_type": "code",
   "execution_count": 95,
   "id": "47d298eb",
   "metadata": {},
   "outputs": [
    {
     "name": "stdout",
     "output_type": "stream",
     "text": [
      "20\n"
     ]
    }
   ],
   "source": [
    "# count integers in a given mixed list (it works only integer values not for float values)\n",
    "l = [1, 'abcd', 3, 1.2, 4, 'xyz', 5, 'pqr', 7, -5, -12.22]\n",
    "c = 0\n",
    "for i in l:\n",
    "    if str(i).isdigit():\n",
    "        c=c+i\n",
    "print(c)"
   ]
  },
  {
   "cell_type": "code",
   "execution_count": 96,
   "id": "2c2ad9ce",
   "metadata": {},
   "outputs": [
    {
     "name": "stdout",
     "output_type": "stream",
     "text": [
      "15 -11.020000000000001\n"
     ]
    }
   ],
   "source": [
    "# count integers in mixed list using isinstance method\n",
    "l = [1, 'abcd', 3, 1.2, 4, 'xyz', 5, 'pqr', 7, -5, -12.22]\n",
    "c = 0\n",
    "f = 0.0\n",
    "for i in l:\n",
    "    if isinstance(i, int):\n",
    "        c += i\n",
    "    elif isinstance(i, float):\n",
    "        f += i\n",
    "print(c, f)"
   ]
  },
  {
   "cell_type": "code",
   "execution_count": 369,
   "id": "7a184af4",
   "metadata": {},
   "outputs": [
    {
     "name": "stdout",
     "output_type": "stream",
     "text": [
      "[12, 0]\n",
      "[12, 0]\n",
      "[12, 0]\n"
     ]
    }
   ],
   "source": [
    "# remove all values except integer values from a given array of mixed values.\n",
    "lst =  [34.67, 12, -94.89, 'Python', 0, 'C#']\n",
    "lr = []\n",
    "for i in lst:\n",
    "    if isinstance(i,int):\n",
    "        lr.append(i)\n",
    "print(lr)\n",
    "\n",
    "print([i for i in lst if str(i).isdigit()])\n",
    "print([i for i in lst if isinstance(i,int)])"
   ]
  },
  {
   "cell_type": "markdown",
   "id": "74ea86f6",
   "metadata": {},
   "source": [
    "# 4. length of the list"
   ]
  },
  {
   "cell_type": "code",
   "execution_count": 17,
   "id": "15ddb7a2-76da-447a-9e1d-f2430c1be77e",
   "metadata": {},
   "outputs": [
    {
     "name": "stdout",
     "output_type": "stream",
     "text": [
      "5\n"
     ]
    }
   ],
   "source": [
    "l=[1,2,3,4,5]\n",
    "c=0\n",
    "for i in l:\n",
    "    c=c+1\n",
    "print(c)"
   ]
  },
  {
   "cell_type": "markdown",
   "id": "22585765",
   "metadata": {},
   "source": [
    "# 5. remove the duplicate values in list"
   ]
  },
  {
   "cell_type": "code",
   "execution_count": 19,
   "id": "189f8e7f-29b2-4b2a-b143-d03e3579ef80",
   "metadata": {},
   "outputs": [
    {
     "name": "stdout",
     "output_type": "stream",
     "text": [
      "[1, 2, 34, 4, 5, 6, 33, 3]\n",
      "[1, 2, 34, 4, 5, 6, 33, 3]\n"
     ]
    }
   ],
   "source": [
    "l=[1,1,2,34,4,5,6,33,5,5,3,4,2]\n",
    "l2=[]\n",
    "for i in l:\n",
    "    if i not in l2:\n",
    "        l2.append(i)\n",
    "print(l2)\n",
    "\n",
    "## another method\n",
    "print(list(set(l)))"
   ]
  },
  {
   "cell_type": "code",
   "execution_count": 193,
   "id": "9226f73f",
   "metadata": {},
   "outputs": [
    {
     "name": "stdout",
     "output_type": "stream",
     "text": [
      "[0, 1, 2, 3, 4, 5, 6, 7, 8, 9]\n",
      "[1, 2, 3, 5, 7, 8, 9]\n",
      "[0, 1, 2, 3, 4, 5, 6, 7, 8, 9]\n"
     ]
    }
   ],
   "source": [
    "l1 = [0, 0, 1, 2, 3, 4, 4, 5, 6, 6, 6, 7, 8, 9, 4, 4]\n",
    "\n",
    "ls = []\n",
    "for i in l1:\n",
    "    if i not in ls:\n",
    "        ls.append(i)\n",
    "print(ls)\n",
    "\n",
    "print([x for x in l1 if l1.count(x) == 1])\n",
    "print([x for i, x in enumerate(l1) if x not in l1[:i]])"
   ]
  },
  {
   "cell_type": "markdown",
   "id": "410b32c9",
   "metadata": {},
   "source": [
    "# 6. Max & Min value in list"
   ]
  },
  {
   "cell_type": "code",
   "execution_count": 23,
   "id": "7cb31e30-4a87-4e99-a0eb-291d191e22e7",
   "metadata": {},
   "outputs": [
    {
     "name": "stdout",
     "output_type": "stream",
     "text": [
      "34\n"
     ]
    }
   ],
   "source": [
    "l=[1,1,2,34,4,5,6,33,5,5,3,4,2]\n",
    "m=l[0]\n",
    "\n",
    "for i in l:\n",
    "    if i>m:\n",
    "        m=i\n",
    "print(m)"
   ]
  },
  {
   "cell_type": "code",
   "execution_count": 24,
   "id": "3cfba9fd-6385-4691-9a95-4d11d1454972",
   "metadata": {},
   "outputs": [
    {
     "name": "stdout",
     "output_type": "stream",
     "text": [
      "1\n"
     ]
    }
   ],
   "source": [
    "l=[1,1,2,34,4,5,6,33,5,5,3,4,2]\n",
    "m=l[0]\n",
    "\n",
    "for i in l:\n",
    "    if i<m:\n",
    "        m=i\n",
    "print(m)"
   ]
  },
  {
   "cell_type": "code",
   "execution_count": 30,
   "id": "c4baea02",
   "metadata": {},
   "outputs": [
    {
     "name": "stdout",
     "output_type": "stream",
     "text": [
      "10\n",
      "30\n"
     ]
    }
   ],
   "source": [
    "lis = [10, 15, 16, 17, 18, 19, 10, 20, 10, 30, 10]\n",
    "\n",
    "lis.sort()\n",
    "lis\n",
    "print(lis[0])\n",
    "print(lis[-1])"
   ]
  },
  {
   "cell_type": "code",
   "execution_count": 31,
   "id": "2c593436",
   "metadata": {},
   "outputs": [
    {
     "name": "stdout",
     "output_type": "stream",
     "text": [
      "30\n",
      "10\n"
     ]
    }
   ],
   "source": [
    "## min max\n",
    "lis = [10, 15, 16, 17, 18, 19, 10, 20, 10, 30, 10]\n",
    "\n",
    "print(max(lis))\n",
    "print(min(lis))"
   ]
  },
  {
   "cell_type": "code",
   "execution_count": 176,
   "id": "aafebcfb",
   "metadata": {},
   "outputs": [
    {
     "name": "stdout",
     "output_type": "stream",
     "text": [
      "[3, 7, 2, 1]\n",
      "[0, 5, 4, 1]\n"
     ]
    }
   ],
   "source": [
    "# max & min sublists\n",
    "l = [[1, 2, 3, 5], [2, 3, 5, 4], [0, 5, 4, 1], [3, 7, 2, 1], [1, 2, 1, 2]]\n",
    "\n",
    "max_sublist = max(l, key=lambda sublist: max(sublist))\n",
    "min_sublist = min(l, key=lambda sublist: min(sublist))\n",
    "print(max_sublist)\n",
    "print(min_sublist)"
   ]
  },
  {
   "cell_type": "markdown",
   "id": "4913e93f",
   "metadata": {},
   "source": [
    "# 7.Merge two lists"
   ]
  },
  {
   "cell_type": "code",
   "execution_count": 42,
   "id": "26f24adb-2886-4f18-8e40-742a6162473b",
   "metadata": {},
   "outputs": [
    {
     "name": "stdout",
     "output_type": "stream",
     "text": [
      "[1, 6, 2, 7, 3, 8, 4, 9, 5, 10]\n"
     ]
    }
   ],
   "source": [
    "l1=[1,2,3,4,5]\n",
    "l2=[6,7,8,9,10]\n",
    "d=list(zip(l1,l2))\n",
    "l=[]\n",
    "for i in d:\n",
    "    for j in i:\n",
    "        l.append(j)  ### nested lists or tuples \n",
    "print(l)"
   ]
  },
  {
   "cell_type": "markdown",
   "id": "045e0a66",
   "metadata": {},
   "source": [
    "# 8. clear & delete  the elements in list"
   ]
  },
  {
   "cell_type": "code",
   "execution_count": 36,
   "id": "0cd679ef-806a-438f-baf8-dd97df3c5e1d",
   "metadata": {},
   "outputs": [
    {
     "name": "stdout",
     "output_type": "stream",
     "text": [
      "clear the elements: []\n"
     ]
    }
   ],
   "source": [
    "l=[1,1,2,34,4,5,6,33,5,5,3,4,2]\n",
    "l*=0\n",
    "print(\"clear the elements:\",l)\n",
    "del l"
   ]
  },
  {
   "cell_type": "markdown",
   "id": "21580450",
   "metadata": {},
   "source": [
    "# 9. swap the elements desired location or index\n",
    "1. using Swap\n",
    "2. tuple packing & tuple unpacking\n",
    "3. * operand\n",
    "4. using pop"
   ]
  },
  {
   "cell_type": "code",
   "execution_count": 41,
   "id": "b4589c49-ca2b-4e87-bbee-1602612906b8",
   "metadata": {},
   "outputs": [
    {
     "name": "stdout",
     "output_type": "stream",
     "text": [
      "Original list: [1, 10, 3, 40, 5]\n",
      "After swapping elements: [1, 40, 3, 10, 5]\n"
     ]
    }
   ],
   "source": [
    "def swap_elements(lst, index1, index2):\n",
    "    lst[index1], lst[index2] = lst[index2], lst[index1]\n",
    "my_list = [1, 10, 3, 40, 5]\n",
    "print(\"Original list:\", my_list)\n",
    "swap_elements(my_list, 1, 3)\n",
    "print(\"After swapping elements:\", my_list)"
   ]
  },
  {
   "cell_type": "code",
   "execution_count": 5,
   "id": "51ee2d01",
   "metadata": {},
   "outputs": [
    {
     "name": "stdout",
     "output_type": "stream",
     "text": [
      "[5, 2, 3, 4, 1]\n"
     ]
    }
   ],
   "source": [
    "l = [1,2,3,4,5]\n",
    "\n",
    "l[0],l[-1]=l[-1],l[0]\n",
    "print(l)"
   ]
  },
  {
   "cell_type": "code",
   "execution_count": 6,
   "id": "245c0922",
   "metadata": {},
   "outputs": [
    {
     "name": "stdout",
     "output_type": "stream",
     "text": [
      "[5, 2, 3, 4, 1]\n"
     ]
    }
   ],
   "source": [
    "## tuple Packing & unpacking using\n",
    "l = [1,2,3,4,5]\n",
    "pack = (l[-1],l[0])\n",
    "l[0],l[-1] = pack\n",
    "print(l)"
   ]
  },
  {
   "cell_type": "code",
   "execution_count": 7,
   "id": "4d691291",
   "metadata": {},
   "outputs": [
    {
     "name": "stdout",
     "output_type": "stream",
     "text": [
      "[5, 2, 3, 4, 1]\n"
     ]
    }
   ],
   "source": [
    "## * operand\n",
    "l = [1,2,3,4,5]\n",
    "start,*middle,end = l\n",
    "#print(start)\n",
    "#print(middle)\n",
    "#print(end)\n",
    "l1 = [end,*middle,start]\n",
    "print(l1)"
   ]
  },
  {
   "cell_type": "code",
   "execution_count": 8,
   "id": "ea26d40b",
   "metadata": {},
   "outputs": [
    {
     "name": "stdout",
     "output_type": "stream",
     "text": [
      "[5, 2, 3, 4, 1]\n"
     ]
    }
   ],
   "source": [
    "## using pop\n",
    "l = [1,2,3,4,5]\n",
    "first = l.pop(0)\n",
    "last = l.pop(-1)\n",
    "l.insert(0,last)\n",
    "l.append(first)\n",
    "print(l)"
   ]
  },
  {
   "cell_type": "code",
   "execution_count": 9,
   "id": "a646858c",
   "metadata": {},
   "outputs": [
    {
     "name": "stdout",
     "output_type": "stream",
     "text": [
      "[23, 32, 45, 65, 11]\n"
     ]
    }
   ],
   "source": [
    "l = [23,65,45,32,11]\n",
    "\n",
    "pos1, pos2 = 1,3\n",
    "l[pos1],l[pos2]=l[pos2],l[pos1]\n",
    "print(l)"
   ]
  },
  {
   "cell_type": "code",
   "execution_count": 10,
   "id": "e4ea6056",
   "metadata": {},
   "outputs": [
    {
     "name": "stdout",
     "output_type": "stream",
     "text": [
      "[23, 11, 45, 65, 32]\n"
     ]
    }
   ],
   "source": [
    "## using pop & insert\n",
    "l = [23,65,45,32,11]\n",
    "pos1, pos2 = 1,3\n",
    "\n",
    "first = l.pop(pos1)\n",
    "last = l.pop(pos2)\n",
    "l.insert(pos1,last)\n",
    "l.insert(pos2,first)\n",
    "print(l)"
   ]
  },
  {
   "cell_type": "code",
   "execution_count": 11,
   "id": "0df8df4c",
   "metadata": {},
   "outputs": [
    {
     "name": "stdout",
     "output_type": "stream",
     "text": [
      "[23, 32, 45, 65, 11]\n"
     ]
    }
   ],
   "source": [
    "## using tuple (pack & unpack)\n",
    "l = [23,65,45,32,11]\n",
    "pos1, pos2 = 1,3\n",
    "\n",
    "get = (l[pos1],l[pos2])\n",
    "l[pos2],l[pos1] = get\n",
    "print(l)"
   ]
  },
  {
   "cell_type": "markdown",
   "id": "3068e0b7",
   "metadata": {},
   "source": [
    "# 10. split the list into sub lists"
   ]
  },
  {
   "cell_type": "code",
   "execution_count": 55,
   "id": "96460881-e001-4e22-8aeb-4145d3351a63",
   "metadata": {},
   "outputs": [
    {
     "name": "stdout",
     "output_type": "stream",
     "text": [
      "[[1, 1, 2, 34], [4, 5, 6, 33], [5, 5, 3, 4]]\n"
     ]
    }
   ],
   "source": [
    "l=[1,1,2,34,4,5,6,33,5,5,3,4]\n",
    "l1=[]\n",
    "for i in range(0,len(l),4): ## range(start,stop,step)\n",
    "    l1.append(l[i:i+4])     ## exclusive: ending index of sub list \n",
    "print(l1)\n",
    "## note: step & index exclusive value "
   ]
  },
  {
   "cell_type": "code",
   "execution_count": 43,
   "id": "991a774f",
   "metadata": {},
   "outputs": [
    {
     "name": "stdout",
     "output_type": "stream",
     "text": [
      "[1, 2, 3, 4, 5, 6, 7, 8, 9, 10, 11, 12, 13, 14, 15, 16, 17, 18, 19, 20]\n",
      "[[1, 2, 3], [4, 5, 6], [7, 8, 9], [10, 11, 12], [13, 14, 15], [16, 17, 18], [19, 20]]\n"
     ]
    }
   ],
   "source": [
    "l = []\n",
    "for i in range(1,21):\n",
    "    l.append(i)\n",
    "print(l)\n",
    "\n",
    "ls = []\n",
    "for j in range(0,len(l),3):\n",
    "    ls.append(l[j:j+3])\n",
    "print(ls)"
   ]
  },
  {
   "cell_type": "code",
   "execution_count": 52,
   "id": "706548b6",
   "metadata": {},
   "outputs": [
    {
     "name": "stdout",
     "output_type": "stream",
     "text": [
      "[[1, 2, 3], [4, 5, 6], [7, 8, 9], [10, 11, 12], [13, 14, 15]]\n"
     ]
    }
   ],
   "source": [
    "l = [[3*i + j for j in range(1,4)] for i in range(5)]\n",
    "print(l)"
   ]
  },
  {
   "cell_type": "code",
   "execution_count": 59,
   "id": "838132d9",
   "metadata": {},
   "outputs": [
    {
     "name": "stdout",
     "output_type": "stream",
     "text": [
      "[[12, 45], [23, 67], [78, 90], [45, 32], [100, 76], [38, 62], [73, 29], [83]]\n",
      "[[12, 45, 23], [67, 78, 90], [45, 32, 100], [76, 38, 62], [73, 29, 83]]\n",
      "[[12, 45, 23, 67], [78, 90, 45, 32], [100, 76, 38, 62], [73, 29, 83]]\n",
      "[[12, 45, 23, 67, 78], [90, 45, 32, 100, 76], [38, 62, 73, 29, 83]]\n"
     ]
    }
   ],
   "source": [
    "def fun1(lst, pos):\n",
    "    ls = []\n",
    "    for i in range(0,len(lst),pos):\n",
    "        ls.append(lst[i:i+pos])\n",
    "    return ls\n",
    "l = [12, 45, 23, 67, 78, 90, 45, 32, 100, 76, 38, 62, 73, 29, 83]\n",
    "print(fun1(l,2))\n",
    "print(fun1(l,3))\n",
    "print(fun1(l,4))\n",
    "print(fun1(l,5))"
   ]
  },
  {
   "cell_type": "markdown",
   "id": "738c3d05",
   "metadata": {},
   "source": [
    "# 11. Two list combined/ combined with front side"
   ]
  },
  {
   "cell_type": "code",
   "execution_count": 64,
   "id": "250e098c-0759-4e4e-84ca-c03facd444ec",
   "metadata": {},
   "outputs": [
    {
     "name": "stdout",
     "output_type": "stream",
     "text": [
      "[1, 2, 3, 6, 7, 8]\n",
      "[6, 7, 8, 1, 2, 3]\n"
     ]
    },
    {
     "data": {
      "text/plain": [
       "[1, 2, 3, 6, 7, 8]"
      ]
     },
     "execution_count": 64,
     "metadata": {},
     "output_type": "execute_result"
    }
   ],
   "source": [
    "l1=[1,2,3]\n",
    "l2=[6,7,8]\n",
    "print(l1+l2)\n",
    "print(l2+l1)\n",
    "l1.extend(l2)\n",
    "l1"
   ]
  },
  {
   "cell_type": "markdown",
   "id": "6d94db0c",
   "metadata": {},
   "source": [
    "# 12. Remove / Insert the n th index value of list"
   ]
  },
  {
   "cell_type": "code",
   "execution_count": 261,
   "id": "12aa094a-eea0-4edc-a8d9-352ef9c22642",
   "metadata": {},
   "outputs": [
    {
     "name": "stdout",
     "output_type": "stream",
     "text": [
      "Enter Index value:2\n",
      "[10, 11, 13, 14, 15]\n",
      "[10, 12, 13, 14, 15]\n"
     ]
    }
   ],
   "source": [
    "# remove nth element\n",
    "n=int(input(\"Enter Index value:\"))\n",
    "l=[10,11,12,13,14,15]\n",
    "ls=[]\n",
    "for i in range(len(l)):\n",
    "    if i!=n:\n",
    "        ls.append(l[i])\n",
    "print(ls)\n",
    "\n",
    "print(l[:n-1]+l[n:])"
   ]
  },
  {
   "cell_type": "code",
   "execution_count": 260,
   "id": "5e433793",
   "metadata": {},
   "outputs": [
    {
     "name": "stdout",
     "output_type": "stream",
     "text": [
      "Enter Index value:5\n",
      "Enter the element to insert:15\n",
      "[10, 11, 12, 13, 14, 15, 15]\n"
     ]
    }
   ],
   "source": [
    "# inserting nth element\n",
    "n = int(input(\"Enter Index value:\"))\n",
    "element_to_insert = int(input(\"Enter the element to insert:\"))\n",
    "l = [10, 11, 12, 13, 14, 15]\n",
    "\n",
    "if 0 <= n <= len(l):\n",
    "    ls = l[:n] + [element_to_insert] + l[n:]\n",
    "    print(ls)\n",
    "else:\n",
    "    print(\"Index out of range.\")"
   ]
  },
  {
   "cell_type": "code",
   "execution_count": 13,
   "id": "543ebd70",
   "metadata": {},
   "outputs": [
    {
     "name": "stdout",
     "output_type": "stream",
     "text": [
      "Enter Word:Hi\n",
      "['Hi', 'Hello', 'Naresh', 'AND', 'Hello']\n"
     ]
    }
   ],
   "source": [
    "my_words = [\"Hi\",\"Hello\",\"Naresh\",\"AND\",\"Hi\",\"Hello\",\"Nikky\"]\n",
    "w = input(\"Enter Word:\")\n",
    "c = 0\n",
    "\n",
    "for key in range(0,len(my_words)-1):\n",
    "    if(my_words[key] == w):\n",
    "        c= c+1\n",
    "    if(c == 2):\n",
    "        del my_words[key]\n",
    "print(my_words)"
   ]
  },
  {
   "cell_type": "code",
   "execution_count": 49,
   "id": "f3df316e",
   "metadata": {},
   "outputs": [
    {
     "name": "stdout",
     "output_type": "stream",
     "text": [
      "['Green', 'White', 'Black']\n"
     ]
    }
   ],
   "source": [
    "color = ['Red', 'Green', 'White', 'Black', 'Pink', 'Yellow']\n",
    "color = [x for (i,x) in enumerate(color) if i not in (0,4,5)]\n",
    "print(color)"
   ]
  },
  {
   "cell_type": "markdown",
   "id": "a92ad077",
   "metadata": {},
   "source": [
    "# 13. Common values in list"
   ]
  },
  {
   "cell_type": "code",
   "execution_count": 50,
   "id": "83d98d82-9f91-4ed9-9149-0f481e142eb7",
   "metadata": {},
   "outputs": [
    {
     "name": "stdout",
     "output_type": "stream",
     "text": [
      "[1, 2, 3, 6]\n"
     ]
    }
   ],
   "source": [
    "# common values in 2 lists\n",
    "l1=[1, 2, 3, 4,5,6]\n",
    "l2=[6, 7, 8, 1, 2, 3]\n",
    "l=[]\n",
    "for i in l1:\n",
    "    for j in l2:\n",
    "        if i==j:\n",
    "            l.append(i)\n",
    "print(l)"
   ]
  },
  {
   "cell_type": "code",
   "execution_count": 49,
   "id": "988e69fe",
   "metadata": {},
   "outputs": [
    {
     "name": "stdout",
     "output_type": "stream",
     "text": [
      "[1, 7]\n"
     ]
    }
   ],
   "source": [
    "# common values in 3 lists in same index\n",
    "l1 = [1, 1, 3, 4, 5, 6, 7]\n",
    "l2 = [0, 1, 2, 3, 4, 5, 7]\n",
    "l3 = [0, 1, 2, 3, 4, 5, 7]\n",
    "\n",
    "ls = []\n",
    "for i,j,k in zip(l1,l2,l3):\n",
    "    if i==j==k:\n",
    "        ls.append(i)\n",
    "print(ls)"
   ]
  },
  {
   "cell_type": "code",
   "execution_count": 155,
   "id": "6074fbf8",
   "metadata": {},
   "outputs": [
    {
     "name": "stdout",
     "output_type": "stream",
     "text": [
      "[1, 5, 7, 8, 11, 12]\n"
     ]
    }
   ],
   "source": [
    "l1 = [1, 2, 3, 4, 5, 6, 7, 8, 9, 10, 11, 12, 13, 14]\n",
    "l2 = [[12, 18, 23, 25, 45], [7, 11, 19, 24, 28], [1, 5, 8, 18, 15, 16]]\n",
    "\n",
    "ls = []\n",
    "for i in l1:\n",
    "    for j in l2:\n",
    "        for k in j:\n",
    "            if i==k:\n",
    "                ls.append(i)\n",
    "print(ls)"
   ]
  },
  {
   "cell_type": "code",
   "execution_count": 162,
   "id": "649b1526",
   "metadata": {},
   "outputs": [
    {
     "name": "stdout",
     "output_type": "stream",
     "text": [
      "[[12], [7, 11], [1, 5, 8]]\n"
     ]
    },
    {
     "data": {
      "text/plain": [
       "[[12], [7, 11], [1, 5, 8]]"
      ]
     },
     "execution_count": 162,
     "metadata": {},
     "output_type": "execute_result"
    }
   ],
   "source": [
    "l1 = [1, 2, 3, 4, 5, 6, 7, 8, 9, 10, 11, 12, 13, 14]\n",
    "l2 = [[12, 18, 23, 25, 45], [7, 11, 19, 24, 28], [1, 5, 8, 18, 15, 16]]\n",
    "\n",
    "res = []\n",
    "for i in l2:\n",
    "    ls = []\n",
    "    for j in i:\n",
    "        if j in l1:\n",
    "            ls.append(j)\n",
    "    res.append(ls)\n",
    "print(res)\n",
    "\n",
    "[[n for n in lst if n in l1] for lst in l2]"
   ]
  },
  {
   "cell_type": "code",
   "execution_count": 169,
   "id": "a7f149c3",
   "metadata": {},
   "outputs": [
    {
     "name": "stdout",
     "output_type": "stream",
     "text": [
      "[18, 12]\n"
     ]
    }
   ],
   "source": [
    "# find the common elements in nested list using set\n",
    "l = [[12, 18, 23, 25, 45], [7, 12, 18, 24, 28], [1, 5, 8, 12, 15, 16, 18]]\n",
    "\n",
    "row1 = set(l[0])\n",
    "for sublist in l[1:]:\n",
    "    com = row1.intersection(sublist)\n",
    "print(list(com))"
   ]
  },
  {
   "cell_type": "code",
   "execution_count": 181,
   "id": "7f38b6ac",
   "metadata": {},
   "outputs": [
    {
     "name": "stdout",
     "output_type": "stream",
     "text": [
      "[12, 18]\n"
     ]
    }
   ],
   "source": [
    "# find the common elements in nested list using \n",
    "l = [[12, 18, 23, 25, 45], [7, 12, 18, 24, 28], [1, 5, 8, 12, 15, 16, 18]]\n",
    "ls = []\n",
    "for i in l[0]:\n",
    "    for j in l[1]:\n",
    "        for k in l[2]:\n",
    "            if i==j==k:\n",
    "                ls.append(i)\n",
    "print(ls)"
   ]
  },
  {
   "cell_type": "markdown",
   "id": "0222dc8a",
   "metadata": {},
   "source": [
    "# 14. List of values into integer"
   ]
  },
  {
   "cell_type": "code",
   "execution_count": 74,
   "id": "43211ac1-a92f-4bd9-bff7-6696c1b9f5b7",
   "metadata": {},
   "outputs": [
    {
     "data": {
      "text/plain": [
       "'113344'"
      ]
     },
     "execution_count": 74,
     "metadata": {},
     "output_type": "execute_result"
    }
   ],
   "source": [
    "l=[11,33,44]\n",
    "\"\".join(map(str,l))"
   ]
  },
  {
   "cell_type": "code",
   "execution_count": 199,
   "id": "0a836d0b",
   "metadata": {},
   "outputs": [
    {
     "data": {
      "text/plain": [
       "'359404374'"
      ]
     },
     "execution_count": 199,
     "metadata": {},
     "output_type": "execute_result"
    }
   ],
   "source": [
    "# sorted asc positive integer\n",
    "l = [3, 40, 9, 43, 74, 5]\n",
    "l.sort()\n",
    "\"\".join([str(i) for i in l])"
   ]
  },
  {
   "cell_type": "code",
   "execution_count": 202,
   "id": "1d226e5b",
   "metadata": {},
   "outputs": [
    {
     "data": {
      "text/plain": [
       "'744340953'"
      ]
     },
     "execution_count": 202,
     "metadata": {},
     "output_type": "execute_result"
    }
   ],
   "source": [
    "# sorted asc positive integer\n",
    "l = [3, 40, 9, 43, 74, 5]\n",
    "l.sort(reverse=True)\n",
    "\"\".join([str(i) for i in l])"
   ]
  },
  {
   "cell_type": "markdown",
   "id": "f511aa11",
   "metadata": {},
   "source": [
    "# 15.create empty dict in list"
   ]
  },
  {
   "cell_type": "code",
   "execution_count": 76,
   "id": "72f31f1b-9084-410f-a2b2-621bc0d0cd8c",
   "metadata": {},
   "outputs": [
    {
     "name": "stdout",
     "output_type": "stream",
     "text": [
      "[{}, {}, {}, {}, {}]\n"
     ]
    }
   ],
   "source": [
    "l=[]\n",
    "for i in range(5):\n",
    "    l.append({})\n",
    "print(l)"
   ]
  },
  {
   "cell_type": "markdown",
   "id": "c010e853",
   "metadata": {},
   "source": [
    "# 16. space separate elements"
   ]
  },
  {
   "cell_type": "code",
   "execution_count": 2,
   "id": "2fdb0947",
   "metadata": {},
   "outputs": [
    {
     "name": "stdout",
     "output_type": "stream",
     "text": [
      "1 2 3 4 5\n"
     ]
    },
    {
     "data": {
      "text/plain": [
       "'1 2 3 4 5'"
      ]
     },
     "execution_count": 2,
     "metadata": {},
     "output_type": "execute_result"
    }
   ],
   "source": [
    " l=[1,2,3,4,5]\n",
    "print(*l)\n",
    "\n",
    "## another method\n",
    "\" \".join(map(str,l))"
   ]
  },
  {
   "cell_type": "markdown",
   "id": "3ade1307",
   "metadata": {},
   "source": [
    "# 17. Mul of Array Elements"
   ]
  },
  {
   "cell_type": "code",
   "execution_count": 3,
   "id": "4973948a",
   "metadata": {},
   "outputs": [
    {
     "name": "stdout",
     "output_type": "stream",
     "text": [
      "120\n"
     ]
    }
   ],
   "source": [
    "# Traversalmethod\n",
    "l = [1,2,3,4,5]\n",
    "c=1\n",
    "for i in l:\n",
    "    c = c*i\n",
    "print(c)"
   ]
  },
  {
   "cell_type": "code",
   "execution_count": 4,
   "id": "0e055131",
   "metadata": {},
   "outputs": [
    {
     "name": "stdout",
     "output_type": "stream",
     "text": [
      "120\n",
      "15\n"
     ]
    }
   ],
   "source": [
    "import numpy\n",
    "l = [1,2,3,4,5]\n",
    "print(numpy.prod(l))\n",
    "print(numpy.sum(l))"
   ]
  },
  {
   "cell_type": "markdown",
   "id": "6a6958f6",
   "metadata": {},
   "source": [
    "# 18. Search Element in list"
   ]
  },
  {
   "cell_type": "code",
   "execution_count": 14,
   "id": "593eb234",
   "metadata": {},
   "outputs": [
    {
     "name": "stdout",
     "output_type": "stream",
     "text": [
      "Enter Element:3\n",
      "Found\n"
     ]
    }
   ],
   "source": [
    "## using in \n",
    "l = [1,2,3,4,5,6]\n",
    "n =int(input(\"Enter Element:\"))\n",
    "if n in l:\n",
    "    print(\"Found\")\n",
    "else:\n",
    "    print(\"Not Found\")"
   ]
  },
  {
   "cell_type": "code",
   "execution_count": 15,
   "id": "ce1c75d4",
   "metadata": {},
   "outputs": [
    {
     "name": "stdout",
     "output_type": "stream",
     "text": [
      "Enter Element:3\n",
      "Found\n"
     ]
    }
   ],
   "source": [
    "l = [1,2,3,4,5,6]\n",
    "n =int(input(\"Enter Element:\"))\n",
    "flag = 0\n",
    "for i in l:\n",
    "    if n==i:\n",
    "        print(\"Found\")\n",
    "        flag = 1\n",
    "if flag==0:\n",
    "    print(\"Not Found\")"
   ]
  },
  {
   "cell_type": "markdown",
   "id": "e45925ae",
   "metadata": {},
   "source": [
    "# 19. Clear List:\n",
    "\n",
    "methods:\n",
    "1. clear()\n",
    "2. Init the list with no value\n",
    "3. *= 0\n",
    "4. del()"
   ]
  },
  {
   "cell_type": "code",
   "execution_count": 16,
   "id": "b13b94f0",
   "metadata": {},
   "outputs": [
    {
     "data": {
      "text/plain": [
       "[]"
      ]
     },
     "execution_count": 16,
     "metadata": {},
     "output_type": "execute_result"
    }
   ],
   "source": [
    "# 1. using clear()\n",
    "\n",
    "lis = [1,2,3,4,5]\n",
    "\n",
    "lis.clear()\n",
    "lis"
   ]
  },
  {
   "cell_type": "code",
   "execution_count": 17,
   "id": "da5eff03",
   "metadata": {},
   "outputs": [
    {
     "data": {
      "text/plain": [
       "[]"
      ]
     },
     "execution_count": 17,
     "metadata": {},
     "output_type": "execute_result"
    }
   ],
   "source": [
    "# 2. assign using empty list\n",
    "lis = [1,2,3,4,5]\n",
    "\n",
    "lis = []\n",
    "lis"
   ]
  },
  {
   "cell_type": "code",
   "execution_count": 18,
   "id": "2effc9f9",
   "metadata": {},
   "outputs": [
    {
     "data": {
      "text/plain": [
       "[]"
      ]
     },
     "execution_count": 18,
     "metadata": {},
     "output_type": "execute_result"
    }
   ],
   "source": [
    "# 3. using *operand\n",
    "lis = [1,2,3,4,5]\n",
    "\n",
    "lis *=0\n",
    "lis"
   ]
  },
  {
   "cell_type": "code",
   "execution_count": 19,
   "id": "1b7b114f",
   "metadata": {},
   "outputs": [
    {
     "data": {
      "text/plain": [
       "[]"
      ]
     },
     "execution_count": 19,
     "metadata": {},
     "output_type": "execute_result"
    }
   ],
   "source": [
    "# 4. del\n",
    "lis = [1,2,3,4,5]\n",
    "\n",
    "del lis[:]\n",
    "lis"
   ]
  },
  {
   "cell_type": "markdown",
   "id": "2489e7e1",
   "metadata": {},
   "source": [
    "# 20. Clone or Copy a list\n",
    "1. Slicing\n",
    "2. extend()\n",
    "3. list()\n",
    "4. copy()\n",
    "5. list comprehension"
   ]
  },
  {
   "cell_type": "code",
   "execution_count": null,
   "id": "76b38f79",
   "metadata": {},
   "outputs": [],
   "source": [
    "# 1. slicing\n",
    "lis = [1,2,3,4,5]\n",
    "\n",
    "lis_copy = lis[:]\n",
    "lis_copy"
   ]
  },
  {
   "cell_type": "code",
   "execution_count": 23,
   "id": "547205e3",
   "metadata": {},
   "outputs": [
    {
     "data": {
      "text/plain": [
       "[1, 2, 3, 4, 5]"
      ]
     },
     "execution_count": 23,
     "metadata": {},
     "output_type": "execute_result"
    }
   ],
   "source": [
    "# extend()\n",
    "lis = [1,2,3,4,5]\n",
    "\n",
    "lis_copy = []\n",
    "lis_copy.extend(lis)\n",
    "lis_copy"
   ]
  },
  {
   "cell_type": "code",
   "execution_count": 24,
   "id": "ba79cc1a",
   "metadata": {},
   "outputs": [
    {
     "data": {
      "text/plain": [
       "[1, 2, 3, 4, 5]"
      ]
     },
     "execution_count": 24,
     "metadata": {},
     "output_type": "execute_result"
    }
   ],
   "source": [
    "# 3. list\n",
    "lis = [1,2,3,4,5]\n",
    "\n",
    "lis_c = list(lis)\n",
    "lis_c"
   ]
  },
  {
   "cell_type": "code",
   "execution_count": 26,
   "id": "267e0dfc",
   "metadata": {},
   "outputs": [
    {
     "data": {
      "text/plain": [
       "[1, 2, 3, 4, 5]"
      ]
     },
     "execution_count": 26,
     "metadata": {},
     "output_type": "execute_result"
    }
   ],
   "source": [
    "# 4. copy\n",
    "lis = [1,2,3,4,5]\n",
    "\n",
    "lis_c = lis.copy()\n",
    "lis_c"
   ]
  },
  {
   "cell_type": "code",
   "execution_count": 25,
   "id": "af1eeb0c",
   "metadata": {},
   "outputs": [
    {
     "data": {
      "text/plain": [
       "[1, 2, 3, 4, 5]"
      ]
     },
     "execution_count": 25,
     "metadata": {},
     "output_type": "execute_result"
    }
   ],
   "source": [
    "# 5. list comprehension\n",
    "lis = [1,2,3,4,5]\n",
    "\n",
    "lis_copy = [i for i in lis]\n",
    "lis_copy"
   ]
  },
  {
   "cell_type": "markdown",
   "id": "7fd602d7",
   "metadata": {},
   "source": [
    "# 21. Count Occurance of element"
   ]
  },
  {
   "cell_type": "code",
   "execution_count": 27,
   "id": "02e89c79",
   "metadata": {},
   "outputs": [
    {
     "name": "stdout",
     "output_type": "stream",
     "text": [
      "Enter Num:10\n",
      "4\n"
     ]
    }
   ],
   "source": [
    "lis = [10, 15, 16, 17, 18, 19, 10, 20, 10, 30, 10]\n",
    "n = int(input(\"Enter Num:\"))\n",
    "c = 0\n",
    "for i in lis:\n",
    "    if n==i:\n",
    "        c=c+1\n",
    "print(c)"
   ]
  },
  {
   "cell_type": "code",
   "execution_count": 28,
   "id": "cc84aa99",
   "metadata": {},
   "outputs": [
    {
     "data": {
      "text/plain": [
       "4"
      ]
     },
     "execution_count": 28,
     "metadata": {},
     "output_type": "execute_result"
    }
   ],
   "source": [
    "lis = [10, 15, 16, 17, 18, 19, 10, 20, 10, 30, 10]\n",
    "lis.count(10)"
   ]
  },
  {
   "cell_type": "code",
   "execution_count": 29,
   "id": "32fcb322",
   "metadata": {},
   "outputs": [
    {
     "name": "stdout",
     "output_type": "stream",
     "text": [
      "Counter({10: 4, 15: 1, 16: 1, 17: 1, 18: 1, 19: 1, 20: 1, 30: 1})\n",
      "10 4\n"
     ]
    }
   ],
   "source": [
    "from collections import Counter\n",
    "\n",
    "lis = [10, 15, 16, 17, 18, 19, 10, 20, 10, 30, 10]\n",
    "x = 10\n",
    "dic = Counter(lis)\n",
    "print(dic)\n",
    "print(x,dic[x])"
   ]
  },
  {
   "cell_type": "code",
   "execution_count": 128,
   "id": "ad8aafd6",
   "metadata": {},
   "outputs": [
    {
     "name": "stdout",
     "output_type": "stream",
     "text": [
      "{'a': 4, 'b': 2, 'c': 6, 'd': 3, 'e': 1}\n",
      "c 6\n"
     ]
    }
   ],
   "source": [
    "# most occurance of element\n",
    "l = ['a','b','c','c','d','a','c','d','e','a','c','d','c','a','b','c']\n",
    "\n",
    "d = {}\n",
    "for i in l:\n",
    "    d[i] = d.get(i,0)+1\n",
    "print(d)\n",
    "\n",
    "key = None\n",
    "m = 0\n",
    "for k,v in d.items():\n",
    "    if v > m:\n",
    "        m = v\n",
    "        key = k\n",
    "print(key,m)"
   ]
  },
  {
   "cell_type": "markdown",
   "id": "91dbf307",
   "metadata": {},
   "source": [
    "# 22. second largest/smallest number"
   ]
  },
  {
   "cell_type": "code",
   "execution_count": 32,
   "id": "a82469a6",
   "metadata": {},
   "outputs": [
    {
     "name": "stdout",
     "output_type": "stream",
     "text": [
      "[7, 9, 10, 13, 14, 22, 23, 25]\n",
      "23\n"
     ]
    }
   ],
   "source": [
    "# sort & sclicing \n",
    "l = [10,22,9,13,14,25,7,23]\n",
    "\n",
    "l.sort()\n",
    "print(l)\n",
    "print(l[-2])"
   ]
  },
  {
   "cell_type": "code",
   "execution_count": 33,
   "id": "e0937756",
   "metadata": {},
   "outputs": [
    {
     "data": {
      "text/plain": [
       "23"
      ]
     },
     "execution_count": 33,
     "metadata": {},
     "output_type": "execute_result"
    }
   ],
   "source": [
    "# set & remove & max\n",
    "l = [10,22,9,13,14,25,7,23]\n",
    "lis = set(l)\n",
    "lis.remove(max(lis))\n",
    "max(lis)"
   ]
  },
  {
   "cell_type": "code",
   "execution_count": 34,
   "id": "3cff392c",
   "metadata": {},
   "outputs": [
    {
     "name": "stdout",
     "output_type": "stream",
     "text": [
      "[10, 22, 9, 13, 14, 7, 23]\n",
      "[23]\n"
     ]
    }
   ],
   "source": [
    "l = [10,22,9,13,14,25,7,23]\n",
    "l1 = [x for x in l if x!=max(l)]\n",
    "print(l1)\n",
    "l2 = [x for x in l1 if x==max(l1)]\n",
    "print(l2)"
   ]
  },
  {
   "cell_type": "code",
   "execution_count": 36,
   "id": "7a612344",
   "metadata": {},
   "outputs": [
    {
     "name": "stdout",
     "output_type": "stream",
     "text": [
      "25\n"
     ]
    }
   ],
   "source": [
    "lis = [10,24,23,25,26]\n",
    "first_max = second_max = int(-1) or float('-inf')\n",
    "for num in lis:\n",
    "    if num > first_max:\n",
    "        second_max = first_max\n",
    "        first_max = num\n",
    "    elif num > second_max and num != first_max:\n",
    "        second_max = num\n",
    "print(second_max)"
   ]
  },
  {
   "cell_type": "markdown",
   "id": "642199e4",
   "metadata": {},
   "source": [
    "# 23. list is empty or not"
   ]
  },
  {
   "cell_type": "code",
   "execution_count": 109,
   "id": "3af86626",
   "metadata": {},
   "outputs": [
    {
     "name": "stdout",
     "output_type": "stream",
     "text": [
      "List is empty\n"
     ]
    }
   ],
   "source": [
    "l = []\n",
    "if not l:\n",
    "    print(\"List is empty\")"
   ]
  },
  {
   "cell_type": "markdown",
   "id": "5f8663e2",
   "metadata": {},
   "source": [
    "# 24. find the max length / longest value in list"
   ]
  },
  {
   "cell_type": "code",
   "execution_count": 8,
   "id": "82f708e4",
   "metadata": {},
   "outputs": [
    {
     "name": "stdout",
     "output_type": "stream",
     "text": [
      "quick\n"
     ]
    }
   ],
   "source": [
    "l = [\"The\",\"quick\",\"brown\",\"fox\",\"jumps\",\"over\",\"the\",\"lazy\",\"dog\"]\n",
    "word = max(l, key=len)\n",
    "print(word)"
   ]
  },
  {
   "cell_type": "code",
   "execution_count": 18,
   "id": "f424076d",
   "metadata": {},
   "outputs": [
    {
     "name": "stdout",
     "output_type": "stream",
     "text": [
      "quick\n"
     ]
    }
   ],
   "source": [
    "l = [\"The\",\"quick\",\"brown\",\"fox\",\"jumps\",\"over\",\"the\",\"lazy\",\"dog\"]\n",
    "m = \"\"\n",
    "for i in l:\n",
    "    if len(i)>len(m):\n",
    "        m=i\n",
    "print(m)"
   ]
  },
  {
   "cell_type": "markdown",
   "id": "801d2305",
   "metadata": {},
   "source": [
    "# 25. find all max length / longest values in list"
   ]
  },
  {
   "cell_type": "code",
   "execution_count": 29,
   "id": "9a8532ab",
   "metadata": {},
   "outputs": [
    {
     "name": "stdout",
     "output_type": "stream",
     "text": [
      "['quick', 'brown', 'jumps']\n"
     ]
    }
   ],
   "source": [
    "l = [\"The\", \"quick\", \"brown\", \"fox\", \"jumps\", \"over\", \"the\", \"lazy\", \"dog\"]\n",
    "m = 0\n",
    "ls = []\n",
    "for w in l:\n",
    "    if len(w) > m:\n",
    "        m = len(w)\n",
    "        ls = [w]\n",
    "    elif len(w) == m:\n",
    "        ls.append(w)\n",
    "print(ls)"
   ]
  },
  {
   "cell_type": "markdown",
   "id": "1bb1c783",
   "metadata": {},
   "source": [
    "# 26. longer than n from a given list of words."
   ]
  },
  {
   "cell_type": "code",
   "execution_count": 34,
   "id": "e616e411",
   "metadata": {},
   "outputs": [
    {
     "name": "stdout",
     "output_type": "stream",
     "text": [
      "Enter lenth:3\n",
      "['quick', 'brown', 'jumps', 'over', 'lazy']\n"
     ]
    }
   ],
   "source": [
    "l = [\"The\", \"quick\", \"brown\", \"fox\", \"jumps\", \"over\", \"the\", \"lazy\", \"dog\"]\n",
    "n = int(input(\"Enter lenth:\"))\n",
    "ls = []\n",
    "for i in l:\n",
    "    if len(i) > n:\n",
    "        ls.append(i)\n",
    "print(ls)"
   ]
  },
  {
   "cell_type": "markdown",
   "id": "c824c591",
   "metadata": {},
   "source": [
    "# 27. Two lists any one common letter: return true "
   ]
  },
  {
   "cell_type": "code",
   "execution_count": 35,
   "id": "e2d08ef0",
   "metadata": {},
   "outputs": [
    {
     "name": "stdout",
     "output_type": "stream",
     "text": [
      "True\n",
      "None\n"
     ]
    }
   ],
   "source": [
    "def common_data(list1, list2):\n",
    "    result = False\n",
    "    for x in list1:\n",
    "        for y in list2:\n",
    "            if x == y:\n",
    "                result = True\n",
    "                return result\n",
    "print(common_data([1,2,3,4,5], [5,6,7,8,9]))\n",
    "print(common_data([1,2,3,4,5], [6,7,8,9]))"
   ]
  },
  {
   "cell_type": "markdown",
   "id": "0c33b23c",
   "metadata": {},
   "source": [
    "# 28. Two lists all common letters : return true "
   ]
  },
  {
   "cell_type": "code",
   "execution_count": null,
   "id": "e660d87d",
   "metadata": {},
   "outputs": [],
   "source": [
    "list1 = [\"a\", \"b\", \"c\", \"d\", \"e\"]\n",
    "list2 = [\"c\", \"a\", \"e\", \"b\", \"d\"]\n",
    "\n",
    "sorted_list1 = sorted(list1)\n",
    "sorted_list2 = sorted(list2)\n",
    "if sorted_list1 == sorted_list2:\n",
    "    result = True\n",
    "else:\n",
    "    result = False\n",
    "print(result)"
   ]
  },
  {
   "cell_type": "code",
   "execution_count": 42,
   "id": "cb17fac4",
   "metadata": {},
   "outputs": [
    {
     "name": "stdout",
     "output_type": "stream",
     "text": [
      "False\n"
     ]
    }
   ],
   "source": [
    "l1 = [\"a\", \"b\", \"c\", \"d\", \"e\"]\n",
    "l2 = [\"c\", \"a\", \"e\", \"b\", \"d\",\"e\"]\n",
    "\n",
    "if len(l1)==len(l2):\n",
    "    if set(list1) == set(list2):\n",
    "        print(True)\n",
    "else:\n",
    "    print(False)"
   ]
  },
  {
   "cell_type": "code",
   "execution_count": 47,
   "id": "73d7218e",
   "metadata": {},
   "outputs": [
    {
     "name": "stdout",
     "output_type": "stream",
     "text": [
      "False\n"
     ]
    }
   ],
   "source": [
    "l1 = [\"a\", \"b\", \"c\", \"d\", \"e\"]\n",
    "l2 = [\"c\", \"a\", \"e\", \"e\", \"d\"]\n",
    "\n",
    "if len(list1) == len(list2):\n",
    "    if all(i in l2 for i in l1):\n",
    "        print(True)\n",
    "    print(False)"
   ]
  },
  {
   "cell_type": "code",
   "execution_count": 48,
   "id": "e130dbf6",
   "metadata": {},
   "outputs": [
    {
     "name": "stdout",
     "output_type": "stream",
     "text": [
      "True\n"
     ]
    }
   ],
   "source": [
    "list1 = [\"a\", \"b\", \"c\", \"d\", \"e\"]\n",
    "list2 = [\"c\", \"a\", \"e\", \"b\", \"d\"]\n",
    "\n",
    "def have_common_letters(l1, l2):\n",
    "    if len(l1) != len(l2):\n",
    "        return False\n",
    "    for i in l1:\n",
    "        if i not in l2:\n",
    "            return False\n",
    "    return True\n",
    "result = have_common_letters(list1, list2)\n",
    "print(result)"
   ]
  },
  {
   "cell_type": "markdown",
   "id": "b725cd23",
   "metadata": {},
   "source": [
    "# 29. circularly_identical\n",
    "he reason for repeating list1 twice (i.e., list1 * 2) in the code is to create a string that represents a circular permutation of list1"
   ]
  },
  {
   "cell_type": "code",
   "execution_count": 83,
   "id": "5d9e57f4",
   "metadata": {},
   "outputs": [
    {
     "name": "stdout",
     "output_type": "stream",
     "text": [
      "10 10 0 0 10 10 10 0 0 10\n",
      "True\n",
      "False\n"
     ]
    }
   ],
   "source": [
    "list1 = [10, 10, 0, 0, 10]\n",
    "list2 = [10, 10, 10, 0, 0]\n",
    "list3 = [10, 0, 10, 0, 10]\n",
    "\n",
    "#print(' '.join(map(str, list1*2)))\n",
    "print(' '.join(map(str, list2)) in ' '.join(map(str, list1*2)))\n",
    "print(' '.join(map(str, list3)) in ' '.join(map(str, list1*2)))"
   ]
  },
  {
   "cell_type": "code",
   "execution_count": 87,
   "id": "2bbe23b6",
   "metadata": {},
   "outputs": [
    {
     "name": "stdout",
     "output_type": "stream",
     "text": [
      "True\n",
      "False\n"
     ]
    }
   ],
   "source": [
    "def are_circularly_identical(list1, list2):\n",
    "    if len(list1) != len(list2):\n",
    "        return False\n",
    "    double_list1 = list1 + list1  # Create a list with list1 repeated\n",
    "    return ' '.join(map(str, list2)) in ' '.join(map(str, double_list1))\n",
    "\n",
    "list1 = [10, 10, 0, 0, 10]\n",
    "list2 = [10, 10, 10, 0, 0]\n",
    "list3 = [10, 0, 10, 0, 10]\n",
    "\n",
    "print(are_circularly_identical(list1, list2))\n",
    "print(are_circularly_identical(list1, list3))"
   ]
  },
  {
   "cell_type": "code",
   "execution_count": 105,
   "id": "d62a40f3",
   "metadata": {},
   "outputs": [
    {
     "name": "stdout",
     "output_type": "stream",
     "text": [
      "[10, 10, 0, 0, 10]\n",
      "[10, 0, 0, 10, 10]\n",
      "[0, 0, 10, 10, 10]\n",
      "[0, 10, 10, 10, 0]\n",
      "[10, 10, 10, 0, 0]\n",
      "True\n",
      "[10, 10, 0, 0, 10]\n",
      "[10, 0, 0, 10, 10]\n",
      "[0, 0, 10, 10, 10]\n",
      "[0, 10, 10, 10, 0]\n",
      "[10, 10, 10, 0, 0]\n",
      "False\n"
     ]
    }
   ],
   "source": [
    "def are_circularly_identical(list1, list2):\n",
    "    if len(list1) != len(list2):\n",
    "        return False\n",
    "    \n",
    "    for i in range(len(list1)):\n",
    "        rotated_list = list1[i:] + list1[:i]\n",
    "        print(list1[i:]+list1[:i])\n",
    "        if rotated_list == list2:\n",
    "            return True    \n",
    "    return False\n",
    "\n",
    "list1 = [10, 10, 0, 0, 10]\n",
    "list2 = [10, 10, 10, 0, 0]\n",
    "list3 = [10, 0, 10, 0, 10]\n",
    "\n",
    "print(are_circularly_identical(list1, list2))\n",
    "print(are_circularly_identical(list1, list3))"
   ]
  },
  {
   "cell_type": "markdown",
   "id": "14431841",
   "metadata": {},
   "source": [
    "# 29. access the index of a list"
   ]
  },
  {
   "cell_type": "code",
   "execution_count": 64,
   "id": "a7982de7",
   "metadata": {},
   "outputs": [
    {
     "name": "stdout",
     "output_type": "stream",
     "text": [
      "[(0, 'a'), (1, 'b'), (2, 'c'), (3, 'd'), (4, 'e')]\n",
      "(0, 'a')\n",
      "(1, 'b')\n",
      "(2, 'c')\n",
      "(3, 'd')\n",
      "(4, 'e')\n"
     ]
    }
   ],
   "source": [
    "list1 = [\"a\", \"b\", \"c\", \"d\", \"e\"]\n",
    "\n",
    "print(list(enumerate(list1)))\n",
    "for i in enumerate(list1):\n",
    "    print(i)"
   ]
  },
  {
   "cell_type": "markdown",
   "id": "b7a1cad0",
   "metadata": {},
   "source": [
    "# 30. convert list of characters into a string and string into list"
   ]
  },
  {
   "cell_type": "code",
   "execution_count": 66,
   "id": "38c6196f",
   "metadata": {},
   "outputs": [
    {
     "name": "stdout",
     "output_type": "stream",
     "text": [
      "['h', 'i', ' ', 'h', 'e', 'l', 'l', 'o']\n",
      "hi hello\n"
     ]
    }
   ],
   "source": [
    "str1 = \"hi hello\"\n",
    "l = list(str1)\n",
    "print(l)\n",
    "s=\"\".join(l)\n",
    "print(s)"
   ]
  },
  {
   "cell_type": "markdown",
   "id": "45325606",
   "metadata": {},
   "source": [
    "# 31. Append a list to the second list"
   ]
  },
  {
   "cell_type": "code",
   "execution_count": 70,
   "id": "b6b13229",
   "metadata": {},
   "outputs": [
    {
     "name": "stdout",
     "output_type": "stream",
     "text": [
      "[1, 2, 3, 0, 'Red', 'Green', 'Black']\n",
      "[1, 2, 3, 0, 'Red', 'Green', 'Black']\n",
      "['Red', 'Green', 'Black', 1, 2, 3, 0, 'Red', 'Green', 'Black']\n"
     ]
    }
   ],
   "source": [
    "l1 = [1, 2, 3, 0]\n",
    "l2 = ['Red', 'Green', 'Black']\n",
    "l = l1+l2\n",
    "print(l)\n",
    "\n",
    "l1.extend(l2)\n",
    "print(l1)\n",
    "l2.extend(l1)\n",
    "print(l2)"
   ]
  },
  {
   "cell_type": "markdown",
   "id": "d8f34f81",
   "metadata": {},
   "source": [
    "# 32. Nested List to Flatten List"
   ]
  },
  {
   "cell_type": "code",
   "execution_count": 74,
   "id": "9f5619a4",
   "metadata": {},
   "outputs": [
    {
     "name": "stdout",
     "output_type": "stream",
     "text": [
      "[2, 4, 3, 1, 5, 6, 9, 7, 9, 0]\n"
     ]
    },
    {
     "data": {
      "text/plain": [
       "[2, 4, 3, 1, 5, 6, 9, 7, 9, 0]"
      ]
     },
     "execution_count": 74,
     "metadata": {},
     "output_type": "execute_result"
    }
   ],
   "source": [
    "l = [[2,4,3],[1,5,6], [9], [7,9,0]]\n",
    "ls = []\n",
    "for i in l:\n",
    "    for j in i:\n",
    "        ls.append(j)\n",
    "print(ls)\n",
    "\n",
    "[j for i in l for j in i]"
   ]
  },
  {
   "cell_type": "code",
   "execution_count": 182,
   "id": "2327eb6e",
   "metadata": {},
   "outputs": [
    {
     "name": "stdout",
     "output_type": "stream",
     "text": [
      "[0, 10, 20, 30, 40, 50, 60, 70, 80, 90, 100, 110, 120]\n"
     ]
    }
   ],
   "source": [
    "# Flatten List: contain int values and list of values mixed\n",
    "l = [0, 10, [20, 30], 40, 50, [60, 70, 80], [90, 100, 110, 120]]\n",
    "\n",
    "ls = []\n",
    "for i in l:\n",
    "    if i not in ls and str(i).isdigit():\n",
    "        ls.append(i)\n",
    "    else:\n",
    "        for j in i:\n",
    "            ls.append(j)\n",
    "print(ls)"
   ]
  },
  {
   "cell_type": "code",
   "execution_count": 187,
   "id": "fa8d20fd",
   "metadata": {},
   "outputs": [
    {
     "name": "stdout",
     "output_type": "stream",
     "text": [
      "[0, 10, 20, 30, 40, 50, 60, 70, 80, 90, 100, 110, 120]\n",
      "[0, 10, 20, 30, 40, 50, 60, 70, 80, 90, 100, 110, 120]\n"
     ]
    }
   ],
   "source": [
    "l = [0, 10, [20, 30], 40, 50, [60, 70, 80], [90, 100, 110, 120]]\n",
    "\n",
    "ls = []\n",
    "for i in l:\n",
    "    if isinstance(i, list):\n",
    "        ls.extend(i)\n",
    "    else:\n",
    "        ls.append(i)\n",
    "print(ls)\n",
    "\n",
    "# another method\n",
    "flattened_list = [i for sublist in l for i in (sublist if isinstance(sublist, list) else [sublist])]\n",
    "print(flattened_list)"
   ]
  },
  {
   "cell_type": "markdown",
   "id": "58c72773",
   "metadata": {},
   "source": [
    "# 33. select item in randomly"
   ]
  },
  {
   "cell_type": "code",
   "execution_count": 76,
   "id": "d6f94786",
   "metadata": {},
   "outputs": [
    {
     "name": "stdout",
     "output_type": "stream",
     "text": [
      "Green\n"
     ]
    }
   ],
   "source": [
    "import random\n",
    "color_list = ['Red', 'Blue', 'Green', 'White', 'Black']\n",
    "print(random.choice(color_list))"
   ]
  },
  {
   "cell_type": "markdown",
   "id": "a4bfc4f1",
   "metadata": {},
   "source": [
    "# 34. Get the frequency of the elements in a list"
   ]
  },
  {
   "cell_type": "code",
   "execution_count": 120,
   "id": "3f74b3b8",
   "metadata": {},
   "outputs": [
    {
     "name": "stdout",
     "output_type": "stream",
     "text": [
      "{10: 4, 20: 4, 40: 2, 50: 2, 30: 1}\n"
     ]
    }
   ],
   "source": [
    "l = [10,10,10,10,20,20,20,20,40,40,50,50,30]\n",
    "\n",
    "d = {}\n",
    "for i in l:\n",
    "    d[i]=d.get(i,0)+1\n",
    "print(d)"
   ]
  },
  {
   "cell_type": "markdown",
   "id": "8bbad6f2",
   "metadata": {},
   "source": [
    "# 35. Distance between two elements in list"
   ]
  },
  {
   "cell_type": "code",
   "execution_count": 134,
   "id": "c213b086",
   "metadata": {},
   "outputs": [
    {
     "name": "stdout",
     "output_type": "stream",
     "text": [
      "4\n",
      "2\n"
     ]
    }
   ],
   "source": [
    "def count_range_in_list(ls, start, end):\n",
    "    if start not in ls or end not in ls:\n",
    "        return False\n",
    "    start_index = ls.index(start)\n",
    "    end_index = ls.index(end)\n",
    "    distance = abs(end_index - start_index)    \n",
    "    return distance\n",
    "\n",
    "list1 = [10, 20, 30, 40, 40, 70, 80, 99]\n",
    "print(count_range_in_list(list1, 40, 99))\n",
    "\n",
    "list2 = ['a', 'b', 'c', 'd', 'e', 'f']\n",
    "print(count_range_in_list(list2,'a','c'))"
   ]
  },
  {
   "cell_type": "markdown",
   "id": "70b9b792",
   "metadata": {},
   "source": [
    "# 36. Distance between two elements in list 2nd occurance"
   ]
  },
  {
   "cell_type": "code",
   "execution_count": 142,
   "id": "6fa932dd",
   "metadata": {},
   "outputs": [
    {
     "name": "stdout",
     "output_type": "stream",
     "text": [
      "Distance between the second occurrence of '40' and '99' in list1: 4\n"
     ]
    }
   ],
   "source": [
    "def find_distance_between_second_occurrences(lst, element1, element2):\n",
    "    indices = [i for i, x in enumerate(lst) if x == element1]\n",
    "    if len(indices) < 2 or element2 not in lst:\n",
    "        return False \n",
    "    start_index = indices[1]  # Second occurrence of element1\n",
    "    end_index = lst.index(element2)\n",
    "    distance = abs(end_index - start_index)    \n",
    "    return distance\n",
    "\n",
    "list1 = [10, 20, 40, 30, 40, 70, 40, 80, 99]\n",
    "distance = find_distance_between_second_occurrences(list1, 40, 99)\n",
    "print(f\"Distance between the second occurrence of '40' and '99' in list1: {distance}\")"
   ]
  },
  {
   "cell_type": "code",
   "execution_count": 148,
   "id": "05bbc727",
   "metadata": {},
   "outputs": [
    {
     "name": "stdout",
     "output_type": "stream",
     "text": [
      "7\n"
     ]
    }
   ],
   "source": [
    "def find_distance_between_elements(lst, element1, element2):\n",
    "    if element1 not in lst or element2 not in lst:\n",
    "        return -1  \n",
    "    indices1 = [i for i, x in enumerate(lst) if x == element1]\n",
    "    indices2 = [i for i, x in enumerate(lst) if x == element2]\n",
    "    min_distance = float('inf')\n",
    "    for i in indices1:\n",
    "        for j in indices2:\n",
    "            distance = abs(j - i)\n",
    "            if distance < min_distance:\n",
    "                min_distance = distance    \n",
    "    return min_distance\n",
    "\n",
    "list1 = [10, 20, 40, 30, 40, 70, 40, 80, 99]\n",
    "distance = find_distance_between_elements(list1, 20, 99)\n",
    "print(distance)"
   ]
  },
  {
   "cell_type": "markdown",
   "id": "fbb8eecc",
   "metadata": {},
   "source": [
    "# 40. elements between specified range"
   ]
  },
  {
   "cell_type": "code",
   "execution_count": 149,
   "id": "8c6dad87",
   "metadata": {},
   "outputs": [
    {
     "name": "stdout",
     "output_type": "stream",
     "text": [
      "6\n",
      "5\n"
     ]
    }
   ],
   "source": [
    "def count_range_in_list(li, min, max):\n",
    "    ctr = 0\n",
    "    for x in li:\n",
    "        if min <= x <= max:\n",
    "            ctr += 1\n",
    "    return ctr\n",
    "\n",
    "list1 = [10,20,30,40,40,40,70,80,99]\n",
    "print(count_range_in_list(list1, 40, 100))\n",
    "\n",
    "list2 = ['a','b','c','d','e','f']\n",
    "print(count_range_in_list(list2, 'a', 'e'))"
   ]
  },
  {
   "cell_type": "markdown",
   "id": "46d5488d",
   "metadata": {},
   "source": [
    "# 41. check sublist of list"
   ]
  },
  {
   "cell_type": "code",
   "execution_count": 152,
   "id": "124b16ff",
   "metadata": {},
   "outputs": [
    {
     "name": "stdout",
     "output_type": "stream",
     "text": [
      "True\n",
      "False\n"
     ]
    }
   ],
   "source": [
    "a = [2, 4, 3, 5, 7]\n",
    "b = [4, 3]\n",
    "c = [3, 8]\n",
    "\n",
    "set_a = set(a)\n",
    "set_b = set(b)\n",
    "set_c = set(c)\n",
    "print(set_b.issubset(set_a))\n",
    "print(set_c.issubset(set_a))"
   ]
  },
  {
   "cell_type": "code",
   "execution_count": 22,
   "id": "226df89b",
   "metadata": {},
   "outputs": [
    {
     "name": "stdout",
     "output_type": "stream",
     "text": [
      "True\n",
      "False\n"
     ]
    }
   ],
   "source": [
    "print( all(map(a.__contains__, b))) \n",
    "print( all(map(a.__contains__, c))) "
   ]
  },
  {
   "cell_type": "code",
   "execution_count": 141,
   "id": "a1c70ac2",
   "metadata": {},
   "outputs": [
    {
     "data": {
      "text/plain": [
       "True"
      ]
     },
     "execution_count": 141,
     "metadata": {},
     "output_type": "execute_result"
    }
   ],
   "source": [
    "l = [\"red\", \"black\", \"white\", \"green\", \"orange\"]\n",
    "\n",
    "print(any('ack' in i for i in l))"
   ]
  },
  {
   "cell_type": "code",
   "execution_count": 149,
   "id": "a279558d",
   "metadata": {},
   "outputs": [
    {
     "name": "stdout",
     "output_type": "stream",
     "text": [
      "Enter Sub String:ack\n",
      "True\n"
     ]
    }
   ],
   "source": [
    "l = [\"red\", \"black\", \"white\", \"green\", \"orange\"]\n",
    "substr = input(\"Enter Sub String:\")\n",
    "\n",
    "def fun(lst,st):\n",
    "    for i in l:\n",
    "        if substr in i:\n",
    "            return True\n",
    "    return False\n",
    "print(fun(l,substr))"
   ]
  },
  {
   "cell_type": "markdown",
   "id": "228ee5cc",
   "metadata": {},
   "source": [
    "# 42. Write a Python program to change the position of every n-th value to the (n+1)th in a list.\n",
    "Sample list: [0,1,2,3,4,5]\n",
    "Expected Output: [1, 0, 3, 2, 5, 4]"
   ]
  },
  {
   "cell_type": "code",
   "execution_count": 53,
   "id": "d0c641d5",
   "metadata": {},
   "outputs": [
    {
     "name": "stdout",
     "output_type": "stream",
     "text": [
      "[1, 0, 3, 2, 5, 4]\n"
     ]
    }
   ],
   "source": [
    "sample_list = [0, 1, 2, 3, 4, 5]\n",
    "\n",
    "n = 1\n",
    "ls = []\n",
    "for i in range(0, len(sample_list), n+1):\n",
    "    ls.extend(reversed(sample_list[i:i+n+1]))\n",
    "print(ls)"
   ]
  },
  {
   "cell_type": "markdown",
   "id": "92b547bb",
   "metadata": {},
   "source": [
    "# 43. Create multiple lists"
   ]
  },
  {
   "cell_type": "code",
   "execution_count": 38,
   "id": "c9bac502",
   "metadata": {},
   "outputs": [
    {
     "name": "stdout",
     "output_type": "stream",
     "text": [
      "{1: [], 2: [], 3: [], 4: [], 5: [], 6: [], 7: [], 8: [], 9: [], 10: []}\n"
     ]
    }
   ],
   "source": [
    "obj = {}\n",
    "for i in range(1,11):\n",
    "    obj[i] = []\n",
    "print(obj)"
   ]
  },
  {
   "cell_type": "markdown",
   "id": "08d41d32",
   "metadata": {},
   "source": [
    "# 44. convert a pair of values into a unique array"
   ]
  },
  {
   "cell_type": "code",
   "execution_count": 57,
   "id": "144073ec",
   "metadata": {},
   "outputs": [
    {
     "name": "stdout",
     "output_type": "stream",
     "text": [
      "[1, 2, 3, 4, 5, 6, 7, 8, 9, 10]\n"
     ]
    }
   ],
   "source": [
    "l = [(1, 2), (3, 4), (1, 2), (5, 6), (7, 8), (1, 2), (3, 4), (3, 4),(7, 8), (9, 10)]\n",
    "ls = []\n",
    "for i in l:\n",
    "    for j in i:\n",
    "        if j not in ls:\n",
    "            ls.append(j)\n",
    "print(ls)"
   ]
  },
  {
   "cell_type": "markdown",
   "id": "65eea0a5",
   "metadata": {},
   "source": [
    "# 45. sort of nested lists or tuples or min or max"
   ]
  },
  {
   "cell_type": "code",
   "execution_count": 67,
   "id": "4970fef1",
   "metadata": {},
   "outputs": [
    {
     "name": "stdout",
     "output_type": "stream",
     "text": [
      "[{'key': {'subkey': 1}}, {'key': {'subkey': 5}}, {'key': {'subkey': 10}}]\n",
      "[{'key': {'subkey': 1}}, {'key': {'subkey': 5}}, {'key': {'subkey': 10}}]\n"
     ]
    }
   ],
   "source": [
    "l = [{'key': {'subkey': 1}}, {'key': {'subkey': 10}}, {'key': {'subkey': 5}}]\n",
    "\n",
    "print(sorted(l,key=lambda x:x['key']['subkey']))\n",
    "l.sort(key=lambda x:x['key']['subkey'])\n",
    "print(l)"
   ]
  },
  {
   "cell_type": "code",
   "execution_count": 123,
   "id": "fb8cc401",
   "metadata": {},
   "outputs": [
    {
     "name": "stdout",
     "output_type": "stream",
     "text": [
      "(1, 2)\n",
      "(6, 0)\n"
     ]
    }
   ],
   "source": [
    "# find a tuple, the smallest second index value from a list of tuples.\n",
    "\n",
    "l = [(4, 1), (1, 2), (6, 0)]\n",
    "print(min(l, key=lambda x: (x[0])))\n",
    "print(min(l, key=lambda x: (x[1])))"
   ]
  },
  {
   "cell_type": "code",
   "execution_count": 143,
   "id": "19daf933",
   "metadata": {},
   "outputs": [
    {
     "name": "stdout",
     "output_type": "stream",
     "text": [
      "[0, 0, 0, 0, 0, 0, 0, 0, 0, 1, 2, 2, 3, 3, 4, 4, 4, 5, 6, 6, 6, 7, 7, 7, 9, 9, 10]\n",
      "[3, 4, 6, 2, 6, 7, 6, 9, 10, 7, 4, 4, 5, 3, 2, 9, 7, 1, 0, 0, 0, 0, 0, 0, 0, 0, 0]\n",
      "[3, 4, 6, 2, 6, 7, 6, 9, 10, 7, 4, 4, 5, 3, 2, 9, 7, 1, 0, 0, 0, 0, 0, 0, 0, 0, 0]\n",
      "[0, 0, 0, 0, 0, 0, 0, 0, 0, 3, 4, 6, 2, 6, 7, 6, 9, 10, 7, 4, 4, 5, 3, 2, 9, 7, 1]\n"
     ]
    }
   ],
   "source": [
    "# move all zero digits to the end of a given list of numbers\n",
    "\n",
    "l = [3,4,0,0,0,6,2,0,6,7,6,0,0,0,9,10,7,4,4,5,3,0,0,2,9,7,1]\n",
    "print(sorted(l, key=lambda x: x)) \n",
    "print(sorted(l, key=lambda x: not x)) \n",
    "print(sorted(l, key=lambda x: x == 0))\n",
    "print(sorted(l, key=lambda x: x != 0)) "
   ]
  },
  {
   "cell_type": "code",
   "execution_count": 23,
   "id": "f7db1d7b",
   "metadata": {},
   "outputs": [
    {
     "name": "stdout",
     "output_type": "stream",
     "text": [
      "[10, 11, 12]\n"
     ]
    }
   ],
   "source": [
    "# sum of highest number of list\n",
    "\n",
    "num = [[1,2,3], [4,5,6], [10,11,12], [7,8,9]]\n",
    "print(max(num, key=sum))"
   ]
  },
  {
   "cell_type": "code",
   "execution_count": 25,
   "id": "4d1af42b",
   "metadata": {},
   "outputs": [
    {
     "name": "stdout",
     "output_type": "stream",
     "text": [
      "[[0], [2], [0, 7], [1, 3], [9, 11], [13, 15, 17]]\n"
     ]
    }
   ],
   "source": [
    "# sort length\n",
    "l = [[2], [0], [1, 3], [0, 7], [9, 11], [13, 15, 17]]\n",
    "\n",
    "l.sort() # sort sublist contains\n",
    "print(sorted(l,key=len)) # sort by length"
   ]
  },
  {
   "cell_type": "code",
   "execution_count": 52,
   "id": "6a8b2da1",
   "metadata": {},
   "outputs": [
    {
     "name": "stdout",
     "output_type": "stream",
     "text": [
      "[[1, 1, 1], [1, 2, 3], [2, 4, 5]]\n",
      "[[-2, 4, -5], [1, -1, 1], [1, 2, 3]]\n"
     ]
    }
   ],
   "source": [
    "# sort sum of values\n",
    "l1 = [[1, 2, 3], [2, 4, 5], [1, 1, 1]]\n",
    "l2 = [[1, 2, 3], [-2, 4, -5], [1, -1, 1]]\n",
    "\n",
    "print(sorted(l1,key=sum))\n",
    "print(sorted(l2,key=sum))"
   ]
  },
  {
   "cell_type": "code",
   "execution_count": 133,
   "id": "b95fd8b6",
   "metadata": {},
   "outputs": [
    {
     "name": "stdout",
     "output_type": "stream",
     "text": [
      "True\n"
     ]
    }
   ],
   "source": [
    "# sorted elements or not\n",
    "l = [1, 2, 4, 6, 8, 10, 12, 14, 16, 17]\n",
    "print(l==sorted(l))"
   ]
  },
  {
   "cell_type": "code",
   "execution_count": 136,
   "id": "cd285073",
   "metadata": {},
   "outputs": [
    {
     "name": "stdout",
     "output_type": "stream",
     "text": [
      "True\n"
     ]
    }
   ],
   "source": [
    "# check the elements in the list\n",
    "l = [2, 4, 6, 8, 10, 12, 14]\n",
    "\n",
    "print(l==list(set(l)))"
   ]
  },
  {
   "cell_type": "code",
   "execution_count": 138,
   "id": "a8647b2b",
   "metadata": {},
   "outputs": [
    {
     "data": {
      "text/plain": [
       "[('Wyatt Knott', 91, 94),\n",
       " ('Beau Turnbull', 94, 98),\n",
       " ('Brady Kent', 97, 96),\n",
       " ('Greyson Fulton', 98, 99)]"
      ]
     },
     "execution_count": 138,
     "metadata": {},
     "output_type": "execute_result"
    }
   ],
   "source": [
    "# sort\n",
    "l = [('Greyson Fulton', 98, 99), ('Brady Kent', 97, 96), ('Wyatt Knott', 91, 94), ('Beau Turnbull', 94, 98)] \n",
    "\n",
    "sorted(l,key=lambda x:x[1])"
   ]
  },
  {
   "cell_type": "markdown",
   "id": "1eda2df8",
   "metadata": {},
   "source": [
    "# 46. concate & difference in list"
   ]
  },
  {
   "cell_type": "code",
   "execution_count": 71,
   "id": "826c4ed2",
   "metadata": {},
   "outputs": [
    {
     "name": "stdout",
     "output_type": "stream",
     "text": [
      "redgreenorange\n",
      "red-green-orange\n",
      "redgreenorange\n",
      "redgreenorange\n"
     ]
    }
   ],
   "source": [
    "color = ['red', 'green', 'orange']\n",
    "w = \"\"\n",
    "for i in color:\n",
    "    w = w+i\n",
    "print(w)\n",
    "\n",
    "print('-'.join(color))\n",
    "print(''.join(color))\n",
    "print(w)"
   ]
  },
  {
   "cell_type": "code",
   "execution_count": 79,
   "id": "3090de9b",
   "metadata": {},
   "outputs": [
    {
     "name": "stdout",
     "output_type": "stream",
     "text": [
      "113350\n"
     ]
    },
    {
     "data": {
      "text/plain": [
       "'113350'"
      ]
     },
     "execution_count": 79,
     "metadata": {},
     "output_type": "execute_result"
    }
   ],
   "source": [
    "l = [11, 33, 50]\n",
    "w = \"\"\n",
    "for i in l:\n",
    "    w=w+str(i)\n",
    "print(w)\n",
    "\n",
    "''.join([str(i) for i in l])"
   ]
  },
  {
   "cell_type": "code",
   "execution_count": 87,
   "id": "e101b123",
   "metadata": {},
   "outputs": [
    {
     "name": "stdout",
     "output_type": "stream",
     "text": [
      "not Common elements: ['red', 'orange', 'white']\n",
      "all elements: ['yellow', 'white', 'blue', 'green', 'orange', 'red', 'black']\n",
      "common ['yellow', 'white', 'orange', 'red', 'black']\n"
     ]
    }
   ],
   "source": [
    "# concate + difference\n",
    "l1 = [\"red\", \"orange\", \"green\", \"blue\", \"white\"]\n",
    "l2 = [\"black\", \"yellow\", \"green\", \"blue\"]\n",
    "\n",
    "print(\"not Common elements:\",list(set(l1)-set(l2)))\n",
    "print(\"all elements:\",list(set(l1)|set(l2)))\n",
    "print(\"not common elements or without unique elements:\",list(set(l1)^set(l2)))"
   ]
  },
  {
   "cell_type": "markdown",
   "id": "83f7fadb",
   "metadata": {},
   "source": [
    "# 47. Insert a list with another list at any position"
   ]
  },
  {
   "cell_type": "code",
   "execution_count": 116,
   "id": "350cffc2",
   "metadata": {},
   "outputs": [
    {
     "name": "stdout",
     "output_type": "stream",
     "text": [
      "[1, 3, 5, 7, 9, 2, 4, 6, 8]\n"
     ]
    }
   ],
   "source": [
    "l1 = [1, 3, 5, 7, 9, 10] \n",
    "l2 = [2, 4, 6, 8]\n",
    "l1[-1:] = l2\n",
    "print(l1)"
   ]
  },
  {
   "cell_type": "code",
   "execution_count": 117,
   "id": "5e48e3e6",
   "metadata": {},
   "outputs": [
    {
     "name": "stdout",
     "output_type": "stream",
     "text": [
      "[1, 3, 5, 7, 9, 2, 4, 6, 8]\n"
     ]
    }
   ],
   "source": [
    "sample_list1 = [1, 3, 5, 7, 9, 10]\n",
    "sample_list2 = [2, 4, 6, 8]\n",
    "sample_list1.pop()\n",
    "sample_list1.extend(sample_list2)\n",
    "print(sample_list1)"
   ]
  },
  {
   "cell_type": "code",
   "execution_count": 118,
   "id": "2aca89a1",
   "metadata": {},
   "outputs": [
    {
     "name": "stdout",
     "output_type": "stream",
     "text": [
      "Enter Position:4\n",
      "[1, 3, 5, 7, 2, 4, 6, 8, 9, 10]\n"
     ]
    }
   ],
   "source": [
    "main_list = [1, 3, 5, 7, 9, 10]\n",
    "sub_list = [2, 4, 6, 8]\n",
    "index = int(input(\"Enter Position:\"))\n",
    "result_list = main_list[:index] + sub_list + main_list[index:]\n",
    "print(result_list)"
   ]
  },
  {
   "cell_type": "markdown",
   "id": "5d14164d",
   "metadata": {},
   "source": [
    "# 48. list of space-separated elements"
   ]
  },
  {
   "cell_type": "code",
   "execution_count": 127,
   "id": "7ac1482b",
   "metadata": {},
   "outputs": [
    {
     "name": "stdout",
     "output_type": "stream",
     "text": [
      "1 2 3 4 5\n",
      "1 2 3 4 5\n"
     ]
    }
   ],
   "source": [
    "num = [1, 2, 3, 4, 5]\n",
    "print(*num)\n",
    "l = [1, 2, 3, 4, 5]\n",
    "print(\" \".join(str(i) for i in l))"
   ]
  },
  {
   "cell_type": "markdown",
   "id": "66a2a490",
   "metadata": {},
   "source": [
    "# 49. Write a Python program to extend a list without appending."
   ]
  },
  {
   "cell_type": "code",
   "execution_count": 160,
   "id": "a70f40ad",
   "metadata": {},
   "outputs": [
    {
     "name": "stdout",
     "output_type": "stream",
     "text": [
      "[10, 20, 30, 40, 50, 60]\n",
      "[10, 20, 30, 40, 50, 60, 10, 20, 30]\n"
     ]
    }
   ],
   "source": [
    "x = [10, 20, 30]\n",
    "y = [40, 50, 60]\n",
    "y[:0] = x\n",
    "print(y)\n",
    "x[:0] =y\n",
    "print(x)"
   ]
  },
  {
   "cell_type": "markdown",
   "id": "73605131",
   "metadata": {},
   "source": [
    "# 50. Matrix related Programs"
   ]
  },
  {
   "cell_type": "code",
   "execution_count": 45,
   "id": "8ec91ddd",
   "metadata": {},
   "outputs": [
    {
     "name": "stdout",
     "output_type": "stream",
     "text": [
      "1 4 7\n",
      "2 5 3\n",
      "5 8 6\n"
     ]
    }
   ],
   "source": [
    "# display matrix vertically \n",
    "l = [[1, 2, 5], [4, 5, 8], [7, 3, 6]]\n",
    "\n",
    "for a,b,c in zip(*l): \n",
    "    print(a, b, c)"
   ]
  },
  {
   "cell_type": "code",
   "execution_count": 50,
   "id": "7303bf0b",
   "metadata": {},
   "outputs": [
    {
     "name": "stdout",
     "output_type": "stream",
     "text": [
      "1 4 7 \n",
      "2 5 3 \n",
      "5 8 6 \n"
     ]
    }
   ],
   "source": [
    "# Transpose the matrix and display each element vertically \n",
    "matrix = [[1, 2, 5], [4, 5, 8], [7, 3, 6]]\n",
    "\n",
    "for i in range(len(matrix[0])):\n",
    "    for row in matrix:\n",
    "        print(row[i], end=\" \")\n",
    "    print()  # Move to the next row"
   ]
  },
  {
   "cell_type": "code",
   "execution_count": 117,
   "id": "16c5c4a0",
   "metadata": {},
   "outputs": [
    {
     "name": "stdout",
     "output_type": "stream",
     "text": [
      "[1, 4, 7]\n",
      "[2, 2, 5]\n"
     ]
    }
   ],
   "source": [
    "# extract first & last columns\n",
    "\n",
    "matrix= [\n",
    "         [1,2,3,2],\n",
    "         [4,5,6,2],\n",
    "         [7,1,9,5],\n",
    "        ]\n",
    "\n",
    "print([i[0] for i in matrix])\n",
    "print([i[3] for i in matrix])"
   ]
  },
  {
   "cell_type": "code",
   "execution_count": 265,
   "id": "5840d006",
   "metadata": {},
   "outputs": [
    {
     "name": "stdout",
     "output_type": "stream",
     "text": [
      "Enter rows:3\n",
      "Enter col:2\n",
      "[[0, 0], [0, 0], [0, 0]]\n"
     ]
    }
   ],
   "source": [
    "# create matrix dynamically \n",
    "rows = int(input(\"Enter rows:\"))\n",
    "cols = int(input(\"Enter col:\"))\n",
    "\n",
    "ls = []\n",
    "for _ in range(rows):\n",
    "    row = []\n",
    "    for _ in range(cols):\n",
    "        row.append(0)\n",
    "    ls.append(row)\n",
    "print(ls)"
   ]
  },
  {
   "cell_type": "code",
   "execution_count": 263,
   "id": "2a999563",
   "metadata": {},
   "outputs": [
    {
     "data": {
      "text/plain": [
       "[[0, 0], [0, 0], [0, 0]]"
      ]
     },
     "execution_count": 263,
     "metadata": {},
     "output_type": "execute_result"
    }
   ],
   "source": [
    "row = 3\n",
    "col = 2\n",
    "[[0] * col for i in range(row)]"
   ]
  },
  {
   "cell_type": "code",
   "execution_count": 267,
   "id": "7c9e5737",
   "metadata": {},
   "outputs": [
    {
     "name": "stdout",
     "output_type": "stream",
     "text": [
      "Enter rows:3\n",
      "Enter col:2\n",
      "[[1, 2], [3, 4], [5, 6]]\n"
     ]
    }
   ],
   "source": [
    "rows = int(input(\"Enter rows:\"))\n",
    "cols = int(input(\"Enter col:\"))\n",
    "\n",
    "ls = []\n",
    "c=1\n",
    "for _ in range(rows):\n",
    "    row = []\n",
    "    for _ in range(cols):\n",
    "        row.append(c)\n",
    "        c=c+1\n",
    "    ls.append(row)\n",
    "print(ls)"
   ]
  },
  {
   "cell_type": "code",
   "execution_count": 273,
   "id": "9b899cbf",
   "metadata": {},
   "outputs": [
    {
     "name": "stdout",
     "output_type": "stream",
     "text": [
      "[[1, 2, 3], [1, 2, 3], [1, 2, 3]]\n"
     ]
    }
   ],
   "source": [
    "rows = 3\n",
    "cols = 3\n",
    "\n",
    "ls = []\n",
    "for _ in range(rows):\n",
    "    row = []\n",
    "    c = 1\n",
    "    for _ in range(cols):\n",
    "        row.append(c)\n",
    "        c=c+1\n",
    "    ls.append(row)\n",
    "print(ls)"
   ]
  },
  {
   "cell_type": "code",
   "execution_count": 272,
   "id": "1986fe00",
   "metadata": {},
   "outputs": [
    {
     "name": "stdout",
     "output_type": "stream",
     "text": [
      "[[1, 2, 3], [4, 5, 6], [7, 8, 9]]\n"
     ]
    }
   ],
   "source": [
    "rows = 3\n",
    "cols = 3\n",
    "\n",
    "ls = [[i + j for j in range(cols)] for i in range(1, rows * cols, cols)]\n",
    "print(ls)"
   ]
  },
  {
   "cell_type": "code",
   "execution_count": 292,
   "id": "922d064c",
   "metadata": {},
   "outputs": [
    {
     "name": "stdout",
     "output_type": "stream",
     "text": [
      "1 2 3\n",
      "4 5 6\n",
      "7 8 9\n",
      "45\n"
     ]
    }
   ],
   "source": [
    "matrix = []\n",
    "count = 1\n",
    "rows = 3\n",
    "cols = 3\n",
    "\n",
    "for i in range(rows):\n",
    "    row = []\n",
    "    for j in range(cols):\n",
    "        row.append(count)\n",
    "        count += 1\n",
    "    matrix.append(row)\n",
    "\n",
    "for row in matrix:\n",
    "    n = \" \".join(str(i) for i in row)\n",
    "    print(n)\n",
    "print(sum(sum(row) for row in matrix))"
   ]
  },
  {
   "cell_type": "code",
   "execution_count": 3,
   "id": "3daf4b6f",
   "metadata": {},
   "outputs": [
    {
     "name": "stdout",
     "output_type": "stream",
     "text": [
      "each row count: 6\n",
      "each row count: 21\n",
      "each row count: 45\n",
      "1 2 3\n",
      "4 5 6\n",
      "7 8 9\n",
      "45\n"
     ]
    }
   ],
   "source": [
    "matrix = []\n",
    "count = 1\n",
    "rows = 3\n",
    "cols = 3\n",
    "c = 0\n",
    "for i in range(rows):\n",
    "    row = []\n",
    "    for j in range(cols):\n",
    "        row.append(count)\n",
    "        c = c+count\n",
    "        count += 1\n",
    "    matrix.append(row)\n",
    "    print(\"each row count:\",c)\n",
    "\n",
    "for row in matrix:\n",
    "    n = \" \".join(str(i) for i in row)\n",
    "    print(n)\n",
    "print(sum(sum(row) for row in matrix))"
   ]
  },
  {
   "cell_type": "code",
   "execution_count": 28,
   "id": "f8b7a63c",
   "metadata": {},
   "outputs": [
    {
     "name": "stdout",
     "output_type": "stream",
     "text": [
      "1 2 3\n",
      "4 5 6\n",
      "7 8 9\n",
      "Sum of values in Column 1: 12\n",
      "Sum of values in Column 2: 15\n",
      "Sum of values in Column 3: 18\n"
     ]
    }
   ],
   "source": [
    "matrix = []\n",
    "count = 1\n",
    "rows = 3\n",
    "cols = 3\n",
    "for i in range(rows):\n",
    "    row = []\n",
    "    for j in range(cols):\n",
    "        row.append(count)\n",
    "        count += 1\n",
    "    matrix.append(row)\n",
    "\n",
    "column_sums = [0] * cols\n",
    "for row in matrix:\n",
    "    for j, value in enumerate(row):\n",
    "        column_sums[j] += value\n",
    "\n",
    "for row in matrix:\n",
    "    n = \" \".join(str(i) for i in row)\n",
    "    print(n)\n",
    "\n",
    "for i, total in enumerate(column_sums):\n",
    "    print(f\"Sum of values in Column {i + 1}: {total}\")"
   ]
  },
  {
   "cell_type": "code",
   "execution_count": 295,
   "id": "4c06fe1d",
   "metadata": {},
   "outputs": [
    {
     "name": "stdout",
     "output_type": "stream",
     "text": [
      "[1, 2, 3]\n",
      "[4, 5, 6]\n",
      "[7, 8, 9]\n"
     ]
    }
   ],
   "source": [
    "# create matrix using sclicing\n",
    "l = list(range(1, 10))\n",
    "ls = []\n",
    "for i in range(0,len(l),3):\n",
    "    row = l[i:i+3]\n",
    "    ls.append(row)\n",
    "\n",
    "for row in ls:\n",
    "    print(row)"
   ]
  },
  {
   "cell_type": "code",
   "execution_count": 48,
   "id": "c009e8be",
   "metadata": {},
   "outputs": [
    {
     "name": "stdout",
     "output_type": "stream",
     "text": [
      "(2, 2)\n",
      "(2, 3)\n",
      "(3, 3)\n"
     ]
    }
   ],
   "source": [
    "# dimension of given matrix\n",
    "def matrix_dimensions(l):\n",
    "    row = len(l)\n",
    "    column = len(l[0])\n",
    "    return row,column\n",
    "\n",
    "print(matrix_dimensions([[1,2],[2,4]]))\n",
    "print(matrix_dimensions([[0, 1, 2], [2, 4, 5]]))\n",
    "print(matrix_dimensions([[0, 1, 2], [2, 4, 5], [2, 3, 4]]))"
   ]
  },
  {
   "cell_type": "code",
   "execution_count": 47,
   "id": "18f3002e",
   "metadata": {},
   "outputs": [
    {
     "name": "stdout",
     "output_type": "stream",
     "text": [
      "[1, 2, 4]\n",
      "[2, 4, 4]\n",
      "[1, 2]\n",
      "\n",
      "Column-wise totals:\n",
      "Column 1: 4\n",
      "Column 2: 8\n",
      "Column 3: 8\n",
      "\n",
      "Row-wise totals:\n",
      "Row 1: 7\n",
      "Row 2: 10\n",
      "Row 3: 3\n"
     ]
    }
   ],
   "source": [
    "# given matrix row total & matrix column total  \n",
    "matrix = [[1, 2, 4], [2, 4, 4], [1, 2]]\n",
    "\n",
    "# Initialize lists to store column-wise and row-wise totals\n",
    "column_totals = [0] * len(matrix[0])\n",
    "row_totals = [0] * len(matrix)\n",
    "\n",
    "# Calculate the column-wise and row-wise totals\n",
    "for i, row in enumerate(matrix):\n",
    "    for j, value in enumerate(row):\n",
    "        column_totals[j] += value\n",
    "        row_totals[i] += value\n",
    "\n",
    "# Print the original matrix\n",
    "for row in matrix:\n",
    "    print(row)\n",
    "\n",
    "# Print the column-wise totals\n",
    "print(\"\\nColumn-wise totals:\")\n",
    "for j, total in enumerate(column_totals):\n",
    "    print(f\"Column {j + 1}: {total}\")\n",
    "\n",
    "# Print the row-wise totals\n",
    "print(\"\\nRow-wise totals:\")\n",
    "for i, total in enumerate(row_totals):\n",
    "    print(f\"Row {i + 1}: {total}\")"
   ]
  },
  {
   "cell_type": "markdown",
   "id": "f8782e2a",
   "metadata": {},
   "source": [
    "## 51. count the number of strings from a given list of strings. The string length is 2 or more and the first and last characters are the same.\n",
    "Sample List : ['abc', 'xyz', 'aba', '1221']\n",
    "Expected Result : 2"
   ]
  },
  {
   "cell_type": "code",
   "execution_count": 45,
   "id": "6219171b",
   "metadata": {},
   "outputs": [
    {
     "name": "stdout",
     "output_type": "stream",
     "text": [
      "['aba', '1221']\n",
      "2\n"
     ]
    }
   ],
   "source": [
    "l = ['1','2','abc', 'xyz', 'aba', '1221']\n",
    "\n",
    "c=0\n",
    "ls = []\n",
    "for i in l:\n",
    "    if len(i)>=2 and i[0]==i[-1]:\n",
    "        ls.append(i)\n",
    "        c=c+1\n",
    "print(ls)\n",
    "print(c)"
   ]
  },
  {
   "cell_type": "markdown",
   "id": "b2927f29",
   "metadata": {},
   "source": [
    "# 52. Write a Python program to get a list, sorted in increasing order by the last element in each tuple from a given list of non-empty tuples.\n",
    "Sample List : [(2, 5), (1, 2), (4, 4), (2, 3), (2, 1)]\n",
    "Expected Result : [(2, 1), (1, 2), (2, 3), (4, 4), (2, 5)]"
   ]
  },
  {
   "cell_type": "code",
   "execution_count": 4,
   "id": "faca8caa",
   "metadata": {},
   "outputs": [
    {
     "name": "stdout",
     "output_type": "stream",
     "text": [
      "[(2, 1), (1, 2), (2, 3), (4, 4), (2, 5)]\n"
     ]
    }
   ],
   "source": [
    "l = [(2, 5), (1, 2), (4, 4), (2, 3), (2, 1)]\n",
    "\n",
    "print(sorted(l,key=lambda x:x[1]))"
   ]
  },
  {
   "cell_type": "code",
   "execution_count": null,
   "id": "4e6834ab",
   "metadata": {},
   "outputs": [],
   "source": [
    "def sort_by_last_element(tuples):\n",
    "    \n",
    "    def get_last_element(tuple):\n",
    "        return tuple[-1]\n",
    "    \n",
    "    for i in range(len(tuples)):\n",
    "        for j in range(i + 1, len(tuples)):\n",
    "            if get_last_element(tuples[i]) > get_last_element(tuples[j]):\n",
    "                tuples[i], tuples[j] = tuples[j], tuples[i]\n",
    "    return tuples\n",
    "\n",
    "sample_list = [(2, 5), (1, 2), (4, 4), (2, 3), (2, 1)]\n",
    "result = sort_by_last_element(sample_list)\n",
    "print(result)"
   ]
  },
  {
   "cell_type": "markdown",
   "id": "8217d895",
   "metadata": {},
   "source": [
    "## 53. Write a Python program to generate and print a list of the first and last 5 elements where the values are square numbers between 1 and 30 (both included)."
   ]
  },
  {
   "cell_type": "code",
   "execution_count": 54,
   "id": "f95ae8c6",
   "metadata": {},
   "outputs": [
    {
     "name": "stdout",
     "output_type": "stream",
     "text": [
      "[1, 4, 9, 16, 25, 625, 676, 729, 784, 841]\n"
     ]
    }
   ],
   "source": [
    "l = []\n",
    "for i in range(1,30):\n",
    "    l.append(i**2)\n",
    "print(l[:5]+l[-5:])"
   ]
  },
  {
   "cell_type": "markdown",
   "id": "9544374b",
   "metadata": {},
   "source": [
    "# 54.  Write a Python program to check if each number is prime in a given list of numbers. Return True if all numbers are prime otherwise False.\n",
    "Sample Data:\n",
    "([0, 3, 4, 7, 9]) -> False\n",
    "([3, 5, 7, 13]) -> True\n",
    "([1, 5, 3]) -> False"
   ]
  },
  {
   "cell_type": "code",
   "execution_count": 60,
   "id": "c05edeea",
   "metadata": {},
   "outputs": [
    {
     "name": "stdout",
     "output_type": "stream",
     "text": [
      "False\n",
      "True\n",
      "True\n"
     ]
    }
   ],
   "source": [
    "def test(nums):\n",
    "    return all(is_prime(i) for i in nums)\n",
    "def is_prime(n):\n",
    "    if (n==1):\n",
    "        return False\n",
    "    elif (n==2):\n",
    "        return True;\n",
    "    else:\n",
    "        for x in range(2,n):\n",
    "            if(n % x==0):\n",
    "                return False\n",
    "        return True\n",
    "\n",
    "print(test([0, 3, 4, 7, 9]))\n",
    "print(test([3, 5, 7, 13]))\n",
    "print(test([2, 3, 5]))"
   ]
  },
  {
   "cell_type": "markdown",
   "id": "3658c48e",
   "metadata": {},
   "source": [
    "# 55. Write a Python program to create a list by concatenating a given list with a range from 1 to n.\n",
    "\n",
    "1.  Sample list : ['p', 'q']\n",
    "    n =5\n",
    "    Sample Output : ['p1', 'q1', 'p2', 'q2', 'p3', 'q3', 'p4', 'q4', 'p5', 'q5']\n",
    "\n",
    "2. Sample list : [1,2,3,4], string : emp\n",
    "   Expected output : ['emp1', 'emp2', 'emp3', 'emp4']\n"
   ]
  },
  {
   "cell_type": "code",
   "execution_count": 136,
   "id": "d9bab7ca",
   "metadata": {},
   "outputs": [
    {
     "name": "stdout",
     "output_type": "stream",
     "text": [
      "['p1', 'p2', 'p3', 'p4', 'p5', 'q1', 'q2', 'q3', 'q4', 'q5']\n"
     ]
    },
    {
     "data": {
      "text/plain": [
       "['p1', 'p2', 'p3', 'p4', 'p5', 'q1', 'q2', 'q3', 'q4', 'q5']"
      ]
     },
     "execution_count": 136,
     "metadata": {},
     "output_type": "execute_result"
    }
   ],
   "source": [
    "l = ['p', 'q']\n",
    "n = 5\n",
    "ls = []\n",
    "for j in l:\n",
    "    for i in range(1, n + 1):\n",
    "        k = j + str(i)  \n",
    "        ls.append(k)\n",
    "print(ls)\n",
    "\n",
    "[x+str(i) for x in l for i in range(1,n+1)]"
   ]
  },
  {
   "cell_type": "code",
   "execution_count": 132,
   "id": "8586ac8e",
   "metadata": {},
   "outputs": [
    {
     "data": {
      "text/plain": [
       "['emp1', 'emp2', 'emp3', 'emp4']"
      ]
     },
     "execution_count": 132,
     "metadata": {},
     "output_type": "execute_result"
    }
   ],
   "source": [
    "s = \"emp\"\n",
    "l = [1,2,3,4]\n",
    "\n",
    "[s+str(i) for i in l]"
   ]
  },
  {
   "cell_type": "code",
   "execution_count": 10,
   "id": "c80605fd",
   "metadata": {},
   "outputs": [
    {
     "name": "stdout",
     "output_type": "stream",
     "text": [
      "['p1', 'q1', 'p2', 'q2', 'p3', 'q3', 'p4', 'q4', 'p5', 'q5']\n"
     ]
    }
   ],
   "source": [
    "l = ['p', 'q']\n",
    "n = 5\n",
    "result_list = [item + str(i) for i in range(1, n + 1) for item in l]\n",
    "print(result_list)"
   ]
  },
  {
   "cell_type": "markdown",
   "id": "19e42c85",
   "metadata": {},
   "source": [
    "# 56. Split a list based on the first character of a word."
   ]
  },
  {
   "cell_type": "code",
   "execution_count": 163,
   "id": "9ea4fadb",
   "metadata": {},
   "outputs": [
    {
     "name": "stdout",
     "output_type": "stream",
     "text": [
      "{'b': ['be'], 'h': ['have'], 'd': ['do'], 's': ['say', 'see', 'seem'], 'g': ['get', 'go', 'give'], 'm': ['make'], 'k': ['know'], 't': ['take', 'think', 'tell'], 'c': ['come', 'call'], 'l': ['look', 'leave'], 'w': ['want', 'work'], 'u': ['use'], 'f': ['find', 'feel'], 'a': ['ask']}\n"
     ]
    }
   ],
   "source": [
    "l = ['be','have','do','say','get','make','go','know','take','see','come','think','look','want','give','use','find','tell','ask','work','seem','feel','leave','call']\n",
    "\n",
    "d = {}\n",
    "for w in l:\n",
    "    if w[0] in d:\n",
    "        d[w[0]].append(w)\n",
    "    else:\n",
    "        d[w[0]] = [w]\n",
    "print(d)"
   ]
  },
  {
   "cell_type": "code",
   "execution_count": 166,
   "id": "be59feea",
   "metadata": {},
   "outputs": [
    {
     "name": "stdout",
     "output_type": "stream",
     "text": [
      "['abcd', 'abc', 'acjd']\n",
      "['cder', 'cdsw']\n"
     ]
    }
   ],
   "source": [
    " def test(lst, char):\n",
    "    result = [i for i in lst if i.startswith(char)]\n",
    "    return result\n",
    "l = [\"abcd\", \"abc\", \"bcd\", \"bkie\", \"cder\", \"cdsw\", \"sdfsd\", \"dagfa\", \"acjd\"]\n",
    "print(test(l,'a'))\n",
    "print(test(l,'c'))"
   ]
  },
  {
   "cell_type": "code",
   "execution_count": 170,
   "id": "4b54d9d7",
   "metadata": {},
   "outputs": [
    {
     "name": "stdout",
     "output_type": "stream",
     "text": [
      "{'a': 'apple', 'b': 'banana, blueberry', 'c': 'cherry', 'd': 'date', 'f': 'fig'}\n"
     ]
    }
   ],
   "source": [
    "my_list = ['apple', 'banana', 'cherry', 'blueberry', 'date', 'fig']\n",
    "\n",
    "result = {word[0]: \", \".join([w for w in my_list if w[0] == word[0]]) for word in my_list}\n",
    "print(result)"
   ]
  },
  {
   "cell_type": "markdown",
   "id": "5cfebbdb",
   "metadata": {},
   "source": [
    "# 57. convert a list of multiple integers into a single integer.\n",
    "Sample list: [11, 33, 50]\n",
    "Expected Output: 113350"
   ]
  },
  {
   "cell_type": "code",
   "execution_count": 21,
   "id": "59126d79",
   "metadata": {},
   "outputs": [
    {
     "name": "stdout",
     "output_type": "stream",
     "text": [
      "113350\n"
     ]
    }
   ],
   "source": [
    "l = [11, 33, 50]\n",
    "w = \"\"\n",
    "for i in l:\n",
    "    w=w+str(i)\n",
    "print(w)"
   ]
  },
  {
   "cell_type": "markdown",
   "id": "b0307e0c",
   "metadata": {},
   "source": [
    "# 58. Write a Python program to convert a list to a list of dictionaries.\n",
    "Sample lists: [\"Black\", \"Red\", \"Maroon\", \"Yellow\"], [\"#000000\", \"#FF0000\", \"#800000\", \"#FFFF00\"]\n",
    "Expected Output: [{'color_name': 'Black', 'color_code': '#000000'}, {'color_name': 'Red', 'color_code': '#FF0000'}, {'color_name': 'Maroon', 'color_code': '#800000'}, {'color_name': 'Yellow', 'color_code': '#FFFF00'}]"
   ]
  },
  {
   "cell_type": "code",
   "execution_count": 58,
   "id": "b78a71f4",
   "metadata": {},
   "outputs": [
    {
     "name": "stdout",
     "output_type": "stream",
     "text": [
      "{'Black': '#000000', 'Red': '#FF0000', 'Maroon': '#800000', 'Yellow': '#FFFF00'}\n"
     ]
    }
   ],
   "source": [
    "colors_name = [\"Black\", \"Red\", \"Maroon\", \"Yellow\"] \n",
    "colors_code = [\"#000000\", \"#FF0000\", \"#800000\", \"#FFFF00\"]\n",
    "\n",
    "d = {}\n",
    "for k,v in zip(colors_name,colors_code):\n",
    "    d[k] = v\n",
    "print(d)"
   ]
  },
  {
   "cell_type": "code",
   "execution_count": 59,
   "id": "808ceb22",
   "metadata": {},
   "outputs": [
    {
     "name": "stdout",
     "output_type": "stream",
     "text": [
      "[{'color_name': 'Black', 'color_code': '#000000'}, {'color_name': 'Red', 'color_code': '#FF0000'}, {'color_name': 'Maroon', 'color_code': '#800000'}, {'color_name': 'Yellow', 'color_code': '#FFFF00'}]\n"
     ]
    }
   ],
   "source": [
    "color_names = [\"Black\", \"Red\", \"Maroon\", \"Yellow\"]\n",
    "color_codes = [\"#000000\", \"#FF0000\", \"#800000\", \"#FFFF00\"]\n",
    "\n",
    "l = []\n",
    "if len(color_names) == len(color_codes):\n",
    "    for i in range(len(color_names)):\n",
    "        l.append({'color_name': color_names[i],'color_code': color_codes[i]})\n",
    "    print(l)\n",
    "else:\n",
    "    print(\"The lists have different lengths.\")"
   ]
  },
  {
   "cell_type": "code",
   "execution_count": 60,
   "id": "d265f801",
   "metadata": {},
   "outputs": [
    {
     "name": "stdout",
     "output_type": "stream",
     "text": [
      "[{'color_name': 'Black', 'color_code': '#000000'}, {'color_name': 'Red', 'color_code': '#FF0000'}, {'color_name': 'Maroon', 'color_code': '#800000'}, {'color_name': 'Yellow', 'color_code': '#FFFF00'}]\n"
     ]
    }
   ],
   "source": [
    "color_names = [\"Black\", \"Red\", \"Maroon\", \"Yellow\"]\n",
    "color_codes = [\"#000000\", \"#FF0000\", \"#800000\", \"#FFFF00\"]\n",
    "\n",
    "color_info = [{'color_name': name, 'color_code': code} for name, code in zip(color_names, color_codes)]\n",
    "print(color_info)"
   ]
  },
  {
   "cell_type": "markdown",
   "id": "35d67cf8",
   "metadata": {},
   "source": [
    "# 59. remove key-value pairs from a list of dictionaries."
   ]
  },
  {
   "cell_type": "code",
   "execution_count": 98,
   "id": "f2d6bb90",
   "metadata": {},
   "outputs": [
    {
     "name": "stdout",
     "output_type": "stream",
     "text": [
      "[{'key2': 'value4'}, {'key2': 'value4'}]\n"
     ]
    },
    {
     "data": {
      "text/plain": [
       "[{'key2': 'value2'}, {'key2': 'value4'}]"
      ]
     },
     "execution_count": 98,
     "metadata": {},
     "output_type": "execute_result"
    }
   ],
   "source": [
    "l = [{'key1':'value1', 'key2':'value2'}, {'key1':'value3', 'key2':'value4'}]\n",
    "\n",
    "ls = []\n",
    "dic = {}\n",
    "for d in l:\n",
    "    for k,v in d.items():\n",
    "        if k!='key1':\n",
    "            dic[k] = v\n",
    "            ls.append(dic)     \n",
    "print(ls)\n",
    "\n",
    "[{k:v for k,v in d.items() if k!='key1'} for d in l]"
   ]
  },
  {
   "cell_type": "markdown",
   "id": "eb6509b8",
   "metadata": {},
   "source": [
    "# 60. Write a Python program to remove duplicates from a list of lists.\n",
    "Sample list : [[10, 20], [40], [30, 56, 25], [10, 20], [33], [40]]\n",
    "New List : [[10, 20], [30, 56, 25], [33], [40]]"
   ]
  },
  {
   "cell_type": "code",
   "execution_count": 162,
   "id": "f2dca348",
   "metadata": {},
   "outputs": [
    {
     "name": "stdout",
     "output_type": "stream",
     "text": [
      "[[10, 20], [40], [30, 56, 25], [33]]\n"
     ]
    }
   ],
   "source": [
    "l = [[10, 20], [40], [30, 56, 25], [10, 20], [33], [40]]\n",
    "\n",
    "ls = []\n",
    "for i in l:\n",
    "    if i not in ls:\n",
    "        ls.append(i)\n",
    "print(ls)"
   ]
  },
  {
   "cell_type": "markdown",
   "id": "29ac291b",
   "metadata": {},
   "source": [
    "# 61. Write a Python program to Zip two given lists of lists.\n",
    "Original lists:\n",
    "[[1, 3], [5, 7], [9, 11]]\n",
    "[[2, 4], [6, 8], [10, 12, 14]]\n",
    "\n",
    "Zipped list:\n",
    "[[1, 3, 2, 4], [5, 7, 6, 8], [9, 11, 10, 12, 14]]"
   ]
  },
  {
   "cell_type": "code",
   "execution_count": 9,
   "id": "398b1e98",
   "metadata": {},
   "outputs": [
    {
     "data": {
      "text/plain": [
       "[[1, 3, 2, 4], [5, 7, 6, 8], [9, 11, 10, 12, 14]]"
      ]
     },
     "execution_count": 9,
     "metadata": {},
     "output_type": "execute_result"
    }
   ],
   "source": [
    "l1 = [[1, 3], [5, 7], [9, 11]] \n",
    "l2 = [[2, 4], [6, 8], [10, 12, 14]] \n",
    "\n",
    "print([a + b for a, b in zip(l1, l2)])"
   ]
  },
  {
   "cell_type": "code",
   "execution_count": 10,
   "id": "72d7f9d4",
   "metadata": {},
   "outputs": [
    {
     "name": "stdout",
     "output_type": "stream",
     "text": [
      "[[1, 3, 2, 4], [5, 7, 6, 8], [9, 11, 10, 12, 14]]\n"
     ]
    }
   ],
   "source": [
    "# without zip\n",
    "list1 = [[1, 3], [5, 7], [9, 11]]\n",
    "list2 = [[2, 4], [6, 8], [10, 12, 14]]\n",
    "\n",
    "\n",
    "ls = []\n",
    "for i in range(len(list1)):\n",
    "    combined_list = list1[i] + list2[i]\n",
    "    ls.append(combined_list)\n",
    "\n",
    "print(ls)"
   ]
  },
  {
   "cell_type": "code",
   "execution_count": 13,
   "id": "eb14a2a8",
   "metadata": {},
   "outputs": [
    {
     "name": "stdout",
     "output_type": "stream",
     "text": [
      "[[1, 3, 2, 4], [5, 7, 6, 8], [9, 11, 10, 12, 14]]\n"
     ]
    }
   ],
   "source": [
    "# using extend\n",
    "list1 = [[1, 3], [5, 7], [9, 11]]\n",
    "list2 = [[2, 4], [6, 8], [10, 12, 14]]\n",
    "\n",
    "ls = []\n",
    "for i in range(len(list1)):\n",
    "    combined_list = list1[i]\n",
    "    combined_list.extend(list2[i])\n",
    "    ls.append(combined_list)\n",
    "print(ls)"
   ]
  },
  {
   "cell_type": "code",
   "execution_count": 17,
   "id": "ad0697db",
   "metadata": {},
   "outputs": [
    {
     "name": "stdout",
     "output_type": "stream",
     "text": [
      "[[1, 3, 2, 4], [5, 7, 6, 8], [9, 11, 10, 12, 14]]\n"
     ]
    }
   ],
   "source": [
    "# using map\n",
    "list1 = [[1, 3], [5, 7], [9, 11]]\n",
    "list2 = [[2, 4], [6, 8], [10, 12, 14]]\n",
    "\n",
    "print(list(map(list.__add__, list1, list2))) "
   ]
  },
  {
   "cell_type": "markdown",
   "id": "85dc54ec",
   "metadata": {},
   "source": [
    "# 62. check if all items True / False in a given list "
   ]
  },
  {
   "cell_type": "code",
   "execution_count": 103,
   "id": "2232b140",
   "metadata": {},
   "outputs": [
    {
     "name": "stdout",
     "output_type": "stream",
     "text": [
      "False\n",
      "True\n"
     ]
    }
   ],
   "source": [
    "# check the all words in list in given word or not \n",
    "color1 = [\"green\", \"orange\", \"black\", \"white\"]\n",
    "color2 = [\"green\", \"green\", \"green\", \"green\"]\n",
    "\n",
    "print(all(c == 'blue' for c in color1))\n",
    "print(all(c == 'green' for c in color2))"
   ]
  },
  {
   "cell_type": "code",
   "execution_count": 151,
   "id": "4c2d8415",
   "metadata": {},
   "outputs": [
    {
     "name": "stdout",
     "output_type": "stream",
     "text": [
      "True\n",
      "False\n"
     ]
    }
   ],
   "source": [
    "# find all the values in a list that are greater than a specified number.\n",
    "list1 = [220, 330, 500]\n",
    "list2 = [12, 17, 21]\n",
    "\n",
    "print(all(x >= 200 for x in list1))\n",
    "print(all(x >= 25 for x in list2))"
   ]
  },
  {
   "cell_type": "code",
   "execution_count": 171,
   "id": "04ee4412",
   "metadata": {},
   "outputs": [
    {
     "name": "stdout",
     "output_type": "stream",
     "text": [
      "True\n",
      "False\n"
     ]
    }
   ],
   "source": [
    "# all dict are empty or not in list\n",
    "my_list = [{},{},{}]\n",
    "my_list1 = [{1:2},{},{}]\n",
    "\n",
    "print(all(not d for d in my_list))\n",
    "print(all(not d for d in my_list1))"
   ]
  },
  {
   "cell_type": "markdown",
   "id": "9818b77b",
   "metadata": {},
   "source": [
    "# 63. find list in a list of lists whose sum of elements is the highest.\n",
    "Sample lists: [1,2,3], [4,5,6], [10,11,12], [7,8,9]\n",
    "Expected Output: [10, 11, 12]"
   ]
  },
  {
   "cell_type": "code",
   "execution_count": 150,
   "id": "73004346",
   "metadata": {},
   "outputs": [
    {
     "name": "stdout",
     "output_type": "stream",
     "text": [
      "[10, 11, 12]\n",
      "[10, 11, 12]\n"
     ]
    }
   ],
   "source": [
    "l = [[1,2,3], [4,5,6], [10,11,12], [7,8,9]]\n",
    "\n",
    "max_sum = float('-inf')  \n",
    "result_list = None\n",
    "\n",
    "for sublist in l:\n",
    "    c = 0\n",
    "    for i in sublist:\n",
    "        c = c+i\n",
    "    if c > max_sum:\n",
    "        max_sum = c\n",
    "        result_list = sublist\n",
    "print(result_list)\n",
    "\n",
    "print(max(l, key=sum))"
   ]
  },
  {
   "cell_type": "markdown",
   "id": "bef5a9d2",
   "metadata": {},
   "source": [
    "# 64. pack consecutive duplicates of a given list of elements into sublists.\n",
    "Original list:\n",
    "[0, 0, 1, 2, 3, 4, 4, 5, 6, 6, 6, 7, 8, 9, 4, 4]\n",
    "After packing consecutive duplicates of the said list elements into sublists:\n",
    "[[0, 0], [1], [2], [3], [4, 4], [5], [6, 6, 6], [7], [8], [9], [4, 4]]"
   ]
  },
  {
   "cell_type": "code",
   "execution_count": 257,
   "id": "6c182627",
   "metadata": {},
   "outputs": [
    {
     "name": "stdout",
     "output_type": "stream",
     "text": [
      "[[0, 0], [1], [2], [3], [4, 4], [5], [6, 6, 6], [7], [8], [9], [4, 4]]\n"
     ]
    }
   ],
   "source": [
    "l = [0, 0, 1, 2, 3, 4, 4, 5, 6, 6, 6, 7, 8, 9, 4, 4]\n",
    "\n",
    "ls = []\n",
    "c = []\n",
    "\n",
    "for i in l:\n",
    "    if not c or i == c[0]:\n",
    "        c.append(i)\n",
    "    else:\n",
    "        ls.append(c[:])\n",
    "        c = [i]\n",
    "if c:\n",
    "    ls.append(c)\n",
    "\n",
    "print(ls)"
   ]
  },
  {
   "cell_type": "markdown",
   "id": "10869a16",
   "metadata": {},
   "source": [
    "# 65. random the values in list "
   ]
  },
  {
   "cell_type": "code",
   "execution_count": 27,
   "id": "a0dc27bd",
   "metadata": {},
   "outputs": [
    {
     "name": "stdout",
     "output_type": "stream",
     "text": [
      "['solution', 'Python', 'exercises', 'list', 'practice']\n"
     ]
    }
   ],
   "source": [
    "# random order of items\n",
    "from random import shuffle\n",
    "\n",
    "l = ['Python', 'list', 'exercises', 'practice', 'solution'] \n",
    "shuffle(l)\n",
    "print(l) "
   ]
  },
  {
   "cell_type": "code",
   "execution_count": 42,
   "id": "fe470ede",
   "metadata": {},
   "outputs": [
    {
     "data": {
      "text/plain": [
       "['htynPo', 'ilts', 'iecssrxee', 'tpearicc', 'iotunlso']"
      ]
     },
     "execution_count": 42,
     "metadata": {},
     "output_type": "execute_result"
    }
   ],
   "source": [
    "# random order of characters \n",
    "import random \n",
    "l = ['Python', 'list', 'exercises', 'practice', 'solution'] \n",
    "\n",
    "[''.join(random.sample(word, len(word))) for word in l]"
   ]
  },
  {
   "cell_type": "markdown",
   "id": "eadec330",
   "metadata": {},
   "source": [
    "# 66. extract consecutive elements "
   ]
  },
  {
   "cell_type": "code",
   "execution_count": 53,
   "id": "a9ac811c",
   "metadata": {},
   "outputs": [
    {
     "name": "stdout",
     "output_type": "stream",
     "text": [
      "[1, 4]\n",
      "[4]\n"
     ]
    }
   ],
   "source": [
    "def extract_consecutive_elements(lst, n):\n",
    "    result = []\n",
    "    count = 1\n",
    "    for i in range(len(lst) - 1):\n",
    "        if lst[i] == lst[i + 1]:\n",
    "            count += 1\n",
    "            if count == n:\n",
    "                result.append(lst[i])\n",
    "        else:\n",
    "            count = 1\n",
    "    return result\n",
    "\n",
    "list1 = [1, 1, 3, 4, 4, 5, 6, 7]\n",
    "n1 = 2\n",
    "list2 = [0, 1, 2, 3, 4, 4, 4, 4, 5, 7]\n",
    "n2 = 4\n",
    "\n",
    "print(extract_consecutive_elements(list1, n1))\n",
    "print(extract_consecutive_elements(list2, n2))"
   ]
  },
  {
   "cell_type": "markdown",
   "id": "a54ac92e",
   "metadata": {},
   "source": [
    "# 67.Find the difference between consecutive numbers in a given list"
   ]
  },
  {
   "cell_type": "code",
   "execution_count": 59,
   "id": "cfd4d70e",
   "metadata": {},
   "outputs": [
    {
     "name": "stdout",
     "output_type": "stream",
     "text": [
      "[0, 2, 1, 0, 1, 1, 1]\n"
     ]
    }
   ],
   "source": [
    "l1 = [1, 1, 3, 4, 4, 5, 6, 7]\n",
    "ls = []\n",
    "for i in range(1,len(l1)):\n",
    "    diff = l1[i]-l1[i-1]\n",
    "    ls.append(diff)\n",
    "print(ls)"
   ]
  },
  {
   "cell_type": "markdown",
   "id": "807e0c0f",
   "metadata": {},
   "source": [
    "# 68. avg of two given lists"
   ]
  },
  {
   "cell_type": "code",
   "execution_count": 60,
   "id": "d444755d",
   "metadata": {},
   "outputs": [
    {
     "name": "stdout",
     "output_type": "stream",
     "text": [
      "3.823529411764706\n"
     ]
    }
   ],
   "source": [
    "l1 = [1, 1, 3, 4, 4, 5, 6, 7]\n",
    "l2 = [0, 1, 2, 3, 4, 4, 5, 7, 8]\n",
    "n = sum(l1+l2)/len(l1+l2)\n",
    "print(n)"
   ]
  },
  {
   "cell_type": "markdown",
   "id": "2be9ecb3",
   "metadata": {},
   "source": [
    "# 69.  remove row & column from a given nested list."
   ]
  },
  {
   "cell_type": "code",
   "execution_count": 100,
   "id": "3bbe7380",
   "metadata": {},
   "outputs": [
    {
     "name": "stdout",
     "output_type": "stream",
     "text": [
      "[[1, 3], [2, 5], [1, 1]]\n"
     ]
    }
   ],
   "source": [
    "# column\n",
    "list1 = [[1, 2, 3], [2, 4, 5], [1, 1, 1]]\n",
    "\n",
    "for i in list1:\n",
    "    del i[1]\n",
    "print(list1)"
   ]
  },
  {
   "cell_type": "code",
   "execution_count": 105,
   "id": "60ad6991",
   "metadata": {},
   "outputs": [
    {
     "name": "stdout",
     "output_type": "stream",
     "text": [
      "[[1, 2, 3], [1, 1, 1]]\n"
     ]
    }
   ],
   "source": [
    "# remove row\n",
    "list1 = [[1, 2, 3], [2, 4, 5], [1, 1, 1]]\n",
    "row = 1\n",
    "if 0 <= row < len(list1):\n",
    "    del list1[row]\n",
    "print(list1)"
   ]
  },
  {
   "cell_type": "markdown",
   "id": "ab6d821a",
   "metadata": {},
   "source": [
    "# 70. rotation list of values"
   ]
  },
  {
   "cell_type": "code",
   "execution_count": 106,
   "id": "2653e21b",
   "metadata": {},
   "outputs": [
    {
     "name": "stdout",
     "output_type": "stream",
     "text": [
      "[5, 6, 7, 8, 9, 10, 1, 2, 3, 4]\n",
      "[3, 4, 5, 6, 7, 8, 9, 10, 1, 2]\n",
      "[7, 8, 9, 10, 1, 2, 3, 4, 5, 6]\n",
      "[9, 10, 1, 2, 3, 4, 5, 6, 7, 8]\n"
     ]
    }
   ],
   "source": [
    "l = [1, 2, 3, 4, 5, 6, 7, 8, 9, 10]\n",
    "\n",
    "def rotate_list(lst, k, direction):\n",
    "    if direction == 'left':\n",
    "        rotated = lst[k % len(lst):] + lst[:k % len(lst)]\n",
    "    elif direction == 'right':\n",
    "        rotated = lst[-(k % len(lst)):] + lst[:-(k % len(lst))]\n",
    "    else:\n",
    "        raise ValueError(\"Invalid direction. Use 'left' or 'right'.\")\n",
    "    return rotated\n",
    "\n",
    "print(rotate_list(l, 4, 'left'))\n",
    "print(rotate_list(l, 2, 'left'))\n",
    "print(rotate_list(l, 4, 'right'))\n",
    "print(rotate_list(l, 2, 'right'))"
   ]
  },
  {
   "cell_type": "code",
   "execution_count": 116,
   "id": "8047860b",
   "metadata": {},
   "outputs": [
    {
     "name": "stdout",
     "output_type": "stream",
     "text": [
      "[5, 6, 7, 8, 9, 10, 1, 2, 3, 4]\n",
      "[9, 10, 1, 2, 3, 4, 5, 6, 7, 8]\n"
     ]
    }
   ],
   "source": [
    "l = [1, 2, 3, 4, 5, 6, 7, 8, 9, 10]\n",
    "\n",
    "n = 4 \n",
    "print(l[n:]+l[:n])\n",
    "m = 2\n",
    "print(l[-m:]+l[:-m])"
   ]
  },
  {
   "cell_type": "markdown",
   "id": "40b455a2",
   "metadata": {},
   "source": [
    "# 71. max and min product of pairs of tuples within a given list."
   ]
  },
  {
   "cell_type": "code",
   "execution_count": 200,
   "id": "bb238ffa",
   "metadata": {},
   "outputs": [
    {
     "name": "stdout",
     "output_type": "stream",
     "text": [
      "36 8\n"
     ]
    }
   ],
   "source": [
    "ls = [(2, 7), (2, 6), (1, 8), (4, 9)]\n",
    "\n",
    "n1 = max([abs(x * y) for x, y in ls])\n",
    "n2 = min([abs(x * y) for x, y in ls])\n",
    "print(n1,n2)"
   ]
  },
  {
   "cell_type": "code",
   "execution_count": 232,
   "id": "5a28a971",
   "metadata": {},
   "outputs": [
    {
     "name": "stdout",
     "output_type": "stream",
     "text": [
      "max product: 36\n",
      "min product: 8\n"
     ]
    }
   ],
   "source": [
    "l = [(2, 7), (2, 6), (1, 8), (4, 9)]\n",
    "\n",
    "ls = []\n",
    "for i in l:\n",
    "    prod = i[0]*i[1]\n",
    "    ls.append(prod)\n",
    "\n",
    "m = ls[0]\n",
    "for i in ls:\n",
    "    if i > m:\n",
    "        m = i\n",
    "        \n",
    "m1=ls[0]\n",
    "for i in ls:\n",
    "    if i<m1:\n",
    "        m1=i\n",
    "print(\"max product:\",m)\n",
    "print(\"min product:\",m1)"
   ]
  },
  {
   "cell_type": "markdown",
   "id": "fe341b73",
   "metadata": {},
   "source": [
    "# 72. calculate product of unique number"
   ]
  },
  {
   "cell_type": "code",
   "execution_count": 245,
   "id": "41e7b528",
   "metadata": {},
   "outputs": [
    {
     "name": "stdout",
     "output_type": "stream",
     "text": [
      "720\n"
     ]
    }
   ],
   "source": [
    "l = [1, 2, 3, 4, 2, 5, 6, 4]\n",
    "p = 1\n",
    "for i in list(set(l)):\n",
    "    p = p*i\n",
    "print(p)"
   ]
  },
  {
   "cell_type": "markdown",
   "id": "0e3ac4a6",
   "metadata": {},
   "source": [
    "# 73. Write a Python program to interleave multiple lists of the same length.\n",
    "Original list:\n",
    "list1: [1, 2, 3, 4, 5, 6, 7]\n",
    "list2: [10, 20, 30, 40, 50, 60, 70]\n",
    "list3: [100, 200, 300, 400, 500, 600, 700]\n",
    "Interleave multiple lists:\n",
    "[1, 10, 100, 2, 20, 200, 3, 30, 300, 4, 40, 400, 5, 50, 500, 6, 60, 600, 7, 70, 700]"
   ]
  },
  {
   "cell_type": "code",
   "execution_count": 233,
   "id": "6a207d25",
   "metadata": {},
   "outputs": [
    {
     "name": "stdout",
     "output_type": "stream",
     "text": [
      "[[1, 10, 100], [2, 20, 200], [3, 30, 300], [4, 40, 400], [5, 50, 500], [6, 60, 600], [7, 70, 700]]\n"
     ]
    }
   ],
   "source": [
    "l1= [1, 2, 3, 4, 5, 6, 7]\n",
    "l2= [10, 20, 30, 40, 50, 60, 70]\n",
    "l3= [100, 200, 300, 400, 500, 600, 700]\n",
    "\n",
    "ls = []\n",
    "for i,j,k in zip(l1,l2,l3):\n",
    "    ls.append([i,j,k])\n",
    "print(ls)"
   ]
  },
  {
   "cell_type": "code",
   "execution_count": 238,
   "id": "fd3927b6",
   "metadata": {},
   "outputs": [
    {
     "name": "stdout",
     "output_type": "stream",
     "text": [
      "[1, 10, 100, 2, 20, 200, 3, 30, 300, 4, 40, 400, 5, 50, 500, 6, 60, 600, 7, 70, 700]\n",
      "[1, 10, 100, 2, 20, 200, 3, 30, 300, 4, 40, 400, 5, 50, 500, 6, 60, 600, 7, 70, 700]\n"
     ]
    }
   ],
   "source": [
    "l1= [1, 2, 3, 4, 5, 6, 7]\n",
    "l2= [10, 20, 30, 40, 50, 60, 70]\n",
    "l3= [100, 200, 300, 400, 500, 600, 700]\n",
    "\n",
    "lst = []\n",
    "for i,j,k in zip(l1,l2,l3):\n",
    "    lst.extend([i,j,k])\n",
    "print(lst)\n",
    "\n",
    "print([m for pair in zip(l1, l2, l3) for m in pair])"
   ]
  },
  {
   "cell_type": "markdown",
   "id": "7006d45b",
   "metadata": {},
   "source": [
    "# 74. remove words from a given list of strings containing a character or string.\n",
    "Original list:\n",
    "list1: ['Red color', 'Orange#', 'Green', 'Orange @', 'White']\n",
    "Character list:\n",
    "['#', 'color', '@']\n",
    "output list:\n",
    "['Red', '', 'Green', 'Orange', 'White']"
   ]
  },
  {
   "cell_type": "code",
   "execution_count": 258,
   "id": "f2d914bf",
   "metadata": {},
   "outputs": [
    {
     "name": "stdout",
     "output_type": "stream",
     "text": [
      "['Red', 'Orange', 'Green', 'Orange', 'White']\n"
     ]
    }
   ],
   "source": [
    "l = ['Red color', 'Orange #', 'Green', 'Orange @', 'White']\n",
    "char_ls = ['#', 'color', '@']\n",
    "\n",
    "ls = []\n",
    "for i in l:\n",
    "    for j in i.split():\n",
    "        if j not in char_ls:\n",
    "            ls.append(j)\n",
    "print(ls)"
   ]
  },
  {
   "cell_type": "markdown",
   "id": "6cbcd1ff",
   "metadata": {},
   "source": [
    "# 75. sum of the numbers in a list between the indices of a specified range.\n",
    "Original list:\n",
    "[2, 1, 5, 6, 8, 3, 4, 9, 10, 11, 8, 12]\n",
    "Range: 8 , 10\n",
    "Sum of the specified range:\n",
    "29"
   ]
  },
  {
   "cell_type": "code",
   "execution_count": 263,
   "id": "6f24461f",
   "metadata": {},
   "outputs": [
    {
     "name": "stdout",
     "output_type": "stream",
     "text": [
      "29\n"
     ]
    }
   ],
   "source": [
    "l = [2, 1, 5, 6, 8, 3, 4, 9, 10, 11, 8, 12]\n",
    "\n",
    "s = 0\n",
    "from_ind = 8\n",
    "to_ind = 10\n",
    "for i in range(from_ind,to_ind+1,1):\n",
    "    s=s+l[i]\n",
    "print(s)"
   ]
  },
  {
   "cell_type": "markdown",
   "id": "bcdb16d6",
   "metadata": {},
   "source": [
    "# 76. all pairs of integers that differ by three. Return all pairs of integers in a list.\n",
    "\n",
    "Sample Data:\n",
    "([0, 3, 4, 7, 9]) -> [[0, 3], [4, 7]]\n",
    "[0, -3, -5, -7, -8] -> [[-3, 0], [-8, -5]]\n",
    "([1, 2, 3, 4, 5]) -> [[1, 4], [2, 5]]\n",
    "([100, 102, 103, 114, 115]) -> [[100, 103]]"
   ]
  },
  {
   "cell_type": "code",
   "execution_count": 280,
   "id": "d07ff0bb",
   "metadata": {},
   "outputs": [
    {
     "name": "stdout",
     "output_type": "stream",
     "text": [
      "[[0, 3], [4, 7]]\n",
      "[[-8, -5]]\n",
      "[[1, 4], [2, 5]]\n",
      "[[100, 103]]\n"
     ]
    }
   ],
   "source": [
    "def fun(lst):\n",
    "    ls = []\n",
    "    for i,x in enumerate(sorted(lst)):\n",
    "        for y in lst[i+1:]:\n",
    "            if y == x+3:\n",
    "                ls.append([x,y])\n",
    "    return ls\n",
    "print(fun([0, 3, 4, 7, 9]))\n",
    "print(fun([0, -3, -5, -7, -8]))\n",
    "print(fun([1, 2, 3, 4, 5]))\n",
    "print(fun([100, 102, 103, 114, 115]))"
   ]
  },
  {
   "cell_type": "markdown",
   "id": "bd03228e",
   "metadata": {},
   "source": [
    "# 77. sum the missing numbers in a given list of integers"
   ]
  },
  {
   "cell_type": "code",
   "execution_count": 284,
   "id": "c53a1976",
   "metadata": {},
   "outputs": [
    {
     "name": "stdout",
     "output_type": "stream",
     "text": [
      "22\n",
      "93\n",
      "-12\n"
     ]
    }
   ],
   "source": [
    "def fun(lst):\n",
    "    min_value = min(lst)\n",
    "    max_value = max(lst)\n",
    "    \n",
    "    Total = sum(range(min_value, max_value + 1))\n",
    "    list_sum = sum(lst)\n",
    "    \n",
    "    misnum_sum = Total - list_sum\n",
    "    print(misnum_sum)\n",
    "\n",
    "fun([0, 3, 4, 7, 9])\n",
    "fun([44, 45, 48])\n",
    "fun([-7, -5, -4, 0])"
   ]
  },
  {
   "cell_type": "markdown",
   "id": "bced49ad",
   "metadata": {},
   "source": [
    "# 78. largest and smallest gap in a list of values"
   ]
  },
  {
   "cell_type": "code",
   "execution_count": 287,
   "id": "451a446e",
   "metadata": {},
   "outputs": [
    {
     "name": "stdout",
     "output_type": "stream",
     "text": [
      "(3, 1)\n",
      "(15, 2)\n"
     ]
    }
   ],
   "source": [
    "def test(nums):\n",
    "    nums.sort()\n",
    "    max_gap = max(b-a for a, b in zip(nums, nums[1:]))\n",
    "    min_gap = min(b-a for a, b in zip(nums, nums[1:]))\n",
    "    return max_gap, min_gap\n",
    "print(test([0, 9, 2, 4, 5, 6]))\n",
    "print(test([23, -2, 45, 38, 12, 4, 6]))"
   ]
  },
  {
   "cell_type": "markdown",
   "id": "f1912cac",
   "metadata": {},
   "source": [
    "# 79. smallest & largest odd or even numbers in list"
   ]
  },
  {
   "cell_type": "code",
   "execution_count": 295,
   "id": "65624f07",
   "metadata": {},
   "outputs": [
    {
     "name": "stdout",
     "output_type": "stream",
     "text": [
      "(9, 5)\n",
      "(45, 3)\n"
     ]
    }
   ],
   "source": [
    "def test(nums):\n",
    "    max_odd = max(list(filter(lambda x: x%2!=0,nums)))\n",
    "    min_odd = min(list(filter(lambda x: x%2!=0,nums)))\n",
    "    return max_odd, min_odd\n",
    "print(test([0, 9, 2, 4, 5, 6]))\n",
    "print(test([23, -2, 45, 38, 12, 4, 6, 3]))"
   ]
  },
  {
   "cell_type": "code",
   "execution_count": 297,
   "id": "2867ee12",
   "metadata": {},
   "outputs": [
    {
     "name": "stdout",
     "output_type": "stream",
     "text": [
      "(6, 0)\n",
      "(38, -2)\n"
     ]
    }
   ],
   "source": [
    "def test(nums):\n",
    "    max_even = max(list(filter(lambda x: x%2==0,nums)))\n",
    "    min_even = min(list(filter(lambda x: x%2==0,nums)))\n",
    "    return max_even, min_even\n",
    "print(test([0, 9, 2, 4, 5, 6]))\n",
    "print(test([23, -2, 45, 38, 12, 4, 6, 3]))"
   ]
  },
  {
   "cell_type": "markdown",
   "id": "a32c03e9",
   "metadata": {},
   "source": [
    "# 80. remove values in the lists from directions"
   ]
  },
  {
   "cell_type": "code",
   "execution_count": 311,
   "id": "70706183",
   "metadata": {},
   "outputs": [
    {
     "name": "stdout",
     "output_type": "stream",
     "text": [
      "[5, 6, 7, 8, 9, 10]\n",
      "[4, 5, 6, 7, 8, 9, 10]\n",
      "[1, 2, 3, 4, 5, 6]\n",
      "[1, 2, 3, 4, 5, 6, 7]\n"
     ]
    }
   ],
   "source": [
    "l = [1, 2, 3, 4, 5, 6, 7, 8, 9, 10]\n",
    "\n",
    "def delete_list(lst, n, direction):\n",
    "    if direction == 'left':\n",
    "        delete = lst[n:]\n",
    "    elif direction == 'right':\n",
    "        delete = lst[:-n]\n",
    "    else:\n",
    "        raise ValueError(\"Invalid direction. Use 'left' or 'right'.\")\n",
    "    return delete\n",
    "\n",
    "print(delete_list(l, 4, 'left'))\n",
    "print(delete_list(l, 3, 'left'))\n",
    "print(delete_list(l, 4, 'right'))\n",
    "print(delete_list(l, 3, 'right'))"
   ]
  },
  {
   "cell_type": "markdown",
   "id": "2c95f56c",
   "metadata": {},
   "source": [
    "# 81. cumulative or add beside or adjacent numbers in list"
   ]
  },
  {
   "cell_type": "code",
   "execution_count": 329,
   "id": "ee816928",
   "metadata": {},
   "outputs": [
    {
     "name": "stdout",
     "output_type": "stream",
     "text": [
      "[1, 3, 6, 10, 15]\n"
     ]
    }
   ],
   "source": [
    "l = [1, 2, 3, 4, 5]\n",
    "\n",
    "ls = []\n",
    "c = 0\n",
    "for i in range(0,len(l)):\n",
    "    c = c+l[i]\n",
    "    ls.append(c)\n",
    "print(ls)"
   ]
  },
  {
   "cell_type": "code",
   "execution_count": 330,
   "id": "d3b0f7cb",
   "metadata": {},
   "outputs": [
    {
     "name": "stdout",
     "output_type": "stream",
     "text": [
      "[1, 3, 6, 10, 15]\n"
     ]
    }
   ],
   "source": [
    "from itertools import accumulate\n",
    "\n",
    "l = [1, 2, 3, 4, 5]\n",
    "print(list(accumulate(l)))"
   ]
  },
  {
   "cell_type": "markdown",
   "id": "08b99370",
   "metadata": {},
   "source": [
    "# 82. check the type "
   ]
  },
  {
   "cell_type": "code",
   "execution_count": 335,
   "id": "7a9655c4",
   "metadata": {},
   "outputs": [
    {
     "name": "stdout",
     "output_type": "stream",
     "text": [
      "[1]\n",
      "['Red', 'Green']\n",
      "None\n"
     ]
    }
   ],
   "source": [
    "def cast(val):\n",
    "    return list(val) if isinstance(val, (tuple, list, set, dict)) else None\n",
    "\n",
    "print(cast([1]))\n",
    "print(cast(('Red', 'Green')))\n",
    "print(cast(1))"
   ]
  },
  {
   "cell_type": "markdown",
   "id": "1fbb5d5d",
   "metadata": {},
   "source": [
    "# 83. convert a given number (integer) to a list of digits."
   ]
  },
  {
   "cell_type": "code",
   "execution_count": 344,
   "id": "cf8cacbd",
   "metadata": {},
   "outputs": [
    {
     "name": "stdout",
     "output_type": "stream",
     "text": [
      "[1, 2, 3]\n"
     ]
    },
    {
     "data": {
      "text/plain": [
       "[1, 2, 3]"
      ]
     },
     "execution_count": 344,
     "metadata": {},
     "output_type": "execute_result"
    }
   ],
   "source": [
    "print( list(map(int,str(123))))\n",
    "\n",
    "print([int(i) for i in str(123)])"
   ]
  },
  {
   "cell_type": "markdown",
   "id": "c63c946f",
   "metadata": {},
   "source": [
    "# 84. create two groups given list"
   ]
  },
  {
   "cell_type": "code",
   "execution_count": 346,
   "id": "fb578d85",
   "metadata": {},
   "outputs": [
    {
     "name": "stdout",
     "output_type": "stream",
     "text": [
      "[['green', 'black', 'white'], ['red', 'blue']]\n"
     ]
    }
   ],
   "source": [
    "color_list = ['red', 'green', 'black', 'white', 'blue']\n",
    "\n",
    "group1 = [c for c in color_list if len(c) > 4]\n",
    "group2 = [c for c in color_list if len(c) <= 4]\n",
    "groups = [group1, group2]\n",
    "print(groups)"
   ]
  },
  {
   "cell_type": "code",
   "execution_count": 349,
   "id": "b8dee0ca",
   "metadata": {},
   "outputs": [
    {
     "name": "stdout",
     "output_type": "stream",
     "text": [
      "[['black', 'blue'], ['red', 'green', 'white']]\n"
     ]
    }
   ],
   "source": [
    "color_list = ['red', 'green', 'black', 'white', 'blue']\n",
    "\n",
    "group1 = [c for c in color_list if c[0] == 'b']\n",
    "group2 = [c for c in color_list if c[0]!='b']\n",
    "groups = [group1, group2]\n",
    "print(groups)"
   ]
  },
  {
   "cell_type": "markdown",
   "id": "a37ba88b",
   "metadata": {},
   "source": [
    "# 85. sort a given positive number in descending/ascending order"
   ]
  },
  {
   "cell_type": "code",
   "execution_count": 357,
   "id": "d29b7439",
   "metadata": {},
   "outputs": [
    {
     "name": "stdout",
     "output_type": "stream",
     "text": [
      "133445\n",
      "3345779\n",
      "544331\n",
      "97754330\n"
     ]
    }
   ],
   "source": [
    "def num(n, order):\n",
    "    if order == 'asc':\n",
    "        return int(''.join(sorted(str(n))))\n",
    "    elif order == 'desc':\n",
    "        return int(''.join(sorted(str(n), reverse = True))) \n",
    "    else:\n",
    "        raise ValueError(\"Invalid order. Use 'asc' or 'desc'.\")\n",
    "\n",
    "print(num(134543,'asc'))\n",
    "print(num(43750973,'asc'))\n",
    "print(num(134543,'desc'))\n",
    "print(num(43750973,'desc'))"
   ]
  },
  {
   "cell_type": "code",
   "execution_count": 365,
   "id": "9d11e6a6",
   "metadata": {},
   "outputs": [
    {
     "name": "stdout",
     "output_type": "stream",
     "text": [
      "[-4, -2, -1, 0, 3, 4, 5, 9]\n",
      "-6\n"
     ]
    }
   ],
   "source": [
    "# sum of two lowest negative numbers in a given array of integers\n",
    "n = [-4, 5, -2, 0, 3, -1, 4 , 9]\n",
    "s = sorted(n)\n",
    "print(s)\n",
    "print(s[0]+s[1])"
   ]
  },
  {
   "cell_type": "markdown",
   "id": "de813f60",
   "metadata": {},
   "source": [
    "# 86. sum of non-zero values"
   ]
  },
  {
   "cell_type": "code",
   "execution_count": 370,
   "id": "bb81184e",
   "metadata": {},
   "outputs": [
    {
     "name": "stdout",
     "output_type": "stream",
     "text": [
      "[3, 4, 6, 2, 6, 7, 6, 9, 10, 7, 4, 4, 5, 3, 2, 9, 7, 1]\n",
      "95\n"
     ]
    }
   ],
   "source": [
    "l = [3, 4, 6, 2, 0, 0, 0, 0, 0, 0, 6, 7, 6, 9, 10, 0, 0, 0, 0, 0, 7, 4, 4, 0, 0, 0, 0, 0, 0, 5, 3, 2, 9, 7, 1, 0, 0, 0]\n",
    "\n",
    "c=0\n",
    "ls = []\n",
    "for i in l:\n",
    "    if i!=0:\n",
    "        ls.append(i)\n",
    "        c=c+i\n",
    "print(ls)\n",
    "print(c)"
   ]
  },
  {
   "cell_type": "markdown",
   "id": "f5a8925d",
   "metadata": {},
   "source": [
    "# 87. remove extra spaces in list elements"
   ]
  },
  {
   "cell_type": "code",
   "execution_count": 374,
   "id": "e05a5d5f",
   "metadata": {},
   "outputs": [
    {
     "name": "stdout",
     "output_type": "stream",
     "text": [
      "['abc', '', 'sdfds', '', '', 'sdfds', 'huy']\n"
     ]
    }
   ],
   "source": [
    "l = ['abc  ', '       ', 'sdfds ', '     ',' ','    sdfds ', 'huy']\n",
    "ls = []\n",
    "for i in l:\n",
    "    ls.append(\"\".join(i.split()))\n",
    "print(ls)"
   ]
  },
  {
   "cell_type": "markdown",
   "id": "a3f55850",
   "metadata": {},
   "source": [
    "# 88. check if the first digit or character of each element in a list is the same."
   ]
  },
  {
   "cell_type": "code",
   "execution_count": 404,
   "id": "0bfab851",
   "metadata": {},
   "outputs": [
    {
     "name": "stdout",
     "output_type": "stream",
     "text": [
      "True\n",
      "False\n"
     ]
    }
   ],
   "source": [
    "l1 = [1234, 122, 1984, 19372, 100]\n",
    "l2 = [1234, 922, 1984, 19372, 100]\n",
    "\n",
    "def fun1(lis):\n",
    "    for x in lis:\n",
    "        if str(x)[0] != str(lis[0])[0]:\n",
    "            return False\n",
    "    return True\n",
    "print(fun1(l1))\n",
    "print(fun1(l2))"
   ]
  },
  {
   "cell_type": "code",
   "execution_count": 395,
   "id": "9b974380",
   "metadata": {},
   "outputs": [
    {
     "name": "stdout",
     "output_type": "stream",
     "text": [
      "True\n",
      "False\n"
     ]
    }
   ],
   "source": [
    "print(all(str(x)[0]==str(l[0])[0] for x in l1))\n",
    "print(all(str(x)[0]==str(l[0])[0] for x in l2))"
   ]
  },
  {
   "cell_type": "markdown",
   "id": "911fb6c1",
   "metadata": {},
   "source": [
    "# 89. Insert element every nth position in list\n",
    "[1, 3, 5, 7, 9, 11, 0, 2, 4, 6, 8, 10, 8, 9, 0, 4, 3, 0]\n",
    "Insert 20 in said list after every 4 th element:\n",
    "[1, 3, 5, 7, 20, 9, 11, 0, 2, 20, 4, 6, 8, 10, 20, 8, 9, 0, 4, 20, 3, 0]\n",
    "Original list:\n",
    "['s', 'd', 'f', 'j', 's', 'a', 'j', 'd', 'f', 'd']\n",
    "Insert Z in said list after every 3 th element:\n",
    "['s', 'd', 'f', 'Z', 'j', 's', 'a', 'Z', 'j', 'd', 'f', 'Z', 'd']"
   ]
  },
  {
   "cell_type": "code",
   "execution_count": 212,
   "id": "24a12df8",
   "metadata": {},
   "outputs": [
    {
     "name": "stdout",
     "output_type": "stream",
     "text": [
      "[1, 2, '##', 3, 4, '##', 5, 6, '##', 7, 8, '##', 9, 10, '##', 12, 13, '##', 14, 15, '##', 16, 17, '##', 19, 20, '##']\n",
      "['s', 'd', 'f', '@@', 'j', 's', 'a', '@@', 'j', 'd', 'f', '@@', 'd']\n"
     ]
    }
   ],
   "source": [
    "def fun(lst,pos,ele):\n",
    "    ls = []\n",
    "    for i, val in enumerate(lst):\n",
    "        ls.append(val)\n",
    "        if (i + 1) % pos == 0:\n",
    "            ls.append(ele)\n",
    "    return ls\n",
    "\n",
    "l1 = [1,2,3,4,5,6,7,8,9,10,12,13,14,15,16,17,19,20]\n",
    "ele1 = '##'\n",
    "pos1 = 2  \n",
    "print(fun(l1,pos1,ele1))\n",
    "l2 = ['s', 'd', 'f', 'j', 's', 'a', 'j', 'd', 'f', 'd']\n",
    "ele2 = '@@'\n",
    "pos2 = 3\n",
    "print(fun(l2,pos2,ele2))"
   ]
  },
  {
   "cell_type": "code",
   "execution_count": 213,
   "id": "3493bd22",
   "metadata": {},
   "outputs": [
    {
     "name": "stdout",
     "output_type": "stream",
     "text": [
      "[1, 2, '##', 3, 4, '##', 5, 6, '##', 7, 8, '##', 9, 10, '##', 12, 13, '##', 14, 15, '##', 16, 17, '##', 19, 20, '##']\n"
     ]
    }
   ],
   "source": [
    "def fun(lst, pos, ele):\n",
    "    ls = []\n",
    "    count = 0\n",
    "    for val in lst:\n",
    "        ls.append(val)\n",
    "        count += 1\n",
    "        if count % pos == 0:\n",
    "            ls.append(ele)\n",
    "    return ls\n",
    "\n",
    "l1 = [1, 2, 3, 4, 5, 6, 7, 8, 9, 10, 12, 13, 14, 15, 16, 17, 19, 20]\n",
    "ele1 = '##'\n",
    "pos1 = 2\n",
    "print(fun(l1, pos1, ele1))"
   ]
  },
  {
   "cell_type": "code",
   "execution_count": 215,
   "id": "9a0c753f",
   "metadata": {},
   "outputs": [
    {
     "name": "stdout",
     "output_type": "stream",
     "text": [
      "[1, 2, '##', 3, 4, '##', 5, 6, '##', 7, 8, '##', 9, 10, '##', 12, 13, '##', 14, 15, '##', 16, 17, '##', 19, 20]\n"
     ]
    }
   ],
   "source": [
    "def fun(lst, pos, ele):\n",
    "    ls = []\n",
    "    length = len(lst)\n",
    "    for i in range(0, length, pos):\n",
    "        ls += lst[i:i+pos]\n",
    "        if i + pos < length:\n",
    "            ls.append(ele)\n",
    "    return ls\n",
    "\n",
    "l1 = [1, 2, 3, 4, 5, 6, 7, 8, 9, 10, 12, 13, 14, 15, 16, 17, 19, 20]\n",
    "ele1 = '##'\n",
    "pos1 = 2\n",
    "print(fun(l1, pos1, ele1))"
   ]
  },
  {
   "cell_type": "markdown",
   "id": "b83c84a8",
   "metadata": {},
   "source": [
    "# 90. find the indices of elements"
   ]
  },
  {
   "cell_type": "code",
   "execution_count": 421,
   "id": "4deb63e2",
   "metadata": {},
   "outputs": [
    {
     "name": "stdout",
     "output_type": "stream",
     "text": [
      "3\n",
      "6\n"
     ]
    }
   ],
   "source": [
    "# find the indices of elements in a given list that are greater than a specified value.\n",
    "\n",
    "l = [1234, 1522, 1984, 19372, 1000, 2342, 7626]\n",
    "for i,v in enumerate(l):\n",
    "    if v > 3000:\n",
    "        print(i)"
   ]
  },
  {
   "cell_type": "code",
   "execution_count": 422,
   "id": "0b7bd11c",
   "metadata": {},
   "outputs": [
    {
     "name": "stdout",
     "output_type": "stream",
     "text": [
      "1\n",
      "4\n",
      "6\n",
      "7\n"
     ]
    }
   ],
   "source": [
    "# find the indices of None values\n",
    "l1 = [1, None, 5, 4, None, 0, None, None]\n",
    "\n",
    "for i,v in enumerate(l1):\n",
    "    if v==None:\n",
    "        print(i)"
   ]
  },
  {
   "cell_type": "code",
   "execution_count": 5,
   "id": "47e2f4ce",
   "metadata": {},
   "outputs": [
    {
     "name": "stdout",
     "output_type": "stream",
     "text": [
      "[1, 4, 6, 7]\n"
     ]
    }
   ],
   "source": [
    "# find the indices of None values without enumerate\n",
    "l1 = [1, None, 5, 4, None, 0, None, None]\n",
    "\n",
    "ls = []\n",
    "for i in range(len(l1)):\n",
    "    if l1[i] is None:\n",
    "        ls.append(i)\n",
    "print(ls)"
   ]
  },
  {
   "cell_type": "code",
   "execution_count": 4,
   "id": "7b020a23",
   "metadata": {},
   "outputs": [
    {
     "name": "stdout",
     "output_type": "stream",
     "text": [
      "[1, 4, 6, 7]\n"
     ]
    }
   ],
   "source": [
    "# using \n",
    "l1 = [1, None, 5, 4, None, 0, None, None]\n",
    "ls = []\n",
    "\n",
    "try:\n",
    "    while True:\n",
    "        index = l1.index(None)\n",
    "        ls.append(index)\n",
    "        l1[index] = object() # Replace the found None with a unique object to avoid finding it again\n",
    "except ValueError:\n",
    "    pass\n",
    "\n",
    "print(ls)"
   ]
  },
  {
   "cell_type": "code",
   "execution_count": 18,
   "id": "abc5d958",
   "metadata": {},
   "outputs": [
    {
     "data": {
      "text/plain": [
       "[1, 4]"
      ]
     },
     "execution_count": 18,
     "metadata": {},
     "output_type": "execute_result"
    }
   ],
   "source": [
    "# find common elements in both lists indices\n",
    "\n",
    "l1 = [1, 2, 3, 4, 5 ,6]\n",
    "l2 = [7, 8, 5, 2, 10, 12]\n",
    "\n",
    "[i for i, el in enumerate(l1) if el in set(l2)]"
   ]
  },
  {
   "cell_type": "markdown",
   "id": "8352b9fe",
   "metadata": {},
   "source": [
    "# 91. check list of items in url"
   ]
  },
  {
   "cell_type": "code",
   "execution_count": 8,
   "id": "fe03aeea",
   "metadata": {},
   "outputs": [
    {
     "name": "stdout",
     "output_type": "stream",
     "text": [
      ".com is present\n",
      ".edu is not present\n",
      ".tv is not present\n"
     ]
    }
   ],
   "source": [
    "str1 = \"https://www.w3resource.com/python-exercises/list/\"\n",
    "lst = ['.com', '.edu', '.tv'] \n",
    "\n",
    "for i in lst:\n",
    "    if i not in str1:\n",
    "        print(i,\"is not present\")\n",
    "    else:\n",
    "        print(i,\"is present\")"
   ]
  },
  {
   "cell_type": "markdown",
   "id": "d73eb0c2",
   "metadata": {},
   "source": [
    "# 92. convert unicode strings into lists"
   ]
  },
  {
   "cell_type": "code",
   "execution_count": 9,
   "id": "ac3704cf",
   "metadata": {},
   "outputs": [
    {
     "data": {
      "text/plain": [
       "['S001', 'S002', 'S003', 'S004']"
      ]
     },
     "execution_count": 9,
     "metadata": {},
     "output_type": "execute_result"
    }
   ],
   "source": [
    "lst = [u'S001', u'S002', u'S003', u'S004']\n",
    "\n",
    "[str(x) for x in lst]"
   ]
  },
  {
   "cell_type": "markdown",
   "id": "9705e13a",
   "metadata": {},
   "source": [
    "# 93. avg of list of list values"
   ]
  },
  {
   "cell_type": "code",
   "execution_count": 20,
   "id": "1a5ae0f3",
   "metadata": {},
   "outputs": [
    {
     "name": "stdout",
     "output_type": "stream",
     "text": [
      "[1.0, 3.0, 4.5, 9.0, 13.0]\n"
     ]
    }
   ],
   "source": [
    "l = [[0, 1, 2], [2, 3, 4], [3, 4, 5, 6], [7, 8, 9, 10, 11], [12, 13, 14]]\n",
    "\n",
    "ls = []\n",
    "for i in l:\n",
    "    avg = sum(i)/len(i)\n",
    "    ls.append(avg)\n",
    "print(ls)"
   ]
  },
  {
   "cell_type": "markdown",
   "id": "2f172f0a",
   "metadata": {},
   "source": [
    "# 94. move the item into list "
   ]
  },
  {
   "cell_type": "code",
   "execution_count": 23,
   "id": "853fbf6c",
   "metadata": {},
   "outputs": [
    {
     "name": "stdout",
     "output_type": "stream",
     "text": [
      "['red', 'white', 'black', 'orange', 'green']\n"
     ]
    }
   ],
   "source": [
    "# move the item into end of the list\n",
    "def move_ele(lst, ele):\n",
    "    if ele in lst:\n",
    "        lst.remove(ele)\n",
    "        lst.append(ele)\n",
    "    return lst\n",
    "\n",
    "ls = ['red', 'green', 'white', 'black', 'orange']\n",
    "print(move_ele(ls,'green'))"
   ]
  },
  {
   "cell_type": "code",
   "execution_count": 25,
   "id": "2a47c87b",
   "metadata": {},
   "outputs": [
    {
     "name": "stdout",
     "output_type": "stream",
     "text": [
      "['green', 'red', 'white', 'black', 'orange']\n"
     ]
    }
   ],
   "source": [
    "# move the item into desired position\n",
    "\n",
    "def move_ele(lst, ele, position):\n",
    "    if ele in lst:\n",
    "        lst.remove(ele)\n",
    "        lst.insert(position, ele)\n",
    "    return lst\n",
    "\n",
    "ls = ['red', 'green', 'white', 'black', 'orange']\n",
    "print(move_ele(ls,'green',0))"
   ]
  },
  {
   "cell_type": "markdown",
   "id": "e6210ea2",
   "metadata": {},
   "source": [
    "# 95. remove all strings from a given list of tuples."
   ]
  },
  {
   "cell_type": "code",
   "execution_count": 51,
   "id": "517f4e4f",
   "metadata": {},
   "outputs": [
    {
     "name": "stdout",
     "output_type": "stream",
     "text": [
      "[100, 80, 90, 88, 89, 90, 92]\n"
     ]
    }
   ],
   "source": [
    "l = [(100, 'Math'), (80, 'Math'), (90, 'Math'), (88, 'Science', 89), (90, 'Science', 92)]\n",
    "\n",
    "ls = []\n",
    "for i in l:\n",
    "    for j in i:\n",
    "        if str(j).isdigit():\n",
    "            ls.append(j)\n",
    "        else:\n",
    "            pass\n",
    "print(ls)"
   ]
  },
  {
   "cell_type": "code",
   "execution_count": 133,
   "id": "8c84561d",
   "metadata": {},
   "outputs": [
    {
     "name": "stdout",
     "output_type": "stream",
     "text": [
      "[100, 80, 90, (88, 89), (90, 92)]\n"
     ]
    }
   ],
   "source": [
    "l = [(100, 'Math'), (80, 'Math'), (90, 'Math'), (88, 'Science', 89), (90, 'Science', 92)]\n",
    "\n",
    "ls = []\n",
    "for tup in l:\n",
    "    new_tuple = ()\n",
    "    for ele in tup:\n",
    "        if not isinstance(ele, str):\n",
    "            new_tuple += (ele,)\n",
    "    if len(new_tuple) == 1:\n",
    "        ls.append(new_tuple[0])\n",
    "    else:\n",
    "        ls.append(new_tuple)\n",
    "print(ls)"
   ]
  },
  {
   "cell_type": "markdown",
   "id": "1de17e72",
   "metadata": {},
   "source": [
    "# 96. convert a given list of tuples to a list of strings.\n",
    "Original list of tuples:\n",
    "[('red', 'green'), ('black', 'white'), ('orange', 'pink')]\n",
    "Convert the said list of tuples to a list of strings:\n",
    "['red green', 'black white', 'orange pink']\n",
    "Original list of tuples:\n",
    "[('Laiba', 'Delacruz'), ('Mali', 'Stacey', 'Drummond'), ('Raja', 'Welch'), ('Saarah', 'Stone')]\n",
    "Convert the said list of tuples to a list of strings:\n",
    "['Laiba Delacruz', 'Mali Stacey Drummond', 'Raja Welch', 'Saarah Stone']"
   ]
  },
  {
   "cell_type": "code",
   "execution_count": 141,
   "id": "f29ae36b",
   "metadata": {},
   "outputs": [
    {
     "name": "stdout",
     "output_type": "stream",
     "text": [
      "['red green', 'black white', 'orange pink']\n",
      "['Laiba Delacruz', 'Mali Stacey Drummond', 'Raja Welch', 'Saarah Stone']\n"
     ]
    }
   ],
   "source": [
    "l1 = [('red', 'green'), ('black', 'white'), ('orange', 'pink')]\n",
    "l2 = [('Laiba', 'Delacruz'), ('Mali', 'Stacey', 'Drummond'), ('Raja', 'Welch'), ('Saarah', 'Stone')]\n",
    "\n",
    "def fun(list1):\n",
    "    ls = []\n",
    "    for i in list1:\n",
    "        ls.append(\" \".join(i))\n",
    "    return ls\n",
    "\n",
    "print(fun(l1))\n",
    "print(fun(l2))"
   ]
  },
  {
   "cell_type": "markdown",
   "id": "fe99739e",
   "metadata": {},
   "source": [
    "# 97. convert a given decimal number to a binary list."
   ]
  },
  {
   "cell_type": "code",
   "execution_count": 151,
   "id": "a2679cdd",
   "metadata": {},
   "outputs": [
    {
     "name": "stdout",
     "output_type": "stream",
     "text": [
      "[1, 0, 0, 0]\n",
      "[1, 0, 0, 0, 0]\n",
      "[1, 1, 0, 0, 0]\n"
     ]
    }
   ],
   "source": [
    "def convert_bin(num):\n",
    "    ls = []\n",
    "    for i in bin(num)[2:]:\n",
    "        ls.append(int(i))\n",
    "    return ls\n",
    "\n",
    "print(convert_bin(8))\n",
    "print(convert_bin(16))\n",
    "print(convert_bin(24))"
   ]
  },
  {
   "cell_type": "markdown",
   "id": "2f54d63b",
   "metadata": {},
   "source": [
    "# 98. join adjacent numbers of a given list."
   ]
  },
  {
   "cell_type": "code",
   "execution_count": 160,
   "id": "18884810",
   "metadata": {},
   "outputs": [
    {
     "name": "stdout",
     "output_type": "stream",
     "text": [
      "['12', '34', '56', '78']\n"
     ]
    }
   ],
   "source": [
    "l = ['1', '2', '3', '4', '5', '6', '7', '8']\n",
    "\n",
    "ls = []\n",
    "for i in range(0,len(l)-1,2):\n",
    "    c = l[i]+l[i+1]\n",
    "    ls.append(c)\n",
    "print(ls)"
   ]
  },
  {
   "cell_type": "code",
   "execution_count": 161,
   "id": "027d6163",
   "metadata": {},
   "outputs": [
    {
     "name": "stdout",
     "output_type": "stream",
     "text": [
      "['12']\n"
     ]
    }
   ],
   "source": [
    "l1 = ['1','2','3']\n",
    "\n",
    "lr = []\n",
    "for i in range(0,len(l1)-1,2):\n",
    "    c = l[i]+l[i+1]\n",
    "    lr.append(c)\n",
    "print(lr)"
   ]
  },
  {
   "cell_type": "code",
   "execution_count": 162,
   "id": "d2733688",
   "metadata": {},
   "outputs": [
    {
     "name": "stdout",
     "output_type": "stream",
     "text": [
      "['12', '23', '34', '45', '56', '67', '78']\n"
     ]
    }
   ],
   "source": [
    "l = ['1', '2', '3', '4', '5', '6', '7', '8']\n",
    "\n",
    "ls = []\n",
    "for i in range(0,len(l)-1):\n",
    "    c = l[i]+l[i+1]\n",
    "    ls.append(c)\n",
    "print(ls)"
   ]
  },
  {
   "cell_type": "markdown",
   "id": "063b71ec",
   "metadata": {},
   "source": [
    "# 99. join adjacent words of a given string list.\n",
    "generate Bigrams/ Digram of words from a given list of strings"
   ]
  },
  {
   "cell_type": "code",
   "execution_count": 158,
   "id": "e0a2df73",
   "metadata": {},
   "outputs": [
    {
     "name": "stdout",
     "output_type": "stream",
     "text": [
      "[('Sum', 'all'), ('all', 'the'), ('the', 'items'), ('items', 'in'), ('in', 'a'), ('a', 'list'), ('Find', 'the'), ('the', 'second'), ('second', 'smallest'), ('smallest', 'number'), ('number', 'in'), ('in', 'a'), ('a', 'list')]\n"
     ]
    }
   ],
   "source": [
    "l = ['Sum all the items in a list', 'Find the second smallest number in a list']\n",
    "\n",
    "bg = []\n",
    "for t in l:\n",
    "    words = t.split()  \n",
    "    for i in range(len(words) - 1):\n",
    "        bg.append((words[i], words[i + 1])) \n",
    "print(bg)"
   ]
  },
  {
   "cell_type": "code",
   "execution_count": 159,
   "id": "0e281e9f",
   "metadata": {},
   "outputs": [
    {
     "name": "stdout",
     "output_type": "stream",
     "text": [
      "[('Sum', 'all'), ('the', 'items'), ('in', 'a'), ('Find', 'the'), ('second', 'smallest'), ('number', 'in'), ('a', 'list')]\n"
     ]
    }
   ],
   "source": [
    "# don't want repeated words in tuples\n",
    "l = ['Sum all the items in a list', 'Find the second smallest number in a list']\n",
    "\n",
    "bg = []\n",
    "for t in l:\n",
    "    words = t.split()  \n",
    "    for i in range(0,len(words) - 1,2):\n",
    "        bg.append((words[i], words[i + 1])) \n",
    "print(bg)"
   ]
  },
  {
   "cell_type": "markdown",
   "id": "a76fda13",
   "metadata": {},
   "source": [
    "# 100. add element to each element in list"
   ]
  },
  {
   "cell_type": "code",
   "execution_count": 235,
   "id": "dcb9fbd0",
   "metadata": {},
   "outputs": [
    {
     "name": "stdout",
     "output_type": "stream",
     "text": [
      "[6, 11, 12, 7, 8, 3, 8, 3, 6]\n"
     ]
    },
    {
     "data": {
      "text/plain": [
       "[6, 11, 12, 7, 8, 3, 8, 3, 6]"
      ]
     },
     "execution_count": 235,
     "metadata": {},
     "output_type": "execute_result"
    }
   ],
   "source": [
    "l = [3, 8, 9, 4, 5, 0, 5, 0, 3]\n",
    "\n",
    "ls = []\n",
    "for i in l:\n",
    "    ls.append(i+3)\n",
    "print(ls)\n",
    "\n",
    "[i+3 for i in l]"
   ]
  },
  {
   "cell_type": "code",
   "execution_count": 234,
   "id": "d61502cb",
   "metadata": {},
   "outputs": [
    {
     "name": "stdout",
     "output_type": "stream",
     "text": [
      "[3.71, 8.51, 10.41, 4.71, 5.51, 0.61, 5.51, 3.62, 0.51]\n"
     ]
    }
   ],
   "source": [
    "l1 =[3.2, 8, 9.9, 4.2, 5, 0.1, 5, 3.11, 0]\n",
    "\n",
    "ls = []\n",
    "for i in l1:\n",
    "    ls.append(i+0.51)\n",
    "print(ls)"
   ]
  },
  {
   "cell_type": "markdown",
   "id": "388eb51c",
   "metadata": {},
   "source": [
    "# 101.merge some list items in a given list using the index value.\n",
    "Original lists:\n",
    "['a', 'b', 'c', 'd', 'e', 'f', 'g']\n",
    "Merge items from 2 to 4 in the said List:\n",
    "['a', 'b', 'cd', 'e', 'f', 'g']\n",
    "Merge items from 3 to 7 in the said List:\n",
    "['a', 'b', 'c', 'defg']\n",
    "Click me to see the sample solution"
   ]
  },
  {
   "cell_type": "code",
   "execution_count": 7,
   "id": "853fa3bb",
   "metadata": {},
   "outputs": [
    {
     "name": "stdout",
     "output_type": "stream",
     "text": [
      "['a', 'b', 'cd', 'e', 'f', 'g']\n"
     ]
    }
   ],
   "source": [
    "l = ['a', 'b', 'c', 'd', 'e', 'f', 'g']\n",
    "\n",
    "def fun(lst,start,end):\n",
    "    lst[start:end]=[''.join(lst[start:end])]\n",
    "    return lst\n",
    "print(fun(l,2,4))"
   ]
  },
  {
   "cell_type": "code",
   "execution_count": 8,
   "id": "747dbd36",
   "metadata": {},
   "outputs": [
    {
     "name": "stdout",
     "output_type": "stream",
     "text": [
      "['a', 'b', 'c', 'defg']\n"
     ]
    }
   ],
   "source": [
    "l = ['a', 'b', 'c', 'd', 'e', 'f', 'g']\n",
    "\n",
    "def fun(lst,start,end):\n",
    "    lst[start:end]=[''.join(lst[start:end])]\n",
    "    return lst\n",
    "print(fun(l,3,7))"
   ]
  },
  {
   "cell_type": "markdown",
   "id": "b62138d1",
   "metadata": {},
   "source": [
    "# 102. remove the N number of elements from a given list"
   ]
  },
  {
   "cell_type": "code",
   "execution_count": 18,
   "id": "cc6916dc",
   "metadata": {},
   "outputs": [
    {
     "name": "stdout",
     "output_type": "stream",
     "text": [
      "[5, 6, 7, 8, 9]\n"
     ]
    }
   ],
   "source": [
    "def remove_first(lst, num):\n",
    "    result = lst[num:]\n",
    "    return result \n",
    "l = [0,1,2,3,4,5,6,7,8,9]\n",
    "print(remove_first(l, 5))"
   ]
  },
  {
   "cell_type": "code",
   "execution_count": 27,
   "id": "4954c3d9",
   "metadata": {},
   "outputs": [
    {
     "name": "stdout",
     "output_type": "stream",
     "text": [
      "[3, 4, 5, 6, 7, 8, 9]\n"
     ]
    }
   ],
   "source": [
    "def remove_first(lst, num):\n",
    "    ls = []\n",
    "    for i, item in enumerate(lst):\n",
    "        if i < num:\n",
    "            continue\n",
    "        ls.append(item)\n",
    "    return ls\n",
    "l = [0,1,2,3,4,5,6,7,8,9]\n",
    "print(remove_first(l,3))"
   ]
  },
  {
   "cell_type": "code",
   "execution_count": 20,
   "id": "41065098",
   "metadata": {},
   "outputs": [
    {
     "name": "stdout",
     "output_type": "stream",
     "text": [
      "[0, 1, 2, 3, 4, 5, 6, 7, 8, 9]\n",
      "[0, 1, 2, 3, 4]\n"
     ]
    }
   ],
   "source": [
    "def remove_last(lst, num):\n",
    "    result = lst[:-num] #lst[:len(lst)-num]\n",
    "    return result \n",
    "l = [0,1,2,3,4,5,6,7,8,9]\n",
    "print(l)\n",
    "print(remove_last(l, 5))"
   ]
  },
  {
   "cell_type": "code",
   "execution_count": 36,
   "id": "bee7f918",
   "metadata": {},
   "outputs": [
    {
     "name": "stdout",
     "output_type": "stream",
     "text": [
      "[0, 1, 2, 3, 4, 5]\n"
     ]
    }
   ],
   "source": [
    "def remove_last(lst, num):\n",
    "    if num >= len(lst):\n",
    "        return []\n",
    "    return lst[:-num]\n",
    "l = [0, 1, 2, 3, 4, 5, 6, 7, 8, 9]\n",
    "print(remove_last(l, 4))"
   ]
  },
  {
   "cell_type": "code",
   "execution_count": 23,
   "id": "532edc0f",
   "metadata": {},
   "outputs": [
    {
     "name": "stdout",
     "output_type": "stream",
     "text": [
      "[0, 1, 2, 3, 4]\n"
     ]
    }
   ],
   "source": [
    "def remove_last(lst, num):\n",
    "    result = []\n",
    "    for i in range(len(lst) - num):\n",
    "        result.append(lst[i])\n",
    "    return result\n",
    "\n",
    "l = [0, 1, 2, 3, 4, 5, 6, 7, 8, 9]\n",
    "print(remove_last(l, 5))"
   ]
  },
  {
   "cell_type": "code",
   "execution_count": 12,
   "id": "396dd9f6",
   "metadata": {},
   "outputs": [
    {
     "name": "stdout",
     "output_type": "stream",
     "text": [
      "[0, 1, 2, 3, 4, 5, 6, 7, 8, 9]\n",
      "[0, 1, 2, 8, 9]\n"
     ]
    }
   ],
   "source": [
    "# remove 3 to 7 numbers\n",
    "def remove_bw(lst, start, end):\n",
    "    result = lst[:start] + lst[end + 1:]\n",
    "    return result\n",
    "l = [0,1,2,3,4,5,6,7,8,9]\n",
    "print(l)\n",
    "print(remove_bw(l,3,7))"
   ]
  },
  {
   "cell_type": "code",
   "execution_count": 21,
   "id": "984f1163",
   "metadata": {},
   "outputs": [
    {
     "name": "stdout",
     "output_type": "stream",
     "text": [
      "[0, 1, 2, 3, 4, 5, 6, 7, 8, 9]\n",
      "[0, 1, 2, 8, 9]\n"
     ]
    }
   ],
   "source": [
    "def remove_bw(lst, start, end):\n",
    "    ls = []\n",
    "    for index, item in enumerate(lst):\n",
    "        if start <= index <= end:\n",
    "            continue  # Skip elements between start and end\n",
    "        ls.append(item)\n",
    "    return ls\n",
    "l = [0,1,2,3,4,5,6,7,8,9]\n",
    "print(l)\n",
    "print(remove_bw(l,3,7))"
   ]
  },
  {
   "cell_type": "markdown",
   "id": "bb5d7d45",
   "metadata": {},
   "source": [
    "# 103. Write a Python program to concatenate element-wise three given lists.\n",
    "Original lists:\n",
    "['0', '1', '2', '3', '4']\n",
    "['red', 'green', 'black', 'blue', 'white']\n",
    "['100', '200', '300', '400', '500']\n",
    "Concatenate element-wise three said lists:\n",
    "['0red100', '1green200', '2black300', '3blue400', '4white500']"
   ]
  },
  {
   "cell_type": "code",
   "execution_count": 37,
   "id": "1ed669de",
   "metadata": {},
   "outputs": [
    {
     "name": "stdout",
     "output_type": "stream",
     "text": [
      "['0red100', '1green200', '2black300', '3blue400', '4white500']\n"
     ]
    }
   ],
   "source": [
    "l1= ['0', '1', '2', '3', '4']\n",
    "l2 = ['red', 'green', 'black', 'blue', 'white']\n",
    "l3 = ['100', '200', '300', '400', '500']\n",
    "ls = []\n",
    "for i in range(len(l1)):\n",
    "    item = l1[i] + l2[i] + l3[i]\n",
    "    ls.append(item)\n",
    "print(ls)"
   ]
  },
  {
   "cell_type": "code",
   "execution_count": 39,
   "id": "97fac28f",
   "metadata": {},
   "outputs": [
    {
     "data": {
      "text/plain": [
       "['0red100', '1green200', '2black300', '3blue400', '4white500']"
      ]
     },
     "execution_count": 39,
     "metadata": {},
     "output_type": "execute_result"
    }
   ],
   "source": [
    "[i + j + k for i, j, k in zip(l1, l2, l3)]"
   ]
  },
  {
   "cell_type": "markdown",
   "id": "a4aba1a5",
   "metadata": {},
   "source": [
    "# 104. convert a given list of strings and characters to a single list of characters.\n",
    "1.  Original list:\n",
    "    ['red', 'white', 'a', 'b', 'black', 'f']\n",
    "    Convert the said list of strings and characters to a single list of characters:\n",
    "    ['r', 'e', 'd', 'w', 'h', 'i', 't', 'e', 'a', 'b', 'b', 'l', 'a', 'c', 'k', 'f']\n",
    "  \n",
    "2. convert a given list of strings into a list of lists.\n",
    "    Original list of strings:\n",
    "    ['Red', 'Maroon', 'Yellow', 'Olive']\n",
    "    Convert the said list of strings into list of lists:\n",
    "    [['R', 'e', 'd'], ['M', 'a', 'r', 'o', 'o', 'n'], ['Y', 'e', 'l', 'l', 'o', 'w'], ['O', 'l', 'i', 'v', 'e']]"
   ]
  },
  {
   "cell_type": "code",
   "execution_count": 43,
   "id": "038a5d2c",
   "metadata": {},
   "outputs": [
    {
     "name": "stdout",
     "output_type": "stream",
     "text": [
      "['r', 'e', 'd', 'w', 'h', 'i', 't', 'e', 'a', 'b', 'b', 'l', 'a', 'c', 'k', 'f']\n"
     ]
    }
   ],
   "source": [
    "# 1. words split into char in list\n",
    "l = ['red', 'white', 'a', 'b', 'black', 'f']\n",
    "\n",
    "ls = []\n",
    "for i in l:\n",
    "    for j in i:\n",
    "        ls.append(j)\n",
    "print(ls)"
   ]
  },
  {
   "cell_type": "code",
   "execution_count": 57,
   "id": "eee14514",
   "metadata": {},
   "outputs": [
    {
     "name": "stdout",
     "output_type": "stream",
     "text": [
      "[['R', 'e', 'd'], ['M', 'a', 'r', 'o', 'o', 'n'], ['Y', 'e', 'l', 'l', 'o', 'w'], ['O', 'l', 'i', 'v', 'e']]\n"
     ]
    }
   ],
   "source": [
    "# 2. words split in char in list of list\n",
    "l = ['Red', 'Maroon', 'Yellow', 'Olive']\n",
    "\n",
    "lrt = []\n",
    "for s in l:\n",
    "    ls = []\n",
    "    for c in s:\n",
    "        ls.append(c)\n",
    "    lrt.append(ls)\n",
    "print(lrt)"
   ]
  },
  {
   "cell_type": "code",
   "execution_count": 56,
   "id": "c6d5693b",
   "metadata": {},
   "outputs": [
    {
     "data": {
      "text/plain": [
       "[['R', 'e', 'd'],\n",
       " ['M', 'a', 'r', 'o', 'o', 'n'],\n",
       " ['Y', 'e', 'l', 'l', 'o', 'w'],\n",
       " ['O', 'l', 'i', 'v', 'e']]"
      ]
     },
     "execution_count": 56,
     "metadata": {},
     "output_type": "execute_result"
    }
   ],
   "source": [
    "[[j for j in i] for i in l]"
   ]
  },
  {
   "cell_type": "markdown",
   "id": "ba2491e3",
   "metadata": {},
   "source": [
    "# 105. get the index of the first element that is greater than a specified element.\n",
    "Original list:\n",
    "[12, 45, 23, 67, 78, 90, 100, 76, 38, 62, 73, 29, 83]\n",
    "Index of the first element which is greater than 73 in the said list:\n",
    "4\n",
    "Index of the first element which is greater than 21 in the said list:\n",
    "1\n",
    "Index of the first element which is greater than 80 in the said list:\n",
    "5\n",
    "Index of the first element which is greater than 55 in the said list:\n",
    "3"
   ]
  },
  {
   "cell_type": "code",
   "execution_count": 62,
   "id": "908f0784",
   "metadata": {},
   "outputs": [
    {
     "name": "stdout",
     "output_type": "stream",
     "text": [
      "4\n",
      "1\n",
      "5\n",
      "3\n"
     ]
    }
   ],
   "source": [
    "def find_first_greater_element_index(lst, value):\n",
    "    for index, element in enumerate(lst):\n",
    "        if element > value:\n",
    "            return index\n",
    "    return None\n",
    "\n",
    "l = [12, 45, 23, 67, 78, 90, 100, 76, 38, 62, 73, 29, 83]\n",
    "print(find_first_greater_element_index(l,73))\n",
    "print(find_first_greater_element_index(l,21))\n",
    "print(find_first_greater_element_index(l,80))\n",
    "print(find_first_greater_element_index(l,55))"
   ]
  },
  {
   "cell_type": "markdown",
   "id": "19de3699",
   "metadata": {},
   "source": [
    "# 106. find the first, second, third and last occurrence of a item in a list"
   ]
  },
  {
   "cell_type": "code",
   "execution_count": 64,
   "id": "72ab15a4",
   "metadata": {},
   "outputs": [
    {
     "name": "stdout",
     "output_type": "stream",
     "text": [
      "2\n",
      "15\n",
      "8\n",
      "12\n"
     ]
    }
   ],
   "source": [
    "def first_occurrence(lst, ch):\n",
    "    return ''.join(lst).index(ch)\n",
    "\n",
    "chars = ['s','d','f','s','d','f','s','f','k','o','p','i','w','e','k','c']\n",
    "print(first_occurrence(chars,'f'))\n",
    "print(first_occurrence(chars,'c'))\n",
    "print(first_occurrence(chars,'k'))\n",
    "print(first_occurrence(chars,'w'))"
   ]
  },
  {
   "cell_type": "code",
   "execution_count": 77,
   "id": "a7b4fbff",
   "metadata": {},
   "outputs": [
    {
     "name": "stdout",
     "output_type": "stream",
     "text": [
      "5\n",
      "2nd Occurance Not Found\n",
      "14\n",
      "2nd Occurance Not Found\n"
     ]
    }
   ],
   "source": [
    "def second_occurrence(lst, ch):\n",
    "    try:\n",
    "        first_index = lst.index(ch)\n",
    "        return lst.index(ch, first_index + 1)\n",
    "    except ValueError:\n",
    "        return \"2nd Occurance Not Found\"\n",
    "\n",
    "chars = ['s','d','f','s','d','f','s','f','k','o','p','i','w','e','k','c']\n",
    "print(second_occurrence(chars, 'f'))  \n",
    "print(second_occurrence(chars, 'c'))  \n",
    "print(second_occurrence(chars, 'k'))  \n",
    "print(second_occurrence(chars, 'w'))  "
   ]
  },
  {
   "cell_type": "code",
   "execution_count": 63,
   "id": "027a7b95",
   "metadata": {},
   "outputs": [
    {
     "name": "stdout",
     "output_type": "stream",
     "text": [
      "7\n",
      "15\n",
      "14\n",
      "12\n"
     ]
    }
   ],
   "source": [
    "def last_occurrence(lst, ch):\n",
    "    return ''.join(lst).rindex(ch)\n",
    "\n",
    "chars = ['s','d','f','s','d','f','s','f','k','o','p','i','w','e','k','c']\n",
    "print(last_occurrence(chars,'f'))\n",
    "print(last_occurrence(chars,'c'))\n",
    "print(last_occurrence(chars,'k'))\n",
    "print(last_occurrence(chars,'w'))"
   ]
  },
  {
   "cell_type": "code",
   "execution_count": 89,
   "id": "39f49a0a",
   "metadata": {},
   "outputs": [
    {
     "name": "stdout",
     "output_type": "stream",
     "text": [
      "7\n",
      "Not Found\n",
      "Not Found\n"
     ]
    }
   ],
   "source": [
    "def nth_occurrence(lst, ch, n):\n",
    "    indices = [i for i, x in enumerate(lst) if x == ch]\n",
    "    if n <= len(indices):\n",
    "        return indices[n-1]\n",
    "    else:\n",
    "        return \"Not Found\"  \n",
    "\n",
    "chars = ['s','d','f','s','d','f','s','f','k','o','p','i','w','e','k','c']\n",
    "print(nth_occurrence(chars, 'f', 3))  \n",
    "print(nth_occurrence(chars, 'c', 3))  \n",
    "print(nth_occurrence(chars, 'k', 3)) "
   ]
  },
  {
   "cell_type": "markdown",
   "id": "ce43cab3",
   "metadata": {},
   "source": [
    "# 107.  append the same value/a list multiple times to a list/list-of-lists.\n",
    "Add a value(7), 5 times, to a list:\n",
    "['7', '7', '7', '7', '7']\n",
    "Add 5, 6 times, to a list:\n",
    "[1, 2, 3, 4, 5, 5, 5, 5, 5, 5]\n",
    "Add a list, 4 times, to a list of lists:\n",
    "[[1, 2, 5], [1, 2, 5], [1, 2, 5], [1, 2, 5]]\n",
    "Add a list, 3 times, to a list of lists:\n",
    "[[5, 6, 7], [1, 2, 5], [1, 2, 5], [1, 2, 5], [1, 2, 5]]"
   ]
  },
  {
   "cell_type": "code",
   "execution_count": 95,
   "id": "0e2c8d92",
   "metadata": {},
   "outputs": [
    {
     "name": "stdout",
     "output_type": "stream",
     "text": [
      "['7', '7', '7', '7', '7']\n",
      "[['7', '7', '7', '7', '7']]\n",
      "['7', '7', '7', '7', '7']\n"
     ]
    }
   ],
   "source": [
    "# Add a value(7), 5 times, to a list:\n",
    "ls = []\n",
    "ls = ls + 5*['7']\n",
    "print(ls)\n",
    "\n",
    "l = []\n",
    "num = 5*['7']\n",
    "l.append(num)\n",
    "print(l)\n",
    "\n",
    "l = []\n",
    "num = 5*['7']\n",
    "l.extend(num)\n",
    "print(l)"
   ]
  },
  {
   "cell_type": "code",
   "execution_count": 97,
   "id": "1c730015",
   "metadata": {},
   "outputs": [
    {
     "name": "stdout",
     "output_type": "stream",
     "text": [
      "[1, 2, 3, 4, 5, 5, 5, 5, 5, 5]\n",
      "[1, 2, 3, 4, 5, 5, 5, 5, 5, 5]\n"
     ]
    }
   ],
   "source": [
    "# Add 5, 6 times, to a list:\n",
    "l = [1,2,3,4]\n",
    "num = 6*[5]\n",
    "l.extend(num)\n",
    "print(l)\n",
    "\n",
    "l = [1,2,3,4]\n",
    "l = l + 6*[5]\n",
    "print(l)"
   ]
  },
  {
   "cell_type": "code",
   "execution_count": 105,
   "id": "314a91fa",
   "metadata": {},
   "outputs": [
    {
     "name": "stdout",
     "output_type": "stream",
     "text": [
      "[[1, 2, 5], [1, 2, 5], [1, 2, 5], [1, 2, 5]]\n",
      "[[1, 2, 5], [1, 2, 5], [1, 2, 5], [1, 2, 5]]\n",
      "[1, 2, 5, 1, 2, 5, 1, 2, 5, 1, 2, 5]\n",
      "[[5, 6, 7], [1, 2, 5], [1, 2, 5], [1, 2, 5], [1, 2, 5]]\n"
     ]
    }
   ],
   "source": [
    "# Add a list, 4 times, to a list of lists:\n",
    "l = []\n",
    "num = 4*[[1,2,5]]\n",
    "l.extend(num)\n",
    "print(l)\n",
    "\n",
    "l1 = []\n",
    "l1 += 4 * [[1,2,5]]\n",
    "print(l1)\n",
    "\n",
    "l = []\n",
    "num = 4*[1,2,5]\n",
    "l.extend(num)\n",
    "print(l)\n",
    "\n",
    "nums1 = [[5,6,7]]\n",
    "nums1 += 4 * [[1,2,5]]\n",
    "print(nums1)"
   ]
  },
  {
   "cell_type": "markdown",
   "id": "4f5025ef",
   "metadata": {},
   "source": [
    "# 107.  join two given list of lists of the same length, element wise.\n",
    "Original lists:\n",
    "[[10, 20], [30, 40], [50, 60], [30, 20, 80]]\n",
    "[[61], [12, 14, 15], [12, 13, 19, 20], [12]]\n",
    "Join the said two lists element wise:\n",
    "[[10, 20, 61], [30, 40, 12, 14, 15], [50, 60, 12, 13, 19, 20], [30, 20, 80, 12]]\n",
    "Original lists:\n",
    "[['a', 'b'], ['b', 'c', 'd'], ['e', 'f']]\n",
    "[['p', 'q'], ['p', 's', 't'], ['u', 'v', 'w']]\n",
    "Join the said two lists element wise:\n",
    "[['a', 'b', 'p', 'q'], ['b', 'c', 'd', 'p', 's', 't'], ['e', 'f', 'u', 'v', 'w']]"
   ]
  },
  {
   "cell_type": "code",
   "execution_count": 106,
   "id": "da206bdb",
   "metadata": {},
   "outputs": [
    {
     "data": {
      "text/plain": [
       "[[10, 20, 61],\n",
       " [30, 40, 12, 14, 15],\n",
       " [50, 60, 12, 13, 19, 20],\n",
       " [30, 20, 80, 12]]"
      ]
     },
     "execution_count": 106,
     "metadata": {},
     "output_type": "execute_result"
    }
   ],
   "source": [
    "l1 = [[10, 20], [30, 40], [50, 60], [30, 20, 80]]\n",
    "l2 = [[61], [12, 14, 15], [12, 13, 19, 20], [12]]\n",
    "\n",
    "[x + y for x, y in zip(l1, l2)]"
   ]
  },
  {
   "cell_type": "code",
   "execution_count": 107,
   "id": "3390704c",
   "metadata": {},
   "outputs": [
    {
     "data": {
      "text/plain": [
       "[['a', 'b', 'p', 'q'],\n",
       " ['b', 'c', 'd', 'p', 's', 't'],\n",
       " ['e', 'f', 'u', 'v', 'w']]"
      ]
     },
     "execution_count": 107,
     "metadata": {},
     "output_type": "execute_result"
    }
   ],
   "source": [
    "l1 = [['a', 'b'], ['b', 'c', 'd'], ['e', 'f']]\n",
    "l2 = [['p', 'q'], ['p', 's', 't'], ['u', 'v', 'w']]\n",
    "\n",
    "[x + y for x, y in zip(l1, l2)]"
   ]
  },
  {
   "cell_type": "markdown",
   "id": "65dd2072",
   "metadata": {},
   "source": [
    "# 108. combine two sorted lists using the heapq module."
   ]
  },
  {
   "cell_type": "code",
   "execution_count": 108,
   "id": "8cb77dc2",
   "metadata": {},
   "outputs": [
    {
     "name": "stdout",
     "output_type": "stream",
     "text": [
      "[0, 1, 2, 3, 4, 5, 6, 7, 8, 9, 10, 11]\n"
     ]
    }
   ],
   "source": [
    "from heapq import merge\n",
    "\n",
    "nums1 = [1, 3, 5, 7, 9, 11]\n",
    "nums2 = [0, 2, 4, 6, 8, 10]\n",
    "\n",
    "print(list(merge(nums1, nums2)))"
   ]
  },
  {
   "cell_type": "markdown",
   "id": "5c01377b",
   "metadata": {},
   "source": [
    "# 109. combine two lists into another list randomly."
   ]
  },
  {
   "cell_type": "code",
   "execution_count": 110,
   "id": "1e115458",
   "metadata": {},
   "outputs": [
    {
     "name": "stdout",
     "output_type": "stream",
     "text": [
      "Interleave two given lists into another list randomly:\n",
      "[2, 7, 9, 9, 4, 1, 4, 8, 7, 3, 3, 8, 3, 8]\n"
     ]
    }
   ],
   "source": [
    "import random\n",
    "\n",
    "list1 = [1, 2, 7, 8, 3, 7]\n",
    "list2 = [4, 3, 8, 9, 4, 3, 8, 9]\n",
    "\n",
    "combined_list = list1 + list2\n",
    "random.shuffle(combined_list)\n",
    "\n",
    "print(\"Interleave two given lists into another list randomly:\")\n",
    "print(combined_list)"
   ]
  },
  {
   "cell_type": "markdown",
   "id": "ebd27ea6",
   "metadata": {},
   "source": [
    "# 110. mixed list of integers and strings.Numbers must be sorted before strings.\n",
    "Original list:\n",
    "[19, 'red', 12, 'green', 'blue', 10, 'white', 'green', 1]\n",
    "Sort the said mixed list of integers and strings:\n",
    "[1, 10, 12, 19, 'blue', 'green', 'green', 'red', 'white']"
   ]
  },
  {
   "cell_type": "code",
   "execution_count": 119,
   "id": "600ca297",
   "metadata": {},
   "outputs": [
    {
     "name": "stdout",
     "output_type": "stream",
     "text": [
      "[1, 10, 12, 19, 'blue', 'green', 'green', 'red', 'white']\n"
     ]
    }
   ],
   "source": [
    "l = [19, 'red', 12, 'green', 'blue', 10, 'white', 'green', 1]\n",
    "\n",
    "numbers = [x for x in l if isinstance(x, int)]\n",
    "strings = [x for x in l if isinstance(x, str)]\n",
    "numbers.sort()\n",
    "strings.sort()\n",
    "sorted_mixed_list = numbers + strings\n",
    "print(sorted_mixed_list)"
   ]
  },
  {
   "cell_type": "code",
   "execution_count": 120,
   "id": "1099368f",
   "metadata": {},
   "outputs": [
    {
     "name": "stdout",
     "output_type": "stream",
     "text": [
      "[1, 10, 12, 19, 'blue', 'green', 'green', 'red', 'white']\n"
     ]
    }
   ],
   "source": [
    "l = [19, 'red', 12, 'green', 'blue', 10, 'white', 'green', 1]\n",
    "\n",
    "numbers = sorted([x for x in l if isinstance(x, int)])\n",
    "strings = sorted([x for x in l if isinstance(x, str)])\n",
    "print(numbers+strings)"
   ]
  },
  {
   "cell_type": "code",
   "execution_count": 122,
   "id": "3e692be6",
   "metadata": {},
   "outputs": [
    {
     "name": "stdout",
     "output_type": "stream",
     "text": [
      "[1, 10, 12, 19, 'blue', 'green', 'green', 'red', 'white']\n"
     ]
    }
   ],
   "source": [
    "l = [19, 'red', 12, 'green', 'blue', 10, 'white', 'green', 1]\n",
    "\n",
    "numbers = sorted([x for x in l if type(x) is int])\n",
    "strings = sorted([x for x in l if type(x) is str])\n",
    "print(numbers+strings)"
   ]
  },
  {
   "cell_type": "markdown",
   "id": "2d750a37",
   "metadata": {},
   "source": [
    "# 111. reverse a list in a specific part"
   ]
  },
  {
   "cell_type": "code",
   "execution_count": 123,
   "id": "3bd6adfb",
   "metadata": {},
   "outputs": [
    {
     "name": "stdout",
     "output_type": "stream",
     "text": [
      "[3, 2, 1, 4, 5, 6, 7]\n"
     ]
    }
   ],
   "source": [
    "def reverse_list_at_location(lst, location):\n",
    "    if location < 0 or location >= len(lst):\n",
    "        return \"Invalid location\"\n",
    "    \n",
    "    part1 = lst[:location]\n",
    "    part2 = lst[location:]\n",
    "    part1.reverse()\n",
    "    reversed_list = part1 + part2    \n",
    "    return reversed_list\n",
    "\n",
    "original_list = [1, 2, 3, 4, 5, 6, 7]\n",
    "reversed_result = reverse_list_at_location(original_list, 3)\n",
    "print(reversed_result)"
   ]
  },
  {
   "cell_type": "code",
   "execution_count": null,
   "id": "b569085e",
   "metadata": {},
   "outputs": [],
   "source": []
  },
  {
   "cell_type": "code",
   "execution_count": null,
   "id": "d4f1c024",
   "metadata": {},
   "outputs": [],
   "source": []
  },
  {
   "cell_type": "code",
   "execution_count": null,
   "id": "69bfab38",
   "metadata": {},
   "outputs": [],
   "source": []
  }
 ],
 "metadata": {
  "kernelspec": {
   "display_name": "Python 3 (ipykernel)",
   "language": "python",
   "name": "python3"
  },
  "language_info": {
   "codemirror_mode": {
    "name": "ipython",
    "version": 3
   },
   "file_extension": ".py",
   "mimetype": "text/x-python",
   "name": "python",
   "nbconvert_exporter": "python",
   "pygments_lexer": "ipython3",
   "version": "3.11.5"
  }
 },
 "nbformat": 4,
 "nbformat_minor": 5
}
