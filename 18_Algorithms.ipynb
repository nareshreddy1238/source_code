{
 "cells": [
  {
   "cell_type": "markdown",
   "id": "f966a813",
   "metadata": {},
   "source": [
    "# 1. Selection sort algorithm\n",
    "in place comparison based on algorithm"
   ]
  },
  {
   "cell_type": "code",
   "execution_count": 5,
   "id": "27ed4c84-8b7c-4fcf-8894-13effbfead4c",
   "metadata": {},
   "outputs": [
    {
     "name": "stdout",
     "output_type": "stream",
     "text": [
      "[0, 6, 7, 23, 32, 34, 56]\n"
     ]
    }
   ],
   "source": [
    "# non-duplicate values ASC order\n",
    "l = [56,6,34,32,23,7,0]\n",
    "\n",
    "for i in range(len(l)):\n",
    "    min_val = min(l[i:])\n",
    "    min_ind = l.index(min_val)\n",
    "    l[i],l[min_ind] = l[min_ind],l[i]\n",
    "print(l)"
   ]
  },
  {
   "cell_type": "code",
   "execution_count": 13,
   "id": "59dabc63-405b-4968-95ed-855932aa4606",
   "metadata": {},
   "outputs": [
    {
     "name": "stdout",
     "output_type": "stream",
     "text": [
      "[56, 34, 32, 23, 7, 6, 0]\n"
     ]
    }
   ],
   "source": [
    "# non-duplicate values DESC order\n",
    "l = [56,6,34,32,23,7,0]\n",
    "\n",
    "for i in range(len(l)):\n",
    "    max_val = max(l[i:])\n",
    "    max_ind = l.index(max_val)\n",
    "    l[i],l[max_ind] = l[max_ind],l[i]\n",
    "print(l)"
   ]
  },
  {
   "cell_type": "code",
   "execution_count": 12,
   "id": "07332d42-5200-4f49-90e7-c90787f1053a",
   "metadata": {},
   "outputs": [
    {
     "name": "stdout",
     "output_type": "stream",
     "text": [
      "[0, 6, 6, 6, 7, 23, 32, 32, 32, 34, 56]\n"
     ]
    }
   ],
   "source": [
    "# duplicate values \n",
    "l = [56,6,34,32,6,32,23,7,6,32,0]\n",
    "\n",
    "for i in range(len(l)):\n",
    "    min_val = min(l[i:])\n",
    "    min_ind = l.index(min_val,i)\n",
    "    l[i],l[min_ind] = l[min_ind],l[i]\n",
    "print(l)"
   ]
  },
  {
   "cell_type": "markdown",
   "id": "bcd634c3",
   "metadata": {},
   "source": [
    "# 2. Bubble sort "
   ]
  },
  {
   "cell_type": "code",
   "execution_count": 1,
   "id": "853d7ac0-46ac-47ce-9afb-e1a14a48d79e",
   "metadata": {},
   "outputs": [
    {
     "name": "stdout",
     "output_type": "stream",
     "text": [
      "Sorted List: [0, 4, 5, 10, 23]\n"
     ]
    }
   ],
   "source": [
    "# asc order\n",
    "l = [10,23,5,4,0]\n",
    "\n",
    "for j in range(len(l)-1):\n",
    "    for i in range(len(l)-1):\n",
    "        if l[i] > l[i+1]:\n",
    "            l[i],l[i+1] = l[i+1],l[i]\n",
    "print(\"Sorted List:\", l)"
   ]
  },
  {
   "cell_type": "code",
   "execution_count": 2,
   "id": "d4e64dac-2370-4696-8108-cca5becfc672",
   "metadata": {},
   "outputs": [
    {
     "name": "stdout",
     "output_type": "stream",
     "text": [
      "Sorted List: [23, 10, 5, 4, 0]\n"
     ]
    }
   ],
   "source": [
    "## Desc order\n",
    "l = [10,23,5,4,0]\n",
    "\n",
    "for j in range(len(l)-1):\n",
    "    for i in range(len(l)-1):\n",
    "        if l[i] < l[i+1]:\n",
    "            l[i],l[i+1] = l[i+1],l[i]\n",
    "print(\"Sorted List:\", l)"
   ]
  },
  {
   "cell_type": "code",
   "execution_count": 7,
   "id": "8dc7c295",
   "metadata": {},
   "outputs": [
    {
     "name": "stdout",
     "output_type": "stream",
     "text": [
      "List range:6\n",
      "Enter values:\n",
      "45\n",
      "34\n",
      "56\n",
      "21\n",
      "34\n",
      "12\n",
      "unsorted list: [45, 34, 56, 21, 34, 12]\n",
      "[34, 45, 56, 21, 34, 12]\n",
      "[34, 45, 56, 21, 34, 12]\n",
      "[34, 45, 21, 56, 34, 12]\n",
      "[34, 45, 21, 34, 56, 12]\n",
      "[34, 45, 21, 34, 12, 56]\n",
      "\n",
      "[34, 45, 21, 34, 12, 56]\n",
      "[34, 21, 45, 34, 12, 56]\n",
      "[34, 21, 34, 45, 12, 56]\n",
      "[34, 21, 34, 12, 45, 56]\n",
      "\n",
      "[21, 34, 34, 12, 45, 56]\n",
      "[21, 34, 34, 12, 45, 56]\n",
      "[21, 34, 12, 34, 45, 56]\n",
      "\n",
      "[21, 34, 12, 34, 45, 56]\n",
      "[21, 12, 34, 34, 45, 56]\n",
      "\n",
      "[12, 21, 34, 34, 45, 56]\n",
      "\n",
      "Sorted List: [12, 21, 34, 34, 45, 56]\n"
     ]
    }
   ],
   "source": [
    "## dynamically give list values & i want print all steps\n",
    "l = []\n",
    "n = int(input(\"List range:\"))\n",
    "print(\"Enter values:\")\n",
    "for k in range(n):\n",
    "    l.append(int(input()))\n",
    "print(\"unsorted list:\",l)\n",
    "\n",
    "for j in range(len(l)-1,0,-1):\n",
    "    for i in range(j):\n",
    "        if l[i] > l[i+1]:\n",
    "            l[i],l[i+1] = l[i+1],l[i]\n",
    "            print(l)\n",
    "        else:\n",
    "            print(l)\n",
    "    print()\n",
    "print(\"Sorted List:\", l)"
   ]
  },
  {
   "cell_type": "markdown",
   "id": "60741c9f",
   "metadata": {},
   "source": [
    "# 3. Quick Sort"
   ]
  },
  {
   "cell_type": "code",
   "execution_count": 8,
   "id": "efebc636",
   "metadata": {},
   "outputs": [
    {
     "name": "stdout",
     "output_type": "stream",
     "text": [
      "[1, 1, 2, 3, 6, 8, 10]\n"
     ]
    }
   ],
   "source": [
    "def quicksort(arr):\n",
    "    if len(arr) <= 1:\n",
    "        return arr\n",
    "    pivot = arr[len(arr) // 2]  # Choose the middle element as the pivot\n",
    "    left = [x for x in arr if x < pivot]\n",
    "    middle = [x for x in arr if x == pivot]\n",
    "    right = [x for x in arr if x > pivot]\n",
    "    return quicksort(left) + middle + quicksort(right)\n",
    "# Example usage:\n",
    "my_list = [3, 6, 8, 10, 1, 2, 1]\n",
    "sorted_list = quicksort(my_list)\n",
    "print(sorted_list)"
   ]
  },
  {
   "cell_type": "code",
   "execution_count": 9,
   "id": "ed391620",
   "metadata": {},
   "outputs": [
    {
     "name": "stdout",
     "output_type": "stream",
     "text": [
      "[10, 8, 6, 3, 2, 1, 1]\n"
     ]
    }
   ],
   "source": [
    "def quicksort_descending(arr):\n",
    "    pivot = arr[len(arr) // 2]  # Choose the middle element as the pivot\n",
    "    left = [x for x in arr if x > pivot]  # Change '<' to '>'\n",
    "    middle = [x for x in arr if x == pivot]\n",
    "    right = [x for x in arr if x < pivot]  # Change '>' to '<'\n",
    "    return quicksort_descending(left) + middle + quicksort_descending(right)\n",
    "my_list = [3, 6, 8, 10, 1, 2, 1]\n",
    "sorted_list_descending = quicksort_descending(my_list)\n",
    "print(sorted_list_descending)"
   ]
  },
  {
   "cell_type": "markdown",
   "id": "ac9824f3",
   "metadata": {},
   "source": [
    "# 4. Merge Sort:"
   ]
  },
  {
   "cell_type": "code",
   "execution_count": 10,
   "id": "e0f7712d",
   "metadata": {},
   "outputs": [
    {
     "name": "stdout",
     "output_type": "stream",
     "text": [
      "[1, 1, 2, 3, 6, 8, 10]\n"
     ]
    }
   ],
   "source": [
    "def merge_sort(arr):\n",
    "    if len(arr) <= 1:\n",
    "        return arr\n",
    "    # Split the input array into two halves\n",
    "    mid = len(arr) // 2\n",
    "    left_half = arr[:mid]\n",
    "    right_half = arr[mid:]\n",
    "\n",
    "    # Recursively sort both halves\n",
    "    left_half = merge_sort(left_half)\n",
    "    right_half = merge_sort(right_half)\n",
    "\n",
    "    # Merge the sorted halves\n",
    "    return merge(left_half, right_half)\n",
    "\n",
    "def merge(left, right):\n",
    "    result = []\n",
    "    left_idx, right_idx = 0, 0\n",
    "    while left_idx < len(left) and right_idx < len(right):\n",
    "        if left[left_idx] < right[right_idx]:\n",
    "            result.append(left[left_idx])\n",
    "            left_idx += 1\n",
    "        else:\n",
    "            result.append(right[right_idx])\n",
    "            right_idx += 1\n",
    "    # Append any remaining elements from both halves (if any)\n",
    "    result.extend(left[left_idx:])\n",
    "    result.extend(right[right_idx:])\n",
    "    return result\n",
    "# Example usage:\n",
    "my_list = [3, 6, 8, 10, 1, 2, 1]\n",
    "sorted_list = merge_sort(my_list)\n",
    "print(sorted_list)"
   ]
  },
  {
   "cell_type": "markdown",
   "id": "6ef20b29",
   "metadata": {},
   "source": [
    "# 5. Insertion Sort "
   ]
  },
  {
   "cell_type": "code",
   "execution_count": 14,
   "id": "44884f44",
   "metadata": {},
   "outputs": [
    {
     "name": "stdout",
     "output_type": "stream",
     "text": [
      "[1, 1, 2, 3, 6, 8, 10]\n"
     ]
    }
   ],
   "source": [
    "arr = [3, 6, 8, 10, 1, 2, 1]\n",
    "for ind in range(1, len(arr)):\n",
    "        cur_ele = arr[ind]\n",
    "        while cur_ele < arr[ind-1] and ind > 0:\n",
    "            arr[ind] = arr[ind-1]\n",
    "            ind -= 1\n",
    "        arr[ind] = cur_ele\n",
    "print(arr)"
   ]
  },
  {
   "cell_type": "markdown",
   "id": "96a3479a",
   "metadata": {},
   "source": [
    "# 6. Shell sort"
   ]
  },
  {
   "cell_type": "code",
   "execution_count": 16,
   "id": "e1886c0a",
   "metadata": {},
   "outputs": [
    {
     "name": "stdout",
     "output_type": "stream",
     "text": [
      "[1, 1, 2, 3, 6, 8, 10]\n"
     ]
    }
   ],
   "source": [
    "ls = [3, 6, 8, 10, 1, 2, 1]\n",
    "\n",
    "def shellsort(arr):\n",
    "    gap = len(arr)//2\n",
    "    while gap > 0:\n",
    "        for ind in range(gap, len(arr)):\n",
    "            cur_ele = arr[ind]\n",
    "            while ind >= gap and cur_ele < arr[ind-gap]:\n",
    "                arr[ind] = arr[ind-gap]\n",
    "                ind = ind-gap\n",
    "            arr[ind] = cur_ele\n",
    "        gap = gap//2\n",
    "shellsort(ls)\n",
    "print(ls)"
   ]
  },
  {
   "cell_type": "markdown",
   "id": "bd966bf1",
   "metadata": {},
   "source": [
    "# 7. Linear Search"
   ]
  },
  {
   "cell_type": "code",
   "execution_count": 20,
   "id": "024def2b",
   "metadata": {},
   "outputs": [
    {
     "name": "stdout",
     "output_type": "stream",
     "text": [
      "Enter Key:12\n",
      "not Found\n"
     ]
    }
   ],
   "source": [
    "l = [10, 1, 12, 4, 5, 6, 7, 9]\n",
    "key = int(input(\"Enter Key:\"))\n",
    "\n",
    "for i in range(len(l)):\n",
    "    if key==i:\n",
    "        print(\"Key Found\")\n",
    "        break\n",
    "else:\n",
    "    print(\"not Found\")"
   ]
  },
  {
   "cell_type": "markdown",
   "id": "f18baeac",
   "metadata": {},
   "source": [
    "# 8. Binary Search"
   ]
  },
  {
   "cell_type": "code",
   "execution_count": 18,
   "id": "c9546187",
   "metadata": {},
   "outputs": [
    {
     "name": "stdout",
     "output_type": "stream",
     "text": [
      "Enter Key Value:6\n",
      "Key is Found\n"
     ]
    }
   ],
   "source": [
    "def binary_search(list1, key):\n",
    "    low = 0\n",
    "    high = len(list1)-1\n",
    "    Found = False\n",
    "    \n",
    "    while low <= high and not Found:\n",
    "        mid = (low+high)//2\n",
    "        if key==list1[mid]:\n",
    "            Found = True\n",
    "        elif key > list1[mid]:\n",
    "            low = mid+1\n",
    "        else:\n",
    "            high = mid-1\n",
    "    \n",
    "    if Found == True:\n",
    "        print(\"Key is Found\")\n",
    "    else:\n",
    "        print(\"Key not Found\")\n",
    "\n",
    "my_list = [1, 2, 3, 6, 8, 10]\n",
    "target = int(input(\"Enter Key Value:\"))\n",
    "result = binary_search(my_list, target)"
   ]
  },
  {
   "cell_type": "markdown",
   "id": "601e8151",
   "metadata": {},
   "source": []
  },
  {
   "cell_type": "code",
   "execution_count": null,
   "id": "d7bf2981",
   "metadata": {},
   "outputs": [],
   "source": []
  },
  {
   "cell_type": "code",
   "execution_count": null,
   "id": "eb671dc5",
   "metadata": {},
   "outputs": [],
   "source": []
  },
  {
   "cell_type": "code",
   "execution_count": null,
   "id": "93ccdead",
   "metadata": {},
   "outputs": [],
   "source": []
  }
 ],
 "metadata": {
  "kernelspec": {
   "display_name": "Python 3 (ipykernel)",
   "language": "python",
   "name": "python3"
  },
  "language_info": {
   "codemirror_mode": {
    "name": "ipython",
    "version": 3
   },
   "file_extension": ".py",
   "mimetype": "text/x-python",
   "name": "python",
   "nbconvert_exporter": "python",
   "pygments_lexer": "ipython3",
   "version": "3.11.5"
  }
 },
 "nbformat": 4,
 "nbformat_minor": 5
}
