{
 "cells": [
  {
   "cell_type": "markdown",
   "id": "6f66fd53",
   "metadata": {},
   "source": [
    "# 1. Control characters:"
   ]
  },
  {
   "cell_type": "code",
   "execution_count": 9,
   "id": "77b8da3c",
   "metadata": {},
   "outputs": [
    {
     "name": "stdout",
     "output_type": "stream",
     "text": [
      "Hello,\n",
      "World!\n",
      "Hello,\r",
      "World!\n",
      "Hello,\tWorld!\n",
      "Hello,\bWorld!\n",
      "Hello,\u000b",
      "World!\n",
      "This is an alert!\u0007\n",
      "Hello,\f",
      "World!\n",
      "This is an escape sequence: \u001b\n"
     ]
    }
   ],
   "source": [
    "print(\"Hello,\\nWorld!\")\n",
    "print(\"Hello,\\rWorld!\")\n",
    "print(\"Hello,\\tWorld!\")\n",
    "print(\"Hello,\\bWorld!\")\n",
    "print(\"Hello,\\vWorld!\")\n",
    "print(\"This is an alert!\\a\")\n",
    "print(\"Hello,\\fWorld!\")\n",
    "print(\"This is an escape sequence: \\x1b\")"
   ]
  },
  {
   "cell_type": "markdown",
   "id": "47b0a3b2",
   "metadata": {},
   "source": [
    "# 2. Implicit and Explicit Line join method:"
   ]
  },
  {
   "cell_type": "code",
   "execution_count": 13,
   "id": "5f6862bb",
   "metadata": {},
   "outputs": [
    {
     "name": "stdout",
     "output_type": "stream",
     "text": [
      "helloworld\n",
      "helloworld\n"
     ]
    }
   ],
   "source": [
    "# Implicit line join: quotes should be equal\n",
    "print(\"hello\"\n",
    "      \"world\")\n",
    "# Explicit line join: using \\ (back slash)\n",
    "print(\"hello\\\n",
    "world\")"
   ]
  },
  {
   "cell_type": "markdown",
   "id": "5d94daf0",
   "metadata": {},
   "source": [
    "# 3. input() & output() functions"
   ]
  },
  {
   "cell_type": "code",
   "execution_count": 14,
   "id": "5cb5ab39",
   "metadata": {},
   "outputs": [
    {
     "name": "stdout",
     "output_type": "stream",
     "text": [
      "Enter name:naresh\n",
      "hello naresh\n"
     ]
    }
   ],
   "source": [
    "name = input(\"Enter name:\")\n",
    "print(\"hello\",name)"
   ]
  },
  {
   "cell_type": "code",
   "execution_count": 20,
   "id": "02ede157",
   "metadata": {},
   "outputs": [
    {
     "name": "stdout",
     "output_type": "stream",
     "text": [
      "hi hello*how are you "
     ]
    }
   ],
   "source": [
    "import sys\n",
    "print(\"hi hello\",\"how are you\", sep='*', end='\\n', file=sys.stdout, flush=False)"
   ]
  },
  {
   "cell_type": "code",
   "execution_count": 21,
   "id": "82dceaba",
   "metadata": {},
   "outputs": [],
   "source": [
    "with open(\"output.txt\", \"w\") as f:\n",
    "    print(\"This is written to a file.\", file=f)"
   ]
  },
  {
   "cell_type": "markdown",
   "id": "cf424820",
   "metadata": {},
   "source": [
    "# 4. Control Structures:\n",
    "1.  sequential Control \n",
    "2.\tSelection Control\n",
    "3.\tIterative Control"
   ]
  },
  {
   "cell_type": "code",
   "execution_count": 22,
   "id": "03042f80",
   "metadata": {},
   "outputs": [
    {
     "name": "stdout",
     "output_type": "stream",
     "text": [
      "hi\n",
      "hello\n",
      "how are you\n"
     ]
    }
   ],
   "source": [
    "# 1. sequential  control\n",
    "print(\"hi\")\n",
    "print(\"hello\")\n",
    "print(\"how are you\")"
   ]
  },
  {
   "cell_type": "code",
   "execution_count": 26,
   "id": "448db2ae",
   "metadata": {},
   "outputs": [
    {
     "name": "stdout",
     "output_type": "stream",
     "text": [
      "Enter value:1\n",
      "Thank you\n"
     ]
    }
   ],
   "source": [
    "# 2. selection control: \n",
    "# if\n",
    "var = int(input(\"Enter value:\"))\n",
    "if var > 10: \n",
    "    print(\"Value is more than 10\")\n",
    "print(\"Thank you\")"
   ]
  },
  {
   "cell_type": "code",
   "execution_count": null,
   "id": "caeca829",
   "metadata": {},
   "outputs": [],
   "source": [
    "# if-else\n",
    "var = int(input(\"Enter value:\"))\n",
    "if var > 10: \n",
    "    print(\"Value is more than 10\")\n",
    "else:\n",
    "    print(\"Value is less than 10\")"
   ]
  },
  {
   "cell_type": "code",
   "execution_count": 30,
   "id": "9142c576",
   "metadata": {},
   "outputs": [
    {
     "name": "stdout",
     "output_type": "stream",
     "text": [
      "Enter value:101\n",
      "please enter below 100 numbers\n"
     ]
    }
   ],
   "source": [
    "# if-elif-else\n",
    "var = int(input(\"Enter value:\"))\n",
    "if var > 10 and var < 100: \n",
    "    print(\"Value is more than 10\")\n",
    "elif var < 10:\n",
    "    print(\"Value is less than 10\")\n",
    "elif var == 10:\n",
    "    print(\"Value is equal to 10\")\n",
    "else:\n",
    "    print(\"please enter below 100\""
   ]
  },
  {
   "cell_type": "code",
   "execution_count": 32,
   "id": "f74b7f90",
   "metadata": {},
   "outputs": [
    {
     "name": "stdout",
     "output_type": "stream",
     "text": [
      "y is greater\n"
     ]
    }
   ],
   "source": [
    "# if-elif-else\n",
    "x = 20\n",
    "y = 45\n",
    "z = 23\n",
    "if x > y and x > z: \n",
    "    print(\"X is Greater\")\n",
    "elif z > y:\n",
    "    print(\"z is greater\")\n",
    "else:\n",
    "    print(\"y is greater\")"
   ]
  },
  {
   "cell_type": "code",
   "execution_count": 31,
   "id": "6dead38e",
   "metadata": {},
   "outputs": [
    {
     "name": "stdout",
     "output_type": "stream",
     "text": [
      "y is greater\n"
     ]
    }
   ],
   "source": [
    "# nested if\n",
    "x = 20\n",
    "y = 45\n",
    "z = 23\n",
    "if x > y and x > z: \n",
    "    print(\"X is Greater\")\n",
    "else:\n",
    "    if z > y:\n",
    "        print(\"z is greater\")\n",
    "    else:\n",
    "        print(\"y is greater\")"
   ]
  },
  {
   "cell_type": "code",
   "execution_count": 25,
   "id": "dda102cd",
   "metadata": {},
   "outputs": [
    {
     "name": "stdout",
     "output_type": "stream",
     "text": [
      "0\n",
      "1\n",
      "2\n",
      "3\n",
      "4\n",
      "5\n",
      "6\n",
      "7\n",
      "8\n",
      "9\n"
     ]
    }
   ],
   "source": [
    "#3.Iterative Control\n",
    "val = 0 # initialize\n",
    "while val < 10: # condition\n",
    "    print(val)\n",
    "    val = val+1 # incr or decr"
   ]
  },
  {
   "cell_type": "code",
   "execution_count": 33,
   "id": "5927137d",
   "metadata": {},
   "outputs": [
    {
     "name": "stdout",
     "output_type": "stream",
     "text": [
      "p\n",
      "y\n",
      "t\n",
      "h\n",
      "o\n",
      "n\n"
     ]
    }
   ],
   "source": [
    "for i in \"python\":\n",
    "    print(i)"
   ]
  },
  {
   "cell_type": "code",
   "execution_count": 34,
   "id": "7bc1f6f1",
   "metadata": {},
   "outputs": [
    {
     "name": "stdout",
     "output_type": "stream",
     "text": [
      "10 is less than 25\n",
      "20 is less than 25\n",
      "30 is greater than 25\n",
      "40 is greater than 25\n"
     ]
    }
   ],
   "source": [
    "for l in [10,20,30,40]:\n",
    "    if l < 25:\n",
    "        print(l,\"is less than 25\")\n",
    "    else:\n",
    "        print(l,\"is greater than 25\")"
   ]
  },
  {
   "cell_type": "code",
   "execution_count": null,
   "id": "da383a05",
   "metadata": {},
   "outputs": [],
   "source": []
  }
 ],
 "metadata": {
  "kernelspec": {
   "display_name": "Python 3 (ipykernel)",
   "language": "python",
   "name": "python3"
  },
  "language_info": {
   "codemirror_mode": {
    "name": "ipython",
    "version": 3
   },
   "file_extension": ".py",
   "mimetype": "text/x-python",
   "name": "python",
   "nbconvert_exporter": "python",
   "pygments_lexer": "ipython3",
   "version": "3.11.5"
  }
 },
 "nbformat": 4,
 "nbformat_minor": 5
}
