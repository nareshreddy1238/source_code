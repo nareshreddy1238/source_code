{
 "cells": [
  {
   "cell_type": "markdown",
   "id": "bb27e964",
   "metadata": {},
   "source": [
    "# 1. Tuple Create"
   ]
  },
  {
   "cell_type": "code",
   "execution_count": 65,
   "id": "145d8f50",
   "metadata": {},
   "outputs": [
    {
     "name": "stdout",
     "output_type": "stream",
     "text": [
      "()\n",
      "()\n",
      "('tuple', False, 3.2, 1)\n",
      "length of tuple: 4\n"
     ]
    }
   ],
   "source": [
    "#Create an empty tuple \n",
    "x = ()\n",
    "print(x)\n",
    "\n",
    "#Create an empty tuple with tuple() function built-in Python\n",
    "tuplex = tuple()\n",
    "print(tuplex)\n",
    "\n",
    "tuplex = (\"tuple\", False, 3.2, 1)\n",
    "print(tuplex)\n",
    "\n",
    "print(\"length of tuple:\",len(tuplex))"
   ]
  },
  {
   "cell_type": "markdown",
   "id": "f3c9391f",
   "metadata": {},
   "source": [
    "# 2. create a tuple of numbers and single value"
   ]
  },
  {
   "cell_type": "code",
   "execution_count": 6,
   "id": "9d1ff6da",
   "metadata": {},
   "outputs": [
    {
     "name": "stdout",
     "output_type": "stream",
     "text": [
      "(5, 10, 15, 20, 25)\n",
      "(5,)\n"
     ]
    }
   ],
   "source": [
    "#Create a tuple with numbers\n",
    "tuplex = 5, 10, 15, 20, 25\n",
    "print(tuplex)\n",
    "\n",
    "#Create a tuple of one item\n",
    "tuplex = 5,\n",
    "print(tuplex)"
   ]
  },
  {
   "cell_type": "markdown",
   "id": "564625e5",
   "metadata": {},
   "source": [
    "# 3. packing & unpacking in tuples\n",
    "1. Packing:   process of combining multiple values or elements into a single tuple\n",
    "2. unpacking: extract the individual values or elements from a tuple and assign them to separate variables\n",
    "              Unpacking Error: variables must be equal to the number of items of the tuple"
   ]
  },
  {
   "cell_type": "code",
   "execution_count": 11,
   "id": "790b4a8b",
   "metadata": {},
   "outputs": [
    {
     "name": "stdout",
     "output_type": "stream",
     "text": [
      "(1, 'apple', 3.14)\n",
      "1 apple 3.14\n"
     ]
    }
   ],
   "source": [
    "# packing\n",
    "packed_tuple = (1, 'apple', 3.14)\n",
    "print(packed_tuple)\n",
    "\n",
    "# unpacking\n",
    "my_tuple = (1, 'apple', 3.14)\n",
    "a, b, c = my_tuple\n",
    "print(a,b,c)"
   ]
  },
  {
   "cell_type": "markdown",
   "id": "2bc739ff",
   "metadata": {},
   "source": [
    "# 4. add an item to a tuple"
   ]
  },
  {
   "cell_type": "code",
   "execution_count": 14,
   "id": "45591d3c",
   "metadata": {},
   "outputs": [
    {
     "name": "stdout",
     "output_type": "stream",
     "text": [
      "(4, 6, 2, 8, 3, 1)\n"
     ]
    }
   ],
   "source": [
    "#create a tuple\n",
    "tup = (4, 6, 2, 8, 3, 1) \n",
    "print(tup)"
   ]
  },
  {
   "cell_type": "code",
   "execution_count": 17,
   "id": "11447a23",
   "metadata": {},
   "outputs": [
    {
     "name": "stdout",
     "output_type": "stream",
     "text": [
      "(4, 6, 2, 8, 3, 1, 9)\n"
     ]
    }
   ],
   "source": [
    "#tuples are immutable, so you can not add new elements\n",
    "#using merge of tuples with the + operator you can add an element and it will create a new tuple\n",
    "\n",
    "tuplex = tup + (9,)\n",
    "print(tuplex)"
   ]
  },
  {
   "cell_type": "code",
   "execution_count": 21,
   "id": "61184fea",
   "metadata": {},
   "outputs": [
    {
     "name": "stdout",
     "output_type": "stream",
     "text": [
      "(4, 6, 2, 8, 3, 1)\n",
      "(4, 6, 15, 20, 25, 2, 8, 3, 1)\n"
     ]
    }
   ],
   "source": [
    "#adding items in a specific index\n",
    "tup = (4, 6, 2, 8, 3, 1) \n",
    "print(tup)\n",
    "\n",
    "tuplex = tup[:2] + (15, 20, 25) + tup[2:]\n",
    "print(tuplex)"
   ]
  },
  {
   "cell_type": "code",
   "execution_count": 22,
   "id": "210f67cc",
   "metadata": {},
   "outputs": [
    {
     "name": "stdout",
     "output_type": "stream",
     "text": [
      "(4, 6, 2, 8, 3, 1, 30)\n"
     ]
    }
   ],
   "source": [
    "#converting the tuple to list (type casting)\n",
    "tup = (4, 6, 2, 8, 3, 1) \n",
    "l = list(tup) \n",
    "\n",
    "#use different ways to add items in list\n",
    "l.append(30)\n",
    "tuplex = tuple(l)\n",
    "print(tuplex)"
   ]
  },
  {
   "cell_type": "markdown",
   "id": "b04596ac",
   "metadata": {},
   "source": [
    "# 5. convert a tuple to a string."
   ]
  },
  {
   "cell_type": "code",
   "execution_count": 23,
   "id": "00332a4f",
   "metadata": {},
   "outputs": [
    {
     "name": "stdout",
     "output_type": "stream",
     "text": [
      "exercises\n"
     ]
    }
   ],
   "source": [
    "tup = ('e', 'x', 'e', 'r', 'c', 'i', 's', 'e', 's')\n",
    "str =  ''.join(tup)\n",
    "print(str)"
   ]
  },
  {
   "cell_type": "markdown",
   "id": "4fe68615",
   "metadata": {},
   "source": [
    "# 6.  get the value from Tuple "
   ]
  },
  {
   "cell_type": "code",
   "execution_count": 24,
   "id": "7efcb684",
   "metadata": {},
   "outputs": [
    {
     "name": "stdout",
     "output_type": "stream",
     "text": [
      "('w', 3, 'r', 'e', 's', 'o', 'u', 'r', 'c', 'e')\n",
      "e\n",
      "u\n"
     ]
    }
   ],
   "source": [
    "# using Indexing\n",
    "tuplex = (\"w\", 3, \"r\", \"e\", \"s\", \"o\", \"u\", \"r\", \"c\", \"e\")\n",
    "print(tuplex)\n",
    "\n",
    "item = tuplex[3]\n",
    "print(item)\n",
    "\n",
    "item1 = tuplex[-4]\n",
    "print(item1)"
   ]
  },
  {
   "cell_type": "markdown",
   "id": "fca04f87",
   "metadata": {},
   "source": [
    "# 7. Access the Tuple\n",
    "1. Indexing\n",
    "2. Negative Indexing\n",
    "3. Slicing\n",
    "4. Unpacking: accessing elements tuple to individual variables\n",
    "5. For Loop\n",
    "6. Built-in Methods"
   ]
  },
  {
   "cell_type": "code",
   "execution_count": 37,
   "id": "30ecfe98",
   "metadata": {},
   "outputs": [
    {
     "name": "stdout",
     "output_type": "stream",
     "text": [
      "1\n",
      "5\n",
      "(2, 3, 4)\n",
      "1 2 3 4 5\n",
      "item: 1 item: 2 item: 3 item: 4 item: 5 \n",
      "1\n",
      "3\n"
     ]
    }
   ],
   "source": [
    "my_tuple = (1, 2, 3, 4, 5)\n",
    "\n",
    "# indexing & non-indexing & sclicing\n",
    "print(my_tuple[0])   \n",
    "print(my_tuple[-1])\n",
    "print(my_tuple[1:4])\n",
    "\n",
    "# unpacking\n",
    "a, b, c, d, e = my_tuple\n",
    "print(a,b,c,d,e)\n",
    "\n",
    "for item in my_tuple:\n",
    "    print(\"item:\",item,end=\" \")\n",
    "print()\n",
    "\n",
    "print(my_tuple.count(2)) \n",
    "print(my_tuple.index(4))  "
   ]
  },
  {
   "cell_type": "markdown",
   "id": "0fe4f282",
   "metadata": {},
   "source": [
    "# 8. copy of tuple\n",
    "1. slicing\n",
    "2. tuple() built-in method\n",
    "3. copy module"
   ]
  },
  {
   "cell_type": "code",
   "execution_count": 44,
   "id": "d78b0e86",
   "metadata": {},
   "outputs": [
    {
     "name": "stdout",
     "output_type": "stream",
     "text": [
      "(1, 2, 3, 4, 5)\n",
      "(1, 2, 3, 4, 5)\n",
      "(1, 2, 3, 4, 5)\n",
      "(1, 2, 3, 4, 5)\n"
     ]
    }
   ],
   "source": [
    "tup = (1, 2, 3, 4, 5)\n",
    "\n",
    "# slicing\n",
    "tuple_copy = tup[:]\n",
    "print(tuple_copy)\n",
    "\n",
    "# using tuple \n",
    "tup = (1, 2, 3, 4, 5)\n",
    "tuple_copy = tuple(tup)\n",
    "print(tuple_copy)\n",
    "\n",
    "# using copy module\n",
    "import copy\n",
    "from copy import deepcopy\n",
    "\n",
    "tup = (1, 2, 3, 4, 5)\n",
    "t = copy.copy(tup)\n",
    "print(t)\n",
    "t1= deepcopy(tup)\n",
    "print(t1)"
   ]
  },
  {
   "cell_type": "markdown",
   "id": "a110aed1",
   "metadata": {},
   "source": [
    "# 9. delete tuple\n",
    "1. del\n",
    "2. () -> using empty tuple\n",
    "3. clear() -> python 3.3 later version available"
   ]
  },
  {
   "cell_type": "code",
   "execution_count": 50,
   "id": "0f9de7e4",
   "metadata": {},
   "outputs": [],
   "source": [
    "# del\n",
    "my_tuple = (1, 2, 3, 4, 5)\n",
    "del my_tuple\n",
    "\n",
    "# using ()\n",
    "my_tuple = (1, 2, 3, 4, 5)\n",
    "my_tuple = ()\n",
    "\n",
    "# clear()\n",
    "my_tuple = (1, 2, 3, 4, 5)\n",
    "# my_tuple.clear() -> availble after 3.3 version"
   ]
  },
  {
   "cell_type": "markdown",
   "id": "a7cd08cc",
   "metadata": {},
   "source": [
    "# 10. tuple contain empty list value and insert value into "
   ]
  },
  {
   "cell_type": "code",
   "execution_count": 54,
   "id": "e5dd0e75",
   "metadata": {},
   "outputs": [
    {
     "name": "stdout",
     "output_type": "stream",
     "text": [
      "('HELLO', 5, [], True)\n",
      "('HELLO', 5, [50], True)\n"
     ]
    }
   ],
   "source": [
    "tuplex = (\"HELLO\", 5, [], True) \n",
    "print(tuplex)\n",
    "\n",
    "tuplex[2].append(50) # list has append method\n",
    "print(tuplex)\n",
    "# tuplex[1].append(10) -> AttributeError: 'int' object has no attribute 'append'"
   ]
  },
  {
   "cell_type": "markdown",
   "id": "48b7e1b7",
   "metadata": {},
   "source": [
    "# 11. find repeated / duplicate/ count items in a tuple"
   ]
  },
  {
   "cell_type": "code",
   "execution_count": 59,
   "id": "203467f1",
   "metadata": {},
   "outputs": [
    {
     "name": "stdout",
     "output_type": "stream",
     "text": [
      "(2, 4, 5, 6, 2, 3, 4, 4, 7)\n",
      "item count: 3\n",
      "{2: 2, 4: 3, 5: 1, 6: 1, 3: 1, 7: 1}\n"
     ]
    }
   ],
   "source": [
    "tuplex = 2, 4, 5, 6, 2, 3, 4, 4, 7 \n",
    "print(tuplex)\n",
    "\n",
    "count = tuplex.count(4)\n",
    "print(\"item count:\",count)\n",
    "\n",
    "d = {}\n",
    "for i in tuplex:\n",
    "    d[i] = d.get(i,0)+1\n",
    "print(d)"
   ]
  },
  {
   "cell_type": "markdown",
   "id": "2080dbb2",
   "metadata": {},
   "source": [
    "# 12. check element present in tuple or not "
   ]
  },
  {
   "cell_type": "code",
   "execution_count": 60,
   "id": "21036d82",
   "metadata": {},
   "outputs": [
    {
     "name": "stdout",
     "output_type": "stream",
     "text": [
      "True\n",
      "False\n"
     ]
    }
   ],
   "source": [
    "tuplex = (\"w\", 3, \"r\", \"e\", \"s\", \"o\", \"u\", \"r\", \"c\", \"e\")\n",
    "\n",
    "print(\"r\" in tuplex)\n",
    "print(5 in tuplex)"
   ]
  },
  {
   "cell_type": "markdown",
   "id": "4eebe9ac",
   "metadata": {},
   "source": [
    "# 13. remove item in a tuple\n",
    "1. convert to list -> list.remove(item) \n",
    "2. tuple()-> !=\n",
    "3. slicing"
   ]
  },
  {
   "cell_type": "code",
   "execution_count": 64,
   "id": "623691aa",
   "metadata": {},
   "outputs": [
    {
     "name": "stdout",
     "output_type": "stream",
     "text": [
      "(1, 2, 5)\n",
      "(1, 2, 4, 5)\n",
      "(1, 2, 4, 5)\n"
     ]
    }
   ],
   "source": [
    "# using list conversion\n",
    "my_tuple = (1, 2, 3, 4, 5)\n",
    "my_list = list(my_tuple)\n",
    "my_list.remove(3)  # Remove a specific value\n",
    "my_list.pop(2)     # Remove by index\n",
    "my_tuple = tuple(my_list)\n",
    "print(my_tuple)\n",
    "\n",
    "# tuple() method\n",
    "my_tuple = (1, 2, 3, 4, 5)\n",
    "my_tuple = tuple(x for x in my_tuple if x != 3)  # Remove value 3\n",
    "print(my_tuple)\n",
    "\n",
    "# slicing\n",
    "my_tuple = (1, 2, 3, 4, 5)\n",
    "my_tuple = my_tuple[:2] + my_tuple[3:]  # Remove element at index 2 (3)\n",
    "print(my_tuple)"
   ]
  },
  {
   "cell_type": "markdown",
   "id": "f71e4d34",
   "metadata": {},
   "source": [
    "# 14. convert tuple or type casting \n",
    "1. string to tuple -> tuple to string\n",
    "2. int to tuple -> tuple to int\n",
    "3. list to tuple -> tuple to list\n",
    "4. set to tuple -> tuple to set \n",
    "5. dict to tuple -> tuple to dict"
   ]
  },
  {
   "cell_type": "code",
   "execution_count": 74,
   "id": "5e761a60",
   "metadata": {},
   "outputs": [
    {
     "name": "stdout",
     "output_type": "stream",
     "text": [
      "(42,)\n",
      "42\n"
     ]
    }
   ],
   "source": [
    "# int to tuple\n",
    "tup = (42,)\n",
    "print(tup)\n",
    "\n",
    "# tuple to Int\n",
    "tuplex = (42,)\n",
    "int_val = tuplex[0]\n",
    "#int_val = int(tuplex[0])\n",
    "print(int_val)"
   ]
  },
  {
   "cell_type": "code",
   "execution_count": 68,
   "id": "156daa17",
   "metadata": {},
   "outputs": [
    {
     "name": "stdout",
     "output_type": "stream",
     "text": [
      "('h', 'i', ' ', 'h', 'e', 'l', 'l', 'o')\n",
      "hi hello\n"
     ]
    }
   ],
   "source": [
    "# string to tuple\n",
    "s = \"hi hello\"\n",
    "tup = tuple(s)\n",
    "print(tup)\n",
    "\n",
    "# tuple to string\n",
    "st = \"\".join(tup)\n",
    "print(st)"
   ]
  },
  {
   "cell_type": "code",
   "execution_count": 75,
   "id": "cbba2154",
   "metadata": {},
   "outputs": [
    {
     "name": "stdout",
     "output_type": "stream",
     "text": [
      "(1, 2, 3)\n",
      "[1, 2, 3]\n"
     ]
    }
   ],
   "source": [
    "# List to Tuple\n",
    "list_value = [1, 2, 3]\n",
    "tuple_value = tuple(list_value)\n",
    "print(tuple_value)\n",
    "\n",
    "# Tuple to List\n",
    "tuple_value = (1, 2, 3)\n",
    "list_value = list(tuple_value)\n",
    "print(list_value)"
   ]
  },
  {
   "cell_type": "code",
   "execution_count": 76,
   "id": "359d7dad",
   "metadata": {},
   "outputs": [
    {
     "name": "stdout",
     "output_type": "stream",
     "text": [
      "(1, 2, 3)\n",
      "{1, 2, 3}\n"
     ]
    }
   ],
   "source": [
    "# Set to Tuple\n",
    "set_value = {1, 2, 3}\n",
    "tuple_value = tuple(set_value)\n",
    "print(tuple_value)\n",
    "\n",
    "# Tuple to Set\n",
    "tuple_value = (1, 2, 3)\n",
    "set_value = set(tuple_value)\n",
    "print(set_value)"
   ]
  },
  {
   "cell_type": "code",
   "execution_count": 77,
   "id": "c415a707",
   "metadata": {},
   "outputs": [
    {
     "name": "stdout",
     "output_type": "stream",
     "text": [
      "(('a', 1), ('b', 2), ('c', 3))\n",
      "{'a': 1, 'b': 2, 'c': 3}\n"
     ]
    }
   ],
   "source": [
    "# Dict to Tuple\n",
    "dict_value = {'a': 1, 'b': 2, 'c': 3}\n",
    "tuple_value = tuple(dict_value.items())\n",
    "print(tuple_value)\n",
    "\n",
    "# Tuple to Dict\n",
    "tuple_value = (('a', 1), ('b', 2), ('c', 3))\n",
    "dict_value = dict(tuple_value)\n",
    "print(dict_value)"
   ]
  },
  {
   "cell_type": "code",
   "execution_count": 78,
   "id": "240705b1",
   "metadata": {},
   "outputs": [
    {
     "name": "stdout",
     "output_type": "stream",
     "text": [
      "{'w': 2, 'r': 3}\n"
     ]
    }
   ],
   "source": [
    "# Dict\n",
    "tuplex = ((2, \"w\"),(3, \"r\"))\n",
    "print(dict((y, x) for x, y in tuplex))"
   ]
  },
  {
   "cell_type": "markdown",
   "id": "a1ef2b9a",
   "metadata": {},
   "source": [
    "# 15. unzip a list of tuples into individual lists"
   ]
  },
  {
   "cell_type": "code",
   "execution_count": 79,
   "id": "16b95327",
   "metadata": {},
   "outputs": [
    {
     "name": "stdout",
     "output_type": "stream",
     "text": [
      "[(1, 3, 8), (2, 4, 9)]\n"
     ]
    }
   ],
   "source": [
    "#create a tuple\n",
    "l = [(1,2), (3,4), (8,9)]\n",
    "print(list(zip(*l)))"
   ]
  },
  {
   "cell_type": "markdown",
   "id": "9d7a36af",
   "metadata": {},
   "source": [
    "# 16. reverse tuple"
   ]
  },
  {
   "cell_type": "code",
   "execution_count": 81,
   "id": "064241ca",
   "metadata": {},
   "outputs": [
    {
     "name": "stdout",
     "output_type": "stream",
     "text": [
      "(5, 4, 3, 2, 1)\n",
      "('e', 'c', 'r', 'u', 'o', 's', 'e', 'r', '3', 'w')\n",
      "(20, 15, 10, 5)\n"
     ]
    }
   ],
   "source": [
    "my_tuple = (1, 2, 3, 4, 5)\n",
    "rev_tup = my_tuple[::-1]\n",
    "print(rev_tup)\n",
    "\n",
    "x = (\"w3resource\")\n",
    "y = reversed(x)\n",
    "print(tuple(y))\n",
    "\n",
    "n = (5, 10, 15, 20)\n",
    "print(tuple(reversed(n)))"
   ]
  },
  {
   "cell_type": "markdown",
   "id": "422db1a4",
   "metadata": {},
   "source": [
    "# 17.convert a list of tuples into a dictionary"
   ]
  },
  {
   "cell_type": "code",
   "execution_count": 85,
   "id": "88b6a8e4",
   "metadata": {},
   "outputs": [
    {
     "name": "stdout",
     "output_type": "stream",
     "text": [
      "{'x': [1, 2, 3], 'y': [1, 2], 'z': [1]}\n"
     ]
    }
   ],
   "source": [
    "l = [(\"x\", 1), (\"x\", 2), (\"x\", 3), (\"y\", 1), (\"y\", 2), (\"z\", 1)]\n",
    "d = {}\n",
    "for a, b in l:\n",
    "    d.setdefault(a, []).append(b)\n",
    "print (d)"
   ]
  },
  {
   "cell_type": "code",
   "execution_count": 91,
   "id": "1126be63",
   "metadata": {},
   "outputs": [
    {
     "name": "stdout",
     "output_type": "stream",
     "text": [
      "{'x': [1, 2, 3], 'y': [1, 2], 'z': [1]}\n"
     ]
    }
   ],
   "source": [
    "l = [(\"x\", 1), (\"x\", 2), (\"x\", 3), (\"y\", 1), (\"y\", 2), (\"z\", 1)]\n",
    "\n",
    "d = {}\n",
    "for k,v in l:\n",
    "    if k in d:\n",
    "        d[k].append(v)\n",
    "    else:\n",
    "        d[k] = [v]\n",
    "print(d)"
   ]
  },
  {
   "cell_type": "code",
   "execution_count": 88,
   "id": "ea79a0b7",
   "metadata": {},
   "outputs": [
    {
     "name": "stdout",
     "output_type": "stream",
     "text": [
      "{'x': [1, 2, 3], 'y': [1, 2], 'z': [1]}\n"
     ]
    }
   ],
   "source": [
    "l = [(\"x\", 1), (\"x\", 2), (\"x\", 3), (\"y\", 1), (\"y\", 2), (\"z\", 1)]\n",
    "\n",
    "d = {}\n",
    "for k, v in l:\n",
    "    d[k] = d.get(k, []) + [v]\n",
    "print(d)"
   ]
  },
  {
   "cell_type": "markdown",
   "id": "c747e7b4",
   "metadata": {},
   "source": [
    "# 18. replace the last value of tuples in a list"
   ]
  },
  {
   "cell_type": "code",
   "execution_count": 92,
   "id": "d53914d2",
   "metadata": {},
   "outputs": [
    {
     "name": "stdout",
     "output_type": "stream",
     "text": [
      "[(10, 20, 100), (40, 50, 100), (70, 80, 100)]\n"
     ]
    }
   ],
   "source": [
    "l = [(10, 20, 40), (40, 50, 60), (70, 80, 90)]\n",
    "print([t[:-1] + (100,) for t in l])"
   ]
  },
  {
   "cell_type": "markdown",
   "id": "bd475f4f",
   "metadata": {},
   "source": [
    "# 19. remove an empty tuple(s) from a list of tuples"
   ]
  },
  {
   "cell_type": "code",
   "execution_count": 93,
   "id": "df66a5f4",
   "metadata": {},
   "outputs": [
    {
     "name": "stdout",
     "output_type": "stream",
     "text": [
      "[('',), ('a', 'b'), ('a', 'b', 'c'), 'd']\n"
     ]
    }
   ],
   "source": [
    "L = [(), (), ('',), ('a', 'b'), ('a', 'b', 'c'), ('d')]\n",
    "L = [t for t in L if t]\n",
    "print(L)"
   ]
  },
  {
   "cell_type": "markdown",
   "id": "7087547c",
   "metadata": {},
   "source": [
    "# 20. sort a tuple by its float element"
   ]
  },
  {
   "cell_type": "code",
   "execution_count": 94,
   "id": "57c4a069",
   "metadata": {},
   "outputs": [
    {
     "name": "stdout",
     "output_type": "stream",
     "text": [
      "[('item3', '24.5'), ('item2', '15.10'), ('item1', '12.20')]\n"
     ]
    }
   ],
   "source": [
    "price = [('item1', '12.20'), ('item2', '15.10'), ('item3', '24.5')]\n",
    "\n",
    "print( sorted(price, key=lambda x: float(x[1]), reverse=True))"
   ]
  },
  {
   "cell_type": "markdown",
   "id": "b817dde1",
   "metadata": {},
   "source": [
    "# 21. count the elements tuples of values in a list "
   ]
  },
  {
   "cell_type": "code",
   "execution_count": 102,
   "id": "3db4f6bb",
   "metadata": {},
   "outputs": [
    {
     "name": "stdout",
     "output_type": "stream",
     "text": [
      "Total sum of values inside tuples: 220\n"
     ]
    }
   ],
   "source": [
    "t = [10, 20, 30, (50, 60), 40, (50, 60)]\n",
    "\n",
    "c = 0\n",
    "for item in t:\n",
    "    if isinstance(item, tuple):\n",
    "        for val in item:\n",
    "            c += val\n",
    "print(\"Total sum of values inside tuples:\", c)"
   ]
  },
  {
   "cell_type": "code",
   "execution_count": 99,
   "id": "f1977d7f",
   "metadata": {},
   "outputs": [
    {
     "name": "stdout",
     "output_type": "stream",
     "text": [
      "Total sum of values inside tuples: 110\n"
     ]
    }
   ],
   "source": [
    "t = [10,20,30,(50,60),40]\n",
    "\n",
    "c = 0\n",
    "for item in t:\n",
    "    if isinstance(item, tuple):\n",
    "        c += sum(item)\n",
    "print(\"Total sum of values inside tuples:\", c)"
   ]
  },
  {
   "cell_type": "markdown",
   "id": "f269a44b",
   "metadata": {},
   "source": [
    "# 22. count the elements in a list until an element is a tuple"
   ]
  },
  {
   "cell_type": "code",
   "execution_count": 110,
   "id": "66ba2952",
   "metadata": {},
   "outputs": [
    {
     "name": "stdout",
     "output_type": "stream",
     "text": [
      "3\n"
     ]
    }
   ],
   "source": [
    "num = [10,20,30,(10,20),40]\n",
    "ctr = 0\n",
    "for n in num:\n",
    "    if isinstance(n, tuple):\n",
    "        break\n",
    "    ctr += 1\n",
    "print(ctr)"
   ]
  },
  {
   "cell_type": "markdown",
   "id": "525205e8",
   "metadata": {},
   "source": [
    "# 23. Total sum of  without inside tuple values "
   ]
  },
  {
   "cell_type": "code",
   "execution_count": 115,
   "id": "e14857e2",
   "metadata": {},
   "outputs": [
    {
     "name": "stdout",
     "output_type": "stream",
     "text": [
      "Total sum of values exclude tuple values: 100\n"
     ]
    }
   ],
   "source": [
    "t = [10, 20, 30, (50, 60), 40, (50, 60)]\n",
    "\n",
    "c = 0\n",
    "for item in t:\n",
    "    if isinstance(item, int):\n",
    "        c += item\n",
    "print(\"Total sum of values exclude tuple values:\", c)"
   ]
  },
  {
   "cell_type": "markdown",
   "id": "d31e5d7f",
   "metadata": {},
   "source": [
    "# 24. convert a given tuple of positive integers into an integer.\n",
    "Original tuple:\n",
    "(1, 2, 3)\n",
    "Convert the said tuple of positive integers into an integer:\n",
    "123\n",
    "Original tuple:\n",
    "(10, 20, 40, 5, 70)\n",
    "Convert the said tuple of positive integers into an integer:\n",
    "102040570"
   ]
  },
  {
   "cell_type": "code",
   "execution_count": 150,
   "id": "19dc308e",
   "metadata": {},
   "outputs": [
    {
     "name": "stdout",
     "output_type": "stream",
     "text": [
      "123\n",
      "102040570"
     ]
    }
   ],
   "source": [
    "t1 = (1, 2, 3)\n",
    "t2 = (10, 20, 40, 5, 70)\n",
    "\n",
    "for i in t1:\n",
    "    print(i,end=\"\")\n",
    "print()\n",
    "for j in t2:\n",
    "    print(j,end=\"\")"
   ]
  },
  {
   "cell_type": "markdown",
   "id": "54b1216c",
   "metadata": {},
   "source": [
    "# 25. compute the element-wise sum of given tuples.\n",
    "Original lists:\n",
    "(1, 2, 3, 4)\n",
    "(3, 5, 2, 1)\n",
    "(2, 2, 3, 1)\n",
    "Element-wise sum of the said tuples:\n",
    "(6, 9, 8, 6)"
   ]
  },
  {
   "cell_type": "code",
   "execution_count": 151,
   "id": "46e2b73a",
   "metadata": {},
   "outputs": [
    {
     "name": "stdout",
     "output_type": "stream",
     "text": [
      "(6, 9, 8, 6)\n"
     ]
    }
   ],
   "source": [
    "x = (1,2,3,4)\n",
    "y = (3,5,2,1)\n",
    "z = (2,2,3,1)\n",
    "\n",
    "result = tuple(map(sum, zip(x, y, z)))\n",
    "print(result)"
   ]
  },
  {
   "cell_type": "markdown",
   "id": "82a5ce8b",
   "metadata": {},
   "source": [
    "# 26. compute the sum of all elements inside a list of tuples.\n",
    "Original list of tuples:\n",
    "[(1, 2), (2, 3), (3, 4)]\n",
    "Sum of all the elements of each tuple stored inside the said list of tuples:\n",
    "[3, 5, 7]\n",
    "Original list of tuples:\n",
    "[(1, 2, 6), (2, 3, -6), (3, 4), (2, 2, 2, 2)]\n",
    "Sum of all the elements of each tuple stored inside the said list of tuples:\n",
    "[9, -1, 7, 8]"
   ]
  },
  {
   "cell_type": "code",
   "execution_count": 152,
   "id": "0f8e6b87",
   "metadata": {},
   "outputs": [
    {
     "data": {
      "text/plain": [
       "[3, 5, 7]"
      ]
     },
     "execution_count": 152,
     "metadata": {},
     "output_type": "execute_result"
    }
   ],
   "source": [
    "l = [(1, 2), (2, 3), (3, 4)]\n",
    "\n",
    "[sum(i) for i in l]"
   ]
  },
  {
   "cell_type": "code",
   "execution_count": 156,
   "id": "50a71137",
   "metadata": {},
   "outputs": [
    {
     "data": {
      "text/plain": [
       "[3, 5, 7]"
      ]
     },
     "execution_count": 156,
     "metadata": {},
     "output_type": "execute_result"
    }
   ],
   "source": [
    "l = [(1, 2), (2, 3), (3, 4)]\n",
    "\n",
    "list(map(sum, l))"
   ]
  },
  {
   "cell_type": "code",
   "execution_count": 155,
   "id": "ea2de6cd",
   "metadata": {},
   "outputs": [
    {
     "name": "stdout",
     "output_type": "stream",
     "text": [
      "[9, 8, 15, 23]\n"
     ]
    }
   ],
   "source": [
    "l1 = [(1, 2, 6), (2, 3, -6), (3, 4), (2, 2, 2, 2)]\n",
    "\n",
    "c = 0\n",
    "ls = []\n",
    "for i in l1:\n",
    "    for j in i:\n",
    "        c=c+j\n",
    "    ls.append(c)\n",
    "print(ls)"
   ]
  },
  {
   "cell_type": "markdown",
   "id": "61dee60d",
   "metadata": {},
   "source": [
    "# 27. program to convert a given list of tuples to a list of lists.\n",
    "Original list of tuples: [(1, 2), (2, 3), (3, 4)]\n",
    "Convert the said list of tuples to a list of lists: [[1, 2], [2, 3], [3, 4]]\n",
    "Original list of tuples: [(1, 2), (2, 3, 5), (3, 4), (2, 3, 4, 2)]\n",
    "Convert the said list of tuples to a list of lists: [[1, 2], [2, 3, 5], [3, 4], [2, 3, 4, 2]]"
   ]
  },
  {
   "cell_type": "code",
   "execution_count": 159,
   "id": "1c2a06ce",
   "metadata": {},
   "outputs": [
    {
     "name": "stdout",
     "output_type": "stream",
     "text": [
      "[[1, 2], [2, 3], [3, 4]]\n"
     ]
    }
   ],
   "source": [
    "l = [(1, 2), (2, 3), (3, 4)]\n",
    "\n",
    "ls = []\n",
    "for i in l:\n",
    "    ls.append(list(i))\n",
    "print(ls)"
   ]
  },
  {
   "cell_type": "code",
   "execution_count": 160,
   "id": "0d271807",
   "metadata": {},
   "outputs": [
    {
     "name": "stdout",
     "output_type": "stream",
     "text": [
      "[[1, 2], [2, 3, 5], [3, 4], [2, 3, 4, 2]]\n"
     ]
    }
   ],
   "source": [
    "l1 = [(1, 2), (2, 3, 5), (3, 4), (2, 3, 4, 2)]\n",
    "\n",
    "ls = []\n",
    "for i in l1:\n",
    "    ls.append(list(i))\n",
    "print(ls)"
   ]
  },
  {
   "cell_type": "code",
   "execution_count": null,
   "id": "97f043f0",
   "metadata": {},
   "outputs": [],
   "source": []
  }
 ],
 "metadata": {
  "kernelspec": {
   "display_name": "Python 3 (ipykernel)",
   "language": "python",
   "name": "python3"
  },
  "language_info": {
   "codemirror_mode": {
    "name": "ipython",
    "version": 3
   },
   "file_extension": ".py",
   "mimetype": "text/x-python",
   "name": "python",
   "nbconvert_exporter": "python",
   "pygments_lexer": "ipython3",
   "version": "3.11.5"
  }
 },
 "nbformat": 4,
 "nbformat_minor": 5
}
