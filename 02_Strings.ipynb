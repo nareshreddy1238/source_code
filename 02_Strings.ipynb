{
 "cells": [
  {
   "cell_type": "markdown",
   "id": "794a37c5",
   "metadata": {},
   "source": [
    "# 1. All String Methods "
   ]
  },
  {
   "cell_type": "code",
   "execution_count": 34,
   "id": "0234dcdf-0e05-4f01-8105-3adc059505a0",
   "metadata": {},
   "outputs": [
    {
     "name": "stdout",
     "output_type": "stream",
     "text": [
      "len of string: 20\n",
      "max value: y\n",
      "min value:  \n",
      "join method: h_i_ _h_e_l_l_o_ _h_o_w_ _a_r_e_ _y_o_u\n",
      "sorting: [' ', ' ', ' ', ' ', 'a', 'e', 'e', 'h', 'h', 'h', 'i', 'l', 'l', 'o', 'o', 'o', 'r', 'u', 'w', 'y']\n",
      "capitalize: Hi hello how are you\n",
      "titile: Hi Hello How Are You\n",
      "lower case: hi hello how are you\n",
      "upper case: HI HELLO HOW ARE YOU\n",
      "reverse case: HI HELLO HOW ARE YOU\n",
      "2\n",
      "find the index: 4\n",
      "filled with zero hi hello how are you\n",
      "index of the value: 4\n",
      "split the words or char: ['hi', 'hello', 'how', 'are', 'you']\n",
      "split lines ['hi hello how are you']\n",
      "replace the word: hi nani how are you\n",
      "strip first & last chars like zeros: this is string example....wow!!!\n",
      "remove spaces of string: geeks for geeks\n",
      "lstrip: hi hello how are you\n",
      "rstrip: hi hello how are you\n",
      "starts with: True\n",
      "ends with: False\n",
      "is alpha numric: False\n",
      "is alpha: False\n",
      "is lower: True\n",
      "is upper: False\n",
      "is digit False\n",
      "is numeric: False\n"
     ]
    }
   ],
   "source": [
    "### All String Methods\n",
    "\n",
    "s= \"hi hello how are you\"\n",
    "\n",
    "#1. Slicing\n",
    "s[1:3]\n",
    "s[1::4]\n",
    "s[1]\n",
    "s[-1]\n",
    "s[::-1]\n",
    "s[-9:-1]\n",
    "\n",
    "#2. len(): len of the string\n",
    "print(\"len of string:\",len(s))\n",
    "\n",
    "#3. max() & min()\n",
    "print(\"max value:\", max(s))\n",
    "print(\"min value:\", min(s))\n",
    "\n",
    "#4.join():  \n",
    "print(\"join method:\", \"_\".join(s))\n",
    "\n",
    "#5.sorted(): sorting \n",
    "print(\"sorting:\",sorted(s))\n",
    "\n",
    "#6. capitalize(): only fisrt letter capital \n",
    "print(\"capitalize:\",s.capitalize())\n",
    "\n",
    "#7. titile(): first every letter of word to be capital \n",
    "print(\"titile:\",s.title())\n",
    "\n",
    "#8.lower(): to be lower case\n",
    "print(\"lower case:\", s.lower())\n",
    "\n",
    "#9.upper(): to be upper case\n",
    "print(\"upper case:\", s.upper())\n",
    "\n",
    "#10.swapcase(): to be reverse case\n",
    "print(\"reverse case:\",s.swapcase())\n",
    "\n",
    "#11.count(): count char\n",
    "print(s.count('l'))\n",
    "      \n",
    "#12. find(): index value\n",
    "print(\"find the index:\", s.find('e'))\n",
    "\n",
    "#13. zfill(): zero fill \n",
    "print(\"filled with zero\", s.zfill(20))\n",
    "      \n",
    "#14.index(): index value\n",
    "print(\"index of the value:\", s.index('e'))\n",
    "      \n",
    "#15.split(): split the words or char, returns the list format \n",
    "print(\"split the words or char:\", s.split())\n",
    "print(\"split lines\", s.splitlines())\n",
    "\n",
    "#16.replace(): \n",
    "print(\"replace the word:\",s.replace('hello','nani'))\n",
    "\n",
    "#17.strip():  char or spaces remove from beginning or end \n",
    "str = \"0000000this is string example....wow!!!0000000\"\n",
    "print(\"strip first & last chars like zeros:\", str.strip('0'))\n",
    "string = \"\"\"    geeks for geeks    \"\"\"\n",
    "print(\"remove spaces of string:\",string.strip())\n",
    "print(\"lstrip:\",s.lstrip())    \n",
    "print(\"rstrip:\",s.rstrip())    \n",
    "\n",
    "#18.string conditions checking:\n",
    "print(\"starts with:\", s.startswith('h'))    \n",
    "print(\"ends with:\",s.endswith('l'))       \n",
    "print(\"is alpha numric:\",s.isalnum())             \n",
    "print(\"is alpha:\",s.isalpha())               \n",
    "print(\"is lower:\", s.islower())               \n",
    "print(\"is upper:\", s.isupper())              \n",
    "print(\"is digit\", s.isdigit())         \n",
    "print(\"is numeric:\",s.isnumeric())  "
   ]
  },
  {
   "cell_type": "markdown",
   "id": "10d50385",
   "metadata": {},
   "source": [
    "# 2. calculate length of string "
   ]
  },
  {
   "cell_type": "code",
   "execution_count": 1,
   "id": "14877ee1-889b-4909-8f4d-821adae5f716",
   "metadata": {},
   "outputs": [
    {
     "name": "stdout",
     "output_type": "stream",
     "text": [
      "length of string: 30\n"
     ]
    }
   ],
   "source": [
    "str1 = \"hi hello how are you my friend\"\n",
    "len(str1)\n",
    "\n",
    "c=0\n",
    "for i in str1:\n",
    "    c+=1\n",
    "print(\"length of string:\", c)"
   ]
  },
  {
   "cell_type": "markdown",
   "id": "a2fd4111",
   "metadata": {},
   "source": [
    "# 3. char count "
   ]
  },
  {
   "cell_type": "code",
   "execution_count": 38,
   "id": "81c209d9-459a-4414-bf68-9702a7935dba",
   "metadata": {},
   "outputs": [
    {
     "name": "stdout",
     "output_type": "stream",
     "text": [
      "{'h': 3, 'i': 2, ' ': 6, 'e': 3, 'l': 2, 'o': 3, 'w': 1, 'a': 1, 'r': 2, 'y': 2, 'u': 1, 'm': 1, 'f': 1, 'n': 1, 'd': 1}\n",
      "{'h': 6, 'i': 4, ' ': 12, 'e': 6, 'l': 4, 'o': 6, 'w': 2, 'a': 2, 'r': 4, 'y': 4, 'u': 2, 'm': 2, 'f': 2, 'n': 2, 'd': 2}\n"
     ]
    }
   ],
   "source": [
    "str2 = \"hi hello how are you my friend\"\n",
    "\n",
    "d={}\n",
    "for i in str2:\n",
    "    if i in d:\n",
    "        d[i]+=1\n",
    "    else:\n",
    "        d[i]=1\n",
    "print(d)\n",
    "\n",
    "##or\n",
    "d1={}\n",
    "for i in str2:\n",
    "    d[i] = d.get(i,0)+1\n",
    "print(d)"
   ]
  },
  {
   "cell_type": "markdown",
   "id": "411426a9",
   "metadata": {},
   "source": [
    "# 4. word count "
   ]
  },
  {
   "cell_type": "code",
   "execution_count": 2,
   "id": "76bd81af",
   "metadata": {},
   "outputs": [
    {
     "name": "stdout",
     "output_type": "stream",
     "text": [
      "{'hi': 1, 'hello': 1, 'how': 1, 'are': 1, 'you': 1, 'my': 1, 'friend': 1}\n"
     ]
    }
   ],
   "source": [
    "str1 = \"hi hello how are you my friend\"\n",
    "d={}\n",
    "for i in str1.split():\n",
    "    d[i]=d.get(i,0)+1\n",
    "print(d)"
   ]
  },
  {
   "cell_type": "markdown",
   "id": "ee9bd890",
   "metadata": {},
   "source": [
    "# 5. string reverse"
   ]
  },
  {
   "cell_type": "code",
   "execution_count": 45,
   "id": "c75f3443-d663-437f-ba53-aaa50ad0165e",
   "metadata": {},
   "outputs": [
    {
     "name": "stdout",
     "output_type": "stream",
     "text": [
      "dneirf ym uoy era woh olleh ih"
     ]
    }
   ],
   "source": [
    "str1 = \"hi hello how are you my friend\"\n",
    "##print(str1[::-1])\n",
    "l=len(str1)\n",
    "ind=l-1\n",
    "while ind!=-1:\n",
    "    print(str1[ind],end=\"\")\n",
    "    ind=ind-1"
   ]
  },
  {
   "cell_type": "markdown",
   "id": "33891d4d",
   "metadata": {},
   "source": [
    "# 6. String palindrome or not"
   ]
  },
  {
   "cell_type": "code",
   "execution_count": 49,
   "id": "eb42ff5a-88e2-407b-a187-7ec05d351c06",
   "metadata": {},
   "outputs": [
    {
     "name": "stdin",
     "output_type": "stream",
     "text": [
      "Enter string: malayalam\n"
     ]
    },
    {
     "name": "stdout",
     "output_type": "stream",
     "text": [
      "malayalam\n",
      "palindrom\n"
     ]
    }
   ],
   "source": [
    "n =input(\"Enter string:\")\n",
    "l=len(n)\n",
    "ind=l-1\n",
    "s=\"\"\n",
    "while ind!=-1:\n",
    "    s=s+n[ind]\n",
    "    ind=ind-1\n",
    "print(s)\n",
    "if n==s:\n",
    "    print(\"palindrom\")\n",
    "else:\n",
    "    print(\"not palindrom\")"
   ]
  },
  {
   "cell_type": "markdown",
   "id": "3c07767d",
   "metadata": {},
   "source": [
    "# 7. remove the duplicate chars in string"
   ]
  },
  {
   "cell_type": "code",
   "execution_count": 50,
   "id": "6cef5db0-6538-458c-8e6a-3978ef39d01e",
   "metadata": {},
   "outputs": [
    {
     "name": "stdout",
     "output_type": "stream",
     "text": [
      "hi elowaryumfndt\n"
     ]
    }
   ],
   "source": [
    "str1=\"hi hello how are you hi my friend in the\"\n",
    "s=\"\"\n",
    "for i in str1:\n",
    "    if i not in s:\n",
    "        s=s+i\n",
    "print(s)"
   ]
  },
  {
   "cell_type": "markdown",
   "id": "269bcfc7",
   "metadata": {},
   "source": [
    "# 8. remove the duplicate words in string"
   ]
  },
  {
   "cell_type": "code",
   "execution_count": 59,
   "id": "80352c73-e004-42a8-a042-af8fc9590065",
   "metadata": {},
   "outputs": [
    {
     "name": "stdout",
     "output_type": "stream",
     "text": [
      "hi hello how are you my friend in the \n"
     ]
    }
   ],
   "source": [
    "str1=\"hi hello how are you hi my friend in the\"\n",
    "s=\"\"\n",
    "for i in str1.split():\n",
    "    if i not in s:\n",
    "        s=s+i+\" \"\n",
    "print(s)\n",
    "\n",
    "## \"\".join(set(str1))"
   ]
  },
  {
   "cell_type": "markdown",
   "id": "59dcbf19",
   "metadata": {},
   "source": [
    "# 9. string match only vowels"
   ]
  },
  {
   "cell_type": "code",
   "execution_count": 4,
   "id": "562aebe0",
   "metadata": {},
   "outputs": [
    {
     "name": "stdout",
     "output_type": "stream",
     "text": [
      "i eo o ae ou  ie\n"
     ]
    }
   ],
   "source": [
    "# str1=\"hi hello how are you \"\n",
    "vowels = \"aeiou AEIOU\"\n",
    "s=\"\"\n",
    "for i in str1:\n",
    "    if i in vowels:\n",
    "        s=s+i\n",
    "print(s)"
   ]
  },
  {
   "cell_type": "markdown",
   "id": "066d1fa6",
   "metadata": {},
   "source": [
    "# 10.longest word in sentance"
   ]
  },
  {
   "cell_type": "code",
   "execution_count": 124,
   "id": "3d095cfb-e551-4515-b355-4170a051b762",
   "metadata": {},
   "outputs": [
    {
     "name": "stdout",
     "output_type": "stream",
     "text": [
      "hello\n",
      "['are', 'hello', 'hi', 'how', 'you']\n"
     ]
    }
   ],
   "source": [
    "str1=\"hi hello how are you \"\n",
    "max_val = 0\n",
    "for i in str1.split():\n",
    "    if len(i) > max_val:\n",
    "        max_val = len(i)\n",
    "        w=i\n",
    "print(w)"
   ]
  },
  {
   "cell_type": "code",
   "execution_count": 69,
   "id": "2afcc2bf",
   "metadata": {},
   "outputs": [
    {
     "name": "stdout",
     "output_type": "stream",
     "text": [
      "The longest word in the sentence is: hello\n"
     ]
    }
   ],
   "source": [
    "str1 = \"hi hello how are you\"\n",
    "\n",
    "word = ''  \n",
    "for w in str1.split():\n",
    "    if len(w) > len(word):\n",
    "        word = w\n",
    "print(\"The longest word in the sentence is:\", longest_word)"
   ]
  },
  {
   "cell_type": "markdown",
   "id": "9af34f70",
   "metadata": {},
   "source": [
    "# 11. remove the ith no of char in string"
   ]
  },
  {
   "cell_type": "code",
   "execution_count": 111,
   "id": "2afedc88-640f-4371-9ade-421ef1d7e3dc",
   "metadata": {},
   "outputs": [
    {
     "name": "stdin",
     "output_type": "stream",
     "text": [
      "remove the char in string: 9\n"
     ]
    },
    {
     "name": "stdout",
     "output_type": "stream",
     "text": [
      "hi hello ow are you\n"
     ]
    }
   ],
   "source": [
    "n=int(input(\"remove the char in string:\")) \n",
    "s=\"hi hello how are you\"\n",
    "m=\"\"\n",
    "for i in range(len(s)):\n",
    "    if n!=i:\n",
    "        m=m+s[i]\n",
    "print(m)"
   ]
  },
  {
   "cell_type": "markdown",
   "id": "e16746a4",
   "metadata": {},
   "source": [
    "# 12. Slicing programs"
   ]
  },
  {
   "cell_type": "code",
   "execution_count": 143,
   "id": "3528fef6-c8be-4bdd-9e8c-d3197ae8656e",
   "metadata": {},
   "outputs": [
    {
     "data": {
      "text/plain": [
       "'HELLo how are you'"
      ]
     },
     "execution_count": 143,
     "metadata": {},
     "output_type": "execute_result"
    }
   ],
   "source": [
    "#12.1 first 2 char + last 2 char \n",
    "s=\"Naresh Reddy neddy Niraj\"\n",
    "s[:2]+s[-2:]\n",
    "\n",
    "#12.2 first char occurance change to $ in string if it repeat\n",
    "char=s[0]\n",
    "s=s.replace(s[0],'$')\n",
    "s=char+s[1:]\n",
    "s\n",
    "\n",
    "#12.3 first two strings swap first two char in string \n",
    "sample:\"xyz abc\"\n",
    "output: \"xyc abz\"\n",
    "s1=\"abc\"\n",
    "s2=\"xyz\"\n",
    "r1= s2[:2]+s1[2:]\n",
    "r2= s1[:2]+s2[2:]\n",
    "r1+\" \"+r2\n",
    "\n",
    "#12.4 \"ing\" add if string length 3 or more, if already string ends with ing then add \"ly\" if less the 3 not change \n",
    "sample: \"abc\"\n",
    "expect: \"abcing\"\n",
    "sample: \"string\"\n",
    "expect: \"stringly\"\n",
    "s=\"abc\"\n",
    "if len(s) >= 3:\n",
    "    if s[-3:]==\"ing\":\n",
    "        s=s+\"ly\"\n",
    "    else:\n",
    "        s=s+\"ing\"\n",
    "s\n",
    "\n",
    "#12.5 first & last char exchange\n",
    "s= \"Hello\"\n",
    "s[-1]+s[1:-1]+s[0]\n",
    "\n",
    "#12.6 insert string like \n",
    "sample: \"[[]]\"\n",
    "word=\"Python\"\n",
    "output: \"[[Python]]\"\n",
    "s=\"[[]]\"\n",
    "s[:2]+word+s[2:]\n",
    "\n",
    "#12.7 atleast 4 char is upper case in string\n",
    "s=\"hello how are you\"\n",
    "s[:4].upper()+s[4:]"
   ]
  },
  {
   "cell_type": "markdown",
   "id": "bca24fbe",
   "metadata": {},
   "source": [
    "# 14. sum of digits in string "
   ]
  },
  {
   "cell_type": "code",
   "execution_count": 146,
   "id": "59a404c0-f161-4e51-8624-e522a2232ab9",
   "metadata": {},
   "outputs": [
    {
     "name": "stdout",
     "output_type": "stream",
     "text": [
      "66\n"
     ]
    }
   ],
   "source": [
    "s=\"123 hi hello 456 how are 678 and 987\"\n",
    "c=0\n",
    "for i in s:\n",
    "    if i.isdigit():\n",
    "        c=c+int(i) ## type casting convert string to int\n",
    "print(c)"
   ]
  },
  {
   "cell_type": "markdown",
   "id": "62039f6e",
   "metadata": {},
   "source": [
    "# 15. replace char 2nd occurance in string "
   ]
  },
  {
   "cell_type": "code",
   "execution_count": 40,
   "id": "c93b8cb1",
   "metadata": {},
   "outputs": [
    {
     "name": "stdout",
     "output_type": "stream",
     "text": [
      "resta$t\n"
     ]
    }
   ],
   "source": [
    "s = \"restart\"\n",
    "w = s[0]\n",
    "for c in s[1:]:\n",
    "    if c == s[0]:\n",
    "        w = w+'$'\n",
    "    else:\n",
    "        w = w+c\n",
    "print(w)"
   ]
  },
  {
   "cell_type": "code",
   "execution_count": 42,
   "id": "b0c531af",
   "metadata": {},
   "outputs": [
    {
     "name": "stdout",
     "output_type": "stream",
     "text": [
      "$esta$t-restart\n",
      "resta$t-restart\n"
     ]
    }
   ],
   "source": [
    "s = \"restart-restart\"\n",
    "res = s.replace('r', '$', 2)  # Replace 2 occurance only\n",
    "print(res)\n",
    "\n",
    "s = \"restart-restart\"\n",
    "res = s[0]+s[1:].replace('r', '$', 1)  # Replace 2 occurance only\n",
    "print(res)"
   ]
  },
  {
   "cell_type": "code",
   "execution_count": 47,
   "id": "991136aa",
   "metadata": {},
   "outputs": [
    {
     "name": "stdout",
     "output_type": "stream",
     "text": [
      "restart-$estart\n"
     ]
    }
   ],
   "source": [
    "str1 = \"restart-restart\"\n",
    "count = 0\n",
    "word = ''\n",
    "\n",
    "for char in str1:\n",
    "    if char == 'r':\n",
    "        count += 1\n",
    "        if count == 3:\n",
    "            word +='$'\n",
    "        else:\n",
    "            word += char\n",
    "    else:\n",
    "        word += char\n",
    "print(word)"
   ]
  },
  {
   "cell_type": "markdown",
   "id": "ebf82e0e",
   "metadata": {},
   "source": [
    "# 16. remove odd or even index chars in string"
   ]
  },
  {
   "cell_type": "code",
   "execution_count": 76,
   "id": "b9fb2d9d",
   "metadata": {},
   "outputs": [
    {
     "name": "stdout",
     "output_type": "stream",
     "text": [
      "Enter String:python\n",
      "pto"
     ]
    },
    {
     "data": {
      "text/plain": [
       "'p t o'"
      ]
     },
     "execution_count": 76,
     "metadata": {},
     "output_type": "execute_result"
    }
   ],
   "source": [
    "s = input(\"Enter String:\")\n",
    "\n",
    "for i in range(len(s)):\n",
    "    if i%2==0:\n",
    "        print(s[i],end='')\n",
    "        \n",
    "\" \".join([s[i] for i in range(len(s)) if i%2==0])"
   ]
  },
  {
   "cell_type": "code",
   "execution_count": 71,
   "id": "a6d21b1c",
   "metadata": {},
   "outputs": [
    {
     "name": "stdout",
     "output_type": "stream",
     "text": [
      "Enter String:python\n",
      "y\n",
      "h\n",
      "n\n"
     ]
    }
   ],
   "source": [
    "s = input(\"Enter String:\")\n",
    "\n",
    "for i in range(len(s)):\n",
    "    if i%2!=0:\n",
    "        print(s[i])"
   ]
  },
  {
   "cell_type": "markdown",
   "id": "06e28667",
   "metadata": {},
   "source": [
    "# 17. words sorted"
   ]
  },
  {
   "cell_type": "code",
   "execution_count": 83,
   "id": "53ffddb2",
   "metadata": {},
   "outputs": [
    {
     "name": "stdout",
     "output_type": "stream",
     "text": [
      "black, green, red, white\n"
     ]
    }
   ],
   "source": [
    "# without using you may use sorting algorithams\n",
    "s = ['red', 'white', 'black', 'red', 'green', 'black']\n",
    "words = [w for w in s]\n",
    "print(\", \".join(sorted(list(set(words)))))"
   ]
  },
  {
   "cell_type": "markdown",
   "id": "4543cf45",
   "metadata": {},
   "source": [
    "# 18. Sorted with key"
   ]
  },
  {
   "cell_type": "code",
   "execution_count": 129,
   "id": "8f50b349",
   "metadata": {},
   "outputs": [
    {
     "name": "stdout",
     "output_type": "stream",
     "text": [
      "[' ', ' ', ' ', '1', '2', '3', '8', 'N', 'P', 'R', 'a', 'a', 'd', 'd', 'e', 'e', 'h', 'l', 'r', 's', 'u', 'y']\n",
      "['y', 'u', 's', 'r', 'l', 'h', 'e', 'e', 'd', 'd', 'a', 'a', 'R', 'P', 'N', '8', '3', '2', '1', ' ', ' ', ' ']\n",
      "['N', 'a', 'r', 'e', 's', 'h', ' ', 'R', 'e', 'd', 'd', 'y', ' ', '1', '2', '3', '8', ' ', 'P', 'a', 'l', 'u']\n",
      "[' ', ' ', ' ', '1', '2', '3', '8', 'a', 'a', 'd', 'd', 'e', 'e', 'h', 'l', 'N', 'P', 'r', 'R', 's', 'u', 'y']\n",
      "[' ', ' ', ' ', '1', '2', '3', '8', 'a', 'a', 'd', 'd', 'e', 'e', 'h', 'l', 'N', 'P', 'r', 'R', 's', 'u', 'y']\n",
      "[' ', ' ', ' ', '1', '2', '3', '8', 'a', 'a', 'd', 'd', 'e', 'e', 'h', 'l', 'r', 's', 'u', 'y', 'N', 'P', 'R']\n",
      "[' ', ' ', ' ', '1', '2', '3', '8', 'N', 'P', 'R', 'a', 'a', 'd', 'd', 'e', 'e', 'h', 'l', 'r', 's', 'u', 'y']\n",
      "['N', ' ', 'R', ' ', '1', '2', '3', '8', ' ', 'P', 'a', 'r', 'e', 's', 'h', 'e', 'd', 'd', 'y', 'a', 'l', 'u']\n",
      "['N', 'a', 'r', 'e', 's', 'h', ' ', 'R', 'e', 'd', 'd', 'y', ' ', ' ', 'P', 'a', 'l', 'u', '1', '2', '3', '8']\n"
     ]
    }
   ],
   "source": [
    "s = \"Naresh Reddy 1238 Palu\"\n",
    "print(sorted(s))\n",
    "print(sorted(s,reverse=True))\n",
    "print(sorted(s,key=len))\n",
    "print(sorted(s,key=str.upper))\n",
    "print(sorted(s,key=lambda x:x[-1]))\n",
    "print(sorted(s, key=lambda x: sum(1 for c in x if c.islower())))\n",
    "print(sorted(s, key=lambda x: sum(1 for c in x if c.isdigit())))"
   ]
  },
  {
   "cell_type": "markdown",
   "id": "2d0cb2e7",
   "metadata": {},
   "source": [
    "# 19. number after each 3 digit comma,"
   ]
  },
  {
   "cell_type": "code",
   "execution_count": 145,
   "id": "f1040fe6",
   "metadata": {},
   "outputs": [
    {
     "name": "stdout",
     "output_type": "stream",
     "text": [
      "300,000,000,00,\b\n"
     ]
    }
   ],
   "source": [
    "n = '30000000000'\n",
    "for i in range(0,len(n),3):\n",
    "    print(n[i:i+3]+\",\",end=\"\")\n",
    "print(\"\\b\")"
   ]
  },
  {
   "cell_type": "code",
   "execution_count": 146,
   "id": "4482b2b4",
   "metadata": {},
   "outputs": [
    {
     "name": "stdout",
     "output_type": "stream",
     "text": [
      "30,000,000,000\n"
     ]
    }
   ],
   "source": [
    "n = '30000000000'\n",
    "fn = '{:,}'.format(int(n))\n",
    "print(fn)"
   ]
  },
  {
   "cell_type": "markdown",
   "id": "56e645fe",
   "metadata": {},
   "source": [
    "# 20. index of each char in string"
   ]
  },
  {
   "cell_type": "code",
   "execution_count": 148,
   "id": "3f77cf77",
   "metadata": {},
   "outputs": [
    {
     "name": "stdout",
     "output_type": "stream",
     "text": [
      "[(0, 'h'), (1, 'e'), (2, 'l'), (3, 'l'), (4, 'o'), (5, ' '), (6, 'h'), (7, 'i')]\n"
     ]
    }
   ],
   "source": [
    "s = \"hello hi\"\n",
    "print(list(enumerate(s)))"
   ]
  },
  {
   "cell_type": "markdown",
   "id": "86eaf084",
   "metadata": {},
   "source": [
    "# 21. string convert list of words (or) list of words convert to string"
   ]
  },
  {
   "cell_type": "code",
   "execution_count": 149,
   "id": "f8c6e91f",
   "metadata": {},
   "outputs": [
    {
     "name": "stdout",
     "output_type": "stream",
     "text": [
      "['The', 'quick', 'brown', 'fox', 'jumps', 'over', 'the', 'lazy', 'dog.']\n"
     ]
    }
   ],
   "source": [
    "str1 = \"The quick brown fox jumps over the lazy dog.\"\n",
    "print(str1.split(' '))"
   ]
  },
  {
   "cell_type": "code",
   "execution_count": 150,
   "id": "72f3573b",
   "metadata": {},
   "outputs": [
    {
     "name": "stdout",
     "output_type": "stream",
     "text": [
      "The quick brown fox jumps over the lazy dog.\n"
     ]
    }
   ],
   "source": [
    "l = ['The', 'quick', 'brown', 'fox', 'jumps', 'over', 'the', 'lazy', 'dog.']\n",
    "print(\" \".join(l))"
   ]
  },
  {
   "cell_type": "markdown",
   "id": "828ca0b6",
   "metadata": {},
   "source": [
    "# 22. from . to , "
   ]
  },
  {
   "cell_type": "code",
   "execution_count": 159,
   "id": "6c642f8e",
   "metadata": {},
   "outputs": [
    {
     "name": "stdout",
     "output_type": "stream",
     "text": [
      "32,054.23\n"
     ]
    }
   ],
   "source": [
    "number_str = '32.054,23'\n",
    "number_str = number_str.replace('.', '')  \n",
    "number_str = number_str.replace(',', '.')  \n",
    "number = float(number_str)  \n",
    "formatted_number = '{:,.2f}'.format(number)  \n",
    "print(formatted_number)"
   ]
  },
  {
   "cell_type": "code",
   "execution_count": 169,
   "id": "7b6d7260",
   "metadata": {},
   "outputs": [
    {
     "name": "stdout",
     "output_type": "stream",
     "text": [
      "32,054.23\n"
     ]
    }
   ],
   "source": [
    "number_str = '32.054,23'\n",
    "w = ''\n",
    "for char in number_str:\n",
    "    if char == '.':\n",
    "        w += ','\n",
    "    elif char == ',':\n",
    "        w += '.'\n",
    "    else:\n",
    "        w += char\n",
    "print(w)"
   ]
  },
  {
   "cell_type": "code",
   "execution_count": 172,
   "id": "79bfdd8c",
   "metadata": {},
   "outputs": [
    {
     "name": "stdout",
     "output_type": "stream",
     "text": [
      "hi hello 32,054.23 how are you\n"
     ]
    }
   ],
   "source": [
    "number_str = 'hi hello 32.054,23 how are you'\n",
    "w = ''\n",
    "for char in number_str:\n",
    "    if char == '.':\n",
    "        w += ','\n",
    "    elif char == ',':\n",
    "        w += '.'\n",
    "    else:\n",
    "        w += char\n",
    "print(w)"
   ]
  },
  {
   "cell_type": "code",
   "execution_count": 175,
   "id": "587d1aa9",
   "metadata": {},
   "outputs": [
    {
     "name": "stdout",
     "output_type": "stream",
     "text": [
      "hi hello 32,054.23\n"
     ]
    }
   ],
   "source": [
    "input_str = 'hi hello 32.054,23'\n",
    "result = []\n",
    "decimal_found = False\n",
    "\n",
    "for char in input_str:\n",
    "    if char.isdigit():\n",
    "        result.append(char)\n",
    "    elif char == ',':\n",
    "        if decimal_found:\n",
    "            result.append('.')\n",
    "        else:\n",
    "            result.append(',')\n",
    "    elif char == '.':\n",
    "        result.append(',')\n",
    "        decimal_found = True\n",
    "    else:\n",
    "        result.append(char)\n",
    "    formatted_str = ''.join(result)\n",
    "print(formatted_str)"
   ]
  },
  {
   "cell_type": "markdown",
   "id": "f445fdd1",
   "metadata": {},
   "source": [
    "# 23. first non-repeating character in a given string"
   ]
  },
  {
   "cell_type": "code",
   "execution_count": 182,
   "id": "b068c19a",
   "metadata": {},
   "outputs": [
    {
     "name": "stdout",
     "output_type": "stream",
     "text": [
      "a\n",
      "d\n",
      "None\n"
     ]
    }
   ],
   "source": [
    "def first_non_repeating_character(str1):\n",
    "    l = []\n",
    "    d = {}\n",
    "    for i in str1:\n",
    "        d[i] = d.get(i,0)+1 \n",
    "        l.append(i)\n",
    "    for i in l:\n",
    "        if d[i] == 1:\n",
    "            return i\n",
    "    return None\n",
    "\n",
    "print(first_non_repeating_character('abcdef'))\n",
    "print(first_non_repeating_character('abcabcdef'))\n",
    "print(first_non_repeating_character('aabbcc'))"
   ]
  },
  {
   "cell_type": "markdown",
   "id": "8cb8897e",
   "metadata": {},
   "source": [
    "# 24. first repeating character in a given string"
   ]
  },
  {
   "cell_type": "code",
   "execution_count": 184,
   "id": "cf7362be",
   "metadata": {},
   "outputs": [
    {
     "name": "stdout",
     "output_type": "stream",
     "text": [
      "None\n",
      "a\n",
      "a\n"
     ]
    }
   ],
   "source": [
    "def first_repeating_character(str1):\n",
    "    l = []\n",
    "    d = {}\n",
    "    for i in str1:\n",
    "        d[i] = d.get(i,0)+1 \n",
    "        l.append(i)\n",
    "    for i in l:\n",
    "        if d[i] == 2:\n",
    "            return i\n",
    "    return None\n",
    "\n",
    "print(first_repeating_character('abcdef'))\n",
    "print(first_repeating_character('abcabcdef'))\n",
    "print(first_repeating_character('aabbcc'))"
   ]
  },
  {
   "cell_type": "markdown",
   "id": "e5fa630e",
   "metadata": {},
   "source": [
    "# 25. first non-repeating character with index value"
   ]
  },
  {
   "cell_type": "code",
   "execution_count": 185,
   "id": "31c94d6b",
   "metadata": {},
   "outputs": [
    {
     "name": "stdout",
     "output_type": "stream",
     "text": [
      "('a', 0)\n",
      "('d', 6)\n",
      "None\n"
     ]
    }
   ],
   "source": [
    "def first_non_repeating_character(str1):\n",
    "    l = []\n",
    "    d = {}\n",
    "    for i in str1:\n",
    "        d[i] = d.get(i,0)+1 \n",
    "        l.append(i)\n",
    "    for i in l:\n",
    "        if d[i] == 1:\n",
    "            return i,str1.index(i)\n",
    "    return None\n",
    "\n",
    "print(first_non_repeating_character('abcdef'))\n",
    "print(first_non_repeating_character('abcabcdef'))\n",
    "print(first_non_repeating_character('aabbcc'))"
   ]
  },
  {
   "cell_type": "markdown",
   "id": "485d3072",
   "metadata": {},
   "source": [
    "# 26. first non repeated word"
   ]
  },
  {
   "cell_type": "code",
   "execution_count": 189,
   "id": "2364dc4e",
   "metadata": {},
   "outputs": [
    {
     "name": "stdout",
     "output_type": "stream",
     "text": [
      "ca\n",
      "None\n",
      "None\n",
      "ab\n"
     ]
    }
   ],
   "source": [
    "def first_non_repeated_word(str1):\n",
    "    l = []\n",
    "    d = {}\n",
    "    for i in str1.split():\n",
    "        d[i] = d.get(i,0)+1 \n",
    "        l.append(i)\n",
    "    for i in l:\n",
    "        if d[i] == 1:\n",
    "            return i\n",
    "    return None\n",
    "\n",
    "print(first_non_repeated_word(\"ab ca bc ab\"))\n",
    "print(first_non_repeated_word(\"ab ca bc ab ca ab bc\"))\n",
    "print(first_non_repeated_word(\"ab ca bc ca ab bc\"))\n",
    "print(first_non_repeated_word(\"ab ca bc\"))"
   ]
  },
  {
   "cell_type": "markdown",
   "id": "2713562b",
   "metadata": {},
   "source": [
    "# 27. first  repeated word "
   ]
  },
  {
   "cell_type": "code",
   "execution_count": 188,
   "id": "b396ec84",
   "metadata": {},
   "outputs": [
    {
     "name": "stdout",
     "output_type": "stream",
     "text": [
      "ab\n",
      "ca\n",
      "ab\n",
      "None\n"
     ]
    }
   ],
   "source": [
    "def first_repeated_word(str1):\n",
    "    l = []\n",
    "    d = {}\n",
    "    for i in str1.split():\n",
    "        d[i] = d.get(i,0)+1 \n",
    "        l.append(i)\n",
    "    for i in l:\n",
    "        if d[i] == 2:\n",
    "            return i\n",
    "    return None\n",
    "\n",
    "print(first_repeated_word(\"ab ca bc ab\"))\n",
    "print(first_repeated_word(\"ab ca bc ab ca ab bc\"))\n",
    "print(first_repeated_word(\"ab ca bc ca ab bc\"))\n",
    "print(first_repeated_word(\"ab ca bc\"))"
   ]
  },
  {
   "cell_type": "markdown",
   "id": "52104494",
   "metadata": {},
   "source": [
    "# 28. second non-repeated char"
   ]
  },
  {
   "cell_type": "code",
   "execution_count": 211,
   "id": "84447b50",
   "metadata": {},
   "outputs": [
    {
     "name": "stdout",
     "output_type": "stream",
     "text": [
      "b\n",
      "e\n",
      "None\n"
     ]
    }
   ],
   "source": [
    "def second_non_repeating_character(str1):\n",
    "    l = []\n",
    "    d = {}\n",
    "    for i in str1:\n",
    "        d[i] = d.get(i,0)+1 \n",
    "        l.append(i)\n",
    "    first = None  \n",
    "    second = None\n",
    "    for i in l:\n",
    "        if d[i] == 1:\n",
    "            if first is None:\n",
    "                first = i\n",
    "            elif second is None and i!=first:\n",
    "                second = i\n",
    "                break  \n",
    "    return second\n",
    "\n",
    "print(second_non_repeating_character('abcdef'))\n",
    "print(second_non_repeating_character('abcabcdef'))\n",
    "print(second_non_repeating_character('aabbcc'))"
   ]
  },
  {
   "cell_type": "markdown",
   "id": "fd024494",
   "metadata": {},
   "source": [
    "# 29. second repeated word"
   ]
  },
  {
   "cell_type": "code",
   "execution_count": 210,
   "id": "269a20e1",
   "metadata": {},
   "outputs": [
    {
     "name": "stdout",
     "output_type": "stream",
     "text": [
      "bc\n",
      "bc\n",
      "how\n"
     ]
    }
   ],
   "source": [
    "def second_repeated_word(str1):\n",
    "    l = []\n",
    "    d = {}\n",
    "    for i in str1.split():\n",
    "        d[i] = d.get(i,0)+1 \n",
    "        l.append(i)\n",
    "    first = None  \n",
    "    second = None\n",
    "    for i in l:\n",
    "        if d[i] == 2:\n",
    "            if first is None:\n",
    "                first = i\n",
    "            elif second is None and i!=first:\n",
    "                second = i\n",
    "                break  \n",
    "    return second\n",
    "\n",
    "print(second_repeated_word('ab ab bc bc da da'))\n",
    "print(second_repeated_word('ab bc ca ad ab da bc'))\n",
    "print(second_repeated_word('hi hello hi how are how you'))"
   ]
  },
  {
   "cell_type": "markdown",
   "id": "33cef9df",
   "metadata": {},
   "source": [
    "# 30 Str: remove extra space in string"
   ]
  },
  {
   "cell_type": "code",
   "execution_count": 1,
   "id": "26828e40",
   "metadata": {},
   "outputs": [
    {
     "data": {
      "text/plain": [
       "'Hi Hello show the demo jvm'"
      ]
     },
     "execution_count": 1,
     "metadata": {},
     "output_type": "execute_result"
    }
   ],
   "source": [
    "s = \"Hi  Hello   show      the   demo  jvm\"    \n",
    "s = s.split()\n",
    "\" \".join(s)"
   ]
  },
  {
   "cell_type": "code",
   "execution_count": 2,
   "id": "53d8865b",
   "metadata": {},
   "outputs": [
    {
     "name": "stdout",
     "output_type": "stream",
     "text": [
      "Enter Name:h i h e l l o\n",
      "hihello"
     ]
    }
   ],
   "source": [
    "s = input(\"Enter Name:\")    \n",
    "\n",
    "for i in s:\n",
    "    if i!=\" \":\n",
    "        print(i,end=\"\")"
   ]
  },
  {
   "cell_type": "code",
   "execution_count": 3,
   "id": "7cea1deb",
   "metadata": {},
   "outputs": [
    {
     "name": "stdout",
     "output_type": "stream",
     "text": [
      "w3resource\n",
      "abc\n"
     ]
    }
   ],
   "source": [
    "def remove_spaces(str1):\n",
    "    str1 = str1.replace(' ','')\n",
    "    return str1\n",
    "    \n",
    "print(remove_spaces(\"w 3 res ou r ce\"))\n",
    "print(remove_spaces(\"a b c\"))"
   ]
  },
  {
   "cell_type": "markdown",
   "id": "6b0f5a00",
   "metadata": {},
   "source": [
    "# 31. remove leading zero's"
   ]
  },
  {
   "cell_type": "code",
   "execution_count": 29,
   "id": "34de6e9d",
   "metadata": {},
   "outputs": [
    {
     "name": "stdout",
     "output_type": "stream",
     "text": [
      "255.24.1.1\n",
      "127.0.0.1 \n"
     ]
    }
   ],
   "source": [
    "def remove_zeros_from_ip(s):\n",
    "    ls = []\n",
    "    for i in s.split(\".\"):\n",
    "        if int(i) > 0 and i[0] == \"0\":\n",
    "            ls.append(i.lstrip(\"0\"))\n",
    "        else:\n",
    "            ls.append(i)\n",
    "    return \".\".join(ls)\n",
    "\n",
    "print(remove_zeros_from_ip(\"255.024.01.01\"))\n",
    "print(remove_zeros_from_ip(\"127.0.0.01 \"))"
   ]
  },
  {
   "cell_type": "code",
   "execution_count": 33,
   "id": "862524e3",
   "metadata": {},
   "outputs": [
    {
     "name": "stdout",
     "output_type": "stream",
     "text": [
      "255.24.1.1\n",
      "127.0.0.1\n"
     ]
    }
   ],
   "source": [
    "def remove_zeros_from_ip(s):\n",
    "    ls = [i.lstrip(\"0\") if (int(i) > 0 and i[0] == \"0\") else i for i in s.split(\".\")]\n",
    "    return \".\".join(ls)\n",
    "\n",
    "print(remove_zeros_from_ip(\"255.024.01.01\"))\n",
    "print(remove_zeros_from_ip(\"127.0.0.01\"))"
   ]
  },
  {
   "cell_type": "markdown",
   "id": "9afa2956",
   "metadata": {},
   "source": [
    "# 32. common char in two strings "
   ]
  },
  {
   "cell_type": "code",
   "execution_count": 44,
   "id": "c1c4ddf1",
   "metadata": {},
   "outputs": [
    {
     "name": "stdout",
     "output_type": "stream",
     "text": [
      "P\n",
      "P\n"
     ]
    }
   ],
   "source": [
    "str1 = \"Python\"\n",
    "str2 = \"PHP\"\n",
    "\n",
    "for i in str1: \n",
    "    for j in str2:\n",
    "        if i==j:\n",
    "            print(i)"
   ]
  },
  {
   "cell_type": "markdown",
   "id": "a0fe6b9d",
   "metadata": {},
   "source": [
    "# 33. set the strong password\n",
    "\n",
    "Write a Python program to check whether a given string contains a capital letter, a lower case letter, a number and a minimum length."
   ]
  },
  {
   "cell_type": "code",
   "execution_count": 141,
   "id": "48d8d8bd",
   "metadata": {},
   "outputs": [
    {
     "name": "stdout",
     "output_type": "stream",
     "text": [
      "Valid Password\n",
      "Please Enter Valid Password!\n"
     ]
    }
   ],
   "source": [
    "def is_valid_password(password, min_length):\n",
    "    has_upper = False\n",
    "    has_lower = False\n",
    "    has_digit = False\n",
    "    has_special = False\n",
    "\n",
    "    if len(password) < min_length:\n",
    "        return \"Please Enter Minimum 8 digit Password\"\n",
    "    for char in password:\n",
    "        if char.isupper():\n",
    "            has_upper = True\n",
    "        elif char.islower():\n",
    "            has_lower = True\n",
    "        elif char.isdigit():\n",
    "            has_digit = True\n",
    "        elif char in \"!~@#$%^&*()_+=/?'][{}],<>|\\\"\":\n",
    "            has_special = True\n",
    "        if has_upper and has_lower and has_digit and has_special:\n",
    "            return \"Valid Password\"\n",
    "    return \"Please Enter Valid Password!\"\n",
    "\n",
    "password1 = \"Demo@123\"\n",
    "min_length1 = 8\n",
    "print(is_valid_password(password1, min_length1))  \n",
    "\n",
    "password2 = \"Demo1234\"\n",
    "min_length2 = 8\n",
    "print(is_valid_password(password2, min_length2))"
   ]
  },
  {
   "cell_type": "code",
   "execution_count": 146,
   "id": "17bdaec8",
   "metadata": {},
   "outputs": [
    {
     "name": "stdout",
     "output_type": "stream",
     "text": [
      "Please Enter Password:Nani@2081\n",
      "Valid Password!-Please wait login is processing\n"
     ]
    }
   ],
   "source": [
    "def check_string(s):\n",
    "    messg = []\n",
    "    if not any(x.isupper() for x in s):\n",
    "        messg.append('Password must be 1 upper-case Letter.')\n",
    "    if not any(x.islower() for x in s):\n",
    "        messg.append('Password must be 1 lower-case Letter.')\n",
    "    if not any(x.isdigit() for x in s):\n",
    "        messg.append('Password must be 1 digit')\n",
    "    if len(s) < 8:\n",
    "        messg.append('Password length should be atleast 8 Letters.')  \n",
    "    if not any(x in \"!~@#$%^&*()_+=/?'][{}],<>|\\\"\" for x in s):\n",
    "        messg.append('Password must be 1 special Character')\n",
    "    if not messg:\n",
    "        messg.append('Valid Password!-Please wait login is processing')\n",
    "    return \"\".join(messg)\n",
    "    \n",
    "s = input(\"Please Enter Password:\")\n",
    "print(check_string(s))"
   ]
  },
  {
   "cell_type": "markdown",
   "id": "e95205aa",
   "metadata": {},
   "source": [
    "# 34. swap cases in a given string"
   ]
  },
  {
   "cell_type": "code",
   "execution_count": 151,
   "id": "4d041ca9",
   "metadata": {},
   "outputs": [
    {
     "name": "stdout",
     "output_type": "stream",
     "text": [
      "pYTHON pROGRAM\n",
      "pYTHON pROGRAM\n"
     ]
    }
   ],
   "source": [
    "str1 = \"Python Program\"\n",
    "\n",
    "w = \"\"\n",
    "for i in str1:\n",
    "    if i.isupper():\n",
    "        w=w+i.lower()\n",
    "    else:\n",
    "        w=w+i.upper()\n",
    "print(w)\n",
    "\n",
    "# string built-in method\n",
    "print(str1.swapcase())"
   ]
  },
  {
   "cell_type": "markdown",
   "id": "14f9d895",
   "metadata": {},
   "source": [
    "# 35.count Uppercase, Lowercase, special char and numeric values in a given string."
   ]
  },
  {
   "cell_type": "code",
   "execution_count": 152,
   "id": "da9a1272",
   "metadata": {},
   "outputs": [
    {
     "name": "stdout",
     "output_type": "stream",
     "text": [
      "Uppercase letters: 2\n",
      "Lowercase letters: 8\n",
      "Special characters: 3\n",
      "Numeric values: 3\n"
     ]
    }
   ],
   "source": [
    "def count_characters(string):\n",
    "    upper_count = 0\n",
    "    lower_count = 0\n",
    "    special_count = 0\n",
    "    digit_count = 0\n",
    "    \n",
    "    for char in string:\n",
    "        if char.isupper():\n",
    "            upper_count += 1\n",
    "        elif char.islower():\n",
    "            lower_count += 1\n",
    "        elif char.isdigit():\n",
    "            digit_count += 1\n",
    "        else:\n",
    "            special_count += 1\n",
    "    return upper_count, lower_count, special_count, digit_count\n",
    "\n",
    "input_string = \"Hello World! 123\"\n",
    "upper, lower, special, digit = count_characters(input_string)\n",
    "\n",
    "print(\"Uppercase letters:\", upper)\n",
    "print(\"Lowercase letters:\", lower)\n",
    "print(\"Special characters:\", special)\n",
    "print(\"Numeric values:\", digit)"
   ]
  },
  {
   "cell_type": "markdown",
   "id": "90e5b958",
   "metadata": {},
   "source": [
    "# 36. uncommon & common char's in both the strings "
   ]
  },
  {
   "cell_type": "code",
   "execution_count": 153,
   "id": "6b6842f1",
   "metadata": {},
   "outputs": [
    {
     "name": "stdout",
     "output_type": "stream",
     "text": [
      "abcghi\n"
     ]
    }
   ],
   "source": [
    "def concatenate_uncommon_characters(str1, str2):\n",
    "    uncommon_characters = \"\"\n",
    "    for char in str1:\n",
    "        if char not in str2 and char not in uncommon_characters:\n",
    "            uncommon_characters += char\n",
    "    for char in str2:\n",
    "        if char not in str1 and char not in uncommon_characters:\n",
    "            uncommon_characters += char\n",
    "    return uncommon_characters\n",
    "\n",
    "string1 = \"abcdef\"\n",
    "string2 = \"defghi\"\n",
    "result = concatenate_uncommon_characters(string1, string2)\n",
    "print(result)"
   ]
  },
  {
   "cell_type": "code",
   "execution_count": 156,
   "id": "b4cf90db",
   "metadata": {},
   "outputs": [
    {
     "name": "stdout",
     "output_type": "stream",
     "text": [
      "def\n"
     ]
    }
   ],
   "source": [
    "def common_characters(str1, str2):\n",
    "    common_characters = \"\"\n",
    "    for char in str1:\n",
    "        if char in str2 and char not in common_characters:\n",
    "            common_characters += char\n",
    "    for char in str2:\n",
    "        if char in str1 and char not in common_characters:\n",
    "            common_characters += char\n",
    "    return common_characters\n",
    "\n",
    "string1 = \"abcdef\"\n",
    "string2 = \"defghi\"\n",
    "result = common_characters(string1, string2)\n",
    "print(result)"
   ]
  },
  {
   "cell_type": "markdown",
   "id": "5344cdeb",
   "metadata": {},
   "source": [
    "# 37. Count Char lengh of string"
   ]
  },
  {
   "cell_type": "code",
   "execution_count": 157,
   "id": "8491a0f2",
   "metadata": {},
   "outputs": [
    {
     "name": "stdout",
     "output_type": "stream",
     "text": [
      "Enter String:hi hello\n",
      "8\n",
      "8\n"
     ]
    }
   ],
   "source": [
    "n = input(\"Enter String:\")\n",
    "c = 0\n",
    "for i in n:\n",
    "    c = c+1\n",
    "print(c)\n",
    "print(len(n))"
   ]
  },
  {
   "cell_type": "markdown",
   "id": "b4300331",
   "metadata": {},
   "source": [
    "# 38. Str: Count Words in string"
   ]
  },
  {
   "cell_type": "code",
   "execution_count": 159,
   "id": "49eab6e7",
   "metadata": {},
   "outputs": [
    {
     "name": "stdout",
     "output_type": "stream",
     "text": [
      "7\n"
     ]
    }
   ],
   "source": [
    "s = \"hi hello how are you my friend\"\n",
    "c = 1\n",
    "for i in s:\n",
    "    if i == ' ':\n",
    "        c = c+1\n",
    "print(c)"
   ]
  },
  {
   "cell_type": "code",
   "execution_count": 160,
   "id": "70739640",
   "metadata": {},
   "outputs": [
    {
     "name": "stdout",
     "output_type": "stream",
     "text": [
      "7\n"
     ]
    }
   ],
   "source": [
    "s = \"hi hello how are you my friend\"\n",
    "c = 0\n",
    "for i in s.split():\n",
    "    c = c + 1\n",
    "print(c) "
   ]
  },
  {
   "cell_type": "markdown",
   "id": "a118eb2b",
   "metadata": {},
   "source": [
    "# 39: Count Upper case Letters & display"
   ]
  },
  {
   "cell_type": "code",
   "execution_count": 161,
   "id": "07a22551",
   "metadata": {},
   "outputs": [
    {
     "name": "stdout",
     "output_type": "stream",
     "text": [
      "4\n"
     ]
    }
   ],
   "source": [
    "s = \"HI hello HOW are YOU MY friend\"\n",
    "c = 0\n",
    "for i in s.split():\n",
    "    if i.isupper():\n",
    "        c=c+1\n",
    "print(c)"
   ]
  },
  {
   "cell_type": "code",
   "execution_count": 162,
   "id": "d9c360dd",
   "metadata": {},
   "outputs": [
    {
     "name": "stdout",
     "output_type": "stream",
     "text": [
      " HI HOW YOU MY\n"
     ]
    }
   ],
   "source": [
    "s = \"HI hello HOW are YOU MY friend\"\n",
    "w =\"\"\n",
    "for i in s.split():\n",
    "    if i.isupper():\n",
    "        w=w+\" \"+i\n",
    "print(w)"
   ]
  },
  {
   "cell_type": "markdown",
   "id": "8449523f",
   "metadata": {},
   "source": [
    "# 40: Str: Count Vowels "
   ]
  },
  {
   "cell_type": "code",
   "execution_count": 163,
   "id": "7b2d0ca4",
   "metadata": {},
   "outputs": [
    {
     "name": "stdout",
     "output_type": "stream",
     "text": [
      "10\n"
     ]
    }
   ],
   "source": [
    "s = \"HI hello HOW are YOU MY friend\"\n",
    "c = 0\n",
    "v = \"AEIOUaeiou\"\n",
    "for i in s:\n",
    "    if i in v:\n",
    "        c=c+1\n",
    "print(c)"
   ]
  },
  {
   "cell_type": "markdown",
   "id": "1e55c5de",
   "metadata": {},
   "source": [
    "# 41. String methods"
   ]
  },
  {
   "cell_type": "code",
   "execution_count": 164,
   "id": "2f341c79",
   "metadata": {},
   "outputs": [
    {
     "name": "stdout",
     "output_type": "stream",
     "text": [
      "abcdefghijklmnopqrstuvwxyzABCDEFGHIJKLMNOPQRSTUVWXYZ\n",
      "ABCDEFGHIJKLMNOPQRSTUVWXYZ\n",
      "abcdefghijklmnopqrstuvwxyz\n",
      "0123456789\n",
      "!\"#$%&'()*+,-./:;<=>?@[\\]^_`{|}~\n",
      " \t\n",
      "\r",
      "\u000b",
      "\f",
      "\n",
      "<function capwords at 0x00000215D2521D00>\n",
      "0123456789abcdefghijklmnopqrstuvwxyzABCDEFGHIJKLMNOPQRSTUVWXYZ!\"#$%&'()*+,-./:;<=>?@[\\]^_`{|}~ \t\n",
      "\r",
      "\u000b",
      "\f",
      "\n"
     ]
    }
   ],
   "source": [
    "import string\n",
    "print(string.ascii_letters)\n",
    "print(string.ascii_uppercase)\n",
    "print(string.ascii_lowercase)\n",
    "print(string.digits)\n",
    "print(string.punctuation)\n",
    "print(string.whitespace)\n",
    "print(string.capwords)\n",
    "print(string.printable)"
   ]
  },
  {
   "cell_type": "code",
   "execution_count": 165,
   "id": "5400e985",
   "metadata": {},
   "outputs": [
    {
     "name": "stdout",
     "output_type": "stream",
     "text": [
      "4\n"
     ]
    }
   ],
   "source": [
    "s = \"Hi@Hello#$%MYfriend\"\n",
    "c = 0\n",
    "for i in s:\n",
    "    if i in string.punctuation:\n",
    "        c=c+1\n",
    "print(c)"
   ]
  },
  {
   "cell_type": "markdown",
   "id": "710189ed",
   "metadata": {},
   "source": [
    "# 42. Fetching the word starts and ends with consonants"
   ]
  },
  {
   "cell_type": "code",
   "execution_count": 166,
   "id": "d3e15baf",
   "metadata": {},
   "outputs": [
    {
     "name": "stdout",
     "output_type": "stream",
     "text": [
      " Python good\n"
     ]
    }
   ],
   "source": [
    "s = \"Python is good and Easy Langauage\"\n",
    "v = \"AEIOUaeiou\" \n",
    "w = \"\"\n",
    "for i in s.split():\n",
    "    if i[0] not in v and i[-1] not in v:\n",
    "        w = w+\" \"+i\n",
    "print(w)"
   ]
  },
  {
   "cell_type": "markdown",
   "id": "d5b59c17",
   "metadata": {},
   "source": [
    "# 43. Fetching first char of each word"
   ]
  },
  {
   "cell_type": "code",
   "execution_count": 167,
   "id": "6a688c58",
   "metadata": {},
   "outputs": [
    {
     "name": "stdout",
     "output_type": "stream",
     "text": [
      "P i g a E L ['P', 'i', 'g', 'a', 'E', 'L']\n"
     ]
    }
   ],
   "source": [
    "s = \"Python is good and Easy Langauage\"\n",
    "\n",
    "for i in s.split():\n",
    "    print(i[0],end=\" \")\n",
    "\n",
    "n = [i[0] for i in s.split()]\n",
    "print(n)"
   ]
  },
  {
   "cell_type": "markdown",
   "id": "38adda19",
   "metadata": {},
   "source": [
    "# 44. Asc or Desc Order"
   ]
  },
  {
   "cell_type": "code",
   "execution_count": 168,
   "id": "7169b60b",
   "metadata": {},
   "outputs": [
    {
     "name": "stdout",
     "output_type": "stream",
     "text": [
      "4Phnoty\n",
      "ytonhP4\n"
     ]
    }
   ],
   "source": [
    "s = \"Python4\"\n",
    "\n",
    "print(\"\".join(sorted(s)))\n",
    "print(\"\".join(sorted(s,reverse=True)))"
   ]
  },
  {
   "cell_type": "markdown",
   "id": "7b25fb6b",
   "metadata": {},
   "source": [
    "# 45. Palindrome or not"
   ]
  },
  {
   "cell_type": "code",
   "execution_count": 169,
   "id": "a2233e72",
   "metadata": {},
   "outputs": [
    {
     "name": "stdout",
     "output_type": "stream",
     "text": [
      "Enter String:mama\n",
      "not palindorm\n"
     ]
    }
   ],
   "source": [
    "s = input(\"Enter String:\")\n",
    "\n",
    "rev = s[::-1]\n",
    "\n",
    "if s==rev:\n",
    "    print(\"palindrom\")\n",
    "else:\n",
    "    print(\"not palindorm\")"
   ]
  },
  {
   "cell_type": "code",
   "execution_count": 170,
   "id": "b547d26f",
   "metadata": {},
   "outputs": [
    {
     "name": "stdout",
     "output_type": "stream",
     "text": [
      "Enter String:mama\n",
      "not palindorm\n"
     ]
    }
   ],
   "source": [
    "s = input(\"Enter String:\")\n",
    "ind = len(s)-1\n",
    "ls = []\n",
    "while ind!=-1:\n",
    "    ls.append(s[ind])\n",
    "    ind = ind-1\n",
    "l = \"\".join(ls)\n",
    "\n",
    "if s==l:\n",
    "    print(\"palindrom\")\n",
    "else:\n",
    "    print(\"not palindorm\")"
   ]
  },
  {
   "cell_type": "code",
   "execution_count": 171,
   "id": "78852002",
   "metadata": {},
   "outputs": [
    {
     "name": "stdout",
     "output_type": "stream",
     "text": [
      "Enter String:kak\n",
      "palindrom\n"
     ]
    }
   ],
   "source": [
    "s = input(\"Enter String:\")\n",
    "w=\"\"\n",
    "for i in s:\n",
    "    w=i+w\n",
    "if s==w:\n",
    "    print(\"palindrom\")\n",
    "else:\n",
    "    print(\"not palindorm\")"
   ]
  },
  {
   "cell_type": "code",
   "execution_count": 173,
   "id": "73216304",
   "metadata": {},
   "outputs": [
    {
     "name": "stdout",
     "output_type": "stream",
     "text": [
      "Enter String:nani\n",
      "Not Palindrome\n"
     ]
    }
   ],
   "source": [
    "s = input(\"Enter String:\")\n",
    "w=\"\"\n",
    "for i in s:\n",
    "    w=i+w\n",
    "\n",
    "if len(s)==1:\n",
    "    print(f\"'{input_value}' is a single character and {'is' if is_palindrome(input_value) else 'is not'} a palindrome.\")\n",
    "elif s.isdigit==w:\n",
    "    print(\"Given Number palindrome\")\n",
    "elif s==w:\n",
    "    print(\"Given word Pandilome\")\n",
    "else:\n",
    "    print(\"Not Palindrome\")"
   ]
  },
  {
   "cell_type": "code",
   "execution_count": 174,
   "id": "bc0f5988",
   "metadata": {},
   "outputs": [
    {
     "name": "stdout",
     "output_type": "stream",
     "text": [
      "Enter a character, number, or word: 121\n",
      "'121' number is a palindrome.\n"
     ]
    }
   ],
   "source": [
    "s = input(\"Enter a character, number, or word: \")\n",
    "ind = len(s)-1\n",
    "ls = []\n",
    "while ind!=-1:\n",
    "    ls.append(s[ind])\n",
    "    ind = ind-1\n",
    "l = \"\".join(ls)\n",
    "\n",
    "if len(s) == 1:\n",
    "    if s is not None:\n",
    "        print(f\"'{s}' char or digit is a palindrome.\")\n",
    "    else:\n",
    "        print(f\"'{s}' char or digit is not a palindrome.\")\n",
    "elif s.isdigit():\n",
    "    if s==l:\n",
    "        print(f\"'{s}' number is a palindrome.\")\n",
    "    else:\n",
    "        print(f\"'{s}' number is not a palindrome.\")\n",
    "else:\n",
    "    if s==l:\n",
    "        print(f\"'{s}' word is a palindrome.\")\n",
    "    else:\n",
    "        print(f\"'{s}' word is not a palindrome.\")"
   ]
  },
  {
   "cell_type": "markdown",
   "id": "c2eac657",
   "metadata": {},
   "source": [
    "# 46. In a string reverse Words "
   ]
  },
  {
   "cell_type": "code",
   "execution_count": 175,
   "id": "4bf1a329",
   "metadata": {},
   "outputs": [
    {
     "name": "stdout",
     "output_type": "stream",
     "text": [
      "['Hi', 'Hello', 'Naresh', 'GoodMorning']\n",
      "['GoodMorning', 'Naresh', 'Hello', 'Hi']\n",
      "GoodMorning Naresh Hello Hi\n",
      "iH olleH hseraN gninroMdooG\n"
     ]
    }
   ],
   "source": [
    "s = \"Hi Hello Naresh GoodMorning\"\n",
    "s = s.split(\" \")\n",
    "print(s)\n",
    "s = s[-1::-1]\n",
    "print(s)\n",
    "s = \" \".join(s)\n",
    "print(s)\n",
    "print(s[::-1])"
   ]
  },
  {
   "cell_type": "code",
   "execution_count": 176,
   "id": "609366e8",
   "metadata": {},
   "outputs": [
    {
     "data": {
      "text/plain": [
       "'GoodMorning Naresh Hello Hi'"
      ]
     },
     "execution_count": 176,
     "metadata": {},
     "output_type": "execute_result"
    }
   ],
   "source": [
    "s = \"Hi Hello Naresh GoodMorning\"\n",
    "\" \".join(reversed(s.split()))"
   ]
  },
  {
   "cell_type": "code",
   "execution_count": 177,
   "id": "4068c8e8",
   "metadata": {},
   "outputs": [
    {
     "name": "stdout",
     "output_type": "stream",
     "text": [
      "GoodMorning Naresh Hello Hi \n"
     ]
    }
   ],
   "source": [
    "s = \"Hi Hello Naresh GoodMorning\"\n",
    "w=\"\"\n",
    "for i in s.split():\n",
    "    w=i+\" \"+w\n",
    "print(w)"
   ]
  },
  {
   "cell_type": "markdown",
   "id": "4ff3b90c",
   "metadata": {},
   "source": [
    "# 47. Sub String Presence in String"
   ]
  },
  {
   "cell_type": "code",
   "execution_count": 178,
   "id": "6d152632",
   "metadata": {},
   "outputs": [
    {
     "name": "stdout",
     "output_type": "stream",
     "text": [
      "Sub string Present at position of  3\n",
      "sub string not present: -1\n",
      "Present\n"
     ]
    }
   ],
   "source": [
    "str = \"Hi hello how are you\"\n",
    "sub_str = \"hello\"\n",
    "print(\"Sub string Present at position of \",str.find(sub_str))\n",
    "print(\"sub string not present:\",str.find(\"demo\"))\n",
    "\n",
    "#check the string present or not:\n",
    "if str.find(sub_str)==-1:\n",
    "    print(\"Not Present\")\n",
    "else:\n",
    "    print(\"Present\")"
   ]
  },
  {
   "cell_type": "code",
   "execution_count": 181,
   "id": "27816426",
   "metadata": {},
   "outputs": [
    {
     "name": "stdout",
     "output_type": "stream",
     "text": [
      "Present\n"
     ]
    }
   ],
   "source": [
    "str1 = \"Hi hello how are you\"\n",
    "sub_str = \"hello\"\n",
    "\n",
    "if sub_str in str1:\n",
    "    print(\"Present\")\n",
    "else:\n",
    "    print(\"not Present\")"
   ]
  },
  {
   "cell_type": "markdown",
   "id": "67a416d4",
   "metadata": {},
   "source": [
    "# 48. Find the length of string\n",
    "1. using for loop\n",
    "2. using while and slicing\n",
    "3. built-in len()\n",
    "4. join and count"
   ]
  },
  {
   "cell_type": "code",
   "execution_count": 182,
   "id": "b2f183ad",
   "metadata": {},
   "outputs": [
    {
     "name": "stdout",
     "output_type": "stream",
     "text": [
      "7\n"
     ]
    }
   ],
   "source": [
    "# 1. using for loop\n",
    "s= \"Welcome\"\n",
    "c = 0\n",
    "for i in s:\n",
    "    c=c+1\n",
    "print(c)"
   ]
  },
  {
   "cell_type": "code",
   "execution_count": 183,
   "id": "235d01e1",
   "metadata": {},
   "outputs": [
    {
     "name": "stdout",
     "output_type": "stream",
     "text": [
      "7\n"
     ]
    }
   ],
   "source": [
    "# 2. using while and slicing\n",
    "s= \"Welcome\"\n",
    "c = 0\n",
    "while s[c:]:  # 0 to 6\n",
    "    c=c+1\n",
    "print(c)"
   ]
  },
  {
   "cell_type": "code",
   "execution_count": 184,
   "id": "982ba805",
   "metadata": {},
   "outputs": [
    {
     "name": "stdout",
     "output_type": "stream",
     "text": [
      "7\n",
      "6\n",
      "7\n"
     ]
    }
   ],
   "source": [
    "#3. built-in len()\n",
    "#4. join and count\n",
    "s= \"Welcome\"\n",
    "print(len(s))\n",
    "s1 = \"x\".join(s)\n",
    "print(s1.count(\"x\"))   # index\n",
    "print(s1.count(\"x\")+1) # len"
   ]
  },
  {
   "cell_type": "markdown",
   "id": "7e81dbf1",
   "metadata": {},
   "source": [
    "# 49. Find if string contains special chars"
   ]
  },
  {
   "cell_type": "code",
   "execution_count": 185,
   "id": "e67c603b",
   "metadata": {},
   "outputs": [
    {
     "name": "stdout",
     "output_type": "stream",
     "text": [
      "Special Char\n"
     ]
    }
   ],
   "source": [
    "import re\n",
    "\n",
    "s = \"Hi@#Hello*(|show&&@-+=the<>?demo!~jvm#$%)\"\n",
    "\n",
    "regex= re.compile('[~!@#$%^&*()_+=<>/\\|]')\n",
    "\n",
    "if (regex.search(s)==None):\n",
    "    print(\"No Special Char\")\n",
    "else:\n",
    "    print(\"Special Char\")"
   ]
  },
  {
   "cell_type": "markdown",
   "id": "4f8f6f8d",
   "metadata": {},
   "source": [
    "# 50. remove special chars in string"
   ]
  },
  {
   "cell_type": "code",
   "execution_count": 186,
   "id": "704d9deb",
   "metadata": {},
   "outputs": [
    {
     "name": "stdout",
     "output_type": "stream",
     "text": [
      "Hi  Hello   show      the   demo  jvm    \n",
      "Hi Hello show the demo jvm\n"
     ]
    }
   ],
   "source": [
    "# Method1: By using Special regular expressions\n",
    "import re\n",
    "\n",
    "s = \"Hi@#Hello*(|show&&@-+=the<>?demo!~jvm#$%)\"\n",
    "\n",
    "pattern = r'[^A-Za-z0-9\\s]'\n",
    "reg_s = re.sub(pattern,' ',s)\n",
    "print(reg_s)\n",
    "print(' '.join(reg_s.split()))  ## remove the extra spaces"
   ]
  },
  {
   "cell_type": "code",
   "execution_count": 187,
   "id": "158db48a",
   "metadata": {},
   "outputs": [
    {
     "name": "stdout",
     "output_type": "stream",
     "text": [
      "Hi Hello show the demo jvm\n"
     ]
    }
   ],
   "source": [
    "# Method 2: char filling\n",
    "\n",
    "s = \"Hi@#Hello*(|show&&@-+=the<>?demo!~jvm#$%)\"\n",
    "w =\"\"\n",
    "for i in s:\n",
    "    if i.isalnum() or i.isspace():\n",
    "        w = w+i\n",
    "    elif w: \n",
    "        w += ' '\n",
    "print(\" \".join(w.split()))"
   ]
  },
  {
   "cell_type": "markdown",
   "id": "f5e08b4d",
   "metadata": {},
   "source": [
    "# 51.remove extra space in string"
   ]
  },
  {
   "cell_type": "code",
   "execution_count": 188,
   "id": "c46e55e7",
   "metadata": {},
   "outputs": [
    {
     "data": {
      "text/plain": [
       "'Hi Hello show the demo jvm'"
      ]
     },
     "execution_count": 188,
     "metadata": {},
     "output_type": "execute_result"
    }
   ],
   "source": [
    "s = \"Hi  Hello   show      the   demo  jvm\"    \n",
    "s = s.split()\n",
    "\" \".join(s)"
   ]
  },
  {
   "cell_type": "markdown",
   "id": "1ad7701f",
   "metadata": {},
   "source": [
    "# 52. check URL's\n",
    "http://urlregex.com/"
   ]
  },
  {
   "cell_type": "code",
   "execution_count": 189,
   "id": "fa8fbda9",
   "metadata": {},
   "outputs": [
    {
     "name": "stdout",
     "output_type": "stream",
     "text": [
      "['https://mytestingtools.com/']\n"
     ]
    }
   ],
   "source": [
    "s = \"Please check my blog https://mytestingtools.com/\" \n",
    "\n",
    "s2 = re.findall(r'https?://\\S+',s)\n",
    "print(s2)"
   ]
  },
  {
   "cell_type": "code",
   "execution_count": 190,
   "id": "9f8099bc",
   "metadata": {},
   "outputs": [
    {
     "name": "stdout",
     "output_type": "stream",
     "text": [
      "['https://mytestingtools.com/']\n"
     ]
    }
   ],
   "source": [
    "import re\n",
    "\n",
    "s = \"Please check my blog https://mytestingtools.com/\" \n",
    "s1 = re.findall('http[s]?://(?:[a-zA-Z]|[0-9]|[$-_@.&+]|[!*\\(\\),]|(?:%[0-9a-fA-F][0-9a-fA-F]))+',s)\n",
    "print(s1)"
   ]
  },
  {
   "cell_type": "markdown",
   "id": "ba267a0c",
   "metadata": {},
   "source": [
    "# 53. findout common letters between Two Strings"
   ]
  },
  {
   "cell_type": "code",
   "execution_count": 191,
   "id": "8e94a85f",
   "metadata": {},
   "outputs": [
    {
     "name": "stdout",
     "output_type": "stream",
     "text": [
      "{'N', 'A'}\n"
     ]
    }
   ],
   "source": [
    "s1 = \"REENA\"\n",
    "s2 = \"NAINA\"\n",
    "cm = set(s1)&set(s2)\n",
    "print(cm)"
   ]
  },
  {
   "cell_type": "code",
   "execution_count": 192,
   "id": "48dae079",
   "metadata": {},
   "outputs": [
    {
     "name": "stdout",
     "output_type": "stream",
     "text": [
      "NA\n"
     ]
    }
   ],
   "source": [
    "# without built-in methods\n",
    "s1 = \"REENA\"\n",
    "s2 = \"NAINA\"\n",
    "w = \"\"\n",
    "for i in s1:\n",
    "    for j in s2:\n",
    "        if i==j and i not in w:\n",
    "            w = w + i\n",
    "print(w)"
   ]
  },
  {
   "cell_type": "markdown",
   "id": "cd0d719e",
   "metadata": {},
   "source": [
    "# 54. word frequency in string"
   ]
  },
  {
   "cell_type": "code",
   "execution_count": null,
   "id": "d62cc04c",
   "metadata": {},
   "outputs": [],
   "source": [
    "s = \"hi hello how are you my friend where are you hi hello my friend where is the bike\"\n",
    "d = {}\n",
    "for i in s.split():\n",
    "    if i not in d.keys():\n",
    "        d[i] = 1\n",
    "    else:\n",
    "        d[i] =d[i]+1 # d[i]=+1\n",
    "print(d)"
   ]
  },
  {
   "cell_type": "code",
   "execution_count": null,
   "id": "055f3436",
   "metadata": {},
   "outputs": [],
   "source": [
    "s = \"hi hello how are you my friend where are you hi hello my friend where is the bike\"\n",
    "d = {}\n",
    "for i in s.split():\n",
    "    d[i] = d.get(i,0)+1\n",
    "print(d)"
   ]
  },
  {
   "cell_type": "markdown",
   "id": "f0c6dea0",
   "metadata": {},
   "source": [
    "# Generic programs"
   ]
  },
  {
   "cell_type": "markdown",
   "id": "d93816a2",
   "metadata": {},
   "source": [
    "# 55. Write a Python program to get a string made of the first 2 and last 2 characters of a given string. If the string length is less than 2, return the empty string instead.\n",
    "Sample String : 'w3resource'\n",
    "Expected Result : 'w3ce'\n",
    "Sample String : 'w3'\n",
    "Expected Result : 'w3w3'\n",
    "Sample String : ' w'\n",
    "Expected Result : Empty String"
   ]
  },
  {
   "cell_type": "code",
   "execution_count": 193,
   "id": "c371da0d",
   "metadata": {},
   "outputs": [
    {
     "name": "stdout",
     "output_type": "stream",
     "text": [
      "Enter String:hi\n",
      "hihi\n"
     ]
    }
   ],
   "source": [
    "s = input(\"Enter String:\")\n",
    "if len(s) < 2:\n",
    "    print(\" \")\n",
    "else:\n",
    "    print(s[:2]+s[-2:])"
   ]
  },
  {
   "cell_type": "markdown",
   "id": "828d2250",
   "metadata": {},
   "source": [
    "# 56.Write a Python program to get a single string from two given strings, separated by a space and swap the first two characters of each string.\n",
    "Sample String : 'abc', 'xyz'\n",
    "Expected Result : 'xyc abz'"
   ]
  },
  {
   "cell_type": "code",
   "execution_count": 194,
   "id": "9e7cdcff",
   "metadata": {},
   "outputs": [
    {
     "name": "stdout",
     "output_type": "stream",
     "text": [
      "xyz abc\n"
     ]
    }
   ],
   "source": [
    "s1 = 'abc' \n",
    "s2 = 'xyz'\n",
    "print(s2+' '+s1)"
   ]
  },
  {
   "cell_type": "markdown",
   "id": "b429197e",
   "metadata": {},
   "source": [
    "# 57.Write a Python program to add 'ing' at the end of a given string (length should be at least 3). If the given string already ends with 'ing', add 'ly' instead. If the string length of the given string is less than 3, leave it unchanged.\n",
    "Sample String : 'abc'\n",
    "Expected Result : 'abcing'\n",
    "Sample String : 'string'\n",
    "Expected Result : 'stringly'"
   ]
  },
  {
   "cell_type": "code",
   "execution_count": 54,
   "id": "b82955c6",
   "metadata": {},
   "outputs": [
    {
     "name": "stdout",
     "output_type": "stream",
     "text": [
      "Enter String:demoing\n",
      "demoingly\n"
     ]
    }
   ],
   "source": [
    "s = input(\"Enter String:\")\n",
    "\n",
    "if len(s) > 2:\n",
    "    if s[-3:] == 'ing':\n",
    "        s += 'ly'\n",
    "    else:\n",
    "        s += 'ing'\n",
    "print(s)"
   ]
  },
  {
   "cell_type": "markdown",
   "id": "6f6866b3",
   "metadata": {},
   "source": [
    "# 58.Write a Python program to find the first appearance of the substrings 'not' and 'poor' in a given string. If 'not' follows 'poor', replace the whole 'not'...'poor' substring with 'good'. Return the resulting string.\n",
    "Sample String : 'The lyrics is not that poor!'\n",
    "Expected Result : 'The lyrics is good!'\n",
    "Sample String: 'The lyrics is poor!'\n",
    "Expected Result: 'The lyrics is poor!'"
   ]
  },
  {
   "cell_type": "code",
   "execution_count": 68,
   "id": "1845e8f3",
   "metadata": {},
   "outputs": [
    {
     "name": "stdout",
     "output_type": "stream",
     "text": [
      "Enter String:The lyrics is not that poor!\n",
      "The lyrics is good!\n"
     ]
    }
   ],
   "source": [
    "s = input(\"Enter String:\")\n",
    "\n",
    "not_index = s.find('not')\n",
    "poor_index = s.find('poor')\n",
    "\n",
    "if 'not' in s and 'poor' in s and not_index < poor_index:\n",
    "        s = s[:not_index] + 'good' + s[poor_index + 4:]\n",
    "print(s)"
   ]
  },
  {
   "cell_type": "markdown",
   "id": "a8ef2b2c",
   "metadata": {},
   "source": [
    "# 59. Write a Python function to create an HTML string with tags around the word(s).\n",
    "Sample function and result :\n",
    "add_tags('i', 'Python') -> '<i>Python</i>'\n",
    "add_tags('b', 'Python Tutorial') -> '<b>Python Tutorial </b>'"
   ]
  },
  {
   "cell_type": "code",
   "execution_count": 86,
   "id": "8966aa70",
   "metadata": {},
   "outputs": [
    {
     "name": "stdout",
     "output_type": "stream",
     "text": [
      "<head>Program Language</head>\n",
      "<i>Python</i>\n",
      "<b>Python Tutorial</b>\n",
      "<tail>Python Tutorial</tail>\n"
     ]
    }
   ],
   "source": [
    "def add_tags(tag, word):\n",
    "    return \"<%s>%s</%s>\" % (tag, word, tag)\n",
    "print(add_tags('head', 'Program Language'))\n",
    "print(add_tags('i', 'Python'))\n",
    "print(add_tags('b', 'Python Tutorial'))\n",
    "print(add_tags('tail', 'Python Tutorial'))"
   ]
  },
  {
   "cell_type": "markdown",
   "id": "8f4ff1af",
   "metadata": {},
   "source": [
    "# 60. Write a Python function to insert a string in the middle of a string.\n",
    "Sample function and result :\n",
    "insert_sting_middle('[[]]<<>>', 'Python') -> [[Python]]\n",
    "insert_sting_middle('{{}}', 'PHP') -> {{PHP}}"
   ]
  },
  {
   "cell_type": "code",
   "execution_count": 90,
   "id": "be6e3a0d",
   "metadata": {},
   "outputs": [
    {
     "name": "stdout",
     "output_type": "stream",
     "text": [
      "[[Python]]\n"
     ]
    }
   ],
   "source": [
    "def add_symbol(word):\n",
    "    return \"[[%s]]\" % (word)\n",
    "print(add_symbol('Python'))"
   ]
  },
  {
   "cell_type": "code",
   "execution_count": 89,
   "id": "a4c7b156",
   "metadata": {},
   "outputs": [
    {
     "name": "stdout",
     "output_type": "stream",
     "text": [
      "<<Python>>\n"
     ]
    }
   ],
   "source": [
    "def add_symbol(word):\n",
    "    return \"<<%s>>\" % (word)\n",
    "print(add_symbol('Python'))"
   ]
  },
  {
   "cell_type": "code",
   "execution_count": 91,
   "id": "8eb4fb59",
   "metadata": {},
   "outputs": [
    {
     "name": "stdout",
     "output_type": "stream",
     "text": [
      "{{Python}}\n"
     ]
    }
   ],
   "source": [
    "def add_symbol(word):\n",
    "    return \"{{%s}}\" % (word)\n",
    "print(add_symbol('Python'))"
   ]
  },
  {
   "cell_type": "code",
   "execution_count": 103,
   "id": "91009fcb",
   "metadata": {},
   "outputs": [
    {
     "name": "stdout",
     "output_type": "stream",
     "text": [
      "[[python]]\n",
      "{{python}}\n",
      "<<python>>\n",
      "((python))\n"
     ]
    }
   ],
   "source": [
    "def add_symbol(s, word):\n",
    "    return s[:2] + word + s[2:]\n",
    "print(add_symbol('[[]]','python'))\n",
    "print(add_symbol('{{}}','python'))\n",
    "print(add_symbol('<<>>','python'))\n",
    "print(add_symbol('(())','python'))"
   ]
  },
  {
   "cell_type": "markdown",
   "id": "d16acddb",
   "metadata": {},
   "source": [
    "# 61.Write a Python function to get a string made of 4 copies of the last two characters of a specified string (length must be at least 2).\n",
    "Sample function and result :\n",
    "insert_end('Python') -> onononon\n",
    "insert_end('Exercises') -> eseseses"
   ]
  },
  {
   "cell_type": "code",
   "execution_count": 109,
   "id": "3c0c09c0",
   "metadata": {},
   "outputs": [
    {
     "name": "stdout",
     "output_type": "stream",
     "text": [
      "pythononononon\n",
      "Exerciseseseseses\n"
     ]
    }
   ],
   "source": [
    "def fun(s):\n",
    "    return s+s[-2:]*4\n",
    "print(fun('python'))\n",
    "print(fun('Exercises'))"
   ]
  },
  {
   "cell_type": "markdown",
   "id": "702da53f",
   "metadata": {},
   "source": [
    "# 62. Write a Python function to get a string made of the first three characters of a specified string. If the length of the string is less than 3, return the original string.\n",
    "Sample function and result :\n",
    "first_three('ipy') -> ipy\n",
    "first_three('python') -> pyt"
   ]
  },
  {
   "cell_type": "code",
   "execution_count": 110,
   "id": "d420a513",
   "metadata": {},
   "outputs": [
    {
     "name": "stdout",
     "output_type": "stream",
     "text": [
      "ipy\n",
      "pyt\n"
     ]
    }
   ],
   "source": [
    "def word(s):\n",
    "    return s[:3]\n",
    "print(word('ipy'))\n",
    "print(word('python'))"
   ]
  },
  {
   "cell_type": "markdown",
   "id": "79f81461",
   "metadata": {},
   "source": [
    "# 63.Write a Python program to get the last part of a string before a specified character.\n",
    "https://www.w3resource.com/python-exercises\n",
    "https://www.w3resource.com/python"
   ]
  },
  {
   "cell_type": "code",
   "execution_count": 121,
   "id": "df44bdd0",
   "metadata": {},
   "outputs": [
    {
     "name": "stdout",
     "output_type": "stream",
     "text": [
      "['https://www.w3resource.com', 'python-exercises']\n",
      "https://www.w3resource.com\n",
      "https://www.w3resource.com/python\n"
     ]
    }
   ],
   "source": [
    "str1 = 'https://www.w3resource.com/python-exercises'\n",
    "print(str1.rsplit('/', 1))\n",
    "print(str1.rsplit('/', 1)[0])\n",
    "print(str1.rsplit('-', 1)[0])"
   ]
  },
  {
   "cell_type": "code",
   "execution_count": 117,
   "id": "e59915b1",
   "metadata": {},
   "outputs": [
    {
     "name": "stdout",
     "output_type": "stream",
     "text": [
      "[('https', '://', 'www', '.', 'w3resource', '.', 'com', '/', 'python')]\n",
      "https://www.w3resource.com/python\n"
     ]
    }
   ],
   "source": [
    "import re \n",
    "\n",
    "url = \"https://www.w3resource.com/python-exercises\"\n",
    "u = re.findall(r'(\\w+)(\\://)(\\w+)(\\.)(\\w+)(\\.)(\\w+)(\\/)(\\w+)',url)\n",
    "print(u)\n",
    "result = ''.join([''.join(t) for t in u])\n",
    "print(result)"
   ]
  },
  {
   "cell_type": "code",
   "execution_count": 122,
   "id": "0004cfa2",
   "metadata": {},
   "outputs": [
    {
     "name": "stdout",
     "output_type": "stream",
     "text": [
      "https://www.w3resource.com/python\n"
     ]
    }
   ],
   "source": [
    "str1 = 'https://www.w3resource.com/python-exercises'\n",
    "\n",
    "ind = str1.find('-')\n",
    "\n",
    "for i in str1:\n",
    "    s = str1[:ind]\n",
    "print(s)"
   ]
  },
  {
   "cell_type": "markdown",
   "id": "53fc9a43",
   "metadata": {},
   "source": [
    "# 64. Write a Python function to convert a given string to all uppercase if it contains at least 2 uppercase characters in the first 4 characters."
   ]
  },
  {
   "cell_type": "code",
   "execution_count": 128,
   "id": "e5d1a96d",
   "metadata": {},
   "outputs": [
    {
     "name": "stdout",
     "output_type": "stream",
     "text": [
      "Enter String:PyThon\n",
      "PYTHON\n"
     ]
    }
   ],
   "source": [
    "s = input(\"Enter String:\")\n",
    "\n",
    "c = 0\n",
    "for i in s[:4]:\n",
    "    if i == i.upper():\n",
    "        c=c+1\n",
    "if c>=2:\n",
    "    print(s.upper())\n",
    "else:\n",
    "    print(s)"
   ]
  },
  {
   "cell_type": "code",
   "execution_count": 130,
   "id": "6a61c299",
   "metadata": {},
   "outputs": [
    {
     "name": "stdout",
     "output_type": "stream",
     "text": [
      "Python Exercises\n"
     ]
    }
   ],
   "source": [
    "# remove new line in python\n",
    "str1='Python Exercises\\n'\n",
    "print(str1.rstrip())"
   ]
  },
  {
   "cell_type": "markdown",
   "id": "1fcb8218",
   "metadata": {},
   "source": [
    "# 64. Write a Python program to lowercase the first n characters in a string."
   ]
  },
  {
   "cell_type": "code",
   "execution_count": 153,
   "id": "884c7e26",
   "metadata": {},
   "outputs": [
    {
     "name": "stdout",
     "output_type": "stream",
     "text": [
      "my NAME IS NARESH\n"
     ]
    }
   ],
   "source": [
    "s = \"MY NAME IS NARESH\"\n",
    "print(s[:2].lower()+s[2:])"
   ]
  },
  {
   "cell_type": "markdown",
   "id": "528c39d5",
   "metadata": {},
   "source": [
    "# 65.Capitalize first and last letters of each word of a given string"
   ]
  },
  {
   "cell_type": "code",
   "execution_count": 10,
   "id": "0c663110",
   "metadata": {},
   "outputs": [
    {
     "name": "stdout",
     "output_type": "stream",
     "text": [
      "PythoN ExerciseS PracticE SolutioN \n",
      "W3resourcE \n"
     ]
    }
   ],
   "source": [
    "def fun(s):\n",
    "    w = \"\"\n",
    "    for i in s.split():\n",
    "        w = w + i[0].upper()+i[1:-1]+i[-1].upper()+\" \"\n",
    "    return w\n",
    "\n",
    "print(fun(\"python exercises practice solution\"))\n",
    "print(fun(\"w3resource\"))"
   ]
  },
  {
   "cell_type": "markdown",
   "id": "9e534da1",
   "metadata": {},
   "source": [
    "# 66. Write a Python program to remove duplicate characters from a given string."
   ]
  },
  {
   "cell_type": "code",
   "execution_count": 14,
   "id": "ff55052f",
   "metadata": {},
   "outputs": [
    {
     "name": "stdout",
     "output_type": "stream",
     "text": [
      "  h i e l o w a r y u p t n d m \n"
     ]
    }
   ],
   "source": [
    "s = \" hi hello how are you python demo my name in demo\"\n",
    "w = \"\"\n",
    "for i in s:\n",
    "    if i not in w:\n",
    "        w = w+i\n",
    "print(w)"
   ]
  },
  {
   "cell_type": "code",
   "execution_count": 13,
   "id": "0b734573",
   "metadata": {},
   "outputs": [
    {
     "name": "stdout",
     "output_type": "stream",
     "text": [
      "hi hello how are you python demo my name in \n"
     ]
    }
   ],
   "source": [
    "s = \" hi hello how are you python demo my name in demo\"\n",
    "w = \"\"\n",
    "for i in s.split():\n",
    "    if i not in w:\n",
    "        w = w+i+\" \"\n",
    "print(w)"
   ]
  },
  {
   "cell_type": "markdown",
   "id": "64b615f0",
   "metadata": {},
   "source": [
    "# 67.Write a Python program to find the maximum length of consecutive 0's in a given binary string."
   ]
  },
  {
   "cell_type": "code",
   "execution_count": 37,
   "id": "f72740a8",
   "metadata": {},
   "outputs": [
    {
     "name": "stdout",
     "output_type": "stream",
     "text": [
      "3\n"
     ]
    }
   ],
   "source": [
    "s = '111000111'\n",
    "n = max(map(len,s.split('1')))\n",
    "print(n)"
   ]
  },
  {
   "cell_type": "code",
   "execution_count": 39,
   "id": "4f49c7b0",
   "metadata": {},
   "outputs": [
    {
     "name": "stdout",
     "output_type": "stream",
     "text": [
      "4\n"
     ]
    }
   ],
   "source": [
    "def find_max_consecutive_zeros(str1):\n",
    "    max_zeros = 0\n",
    "    zero = 0\n",
    "    for c in str1:\n",
    "        if c == '0':\n",
    "            zero = zero + 1\n",
    "            if zero > max_zeros:\n",
    "                max_zeros = zero\n",
    "        else:\n",
    "            zero = 0\n",
    "    return max_zeros\n",
    "\n",
    "str1 = '111000010000110'\n",
    "print(find_max_consecutive_zeros(str1))"
   ]
  },
  {
   "cell_type": "markdown",
   "id": "afd82504",
   "metadata": {},
   "source": [
    "# 68.sorted alphabetically by the first character of a given string of words."
   ]
  },
  {
   "cell_type": "code",
   "execution_count": 48,
   "id": "41a707aa",
   "metadata": {},
   "outputs": [
    {
     "data": {
      "text/plain": [
       "'Black Green Pink Red White'"
      ]
     },
     "execution_count": 48,
     "metadata": {},
     "output_type": "execute_result"
    }
   ],
   "source": [
    "word = \"Red Green Black White Pink\"\n",
    "' '.join(sorted(word.split(), key=lambda c: c[0]))"
   ]
  },
  {
   "cell_type": "code",
   "execution_count": null,
   "id": "b9fca768",
   "metadata": {},
   "outputs": [],
   "source": [
    "sorted alphabetically by the second character of a given string of words."
   ]
  },
  {
   "cell_type": "code",
   "execution_count": 49,
   "id": "76aa3b0e",
   "metadata": {},
   "outputs": [
    {
     "data": {
      "text/plain": [
       "'Red White Pink Black Green'"
      ]
     },
     "execution_count": 49,
     "metadata": {},
     "output_type": "execute_result"
    }
   ],
   "source": [
    "word = \"Red Green Black White Pink\"\n",
    "' '.join(sorted(word.split(), key=lambda c: c[1]))"
   ]
  },
  {
   "cell_type": "markdown",
   "id": "65d69db9",
   "metadata": {},
   "source": [
    "# 69.sorted alphabetically by the third character of a given string of words."
   ]
  },
  {
   "cell_type": "code",
   "execution_count": 50,
   "id": "5c31babd",
   "metadata": {},
   "outputs": [
    {
     "data": {
      "text/plain": [
       "'Black Red Green White Pink'"
      ]
     },
     "execution_count": 50,
     "metadata": {},
     "output_type": "execute_result"
    }
   ],
   "source": [
    "word = \"Red Green Black White Pink\"\n",
    "' '.join(sorted(word.split(), key=lambda c: c[2]))"
   ]
  },
  {
   "cell_type": "markdown",
   "id": "78b68210",
   "metadata": {},
   "source": [
    "# 70.Write a Python program to insert space before every capital letter appears in a given word."
   ]
  },
  {
   "cell_type": "code",
   "execution_count": 62,
   "id": "dcd5391f",
   "metadata": {},
   "outputs": [
    {
     "name": "stdout",
     "output_type": "stream",
     "text": [
      " Python Exercises Practice Solution\n"
     ]
    }
   ],
   "source": [
    "s = \"PythonExercisesPracticeSolution\"\n",
    "w = \"\"\n",
    "for i in s:\n",
    "    if i.isupper():\n",
    "        w=w+\" \"+i.upper()\n",
    "    else:\n",
    "        w=w+i\n",
    "print(w)"
   ]
  },
  {
   "cell_type": "markdown",
   "id": "3fc81313",
   "metadata": {},
   "source": [
    "# 71.Write a Python program that takes a string and returns # on both sides of each element, which are not vowels.\n",
    "Sample Data:\n",
    "(\"Green\" -> \"-G--r-ee-n-\"\n",
    "(\"White\") -> \"-W--h-i-t-e\"\n",
    "(“aeiou\") -> \"aeiou\""
   ]
  },
  {
   "cell_type": "code",
   "execution_count": 67,
   "id": "98d8852a",
   "metadata": {},
   "outputs": [
    {
     "name": "stdout",
     "output_type": "stream",
     "text": [
      "-G--r-ee-n-\n",
      "-W--h-i-t-e\n",
      "aeiou\n"
     ]
    }
   ],
   "source": [
    "def demo(s):\n",
    "    w = \"\"\n",
    "    vowels = \"aeiouAEIOU\"\n",
    "    for i in s:\n",
    "        if i not in vowels:\n",
    "            w=w+f\"-{i}-\"\n",
    "        else:\n",
    "            w=w+i\n",
    "    return w\n",
    "print(demo(\"Green\"))\n",
    "print(demo(\"White\"))\n",
    "print(demo(\"aeiou\"))"
   ]
  },
  {
   "cell_type": "markdown",
   "id": "15a07a0f",
   "metadata": {},
   "source": [
    "# 72. Write a Python program to extract and display the name from a given Email address.\n",
    "\n",
    "Sample Data:\n",
    "(\"john@example.com\") -> (\"john\")\n",
    "(\"john.smith@example.com\") -> (\"johnsmith\")\n",
    "(\"fully-qualified-domain@example.com\") -> (\"fullyqualifieddomain\")"
   ]
  },
  {
   "cell_type": "code",
   "execution_count": 72,
   "id": "467ea7c0",
   "metadata": {},
   "outputs": [
    {
     "name": "stdout",
     "output_type": "stream",
     "text": [
      "john\n",
      "john.smith\n",
      "fully-qualified-domain\n"
     ]
    }
   ],
   "source": [
    "def fun(s):\n",
    "    s = s.split('@')\n",
    "    return s[0]\n",
    "print(fun(\"john@example.com\"))\n",
    "print(fun(\"john.smith@example.com\"))\n",
    "print(fun(\"fully-qualified-domain@example.com\"))"
   ]
  },
  {
   "cell_type": "markdown",
   "id": "15de764d",
   "metadata": {},
   "source": [
    "# 73. Write a Python program that capitalizes the first letter and lowercases the remaining letters in a given string.\n",
    "\n",
    "sample data:\n",
    "(“Red Green WHITE) -> “Red Green White”\n",
    "(“w3resource”) -> “W3resource”\n",
    "(“dow jones industrial average”) -> “Dow Jones Industrial Average”"
   ]
  },
  {
   "cell_type": "code",
   "execution_count": 80,
   "id": "0d655f4a",
   "metadata": {},
   "outputs": [
    {
     "name": "stdout",
     "output_type": "stream",
     "text": [
      " Red Green White \n",
      " W3resource \n",
      " Dow Jones Industrial Average \n"
     ]
    }
   ],
   "source": [
    "def fun(s):\n",
    "    w = \" \"\n",
    "    for i in s.split():\n",
    "        w = w+i.capitalize()+\" \"\n",
    "    return w\n",
    "print(fun(\"Red Green WHITE\"))\n",
    "print(fun(\"w3resource\"))\n",
    "print(fun(\"dow jones industrial average\"))"
   ]
  },
  {
   "cell_type": "code",
   "execution_count": 85,
   "id": "e74d667e",
   "metadata": {},
   "outputs": [
    {
     "name": "stdout",
     "output_type": "stream",
     "text": [
      "Red Green White\n",
      "W3resource\n",
      "Dow Jones Industrial Average\n"
     ]
    }
   ],
   "source": [
    "def fun(s):\n",
    "    l = []\n",
    "    for i in s.split():\n",
    "        l.append(i.capitalize())\n",
    "    return \" \".join(l)\n",
    "print(fun(\"Red Green WHITE\"))\n",
    "print(fun(\"w3resource\"))\n",
    "print(fun(\"dow jones industrial average\"))"
   ]
  },
  {
   "cell_type": "markdown",
   "id": "e8f40f23",
   "metadata": {},
   "source": [
    "# 74. Write a Python program to replace each character of a word of length five and more with a hash character (#).\n",
    "    \n",
    "Sample Output:\n",
    "Original string: Count the lowercase letters in the said list of words:\n",
    "Replace words (length five or more) with hash characters in the said string:\n",
    "##### the ######### ####### in the said list of ######\n",
    "Original string: Python - Remove punctuations from a string:\n",
    "Replace words (length five or more) with hash characters in the said string:\n",
    "###### - ###### ############ from a #######"
   ]
  },
  {
   "cell_type": "code",
   "execution_count": 93,
   "id": "3847cc33",
   "metadata": {},
   "outputs": [
    {
     "name": "stdout",
     "output_type": "stream",
     "text": [
      "##### the ######### ####### in the said list of #####\n",
      "###### - ###### ############ from a #######\n"
     ]
    }
   ],
   "source": [
    "def words_with_hashes(s):\n",
    "    ls = []\n",
    "    for i in s.split():\n",
    "        if len(i) >= 5:\n",
    "            ls.append('#' * len(i))\n",
    "        else:\n",
    "            ls.append(i)\n",
    "    return ' '.join(ls)\n",
    "\n",
    "print(words_with_hashes(\"Count the lowercase letters in the said list of words\"))\n",
    "print(words_with_hashes(\"Python - Remove punctuations from a string:\"))"
   ]
  },
  {
   "cell_type": "markdown",
   "id": "3993585f",
   "metadata": {},
   "source": [
    "# 75. Write a Python program to add two strings as if they were numbers (positive integer values). Return a message if the numbers are strings."
   ]
  },
  {
   "cell_type": "code",
   "execution_count": 104,
   "id": "29f3f5ce",
   "metadata": {},
   "outputs": [
    {
     "name": "stdout",
     "output_type": "stream",
     "text": [
      "42\n",
      "Error in input!\n",
      "Error in input!\n"
     ]
    }
   ],
   "source": [
    "def test(n1, n2):\n",
    "    if (n1.isnumeric() and n2.isnumeric()):\n",
    "        return str(int(n1) + int(n2))\n",
    "    else:\n",
    "        return 'Error in input!'\n",
    "print(test(\"10\", \"32\"))\n",
    "print(test(\"10\", \"22.6\"))\n",
    "print(test(\"100\", \"-200\")) "
   ]
  },
  {
   "cell_type": "markdown",
   "id": "094045b4",
   "metadata": {},
   "source": [
    "# 76.Write a Python program to split a multi-line string into a list of lines."
   ]
  },
  {
   "cell_type": "code",
   "execution_count": 106,
   "id": "cf2f16ce",
   "metadata": {},
   "outputs": [
    {
     "name": "stdout",
     "output_type": "stream",
     "text": [
      "['', 'This', 'is a', 'multiline', 'string.', '']\n"
     ]
    }
   ],
   "source": [
    "s = \"\"\"\n",
    "This\n",
    "is a\n",
    "multiline\n",
    "string.\n",
    "\"\"\"\n",
    "\n",
    "print(s.split(\"\\n\"))"
   ]
  },
  {
   "cell_type": "markdown",
   "id": "4fc52d73",
   "metadata": {},
   "source": [
    "# 77. remove special char and lowercase"
   ]
  },
  {
   "cell_type": "code",
   "execution_count": 107,
   "id": "d0535bc8",
   "metadata": {},
   "outputs": [
    {
     "name": "stdout",
     "output_type": "stream",
     "text": [
      "javascript\n",
      "foo_bar\n",
      "foo_bar\n",
      "foo_bar\n",
      "foo_bar\n",
      "foobar\n",
      "foo_bar\n"
     ]
    }
   ],
   "source": [
    "def snake_case(input_str):\n",
    "    input_str = ''.join([' ' if not c.isalnum() and c != '_' else c for c in input_str])\n",
    "    words = input_str.split()\n",
    "    snake_case_str = '_'.join(word.lower() for word in words)\n",
    "    return snake_case_str\n",
    "print(snake_case('JavaScript'))\n",
    "print(snake_case('Foo-Bar'))\n",
    "print(snake_case('foo_bar'))\n",
    "print(snake_case('--foo.bar'))\n",
    "print(snake_case('Foo-BAR'))\n",
    "print(snake_case('fooBAR'))\n",
    "print(snake_case('foo bar'))"
   ]
  },
  {
   "cell_type": "code",
   "execution_count": 119,
   "id": "0a59bc0f",
   "metadata": {},
   "outputs": [
    {
     "name": "stdout",
     "output_type": "stream",
     "text": [
      "javascript\n",
      "foobar\n",
      "foobar\n",
      "foobar\n",
      "foobar\n",
      "foobar\n",
      "foobar\n"
     ]
    }
   ],
   "source": [
    "def snake_case(s):\n",
    "    l = []\n",
    "    for i in s:\n",
    "        if i.isalpha():\n",
    "            l.append(i.lower())\n",
    "    return \"\".join(l)\n",
    "print(snake_case('JavaScript'))\n",
    "print(snake_case('Foo-Bar'))\n",
    "print(snake_case('foo_bar'))\n",
    "print(snake_case('--foo.bar'))\n",
    "print(snake_case('Foo-BAR'))\n",
    "print(snake_case('fooBAR'))\n",
    "print(snake_case('foo bar'))"
   ]
  },
  {
   "cell_type": "code",
   "execution_count": null,
   "id": "e67a0803",
   "metadata": {},
   "outputs": [],
   "source": []
  }
 ],
 "metadata": {
  "kernelspec": {
   "display_name": "Python 3 (ipykernel)",
   "language": "python",
   "name": "python3"
  },
  "language_info": {
   "codemirror_mode": {
    "name": "ipython",
    "version": 3
   },
   "file_extension": ".py",
   "mimetype": "text/x-python",
   "name": "python",
   "nbconvert_exporter": "python",
   "pygments_lexer": "ipython3",
   "version": "3.11.5"
  }
 },
 "nbformat": 4,
 "nbformat_minor": 5
}
