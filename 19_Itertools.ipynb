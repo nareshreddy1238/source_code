{
 "cells": [
  {
   "cell_type": "code",
   "execution_count": null,
   "id": "1e0ecf2c-807d-428e-8a3c-5f43636a94ee",
   "metadata": {},
   "outputs": [],
   "source": []
  },
  {
   "cell_type": "raw",
   "id": "a07533d7-fc99-41b5-a439-9f1205bc9d65",
   "metadata": {},
   "source": [
    "#1. Chain: itertools"
   ]
  },
  {
   "cell_type": "code",
   "execution_count": 7,
   "id": "44b281f0-56a1-4c14-ba1f-69a82e20fd51",
   "metadata": {},
   "outputs": [
    {
     "name": "stdout",
     "output_type": "stream",
     "text": [
      "<class 'itertools.chain'>\n",
      "123abcd\n",
      "10203040ABCD"
     ]
    }
   ],
   "source": [
    "from itertools import chain\n",
    "\n",
    "def chain_func(l1,l2):\n",
    "    return chain(l1,l2)    \n",
    "\n",
    "#List\n",
    "result = chain_func([1,2,3], ['a','b','c','d'])\n",
    "print(type(result))\n",
    "for i in result:\n",
    "    print(i,end=\"\")\n",
    "print()\n",
    "\n",
    "#Tuple\n",
    "result = chain_func((10,20,30,40), ('A','B','C','D'))\n",
    "for i in result:\n",
    "    print(i,end=\"\")"
   ]
  },
  {
   "cell_type": "code",
   "execution_count": null,
   "id": "a506a45f-05db-4b24-a23b-29146d5bc65e",
   "metadata": {},
   "outputs": [],
   "source": [
    "#2. accumulate"
   ]
  },
  {
   "cell_type": "code",
   "execution_count": 19,
   "id": "6a4a9b91-3dbc-4100-94b6-73c370f46c44",
   "metadata": {},
   "outputs": [
    {
     "name": "stdout",
     "output_type": "stream",
     "text": [
      "<class 'itertools.accumulate'>\n",
      "List mul: [1, 2, 6, 24, 120, 720, 5040]\n",
      "tuple mul: (1, 2, 6, 24, 120, 720, 5040)\n",
      "max value: [1, 3, 3, 7, 9, 9, 10, 11, 12, 14, 14, 14, 14]\n",
      "max value: [14, 3, 2, 2, 2, 2, 2, 2, 2, 2, 2, 2, 2]\n"
     ]
    }
   ],
   "source": [
    "from itertools import accumulate\n",
    "import operator\n",
    "\n",
    "def running_product(iter1):\n",
    "    return accumulate(iter1,operator.mul)\n",
    "#List\n",
    "res = running_product([1,2,3,4,5,6,7])\n",
    "print(type(res))\n",
    "print(\"List mul:\",list(res))\n",
    "\n",
    "#Tuple\n",
    "result = running_product((1,2,3,4,5,6,7))\n",
    "print(\"tuple mul:\",tuple(result))\n",
    "\n",
    "#max \n",
    "def max_product(iters):\n",
    "    return accumulate(iters, max)\n",
    "max_value = max_product([1,3,2,7,9,8,10,11,12,14,11,12,7])\n",
    "print(\"max value:\",list(max_value))\n",
    "\n",
    "# min \n",
    "def max_product(iters):\n",
    "    return accumulate(iters, min)\n",
    "min_value = max_product([14,3,2,7,9,8,10,11,12,14,11,12,7])\n",
    "print(\"max value:\",list(min_value))"
   ]
  },
  {
   "cell_type": "code",
   "execution_count": null,
   "id": "49807641-3e0f-4c19-bb31-f1d46c8afe99",
   "metadata": {},
   "outputs": [],
   "source": [
    "#3 infinite iterator"
   ]
  },
  {
   "cell_type": "code",
   "execution_count": 21,
   "id": "56513a18-20b9-479f-bcd7-da15d73f477a",
   "metadata": {},
   "outputs": [
    {
     "name": "stdout",
     "output_type": "stream",
     "text": [
      "The starting number is  10 and step is  1\n",
      "The said function print never-ending items:\n",
      "400\n"
     ]
    }
   ],
   "source": [
    "import itertools as it\n",
    "start = 10\n",
    "step = 1\n",
    "print(\"The starting number is \", start, \"and step is \",step)\n",
    "my_counter = it.count(start, step)\n",
    "# Following  loop will run for ever\n",
    "print(\"The said function print never-ending items:\")\n",
    "for i in my_counter:\n",
    "    print(i)"
   ]
  },
  {
   "cell_type": "code",
   "execution_count": null,
   "id": "16a4f7c3-bddd-4c16-97bc-10dcaec70da3",
   "metadata": {},
   "outputs": [],
   "source": [
    "#4. infinite iterator cycle"
   ]
  },
  {
   "cell_type": "code",
   "execution_count": 27,
   "id": "622bb345-a993-4025-bd44-a97f33aa526f",
   "metadata": {},
   "outputs": [
    {
     "name": "stdout",
     "output_type": "stream",
     "text": [
      "The said function print never-ending items:\n",
      "C\n",
      "The said function print never-ending items:\n",
      "l\n"
     ]
    }
   ],
   "source": [
    "import itertools as it\n",
    "\n",
    "result = it.cycle(['A','B','C','D'])\n",
    "print(\"The said function print never-ending items:\")\n",
    "for i in result:\n",
    "    if i == 'C':\n",
    "        print(i)\n",
    "        break\n",
    "\n",
    "res = it.cycle('Python itertools')\n",
    "print(\"The said function print never-ending items:\")\n",
    "for i in res:\n",
    "    if i == 'l':\n",
    "        print(i)\n",
    "        break"
   ]
  },
  {
   "cell_type": "code",
   "execution_count": null,
   "id": "d9ac4c96-49f9-4948-b0c6-61973d52c546",
   "metadata": {},
   "outputs": [],
   "source": [
    "# 5. drop positive & negative numbers "
   ]
  },
  {
   "cell_type": "code",
   "execution_count": 37,
   "id": "b3a6d825-7bfb-4c1a-8622-757851d8fa98",
   "metadata": {},
   "outputs": [
    {
     "name": "stdout",
     "output_type": "stream",
     "text": [
      "drop when positive number arise: [4, -10, 2, 0, 5, 12]\n"
     ]
    }
   ],
   "source": [
    "import itertools as it\n",
    "\n",
    "nums = [-1,-2,-3,4,-10,2,0,5,12]\n",
    "f = list(it.dropwhile(lambda x: x < 0, nums))\n",
    "print(\"drop when positive number arise:\",f)"
   ]
  },
  {
   "cell_type": "code",
   "execution_count": 38,
   "id": "3706e8d1-298d-448b-b29d-c6cadbeaaa6f",
   "metadata": {},
   "outputs": [
    {
     "name": "stdout",
     "output_type": "stream",
     "text": [
      "[4, 2, 0, 5, 12]\n"
     ]
    }
   ],
   "source": [
    "# filter false -> filter\n",
    "import itertools as it\n",
    "\n",
    "nums = [-1,-2,-3,4,-10,2,0,5,12]\n",
    "f = list(it.filterfalse(lambda x: x < 0, nums))\n",
    "print(f)"
   ]
  },
  {
   "cell_type": "code",
   "execution_count": null,
   "id": "6b5c269d-94f2-444e-98e3-e956a77f1242",
   "metadata": {},
   "outputs": [],
   "source": [
    "# 6. Groupby char & word wise"
   ]
  },
  {
   "cell_type": "code",
   "execution_count": 41,
   "id": "c4ac68ef-fb73-413a-85d0-230163a202d0",
   "metadata": {},
   "outputs": [
    {
     "name": "stdout",
     "output_type": "stream",
     "text": [
      "Key: hi\n",
      "Group: ['hi']\n",
      "Key: hello\n",
      "Group: ['hello']\n",
      "Key: hi\n",
      "Group: ['hi']\n",
      "Key: hello\n",
      "Group: ['hello']\n",
      "Key: how\n",
      "Group: ['how']\n",
      "Key: are\n",
      "Group: ['are']\n",
      "Key: you\n",
      "Group: ['you']\n",
      "Key: how\n",
      "Group: ['how']\n",
      "Key: are\n",
      "Group: ['are']\n",
      "Key: you\n",
      "Group: ['you']\n",
      "Key: my\n",
      "Group: ['my']\n",
      "Key: friend,\n",
      "Group: ['friend,']\n",
      "Key: where\n",
      "Group: ['where']\n",
      "Key: are\n",
      "Group: ['are']\n",
      "Key: you\n",
      "Group: ['you']\n"
     ]
    }
   ],
   "source": [
    "str1 = \"hi hello hi hello how are you how are you my friend, where are you\"\n",
    "Str = str1.split()\n",
    "data_groupby = it.groupby(Str)\n",
    "for key, group in data_groupby:\n",
    "    print('Key:', key)\n",
    "    print('Group:', list(group))  "
   ]
  },
  {
   "cell_type": "code",
   "execution_count": 42,
   "id": "ce79f97f-8b74-47dc-9fc0-4c18f188a7d8",
   "metadata": {},
   "outputs": [
    {
     "name": "stdout",
     "output_type": "stream",
     "text": [
      "Key: h\n",
      "Group: ['h']\n",
      "Key: i\n",
      "Group: ['i']\n",
      "Key:  \n",
      "Group: [' ']\n",
      "Key: h\n",
      "Group: ['h']\n",
      "Key: e\n",
      "Group: ['e']\n",
      "Key: l\n",
      "Group: ['l', 'l']\n",
      "Key: o\n",
      "Group: ['o']\n",
      "Key:  \n",
      "Group: [' ']\n",
      "Key: h\n",
      "Group: ['h']\n",
      "Key: i\n",
      "Group: ['i']\n",
      "Key:  \n",
      "Group: [' ']\n",
      "Key: h\n",
      "Group: ['h']\n",
      "Key: e\n",
      "Group: ['e']\n",
      "Key: l\n",
      "Group: ['l', 'l']\n",
      "Key: o\n",
      "Group: ['o']\n",
      "Key:  \n",
      "Group: [' ']\n",
      "Key: h\n",
      "Group: ['h']\n",
      "Key: o\n",
      "Group: ['o']\n",
      "Key: w\n",
      "Group: ['w']\n",
      "Key:  \n",
      "Group: [' ']\n",
      "Key: a\n",
      "Group: ['a']\n",
      "Key: r\n",
      "Group: ['r']\n",
      "Key: e\n",
      "Group: ['e']\n",
      "Key:  \n",
      "Group: [' ']\n",
      "Key: y\n",
      "Group: ['y']\n",
      "Key: o\n",
      "Group: ['o']\n",
      "Key: u\n",
      "Group: ['u']\n",
      "Key:  \n",
      "Group: [' ']\n",
      "Key: h\n",
      "Group: ['h']\n",
      "Key: o\n",
      "Group: ['o']\n",
      "Key: w\n",
      "Group: ['w']\n",
      "Key:  \n",
      "Group: [' ']\n",
      "Key: a\n",
      "Group: ['a']\n",
      "Key: r\n",
      "Group: ['r']\n",
      "Key: e\n",
      "Group: ['e']\n",
      "Key:  \n",
      "Group: [' ']\n",
      "Key: y\n",
      "Group: ['y']\n",
      "Key: o\n",
      "Group: ['o']\n",
      "Key: u\n",
      "Group: ['u']\n",
      "Key:  \n",
      "Group: [' ']\n",
      "Key: m\n",
      "Group: ['m']\n",
      "Key: y\n",
      "Group: ['y']\n",
      "Key:  \n",
      "Group: [' ']\n",
      "Key: f\n",
      "Group: ['f']\n",
      "Key: r\n",
      "Group: ['r']\n",
      "Key: i\n",
      "Group: ['i']\n",
      "Key: e\n",
      "Group: ['e']\n",
      "Key: n\n",
      "Group: ['n']\n",
      "Key: d\n",
      "Group: ['d']\n",
      "Key: ,\n",
      "Group: [',']\n",
      "Key:  \n",
      "Group: [' ']\n",
      "Key: w\n",
      "Group: ['w']\n",
      "Key: h\n",
      "Group: ['h']\n",
      "Key: e\n",
      "Group: ['e']\n",
      "Key: r\n",
      "Group: ['r']\n",
      "Key: e\n",
      "Group: ['e']\n",
      "Key:  \n",
      "Group: [' ']\n",
      "Key: a\n",
      "Group: ['a']\n",
      "Key: r\n",
      "Group: ['r']\n",
      "Key: e\n",
      "Group: ['e']\n",
      "Key:  \n",
      "Group: [' ']\n",
      "Key: y\n",
      "Group: ['y']\n",
      "Key: o\n",
      "Group: ['o']\n",
      "Key: u\n",
      "Group: ['u']\n"
     ]
    }
   ],
   "source": [
    "str1 = \"hi hello hi hello how are you how are you my friend, where are you\"\n",
    "data_groupby = it.groupby(str1)\n",
    "for key, group in data_groupby:\n",
    "    print('Key:', key)\n",
    "    print('Group:', list(group))  "
   ]
  },
  {
   "cell_type": "code",
   "execution_count": null,
   "id": "e1b8dae5-b240-436c-8421-a2a9bf5c38cd",
   "metadata": {},
   "outputs": [],
   "source": [
    "# 7. generate iterables a specified number of times"
   ]
  },
  {
   "cell_type": "code",
   "execution_count": 52,
   "id": "6ae5e1a0-c354-4496-af0c-99bb450d6dbe",
   "metadata": {},
   "outputs": [
    {
     "name": "stdout",
     "output_type": "stream",
     "text": [
      "['A', 'B', 'C', 'D']\n",
      "['A', 'B', 'C', 'D']\n",
      "['A', 'B', 'C', 'D']\n",
      "['A', 'B', 'C', 'D']\n",
      "['A', 'B', 'C', 'D']\n",
      "Hi hello how are you\n",
      "Hi hello how are you\n",
      "Hi hello how are you\n"
     ]
    }
   ],
   "source": [
    "import itertools as it\n",
    "\n",
    "result = it.tee(['A','B','C','D'], 5)\n",
    "for i in result:\n",
    "    print(list(i))\n",
    "\n",
    "result = it.tee(\"Hi hello how are you\", 3)\n",
    "for i in result:\n",
    "    print(\"\".join(list(i)))"
   ]
  },
  {
   "cell_type": "code",
   "execution_count": null,
   "id": "d6d1c814-76c3-4c0b-9168-904d0bc80a47",
   "metadata": {},
   "outputs": [],
   "source": [
    "# 8. permutations & combinations of elements"
   ]
  },
  {
   "cell_type": "code",
   "execution_count": 61,
   "id": "6630b737-114c-49de-b704-1fc26315f654",
   "metadata": {},
   "outputs": [
    {
     "name": "stdout",
     "output_type": "stream",
     "text": [
      "[('A', 'B'), ('A', 'C'), ('B', 'A'), ('B', 'C'), ('C', 'A'), ('C', 'B')]\n",
      "[('h', 'e'), ('h', 'y'), ('e', 'h'), ('e', 'y'), ('y', 'h'), ('y', 'e')]\n"
     ]
    }
   ],
   "source": [
    "import itertools as it\n",
    "\n",
    "print(list(it.permutations(['A','B','C'], 2)))\n",
    "print(list(it.permutations(\"hey\", 2)))"
   ]
  },
  {
   "cell_type": "code",
   "execution_count": 62,
   "id": "554c4de2-dfbc-4007-9378-2f911fca534d",
   "metadata": {},
   "outputs": [
    {
     "name": "stdout",
     "output_type": "stream",
     "text": [
      "[('A', 'B'), ('A', 'C'), ('B', 'C')]\n",
      "[('h', 'e'), ('h', 'y'), ('e', 'y')]\n"
     ]
    }
   ],
   "source": [
    "import itertools as it\n",
    "\n",
    "print(list(it.combinations(['A','B','C'], 2)))\n",
    "print(list(it.combinations(\"hey\", 2)))"
   ]
  },
  {
   "cell_type": "code",
   "execution_count": null,
   "id": "e6ac1071-a2e7-4614-9d82-5d277aaa6e06",
   "metadata": {},
   "outputs": [],
   "source": [
    "# 9. Cartesian product of a set of rows and a set of columns. \n",
    "     # If the Cartesian product rows × columns."
   ]
  },
  {
   "cell_type": "code",
   "execution_count": 70,
   "id": "7987c1dc-bf6a-43d8-b5ba-0bb32e2494d9",
   "metadata": {},
   "outputs": [
    {
     "name": "stdout",
     "output_type": "stream",
     "text": [
      "[(1, 3), (1, 4), (2, 3), (2, 4)]\n",
      "[(1, 3), (1, 4), (1, 5), (2, 3), (2, 4), (2, 5), (3, 3), (3, 4), (3, 5)]\n",
      "[]\n",
      "[]\n"
     ]
    }
   ],
   "source": [
    "import itertools as it\n",
    "\n",
    "ls = [[1,2],[3,4]]\n",
    "print(list(it.product(*ls)))\n",
    "ls = [[1,2,3],[3,4,5]]\n",
    "print(list(it.product(*ls)))\n",
    "ls = [[],[1,2,3]]\n",
    "print(list(it.product(*ls)))\n",
    "ls = [[1,2],[]]\n",
    "print(list(it.product(*ls)))"
   ]
  },
  {
   "cell_type": "code",
   "execution_count": null,
   "id": "9d590d94-1f35-4919-a866-85fc45b4404e",
   "metadata": {},
   "outputs": [],
   "source": [
    "# 10. maximum difference between pairs in a given list."
   ]
  },
  {
   "cell_type": "code",
   "execution_count": 74,
   "id": "e41236f4-bd28-43ea-8733-eb9c0a288f5c",
   "metadata": {},
   "outputs": [
    {
     "name": "stdout",
     "output_type": "stream",
     "text": [
      "[(90, 10)]\n"
     ]
    }
   ],
   "source": [
    "from itertools import combinations\n",
    "from heapq import nlargest\n",
    "\n",
    "marks = [32,14,90,10,22,42,31]\n",
    "result = nlargest(1, combinations(marks, 2), key=lambda x: abs(x[0] - x[1]))\n",
    "print(result)"
   ]
  },
  {
   "cell_type": "code",
   "execution_count": null,
   "id": "57dbacec-4e7b-4b1b-851a-e92d1e6f16ec",
   "metadata": {},
   "outputs": [],
   "source": [
    "# 11. split a given list into specified sized chunks"
   ]
  },
  {
   "cell_type": "code",
   "execution_count": 75,
   "id": "6c0c68ee-ebd5-4ef7-9a90-b28f68edf626",
   "metadata": {},
   "outputs": [
    {
     "name": "stdout",
     "output_type": "stream",
     "text": [
      "[(12, 45, 23), (67, 78, 90), (45, 32, 100), (76, 38, 62), (73, 29, 83)]\n",
      "[(12, 45, 23, 67), (78, 90, 45, 32), (100, 76, 38, 62), (73, 29, 83)]\n",
      "[(12, 45, 23, 67, 78), (90, 45, 32, 100, 76), (38, 62, 73, 29, 83)]\n"
     ]
    }
   ],
   "source": [
    "from itertools import islice\n",
    "def split_list(lst, n):\n",
    "    lst = iter(lst)\n",
    "    result = iter(lambda: tuple(islice(lst, n)), ())\n",
    "    return list(result)\n",
    "nums = [12,45,23,67,78,90,45,32,100,76,38,62,73,29,83]\n",
    "\n",
    "n = 3\n",
    "print(split_list(nums,n))\n",
    "n = 4\n",
    "print(split_list(nums,n))\n",
    "n = 5\n",
    "print(split_list(nums,n))"
   ]
  },
  {
   "cell_type": "code",
   "execution_count": 87,
   "id": "08bd0f00-5f1c-409a-8897-1034e95f31d6",
   "metadata": {},
   "outputs": [
    {
     "name": "stdout",
     "output_type": "stream",
     "text": [
      "[1, 2, 3]\n",
      "[4, 5, 6]\n",
      "[7, 8, 9]\n",
      "[10]\n"
     ]
    }
   ],
   "source": [
    "import itertools as it\n",
    "\n",
    "ls = [1, 2, 3, 4, 5, 6, 7, 8, 9, 10]\n",
    "chunks = [list(it.islice(ls, i, i + 3)) for i in range(0, len(ls), 3)]\n",
    "for chunk in chunks:\n",
    "    print(chunk)"
   ]
  },
  {
   "cell_type": "code",
   "execution_count": null,
   "id": "b3b3d213-b2b8-4251-9a43-e12cb05bcc08",
   "metadata": {},
   "outputs": [],
   "source": [
    "# 12. get the index of the first element that is greater than a specified element "
   ]
  },
  {
   "cell_type": "code",
   "execution_count": 91,
   "id": "1e5b14aa-4114-453a-8f0d-c3392d6ebb93",
   "metadata": {},
   "outputs": [
    {
     "name": "stdout",
     "output_type": "stream",
     "text": [
      "[(0, 12), (1, 45), (2, 23), (3, 67)]\n",
      "4\n"
     ]
    }
   ],
   "source": [
    "from itertools import takewhile\n",
    "\n",
    "l1 = [12,45,23,67,78,90,100,76,38,62,73,29,83]\n",
    "print(list(takewhile(lambda x: x[1] <= 73, enumerate(l1))))\n",
    "print(len(list(takewhile(lambda x: x[1] <= 73, enumerate(l1)))))"
   ]
  },
  {
   "cell_type": "code",
   "execution_count": null,
   "id": "8550d5bb-100a-4a6a-afe3-db787df9d753",
   "metadata": {},
   "outputs": [],
   "source": [
    "# 13. combined equal length of lists"
   ]
  },
  {
   "cell_type": "code",
   "execution_count": 98,
   "id": "a40f62d0-b0b2-428c-a7d6-d3066dbbe891",
   "metadata": {},
   "outputs": [
    {
     "data": {
      "text/plain": [
       "[100, 10, 1, 200, 20, 2, 300, 30, 3, 400, 40, 4]"
      ]
     },
     "execution_count": 98,
     "metadata": {},
     "output_type": "execute_result"
    }
   ],
   "source": [
    "from itertools import chain\n",
    "\n",
    "l1 = [100,200,300,400]\n",
    "l2 = [10,20,30,40]\n",
    "l3 = [1,2,3,4]\n",
    "\n",
    "list(itertools.chain(*zip(l1, l2, l3)))"
   ]
  },
  {
   "cell_type": "code",
   "execution_count": null,
   "id": "28c8bbf4-87f1-407a-bc1a-aac78b35ad6d",
   "metadata": {},
   "outputs": [],
   "source": [
    "# 14. combined unequal length of lists"
   ]
  },
  {
   "cell_type": "code",
   "execution_count": 93,
   "id": "ea93d56d-7982-47b4-9b11-cc7bd110a554",
   "metadata": {},
   "outputs": [
    {
     "data": {
      "text/plain": [
       "[2, 2, 0, 3, 4, 5, 1, 3, 7, 8, -1, 0, 7, 5, 8]"
      ]
     },
     "execution_count": 93,
     "metadata": {},
     "output_type": "execute_result"
    }
   ],
   "source": [
    "from itertools import chain, zip_longest\n",
    "\n",
    "l1 = [2, 4, 7, 0, 5, 8]\n",
    "l2 = [2, 5, 8]\n",
    "l3 = [0, 1]\n",
    "l4 = [3, 3, -1, 7]\n",
    "[x for x in chain(*zip_longest(l1, l2, l3, l4)) if x is not None] "
   ]
  },
  {
   "cell_type": "code",
   "execution_count": null,
   "id": "20297c7a-f7a7-4569-b483-49075319d9a1",
   "metadata": {},
   "outputs": [],
   "source": [
    "# 15.maximum, minimum aggregation pair"
   ]
  },
  {
   "cell_type": "code",
   "execution_count": 100,
   "id": "14594e45-fa09-4906-ac9c-ac408ed0a0db",
   "metadata": {},
   "outputs": [
    {
     "name": "stdout",
     "output_type": "stream",
     "text": [
      "(11, 10) (1, 3)\n"
     ]
    }
   ],
   "source": [
    "from itertools import combinations \n",
    "nums = [1,3,4,5,4,7,9,11,10,9]\n",
    "\n",
    "max_pair = max(combinations(nums, 2), key = lambda pair: pair[0] + pair[1])\n",
    "min_pair = min(combinations(nums, 2), key = lambda pair: pair[0] + pair[1])\n",
    "print(max_pair,min_pair)"
   ]
  },
  {
   "cell_type": "code",
   "execution_count": null,
   "id": "41765b01-e802-4ba3-a639-59a9df7c8fd6",
   "metadata": {},
   "outputs": [],
   "source": []
  },
  {
   "cell_type": "code",
   "execution_count": null,
   "id": "447fd301-919c-44d5-a9e6-75ded7abd872",
   "metadata": {},
   "outputs": [],
   "source": []
  },
  {
   "cell_type": "code",
   "execution_count": null,
   "id": "420af6ba-1812-4f44-a666-29b124b9b377",
   "metadata": {},
   "outputs": [],
   "source": []
  },
  {
   "cell_type": "code",
   "execution_count": null,
   "id": "2f4f2de3-8c8e-4ec8-be04-ad51e9d8276b",
   "metadata": {},
   "outputs": [],
   "source": []
  },
  {
   "cell_type": "code",
   "execution_count": null,
   "id": "3c3978d2-65a1-48d8-9862-6e0718adede2",
   "metadata": {},
   "outputs": [],
   "source": []
  },
  {
   "cell_type": "code",
   "execution_count": null,
   "id": "77d696b6-b065-4573-8f4e-5473cf1c8741",
   "metadata": {},
   "outputs": [],
   "source": []
  },
  {
   "cell_type": "code",
   "execution_count": null,
   "id": "8f45ca6e-8732-4bac-9cab-926a08fae708",
   "metadata": {},
   "outputs": [],
   "source": []
  }
 ],
 "metadata": {
  "kernelspec": {
   "display_name": "Python 3 (ipykernel)",
   "language": "python",
   "name": "python3"
  },
  "language_info": {
   "codemirror_mode": {
    "name": "ipython",
    "version": 3
   },
   "file_extension": ".py",
   "mimetype": "text/x-python",
   "name": "python",
   "nbconvert_exporter": "python",
   "pygments_lexer": "ipython3",
   "version": "3.11.5"
  }
 },
 "nbformat": 4,
 "nbformat_minor": 5
}
