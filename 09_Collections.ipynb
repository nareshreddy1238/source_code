{
 "cells": [
  {
   "cell_type": "markdown",
   "id": "764262f5",
   "metadata": {},
   "source": [
    "# 1. Collections"
   ]
  },
  {
   "cell_type": "code",
   "execution_count": 1,
   "id": "b045d404",
   "metadata": {},
   "outputs": [
    {
     "name": "stdout",
     "output_type": "stream",
     "text": [
      "['ChainMap', 'Counter', 'OrderedDict', 'UserDict', 'UserList', 'UserString', '_Link', '_OrderedDictItemsView', '_OrderedDictKeysView', '_OrderedDictValuesView', '__all__', '__builtins__', '__cached__', '__doc__', '__file__', '__loader__', '__name__', '__package__', '__path__', '__spec__', '_chain', '_collections_abc', '_count_elements', '_eq', '_iskeyword', '_itemgetter', '_proxy', '_recursive_repr', '_repeat', '_starmap', '_sys', '_tuplegetter', 'abc', 'defaultdict', 'deque', 'namedtuple']\n"
     ]
    }
   ],
   "source": [
    "import collections\n",
    "\n",
    "print(dir(collections))"
   ]
  },
  {
   "cell_type": "markdown",
   "id": "324fa491",
   "metadata": {},
   "source": [
    "# 2. namedtuple\n",
    "create custom tuple "
   ]
  },
  {
   "cell_type": "code",
   "execution_count": 6,
   "id": "cb258810",
   "metadata": {},
   "outputs": [
    {
     "name": "stdout",
     "output_type": "stream",
     "text": [
      "<class '__main__.Point'>\n",
      "1 2\n",
      "3 4\n"
     ]
    }
   ],
   "source": [
    "from collections import namedtuple\n",
    "\n",
    "# Define a namedtuple class for representing Point objects\n",
    "Point = namedtuple('Point', ['x', 'y'])\n",
    "# Create instances of the Point namedtuple\n",
    "point1 = Point(1, 2)\n",
    "point2 = Point(x=3, y=4)  # You can also use keyword arguments\n",
    "print(point1.x, point1.y)  \n",
    "print(point2.x, point2.y)  \n",
    "print(type(point1))"
   ]
  },
  {
   "cell_type": "markdown",
   "id": "e9f64fd9",
   "metadata": {},
   "source": [
    "# 3. defaultdict\n",
    "for missing keys, if not create missing key and assign default value "
   ]
  },
  {
   "cell_type": "code",
   "execution_count": 11,
   "id": "28f633e7",
   "metadata": {},
   "outputs": [
    {
     "name": "stdout",
     "output_type": "stream",
     "text": [
      "before dict: defaultdict(<class 'int'>, {'apple': 3, 'banana': 2, 'cherry': 2, 'date': 1})\n",
      "0\n",
      "3\n",
      "2\n",
      "2\n",
      "1\n",
      "after dict: defaultdict(<class 'int'>, {'apple': 3, 'banana': 2, 'cherry': 2, 'date': 1, 'grape': 0})\n"
     ]
    }
   ],
   "source": [
    "from collections import defaultdict\n",
    "\n",
    "# Create a defaultdict with an int factory (default value of 0)\n",
    "d = defaultdict(int)\n",
    "\n",
    "# Count the occurrences of words in a list\n",
    "words = [\"apple\", \"banana\", \"cherry\", \"apple\", \"cherry\", \"banana\", \"apple\", \"date\"]\n",
    "for w in words:\n",
    "    d[w] += 1\n",
    "print(\"before dict:\",d)\n",
    "\n",
    "# Accessing a missing key automatically creates it with the default value (0)\n",
    "print(d[\"grape\"])  \n",
    "# Access the counts of words\n",
    "print(d[\"apple\"])  \n",
    "print(d[\"banana\"])  \n",
    "print(d[\"cherry\"])  \n",
    "print(d[\"date\"])  \n",
    "print(\"after dict:\",d)"
   ]
  },
  {
   "cell_type": "markdown",
   "id": "4130ec25",
   "metadata": {},
   "source": [
    "# 4. Counter\n",
    "count the occurance of items"
   ]
  },
  {
   "cell_type": "code",
   "execution_count": 12,
   "id": "e3b034c5",
   "metadata": {},
   "outputs": [
    {
     "name": "stdout",
     "output_type": "stream",
     "text": [
      "3\n",
      "2\n",
      "2\n",
      "1\n",
      "0\n",
      "{'apple': 3, 'banana': 2, 'cherry': 2, 'date': 1}\n",
      "[('apple', 3), ('banana', 2)]\n"
     ]
    }
   ],
   "source": [
    "from collections import Counter\n",
    "\n",
    "# Create a Counter to count the occurrences of elements in a list\n",
    "fruits = [\"apple\", \"banana\", \"cherry\", \"apple\", \"cherry\", \"banana\", \"apple\", \"date\"]\n",
    "d = Counter(fruits)\n",
    "\n",
    "# Access the counts of individual elements\n",
    "print( d[\"apple\"])  \n",
    "print( d[\"banana\"])  \n",
    "print( d[\"cherry\"])  \n",
    "print( d[\"date\"])  \n",
    "print( d[\"grape\"])  \n",
    "\n",
    "# Convert the Counter to a dictionary\n",
    "fruit_dict = dict(d)\n",
    "print(fruit_dict)\n",
    "\n",
    "# List the most common elements and their counts\n",
    "most_common = d.most_common(2)  # Top 2 most common elements\n",
    "print(most_common)  # Output: [('apple', 3), ('banana', 2)]"
   ]
  },
  {
   "cell_type": "markdown",
   "id": "0ba9204c",
   "metadata": {},
   "source": [
    "# 5. deque\n",
    "double ended queue -> list like DS -> adding & removing from both the ends (useful for Queues and stacks) "
   ]
  },
  {
   "cell_type": "code",
   "execution_count": 15,
   "id": "fc862dd3",
   "metadata": {},
   "outputs": [
    {
     "name": "stdout",
     "output_type": "stream",
     "text": [
      "deque([-1, 0, 1, 2, 3, 4, 5])\n",
      "deque([1, 2, 3])\n",
      "True\n",
      "False\n",
      "deque([3, 2, 1])\n",
      "deque([1, 3, 2])\n",
      "deque([3, 2, 1])\n"
     ]
    }
   ],
   "source": [
    "from collections import deque\n",
    "\n",
    "# Create a deque with some initial elements\n",
    "my_deque = deque([1, 2, 3])\n",
    "\n",
    "# Append elements to the right end of the deque\n",
    "my_deque.append(4)\n",
    "my_deque.append(5)\n",
    "\n",
    "# Append elements to the left end of the deque\n",
    "my_deque.appendleft(0)\n",
    "my_deque.appendleft(-1)\n",
    "\n",
    "# Access elements from the deque\n",
    "print(my_deque)  \n",
    "\n",
    "# Remove elements from the right end of the deque\n",
    "my_deque.pop()\n",
    "my_deque.pop()\n",
    "\n",
    "# Remove elements from the left end of the deque\n",
    "my_deque.popleft()\n",
    "my_deque.popleft()\n",
    "\n",
    "print(my_deque)  \n",
    "\n",
    "# Check if an element is in the deque\n",
    "print(3 in my_deque) \n",
    "print(6 in my_deque)  \n",
    "\n",
    "# Reverse the deque\n",
    "my_deque.reverse()\n",
    "print(my_deque)  \n",
    "\n",
    "# Rotate the deque to the right\n",
    "my_deque.rotate(1)\n",
    "print(my_deque)  \n",
    "\n",
    "# Rotate the deque to the left\n",
    "my_deque.rotate(-1)\n",
    "print(my_deque)  "
   ]
  },
  {
   "cell_type": "markdown",
   "id": "85c51f0c",
   "metadata": {},
   "source": [
    "# 6. OrderedDict\n",
    "Preserve the Order -> what you have given or inserted items -> that order only executed"
   ]
  },
  {
   "cell_type": "code",
   "execution_count": 49,
   "id": "19786294",
   "metadata": {
    "scrolled": true
   },
   "outputs": [
    {
     "name": "stdout",
     "output_type": "stream",
     "text": [
      "OrderedDict([('apple', 1), ('banana', 2), ('dherry', 4), ('cate', 3)])\n",
      "apple 1\n",
      "banana 2\n",
      "dherry 4\n",
      "cate 3\n"
     ]
    }
   ],
   "source": [
    "from collections import OrderedDict\n",
    "\n",
    "dic = OrderedDict()\n",
    "dic[\"apple\"] = 1\n",
    "dic[\"banana\"] = 2\n",
    "dic[\"dherry\"] = 4\n",
    "dic[\"cate\"] = 3\n",
    "print(dic)\n",
    "#print(dic[\"cherry\"])  \n",
    "for fruit, price in dic.items():\n",
    "    print(fruit, price)"
   ]
  },
  {
   "cell_type": "markdown",
   "id": "ee56713c",
   "metadata": {},
   "source": [
    "# 7. chainmap"
   ]
  },
  {
   "cell_type": "code",
   "execution_count": 24,
   "id": "73f8aa4f",
   "metadata": {},
   "outputs": [
    {
     "name": "stdout",
     "output_type": "stream",
     "text": [
      "ChainMap({'a': 1, 'b': 2}, {'b': 3, 'c': 4}, {'d': 5})\n",
      "1\n",
      "2\n",
      "4\n",
      "5\n",
      "[{'a': 1, 'b': 2}, {'b': 3, 'c': 4}, {'d': 5}]\n",
      "6\n"
     ]
    }
   ],
   "source": [
    "from collections import ChainMap\n",
    "\n",
    "# Create multiple dictionaries\n",
    "dict1 = {'a': 1, 'b': 2}\n",
    "dict2 = {'b': 3, 'c': 4}\n",
    "dict3 = {'d': 5}\n",
    "\n",
    "# Create a ChainMap by combining the dictionaries\n",
    "dic = ChainMap(dict1, dict2, dict3)\n",
    "print(dic)\n",
    "\n",
    "# Access elements in the combined ChainMap\n",
    "print(dic['a']) \n",
    "print(dic['b'])  \n",
    "print(dic['c'])  \n",
    "print(dic['d'])  \n",
    "\n",
    "# You can also access the maps (individual dictionaries) in the ChainMap\n",
    "maps = dic.maps\n",
    "print(maps)\n",
    "\n",
    "# You can add new dictionaries to the ChainMap\n",
    "new_dict = {'e': 6}\n",
    "dic = dic.new_child(new_dict)\n",
    "print(dic['e'])  \n",
    "\n",
    "# Remove the most recently added dictionary\n",
    "dic = dic.parents\n",
    "#print(dic['e'])  # Raises a KeyError, as the new_dict was removed"
   ]
  },
  {
   "cell_type": "markdown",
   "id": "6beefbf0",
   "metadata": {},
   "source": [
    "# 7.UserDict, UserList, and UserString"
   ]
  },
  {
   "cell_type": "code",
   "execution_count": 25,
   "id": "7d371030",
   "metadata": {},
   "outputs": [
    {
     "name": "stdout",
     "output_type": "stream",
     "text": [
      "John\n",
      "30\n"
     ]
    }
   ],
   "source": [
    "from collections import UserDict\n",
    "\n",
    "class CaseInsensitiveDict(UserDict):\n",
    "    def __getitem__(self, key):\n",
    "        return self.data[key.lower()]\n",
    "\n",
    "    def __setitem__(self, key, value):\n",
    "        self.data[key.lower()] = value\n",
    "\n",
    "# Create an instance of the custom dictionary\n",
    "custom_dict = CaseInsensitiveDict()\n",
    "\n",
    "# Add key-value pairs (case-insensitive keys)\n",
    "custom_dict['Name'] = 'John'\n",
    "custom_dict['AGE'] = 30\n",
    "\n",
    "# Access values using case-insensitive keys\n",
    "print(custom_dict['name'])  # Output: 'John'\n",
    "print(custom_dict['age'])   # Output: 30"
   ]
  },
  {
   "cell_type": "code",
   "execution_count": 27,
   "id": "a81109f3",
   "metadata": {},
   "outputs": [
    {
     "name": "stdout",
     "output_type": "stream",
     "text": [
      "[2, 4, 6]\n"
     ]
    }
   ],
   "source": [
    "from collections import UserList\n",
    "\n",
    "class EvenNumberList(UserList):\n",
    "    def append(self, item):\n",
    "        if item % 2 == 0:\n",
    "            super().append(item)\n",
    "\n",
    "# Create an instance of the custom list\n",
    "even_numbers = EvenNumberList()\n",
    "\n",
    "# Add even numbers to the list\n",
    "even_numbers.append(2)\n",
    "even_numbers.append(4)\n",
    "even_numbers.append(6)\n",
    "\n",
    "# Attempt to add an odd number (it will be ignored)\n",
    "even_numbers.append(3)\n",
    "\n",
    "# Access and print the list\n",
    "print(even_numbers)  "
   ]
  },
  {
   "cell_type": "code",
   "execution_count": 31,
   "id": "0493d2e3",
   "metadata": {},
   "outputs": [
    {
     "name": "stdout",
     "output_type": "stream",
     "text": [
      "HELLO, WORLD!\n"
     ]
    }
   ],
   "source": [
    "from collections import UserString\n",
    "\n",
    "class CustomString(UserString):\n",
    "    def __init__(self, value):\n",
    "        super().__init__(value.upper())\n",
    "\n",
    "# Create an instance of the custom string\n",
    "custom_string = CustomString(\"Hello, World!\")\n",
    "\n",
    "# Access and print the string (enforced to be uppercase)\n",
    "print(custom_string)  # Output: \"HELLO, WORLD!\""
   ]
  },
  {
   "cell_type": "markdown",
   "id": "10cf62f6",
   "metadata": {},
   "source": [
    "# 8. Examples: Counter"
   ]
  },
  {
   "cell_type": "code",
   "execution_count": 32,
   "id": "a0febdb7",
   "metadata": {},
   "outputs": [
    {
     "name": "stdout",
     "output_type": "stream",
     "text": [
      "['p', 'p', 'p', 'p', 'q', 'q']\n"
     ]
    }
   ],
   "source": [
    "# create list like below\n",
    "from collections import Counter\n",
    "\n",
    "c = Counter(p=4, q=2, r=0)\n",
    "print(list(c.elements()))"
   ]
  },
  {
   "cell_type": "code",
   "execution_count": 34,
   "id": "1ba22272",
   "metadata": {},
   "outputs": [
    {
     "name": "stdout",
     "output_type": "stream",
     "text": [
      "[('s', 4), ('e', 3), ('f', 3)]\n"
     ]
    }
   ],
   "source": [
    "# 3 most common elements \n",
    "s = \"lkseropewdssafsdfafkpwe\"\n",
    "\n",
    "c = Counter(s)\n",
    "print(c.most_common(3))"
   ]
  },
  {
   "cell_type": "code",
   "execution_count": 36,
   "id": "a78c2602",
   "metadata": {},
   "outputs": [
    {
     "name": "stdout",
     "output_type": "stream",
     "text": [
      "[('Python', 6), ('the', 6), ('and', 5), ('We', 2), ('with', 2), ('The', 1), ('Software', 1), ('Foundation', 1), ('PSF', 1), ('is', 1)]\n"
     ]
    }
   ],
   "source": [
    "# 10 most common elements\n",
    "\n",
    "from collections import Counter\n",
    "import re\n",
    "\n",
    "text = \"\"\"The Python Software Foundation (PSF) is a 501(c)(3) non-profit \n",
    "corporation that holds the intellectual property rights behind\n",
    "the Python programming language. We manage the open source licensing \n",
    "for Python version 2.1 and later and own and protect the trademarks \n",
    "associated with Python. We also run the North American PyCon conference \n",
    "annually, support other Python conferences around the world, and \n",
    "fund Python related development with our grants program and by funding \n",
    "special projects.\"\"\"\n",
    "\n",
    "w = re.findall('\\w+',text)\n",
    "print(Counter(w).most_common(10))"
   ]
  },
  {
   "cell_type": "code",
   "execution_count": 37,
   "id": "5aba7f15",
   "metadata": {},
   "outputs": [
    {
     "name": "stdout",
     "output_type": "stream",
     "text": [
      "False\n"
     ]
    }
   ],
   "source": [
    "# compare two unordered lists (not sets)\n",
    "\n",
    "def compare_lists(x, y):\n",
    "    return Counter(x) == Counter(y)\n",
    "n1 = [20, 10, 30, 10, 20, 30]\n",
    "n2 = [30, 20, 10, 30, 20, 50]\n",
    "print(compare_lists(n1, n2))"
   ]
  },
  {
   "cell_type": "code",
   "execution_count": 51,
   "id": "4b141a4c",
   "metadata": {},
   "outputs": [
    {
     "name": "stdout",
     "output_type": "stream",
     "text": [
      "Counter({'VI': 3, 'V': 2, 'VII': 1})\n"
     ]
    }
   ],
   "source": [
    "# count student details \n",
    "\n",
    "from collections import Counter\n",
    "classes = (\n",
    "    ('V', 1),\n",
    "    ('VI', 1),\n",
    "    ('V', 2),\n",
    "    ('VI', 2),\n",
    "    ('VI', 3),\n",
    "    ('VII', 1),\n",
    ")\n",
    "\n",
    "stu_details = [cls for cls,stu in classes]\n",
    "students = Counter(stu_details)\n",
    "print(students)"
   ]
  },
  {
   "cell_type": "code",
   "execution_count": 53,
   "id": "6b975342",
   "metadata": {},
   "outputs": [
    {
     "name": "stdout",
     "output_type": "stream",
     "text": [
      "Counter({'pink': 6, 'black': 5, 'white': 5, 'red': 4, 'green': 4, 'orange': 4, 'eyes': 1})\n",
      "[('pink', 6), ('black', 5), ('white', 5), ('red', 4)]\n"
     ]
    }
   ],
   "source": [
    "# most common words\n",
    "words = [\n",
    "   'red', 'green', 'black', 'pink', 'black', 'white', 'black', 'eyes',\n",
    "   'white', 'black', 'orange', 'pink', 'pink', 'red', 'red', 'white', 'orange',\n",
    "   'white', \"black\", 'pink', 'green', 'green', 'pink', 'green', 'pink',\n",
    "   'white', 'orange', \"orange\", 'red'\n",
    "]\n",
    "c = Counter(words)\n",
    "print(c)\n",
    "print(c.most_common(4))"
   ]
  },
  {
   "cell_type": "code",
   "execution_count": 55,
   "id": "1312fa09",
   "metadata": {},
   "outputs": [
    {
     "name": "stdout",
     "output_type": "stream",
     "text": [
      "Counter({'Red': 2, 'Orange': 2, 'Black': 2, 'Green': 1, 'Blue': 1, 'White': 1})\n",
      "[(3, 4), (5, 4), (8, 4), (0, 3)]\n"
     ]
    }
   ],
   "source": [
    "from collections import Counter\n",
    "\n",
    "colors = ['Green', 'Red', 'Blue', 'Red', 'Orange', 'Black', 'Black', 'White', 'Orange']\n",
    "nums = [3,5,0,3,9,5,8,0,3,8,5,8,3,5,8,1,0,2]\n",
    "\n",
    "print(Counter(colors))\n",
    "print(Counter(nums).most_common(4))"
   ]
  },
  {
   "cell_type": "code",
   "execution_count": 64,
   "id": "6eef3800",
   "metadata": {},
   "outputs": [
    {
     "name": "stdout",
     "output_type": "stream",
     "text": [
      "Original lists:\n",
      "[3, 3, 4, 7]\n"
     ]
    }
   ],
   "source": [
    "# find the difference between two lists including duplicate elements\n",
    "from collections import Counter\n",
    "l1 = [1,1,2,3,3,4,4,5,6,7]\n",
    "l2 = [1,1,2,4,5,6]\n",
    "print(\"Original lists:\")\n",
    "c1 = Counter(l1)\n",
    "c2 = Counter(l2)\n",
    "diff = c1-c2\n",
    "print(list(diff.elements()))"
   ]
  },
  {
   "cell_type": "markdown",
   "id": "1b029ba4",
   "metadata": {},
   "source": [
    "# 9. Examples: deque"
   ]
  },
  {
   "cell_type": "code",
   "execution_count": 35,
   "id": "d3e79ecd",
   "metadata": {},
   "outputs": [
    {
     "name": "stdout",
     "output_type": "stream",
     "text": [
      "a\n",
      "e\n",
      "i\n",
      "o\n",
      "u\n"
     ]
    }
   ],
   "source": [
    "# create deque list\n",
    "from collections import deque\n",
    "dq = deque('aeiou')\n",
    "for element in dq:\n",
    "    print(element)"
   ]
  },
  {
   "cell_type": "markdown",
   "id": "63c973b4",
   "metadata": {},
   "source": [
    "# 10. Examples: defaultdict"
   ]
  },
  {
   "cell_type": "code",
   "execution_count": 38,
   "id": "404f900b",
   "metadata": {},
   "outputs": [
    {
     "name": "stdout",
     "output_type": "stream",
     "text": [
      "[('v', [1, 3]), ('vi', [2, 4]), ('vii', [1])]\n"
     ]
    }
   ],
   "source": [
    "# group a sequence of key-value pairs into a dictionary of lists.\n",
    "from collections import defaultdict\n",
    "\n",
    "class_roll = [('v', 1), ('vi', 2), ('v', 3), ('vi', 4), ('vii', 1)]\n",
    "d = defaultdict(list)\n",
    "for k, v in class_roll:\n",
    "    d[k].append(v)\n",
    "print(sorted(d.items()))"
   ]
  },
  {
   "cell_type": "code",
   "execution_count": 56,
   "id": "aaa57f2f",
   "metadata": {},
   "outputs": [
    {
     "name": "stdout",
     "output_type": "stream",
     "text": [
      "dict_items([('yellow', [1, 3]), ('blue', [2, 4]), ('red', [1])])\n"
     ]
    }
   ],
   "source": [
    "# create a dictionary grouping a sequence of key-value pairs into a dictionary of lists. Use the collections module\n",
    "\n",
    "ls = [('yellow', 1), ('blue', 2), ('yellow', 3), ('blue', 4), ('red', 1)]\n",
    "d = defaultdict(list)\n",
    "for k,v in ls:\n",
    "    d[k].append(v)\n",
    "print(d.items())"
   ]
  },
  {
   "cell_type": "code",
   "execution_count": 65,
   "id": "fa4d1f6c",
   "metadata": {},
   "outputs": [
    {
     "name": "stdout",
     "output_type": "stream",
     "text": [
      "('Juan Whelan', 212)\n"
     ]
    }
   ],
   "source": [
    "# calculate the maximum aggregate from the list of tuples (pair)\n",
    "from collections import defaultdict\n",
    "def max_aggregate(st_data):\n",
    "    temp = defaultdict(int)\n",
    "    for name, marks in st_data:\n",
    "        temp[name] += marks\n",
    "    return max(temp.items(), key=lambda x: x[1])\n",
    "\n",
    "students = [('Juan Whelan',90),('Sabah Colley',88),('Peter Nichols',7),('Juan Whelan',122),('Sabah Colley',84)]\n",
    "print(max_aggregate(students))"
   ]
  },
  {
   "cell_type": "code",
   "execution_count": 67,
   "id": "d298ebf1",
   "metadata": {},
   "outputs": [
    {
     "name": "stdout",
     "output_type": "stream",
     "text": [
      "(2, 5)\n"
     ]
    }
   ],
   "source": [
    "# find maximum occur in times using defaultdict \n",
    "from collections import defaultdict\n",
    "def max_occurrences(nums):\n",
    "    dict = defaultdict(int)\n",
    "    for i in nums:\n",
    "        dict[i] += 1\n",
    "    result = max(dict.items(), key=lambda x: x[1]) \n",
    "    return result\n",
    "nums = [2,3,8,4,7,9,8,2,6,5,1,6,1,2,3,2,4,6,9,1,2]\n",
    "print(max_occurrences(nums))"
   ]
  },
  {
   "cell_type": "markdown",
   "id": "1f484811",
   "metadata": {},
   "source": [
    "# 11. Examples: OrderedDict"
   ]
  },
  {
   "cell_type": "code",
   "execution_count": 46,
   "id": "b26fe1c9",
   "metadata": {},
   "outputs": [
    {
     "name": "stdout",
     "output_type": "stream",
     "text": [
      "belgium 93\n",
      "Algeria 355\n",
      "india 213\n",
      "pandora 376\n",
      "England 244\n",
      "\n",
      "In reverse order:\n",
      "England 244\n",
      "pandora 376\n",
      "india 213\n",
      "Algeria 355\n",
      "belgium 93\n"
     ]
    }
   ],
   "source": [
    "# create sort dict & reverse order\n",
    "from collections import OrderedDict\n",
    "\n",
    "dic = {'belgium': 93, 'Algeria': 355, 'india': 213, 'pandora': 376, 'England': 244}\n",
    "d = OrderedDict(dic.items())\n",
    "for key in d:\n",
    "    print (key, d[key])\n",
    "    \n",
    "print(\"\\nIn reverse order:\")\n",
    "for key in reversed(d):\n",
    "    print (key, d[key])"
   ]
  },
  {
   "cell_type": "code",
   "execution_count": 63,
   "id": "bfb4cd86",
   "metadata": {},
   "outputs": [
    {
     "name": "stdout",
     "output_type": "stream",
     "text": [
      "Python Exercises Practice Solution\n"
     ]
    }
   ],
   "source": [
    "# remove duplicate words from a given string. Use the collections module.\n",
    "from collections import OrderedDict\n",
    "\n",
    "text_str = \"Python Exercises Practice Solution Exercises\"\n",
    "\n",
    "result = ' '.join(OrderedDict((w,w) for w in text_str.split()).keys())\n",
    "print(result)"
   ]
  },
  {
   "cell_type": "code",
   "execution_count": 66,
   "id": "958570e5",
   "metadata": {},
   "outputs": [
    {
     "name": "stdout",
     "output_type": "stream",
     "text": [
      "OrderedDict([('color4', 'Orange'), ('color1', 'Red'), ('color2', 'Green'), ('color3', 'Blue')])\n"
     ]
    }
   ],
   "source": [
    "# insert an element at the beginning of a given Ordered Dictionary\n",
    "from collections import OrderedDict\n",
    "color_orderdict = OrderedDict([('color1', 'Red'), ('color2', 'Green'), ('color3', 'Blue')]) \n",
    "color_orderdict.update({'color4':'Orange'})\n",
    "color_orderdict.move_to_end('color4', last = False)\n",
    "print(color_orderdict)"
   ]
  },
  {
   "cell_type": "code",
   "execution_count": null,
   "id": "faf967d7",
   "metadata": {},
   "outputs": [],
   "source": []
  },
  {
   "cell_type": "code",
   "execution_count": null,
   "id": "27496947",
   "metadata": {},
   "outputs": [],
   "source": []
  }
 ],
 "metadata": {
  "kernelspec": {
   "display_name": "Python 3 (ipykernel)",
   "language": "python",
   "name": "python3"
  },
  "language_info": {
   "codemirror_mode": {
    "name": "ipython",
    "version": 3
   },
   "file_extension": ".py",
   "mimetype": "text/x-python",
   "name": "python",
   "nbconvert_exporter": "python",
   "pygments_lexer": "ipython3",
   "version": "3.11.5"
  }
 },
 "nbformat": 4,
 "nbformat_minor": 5
}
