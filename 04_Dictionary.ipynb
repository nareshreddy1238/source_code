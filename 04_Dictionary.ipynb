{
 "cells": [
  {
   "cell_type": "markdown",
   "id": "c9780034",
   "metadata": {},
   "source": [
    "# 1 Dict: Basic Method"
   ]
  },
  {
   "cell_type": "code",
   "execution_count": 21,
   "id": "30990163-96f7-4227-8ace-ee9d0838399c",
   "metadata": {},
   "outputs": [
    {
     "name": "stdout",
     "output_type": "stream",
     "text": [
      "keys: dict_keys([1, 2, 3])\n",
      "values: dict_values(['a', 'b', 'c'])\n",
      "items: dict_items([(1, 'a'), (2, 'b'), (3, 'c')])\n",
      "get: b\n",
      "copy {1: 'a', 2: 'b', 3: 'c'}\n",
      "formkeys: {'key1': 0, 'key2': 0, 'key3': 0}\n",
      "setdefault key is present: {'a': 1, 'b': 2, 'c': 3}\n",
      "set default key is not present present: {'a': 1, 'b': 2, 'c': 3, 'd': 10}\n",
      "update {1: 'a', 2: 'b', 3: 'c', 4: 'd'}\n",
      "pop {1: 'a', 2: 'b'}\n",
      "popitem: {1: 'a', 2: 'b'}\n",
      "Key 'a' is present.\n"
     ]
    }
   ],
   "source": [
    "d = {1:'a',2:'b',3:'c'}\n",
    "\n",
    "#keys(): returns keys in list format\n",
    "print(\"keys:\",d.keys())   \n",
    "\n",
    "#values(): returns Values in list format\n",
    "print(\"values:\",d.values())\n",
    "      \n",
    "#items(): returns both key & values in list of tuples\n",
    "print(\"items:\",d.items())\n",
    "\n",
    "#get(): returns the value for specified key \n",
    "print(\"get:\",d.get(2))\n",
    "     \n",
    "#copy(): copy the dictionary\n",
    "x = d.copy()\n",
    "print(\"copy\",x)\n",
    "      \n",
    "#fromkeys(): set the values for keys \n",
    "x = ('key1', 'key2', 'key3')\n",
    "y = 0\n",
    "d = dict.fromkeys(x, y)\n",
    "print(\"formkeys:\",d)\n",
    "\n",
    "\"\"\"setdefault(): Returns the value of the specified key. \n",
    "              If the key does not exist: insert the key, with the specified value.\"\"\"\n",
    "my_dict = {'a': 1, 'b': 2, 'c': 3}\n",
    "value = my_dict.setdefault('a', 10)\n",
    "print(\"setdefault key is present:\",my_dict)  # Output: 1 --> key is present\n",
    "value = my_dict.setdefault('d', 10)          # Output: 10 --> key is not present\n",
    "print(\"set default key is not present present:\",my_dict)  # Output: {'a': 1, 'b': 2, 'c': 3, 'd': 10}\n",
    "     \n",
    "#update(): update specified dictionary items\n",
    "d1= {1:'a',2:'b',3:'c'} \n",
    "x = d1.update({4:'d'})\n",
    "print(\"update\",d1)\n",
    "          \n",
    "#clear(): remove the all elements in dictionary \n",
    "d={1:'a',2:'b',3:'c'}\n",
    "d.clear()\n",
    "    \n",
    "#pop(): remove specified item in dictionary\n",
    "d1= {1:'a',2:'b',3:'c'} \n",
    "d1.pop(3)\n",
    "print(\"pop\",d1)\n",
    "      \n",
    "#popitem(): remove last inserted items\n",
    "d1= {1:'a',2:'b',3:'c'} \n",
    "d1.popitem()\n",
    "print(\"popitem:\",d1)\n",
    "      \n",
    "#haskey(): check the key or not\n",
    "my_dict = {'a': 1, 'b': 2, 'c': 3}\n",
    "\"\"\" python2 \n",
    "if my_dict.has_key('a'):\n",
    "    print(\"Key 'a' is present.\")\n",
    "else:\n",
    "    print(\"Key 'a' is not present.\")\"\"\"\n",
    "#python3: instead of haskey using operators\n",
    "my_dict = {'a': 1, 'b': 2, 'c': 3}\n",
    "if 'a' in my_dict:\n",
    "    print(\"Key 'a' is present.\")\n",
    "else:\n",
    "    print(\"Key 'a' is not present.\")"
   ]
  },
  {
   "cell_type": "markdown",
   "id": "0164d9fb",
   "metadata": {},
   "source": [
    "# 2. convert mul dicts into one dict"
   ]
  },
  {
   "cell_type": "code",
   "execution_count": 23,
   "id": "90ff9548-ac8d-42c5-a89d-37ceb2056df9",
   "metadata": {},
   "outputs": [
    {
     "name": "stdout",
     "output_type": "stream",
     "text": [
      "{'a': 1, 'b': 2, 'c': 3, 'd': 4, 'e': 5, 'f': 6, 'g': 7}\n"
     ]
    }
   ],
   "source": [
    "d1={'a':1,'b':2,'c':3}\n",
    "d2={'d':4,'e':5}\n",
    "d3={'f':6,'g':7}\n",
    "d4={}\n",
    "for i in (d1,d2,d3):\n",
    "    d4.update(i)\n",
    "print(d4)"
   ]
  },
  {
   "cell_type": "markdown",
   "id": "f259dbab",
   "metadata": {},
   "source": [
    "# 3. Dict: Square of the values "
   ]
  },
  {
   "cell_type": "code",
   "execution_count": 49,
   "id": "2efecf09",
   "metadata": {},
   "outputs": [
    {
     "name": "stdout",
     "output_type": "stream",
     "text": [
      "{'a': 1, 'b': 4, 'c': 9, 'd': 16, 'e': 25, 'f': 36, 'g': 49}\n",
      "{'a': 1, 'b': 16, 'c': 81, 'd': 256, 'e': 625, 'f': 1296, 'g': 2401}\n",
      "{'a': 1, 'b': 16, 'c': 81, 'd': 256, 'e': 625, 'f': 1296, 'g': 2401}\n"
     ]
    }
   ],
   "source": [
    "d={'a': 1, 'b': 2, 'c': 3, 'd': 4, 'e': 5, 'f': 6, 'g': 7}\n",
    "for k in d:\n",
    "    d[k]=d[k]**2\n",
    "print(d)\n",
    "\n",
    "#method2:\n",
    "print({k:d[k]**2 for k in d})\n",
    "print({x:y**2 for x,y in d.items()})"
   ]
  },
  {
   "cell_type": "markdown",
   "id": "d5359357",
   "metadata": {},
   "source": [
    "# 4. Dict: max & min value"
   ]
  },
  {
   "cell_type": "code",
   "execution_count": 41,
   "id": "ed8e4af3-53d4-4fbd-b8ad-35dd44854c89",
   "metadata": {},
   "outputs": [
    {
     "name": "stdout",
     "output_type": "stream",
     "text": [
      "20\n",
      "Maximum value: 15\n",
      "Maximum value: 12\n"
     ]
    }
   ],
   "source": [
    "#method1:\n",
    "d = {'a': 10, 'b': 5, 'c': 20}\n",
    "print(max(d.values()))\n",
    "\n",
    "#method2: only numeric\n",
    "d1 = {'a': 10, 'b': 15, 'c': 11}\n",
    "m = 0\n",
    "for val in d1.values():\n",
    "    if val > m:\n",
    "        m = val\n",
    "print(\"Maximum value:\", m)\n",
    "\n",
    "#method: both numeric/string\n",
    "d2 = {'a': 10, 'b': 5, 'c': 8, 'd': 12}\n",
    "m = None\n",
    "for v in d2.values():\n",
    "    if m is None or v > m:\n",
    "        m = v\n",
    "print(\"Maximum value:\", m)"
   ]
  },
  {
   "cell_type": "code",
   "execution_count": 42,
   "id": "2c8df59e-32ed-4903-bdce-1fb6dafa7be6",
   "metadata": {},
   "outputs": [
    {
     "name": "stdout",
     "output_type": "stream",
     "text": [
      "Maximum value: d\n"
     ]
    }
   ],
   "source": [
    "### 4. max key in dict \n",
    "d2 = {'a': 10, 'b': 5, 'c': 8, 'd': 12}\n",
    "m = None\n",
    "for k in d2.keys():\n",
    "    if m is None or k > m:\n",
    "        m = k\n",
    "print(\"Maximum value:\", m)"
   ]
  },
  {
   "cell_type": "markdown",
   "id": "8c580665",
   "metadata": {},
   "source": [
    "# 5. Dict: Unique values / Distinct values (Remove Duplicate keys & values) "
   ]
  },
  {
   "cell_type": "code",
   "execution_count": 74,
   "id": "6979a1f6-0982-4179-bc40-9caa03fd8abd",
   "metadata": {},
   "outputs": [
    {
     "name": "stdout",
     "output_type": "stream",
     "text": [
      "remove the duplicate keys: {'a': 1, 'b': 2, 'c': 3, 'd': 2, 'e': 5}\n"
     ]
    }
   ],
   "source": [
    "d ={'a':1,'b': 2,'c': 3,'d': 2,'e': 4,'e':5}\n",
    "n={}\n",
    "for k,v in d.items():\n",
    "    if k not in n:\n",
    "        n[k]=v\n",
    "print(\"remove the duplicate keys:\",n)"
   ]
  },
  {
   "cell_type": "code",
   "execution_count": 53,
   "id": "c16f7bb2-eac0-42f9-a6a3-270f6bc88382",
   "metadata": {},
   "outputs": [
    {
     "name": "stdout",
     "output_type": "stream",
     "text": [
      "{'a': 1, 'b': 2, 'c': 3, 'e': 5}\n"
     ]
    }
   ],
   "source": [
    "# remove duplicate values in dict\n",
    "d1 ={'a':1,'b': 2,'c': 5,'d': 2,'e': 4,'e':5}\n",
    "values = set()\n",
    "n1={}\n",
    "for k,v in d.items():\n",
    "    if v not in values:\n",
    "        values.add(v)\n",
    "        n1[k] = v\n",
    "print(n1)"
   ]
  },
  {
   "cell_type": "code",
   "execution_count": 55,
   "id": "73a18dfe-4ca8-486d-a74c-b1504ee03f1d",
   "metadata": {},
   "outputs": [
    {
     "name": "stdout",
     "output_type": "stream",
     "text": [
      "{'a': 1, 'b': 2, 'c': 5}\n"
     ]
    }
   ],
   "source": [
    "# remove duplicate items: keys & values same time\n",
    "d ={'a':1,'b': 2,'c': 5,'d': 2,'e': 4,'e':5}\n",
    "val = set()\n",
    "n={}\n",
    "for k,v in d.items():\n",
    "    if k not in n and v not in val:\n",
    "            val.add(v)\n",
    "            n[k] = v\n",
    "print(n)"
   ]
  },
  {
   "cell_type": "code",
   "execution_count": 69,
   "id": "9fdc22fd-8b62-437e-a8bc-8f4dbeee152d",
   "metadata": {},
   "outputs": [
    {
     "name": "stdout",
     "output_type": "stream",
     "text": [
      "{'a': 1, 'b': 2, 'c': 5}\n"
     ]
    }
   ],
   "source": [
    "# unique values in dict (remove the duplicates keys and values)\n",
    "d ={'a':1,'b': 2,'c': 5,'d': 2,'e': 4,'e':5}\n",
    "n={}\n",
    "for k,v in d.items():\n",
    "    if k not in n.keys() and v not in n.values():\n",
    "        n[k]=v\n",
    "print(n)"
   ]
  },
  {
   "cell_type": "code",
   "execution_count": 82,
   "id": "9a5ad873-00d5-4b42-bf68-b71548e61a9f",
   "metadata": {},
   "outputs": [
    {
     "name": "stdout",
     "output_type": "stream",
     "text": [
      "common keys: {'b': 2, 'c': 3, 'd': 4}\n",
      "common values: {'b': 2, 'c': 3, 'd': 4}\n",
      "common values: {'b': 4, 'c': 4, 'd': 4}\n"
     ]
    }
   ],
   "source": [
    "d1 = {'a': 1, 'b': 2, 'c': 3, 'd': 4}\n",
    "d2 = {'b': 2, 'c': 3, 'd': 4, 'e': 5}\n",
    "d={}\n",
    "for k,v in d1.items():\n",
    "    if k in d2.keys():\n",
    "        d[k]=v\n",
    "print(\"common keys:\",d)\n",
    "\n",
    "d3={}\n",
    "for k1,v1 in d1.items():\n",
    "    if v1 in d2.values():\n",
    "        d3[k1]=v1\n",
    "print(\"common values:\",d3)"
   ]
  },
  {
   "cell_type": "code",
   "execution_count": 86,
   "id": "6e02c2bd-aaa9-4288-9ddb-3314248432fe",
   "metadata": {},
   "outputs": [
    {
     "name": "stdout",
     "output_type": "stream",
     "text": [
      "[('b', 2), ('c', 3)]\n"
     ]
    }
   ],
   "source": [
    "# common key,values \n",
    "d1 = {'a': 1, 'b': 2, 'c': 3}\n",
    "d2 = {'b': 2, 'c': 3, 'd': 4}\n",
    "items = []\n",
    "for k in d1:\n",
    "    if k in d2 and d1[k]==d2[k]:\n",
    "        items.append((k, d1[k]))\n",
    "print(items)"
   ]
  },
  {
   "cell_type": "code",
   "execution_count": 73,
   "id": "9bb5ebe5",
   "metadata": {},
   "outputs": [
    {
     "name": "stdout",
     "output_type": "stream",
     "text": [
      "common Values: {'S001', 'S009', 'S007', 'S002', 'S005'}\n",
      "common Keys: {'VIII', 'V', 'VII', 'VI'}\n"
     ]
    }
   ],
   "source": [
    "dic = [{\"V\":\"S001\"}, {\"V\": \"S002\"}, {\"VI\": \"S001\"}, {\"VI\": \"S005\"}, {\"VII\":\"S005\"}, {\"V\":\"S009\"},{\"VIII\":\"S007\"}]\n",
    "\n",
    "print(\"common Values:\",set(v for d in dic for v in d.values()))\n",
    "print(\"common Keys:\",set(k for d in dic for k in d.keys()))"
   ]
  },
  {
   "cell_type": "markdown",
   "id": "cb766d53",
   "metadata": {},
   "source": [
    "# 6. Dict: sum of the values"
   ]
  },
  {
   "cell_type": "code",
   "execution_count": 87,
   "id": "7f3543d0-0e5c-4053-975b-d39c1e4fe6b1",
   "metadata": {},
   "outputs": [
    {
     "name": "stdout",
     "output_type": "stream",
     "text": [
      "10\n"
     ]
    }
   ],
   "source": [
    "d = {'a': 1, 'b': 2, 'c': 3, 'd': 4}\n",
    "c = 0\n",
    "for v in d.values():\n",
    "    c=c+v\n",
    "print(c)"
   ]
  },
  {
   "cell_type": "markdown",
   "id": "d60586e1",
   "metadata": {},
   "source": [
    "# 7. Dict: depth of dict "
   ]
  },
  {
   "cell_type": "code",
   "execution_count": 92,
   "id": "2e8a3136-a125-499c-bb9a-ff1ce18138ff",
   "metadata": {},
   "outputs": [
    {
     "name": "stdout",
     "output_type": "stream",
     "text": [
      "4\n"
     ]
    }
   ],
   "source": [
    "d={'a':{'b':{'c':{'d':5}}}}\n",
    "c=0\n",
    "for i in str(d):\n",
    "    if i==\"{\":\n",
    "        c=c+1\n",
    "print(c)"
   ]
  },
  {
   "cell_type": "markdown",
   "id": "9f0ad718",
   "metadata": {},
   "source": [
    "# 8. Dict: interchange of dict"
   ]
  },
  {
   "cell_type": "code",
   "execution_count": 1,
   "id": "81ec60a3",
   "metadata": {},
   "outputs": [
    {
     "name": "stdout",
     "output_type": "stream",
     "text": [
      "{'a': 1, 'b': 2, 'c': 3, 'd': 4}\n"
     ]
    }
   ],
   "source": [
    "d = {1:'a',2:'b',3:'c',4:'d'}\n",
    "\n",
    "d1 = {v:k for k,v in d.items()}\n",
    "print(d1)"
   ]
  },
  {
   "cell_type": "markdown",
   "id": "cc04efa7",
   "metadata": {},
   "source": [
    "# 9. Dict: Ascending or Descending Order"
   ]
  },
  {
   "cell_type": "code",
   "execution_count": 18,
   "id": "3b68575d",
   "metadata": {},
   "outputs": [
    {
     "name": "stdout",
     "output_type": "stream",
     "text": [
      "Asc: {'apple': 3, 'banana': 1, 'cherry': 2}\n",
      "Desc: {'cherry': 2, 'banana': 1, 'apple': 3}\n"
     ]
    }
   ],
   "source": [
    "## Sorting with keys\n",
    "d = {'apple': 3, 'banana': 1, 'cherry': 2}\n",
    "\n",
    "d1 = {k: d[k] for k in sorted(d)}\n",
    "print(\"Asc:\",d1)\n",
    "d1 = {k: d[k] for k in sorted(d,reverse=True)}\n",
    "print(\"Desc:\",d1)"
   ]
  },
  {
   "cell_type": "code",
   "execution_count": 24,
   "id": "f2533ba0",
   "metadata": {},
   "outputs": [
    {
     "name": "stdout",
     "output_type": "stream",
     "text": [
      "Asc keys: {'apple': 3, 'banana': 1, 'cherry': 2}\n",
      "Asc values: {'banana': 1, 'cherry': 2, 'apple': 3}\n",
      "Desc keys: {'cherry': 2, 'banana': 1, 'apple': 3}\n",
      "Desc values: {'apple': 3, 'cherry': 2, 'banana': 1}\n"
     ]
    }
   ],
   "source": [
    "## sorting keys & values\n",
    "d = {'apple': 3, 'banana': 1, 'cherry': 2}\n",
    "\n",
    "d1 = dict(sorted(d.items(), key=lambda item: item[0]))\n",
    "print(\"Asc keys:\",d1)\n",
    "d2 = dict(sorted(d.items(), key=lambda item: item[1]))\n",
    "print(\"Asc values:\",d2)\n",
    "d1 = dict(sorted(d.items(), key=lambda item: item[0],reverse=True))\n",
    "print(\"Desc keys:\",d1)\n",
    "d2 = dict(sorted(d.items(), key=lambda item: item[1],reverse=True))\n",
    "print(\"Desc values:\",d2)"
   ]
  },
  {
   "cell_type": "code",
   "execution_count": 25,
   "id": "ca841595",
   "metadata": {},
   "outputs": [
    {
     "name": "stdout",
     "output_type": "stream",
     "text": [
      "Asc keys: {'apple': 3, 'banana': 1, 'cherry': 2}\n",
      "Asc values: {'banana': 1, 'cherry': 2, 'apple': 3}\n",
      "Desc keys: {'cherry': 2, 'banana': 1, 'apple': 3}\n",
      "Desc values: {'apple': 3, 'cherry': 2, 'banana': 1}\n"
     ]
    }
   ],
   "source": [
    "## sorting keys & values\n",
    "d = {'apple': 3, 'banana': 1, 'cherry': 2}\n",
    "\n",
    "d1 = {k: v for k, v in sorted(d.items(), key=lambda item: item[0])}\n",
    "print(\"Asc keys:\",d1)\n",
    "d2 = {k: v for k, v in sorted(d.items(), key=lambda item: item[1])}\n",
    "print(\"Asc values:\",d2)\n",
    "d3 = {k: v for k, v in sorted(d.items(), key=lambda item: item[0], reverse=True)}\n",
    "print(\"Desc keys:\",d3)\n",
    "d4 = {k: v for k, v in sorted(d.items(), key=lambda item: item[1], reverse=True)}\n",
    "print(\"Desc values:\",d4)"
   ]
  },
  {
   "cell_type": "markdown",
   "id": "9461823c",
   "metadata": {},
   "source": [
    "# 10 Dict: remove key from dict"
   ]
  },
  {
   "cell_type": "code",
   "execution_count": 27,
   "id": "d20d3d33",
   "metadata": {},
   "outputs": [
    {
     "data": {
      "text/plain": [
       "{'b': 2, 'c': 3, 'd': 4}"
      ]
     },
     "execution_count": 27,
     "metadata": {},
     "output_type": "execute_result"
    }
   ],
   "source": [
    "d = {'a':1,'b':2,'c':3,'d':4}\n",
    "del d['a']\n",
    "d"
   ]
  },
  {
   "cell_type": "code",
   "execution_count": 29,
   "id": "99af20b3",
   "metadata": {},
   "outputs": [
    {
     "name": "stdout",
     "output_type": "stream",
     "text": [
      "{'b': 2, 'c': 3, 'd': 4}\n"
     ]
    }
   ],
   "source": [
    "d = {'a':1,'b':2,'c':3,'d':4}\n",
    "if 'a' in d: \n",
    "    del d['a']\n",
    "print(d)"
   ]
  },
  {
   "cell_type": "markdown",
   "id": "eb5681d9",
   "metadata": {},
   "source": [
    "# 11 Dict: get a dictionary from an object's fields (oops concept)"
   ]
  },
  {
   "cell_type": "code",
   "execution_count": 31,
   "id": "9ea127a5",
   "metadata": {},
   "outputs": [
    {
     "name": "stdout",
     "output_type": "stream",
     "text": [
      "{'x': 'red', 'y': 'Yellow', 'z': 'Green'}\n"
     ]
    }
   ],
   "source": [
    "class func(object):\n",
    "    def __init__(self):\n",
    "        self.x = 'red'\n",
    "        self.y = 'Yellow'\n",
    "        self.z = 'Green'\n",
    "test = func()\n",
    "print(test.__dict__)"
   ]
  },
  {
   "cell_type": "markdown",
   "id": "3b823d9c",
   "metadata": {},
   "source": [
    "# 12 Dict: Check Dict empty or not"
   ]
  },
  {
   "cell_type": "code",
   "execution_count": 34,
   "id": "210a99ad",
   "metadata": {},
   "outputs": [
    {
     "name": "stdout",
     "output_type": "stream",
     "text": [
      "Dict not empty: True\n",
      "Dict not empty: False\n"
     ]
    }
   ],
   "source": [
    "d ={'x': 'red', 'y': 'Yellow', 'z': 'Green'}\n",
    "print(\"Dict not empty:\", bool(d))\n",
    "d1 ={}\n",
    "print(\"Dict not empty:\", bool(d1))"
   ]
  },
  {
   "cell_type": "markdown",
   "id": "7afd415a",
   "metadata": {},
   "source": [
    "# 13 Dict: sum of two Dict's common values"
   ]
  },
  {
   "cell_type": "code",
   "execution_count": 35,
   "id": "5765bfa3",
   "metadata": {},
   "outputs": [
    {
     "name": "stdout",
     "output_type": "stream",
     "text": [
      "Counter({'a': 400, 'b': 400, 'd': 400, 'c': 300})\n"
     ]
    }
   ],
   "source": [
    "d1 = {'a': 100, 'b': 200, 'c':300}\n",
    "d2 = {'a': 300, 'b': 200, 'd':400}\n",
    "\n",
    "from collections import Counter\n",
    "\n",
    "d = Counter(d1) + Counter(d2)\n",
    "print(d)"
   ]
  },
  {
   "cell_type": "code",
   "execution_count": 46,
   "id": "bb62e58b",
   "metadata": {},
   "outputs": [
    {
     "name": "stdout",
     "output_type": "stream",
     "text": [
      "{'a': 100, 'b': 200, 'c': 300}\n",
      "{'a': 400, 'b': 400, 'c': 300, 'd': 400}\n"
     ]
    }
   ],
   "source": [
    "d1 = {'a': 100, 'b': 200, 'c':300}\n",
    "d2 = {'a': 300, 'b': 200, 'd':400}\n",
    "\n",
    "d = {}\n",
    "for k,v in d1.items():\n",
    "    d[k] = v\n",
    "print(d)\n",
    "\n",
    "for k,v in d2.items():\n",
    "    if k in d:\n",
    "        d[k] += v\n",
    "    else:\n",
    "        d[k] = v\n",
    "print(d)"
   ]
  },
  {
   "cell_type": "code",
   "execution_count": 47,
   "id": "75ec71a4",
   "metadata": {},
   "outputs": [
    {
     "name": "stdout",
     "output_type": "stream",
     "text": [
      "{'a': 100, 'b': 200, 'c': 300}\n",
      "{'a': 400, 'b': 400, 'c': 300, 'd': 400}\n"
     ]
    }
   ],
   "source": [
    "d1 = {'a': 100, 'b': 200, 'c':300}\n",
    "d2 = {'a': 300, 'b': 200, 'd':400}\n",
    "\n",
    "d = {}\n",
    "for k,v in d1.items():\n",
    "    d[k] = v\n",
    "print(d)\n",
    "\n",
    "for k,v in d2.items():\n",
    "    d[k] = d.get(k,0)+v\n",
    "print(d)"
   ]
  },
  {
   "cell_type": "code",
   "execution_count": 102,
   "id": "bbe08b68",
   "metadata": {},
   "outputs": [
    {
     "name": "stdout",
     "output_type": "stream",
     "text": [
      "{'item1': 1150, 'item2': 300}\n"
     ]
    }
   ],
   "source": [
    "dic = [{'item': 'item1', 'amount': 400}, {'item': 'item2', 'amount': 300}, {'item': 'item1', 'amount': 750}]\n",
    "\n",
    "d = {}\n",
    "for e in dic:\n",
    "    d[e['item']] = d.get(e['item'],0)+e['amount']\n",
    "print(d)"
   ]
  },
  {
   "cell_type": "markdown",
   "id": "8aa16429",
   "metadata": {},
   "source": [
    "# 14. Dict: Create Dict from single string, list (Char Count)"
   ]
  },
  {
   "cell_type": "code",
   "execution_count": 104,
   "id": "d993aeb4",
   "metadata": {},
   "outputs": [
    {
     "name": "stdout",
     "output_type": "stream",
     "text": [
      "{'h': 3, 'i': 1, ' ': 3, 'e': 2, 'l': 2, 'o': 2, 'w': 1, 'a': 1, 'r': 1}\n"
     ]
    }
   ],
   "source": [
    "# From string\n",
    "s = \"hi hello how are\"\n",
    "d={}\n",
    "for i in s:\n",
    "    d[i]=d.get(i,0)+1\n",
    "print(d)"
   ]
  },
  {
   "cell_type": "code",
   "execution_count": 106,
   "id": "2e0e9084",
   "metadata": {},
   "outputs": [
    {
     "name": "stdout",
     "output_type": "stream",
     "text": [
      "{'h': 2, 'i': 1, 'e': 1, 'l': 2, 'o': 1}\n"
     ]
    }
   ],
   "source": [
    "# from list\n",
    "l = ['h','i','h','e','l','l','o']\n",
    "d={}\n",
    "for i in l:\n",
    "    d[i]=d.get(i,0)+1\n",
    "print(d)"
   ]
  },
  {
   "cell_type": "markdown",
   "id": "cbee30fe",
   "metadata": {},
   "source": [
    "# 15. Dict: Create Dict from two lists"
   ]
  },
  {
   "cell_type": "code",
   "execution_count": 117,
   "id": "81ad525e",
   "metadata": {},
   "outputs": [
    {
     "name": "stdout",
     "output_type": "stream",
     "text": [
      "zip method: {'a': 1, 'b': 2, 'c': 3, 'd': 4, 'e': 5}\n",
      "{'a': 1, 'b': 2, 'c': 3, 'd': 4, 'e': 5}\n"
     ]
    }
   ],
   "source": [
    "l1 = ['a', 'b', 'c', 'd', 'e']\n",
    "l2 = [1, 2, 3, 4, 5] \n",
    "\n",
    "print(\"zip method:\",dict(zip(l1,l2)))\n",
    "\n",
    "if len(l1) != len(l2):\n",
    "    raise ValueError(\"Lists must have the same length\")\n",
    "d = {}\n",
    "for i in range(len(l1)):\n",
    "    d[l1[i]] = l2[i]\n",
    "print(d)"
   ]
  },
  {
   "cell_type": "markdown",
   "id": "733e353a",
   "metadata": {},
   "source": [
    "# 16. Dict: Create list from Dict keys & values"
   ]
  },
  {
   "cell_type": "code",
   "execution_count": 112,
   "id": "a28d5b37",
   "metadata": {},
   "outputs": [
    {
     "name": "stdout",
     "output_type": "stream",
     "text": [
      "Values List: [2, 1, 1, 2, 1]\n",
      "Keys List: ['h', 'i', 'e', 'l', 'o']\n"
     ]
    }
   ],
   "source": [
    "d = {'h': 2, 'i': 1, 'e': 1, 'l': 2, 'o': 1}\n",
    "\n",
    "l = []\n",
    "for v in d.values():\n",
    "    l.append(v)\n",
    "print(\"Values List:\",l)\n",
    "\n",
    "l1 = []\n",
    "for k in d.keys():\n",
    "    l1.append(k)\n",
    "print(\"Keys List:\",l1)"
   ]
  },
  {
   "cell_type": "code",
   "execution_count": 113,
   "id": "28a9d200",
   "metadata": {},
   "outputs": [
    {
     "name": "stdout",
     "output_type": "stream",
     "text": [
      "['h', 'i', 'e', 'l', 'o']\n",
      "[2, 1, 1, 2, 1]\n"
     ]
    }
   ],
   "source": [
    "d = {'h': 2, 'i': 1, 'e': 1, 'l': 2, 'o': 1}\n",
    "\n",
    "print(list(d.keys()))\n",
    "print(list(d.values()))"
   ]
  },
  {
   "cell_type": "markdown",
   "id": "44f2d5e4",
   "metadata": {},
   "source": [
    "# 17. Dict: Create List of Tuples & List of Lists"
   ]
  },
  {
   "cell_type": "code",
   "execution_count": 129,
   "id": "c6675594",
   "metadata": {},
   "outputs": [
    {
     "name": "stdout",
     "output_type": "stream",
     "text": [
      "[('Red', 1), ('Green', 3), ('White', 5), ('Black', 2), ('Pink', 4)]\n",
      "list of tuples: [('Red', 1), ('Green', 3), ('White', 5), ('Black', 2), ('Pink', 4)]\n",
      "list of lists: [['Red', 1], ['Green', 3], ['White', 5], ['Black', 2], ['Pink', 4]]\n"
     ]
    }
   ],
   "source": [
    "d = {'Red': 1, 'Green': 3, 'White': 5, 'Black': 2, 'Pink': 4}\n",
    "\n",
    "print(list(d.items()))\n",
    "\n",
    "l=[]\n",
    "for k,v in d.items():\n",
    "    l.append((k,v))\n",
    "print(\"list of tuples:\",l)\n",
    "\n",
    "l1=[]\n",
    "for k,v in d.items():\n",
    "    l1.append([k,v])\n",
    "print(\"list of lists:\",l1)"
   ]
  },
  {
   "cell_type": "markdown",
   "id": "f033bd91",
   "metadata": {},
   "source": [
    "# 18: Dict: Merge two lists common values"
   ]
  },
  {
   "cell_type": "code",
   "execution_count": 173,
   "id": "dd5ed6df",
   "metadata": {},
   "outputs": [
    {
     "name": "stdout",
     "output_type": "stream",
     "text": [
      "{'w': [50], 'x': [100, 300], 'y': ['Green', 'Red'], 'z': [400, 600]}\n"
     ]
    }
   ],
   "source": [
    "d1 = {'w': 50, 'x': 100, 'y': 'Green', 'z': 400}\n",
    "d2 = {'x': 300, 'y': 'Red', 'z': 600}\n",
    "\n",
    "d = {}\n",
    "for k,v in d1.items():\n",
    "    if k in d:\n",
    "        d[k].append(v)\n",
    "    else:\n",
    "        d[k] = [v]\n",
    "\n",
    "for k,v in d2.items():\n",
    "    if k in d:\n",
    "        d[k].append(v)\n",
    "    else:\n",
    "        d[k] = [v]\n",
    "\n",
    "print(d)"
   ]
  },
  {
   "cell_type": "markdown",
   "id": "bb6c0ea0",
   "metadata": {},
   "source": [
    "# 19. check specific key or element exist in dict"
   ]
  },
  {
   "cell_type": "code",
   "execution_count": 178,
   "id": "c7816a4d",
   "metadata": {},
   "outputs": [
    {
     "name": "stdout",
     "output_type": "stream",
     "text": [
      "True\n",
      "True\n",
      "True\n",
      "False\n",
      "False\n",
      "False\n"
     ]
    }
   ],
   "source": [
    "d = [{'student_id': 1, 'name': 'Jean Castro', 'class': 'V'}, \n",
    "     {'student_id': 2, 'name': 'Lula Powell', 'class': 'V'}, \n",
    "     {'student_id': 3, 'name': 'Brian Howell', 'class': 'VI'}, \n",
    "     {'student_id': 4, 'name': 'Lynne Foster', 'class': 'VI'}, \n",
    "     {'student_id': 5, 'name': 'Zachary Simon', 'class': 'VII'}]\n",
    "\n",
    "def test(dic, k, v):\n",
    "    if any(s[k] == v for s in dic):\n",
    "        return True\n",
    "    return False\n",
    "\n",
    "print(test(d,'student_id',1))\n",
    "print(test(d,'name', 'Brian Howell'))\n",
    "print(test(d,'class', 'VII'))\n",
    "print(test(d,'class', 'I'))\n",
    "print(test(d,'name', 'Brian Howelll'))\n",
    "print(test(d,'student_id', 11))"
   ]
  },
  {
   "cell_type": "code",
   "execution_count": 191,
   "id": "1d645321",
   "metadata": {},
   "outputs": [
    {
     "name": "stdout",
     "output_type": "stream",
     "text": [
      "enter key:classes\n",
      "enter value7\n",
      "False\n"
     ]
    }
   ],
   "source": [
    "d = [{'student_id': 1, 'name': 'Jean Castro', 'class': 'V'}, \n",
    "     {'student_id': 2, 'name': 'Lula Powell', 'class': 'V'}, \n",
    "     {'student_id': 3, 'name': 'Brian Howell', 'class': 'VI'}, \n",
    "     {'student_id': 4, 'name': 'Lynne Foster', 'class': 'VI'}, \n",
    "     {'student_id': 5, 'name': 'Zachary Simon', 'class': 'VII'}]\n",
    "\n",
    "key = input(\"enter key:\")\n",
    "value = input(\"enter value\")\n",
    "f = 0\n",
    "for ele in d:\n",
    "    for k,v in ele.items():\n",
    "        if k ==key and value:\n",
    "            f = True\n",
    "            break\n",
    "\n",
    "if f:\n",
    "    print(True)\n",
    "else:\n",
    "    print(False)"
   ]
  },
  {
   "cell_type": "code",
   "execution_count": 139,
   "id": "9f882859",
   "metadata": {},
   "outputs": [
    {
     "name": "stdout",
     "output_type": "stream",
     "text": [
      "True\n",
      "{True}\n",
      "True\n"
     ]
    }
   ],
   "source": [
    "# check values are same are not\n",
    "d = {'Cierra Vega': 12, 'Alden Cantrell': 12, 'Kierra Gentry': 12, 'Pierre Cox': 12}\n",
    "f=0\n",
    "for v in d.values():\n",
    "    if v==12:\n",
    "        f=1\n",
    "        break\n",
    "if f:\n",
    "    print(True)\n",
    "else:\n",
    "    print(False)\n",
    "\n",
    "print({v == 12 for v in d.values()})\n",
    "print(all(v == 12 for v in d.values()))"
   ]
  },
  {
   "cell_type": "markdown",
   "id": "a8d9883a",
   "metadata": {},
   "source": [
    "# 20. Dict: length of values / total length of all values "
   ]
  },
  {
   "cell_type": "code",
   "execution_count": 218,
   "id": "9911c6dc",
   "metadata": {},
   "outputs": [
    {
     "name": "stdout",
     "output_type": "stream",
     "text": [
      "3\n",
      "5\n",
      "5\n",
      "5\n",
      "5\n"
     ]
    }
   ],
   "source": [
    "d = {1: 'red', 2: 'green', 3: 'black', 4: 'white', 5: 'black'}\n",
    "\n",
    "for v in d.values():\n",
    "    print(len(v))"
   ]
  },
  {
   "cell_type": "code",
   "execution_count": 203,
   "id": "f60469e3",
   "metadata": {},
   "outputs": [
    {
     "name": "stdout",
     "output_type": "stream",
     "text": [
      "Total length of values: 20\n",
      "20\n"
     ]
    }
   ],
   "source": [
    "d= {'#FF0000': 'Red', '#800000': 'Maroon', '#FFFF00': 'Yellow', '#808000': 'Olive'}\n",
    "c = 0\n",
    "for v in d.values():\n",
    "    c= c+len(v)\n",
    "print(\"Total length of values:\",c)\n",
    "\n",
    "n = sum(len(v) for v in d.values())\n",
    "print(n)"
   ]
  },
  {
   "cell_type": "markdown",
   "id": "ece08508",
   "metadata": {},
   "source": [
    "# 21. Dict: Convert list into nested dictionary of keys "
   ]
  },
  {
   "cell_type": "code",
   "execution_count": 8,
   "id": "560dfe5f",
   "metadata": {},
   "outputs": [
    {
     "name": "stdout",
     "output_type": "stream",
     "text": [
      "{1: {}, 2: {}, 3: {}, 4: {}}\n",
      "{1: {2: {3: {4: {}}}}}\n"
     ]
    }
   ],
   "source": [
    "ls = [1, 2, 3, 4]\n",
    "\n",
    "\n",
    "d = {}\n",
    "dic = d\n",
    "\n",
    "for k in ls:\n",
    "    d[k] = {}\n",
    "    dic = d[k]\n",
    "print(d)    \n",
    "\n",
    "d = dic = {}\n",
    "for n in ls:\n",
    "    dic[n] = {}\n",
    "    dic = dic[n]\n",
    "print(d)"
   ]
  },
  {
   "cell_type": "markdown",
   "id": "5e4dad1a",
   "metadata": {},
   "source": [
    "# 22. Dict: Sort of dic values"
   ]
  },
  {
   "cell_type": "code",
   "execution_count": 12,
   "id": "25e7800f",
   "metadata": {},
   "outputs": [
    {
     "name": "stdout",
     "output_type": "stream",
     "text": [
      "{'n1': [1, 2, 3], 'n2': [1, 2, 5], 'n3': [2, 3, 4]}\n",
      "{'n1': [1, 2, 3], 'n2': [1, 2, 5], 'n3': [2, 3, 4]}\n"
     ]
    }
   ],
   "source": [
    "d = {'n1': [2, 3, 1], 'n2': [5, 1, 2], 'n3': [3, 2, 4]}\n",
    "\n",
    "dic = {}\n",
    "for k,v in d.items():\n",
    "    dic[k] = sorted(v)\n",
    "print(dic)\n",
    "\n",
    "n= {k:sorted(v) for k,v in d.items()}\n",
    "print(n)"
   ]
  },
  {
   "cell_type": "markdown",
   "id": "31d29104",
   "metadata": {},
   "source": [
    "# 23. Dict: remove spaces in dic keys"
   ]
  },
  {
   "cell_type": "code",
   "execution_count": 15,
   "id": "b2e386f4",
   "metadata": {},
   "outputs": [
    {
     "name": "stdout",
     "output_type": "stream",
     "text": [
      "{'S001': ['Math', 'Science'], 'S002': ['Math', 'English']}\n",
      "{'S001': ['Math', 'Science'], 'S002': ['Math', 'English']}\n"
     ]
    }
   ],
   "source": [
    "d = {'S  001': ['Math', 'Science'], 'S    002': ['Math', 'English']}\n",
    "print({k.replace(' ', ''): v for k, v in d.items()})\n",
    "\n",
    "dic = {}\n",
    "for k,v in d.items():\n",
    "    dic[k.replace(' ','')] = v\n",
    "print(dic)"
   ]
  },
  {
   "cell_type": "markdown",
   "id": "66816df5",
   "metadata": {},
   "source": [
    "# 24. Dict: top 3 item in dict"
   ]
  },
  {
   "cell_type": "code",
   "execution_count": 21,
   "id": "7bd751a5",
   "metadata": {},
   "outputs": [
    {
     "name": "stdout",
     "output_type": "stream",
     "text": [
      "[('item4', 55), ('item1', 45.5), ('item3', 41.3)]\n"
     ]
    }
   ],
   "source": [
    "d = {'item1': 45.50, 'item2':35, 'item3': 41.30, 'item4':55, 'item5': 24}\n",
    "\n",
    "dic = sorted(d.items(), key=lambda x: x[1], reverse=True) \n",
    "print(dic[:3])\n",
    "#note: sorted directly by float values not support"
   ]
  },
  {
   "cell_type": "markdown",
   "id": "91d8a174",
   "metadata": {},
   "source": [
    "# 25. Dict: Index & length of dict"
   ]
  },
  {
   "cell_type": "code",
   "execution_count": 26,
   "id": "f8469148",
   "metadata": {},
   "outputs": [
    {
     "name": "stdout",
     "output_type": "stream",
     "text": [
      "Key Value Index\n",
      "1     10    0\n",
      "2     20    1\n",
      "3     30    2\n",
      "4     40    3\n",
      "5     50    4\n",
      "6     60    5\n"
     ]
    }
   ],
   "source": [
    "d = {1: 10, 2: 20, 3: 30, 4: 40, 5: 50, 6: 60}\n",
    "print(\"Key\",\"Value\",\"Index\")\n",
    "for count, (key, value) in enumerate(d.items()):\n",
    "    print(key,'   ',value,'  ', count)"
   ]
  },
  {
   "cell_type": "code",
   "execution_count": 27,
   "id": "f0b144b9",
   "metadata": {},
   "outputs": [
    {
     "name": "stdout",
     "output_type": "stream",
     "text": [
      "Key Value Length\n",
      "1     10    1\n",
      "2     20    2\n",
      "3     30    3\n",
      "4     40    4\n",
      "5     50    5\n",
      "6     60    6\n"
     ]
    }
   ],
   "source": [
    "d = {1: 10, 2: 20, 3: 30, 4: 40, 5: 50, 6: 60}\n",
    "print(\"Key\",\"Value\",\"Length\")\n",
    "for count, (key, value) in enumerate(d.items(),1):\n",
    "    print(key,'   ',value,'  ', count)"
   ]
  },
  {
   "cell_type": "markdown",
   "id": "f8a1e0e1",
   "metadata": {},
   "source": [
    "# 26. Dict: Multiple Dict Values Count "
   ]
  },
  {
   "cell_type": "code",
   "execution_count": 33,
   "id": "af35ae1e",
   "metadata": {},
   "outputs": [
    {
     "name": "stdout",
     "output_type": "stream",
     "text": [
      "{'Alex': 3, 'David': 2}\n",
      "{'Alex': 3, 'David': 2}\n"
     ]
    }
   ],
   "source": [
    "d =  {'Alex': ['subj1', 'subj2', 'subj3'], 'David': ['subj1', 'subj2']}\n",
    "\n",
    "dic = {}\n",
    "for k,v in d.items():\n",
    "    dic[k] = len(v)\n",
    "print(dic)\n",
    "\n",
    "print({k:len(v) for k,v in d.items()})"
   ]
  },
  {
   "cell_type": "code",
   "execution_count": 31,
   "id": "d012b0f4",
   "metadata": {},
   "outputs": [
    {
     "name": "stdout",
     "output_type": "stream",
     "text": [
      "{'Alex': 3, 'David': 2}\n"
     ]
    }
   ],
   "source": [
    "d =  {'Alex': ['subj1', 'subj2', 'subj3'], 'David': ['subj1', 'subj2']}\n",
    "\n",
    "dict = {}\n",
    "for k, v in dict.items():\n",
    "    c = 0  \n",
    "    for _ in v:\n",
    "        c += 1 \n",
    "    dict[k] = c\n",
    "print(dic)"
   ]
  },
  {
   "cell_type": "markdown",
   "id": "f77a9a6d",
   "metadata": {},
   "source": [
    "# 27. Dict: Sum of dict values"
   ]
  },
  {
   "cell_type": "code",
   "execution_count": 67,
   "id": "0766a424",
   "metadata": {},
   "outputs": [
    {
     "name": "stdout",
     "output_type": "stream",
     "text": [
      "[{'id': 1, 'subject': 'math', 'total': 152}, {'id': 2, 'subject': 'math', 'total': 147}, {'id': 3, 'subject': 'math', 'total': 161}]\n"
     ]
    }
   ],
   "source": [
    "student_details = [\n",
    "  {'id': 1, 'subject': 'math', 'V': 70, 'VI': 82},\n",
    "  {'id': 2, 'subject': 'math', 'V': 73, 'VI': 74},\n",
    "  {'id': 3, 'subject': 'math', 'V': 75, 'VI': 86}\n",
    "]\n",
    "\n",
    "for s in student_details:\n",
    "    total = sum(value for key, value in s.items() if key in ['V', 'VI'])\n",
    "    s.update({'total': total})\n",
    "    del s['V']\n",
    "    del s['VI']\n",
    "print(student_details)"
   ]
  },
  {
   "cell_type": "code",
   "execution_count": 78,
   "id": "a3fdbf52",
   "metadata": {},
   "outputs": [
    {
     "name": "stdout",
     "output_type": "stream",
     "text": [
      "[152, 147, 161]\n"
     ]
    }
   ],
   "source": [
    "l = []\n",
    "for s in student_details:\n",
    "    total = s['V'] + s['VI']\n",
    "    l.append(total)\n",
    "print(l)"
   ]
  },
  {
   "cell_type": "code",
   "execution_count": 80,
   "id": "3530f8be",
   "metadata": {},
   "outputs": [
    {
     "data": {
      "text/plain": [
       "{218, 242}"
      ]
     },
     "execution_count": 80,
     "metadata": {},
     "output_type": "execute_result"
    }
   ],
   "source": [
    "{sum(student['V'] for student in student_details),sum(student['VI'] for student in student_details)}"
   ]
  },
  {
   "cell_type": "markdown",
   "id": "e3410f1a",
   "metadata": {},
   "source": [
    "# 28. Dict: JSON Data Store into Dict"
   ]
  },
  {
   "cell_type": "code",
   "execution_count": 85,
   "id": "af4c9b0b",
   "metadata": {},
   "outputs": [
    {
     "name": "stdout",
     "output_type": "stream",
     "text": [
      "<class 'dict'>\n",
      "{'students': [{'firstName': 'Nikki', 'lastName': 'Roysden'}, {'firstName': 'Mervin', 'lastName': 'Friedland'}, {'firstName': 'Aron ', 'lastName': 'Wilkins'}], 'teachers': [{'firstName': 'Amberly', 'lastName': 'Calico'}, {'firstName': 'Regine', 'lastName': 'Agtarap'}]}\n"
     ]
    }
   ],
   "source": [
    "json_data = {\"students\":[{\"firstName\": \"Nikki\", \"lastName\": \"Roysden\"},\n",
    "                         {\"firstName\": \"Mervin\", \"lastName\": \"Friedland\"},\n",
    "                         {\"firstName\": \"Aron \", \"lastName\": \"Wilkins\"}],\n",
    "            \"teachers\":[{\"firstName\": \"Amberly\", \"lastName\": \"Calico\"},\n",
    "                        {\"firstName\": \"Regine\", \"lastName\": \"Agtarap\"}]}\n",
    "\n",
    "\n",
    "print(type(json_data))\n",
    "import json\n",
    "\n",
    "with open(\"file\", \"w\") as f:\n",
    "    json.dump(json_data,f)\n",
    "\n",
    "with open('file') as f:\n",
    "    data = json.load(f)\n",
    "print(data)"
   ]
  },
  {
   "cell_type": "markdown",
   "id": "3a180267",
   "metadata": {},
   "source": [
    "# 29. Dict: Drop empty dict"
   ]
  },
  {
   "cell_type": "code",
   "execution_count": 105,
   "id": "0966da33",
   "metadata": {},
   "outputs": [
    {
     "name": "stdout",
     "output_type": "stream",
     "text": [
      "{'c1': 'Red', 'c2': 'Green'}\n"
     ]
    },
    {
     "data": {
      "text/plain": [
       "{'c1': 'Red', 'c2': 'Green'}"
      ]
     },
     "execution_count": 105,
     "metadata": {},
     "output_type": "execute_result"
    }
   ],
   "source": [
    "dic = {'c1': 'Red', 'c2': 'Green', 'c3':None}\n",
    "\n",
    "d = {}\n",
    "for k,v in dic.items():\n",
    "    if v is not None:\n",
    "        d[k]=v\n",
    "print(d)\n",
    "\n",
    "{k:v for k,v in dic.items() if v is not None}"
   ]
  },
  {
   "cell_type": "markdown",
   "id": "413a9a12",
   "metadata": {},
   "source": [
    "# 30. Dict: Filter the dict based values"
   ]
  },
  {
   "cell_type": "code",
   "execution_count": 120,
   "id": "841d2f72",
   "metadata": {},
   "outputs": [
    {
     "name": "stdout",
     "output_type": "stream",
     "text": [
      "{'Cierra Vega': 175, 'Alden Cantrell': 180, 'Pierre Cox': 190}\n",
      "{'Cierra Vega': 175, 'Alden Cantrell': 180, 'Pierre Cox': 190}\n"
     ]
    }
   ],
   "source": [
    "d = {'Cierra Vega': 175, 'Alden Cantrell': 180, 'Kierra Gentry': 165, 'Pierre Cox': 190}\n",
    "\n",
    "d1 = {}\n",
    "for k,v in d.items():\n",
    "    if v >= 170:\n",
    "        d1[k]=v\n",
    "print(d1)\n",
    "\n",
    "print({k:v for k,v in d.items() if v >= 170})"
   ]
  },
  {
   "cell_type": "code",
   "execution_count": 123,
   "id": "96589c35",
   "metadata": {},
   "outputs": [
    {
     "name": "stdout",
     "output_type": "stream",
     "text": [
      "{'Cierra Vega': (6.2, 70), 'Kierra Gentry': (6.0, 68)}\n",
      "{'Cierra Vega': (6.2, 70), 'Kierra Gentry': (6.0, 68)}\n"
     ]
    }
   ],
   "source": [
    "d1= {'Cierra Vega': (6.2, 70), 'Alden Cantrell': (5.9, 65), 'Kierra Gentry': (6.0, 68), 'Pierre Cox': (5.8, 66)}\n",
    "\n",
    "print({k:v for k,v in d1.items() if v[0]>=6.0 and v[1]>=65})  \n",
    "\n",
    "dic = {}\n",
    "for k,v in d1.items():\n",
    "    if v[0]>=6.0 and v[1]>=65:\n",
    "        dic[k]=v\n",
    "print(dic)"
   ]
  },
  {
   "cell_type": "markdown",
   "id": "8b112e04",
   "metadata": {},
   "source": [
    "# 31. Dict: matching Keys & Values in list"
   ]
  },
  {
   "cell_type": "code",
   "execution_count": 145,
   "id": "2b63288a",
   "metadata": {},
   "outputs": [
    {
     "name": "stdout",
     "output_type": "stream",
     "text": [
      "{'yellow': [1, 3], 'blue': [2, 4], 'red': [1]}\n"
     ]
    }
   ],
   "source": [
    "ls = [('yellow', 1), ('blue', 2), ('yellow', 3), ('blue', 4), ('red', 1)]\n",
    "\n",
    "d = {}\n",
    "for k,v in ls:\n",
    "    if k not in d:\n",
    "        d[k] = []\n",
    "    d[k].append(v)\n",
    "print(d)"
   ]
  },
  {
   "cell_type": "markdown",
   "id": "25a35f48",
   "metadata": {},
   "source": [
    "# 32. Dict: split given dict into lists of lists"
   ]
  },
  {
   "cell_type": "code",
   "execution_count": 179,
   "id": "209089a4",
   "metadata": {},
   "outputs": [
    {
     "name": "stdout",
     "output_type": "stream",
     "text": [
      "[{'Science': 88}, {'Science': 89}, {'Science': 62}, {'Science': 95}, {'Language': 77}, {'Language': 78}, {'Language': 84}, {'Language': 80}]\n"
     ]
    }
   ],
   "source": [
    "d = {'Science': [88, 89, 62, 95], 'Language': [77, 78, 84, 80]}\n",
    "\n",
    "ls=[]\n",
    "for k,v in d.items():\n",
    "    for i in range(len(v)):\n",
    "        d1= {k:v[i]}\n",
    "        ls.append(d1)\n",
    "print(ls)"
   ]
  },
  {
   "cell_type": "code",
   "execution_count": 192,
   "id": "43f03a06",
   "metadata": {},
   "outputs": [
    {
     "name": "stdout",
     "output_type": "stream",
     "text": [
      "[{'Science': 88, 'Language': 77}, {'Science': 89, 'Language': 78}, {'Science': 62, 'Language': 84}, {'Science': 95, 'Language': 80}]\n",
      "[{'Science': 88, 'Language': 77}, {'Science': 89, 'Language': 78}, {'Science': 62, 'Language': 84}, {'Science': 95, 'Language': 80}]\n"
     ]
    }
   ],
   "source": [
    "d = {'Science': [88, 89, 62, 95], 'Language': [77, 78, 84, 80]}\n",
    "\n",
    "l = [{k: v[i] for k, v in d.items()} for i in range(len(d['Science']))]\n",
    "print(l)\n",
    "\n",
    "l1 = []\n",
    "for i in range(len(d['Science'])):\n",
    "    d1 = {}\n",
    "    for k,v in d.items():\n",
    "        d1[k] = v[i]            #d1 = {k,v[i]} #sets  \n",
    "    l1.append(d1)\n",
    "print(l1)"
   ]
  },
  {
   "cell_type": "markdown",
   "id": "d263140c",
   "metadata": {},
   "source": [
    "# 33. Dict: Remove Specified list in dict "
   ]
  },
  {
   "cell_type": "code",
   "execution_count": 196,
   "id": "2bd7ba2d",
   "metadata": {},
   "outputs": [
    {
     "name": "stdout",
     "output_type": "stream",
     "text": [
      "[{'id': '#FF0000', 'color': 'Red'}, {'id': '#FFFF00', 'color': 'Yellow'}, {'id': '#808000', 'color': 'Olive'}]\n"
     ]
    },
    {
     "data": {
      "text/plain": [
       "[{'id': '#FF0000', 'color': 'Red'},\n",
       " {'id': '#800000', 'color': 'Maroon'},\n",
       " {'id': '#808000', 'color': 'Olive'}]"
      ]
     },
     "execution_count": 196,
     "metadata": {},
     "output_type": "execute_result"
    }
   ],
   "source": [
    "colors = [{\"id\" : \"#FF0000\", \"color\" : \"Red\"}, \n",
    "          {\"id\" : \"#800000\", \"color\" : \"Maroon\"}, \n",
    "          {\"id\" : \"#FFFF00\", \"color\" : \"Yellow\"}, \n",
    "          {\"id\" : \"#808000\", \"color\" : \"Olive\"}] \n",
    "\n",
    "l = []\n",
    "for d in colors:\n",
    "    if d.get('id') != \"#800000\":\n",
    "        l.append(d)\n",
    "print(l)\n",
    "\n",
    "[d for d in colors if d.get('id')!=\"#FFFF00\"]"
   ]
  },
  {
   "cell_type": "markdown",
   "id": "5c6c43ff",
   "metadata": {},
   "source": [
    "# 34. Dict: update the dict values\n",
    "\n",
    "Dict:\n",
    "{'Math': [88, 89, 90], 'Physics': [92, 94, 89], 'Chemistry': [90, 87, 93]}\n",
    "\n",
    "Update the list values in dict:\n",
    "{'Math': [89, 90, 91], 'Physics': [90, 92, 87], 'Chemistry': [90, 87, 93]}"
   ]
  },
  {
   "cell_type": "code",
   "execution_count": 204,
   "id": "129909b8",
   "metadata": {},
   "outputs": [
    {
     "name": "stdout",
     "output_type": "stream",
     "text": [
      "{'Math': [89, 90, 91], 'Physics': [90, 92, 87], 'Chemistry': [90, 87, 93]}\n"
     ]
    }
   ],
   "source": [
    "d = {'Math': [88, 89, 90], 'Physics': [92, 94, 89], 'Chemistry': [90, 87, 93]}\n",
    "\n",
    "d['Math'] = [i+1 for i in d['Math']]  \n",
    "d['Physics'] = [i-2 for i in d['Physics']]\n",
    "print(d)"
   ]
  },
  {
   "cell_type": "markdown",
   "id": "b970597a",
   "metadata": {},
   "source": [
    "# 35. Dict: Extract dict Values \n",
    "\n",
    "[{'Math': 90, 'Science': 92}, {'Math': 89, 'Science': 94}, {'Math': 92, 'Science': 88}]\n",
    "output: [92, 94, 88], [90, 89, 92]"
   ]
  },
  {
   "cell_type": "code",
   "execution_count": 217,
   "id": "ae7a6f37",
   "metadata": {},
   "outputs": [
    {
     "name": "stdout",
     "output_type": "stream",
     "text": [
      "[90, 89, 92]\n",
      "[92, 94, 88]\n"
     ]
    }
   ],
   "source": [
    "dic= [{'Math': 90, 'Science': 92}, {'Math': 89, 'Science': 94}, {'Math': 92, 'Science': 88}]\n",
    "\n",
    "math_val = []\n",
    "sci_val = []\n",
    "for d in dic:\n",
    "    math_val.append(d['Math'])\n",
    "    sci_val.append(d['Science'])\n",
    "print(math_val)\n",
    "print(sci_val)"
   ]
  },
  {
   "cell_type": "markdown",
   "id": "0dd5fa1c",
   "metadata": {},
   "source": [
    "# 36. Dict: Filter Even values in dict"
   ]
  },
  {
   "cell_type": "code",
   "execution_count": 248,
   "id": "96550313",
   "metadata": {},
   "outputs": [
    {
     "name": "stdout",
     "output_type": "stream",
     "text": [
      "{'V': [4, 6, 10], 'VI': [4, 12], 'VII': [8]}\n"
     ]
    },
    {
     "data": {
      "text/plain": [
       "{'V': [4, 6, 10], 'VI': [4, 12], 'VII': [8]}"
      ]
     },
     "execution_count": 248,
     "metadata": {},
     "output_type": "execute_result"
    }
   ],
   "source": [
    "d = {'V': [1, 4, 6, 10], 'VI': [1, 4, 12], 'VII': [1, 3, 8]}\n",
    "\n",
    "dic = {}\n",
    "for k,val in d.items():\n",
    "    ls = []\n",
    "    for v in val:\n",
    "        if v % 2 == 0:\n",
    "            ls.append(v)\n",
    "    dic[k] = ls\n",
    "print(dic)\n",
    "\n",
    "{k:[v for v in val if v%2==0]for k,val in d.items()}"
   ]
  },
  {
   "cell_type": "markdown",
   "id": "2d8010cb",
   "metadata": {},
   "source": [
    "# 37. Dict: Find shortest list in Dict values"
   ]
  },
  {
   "cell_type": "code",
   "execution_count": 260,
   "id": "bed9bbd5",
   "metadata": {},
   "outputs": [
    {
     "name": "stdout",
     "output_type": "stream",
     "text": [
      "VI\n",
      "VIII\n",
      "X\n"
     ]
    },
    {
     "data": {
      "text/plain": [
       "['VI', 'VIII', 'X']"
      ]
     },
     "execution_count": 260,
     "metadata": {},
     "output_type": "execute_result"
    }
   ],
   "source": [
    "dic = {'V': [10, 12],'VI': [10],'VII': [10, 20, 30, 40],'VIII': [20],'IX': [10,30,50,70],'X': [80]}\n",
    "\n",
    "for k,v in dic.items():\n",
    "    if len(v) == 1:\n",
    "        print(k)\n",
    "        \n",
    "[k for k, v in dic.items() if len(v)==1]"
   ]
  },
  {
   "cell_type": "markdown",
   "id": "6fe66755",
   "metadata": {},
   "source": [
    "# 38. Dict: Count the frequency of dic Values"
   ]
  },
  {
   "cell_type": "code",
   "execution_count": 261,
   "id": "7365df93",
   "metadata": {},
   "outputs": [
    {
     "name": "stdout",
     "output_type": "stream",
     "text": [
      "{10: 2, 40: 2, 20: 2, 70: 1, 80: 1}\n"
     ]
    }
   ],
   "source": [
    "dic = {'V': 10,'VI': 10,'VII': 40,'VIII': 20,'IX': 70,'X': 80,'XI': 40,'XII': 20 }\n",
    "\n",
    "d = {}\n",
    "for v in dic.values():\n",
    "    d[v] = d.get(v,0)+1\n",
    "print(d)"
   ]
  },
  {
   "cell_type": "markdown",
   "id": "690c517f",
   "metadata": {},
   "source": [
    "# 39. Dict: Lists of list convert to dict"
   ]
  },
  {
   "cell_type": "code",
   "execution_count": 285,
   "id": "f5c04385",
   "metadata": {},
   "outputs": [
    {
     "name": "stdout",
     "output_type": "stream",
     "text": [
      "{1: ['Jean Castro', 'V'], 2: ['Lula Powell', 'V'], 3: ['Brian Howell', 'VI'], 4: ['Lynne Foster', 'VI'], 5: ['Zachary Simon', 'VII']}\n"
     ]
    },
    {
     "data": {
      "text/plain": [
       "{1: ['Jean Castro', 'V'],\n",
       " 2: ['Lula Powell', 'V'],\n",
       " 3: ['Brian Howell', 'VI'],\n",
       " 4: ['Lynne Foster', 'VI'],\n",
       " 5: ['Zachary Simon', 'VII']}"
      ]
     },
     "execution_count": 285,
     "metadata": {},
     "output_type": "execute_result"
    }
   ],
   "source": [
    "ls = [[1, 'Jean Castro', 'V'], [2, 'Lula Powell', 'V'], [3, 'Brian Howell', 'VI'], [4, 'Lynne Foster', 'VI'], [5, 'Zachary Simon', 'VII']]\n",
    "\n",
    "d = {}\n",
    "for i in ls:\n",
    "    d[i[0]] = [i[1],i[2]]\n",
    "print(d)\n",
    "\n",
    "{i[0]:i[1:] for i in ls}"
   ]
  },
  {
   "cell_type": "markdown",
   "id": "757375c2",
   "metadata": {},
   "source": [
    "# 40. Dict: Create List of Lists from Dict"
   ]
  },
  {
   "cell_type": "code",
   "execution_count": 311,
   "id": "9a19b5f3",
   "metadata": {},
   "outputs": [
    {
     "name": "stdout",
     "output_type": "stream",
     "text": [
      "[[1, 'Jean Castro'], [2, 'Lula Powell'], [3, 'Brian Howell'], [4, 'Lynne Foster'], [5, 'Zachary Simon']]\n",
      "[[1, 'Jean Castro', 'V'], [2, 'Lula Powell', 'V'], [3, 'Brian Howell', 'VI'], [4, 'Lynne Foster', 'VI'], [5, 'Zachary Simon', 'VII']]\n"
     ]
    }
   ],
   "source": [
    "ls = [{'student_id': 1, 'name': 'Jean Castro', 'class': 'V'}, \n",
    "      {'student_id': 2, 'name': 'Lula Powell', 'class': 'V'}, \n",
    "      {'student_id': 3, 'name': 'Brian Howell', 'class': 'VI'}, \n",
    "      {'student_id': 4, 'name': 'Lynne Foster', 'class': 'VI'}, \n",
    "      {'student_id': 5, 'name': 'Zachary Simon', 'class': 'VII'}]\n",
    "\n",
    "l = []\n",
    "for v in ls:\n",
    "    l.append([v['student_id'],v['name']])\n",
    "print(l)\n",
    "\n",
    "print([[l['student_id'],l['name'],l['class']] for l in ls])"
   ]
  },
  {
   "cell_type": "markdown",
   "id": "e936b8db",
   "metadata": {},
   "source": [
    "# 41. Dict: Max and Min values "
   ]
  },
  {
   "cell_type": "code",
   "execution_count": 312,
   "id": "9410c786",
   "metadata": {},
   "outputs": [
    {
     "name": "stdout",
     "output_type": "stream",
     "text": [
      "Maximum value: 100 (Key: f)\n",
      "Minimum value: 5 (Key: a)\n"
     ]
    }
   ],
   "source": [
    "d = {'a': 5, 'b': 14, 'c': 32, 'd': 35, 'e': 24, 'f': 100, 'g': 57, 'h': 8, 'i': 100}\n",
    "\n",
    "max_value = max(data, key=lambda k: d[k])\n",
    "min_value = min(data, key=lambda k: d[k])\n",
    "print(f\"Maximum value: {data[max_value]} (Key: {max_value})\")\n",
    "print(f\"Minimum value: {data[min_value]} (Key: {min_value})\")"
   ]
  },
  {
   "cell_type": "code",
   "execution_count": 316,
   "id": "621cfcd7",
   "metadata": {},
   "outputs": [
    {
     "name": "stdout",
     "output_type": "stream",
     "text": [
      "Maximum value: 100\n",
      "Minimum value: 5\n"
     ]
    }
   ],
   "source": [
    "d = {'a': 5, 'b': 14, 'c': 32, 'd': 35, 'e': 24, 'f': 100, 'g': 57, 'h': 8, 'i': 100}\n",
    "max_val = None\n",
    "min_val = None \n",
    "for k,v in d.items():\n",
    "    if max_val is None or v > max_val:\n",
    "        max_val = v\n",
    "    if min_val is None or v < min_val:\n",
    "        min_val = v\n",
    "print(\"Maximum value:\", max_val)\n",
    "print(\"Minimum value:\", min_val)"
   ]
  },
  {
   "cell_type": "markdown",
   "id": "21e47f74",
   "metadata": {},
   "source": [
    "#  Dict: other programs "
   ]
  },
  {
   "cell_type": "code",
   "execution_count": 133,
   "id": "15fe31f8",
   "metadata": {},
   "outputs": [
    {
     "name": "stdout",
     "output_type": "stream",
     "text": [
      "['Roxanne', 'Betty']\n"
     ]
    }
   ],
   "source": [
    "# 1. dict common values into list if number given \n",
    "\n",
    "d = {'Theodore': 19, 'Roxanne': 20, 'Mathew': 21, 'Betty': 20}\n",
    "l=[]\n",
    "for k,v in d.items():\n",
    "    if v==20:\n",
    "        l.append(k)\n",
    "print(l)"
   ]
  },
  {
   "cell_type": "code",
   "execution_count": 162,
   "id": "50c7dde1",
   "metadata": {},
   "outputs": [
    {
     "name": "stdout",
     "output_type": "stream",
     "text": [
      "{'Theodore': 45, 'Roxanne': 15, 'Mathew': 21}\n",
      "{'Theodore': 45, 'Roxanne': 15, 'Mathew': 21}\n",
      "{'Theodore': 45, 'Roxanne': 15, 'Mathew': 21}\n"
     ]
    }
   ],
   "source": [
    "#2.\n",
    "d = {'Theodore': {'user': 'Theodore', 'age': 45}, 'Roxanne': {'user': 'Roxanne', 'age': 15}, 'Mathew': {'user': 'Mathew', 'age': 21}}\n",
    "d1={}\n",
    "for x,y in d.items():\n",
    "    d1[y['user']] = y['age']\n",
    "print(d1)\n",
    "\n",
    "n = {k:v['age'] for k,v in d.items()}\n",
    "print(n)\n",
    "\n",
    "n = {v['user']:v['age'] for k,v in d.items() }\n",
    "print(n)"
   ]
  },
  {
   "cell_type": "code",
   "execution_count": 172,
   "id": "4a4cc1a6",
   "metadata": {},
   "outputs": [
    {
     "name": "stdout",
     "output_type": "stream",
     "text": [
      "[18, 22, 20, 18]\n",
      "[18, 22, 20, 18]\n"
     ]
    }
   ],
   "source": [
    "# 3.\n",
    "ls = [{'name': 'Theodore', 'age': 18}, {'name': 'Mathew', 'age': 22}, {'name': 'Roxanne', 'age': 20}, {'name': 'David', 'age': 18}]\n",
    "\n",
    "l = []\n",
    "for i in ls:\n",
    "    l.append(i['age'])\n",
    "print(l)\n",
    "\n",
    "n = [e['age'] for e in ls]\n",
    "print(n)"
   ]
  },
  {
   "cell_type": "code",
   "execution_count": 36,
   "id": "35bf3851",
   "metadata": {},
   "outputs": [
    {
     "name": "stdout",
     "output_type": "stream",
     "text": [
      "defaultdict(<class 'set'>, {'Class-V': {1}, 'Class-VI': {2}, 'Class-VII': {2}, 'Class-VIII': {3}})\n"
     ]
    }
   ],
   "source": [
    "# 4.\n",
    "from collections import defaultdict\n",
    "k = ['Class-V', 'Class-VI', 'Class-VII', 'Class-VIII'] \n",
    "v = [1, 2, 2, 3]\n",
    "temp = defaultdict(set)\n",
    "for c, i in zip(k, v):\n",
    "    temp[c].add(i)\n",
    "print(temp)"
   ]
  },
  {
   "cell_type": "code",
   "execution_count": 62,
   "id": "366a3fdf",
   "metadata": {},
   "outputs": [
    {
     "name": "stdout",
     "output_type": "stream",
     "text": [
      "key1 1\n"
     ]
    }
   ],
   "source": [
    "# 5. match key & value pair\n",
    "\n",
    "x = {'key1': 1, 'key2': 3, 'key3': 2}\n",
    "y = {'key1': 1, 'key2': 2}\n",
    "\n",
    "for k, v in x.items():\n",
    "    for k1,v1 in y.items():\n",
    "        if (k,v) == (k1,v1):\n",
    "            print(k,v)"
   ]
  },
  {
   "cell_type": "code",
   "execution_count": 100,
   "id": "ea8f3b1f",
   "metadata": {},
   "outputs": [
    {
     "data": {
      "text/plain": [
       "{'X': [1, 2, 3, 4, 5, 6, 7, 8, 9],\n",
       " 'Y': [20, 21, 22, 23, 24, 25, 26, 27, 28, 29],\n",
       " 'Z': [30, 31, 32, 33, 34, 35, 36, 37, 38, 39]}"
      ]
     },
     "execution_count": 100,
     "metadata": {},
     "output_type": "execute_result"
    }
   ],
   "source": [
    "#6. create dict of lists\n",
    "\n",
    "d = {'X':list(range(1,10)),'Y':list(range(20,30)),'Z':list(range(30,40))}\n",
    "d"
   ]
  },
  {
   "cell_type": "code",
   "execution_count": 117,
   "id": "6dcb1b10",
   "metadata": {},
   "outputs": [
    {
     "data": {
      "text/plain": [
       "[{'S001': {'Adina Park': 85}},\n",
       " {'S002': {'Leyton Marsh': 98}},\n",
       " {'S003': {'Duncan Boyle': 89}},\n",
       " {'S004': {'Saim Richards': 92}}]"
      ]
     },
     "execution_count": 117,
     "metadata": {},
     "output_type": "execute_result"
    }
   ],
   "source": [
    "# 7. create nested dict\n",
    "s_id = [\"S001\", \"S002\", \"S003\", \"S004\"] \n",
    "s_name = [\"Adina Park\", \"Leyton Marsh\", \"Duncan Boyle\", \"Saim Richards\"] \n",
    "s_grade = [85, 98, 89, 92]\n",
    "\n",
    "{x: [y,z] for (x, y, z) in zip(s_id,s_name,s_grade)}\n",
    "[{x: {y:z}} for (x, y, z) in zip(s_id,s_name,s_grade)]"
   ]
  },
  {
   "cell_type": "code",
   "execution_count": 279,
   "id": "bc201972",
   "metadata": {},
   "outputs": [
    {
     "name": "stdout",
     "output_type": "stream",
     "text": [
      "[{1: 'Jean Castro', 2: 'Lula Powell', 3: 'Brian Howell', 4: 'Lynne Foster', 5: 'Zachary Simon'}]\n",
      "[{1: 'Jean Castro'}, {2: 'Lula Powell'}, {3: 'Brian Howell'}, {4: 'Lynne Foster'}, {5: 'Zachary Simon'}]\n",
      "[{1: 'Jean Castro', 2: 'Lula Powell', 3: 'Brian Howell', 4: 'Lynne Foster', 5: 'Zachary Simon'}]\n"
     ]
    }
   ],
   "source": [
    "# 8. \n",
    "d = {1: ['Jean Castro'], 2: ['Lula Powell'], 3: ['Brian Howell'], 4: ['Lynne Foster'], 5: ['Zachary Simon']}\n",
    "\n",
    "print([{k:v[0] for k,v in d.items()}])\n",
    "\n",
    "d1 = {}\n",
    "ls = []\n",
    "for k,v in d.items():\n",
    "    ls.append({k:v[0]})\n",
    "print(ls)\n",
    "\n",
    "d1 = {}\n",
    "for k,v in d.items():\n",
    "    d1[k] = v[0]\n",
    "print([d1])  #list of dict"
   ]
  },
  {
   "cell_type": "code",
   "execution_count": null,
   "id": "67e98556",
   "metadata": {},
   "outputs": [],
   "source": []
  }
 ],
 "metadata": {
  "kernelspec": {
   "display_name": "Python 3 (ipykernel)",
   "language": "python",
   "name": "python3"
  },
  "language_info": {
   "codemirror_mode": {
    "name": "ipython",
    "version": 3
   },
   "file_extension": ".py",
   "mimetype": "text/x-python",
   "name": "python",
   "nbconvert_exporter": "python",
   "pygments_lexer": "ipython3",
   "version": "3.11.5"
  }
 },
 "nbformat": 4,
 "nbformat_minor": 5
}
