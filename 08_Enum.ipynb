{
 "cells": [
  {
   "cell_type": "markdown",
   "id": "1edcb392",
   "metadata": {},
   "source": [
    "# 1. Enum"
   ]
  },
  {
   "cell_type": "code",
   "execution_count": 4,
   "id": "71b4ef8a",
   "metadata": {},
   "outputs": [
    {
     "name": "stdout",
     "output_type": "stream",
     "text": [
      "Member name: Albania\n",
      "Member value: 355\n"
     ]
    }
   ],
   "source": [
    "from enum import Enum\n",
    "\n",
    "class Country(Enum):\n",
    "    Afghanistan = 93\n",
    "    Albania = 355\n",
    "    Algeria = 213\n",
    "    Andorra = 376\n",
    "    Angola = 244\n",
    "    Antarctica = 672\n",
    "print('Member name: {}'.format(Country.Albania.name))\n",
    "print('Member value: {}'.format(Country.Albania.value))"
   ]
  },
  {
   "cell_type": "code",
   "execution_count": 7,
   "id": "5c0ee8c6",
   "metadata": {},
   "outputs": [
    {
     "name": "stdout",
     "output_type": "stream",
     "text": [
      "RED\n",
      "3\n",
      "RED 1\n",
      "GREEN 2\n",
      "BLUE 3\n"
     ]
    }
   ],
   "source": [
    "import enum\n",
    "\n",
    "# Define an enumeration class\n",
    "class Color(enum.Enum):\n",
    "    RED = 1\n",
    "    GREEN = 2\n",
    "    BLUE = 3\n",
    "print(Color.RED.name)\n",
    "print(Color.BLUE.value)\n",
    "\n",
    "for c in Color:\n",
    "    print(c.name,c.value)"
   ]
  },
  {
   "cell_type": "markdown",
   "id": "2b818c07",
   "metadata": {},
   "source": [
    "# 2.  iterates over an enum class and displays each member and their value"
   ]
  },
  {
   "cell_type": "code",
   "execution_count": 6,
   "id": "887e5484",
   "metadata": {},
   "outputs": [
    {
     "name": "stdout",
     "output_type": "stream",
     "text": [
      "Afghanistan 93\n",
      "Albania 355\n",
      "Algeria 213\n",
      "Andorra 376\n",
      "Angola 244\n",
      "Antarctica 672\n"
     ]
    }
   ],
   "source": [
    "from enum import Enum\n",
    "class Country(Enum):\n",
    "    Afghanistan = 93\n",
    "    Albania = 355\n",
    "    Algeria = 213\n",
    "    Andorra = 376\n",
    "    Angola = 244\n",
    "    Antarctica = 672\n",
    "    \n",
    "for data in Country:\n",
    "    print(data.name, data.value)"
   ]
  },
  {
   "cell_type": "markdown",
   "id": "7b0e36e1",
   "metadata": {},
   "source": [
    "# 3. get all the member names of an enum class ordered by their values"
   ]
  },
  {
   "cell_type": "code",
   "execution_count": 8,
   "id": "1717da72",
   "metadata": {},
   "outputs": [
    {
     "name": "stdout",
     "output_type": "stream",
     "text": [
      "Country Name ordered by Country Code:\n",
      "  Afghanistan\n",
      "  Algeria\n",
      "  Angola\n",
      "  Albania\n",
      "  Andorra\n",
      "  Antarctica\n"
     ]
    }
   ],
   "source": [
    "import enum\n",
    "class Country(enum.IntEnum):\n",
    "    Afghanistan = 93\n",
    "    Albania = 355\n",
    "    Algeria = 213\n",
    "    Andorra = 376\n",
    "    Angola = 244\n",
    "    Antarctica = 672\n",
    "print('Country Name ordered by Country Code:')\n",
    "print('\\n'.join('  ' + c.name for c in sorted(Country)))"
   ]
  },
  {
   "cell_type": "markdown",
   "id": "166c27c7",
   "metadata": {},
   "source": [
    "# 4. get all values from an enum class."
   ]
  },
  {
   "cell_type": "code",
   "execution_count": 9,
   "id": "5a180566",
   "metadata": {},
   "outputs": [
    {
     "name": "stdout",
     "output_type": "stream",
     "text": [
      "[93, 355, 213, 376, 244, 672]\n"
     ]
    }
   ],
   "source": [
    "from enum import IntEnum\n",
    "class Country(IntEnum):\n",
    "    Afghanistan = 93\n",
    "    Albania = 355\n",
    "    Algeria = 213\n",
    "    Andorra = 376\n",
    "    Angola = 244\n",
    "    Antarctica = 672\n",
    "country_code_list = list(map(int, Country))\n",
    "print(country_code_list)"
   ]
  },
  {
   "cell_type": "markdown",
   "id": "11389576",
   "metadata": {},
   "source": [
    "# 5. remove duplicates members by values \n",
    "by default duplicate members doesn't support, and value's are over written by first occurance value"
   ]
  },
  {
   "cell_type": "code",
   "execution_count": 15,
   "id": "2fc9ec44",
   "metadata": {},
   "outputs": [
    {
     "name": "stdout",
     "output_type": "stream",
     "text": [
      "RED 1\n",
      "GREEN 2\n",
      "BLUE 3\n"
     ]
    }
   ],
   "source": [
    "import enum\n",
    "\n",
    "class Color(enum.Enum):\n",
    "    RED = 1\n",
    "    GREEN = 2\n",
    "    BLUE = 3\n",
    "    YELLOW = 2 \n",
    "\n",
    "for c in Color:\n",
    "    print(c.name,c.value)"
   ]
  },
  {
   "cell_type": "markdown",
   "id": "acb2e4b0",
   "metadata": {},
   "source": [
    "# 6. All Enum Methods"
   ]
  },
  {
   "cell_type": "code",
   "execution_count": 16,
   "id": "47ea7e23",
   "metadata": {},
   "outputs": [
    {
     "name": "stdout",
     "output_type": "stream",
     "text": [
      "['__class__', '__contains__', '__doc__', '__getitem__', '__init_subclass__', '__iter__', '__len__', '__members__', '__module__', '__name__', '__new__', '__qualname__']\n"
     ]
    }
   ],
   "source": [
    "print(dir(Enum))"
   ]
  },
  {
   "cell_type": "code",
   "execution_count": 21,
   "id": "a797769a",
   "metadata": {},
   "outputs": [
    {
     "name": "stdout",
     "output_type": "stream",
     "text": [
      "<class 'enum.EnumType'>\n",
      "True\n",
      "None\n",
      "Color.GREEN\n",
      "Color.RED\n",
      "Color.GREEN\n",
      "Color.BLUE\n",
      "3\n",
      "{'RED': <Color.RED: 1>, 'GREEN': <Color.GREEN: 2>, 'BLUE': <Color.BLUE: 3>}\n",
      "__main__\n",
      "Color\n",
      "Color.GREEN\n",
      "Color\n"
     ]
    }
   ],
   "source": [
    "import enum\n",
    "\n",
    "# Define an enumeration class\n",
    "class Color(enum.Enum):\n",
    "    RED = 1\n",
    "    GREEN = 2\n",
    "    BLUE = 3\n",
    "\n",
    "# 1. __class__: The class of the enumeration\n",
    "print(Color.__class__) \n",
    "\n",
    "# 2. __contains__: Check if a value is a member of the enumeration\n",
    "print(Color.RED in Color)  \n",
    "\n",
    "# 3. __doc__: Documentation string for the enumeration\n",
    "print(Color.__doc__)  # Output: None (by default)\n",
    "\n",
    "# 4. __getitem__: Get an enumeration member by value\n",
    "member = Color(2)\n",
    "print(member) \n",
    "\n",
    "# 5. __init_subclass__: Called when a subclass \n",
    "\n",
    "# 6. __iter__: Iterate over enumeration members\n",
    "for color in Color:\n",
    "    print(color)\n",
    "\n",
    "# 7. __len__: Get the number of members in the enumeration\n",
    "print(len(Color))  \n",
    "\n",
    "# 8. __members__: Get a dictionary of member names and their corresponding values\n",
    "print(Color.__members__)  \n",
    "\n",
    "# 9. __module__: Module where the enumeration is defined\n",
    "print(Color.__module__) \n",
    "\n",
    "# 10. __name__: Name of the enumeration\n",
    "print(Color.__name__)  \n",
    "\n",
    "# 11. __new__: Called to create an enumeration member\n",
    "color_orange = Color(2)\n",
    "print(color_orange) \n",
    "\n",
    "# 12. __qualname__: Qualified name of the enumeration\n",
    "print(Color.__qualname__)  "
   ]
  },
  {
   "cell_type": "code",
   "execution_count": null,
   "id": "59b129d4",
   "metadata": {},
   "outputs": [],
   "source": []
  }
 ],
 "metadata": {
  "kernelspec": {
   "display_name": "Python 3 (ipykernel)",
   "language": "python",
   "name": "python3"
  },
  "language_info": {
   "codemirror_mode": {
    "name": "ipython",
    "version": 3
   },
   "file_extension": ".py",
   "mimetype": "text/x-python",
   "name": "python",
   "nbconvert_exporter": "python",
   "pygments_lexer": "ipython3",
   "version": "3.11.5"
  }
 },
 "nbformat": 4,
 "nbformat_minor": 5
}
