{
 "cells": [
  {
   "cell_type": "code",
   "execution_count": 4,
   "id": "e789e0c7-7d8d-45d0-9d4f-ca301f249fdd",
   "metadata": {},
   "outputs": [
    {
     "data": {
      "text/plain": [
       "{'Nikky'}"
      ]
     },
     "execution_count": 4,
     "metadata": {},
     "output_type": "execute_result"
    }
   ],
   "source": [
    "################# Dict ###########\n",
    "## 1. \n",
    "d={\"name\":\"Nani\",\"name\":\"Janu\",\"name\":\"Nikky\"}\n",
    "{d[\"name\"] for i in d}\n",
    "{d[\"name\"]+\"hello\" for i in d}"
   ]
  },
  {
   "cell_type": "code",
   "execution_count": null,
   "id": "fc6dd2b8-2909-41a4-b181-a49f25e8bf53",
   "metadata": {},
   "outputs": [],
   "source": []
  }
 ],
 "metadata": {
  "kernelspec": {
   "display_name": "Python 3 (ipykernel)",
   "language": "python",
   "name": "python3"
  },
  "language_info": {
   "codemirror_mode": {
    "name": "ipython",
    "version": 3
   },
   "file_extension": ".py",
   "mimetype": "text/x-python",
   "name": "python",
   "nbconvert_exporter": "python",
   "pygments_lexer": "ipython3",
   "version": "3.11.5"
  }
 },
 "nbformat": 4,
 "nbformat_minor": 5
}
