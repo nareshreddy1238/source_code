{
 "cells": [
  {
   "cell_type": "code",
   "execution_count": 5,
   "id": "f297696b-986f-4678-8983-57f199eb36f0",
   "metadata": {},
   "outputs": [
    {
     "name": "stdout",
     "output_type": "stream",
     "text": [
      "7\n",
      "7.01\n",
      "[1, 2, 3, 4, 5, 6]\n"
     ]
    }
   ],
   "source": [
    "################### All Built in methods #################\n",
    "\n",
    "## 1. abs\n",
    "print(abs(-7))\n",
    "print(abs(-7.01))\n",
    "l=[1,2,3,-4,-5,-6]\n",
    "n=[abs(i) for i in l]\n",
    "print(n)"
   ]
  },
  {
   "cell_type": "code",
   "execution_count": 16,
   "id": "b6c059a9-bb56-4a10-b89c-c76583889dec",
   "metadata": {},
   "outputs": [
    {
     "name": "stdout",
     "output_type": "stream",
     "text": [
      "True\n",
      "True\n",
      "True\n",
      "False\n",
      "False\n",
      "True\n",
      "[True, False, False]\n",
      "[False, False, False]\n"
     ]
    }
   ],
   "source": [
    "## 2. all():\n",
    "print(all(\"hello\"))\n",
    "print(all([1]))\n",
    "print(all(\"\"))\n",
    "print(all([False,0]))\n",
    "print(all([False,1]))\n",
    "print(all([10,1]))\n",
    "l=[1,2,3]\n",
    "l1=[1,5,6]\n",
    "print([i==1 for i in l])\n",
    "print([i==10 for i in l])"
   ]
  },
  {
   "cell_type": "code",
   "execution_count": 25,
   "id": "0b8014ab-6356-4c3c-b811-dc4546ce775e",
   "metadata": {},
   "outputs": [
    {
     "name": "stdout",
     "output_type": "stream",
     "text": [
      "False\n",
      "False\n",
      "True\n",
      "True\n",
      "True\n",
      "False\n"
     ]
    }
   ],
   "source": [
    "## 3. any():\n",
    "print(any(\"\"))\n",
    "print(any([0,False,0]))\n",
    "print(any([0,False,0,1]))\n",
    "print(any([0,False,0,\"hello\"]))\n",
    "l=[\"janu\",\"nani\",\"nikky\"]\n",
    "print(any([i==\"nani\" for i in l]))\n",
    "print(any([i==\"Jayaram\" for i in l]))"
   ]
  },
  {
   "cell_type": "code",
   "execution_count": 33,
   "id": "d5cbcd9e-7db0-4d73-8b5f-418c905f1432",
   "metadata": {},
   "outputs": [
    {
     "name": "stdout",
     "output_type": "stream",
     "text": [
      "1\n",
      "[]\n",
      "{}\n",
      "''\n",
      "<class 'str'>\n",
      "'St\\xe5le'\n"
     ]
    }
   ],
   "source": [
    "## 4. ascii()\n",
    "print(ascii(1))\n",
    "print(ascii([]))\n",
    "print(ascii({}))\n",
    "print(ascii(\"\"))\n",
    "print(type(ascii([])))\n",
    "print(ascii('Ståle'))"
   ]
  },
  {
   "cell_type": "code",
   "execution_count": 53,
   "id": "3944650a-13bc-4ff3-9d3a-33b76f9b830d",
   "metadata": {},
   "outputs": [
    {
     "name": "stdout",
     "output_type": "stream",
     "text": [
      "0b1\n",
      "0b10\n",
      "-0b100\n",
      "0b100\n",
      "<class 'str'>\n"
     ]
    }
   ],
   "source": [
    "## 5.bin()\n",
    "print(bin(1))\n",
    "print(bin(2))\n",
    "print(bin(-4))\n",
    "#bin(4.0)\n",
    "#bin(\"\")\n",
    "#bin([])\n",
    "print(bin(0x4))\n",
    "#bin(hex(4))--> hex is string \n",
    "print(type(bin(1)))"
   ]
  },
  {
   "cell_type": "code",
   "execution_count": 54,
   "id": "e3d88e05-2aeb-42b2-b446-5c3f53bc0847",
   "metadata": {},
   "outputs": [
    {
     "name": "stdout",
     "output_type": "stream",
     "text": [
      "True\n",
      "False\n",
      "False\n",
      "True\n",
      "True\n",
      "False\n",
      "<class 'bool'>\n",
      "False\n"
     ]
    }
   ],
   "source": [
    "## 6.bool(): will always return True, False--> object is empty,False,0,None \n",
    "print(bool(1))\n",
    "print(bool(0))\n",
    "print(bool([]))\n",
    "print(bool(12345))\n",
    "print(bool([False,0,1]))\n",
    "print(bool(None))\n",
    "print(type(bool()))\n",
    "print(bool(1==2))"
   ]
  },
  {
   "cell_type": "code",
   "execution_count": 65,
   "id": "19196efa-d501-467e-b050-45e4d9b474c7",
   "metadata": {},
   "outputs": [
    {
     "name": "stdout",
     "output_type": "stream",
     "text": [
      "i 0\n",
      "i 1\n",
      "i 2\n",
      "i 3\n",
      "i 4\n",
      "i 5\n",
      "> \u001b[1;32mc:\\users\\nares\\appdata\\local\\temp\\ipykernel_21700\\794401914.py\u001b[0m(2)\u001b[0;36m<module>\u001b[1;34m()\u001b[0m\n",
      "\n"
     ]
    },
    {
     "name": "stdin",
     "output_type": "stream",
     "text": [
      "ipdb>  i\n"
     ]
    },
    {
     "name": "stdout",
     "output_type": "stream",
     "text": [
      "5\n"
     ]
    },
    {
     "name": "stdin",
     "output_type": "stream",
     "text": [
      "ipdb>  c\n"
     ]
    },
    {
     "name": "stdout",
     "output_type": "stream",
     "text": [
      "i 6\n",
      "i 7\n",
      "i 8\n",
      "i 9\n"
     ]
    }
   ],
   "source": [
    "## 7. breakpoint(): Python debug built in method--> it's act like pdb package\n",
    "for i in range(10):\n",
    "    print(\"i\",i)\n",
    "    if i==5:\n",
    "        #breakpoint()\n",
    "        import pdb; pdb.set_trace()"
   ]
  },
  {
   "cell_type": "code",
   "execution_count": 84,
   "id": "92a55659-200d-49d6-b341-1054243c81c8",
   "metadata": {},
   "outputs": [
    {
     "name": "stdout",
     "output_type": "stream",
     "text": [
      "b''\n",
      "<class 'bytes'>\n",
      "b'hey'\n",
      "b'\\xff\\xfeh\\x00e\\x00y\\x00'\n",
      "b'\\xff\\xfe\\x00\\x00h\\x00\\x00\\x00e\\x00\\x00\\x00y\\x00\\x00\\x00'\n",
      "b'\\x00'\n",
      "b'\\x00\\x00\\x00\\x00'\n",
      "b'\\x00\\x00\\x00\\x00\\x00\\x00\\x00\\x00\\x00\\x00'\n",
      "b'\\x01\\x02\\x04'\n",
      "b'\\x01\\x02\\x03'\n"
     ]
    }
   ],
   "source": [
    "## 8. bytes(): immutable\n",
    "print(bytes())\n",
    "print(type(bytes()))\n",
    "   # strings -> must be encoding UTF-8,UTF-16,UTF-32\n",
    "print(bytes(\"hey\",\"UTF-8\"))\n",
    "print(bytes(\"hey\",\"UTF-16\"))\n",
    "print(bytes(\"hey\",\"UTF-32\"))\n",
    "   # Integers -> returns the hexa-decimal values\n",
    "print(bytes(1))\n",
    "print(bytes(4))\n",
    "print(bytes(10))\n",
    "   # Iterable -> list\n",
    "print(bytes([1,2,4]))\n",
    "print(bytes((1,2,3)))"
   ]
  },
  {
   "cell_type": "code",
   "execution_count": 189,
   "id": "2eecbcd6-93ff-4fe2-b1f7-b8b9e7c0f977",
   "metadata": {},
   "outputs": [
    {
     "name": "stdout",
     "output_type": "stream",
     "text": [
      "<class 'bytearray'>\n",
      "bytearray(b'hey')\n",
      "bytearray(b'\\xff\\xfeh\\x00e\\x00y\\x00')\n",
      "bytearray(b'\\xff\\xfe\\x00\\x00h\\x00\\x00\\x00e\\x00\\x00\\x00y\\x00\\x00\\x00')\n",
      "bytearray(b'\\x00')\n",
      "bytearray(b'\\x00\\x00\\x00\\x00')\n",
      "append: bytearray(b'\\x01\\x02\\x03\\x05')\n",
      "reverse: bytearray(b'\\x05\\x03\\x02\\x01')\n",
      "bytearray(b'\\x01\\x03\\x05\\x05')\n"
     ]
    }
   ],
   "source": [
    "## 9. bytearray(): mutable\n",
    "\n",
    "print(type(bytearray()))\n",
    "# strings\n",
    "print(bytearray(\"hey\",\"UTF-8\"))\n",
    "print(bytearray(\"hey\",\"UTF-16\"))\n",
    "print(bytearray(\"hey\",\"UTF-32\"))\n",
    "\n",
    "# integers\n",
    "print(bytearray(1))\n",
    "print(bytearray(4))\n",
    "\n",
    "# iterable  -> mutable => append,reverse (bytes can't do these operations because immutable)\n",
    "l= bytearray([1,2,3])\n",
    "l.append(5)\n",
    "print(\"append:\",l)          \n",
    "l.reverse()\n",
    "print(\"reverse:\",l)\n",
    "m=bytearray((1,3,5))\n",
    "m.append(5)\n",
    "print(m)"
   ]
  },
  {
   "cell_type": "code",
   "execution_count": 113,
   "id": "38537e7f-10e7-4cbe-ad0b-8cafd62302b9",
   "metadata": {},
   "outputs": [
    {
     "name": "stdout",
     "output_type": "stream",
     "text": [
      "string: False\n",
      "True\n",
      "integer: False\n",
      "function: True\n",
      "class: True\n"
     ]
    }
   ],
   "source": [
    "## 10. callable(): --> object is True\n",
    "\n",
    "# string\n",
    "print(\"string:\",callable(\"hey\"))\n",
    "print(callable(type(\" \")))\n",
    "\n",
    "# integer\n",
    "x=5\n",
    "print(\"integer:\",callable(x))\n",
    "\n",
    "# function\n",
    "def fun():\n",
    "    return \"hello\"\n",
    "print(\"function:\",callable(fun))\n",
    "\n",
    "# class\n",
    "class demo:\n",
    "    def __init__():\n",
    "        return 2+4\n",
    "print(\"class:\",callable(demo))"
   ]
  },
  {
   "cell_type": "code",
   "execution_count": 127,
   "id": "a174a43b-012d-43ed-82e6-f3da1f12b87e",
   "metadata": {},
   "outputs": [
    {
     "name": "stdout",
     "output_type": "stream",
     "text": [
      "int to str char: a\n",
      "str char to int: 97\n"
     ]
    },
    {
     "data": {
      "text/plain": [
       "'c'"
      ]
     },
     "execution_count": 127,
     "metadata": {},
     "output_type": "execute_result"
    }
   ],
   "source": [
    "# 11. chr() & ord(): -> \n",
    "\n",
    "\"\"\"char => integer (unicode char) to string char (inverse ord)\n",
    "   ord  => string char to returns integer (unicode char) \n",
    "   unicode chart -> 0-127: Basic Latin -> special characters, A-Z, a-z etc.\n",
    "\"\"\"\n",
    "chr(0)\n",
    "chr(1)\n",
    "print(\"int to str char:\",chr(97))\n",
    "print(\"str char to int:\",ord('a'))\n",
    "chr(98)\n",
    "chr(99)"
   ]
  },
  {
   "cell_type": "code",
   "execution_count": 6,
   "id": "defc4b2a-d5bd-4731-8975-5456dab7a7f1",
   "metadata": {},
   "outputs": [
    {
     "name": "stdout",
     "output_type": "stream",
     "text": [
      "Vehicle (['Hero', 'Small Tyres', '2x2'])\n"
     ]
    }
   ],
   "source": [
    "# 12. classmethod: Transform a method into class method-> Function decorator \n",
    "\n",
    "class Vehicle:\n",
    "    def __init__(self, features):\n",
    "        self.feature = features\n",
    "    \n",
    "    def __repr__(self):\n",
    "        return f'Vehicle ({self.feature})'\n",
    "    \n",
    "    @classmethod\n",
    "    def truck(cls):\n",
    "        return cls(['Big Tyres','4x4'])\n",
    "    \n",
    "    \n",
    "    @classmethod\n",
    "    def bike(cls, model):\n",
    "        if model== \"Hero\":\n",
    "            return cls(['Hero','Small Tyres','2x2'])\n",
    "        elif model== \"Honda\":\n",
    "            return cls(['Honda','Small Tyres','2x2'])\n",
    "        else:\n",
    "            return \"Nothing\"\n",
    "        \n",
    "#car = velhicle(\"High Beams\")\n",
    "#print(vehicle.__dict__)\n",
    "car = Vehicle.bike(\"Hero\")\n",
    "print(car)"
   ]
  },
  {
   "cell_type": "code",
   "execution_count": 32,
   "id": "4a8f20d2-e395-4f47-a8e8-dde7b294bb45",
   "metadata": {},
   "outputs": [
    {
     "data": {
      "text/plain": [
       "10"
      ]
     },
     "execution_count": 32,
     "metadata": {},
     "output_type": "execute_result"
    },
    {
     "name": "stdout",
     "output_type": "stream",
     "text": [
      "exec mul = 200\n",
      "bytes: False\n",
      "Hello world\n"
     ]
    },
    {
     "data": {
      "text/plain": [
       "\"f = open('main', 'r')\\n    temp = f.read()\\n    f.close() \\n    code = compile(temp, 'main.py', 'exec')\\n    exec(code)\""
      ]
     },
     "execution_count": 32,
     "metadata": {},
     "output_type": "execute_result"
    }
   ],
   "source": [
    "# 13. Compile(Source,filename,mode):\n",
    "\"\"\" Source – It can be a normal string, a byte string, or an AST object\n",
    "    Filename -This is the file from which the code was read. If it wasn’t read from a file, you can give a name yourself.\n",
    "    Mode – Mode can be exec, eval or single.\n",
    "        eval – If the source is a single expression.\n",
    "        exec – It can take a block of a code that has Python sequence of statements, class and functions and so on.\n",
    "        single – It is used if consists of a single interactive statement\"\"\"\n",
    "\n",
    "# single \n",
    "a='50'\n",
    "b=compile('x','', 'single')\n",
    "exec(b)\n",
    "\n",
    "# eval \n",
    "x=5\n",
    "c=compile('x+5','','eval')\n",
    "eval(c)\n",
    "\n",
    "# exec\n",
    "srcCode = 'x = 10\\ny = 20\\nmul = x * y\\nprint(\"exec mul =\", mul)'\n",
    "execCode = compile(srcCode, 'mulstring', 'exec')\n",
    "exec(execCode) \n",
    "\n",
    "# bytes\n",
    "bytes_str=bytes('x==5','utf-8')\n",
    "code_byte = compile(bytes_str,\"\",'eval')\n",
    "print(\"bytes:\",eval(code_byte))\n",
    "\n",
    "# ast object\n",
    "import ast\n",
    "ast_obj = ast.parse(\"print('Hello world')\")\n",
    "code = compile(ast_obj,'','exec')\n",
    "exec(code)\n",
    "\n",
    "# with file name\n",
    "\"\"\"f = open('main', 'r')\n",
    "    temp = f.read()\n",
    "    f.close() \n",
    "    code = compile(temp, 'main.py', 'exec')\n",
    "    exec(code)\"\"\"\n",
    "\n"
   ]
  },
  {
   "cell_type": "code",
   "execution_count": 41,
   "id": "6e70b3c2-2b0e-4e46-b9b2-3d1263bfe037",
   "metadata": {},
   "outputs": [
    {
     "name": "stdout",
     "output_type": "stream",
     "text": [
      "0j\n",
      "(1+0j)\n",
      "1j\n",
      "(1+1j)\n",
      "real: 1.0\n",
      "imaginary: 2.0\n",
      "<class 'complex'>\n"
     ]
    }
   ],
   "source": [
    "# 14. Complex(real,imaginary): \n",
    "print(complex())\n",
    "print(complex(1)) ##output: real+imaginary numbers\n",
    "print(complex(0,1))\n",
    "print(complex(1,1))\n",
    "\n",
    "code = complex(1,2)\n",
    "print(\"real:\",code.real)\n",
    "print(\"imaginary:\",code.imag)\n",
    "print(type(code))"
   ]
  },
  {
   "cell_type": "code",
   "execution_count": 79,
   "id": "1fa7601c-27ba-4627-844d-251d69bd16c2",
   "metadata": {},
   "outputs": [
    {
     "name": "stdout",
     "output_type": "stream",
     "text": [
      "HERO\n",
      "Honda\n",
      "Volvo\n"
     ]
    }
   ],
   "source": [
    "# 15. setattr(obj,name,value):\n",
    "\n",
    "class Model:\n",
    "    bike=\"HERO\"\n",
    "    car=\"TATA\"\n",
    "print(getattr(Model,'bike'))#not work in dict\n",
    "setattr(Model,'bike',\"Honda\")\n",
    "print(getattr(Model,'bike'))\n",
    "setattr(Model,\"bus\",\"Volvo\")\n",
    "print(getattr(Model,'bus'))"
   ]
  },
  {
   "cell_type": "code",
   "execution_count": 46,
   "id": "ed8ede40-9de8-4f1a-9e50-5e956b971d44",
   "metadata": {},
   "outputs": [
    {
     "name": "stdout",
     "output_type": "stream",
     "text": [
      "car TATA\n"
     ]
    }
   ],
   "source": [
    "# 16. delattr(object,name):  object-> string\n",
    "\n",
    "class Model:\n",
    "    bike=\"HERO\"\n",
    "    car=\"TATA\"\n",
    "delattr(Model,'bike') #not work in dict\n",
    "#print(Model.__dict__) \n",
    "for k,v in Model.__dict__.items():\n",
    "    if not k.startswith('__'):\n",
    "        print(k,v)"
   ]
  },
  {
   "cell_type": "code",
   "execution_count": 166,
   "id": "645dcf91-af87-4ee1-9e1c-e1acf2e3c9d6",
   "metadata": {},
   "outputs": [
    {
     "name": "stdout",
     "output_type": "stream",
     "text": [
      "HERO\n",
      "TATA\n",
      "0\n",
      "None\n",
      "hello\n"
     ]
    }
   ],
   "source": [
    "# 17. getattr(object,name,default):\n",
    "class Model:\n",
    "    bike=\"HERO\"\n",
    "    car=\"TATA\"\n",
    "print(getattr(Model,'bike')) #not work in dict\n",
    "print(getattr(Model,'car',0))\n",
    "print(getattr(Model,'bus',0)) #if value is not there, display default value\n",
    "print(getattr(Model,'bus',None))\n",
    "print(getattr(Model,'bus',\"hello\"))"
   ]
  },
  {
   "cell_type": "code",
   "execution_count": 181,
   "id": "e607bfd6-0726-48c6-aea7-f16168779446",
   "metadata": {},
   "outputs": [
    {
     "name": "stdout",
     "output_type": "stream",
     "text": [
      "<class 'bool'>\n",
      "bool: True\n",
      "hasattr: False\n"
     ]
    }
   ],
   "source": [
    "# 18. hasattr(object,name): --> object= string\n",
    "class Model:\n",
    "    bike=\"HERO\"\n",
    "    car=\"TATA\"\n",
    "print(type(hasattr(Model,'bike')))\n",
    "print(\"bool:\",bool(Model.bike))\n",
    "print(\"hasattr:\",hasattr(Model,'Van'))\n"
   ]
  },
  {
   "cell_type": "code",
   "execution_count": 59,
   "id": "068f77fc-c183-401c-909e-c64b8ede0a14",
   "metadata": {},
   "outputs": [
    {
     "name": "stdout",
     "output_type": "stream",
     "text": [
      "{}\n",
      "{'a': 1, 'b': 2}\n",
      "{'a': 1, 'b': {'c': 3}}\n",
      "{'a': 1, 'b': 2}\n",
      "{'a': 1, 'b': 2, 'c': 3}\n",
      "{'a': 1, 'b': 2, 'c': 3}\n",
      "{'a': 1, 'b': 2}\n"
     ]
    }
   ],
   "source": [
    "# 19. dict(): -> Returns dict format\n",
    "\"\"\" dict(**kwarg)\n",
    "    dict(mapping,**kwarg)\n",
    "    dict(iterable,**kwarg)\"\"\"\n",
    "print(  dict())\n",
    "print(  dict(a=1,b=2))\n",
    "print(  dict(a=1,b={'c':3}))\n",
    "print(  dict({'a':1,'b':2}))\n",
    "print(  dict({'a':1,'b':2},c=3))\n",
    "print(  dict([('a',1),('b',2)],c=3))\n",
    "print(  dict(zip(['a','b'],[1,2])))"
   ]
  },
  {
   "cell_type": "code",
   "execution_count": 65,
   "id": "15ee4996-ab18-4679-8445-ed6a71bd6689",
   "metadata": {},
   "outputs": [
    {
     "data": {
      "text/plain": [
       "['JSONDecodeError',\n",
       " 'JSONDecoder',\n",
       " 'JSONEncoder',\n",
       " '__all__',\n",
       " '__author__',\n",
       " '__builtins__',\n",
       " '__cached__',\n",
       " '__doc__',\n",
       " '__file__',\n",
       " '__loader__',\n",
       " '__name__',\n",
       " '__package__',\n",
       " '__path__',\n",
       " '__spec__',\n",
       " '__version__',\n",
       " '_default_decoder',\n",
       " '_default_encoder',\n",
       " 'codecs',\n",
       " 'decoder',\n",
       " 'detect_encoding',\n",
       " 'dump',\n",
       " 'dumps',\n",
       " 'encoder',\n",
       " 'load',\n",
       " 'loads',\n",
       " 'scanner']"
      ]
     },
     "execution_count": 65,
     "metadata": {},
     "output_type": "execute_result"
    }
   ],
   "source": [
    "# 20. dir(object): Returns specified obj properties & methods \n",
    "dir()\n",
    "dir('')\n",
    "dir(1)\n",
    "dir({})\n",
    "dir([])\n",
    "import json\n",
    "dir(json)"
   ]
  },
  {
   "cell_type": "code",
   "execution_count": 70,
   "id": "edcee2d8-f07d-46d1-8a11-cfaf28e413b0",
   "metadata": {},
   "outputs": [
    {
     "data": {
      "text/plain": [
       "(5, 0)"
      ]
     },
     "execution_count": 70,
     "metadata": {},
     "output_type": "execute_result"
    }
   ],
   "source": [
    "# 21. divmod(): -> division mode -> returns quotient & remainder\n",
    "divmod(10,2) ## equal to 10//2=5 10%2=0"
   ]
  },
  {
   "cell_type": "code",
   "execution_count": 79,
   "id": "a5aa2292-0608-45b1-83a6-9408e62bb084",
   "metadata": {},
   "outputs": [
    {
     "name": "stdout",
     "output_type": "stream",
     "text": [
      "0 a\n",
      "1 b\n",
      "2 c\n",
      "100 a\n",
      "101 b\n",
      "102 c\n"
     ]
    },
    {
     "data": {
      "text/plain": [
       "{50: 'a', 51: 'b', 52: 'c'}"
      ]
     },
     "execution_count": 79,
     "metadata": {},
     "output_type": "execute_result"
    }
   ],
   "source": [
    "# 22. enumerate(iterable,start=0): --> Returns enumerate object -> type casting -> index & iterable\n",
    "l=['a','b','c']\n",
    "list(enumerate(l))\n",
    "tuple(enumerate(l))\n",
    "dict(enumerate(l))\n",
    "for i,j in enumerate(l):\n",
    "    print(i,j)\n",
    "for i,j in enumerate(l,100):\n",
    "    print(i,j)\n",
    "dict(enumerate(l,50)) #starts with 50 index value"
   ]
  },
  {
   "cell_type": "code",
   "execution_count": 104,
   "id": "0968c652-7c87-4d94-a23b-dc0700ac2461",
   "metadata": {},
   "outputs": [
    {
     "name": "stdout",
     "output_type": "stream",
     "text": [
      "hello world\n",
      "1\n",
      "hello world\n"
     ]
    }
   ],
   "source": [
    "# 23. eval(expression, globals=None, Local=None): --> Execute expression= string, byte or code object\n",
    "eval(\"1\")\n",
    "eval(\"-5\")\n",
    "eval(\"-3+1\")\n",
    "x=10\n",
    "eval(\"x+1\")\n",
    "eval(\"abs(-1)\")\n",
    "eval(\"print('hello world')\")\n",
    "print(eval(\"abs(-1)\",{\"__builtins__\":None},{'abs':abs}))\n",
    "eval(\"print('hello world')\",{\"__builtins__\":None},{'print':print})"
   ]
  },
  {
   "cell_type": "code",
   "execution_count": 103,
   "id": "6e10fe41-4a55-4976-a8c6-83cbe6a28563",
   "metadata": {},
   "outputs": [
    {
     "name": "stdout",
     "output_type": "stream",
     "text": [
      "1\n",
      "10\n",
      "1\n",
      "1\n",
      "hello world\n",
      "0\n"
     ]
    }
   ],
   "source": [
    "# 24. exec(object,globals,locals): -> Execute multi Statements -> obj-string or code object\n",
    "exec(\"print(1)\")\n",
    "exec(\"print(max(10,1))\")\n",
    "exec(\"print(min(10,1,2))\")\n",
    "\n",
    "exec(\"def Testfun(): print(min(10,1,2))\")\n",
    "Testfun()\n",
    "exec(\"y=5\")\n",
    "#print(\"globals:\",dir())\n",
    "\n",
    "exec(\"print('hello world')\",{\"__builtins__\":None},{'print':print})\n",
    "eval(\"print(min(0,1))\",{\"__builtins__\":None},{'print':print,'min':min})"
   ]
  },
  {
   "cell_type": "code",
   "execution_count": 109,
   "id": "8440d9d5-e6f8-4e58-9513-0a1f1278bf78",
   "metadata": {},
   "outputs": [
    {
     "name": "stdout",
     "output_type": "stream",
     "text": [
      "[1, 12, 18, 24, 34]\n",
      "[18, 24, 34]\n",
      "[24, 34]\n"
     ]
    }
   ],
   "source": [
    "# 25. filter(function,iterable): -> test the iterable item\n",
    "\n",
    "age =[0,0,1,12,18,24,34]\n",
    "def myFunc(x):\n",
    "    return x>=18\n",
    "print(list(filter(None,age)))\n",
    "print(list(filter(myFunc,age)))\n",
    "\n",
    "def myFunc(x):\n",
    "    return False\n",
    "print(list(filter(lambda x:x>18,age)))\n"
   ]
  },
  {
   "cell_type": "code",
   "execution_count": 117,
   "id": "9140ce9c-a278-4a46-ae49-afe6ae4a5e34",
   "metadata": {},
   "outputs": [
    {
     "name": "stdout",
     "output_type": "stream",
     "text": [
      "inf\n",
      "nan\n"
     ]
    }
   ],
   "source": [
    "# 26. float(): -> string or number \n",
    "float(1)\n",
    "float(\"1.0\")\n",
    "float(\"1.4567\") #int(\"1.4567\") not working\n",
    "float(+1)\n",
    "float(-1)\n",
    "print(float(\"InfinitY\")) #case sensitive\n",
    "print(float(\"Nan\"))\n"
   ]
  },
  {
   "cell_type": "code",
   "execution_count": 206,
   "id": "dcbabd9d-cca1-41f4-8f5c-eba59020371c",
   "metadata": {},
   "outputs": [
    {
     "name": "stdout",
     "output_type": "stream",
     "text": [
      "5\n",
      "<class 'str'>\n",
      "<class 'str'>\n",
      "500.000000%\n",
      "500.0%\n",
      "500.00%\n",
      "500.0000000000%\n",
      "5.000000\n",
      "5.0\n",
      "5.00\n",
      "5.0000000000\n",
      "2.000000e+00\n",
      "2.0e+00\n",
      "2.00e+00\n",
      "10\n",
      "2\n"
     ]
    }
   ],
   "source": [
    "#27. format(value,format_spec): -> convert value to formatted spec %,b,f,d,x etc\n",
    "\n",
    "\"I am {} years old\".format(5)  ##-> string format this is not format built in method\n",
    "\n",
    "print(format(5, ))\n",
    "print(type(format(5,)))\n",
    "print(type(format(int(5), )))\n",
    "\n",
    "print(format(5,'%'))\n",
    "print(format(5,'.1%'))\n",
    "print(format(5,'.2%'))\n",
    "print(format(5,'.10%'))\n",
    "\n",
    "print(format(5,'f'))\n",
    "print(format(5,'.1f'))\n",
    "print(format(5,'.2f'))\n",
    "print(format(5,'.10f'))\n",
    "\n",
    "print(format(2,'e'))  #exponetion\n",
    "print(format(2,'.1e'))\n",
    "print(format(2,'.2e'))\n",
    "\n",
    "print(format(2,'b'))\n",
    "print(format(2,'d'))\n"
   ]
  },
  {
   "cell_type": "code",
   "execution_count": 159,
   "id": "923e5fe7-6e5f-40cc-8c11-f99ae281a15f",
   "metadata": {},
   "outputs": [
    {
     "name": "stdout",
     "output_type": "stream",
     "text": [
      "frozenset()\n",
      "frozenset({1, 2, 3})\n",
      "frozenset({'y', 'h', 'e'})\n",
      "{frozenset({5}), 1, 2}\n",
      "frozenset({frozenset({5}), 1, 2})\n"
     ]
    }
   ],
   "source": [
    "# 28. frozenset(): -> immutable & hashable & unordered\n",
    "\n",
    "print(frozenset())\n",
    "print(frozenset([1,2,3]))\n",
    "\n",
    "#unordered & immutable (can't change)\n",
    "print(frozenset(\"hey\")) \n",
    "\n",
    "#hasable\n",
    "#set([1,2,set([1,2])]) #unhashable type: 'set'\n",
    "print(  set([1,2,frozenset([5])]))\n",
    "print(  frozenset([1,2,frozenset([5])]))"
   ]
  },
  {
   "cell_type": "code",
   "execution_count": 175,
   "id": "3e9ec90c-6295-4152-ba0e-60dfcce7c519",
   "metadata": {},
   "outputs": [
    {
     "name": "stdout",
     "output_type": "stream",
     "text": [
      "5\n",
      "10\n",
      "<module 'builtins' (built-in)>\n"
     ]
    }
   ],
   "source": [
    "# 29. globals(): -> Returns the dict of current gobal symbol table(data strcture of all necessary info about program)\n",
    "\n",
    "# note: dir() only shows keys but globals() key:value pair\n",
    "a=5\n",
    "b=10\n",
    "#globals()\n",
    "print(globals()['a'])\n",
    "print(globals()['b'])\n",
    "print(globals()['__builtins__'])\n",
    "#print(globals()['__builtins__'].__dict__) #o/p: all builtin methods display"
   ]
  },
  {
   "cell_type": "code",
   "execution_count": 40,
   "id": "ca7c0b06-64d9-406f-8fae-85229b466973",
   "metadata": {},
   "outputs": [
    {
     "name": "stdout",
     "output_type": "stream",
     "text": [
      "globals() is locals() at Module Level: True\n",
      "globals is locals at program level: False\n",
      "nani\n",
      "Name: nani\n"
     ]
    }
   ],
   "source": [
    "# 30. locals(): -> Returns the dict of current local symbol table(data strcture of all necessary info about program)\n",
    "\n",
    "# note: module level locals()& globals() same dict\n",
    "print(\"globals() is locals() at Module Level:\",globals() is locals())\n",
    "\n",
    "# Function/program level: globals() & locals() are different\n",
    "def demo():\n",
    "    name=\"nani\"\n",
    "    print(\"globals is locals at program level:\",globals() is locals())\n",
    "    #print(locals())\n",
    "    #print(globals())\n",
    "    print(locals()['name'])\n",
    "    print(\"Name:\",name)\n",
    "demo()\n",
    "# note: locals() & globals() are only for debug not for modifying.."
   ]
  },
  {
   "cell_type": "code",
   "execution_count": 192,
   "id": "5deea723-917a-4896-bb94-b33767ea2dfb",
   "metadata": {},
   "outputs": [
    {
     "name": "stdout",
     "output_type": "stream",
     "text": [
      "num: 6\n",
      "float: 6\n",
      "str: 4025142864842227752\n",
      "tuple: 1461316589696902609\n",
      "frozensets: -558064481276695278\n",
      "<class 'int'>\n"
     ]
    }
   ],
   "source": [
    "# 31. Hash(object):-> hash value of the object -> immutable objects (num,string,tuples,frozenset)\n",
    "\n",
    "print(\"num:\",hash(6))\n",
    "print(\"float:\",hash(6.0))\n",
    "print(\"str:\",hash(\"hello\"))\n",
    "print(\"tuple:\",hash((6,7)))\n",
    "print(\"frozensets:\",hash(frozenset([1])))\n",
    "print(type(hash(\"hello\")))\n",
    "#unhashable types -> list,dict,sets\n",
    "#hash(set([4,5])) -> TypeError: unhashable type: 'set'"
   ]
  },
  {
   "cell_type": "code",
   "execution_count": 197,
   "id": "2717ee77-47c7-45e6-b780-4ec7c17441d4",
   "metadata": {},
   "outputs": [],
   "source": [
    "# 32. help([object]): document of method -> \n",
    "import math\n",
    "help(math) \n",
    "help(print)"
   ]
  },
  {
   "cell_type": "code",
   "execution_count": 207,
   "id": "d70b690b-86fd-40fc-99ca-53a14a74cc46",
   "metadata": {},
   "outputs": [
    {
     "data": {
      "text/plain": [
       "'0x1.0000000000000p+0'"
      ]
     },
     "execution_count": 207,
     "metadata": {},
     "output_type": "execute_result"
    }
   ],
   "source": [
    "# 33. hex(): hexa decimal format\n",
    "hex(1)\n",
    "hex(2)\n",
    "hex(10)\n",
    "hex(29)\n",
    "float.hex(1.0)"
   ]
  },
  {
   "cell_type": "code",
   "execution_count": 220,
   "id": "5572b399-0ec9-4994-b49d-5d59c36b00da",
   "metadata": {},
   "outputs": [
    {
     "name": "stdout",
     "output_type": "stream",
     "text": [
      "2233748092976\n",
      "2233737478384\n",
      "2233855329472\n",
      "2233748092976\n",
      "2233737478384\n",
      "2233856010560\n",
      "num addr     : 2233737478512 2233737478512\n",
      "strings addr : 2233854496432 2233854496432\n",
      "lists addr   : 2233855661824 2233854549440\n",
      "dict addr    : 2233854552896 2233857394816\n",
      "larger int addr:  2233856223120 2233856226032\n"
     ]
    }
   ],
   "source": [
    "# 34. id(object): -> addr of obj in memory /location of object\n",
    "\n",
    "\n",
    "# immutable -> same location in memory -> caching work only immutable\n",
    "#note: caching is a technique used to store and retrieve data quickly\n",
    "print(id(\"test\"))\n",
    "print(id(1))\n",
    "print(id((1,2)))\n",
    "print(id(\"test\"))\n",
    "print(id(1))\n",
    "print(id((1,2)))\n",
    "a=5\n",
    "b=5\n",
    "print(\"num addr     :\",id(a),id(b))\n",
    "c=\"hey\"\n",
    "d=\"hey\"\n",
    "print(\"strings addr :\",id(c),id(d))\n",
    "\n",
    "# mutable -> diff location in memory -> caching not working mutable\n",
    "a=[1,2,3]\n",
    "b=[1,2,3]\n",
    "a==b\n",
    "print(\"lists addr   :\",id(a),id(b))\n",
    "d={'a':1,'b':2}\n",
    "e={'a':1,'b':2}\n",
    "d==e\n",
    "print(\"dict addr    :\",id(d),id(e))\n",
    "\n",
    "## larger integers-> not working cache mechanism only range between -5 to 256 works   \n",
    "f=1234\n",
    "g=1234\n",
    "print(\"larger int addr: \",id(f),id(g))"
   ]
  },
  {
   "cell_type": "code",
   "execution_count": 226,
   "id": "d642a780-2aef-44c3-ab3c-722ae8c45e0e",
   "metadata": {},
   "outputs": [
    {
     "name": "stdin",
     "output_type": "stream",
     "text": [
      "enter string: hi\n",
      "enter integers: 1\n"
     ]
    },
    {
     "data": {
      "text/plain": [
       "1"
      ]
     },
     "execution_count": 226,
     "metadata": {},
     "output_type": "execute_result"
    }
   ],
   "source": [
    "# 35. input(): -> dynamically(run time) asking values \n",
    "\n",
    "#  raw_input()--> used python2 version & python3 deprecated \n",
    "input(\"enter string:\")        #--> for string\n",
    "int(input(\"enter integers:\")) #--> for integers"
   ]
  },
  {
   "cell_type": "code",
   "execution_count": 240,
   "id": "c37efa7c-e02c-4d1e-a682-0bb17f679f71",
   "metadata": {},
   "outputs": [
    {
     "name": "stdout",
     "output_type": "stream",
     "text": [
      "5\n",
      "6\n",
      "7\n",
      "float type casting: 5\n",
      "10\n",
      "binary: 6\n",
      "octal: 10\n",
      "hexa-decimal: 26\n"
     ]
    }
   ],
   "source": [
    "# 36. int(value,base): convert decimal\n",
    "\n",
    "print(int(5))\n",
    "print(int(6.5))\n",
    "print(int('7'))\n",
    "#print(int('5.5')) # ValueError: invalid literal for int() with base 10: '5.5'\n",
    "print(\"float type casting:\",int(float('5.5')))\n",
    "bin(10)\n",
    "print(int(0b1010))\n",
    "print(\"binary:\",int('0b110', 2))   ## binary to decimal \n",
    "print(\"octal:\",int('0o12', 8))     ##  octal to decimal\n",
    "print(\"hexa-decimal:\",int('0x1A', 16))   ##  hexa-decimal to decimal\n"
   ]
  },
  {
   "cell_type": "code",
   "execution_count": 247,
   "id": "b70d7db4-a5de-4963-98c3-2a3f732e2c5b",
   "metadata": {},
   "outputs": [
    {
     "name": "stdout",
     "output_type": "stream",
     "text": [
      "True\n",
      "False\n",
      "True\n",
      "True\n",
      "True\n",
      "True\n",
      "True\n",
      "None\n",
      "True\n"
     ]
    }
   ],
   "source": [
    "# 37. isinstance(object, type): Returns True if a specified object is an instance of a specified type.\n",
    "print(isinstance(5, int))\n",
    "print(isinstance(\"hey\", int))\n",
    "print(isinstance(\"hey\", str))\n",
    "print(isinstance([1,2,3], list))\n",
    "print(isinstance((1,2,3), tuple))\n",
    "print(isinstance({1:'a',2:'b'},dict ))\n",
    "print(isinstance([1,2,3],(str,list)))\n",
    "\n",
    "d={1:'a',2:'b'}\n",
    "if isinstance(d,str):\n",
    "    print(\"is dict\")\n",
    "elif isinstance(d,list):\n",
    "    print(\"is list\")\n",
    "else:\n",
    "    print(None)\n",
    "\n",
    "class myObj:\n",
    "  name = \"John\"\n",
    "y = myObj()\n",
    "x = isinstance(y, myObj)\n",
    "print(x)   "
   ]
  },
  {
   "cell_type": "code",
   "execution_count": 252,
   "id": "3b7c3cbb-a8a9-4e7e-9bb8-fca5ba7d554f",
   "metadata": {},
   "outputs": [
    {
     "name": "stdout",
     "output_type": "stream",
     "text": [
      "True\n",
      "True\n",
      "True\n",
      "False\n"
     ]
    }
   ],
   "source": [
    "# 38. issubclass(class,classinfo): Returns True if a specified class is a subclass of a specified object.\n",
    "\n",
    "class Vehicle:\n",
    "    pass\n",
    "class Car(Vehicle):\n",
    "    pass\n",
    "class Petrol(Car):\n",
    "    pass\n",
    "print(issubclass(Car, Vehicle))  # (subclass, class)\n",
    "print(issubclass(Petrol, Vehicle)) \n",
    "print(issubclass(Petrol, (Vehicle,str,int))) \n",
    "print(issubclass(Car, (str,int))) "
   ]
  },
  {
   "cell_type": "code",
   "execution_count": 1,
   "id": "aa0b514c-579a-4380-b01f-058c417a0a0b",
   "metadata": {},
   "outputs": [
    {
     "name": "stdout",
     "output_type": "stream",
     "text": [
      "<str_iterator object at 0x00000194BCFE8F40>\n",
      "<list_iterator object at 0x00000194BCFEB6A0>\n",
      "<set_iterator object at 0x00000194BD3AD1C0>\n",
      "<dict_keyiterator object at 0x00000194BD3A1620>\n",
      "hey\n",
      "hello\n",
      "buddy\n",
      "<callable_iterator object at 0x00000194BCFEBC10>\n",
      "2\n",
      "1\n",
      "8\n",
      "6\n",
      "7\n",
      "8\n",
      "9\n",
      "7\n",
      "6\n",
      "a: <callable_iterator object at 0x00000194BCFEB6A0>\n"
     ]
    }
   ],
   "source": [
    "# 39. iter(object,[sentinel]):\n",
    "\n",
    "print(iter(\"hey\"))\n",
    "print(iter([\"hey\"]))\n",
    "print(iter({\"hey\"}))\n",
    "print(iter({\"hey\":1}))\n",
    "#print(iter(1)) #TypeError: 'int' object is not iterable\n",
    "\n",
    "l=iter([\"hey\",\"hello\",\"buddy\"])\n",
    "print(next(l))\n",
    "print(next(l))\n",
    "print(next(l))\n",
    "#next(l) #StopIteration: \n",
    "\n",
    "#iter(myfun,sentinel) #sentinel works only when callable\n",
    "print(iter(type(\"hey\"),5))\n",
    "import random\n",
    "def demo():\n",
    "    return random.randrange(1,10)\n",
    "a=iter(demo,4)\n",
    "while True:\n",
    "    try:\n",
    "        print(next(a))\n",
    "    except:\n",
    "        print(\"a:\",a)\n",
    "        break"
   ]
  },
  {
   "cell_type": "code",
   "execution_count": 11,
   "id": "3a83a032-2cc1-43d8-9abf-df301e92dcf9",
   "metadata": {},
   "outputs": [
    {
     "name": "stdout",
     "output_type": "stream",
     "text": [
      "len of str: 3\n",
      "len of list: 4\n",
      "<map object at 0x00000194BD094CA0>\n",
      "1\n",
      "2\n",
      "3\n",
      "4\n",
      "<list_iterator object at 0x00000194BE6A9180>\n"
     ]
    }
   ],
   "source": [
    "# 40. len():  ->  Returns a length of object: sequence-> string,byte,tuple,list,byte /collection=> dict,set,frozenset\n",
    "\n",
    "print(\"len of str:\",len(\"hey\"))\n",
    "print(\"len of list:\",len([1,2,3,4]))\n",
    "#length with type\n",
    "#len(type(\"hey\")) #TypeError: object of type 'type' has no len()\n",
    "#len(str),len(list),len(dict) \n",
    "\n",
    "#length with map\n",
    "a = map(str,range(1,5))\n",
    "print(a)\n",
    "print(next(a))\n",
    "print(next(a))\n",
    "print(next(a))\n",
    "print(next(a))\n",
    "#len(a) #TypeError: object of type 'map' has no len()\n",
    "\n",
    "#length with iter\n",
    "b=iter([1,2,3,4])\n",
    "print(b)\n",
    "#print(len(b)) #TypeError: object of type 'list_iterator' has no len()"
   ]
  },
  {
   "cell_type": "code",
   "execution_count": 28,
   "id": "f8b5cdd9-052e-4983-83f9-a50bfd037d0c",
   "metadata": {},
   "outputs": [
    {
     "name": "stdout",
     "output_type": "stream",
     "text": [
      "list [1, 2, 3, 4]\n",
      "list of list: [1, 2, 3, 4]\n",
      "type casting tuple: [1, 2, 3]\n",
      "type casting set: [1, 2, 3]\n",
      "type casting string: ['h', 'e', 'y']\n",
      "<list_iterator object at 0x00000194BCFEBF70>\n",
      "iter to list: [1, 2, 3, 4]\n",
      "map to list: [1, 2, 3, 4, 5, 6, 7, 8, 9]\n",
      "[1, 2, 3]\n",
      "True\n",
      "True\n",
      "1738371445696 1738371445696\n",
      "[1, 2, 3]\n",
      "True\n",
      "False\n",
      "1738371445696 1738371440512\n"
     ]
    }
   ],
   "source": [
    "# 41. list([iterable]): \n",
    "\n",
    "l=list()\n",
    "l.append(1)\n",
    "l.extend([2,3,4])\n",
    "print(\"list\",l)\n",
    "\n",
    "# list of list\n",
    "l=list([1,2,3,4])\n",
    "print(\"list of list:\",l)\n",
    "\n",
    "# type casting\n",
    "print(\"type casting tuple:\",list((1,2,3)))\n",
    "print(\"type casting set:\",list({1,2,3}))\n",
    "print(\"type casting string:\",list(\"hey\"))\n",
    "\n",
    "# iter object \n",
    "l=iter([1,2,3,4])\n",
    "print(l)\n",
    "print(\"iter to list:\",list(l))\n",
    "\n",
    "# map object\n",
    "m=map(int,range(1,10))\n",
    "print(\"map to list:\",list(m))\n",
    "\n",
    "# list copies\n",
    "a=[1,2,3]\n",
    "b=a\n",
    "print(b)\n",
    "print(a==b)    ## compare equality of two objects\n",
    "print(a is b)  ## compare identity of two object: checks object memory locations\n",
    "print(id(a),id(b))\n",
    "\n",
    "b=list(a)\n",
    "print(b)\n",
    "print(a==b)    ## compare equality of two objects\n",
    "print(a is b)  ## compare identity of two object: checks object memory locations\n",
    "print(id(a),id(b))"
   ]
  },
  {
   "cell_type": "code",
   "execution_count": 10,
   "id": "202df252-07cc-4bdb-a425-a2da466a4197",
   "metadata": {},
   "outputs": [
    {
     "name": "stdout",
     "output_type": "stream",
     "text": [
      "addition: [2, 4, 6, 8, 10]\n",
      "string upper HEY\n",
      "combine two lists: [6, 8, 10, 12]\n",
      "length of each string: [5, 6, 6]\n"
     ]
    }
   ],
   "source": [
    "# 42. map(function,iterable): Returns the specified iterator with the specified function applied to each item.\n",
    "\n",
    "#Ex1:\n",
    "def addition(n):\n",
    "    return n+n\n",
    "r1 = map(addition,[1,2,3,4,5])\n",
    "print(\"addition:\",list(r1))\n",
    "\n",
    "#Ex2:\n",
    "def upper(s):\n",
    "    return s.upper()\n",
    "r2 = map(upper,\"hey\")\n",
    "print(\"string upper\", \"\".join(r2))\n",
    "\n",
    "#Ex3:\n",
    "def lists(l1,l2):\n",
    "    return l1+l2\n",
    "r3 = map(lists,[1,2,3,4],[5,6,7,8])\n",
    "print(\"combine two lists:\",list(r3))\n",
    "\n",
    "#Ex4:\n",
    "def myfunc(n):\n",
    "  return len(n)\n",
    "x = map(myfunc, ('apple', 'banana', 'cherry'))\n",
    "print(\"length of each string:\",list(x))"
   ]
  },
  {
   "cell_type": "code",
   "execution_count": 49,
   "id": "805ed9ab-999b-4710-ac67-45e09820c87a",
   "metadata": {},
   "outputs": [
    {
     "name": "stdout",
     "output_type": "stream",
     "text": [
      "iterable: 33\n",
      "default with iterable: 4\n",
      "default without iterable: 100\n",
      "*args: 4\n",
      "string compare: dog\n",
      "97\n",
      "100\n",
      "string with upper: a\n",
      "string with upper key: Z\n",
      "string with upper key: Z\n",
      "string compare length: apple\n",
      "string compare: dog\n",
      "maximum is: 267\n",
      "maximum is: 267\n"
     ]
    }
   ],
   "source": [
    "# 43. max() & min():  \n",
    "\n",
    "# max(iterable,[key,default]): iterable (key & default) \n",
    "# max(arg1,arg2,*args[,key]): two more arguments (key & no-default)-Positional\n",
    "# min(iterable,[key,default]): iterable (key & default) \n",
    "# min(arg1,arg2,*args[,key]): two more arguments (key & no-default)-Positional \n",
    "\n",
    "# 1. iterable\n",
    "print(\"iterable:\",                 max([1,2,33,4]))\n",
    "print(\"default with iterable:\",    max([1,2,3,4],default=100))\n",
    "print(\"default without iterable:\", max([],default=100))\n",
    "\n",
    "# 2. two or more arguments\n",
    "print(\"*args:\",      max(1,2,3,4))\n",
    "# string compare\n",
    "print(\"string compare:\",  max(\"apple\",\"dog\"))  ## compare with ASCII values\n",
    "print(ord('a'))\n",
    "print(ord('d')) # d ASCII value is more \n",
    "# with key \n",
    "print(\"string with upper:\",  max(\"a\",\"Z\")) \n",
    "print(\"string with upper key:\",  max(\"a\",\"Z\",key=str.upper))  \n",
    "print(\"string with upper key:\",  max(\"a\",\"Z\",key=str.lower))  \n",
    "print(\"string compare length:\",  max(\"apple\",\"dog\",key=len))  \n",
    "print(\"string compare:\",  max(\"apple\",\"dog\"))  \n",
    "# with key custom functions\n",
    "def sumDigit(n):\n",
    "    c=0\n",
    "    while(n):\n",
    "        c+=n%10\n",
    "        n=int(n/10)\n",
    "    return c\n",
    "print(\"maximum is:\", max([100,327,267,59,40], key=sumDigit))\n",
    "print(\"maximum is:\", max(100,327,267,59,40, key=sumDigit))"
   ]
  },
  {
   "cell_type": "code",
   "execution_count": 48,
   "id": "633c15a2-63ad-4ae1-ba88-07684493866e",
   "metadata": {},
   "outputs": [
    {
     "name": "stdout",
     "output_type": "stream",
     "text": [
      "<class 'bytes'>\n",
      "<class 'memoryview'>\n",
      "<memory at 0x000001A583311000>\n",
      "b'hey'\n",
      "b'hey'\n",
      "[104, 101, 121]\n",
      "bytearray(b'hey')\n",
      "<class 'bytearray'>\n",
      "bytearray(b'hey')\n",
      "b'h'\n",
      "bytearray(b'Bey')\n"
     ]
    }
   ],
   "source": [
    "# 44. memoryview(): -> buffer protocol: access inter data of object(bytes/bytearray)-> normally C-API level\n",
    "\n",
    "# bytes()\n",
    "a = b'hey'\n",
    "print(type(a))\n",
    "v = memoryview(a)\n",
    "print(type(v))\n",
    "print(v)\n",
    "print(v.obj)\n",
    "print(v.tobytes())\n",
    "print(v.tolist())\n",
    "chr(104)\n",
    "chr(101)\n",
    "\n",
    "# bytearray -> mutable\n",
    "a = bytearray(b'hey')\n",
    "print(a)\n",
    "print(type(a))\n",
    "b = memoryview(a)\n",
    "print(b.obj)\n",
    "print(b[0:1].tobytes())\n",
    "b[0:1]= b'B'\n",
    "print(b.obj)  ## bytes works only in ASCII Literals"
   ]
  },
  {
   "cell_type": "code",
   "execution_count": 60,
   "id": "0c5056ce-019e-4e4a-b366-42692a0c9867",
   "metadata": {},
   "outputs": [
    {
     "name": "stdout",
     "output_type": "stream",
     "text": [
      "<list_iterator object at 0x000001A581868760>\n",
      "hi\n",
      "hello\n",
      "how\n",
      "end of iteration\n",
      "1\n",
      "2\n",
      "3\n",
      "end of iteration\n"
     ]
    }
   ],
   "source": [
    "# 45. next(iterator[,default]): Retrive next item in iterator (__next__)\n",
    "\n",
    "l = iter([\"hi\",\"hello\",\"how\"])\n",
    "print(l)\n",
    "print(next(l))\n",
    "print(next(l))\n",
    "print(next(l))\n",
    "#print(next(l)) #StopIteration \n",
    "print(next(l,\"end of iteration\")) #StopIteration error instead we can wrote deafult\n",
    "\n",
    "ls = iter([1,2,3])\n",
    "print(ls.__next__())\n",
    "print(ls.__next__())\n",
    "print(ls.__next__()) #StopIteration \n",
    "print(next(ls,\"end of iteration\"))"
   ]
  },
  {
   "cell_type": "code",
   "execution_count": 67,
   "id": "71cd5d2a-2c5b-4b9c-a7f7-3462a878bb9f",
   "metadata": {},
   "outputs": [
    {
     "name": "stdout",
     "output_type": "stream",
     "text": [
      "<object object at 0x000001A582A7D2C0>\n",
      "<class 'object'>\n",
      "['__class__', '__delattr__', '__dir__', '__doc__', '__eq__', '__format__', '__ge__', '__getattribute__', '__gt__', '__hash__', '__init__', '__init_subclass__', '__le__', '__lt__', '__ne__', '__new__', '__reduce__', '__reduce_ex__', '__repr__', '__setattr__', '__sizeof__', '__str__', '__subclasshook__']\n",
      "False\n",
      "False\n"
     ]
    }
   ],
   "source": [
    "# 46. object(): \n",
    "\n",
    "\"\"\"class object is base for all classes-> it has all methods that are common to all instances of classes,\n",
    "can't assign attributes\"\"\" \n",
    "\n",
    "# instantiation \n",
    "obj = object()\n",
    "print(obj)\n",
    "print(type(obj))\n",
    "print(dir(obj))\n",
    "\n",
    "# compare objects: every object in python is unique & stores also separate memory location\n",
    "a = object()\n",
    "b = object()\n",
    "print(a is b)\n",
    "print(a==b)\n"
   ]
  },
  {
   "cell_type": "code",
   "execution_count": 80,
   "id": "9504080e-0808-4e4a-9036-aa393966da05",
   "metadata": {},
   "outputs": [
    {
     "name": "stdout",
     "output_type": "stream",
     "text": [
      "0o1\n",
      "0o2\n",
      "0o12\n",
      "-0o1\n",
      "0b1010 0o12\n",
      "0xa 0o12\n",
      "12\n",
      "0o12\n"
     ]
    }
   ],
   "source": [
    "# 47. oct(): only intergers\n",
    "\n",
    "print(oct(1))\n",
    "print(oct(2))\n",
    "print(oct(10))\n",
    "print(oct(-1))\n",
    "#print(oct(1.0)) # TypeError: 'float' object cannot be interpreted as an integer\n",
    "print(bin(10),oct(0b1010))\n",
    "print(hex(10),oct(0xa)) \n",
    "print(format(10,'o'))\n",
    "print(format(10,'#o'))"
   ]
  },
  {
   "cell_type": "code",
   "execution_count": 83,
   "id": "f9965ea6-8a86-494f-8875-25df5151ff69",
   "metadata": {},
   "outputs": [
    {
     "name": "stdout",
     "output_type": "stream",
     "text": [
      "64\n",
      "4\n"
     ]
    }
   ],
   "source": [
    "# 48. pow(base,exp[,mod]):\n",
    "\n",
    "#Example 1: x**y\n",
    "print(pow(4, 3))   # 4**3\n",
    "\n",
    "#Example 2: x**y%z\n",
    "print(pow(4,3,5))  # 4 * 4 * 4) % 5\n"
   ]
  },
  {
   "cell_type": "code",
   "execution_count": null,
   "id": "93101563-c481-44ce-a637-2b384b25054b",
   "metadata": {},
   "outputs": [],
   "source": [
    "# 49. property():  Two types Property Function & Property Decorator.\n",
    "\n",
    "#Property Decorator:\n",
    "class Person:\n",
    "    def __init__(self,name):\n",
    "        self.name = name    \n",
    "    @property\n",
    "    def name(self):\n",
    "        print(\"Getting Name:\")\n",
    "        return self.name\n",
    "    @name.setter    \n",
    "    def name(self,name):\n",
    "        print(\"set the value:\")\n",
    "        self.name = name\n",
    "    @name.deleter    \n",
    "    def name(self):\n",
    "        print(\"Deleting Value:\")\n",
    "        del self.name\n",
    "x=Person('naresh')\n",
    "print(x.name)\n",
    "x.name='nani'\n",
    "print(x.name)\n",
    "del x.name\n",
    "\n",
    "#property(fget,fset,fdel,doc)\n",
    "class City:\n",
    "    def __init__(self,name):\n",
    "        self.name = name\n",
    "    def get_name(self):\n",
    "        print(\"Getting Name:\")\n",
    "        return self.name\n",
    "    def set_name(self,name):\n",
    "        print(\"set the value\")\n",
    "        self.name = name\n",
    "    def del_name(self):\n",
    "        print(\"Deleting Value:\")\n",
    "        del self.name\n",
    "        fun = property(get_name,set_name,del_name,doc='name of the person')\n",
    "y=City('Banalore')  \n",
    "print(y.name)  #get\n",
    "y.name='Vizag'  #set\n",
    "print(y.name)\n",
    "del y.name       #del\n",
    "#print(City.fun.__doc__) #doc"
   ]
  },
  {
   "cell_type": "code",
   "execution_count": 3,
   "id": "e6474104-3625-4d70-8719-542c3cda37f9",
   "metadata": {},
   "outputs": [
    {
     "data": {
      "text/plain": [
       "range(3, 20, 2)"
      ]
     },
     "execution_count": 3,
     "metadata": {},
     "output_type": "execute_result"
    }
   ],
   "source": [
    "# 50. range(start, stop, step): -> immutable sequence type\n",
    "\"\"\" start: postion start (optional) default =0\n",
    "    stop: postion stop (Required)\n",
    "    step: increment (optional)       default=1 \"\"\"\n",
    "\n",
    "range(6)  \n",
    "range(3,6)\n",
    "range(3,20,2)"
   ]
  },
  {
   "cell_type": "code",
   "execution_count": 11,
   "id": "6c4936ea-c55e-4536-9d0e-212f751fd8d5",
   "metadata": {},
   "outputs": [
    {
     "name": "stdout",
     "output_type": "stream",
     "text": [
      "hey\n",
      "hi--hello\n",
      "hi cool hello\n",
      "hi hello!\n"
     ]
    },
    {
     "data": {
      "text/plain": [
       "'something going to be display\\n'"
      ]
     },
     "execution_count": 11,
     "metadata": {},
     "output_type": "execute_result"
    }
   ],
   "source": [
    "# 51. print(*objects,sep=' ',end='\\n',file=sys.stdout,flush=False)\n",
    "\n",
    "print(\"hey\")\n",
    "print(\"hi\",\"hello\",sep='--')\n",
    "print(\"hi\",\"hello\",sep=' cool ')\n",
    "print(\"hi\",\"hello\", end=\"!\\n\") #-> end('') -Returns one line in iterations\n",
    "\n",
    "f=open(\"test.txt\",\"w\")\n",
    "print(\"something going to be display\",file=f)\n",
    "f.close()\n",
    "r = open(\"test.txt\",\"r\")\n",
    "r.read()\n",
    "\n"
   ]
  },
  {
   "cell_type": "code",
   "execution_count": 26,
   "id": "20fc2dea-0046-46f9-a5f7-94584b95e476",
   "metadata": {},
   "outputs": [
    {
     "name": "stdout",
     "output_type": "stream",
     "text": [
      "True\n",
      "False\n",
      "1.25\n",
      "1.25\n",
      "Decimal('1.25')\n",
      "2023-06-22 10:59:57.839206\n",
      "2023-06-22 10:59:57.839206\n",
      "datetime.datetime(2023, 6, 22, 10, 59, 57, 839206)\n"
     ]
    },
    {
     "data": {
      "text/plain": [
       "datetime.datetime(2023, 6, 22, 10, 59, 57, 839206)"
      ]
     },
     "execution_count": 26,
     "metadata": {},
     "output_type": "execute_result"
    }
   ],
   "source": [
    "# 52. repr(object): \n",
    "\n",
    "\"\"\" repr: string represents object state in an unambiguous way,\n",
    "          unambiguous way means string representation should be clear and specific, \n",
    "          allowing someone to recreate the exact object using the generated string. \n",
    "          useful when debugging or logging, consistent and identifiable representation of the object's state.\n",
    "    str: string represents more-friendly\"\"\" \n",
    "\n",
    "print( str(3)==str('3'))\n",
    "print( repr(3)==repr('3'))\n",
    "\n",
    "from decimal import Decimal\n",
    "a = Decimal(1.25)\n",
    "print(a)\n",
    "print(str(a))\n",
    "print(repr(a))\n",
    "\n",
    "import datetime\n",
    "today = datetime.datetime.today()\n",
    "print(today)\n",
    "print(str(today))\n",
    "print(repr(today))\n",
    "\n",
    "eval(repr(today)) ### eval(str(today))-> error "
   ]
  },
  {
   "cell_type": "code",
   "execution_count": 32,
   "id": "67e8b704-17f0-44c8-b211-bfa6f05c914d",
   "metadata": {},
   "outputs": [
    {
     "name": "stdout",
     "output_type": "stream",
     "text": [
      "[5, 4, 3, 2, 1]\n",
      "yeh\n",
      "54321"
     ]
    }
   ],
   "source": [
    "# 53. reserved(seq): reverse iterator\n",
    "\n",
    "l = [1,2,3,4,5]\n",
    "print(   list(reversed(l)))\n",
    "print(   \"\".join(reversed(\"hey\")))\n",
    "\n",
    "for i in reversed(l):\n",
    "    print(i,end=\"\")"
   ]
  },
  {
   "cell_type": "code",
   "execution_count": 41,
   "id": "9e542c84-2d98-4ca4-a099-85a405b15a22",
   "metadata": {},
   "outputs": [
    {
     "name": "stdout",
     "output_type": "stream",
     "text": [
      "4\n",
      "2\n",
      "2\n",
      "1\n",
      "1.0\n",
      "1.2\n",
      "1.23\n",
      "1.235\n",
      "1.2346\n",
      "1.23457\n"
     ]
    }
   ],
   "source": [
    "# 54. round(number,[,ndigit]): number rounded, ndigit-how many digits\n",
    "\n",
    "print(round(4.5))\n",
    "print(round(2))\n",
    "print(round(2.5))\n",
    "print(round(1.2345678,None))\n",
    "print(round(1.2345678,0))\n",
    "print(round(1.2345678,1))\n",
    "print(round(1.2345678,2))\n",
    "print(round(1.2345678,3))\n",
    "print(round(1.2345678,4))\n",
    "print(round(1.2345678,5))"
   ]
  },
  {
   "cell_type": "code",
   "execution_count": 72,
   "id": "1eece5d8-4e3e-43cf-b56c-d8321515f9f2",
   "metadata": {},
   "outputs": [
    {
     "name": "stdout",
     "output_type": "stream",
     "text": [
      "{}\n",
      "<class 'dict'>\n",
      "<class 'set'>\n",
      "set()\n",
      "<class 'set'>\n",
      "{'hey', 1}\n",
      "{'hey', (1, 2), 1}\n",
      "{2, 3, 4, 5, 6}\n",
      "[2, 3, 4, 5, 6]\n",
      "{'hi', 'hello'}\n",
      "{False, 1, 2, 'hi', (1, 2, 3), None}\n",
      "{False, 1, 2, 'hi', 4, (1, 2, 3), None}\n",
      "{False, 1, 2, 'hi', 4, (1, 2, 3)}\n",
      "unordered: {6, 7, 8, 9, 10}\n",
      "{0, 1, 2, 3, 4, 5, 6, 7, 8, 9}\n"
     ]
    }
   ],
   "source": [
    "# 55. set():\n",
    "\n",
    "''' class set([iterable])-> built-in class\n",
    "    sets are mutable, unordered, doesn't allow duplicate values, \n",
    "    sets allows inside sets immutable datatypes (hashable) only supports mutable not support(unhasable)'''\n",
    "# instantiation\n",
    "a={}\n",
    "print(a)\n",
    "print(type(a))\n",
    "b={1,2,3}\n",
    "print(type(b))\n",
    "c= set() #-> empty set initialization only with set method\n",
    "print(c)\n",
    "print(type(c))\n",
    "\n",
    "'''immutable types only supports inside sets because hashable, mutable are unhasable'''\n",
    "print({1,'hey'})\n",
    "#print({1,'hey',[1,2]}) #TypeError: unhashable type: 'list'\n",
    "print({1,'hey',(1,2)})  #immutable types only supports inside sets\n",
    "\n",
    "# sets doesn't allow duplicate values\n",
    "a= [2,2,3,3,4,4,5,5,6]\n",
    "print(set(a))\n",
    "print(list(set(a)))\n",
    "c=['hi','hello','hi']\n",
    "print(set(c))\n",
    "\n",
    "# mutable\n",
    "'''sets are unordered'''\n",
    "s= {1,2,'hi',None,True,False,(1,2,3)}\n",
    "print(s)\n",
    "s.add(4)\n",
    "print(s)\n",
    "s.remove(None)\n",
    "print(s)\n",
    "\n",
    "# unordered\n",
    "print(\"unordered:\",set([10,9,6,8,7,10]))\n",
    "\n",
    "# built-in functions\n",
    "print(   set(range(10)))"
   ]
  },
  {
   "cell_type": "code",
   "execution_count": 92,
   "id": "f60dcccb-ac48-4485-b636-387fd44c65d3",
   "metadata": {},
   "outputs": [
    {
     "name": "stdout",
     "output_type": "stream",
     "text": [
      "[1, 2]\n",
      "[2, 3, 4]\n",
      "[1, 3, 5]\n",
      "[2, 4]\n",
      "reverse: [6, 5, 4, 3, 2, 1]\n",
      "<class 'slice'>\n",
      "[1, 2]\n",
      "[1, 3, 5]\n",
      "[6, 5, 4, 3, 2, 1]\n"
     ]
    }
   ],
   "source": [
    "# 56. slice(): Returns slice object\n",
    "''' class slice(stop)\n",
    "    class sclie(start,stop[,step])'''\n",
    "\n",
    "l =[1,2,3,4,5,6]\n",
    "print(l[:2])\n",
    "print(l[1:4])\n",
    "print(l[0:7:2])\n",
    "print(l[1:5:2])\n",
    "print(\"reverse:\",l[::-1])\n",
    "\n",
    "s = slice(None,2,None)\n",
    "print(type(s))\n",
    "print(l[s])\n",
    "s1 = slice(0,None,2)\n",
    "print(l[s1])\n",
    "bw = slice(None,None,-1) ## reverse l[::-1])\n",
    "print(l[bw]) "
   ]
  },
  {
   "cell_type": "code",
   "execution_count": 105,
   "id": "179cca4e-6c37-491c-91d9-d73cefb0b4c1",
   "metadata": {},
   "outputs": [
    {
     "name": "stdout",
     "output_type": "stream",
     "text": [
      "['e', 'h', 'y']\n",
      "['a', 'c', 'd']\n",
      "['D', 'Z', 'a', 'b', 'c', 'd']\n",
      "[1, 2, 4, 7]\n",
      "[-99, -10, -1, 0, 1, 2, 4, 7]\n",
      "[0, 1, -1, 2, 4, 7, -10, -99]\n",
      "['alex', 'hello', 'hi']\n",
      "['hi', 'alex', 'hello']\n",
      "['alex', 'hello', 'hi']\n",
      "['BB', 'DD', 'aa', 'cc']\n",
      "['aa', 'BB', 'cc', 'DD']\n",
      "['hi', 'hello', 'alex']\n",
      "[7, 4, 2, 1, 0, -1, -10, -99]\n"
     ]
    }
   ],
   "source": [
    "# 57. sorted():\n",
    "\n",
    "'''sorted(iterable,*,key=None,reverse=False): Returns a new sorted list in iterable items'''\n",
    "\n",
    "print(sorted(\"hey\"))\n",
    "print(sorted(['d','c','a']))\n",
    "print(sorted(['d','c','a','b','D','Z']))  ## ASCII: uppercase letters first \n",
    "print(sorted([7,4,2,1]))\n",
    "print(sorted([7,4,2,1,0,-10,-1,-99]))\n",
    "print(sorted([7,4,2,1,0,-10,-1,-99],key=abs))\n",
    "\n",
    "c=['hi','hello','alex']\n",
    "print(sorted(c))\n",
    "print(sorted(c,key=len))\n",
    "print(sorted(c))\n",
    "\n",
    "d=['aa','BB','DD','cc']\n",
    "print(sorted(d))\n",
    "print(sorted(d,key=str.lower))\n",
    "\n",
    "print(sorted(c,reverse=True))\n",
    "print(sorted([7,4,2,1,0,-10,-1,-99],reverse=True)) ## by default reverse=False\n"
   ]
  },
  {
   "cell_type": "code",
   "execution_count": 113,
   "id": "92655f74-0898-48fc-9d33-3748ad62c32a",
   "metadata": {},
   "outputs": [
    {
     "name": "stdout",
     "output_type": "stream",
     "text": [
      "<__main__.Car object at 0x00000145269BC8B0>\n",
      "('instance method', <__main__.Car object at 0x00000145269BC8B0>)\n",
      "('class method', <class '__main__.Car'>)\n",
      "static method\n"
     ]
    }
   ],
   "source": [
    "# 58. staticmethod : no implicit first argument \n",
    "\n",
    "class Car:\n",
    "    def instance_method(self):\n",
    "        return \"instance method\", self\n",
    "    @classmethod\n",
    "    def class_method(cls):\n",
    "        return \"class method\", cls\n",
    "    @staticmethod\n",
    "    def static_method():\n",
    "        return \"static method\"\n",
    "\n",
    "c= Car()\n",
    "print(c)\n",
    "print(c.instance_method())\n",
    "print(c.class_method())\n",
    "print(c.static_method())"
   ]
  },
  {
   "cell_type": "code",
   "execution_count": 122,
   "id": "6ea323ed-243c-4ca7-88d3-7cc8dbbdfffb",
   "metadata": {},
   "outputs": [
    {
     "name": "stdout",
     "output_type": "stream",
     "text": [
      "1\n",
      "{}\n",
      "[]\n",
      "[1, 2, 3]\n",
      "<class 'str'>\n",
      "Stle\n",
      "Ståle\n"
     ]
    }
   ],
   "source": [
    "# str():\n",
    "\n",
    "''' class str(object='')\n",
    "    class str(object=b'',encoding='utf-8',errors='strict')'''\n",
    "\n",
    "print(str(1))\n",
    "print(str({}))\n",
    "print(str([]))\n",
    "a=str([1,2,3])\n",
    "print(a)\n",
    "print(type(a))\n",
    "\n",
    "x=bytes('Ståle',encoding='utf-8')\n",
    "print(str(x,encoding='ascii',errors='ignore'))\n",
    "print(str(x,encoding='utf-8'))"
   ]
  },
  {
   "cell_type": "code",
   "execution_count": 130,
   "id": "5bf0e92d-aebd-4651-84d9-b78547398c9a",
   "metadata": {},
   "outputs": [
    {
     "name": "stdout",
     "output_type": "stream",
     "text": [
      "6\n",
      "6\n",
      "6\n",
      "3\n",
      "key: 20\n",
      "key with float 20.5\n"
     ]
    }
   ],
   "source": [
    "# 59. sum(iterable,/,start=0): -> sum of the iterables items only numbers, not for strings\n",
    "\n",
    "print(sum([1,2,3]))\n",
    "print(sum({1,2,3}))\n",
    "print(sum((1,2,3)))\n",
    "print(sum({1:'foo',2:'bar'}))\n",
    "\n",
    "print(\"key:\",sum([1,2,3,4],10)) # python 3.8 start is like keyword argument \n",
    "print(\"key with float\",sum([1,2,3,4.5],10))"
   ]
  },
  {
   "cell_type": "code",
   "execution_count": 133,
   "id": "4f0f7908-6272-4150-b588-9d4579cc0313",
   "metadata": {},
   "outputs": [
    {
     "name": "stdout",
     "output_type": "stream",
     "text": [
      "Naresh Reddy\n"
     ]
    }
   ],
   "source": [
    "# 60. super(): to access the parent/sibling class\n",
    "\n",
    "class Driver:\n",
    "    def __init__(self,f_name,l_name):\n",
    "        self.f_name = f_name\n",
    "        self.l_name = l_name\n",
    "    def full_name(self):\n",
    "        print(self.f_name +\" \"+self.l_name)\n",
    "class License(Driver):\n",
    "    def __init__(self,f_name,l_name):\n",
    "        super().__init__(f_name,l_name)\n",
    "\n",
    "x = License(\"Naresh\",\"Reddy\")\n",
    "x.full_name()"
   ]
  },
  {
   "cell_type": "code",
   "execution_count": 143,
   "id": "ba8979b0-310c-433e-a85b-8c0b854dc8bf",
   "metadata": {},
   "outputs": [
    {
     "name": "stdout",
     "output_type": "stream",
     "text": [
      "()\n",
      "<class 'tuple'>\n",
      "(1, 2, 3)\n",
      "(1, 2, 3)\n",
      "(1, 2, 3)\n",
      "(1, 2, 3)\n",
      "(1, 2, 'hey')\n",
      "('h', 'e', 'y')\n",
      "('hi', 2, 3)\n"
     ]
    }
   ],
   "source": [
    "# 61. tuple([iterable]): immutable-> should be give iterable item like lists,tuples,range\n",
    "\n",
    "#print(tuple(1,2,3)) # should be give iterable item \n",
    "t = tuple()\n",
    "print(t)\n",
    "print(type(t))\n",
    "print(tuple([1,2,3]))\n",
    "print(tuple((1,2,3)))\n",
    "print(tuple({1,2,3}))\n",
    "print(tuple({1:'a',2:'b',3:'c'}))\n",
    "print(tuple([1,2,\"hey\"]))\n",
    "print(tuple(\"hey\"))\n",
    "\n",
    "## immutable\n",
    "a = (1,2,3)\n",
    "#a[0]='hi'\n",
    "#print(a) #TypeError: 'tuple' object does not support item assignment because immutable\n",
    "a = list(a)\n",
    "a[0]='hi'\n",
    "print(tuple(a))"
   ]
  },
  {
   "cell_type": "code",
   "execution_count": 159,
   "id": "ee0759e5-a529-446b-9fde-f12ecfc17e6b",
   "metadata": {},
   "outputs": [
    {
     "name": "stdout",
     "output_type": "stream",
     "text": [
      "<class 'str'>\n",
      "<class 'list'>\n",
      "<class 'tuple'>\n",
      "<class 'dict'>\n",
      "<class 'set'>\n",
      "<class 'int'>\n",
      "True\n",
      "False\n",
      "<class '__main__.Car'>\n",
      "<class 'type'>\n",
      "(<class 'object'>,)\n",
      "{'__doc__': 'Car class', 'speed': 100, '__module__': '__main__', '__dict__': <attribute '__dict__' of 'Car' objects>, '__weakref__': <attribute '__weakref__' of 'Car' objects>}\n",
      "Car class\n",
      "<__main__.Vehicle object at 0x00000145268C8280>\n",
      "<class '__main__.Vehicle'>\n",
      "<class 'type'>\n",
      "(<class 'object'>,)\n",
      "{'__module__': '__main__', '__doc__': ' car class', 'model': 'Honda', 'speed': 100, '__dict__': <attribute '__dict__' of 'Vehicle' objects>, '__weakref__': <attribute '__weakref__' of 'Vehicle' objects>}\n",
      " car class\n"
     ]
    }
   ],
   "source": [
    "# 62. type():\n",
    "\n",
    "'''class type(object)\n",
    "   class type(name,bases,dict)\n",
    "       return type of object => object.__class__ '''\n",
    "\n",
    "print(type(\"\"))\n",
    "print(type([]))\n",
    "print(type(()))\n",
    "print(type({}))\n",
    "print(type(set()))\n",
    "print(type(1))\n",
    "print(type(1)==int)\n",
    "print(type(1)==list)\n",
    "\n",
    "#class type(name,bases,dict)\n",
    "c = type(\"Car\", (object,), {'__doc__':'Car class','speed':100 })\n",
    "print(c)\n",
    "print(c.__class__)\n",
    "print(c.__bases__)\n",
    "print(c.__dict__)\n",
    "print(c.__doc__)\n",
    "\n",
    "class Vehicle:\n",
    "    \"\"\" car class\"\"\"\n",
    "    model = \"Honda\"\n",
    "    speed = 100\n",
    "obj = Vehicle()\n",
    "print(obj)\n",
    "print(Vehicle)\n",
    "print(Vehicle.__class__)\n",
    "print(Vehicle.__bases__)\n",
    "print(Vehicle.__dict__)\n",
    "print(Vehicle.__doc__)\n"
   ]
  },
  {
   "cell_type": "code",
   "execution_count": 172,
   "id": "840f5589-56dc-4300-9b2f-925072ac0e29",
   "metadata": {},
   "outputs": [
    {
     "name": "stdout",
     "output_type": "stream",
     "text": [
      "{'__module__': '__main__', '__doc__': ' car class', 'model': 'Honda', 'speed': 100, '__dict__': <attribute '__dict__' of 'Vehicle' objects>, '__weakref__': <attribute '__weakref__' of 'Vehicle' objects>}\n",
      "{'__module__': '__main__', '__doc__': ' car class', 'model': 'Honda', 'speed': 100, '__dict__': <attribute '__dict__' of 'Vehicle' objects>, '__weakref__': <attribute '__weakref__' of 'Vehicle' objects>}\n",
      "{'a': 5, 'b': 10}\n",
      "{'a': 5, 'b': 10}\n"
     ]
    }
   ],
   "source": [
    "# 63. vars([object]): \n",
    "\n",
    "\"\"\" Returns the __dict__ attribute for a module,class,instance or any object with in a __dict__ attribute,\n",
    "    without arg, act like locals() method \"\"\"\n",
    "\n",
    "#vars() -> act like locals\n",
    "#vars(str)\n",
    "#vars(dict)\n",
    "#vars(tuple)\n",
    "\n",
    "class Vehicle:\n",
    "    \"\"\" car class\"\"\"\n",
    "    model = \"Honda\"\n",
    "    speed = 100\n",
    "print(vars(Vehicle)) ## both are same Vehicle.__dict__\n",
    "print(Vehicle.__dict__)\n",
    "\n",
    "class Num:\n",
    "    \"\"\" car Num\"\"\"\n",
    "    def __init__(self, a=5, b=10):\n",
    "        self.a = a\n",
    "        self.b = b\n",
    "obj = Num()\n",
    "print(vars(obj)) ## both are same Vehicle.__dict__\n",
    "print(obj.__dict__)"
   ]
  },
  {
   "cell_type": "code",
   "execution_count": 177,
   "id": "6098323f-3bd0-49cb-9e83-57349e2953aa",
   "metadata": {},
   "outputs": [
    {
     "name": "stdout",
     "output_type": "stream",
     "text": [
      "<zip object at 0x000001452756AD80>\n",
      "<class 'zip'>\n",
      "{1: 5, 2: 6, 3: 7, 4: 8}\n",
      "[(1, 5), (2, 6), (3, 7), (4, 8)]\n",
      "((1, 5), (2, 6), (3, 7), (4, 8))\n"
     ]
    }
   ],
   "source": [
    "# 64. zip(): combine two or more iterators \n",
    "\n",
    "l1=[1,2,3,4]\n",
    "l2=[5,6,7,8]\n",
    "z = zip(l1,l2)\n",
    "print(z)\n",
    "print(type(z))\n",
    "print(dict(z))\n",
    "print(list(zip(l1,l2)))\n",
    "print(tuple(zip(l1,l2)))"
   ]
  },
  {
   "cell_type": "code",
   "execution_count": 188,
   "id": "ec14a8ed-c7f2-4008-8675-7df3c0a61c02",
   "metadata": {},
   "outputs": [
    {
     "name": "stdout",
     "output_type": "stream",
     "text": [
      "<module 'os' from 'C:\\\\Users\\\\nares\\\\anaconda3\\\\lib\\\\os.py'>\n",
      "<module 'ntpath' from 'C:\\\\Users\\\\nares\\\\anaconda3\\\\lib\\\\ntpath.py'>\n",
      "<module 'os' from 'C:\\\\Users\\\\nares\\\\anaconda3\\\\lib\\\\os.py'>\n",
      "<module 'ntpath' from 'C:\\\\Users\\\\nares\\\\anaconda3\\\\lib\\\\ntpath.py'>\n",
      "<module 'os' from 'C:\\\\Users\\\\nares\\\\anaconda3\\\\lib\\\\os.py'>\n",
      "<module 'ntpath' from 'C:\\\\Users\\\\nares\\\\anaconda3\\\\lib\\\\ntpath.py'>\n",
      "<module 'math' (built-in)>\n",
      "5.0\n",
      "<module 'datetime' from 'C:\\\\Users\\\\nares\\\\anaconda3\\\\lib\\\\datetime.py'>\n",
      "2023-06-22 15:41:51.370437\n"
     ]
    }
   ],
   "source": [
    "# 65. __import__():\n",
    "\n",
    "''' __import__(name,globals=None,locals=None,fromlist=(),level=0)\n",
    "    importlib.import_module() --> both are same\n",
    "    built-ins.__import__\n",
    "    '''\n",
    "\n",
    "import os\n",
    "print(os)\n",
    "print(os.path)\n",
    "\n",
    "import importlib\n",
    "os2 = importlib.import_module('os')\n",
    "print(os2)\n",
    "print(os2.path)\n",
    "\n",
    "os1 = __import__('os')\n",
    "print(os1)\n",
    "print(os1.path)\n",
    "m = __import__('math')\n",
    "print(m)\n",
    "print(m.fabs(-5))\n",
    "dt = __import__('datetime')\n",
    "print(dt)\n",
    "print(dt.datetime.today())"
   ]
  }
 ],
 "metadata": {
  "kernelspec": {
   "display_name": "Python 3 (ipykernel)",
   "language": "python",
   "name": "python3"
  },
  "language_info": {
   "codemirror_mode": {
    "name": "ipython",
    "version": 3
   },
   "file_extension": ".py",
   "mimetype": "text/x-python",
   "name": "python",
   "nbconvert_exporter": "python",
   "pygments_lexer": "ipython3",
   "version": "3.11.5"
  }
 },
 "nbformat": 4,
 "nbformat_minor": 5
}
