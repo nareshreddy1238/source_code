{
 "cells": [
  {
   "cell_type": "markdown",
   "id": "3e334641",
   "metadata": {},
   "source": [
    "# 1. Multi-Threading"
   ]
  },
  {
   "cell_type": "code",
   "execution_count": 1,
   "id": "9508dfd2",
   "metadata": {},
   "outputs": [
    {
     "name": "stdout",
     "output_type": "stream",
     "text": [
      "['Barrier', 'BoundedSemaphore', 'BrokenBarrierError', 'Condition', 'Event', 'ExceptHookArgs', 'Lock', 'RLock', 'Semaphore', 'TIMEOUT_MAX', 'Thread', 'ThreadError', 'Timer', 'WeakSet', '_CRLock', '_DummyThread', '_HAVE_THREAD_NATIVE_ID', '_MainThread', '_PyRLock', '_RLock', '_SHUTTING_DOWN', '__all__', '__builtins__', '__cached__', '__doc__', '__excepthook__', '__file__', '__loader__', '__name__', '__package__', '__spec__', '_active', '_active_limbo_lock', '_after_fork', '_allocate_lock', '_count', '_counter', '_dangling', '_deque', '_enumerate', '_islice', '_limbo', '_main_thread', '_maintain_shutdown_locks', '_make_invoke_excepthook', '_newname', '_os', '_profile_hook', '_register_atexit', '_set_sentinel', '_shutdown', '_shutdown_locks', '_shutdown_locks_lock', '_start_new_thread', '_sys', '_threading_atexits', '_time', '_trace_hook', 'activeCount', 'active_count', 'currentThread', 'current_thread', 'enumerate', 'excepthook', 'functools', 'get_ident', 'get_native_id', 'getprofile', 'gettrace', 'local', 'main_thread', 'setprofile', 'settrace', 'stack_size']\n"
     ]
    }
   ],
   "source": [
    "import threading\n",
    "\n",
    "print(dir(threading))"
   ]
  },
  {
   "cell_type": "markdown",
   "id": "957958f3",
   "metadata": {},
   "source": [
    "# 2. Creating and managing threads"
   ]
  },
  {
   "cell_type": "code",
   "execution_count": null,
   "id": "6ed6919c",
   "metadata": {},
   "outputs": [],
   "source": [
    "import threading\n",
    "\n",
    "def print_thread_names():\n",
    "    print(\"Current thread name:\", threading.current_thread().name)\n",
    "\n",
    "    # Create multiple threads\n",
    "threads = []\n",
    "for i in range(3):\n",
    "    thread = threading.Thread(target=print_thread_names)\n",
    "    threads.append(thread)\n",
    "    thread.start()\n",
    "\n",
    "# Wait for all threads to complete\n",
    "for thread in threads:\n",
    "    thread.join()"
   ]
  },
  {
   "cell_type": "markdown",
   "id": "143f4383",
   "metadata": {},
   "source": [
    "# 3. download multiple files concurrently using threads"
   ]
  },
  {
   "cell_type": "code",
   "execution_count": null,
   "id": "821c617a",
   "metadata": {},
   "outputs": [],
   "source": [
    "import threading\n",
    "import urllib.request\n",
    "def download_file(url, filename):\n",
    "    print(f\"\\nDownloading {filename} from {url}...\")\n",
    "    urllib.request.urlretrieve(url, filename)\n",
    "    print(f\"\\n{filename} downloaded successfully.\")\n",
    "\n",
    "# Create a list of files to download\n",
    "files_to_download = [\n",
    "    {\"url\": \"https://en.wikipedia.org/wiki/British_logistics_in_the_Normandy_campaign\", \"filename\": \"i:\\wfile1\"},\n",
    "    {\"url\": \"https://en.wikipedia.org/wiki/Graph_(abstract_data_type)\", \"filename\": \"i:\\Graph_abstract_data_type\"},\n",
    "    {\"url\": \"https://example.com/\", \"filename\": \"i:\\example\"}\n",
    "]\n",
    "\n",
    "# Create a list to store the threads\n",
    "threads = []\n",
    "\n",
    "# Create a thread for each file and start the download\n",
    "for file_info in files_to_download:\n",
    "    thread = threading.Thread(\n",
    "        target=download_file,\n",
    "        args=(file_info[\"url\"], file_info[\"filename\"])\n",
    "    )\n",
    "    thread.start()\n",
    "    threads.append(thread)\n",
    "\n",
    "# Wait for all threads to complete\n",
    "for thread in threads:\n",
    "    thread.join()"
   ]
  },
  {
   "cell_type": "markdown",
   "id": "3b02093a",
   "metadata": {},
   "source": [
    "# 2. Barrier"
   ]
  },
  {
   "cell_type": "code",
   "execution_count": 2,
   "id": "539725e1",
   "metadata": {},
   "outputs": [
    {
     "name": "stdout",
     "output_type": "stream",
     "text": [
      "Thread-0 is waiting at the barrier.\n",
      "Thread-1 is waiting at the barrier.\n",
      "Thread-2 is waiting at the barrier.\n",
      "Thread-2 has passed the barrier and can continue.\n",
      "Thread-0 has passed the barrier and can continue.\n",
      "Thread-1 has passed the barrier and can continue.\n",
      "All threads have finished.\n"
     ]
    }
   ],
   "source": [
    "import threading\n",
    "\n",
    "# Define a barrier for 3 threads\n",
    "barrier = threading.Barrier(3)\n",
    "\n",
    "def worker_thread(id):\n",
    "    print(f\"Thread-{id} is waiting at the barrier.\")\n",
    "    barrier.wait()\n",
    "    print(f\"Thread-{id} has passed the barrier and can continue.\")\n",
    "\n",
    "# Create and start three worker threads\n",
    "threads = []\n",
    "for i in range(3):\n",
    "    thread = threading.Thread(target=worker_thread, args=(i,))\n",
    "    threads.append(thread)\n",
    "    thread.start()\n",
    "\n",
    "# Wait for all threads to finish\n",
    "for thread in threads:\n",
    "    thread.join()\n",
    "print(\"All threads have finished.\")"
   ]
  },
  {
   "cell_type": "code",
   "execution_count": null,
   "id": "31882ba2",
   "metadata": {},
   "outputs": [],
   "source": [
    "# broken barrier error \n",
    "import threading\n",
    "\n",
    "barrier = threading.Barrier(3)\n",
    "\n",
    "def worker_thread(id):\n",
    "    if id == 2:\n",
    "        raise Exception(\"An exception occurred in Thread-2\")\n",
    "    print(f\"Thread-{id} is waiting at the barrier.\")\n",
    "    barrier.wait()\n",
    "    print(f\"Thread-{id} has passed the barrier and can continue.\")\n",
    "\n",
    "threads = []\n",
    "for i in range(3):\n",
    "    thread = threading.Thread(target=worker_thread, args=(i,))\n",
    "    threads.append(thread)\n",
    "    thread.start()\n",
    "for thread in threads:\n",
    "    thread.join()"
   ]
  },
  {
   "cell_type": "markdown",
   "id": "24464a41",
   "metadata": {},
   "source": [
    "# 3. BoundedSemaphore\n",
    "which is a synchronization primitive that restricts the number of threads that can access a shared resource simultaneously. It's similar to a regular Semaphore, but it has a maximum limit, or \"bound,\" which specifies the maximum number of permits that can be acquired. Once the bounded semaphore reaches its limit, any additional requests to acquire it will block until other threads release their permits."
   ]
  },
  {
   "cell_type": "code",
   "execution_count": null,
   "id": "956acd4d",
   "metadata": {},
   "outputs": [],
   "source": [
    "import threading\n",
    "\n",
    "# Create a BoundedSemaphore with a limit of 2\n",
    "semaphore = threading.BoundedSemaphore(2)\n",
    "\n",
    "def worker_thread(id):\n",
    "    print(f\"Thread-{id} is trying to acquire the semaphore.\")\n",
    "    semaphore.acquire()\n",
    "    print(f\"Thread-{id} has acquired the semaphore and is doing some work.\")\n",
    "    \n",
    "    # Simulate some work\n",
    "    for _ in range(3):\n",
    "        pass\n",
    "    \n",
    "    print(f\"Thread-{id} is releasing the semaphore.\")\n",
    "    semaphore.release()\n",
    "\n",
    "threads = []\n",
    "for i in range(4):\n",
    "    thread = threading.Thread(target=worker_thread, args=(i,))\n",
    "    threads.append(thread)\n",
    "    thread.start()\n",
    "    \n",
    "for thread in threads:\n",
    "    thread.join()\n",
    "print(\"All threads have finished.\")"
   ]
  },
  {
   "cell_type": "code",
   "execution_count": null,
   "id": "a302683f",
   "metadata": {},
   "outputs": [],
   "source": []
  },
  {
   "cell_type": "code",
   "execution_count": null,
   "id": "12b7fd73",
   "metadata": {},
   "outputs": [],
   "source": []
  },
  {
   "cell_type": "code",
   "execution_count": null,
   "id": "392a9e7d",
   "metadata": {},
   "outputs": [],
   "source": []
  },
  {
   "cell_type": "code",
   "execution_count": null,
   "id": "78442588",
   "metadata": {},
   "outputs": [],
   "source": []
  },
  {
   "cell_type": "code",
   "execution_count": null,
   "id": "54868554",
   "metadata": {},
   "outputs": [],
   "source": []
  }
 ],
 "metadata": {
  "kernelspec": {
   "display_name": "Python 3 (ipykernel)",
   "language": "python",
   "name": "python3"
  },
  "language_info": {
   "codemirror_mode": {
    "name": "ipython",
    "version": 3
   },
   "file_extension": ".py",
   "mimetype": "text/x-python",
   "name": "python",
   "nbconvert_exporter": "python",
   "pygments_lexer": "ipython3",
   "version": "3.11.5"
  }
 },
 "nbformat": 4,
 "nbformat_minor": 5
}
